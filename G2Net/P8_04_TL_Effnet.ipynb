{
 "cells": [
  {
   "cell_type": "code",
   "execution_count": 1,
   "id": "19c1506e-8905-464b-8587-303a1021e1a1",
   "metadata": {},
   "outputs": [],
   "source": [
    "import pandas as pd\n",
    "import numpy as np\n",
    "import os\n",
    "import tensorflow as tf\n",
    "from tensorflow import keras\n",
    "from tensorflow.keras import layers as Layer\n",
    "from tensorflow.keras.models import Sequential\n",
    "\n",
    "from tensorflow.keras.applications.resnet_v2 import ResNet50V2\n",
    "from tensorflow.keras.applications.resnet_v2 import preprocess_input\n",
    "\n",
    "import importlib\n",
    "np.set_printoptions(precision=2, suppress=True)\n",
    "pd.options.display.float_format = \"{:,.2f}\".format"
   ]
  },
  {
   "cell_type": "code",
   "execution_count": 2,
   "id": "9f9d9f5e-f154-49e5-8a36-8ce5e7a297c3",
   "metadata": {},
   "outputs": [
    {
     "name": "stdout",
     "output_type": "stream",
     "text": [
      "Tensorflow version:  2.5.0\n",
      "Tensorflow GPU detection:  [PhysicalDevice(name='/physical_device:GPU:0', device_type='GPU')]\n"
     ]
    }
   ],
   "source": [
    "# gpus = tf.config.experimental.list_physical_devices('GPU')\n",
    "# tf.config.experimental.set_virtual_device_configuration(\n",
    "#         gpus[0],\n",
    "#         [tf.config.experimental.VirtualDeviceConfiguration(memory_limit=5000)])\n",
    "# logical_gpus = tf.config.experimental.list_logical_devices('GPU')\n",
    "# print(len(gpus), \"Physical GPUs,\", len(logical_gpus), \"Logical GPUs\")\n",
    "print(\"Tensorflow version: \", tf.__version__)\n",
    "print(\"Tensorflow GPU detection: \", tf.config.list_physical_devices('GPU'))"
   ]
  },
  {
   "cell_type": "code",
   "execution_count": 3,
   "id": "a64ca62b-386c-4e3b-9418-fa550b0587ce",
   "metadata": {
    "tags": []
   },
   "outputs": [],
   "source": [
    "DATA_PATH = '../data/G2Net/g2net-gravitational-wave-detection/'\n",
    "MODEL_PATH = '../data/G2Net/models'\n",
    "TB_LOG_PATH = '../data/G2Net/tb_logs'\n",
    "AUTOTUNE = tf.data.AUTOTUNE\n",
    "\n",
    "SPLIT_RATIO = .9\n",
    "RANDOM_STATE = 42\n",
    "\n",
    "IMG_WIDTH = 69\n",
    "IMG_HEIGHT = 193\n"
   ]
  },
  {
   "cell_type": "code",
   "execution_count": 4,
   "id": "34b6c7b6-5057-4c88-a7dd-7f4dcdf3f130",
   "metadata": {},
   "outputs": [],
   "source": [
    "train = tf.data.experimental.load(os.path.join(DATA_PATH, 'ds_train'))\n",
    "valid = tf.data.experimental.load(os.path.join(DATA_PATH, 'ds_valid'))"
   ]
  },
  {
   "cell_type": "code",
   "execution_count": 5,
   "id": "c144a0f9-f8f0-4f79-80d8-1347667c42d7",
   "metadata": {},
   "outputs": [],
   "source": [
    "def prep(img, label):\n",
    "    ret = preprocess_input(img)\n",
    "    return ret,label"
   ]
  },
  {
   "cell_type": "code",
   "execution_count": 6,
   "id": "b23167e4-80c4-4558-b467-6302b209949f",
   "metadata": {},
   "outputs": [],
   "source": [
    "BATCH_SIZE = 16\n",
    "\n",
    "# train_data = train.take(250000).map(prep).batch(BATCH_SIZE).prefetch(buffer_size=64)\n",
    "# valid_data = valid.take(25000).map(prep).cache().batch(BATCH_SIZE).prefetch(buffer_size=64)\n",
    "train_data = train.take(100000).batch(BATCH_SIZE).prefetch(buffer_size=64)\n",
    "valid_data = valid.take(10000).cache().batch(BATCH_SIZE).prefetch(buffer_size=64)"
   ]
  },
  {
   "cell_type": "code",
   "execution_count": 7,
   "id": "96ae0c7b-5ee1-48e5-b7de-4b49b472367b",
   "metadata": {},
   "outputs": [
    {
     "name": "stdout",
     "output_type": "stream",
     "text": [
      "<bound method DatasetV2.cardinality of <PrefetchDataset shapes: (<unknown>, (None,)), types: (tf.float32, tf.float32)>>\n"
     ]
    }
   ],
   "source": [
    "print(train_data.cardinality)"
   ]
  },
  {
   "cell_type": "code",
   "execution_count": 8,
   "id": "1467d428-ed61-45e7-9c7c-93e819377830",
   "metadata": {},
   "outputs": [],
   "source": [
    "from tensorflow.keras.applications.efficientnet import *\n",
    "from tensorflow.keras.applications.efficientnet import preprocess_input\n",
    "\n",
    "base_model = EfficientNetB0(\n",
    "    include_top=False,\n",
    "    input_shape=(IMG_WIDTH, IMG_HEIGHT,3),\n",
    "    weights='imagenet',\n",
    "    drop_connect_rate=0.3)\n",
    "\n",
    "# base_model = ResNet50V2(\n",
    "#     weights='imagenet',\n",
    "# #     weights=None,\n",
    "#     include_top=False,\n",
    "#     input_shape=(IMG_WIDTH, IMG_HEIGHT,3),\n",
    "#     pooling='avg')\n",
    "# base_model.trainable=True\n",
    "# base_model.trainable=False\n",
    "\n",
    "\n",
    "# fine_tune_at = 171\n",
    "# for layer in base_model.layers[:fine_tune_at]:\n",
    "#     layer.trainable =  False"
   ]
  },
  {
   "cell_type": "code",
   "execution_count": 9,
   "id": "8fcb8624-4017-42aa-a2e9-6e4bda617d98",
   "metadata": {},
   "outputs": [],
   "source": [
    "metrics = [tf.keras.metrics.AUC(name='AUC'),\n",
    "        tf.keras.metrics.BinaryAccuracy(name='Accuracy'),]\n",
    "\n",
    "lr_schedule = tf.keras.optimizers.schedules.ExponentialDecay(\n",
    "    initial_learning_rate=2e-4,\n",
    "    decay_steps=4000,\n",
    "    decay_rate=0.9)\n",
    "\n",
    "tb_callback = tf.keras.callbacks.TensorBoard(\n",
    "    os.path.join(TB_LOG_PATH,'effb0_base_1e4'),\n",
    "    update_freq=64,\n",
    "    )\n",
    "\n",
    "\n",
    "\n",
    "callbacks= [\n",
    "    tb_callback,\n",
    "]\n",
    "\n",
    "def create_model(alpha):\n",
    "    model = tf.keras.Sequential([\n",
    "        Layer.InputLayer(input_shape=(IMG_WIDTH, IMG_HEIGHT,1)),\n",
    "#         Layer.experimental.preprocessing.Rescaling(255),\n",
    "        Layer.Conv2D(3,3,padding='same', use_bias=False),\n",
    "        Layer.BatchNormalization(),\n",
    "#         Layer.Lambda(preprocess_input),\n",
    "#         Layer.Dropout(.3),\n",
    "        base_model,\n",
    "        Layer.GlobalAveragePooling2D(name=\"avg_pool\"),\n",
    "        Layer.BatchNormalization(),\n",
    "        Layer.Dropout(.2, name=\"top_dropout\"),\n",
    "        #         Layer.Dropout(.3),\n",
    "#         Layer.Dense(32,activation='relu'),\n",
    "        Layer.Dense(1, activation='sigmoid')])\n",
    "\n",
    "#     Layer.Dense(256),\n",
    "#         Layer.LeakyReLU(alpha=alpha),\n",
    "#         Layer.Dense(256),\n",
    "#         Layer.LeakyReLU(alpha=alpha),\n",
    "# #         Layer.Dense(8),\n",
    "# #         Layer.Dropout(.3),\n",
    "# #         Layer.LeakyReLU(alpha=alpha),\n",
    "#         Layer.Dense(1, activation='sigmoid'),\n",
    "#     ])\n",
    "    return model"
   ]
  },
  {
   "cell_type": "code",
   "execution_count": 10,
   "id": "f2001174-93e8-464d-adb2-aeafc056a69d",
   "metadata": {},
   "outputs": [
    {
     "name": "stdout",
     "output_type": "stream",
     "text": [
      "Model: \"sequential\"\n",
      "_________________________________________________________________\n",
      "Layer (type)                 Output Shape              Param #   \n",
      "=================================================================\n",
      "conv2d (Conv2D)              (None, 69, 193, 3)        27        \n",
      "_________________________________________________________________\n",
      "batch_normalization (BatchNo (None, 69, 193, 3)        12        \n",
      "_________________________________________________________________\n",
      "efficientnetb0 (Functional)  (None, 3, 7, 1280)        4049571   \n",
      "_________________________________________________________________\n",
      "avg_pool (GlobalAveragePooli (None, 1280)              0         \n",
      "_________________________________________________________________\n",
      "batch_normalization_1 (Batch (None, 1280)              5120      \n",
      "_________________________________________________________________\n",
      "top_dropout (Dropout)        (None, 1280)              0         \n",
      "_________________________________________________________________\n",
      "dense (Dense)                (None, 1)                 1281      \n",
      "=================================================================\n",
      "Total params: 4,056,011\n",
      "Trainable params: 4,011,422\n",
      "Non-trainable params: 44,589\n",
      "_________________________________________________________________\n"
     ]
    }
   ],
   "source": [
    "model = create_model(.3)\n",
    "model.summary()"
   ]
  },
  {
   "cell_type": "code",
   "execution_count": 11,
   "id": "594172ad-5795-4822-9a3d-2a1a19ba5cf7",
   "metadata": {},
   "outputs": [
    {
     "name": "stdout",
     "output_type": "stream",
     "text": [
      "Number of layers in the base model:  237\n"
     ]
    }
   ],
   "source": [
    "print(\"Number of layers in the base model: \", len(base_model.layers))"
   ]
  },
  {
   "cell_type": "code",
   "execution_count": 12,
   "id": "2e59e7d2-af28-47a6-a5a6-4b8154f7173a",
   "metadata": {},
   "outputs": [],
   "source": [
    "model.compile(optimizer=tf.keras.optimizers.Adam(\n",
    "    learning_rate=lr_schedule,\n",
    "    ),\n",
    "    loss=tf.keras.losses.BinaryCrossentropy(), \n",
    "    metrics=metrics)"
   ]
  },
  {
   "cell_type": "code",
   "execution_count": null,
   "id": "321d2c90-1751-4c3c-8af6-853f842cc7f8",
   "metadata": {},
   "outputs": [
    {
     "name": "stderr",
     "output_type": "stream",
     "text": [
      "c:\\users\\vince\\miniconda3\\envs\\ml38\\lib\\site-packages\\tensorflow\\python\\keras\\utils\\generic_utils.py:494: CustomMaskWarning: Custom mask layers require a config and must override get_config. When loading, the custom mask layer must be passed to the custom_objects argument.\n",
      "  warnings.warn('Custom mask layers require a config and must override '\n"
     ]
    },
    {
     "name": "stdout",
     "output_type": "stream",
     "text": [
      "Epoch 1/2\n",
      "6250/6250 [==============================] - 729s 114ms/step - loss: 0.5747 - AUC: 0.7618 - Accuracy: 0.7017 - val_loss: 0.5086 - val_AUC: 0.8261 - val_Accuracy: 0.7441\n",
      "Epoch 2/2\n",
      "3619/6250 [================>.............] - ETA: 4:07 - loss: 0.5143 - AUC: 0.8085 - Accuracy: 0.7431"
     ]
    }
   ],
   "source": [
    "model.fit(\n",
    "    train_data,\n",
    "    epochs=2,\n",
    "    validation_data=valid_data,\n",
    "    callbacks = callbacks,\n",
    "    )"
   ]
  },
  {
   "cell_type": "code",
   "execution_count": 27,
   "id": "b0e91901-91c6-40ed-b95b-92276a341544",
   "metadata": {},
   "outputs": [
    {
     "name": "stderr",
     "output_type": "stream",
     "text": [
      "c:\\users\\vince\\miniconda3\\envs\\ml38\\lib\\site-packages\\tensorflow\\python\\keras\\utils\\generic_utils.py:494: CustomMaskWarning: Custom mask layers require a config and must override get_config. When loading, the custom mask layer must be passed to the custom_objects argument.\n",
      "  warnings.warn('Custom mask layers require a config and must override '\n"
     ]
    },
    {
     "name": "stdout",
     "output_type": "stream",
     "text": [
      "INFO:tensorflow:Assets written to: ../data/G2Net/models\\effb0tl_1e3\\assets\n"
     ]
    }
   ],
   "source": [
    "model.save(os.path.join(MODEL_PATH,'effb0tl_1e3'))"
   ]
  },
  {
   "cell_type": "code",
   "execution_count": 23,
   "id": "f45d551d-e0eb-489f-9753-0f8e8d0efe63",
   "metadata": {},
   "outputs": [],
   "source": [
    "pred = model.predict(valid_data.take(100))"
   ]
  },
  {
   "cell_type": "code",
   "execution_count": 24,
   "id": "c2a56605-29aa-4207-b6e5-bbc5aa7056b4",
   "metadata": {},
   "outputs": [
    {
     "name": "stdout",
     "output_type": "stream",
     "text": [
      "[[0.18]\n",
      " [0.14]\n",
      " [0.26]\n",
      " ...\n",
      " [0.24]\n",
      " [0.29]\n",
      " [0.1 ]]\n"
     ]
    }
   ],
   "source": [
    "print(pred)"
   ]
  },
  {
   "cell_type": "code",
   "execution_count": null,
   "id": "44d9698b-12d1-4f12-8fef-59f69b027c8c",
   "metadata": {},
   "outputs": [],
   "source": [
    "for data, label in valid_data.skip(100).take(1):\n",
    "    print(data)"
   ]
  },
  {
   "cell_type": "code",
   "execution_count": null,
   "id": "83348981-256b-4052-abbe-1eaf251e1304",
   "metadata": {},
   "outputs": [],
   "source": []
  }
 ],
 "metadata": {
  "kernelspec": {
   "display_name": "Python 3",
   "language": "python",
   "name": "python3"
  },
  "language_info": {
   "codemirror_mode": {
    "name": "ipython",
    "version": 3
   },
   "file_extension": ".py",
   "mimetype": "text/x-python",
   "name": "python",
   "nbconvert_exporter": "python",
   "pygments_lexer": "ipython3",
   "version": "3.8.8"
  }
 },
 "nbformat": 4,
 "nbformat_minor": 5
}
