{
 "cells": [
  {
   "cell_type": "code",
   "execution_count": 1,
   "metadata": {},
   "outputs": [
    {
     "name": "stderr",
     "output_type": "stream",
     "text": [
      "[nltk_data] Downloading package punkt to\n",
      "[nltk_data]     C:\\Users\\vince\\AppData\\Roaming\\nltk_data...\n",
      "[nltk_data]   Package punkt is already up-to-date!\n",
      "[nltk_data] Downloading package stopwords to\n",
      "[nltk_data]     C:\\Users\\vince\\AppData\\Roaming\\nltk_data...\n",
      "[nltk_data]   Package stopwords is already up-to-date!\n"
     ]
    }
   ],
   "source": [
    "import importlib\n",
    "import os\n",
    "from joblib import dump, load\n",
    "import re\n",
    "\n",
    "import numpy as np\n",
    "import pandas as pd\n",
    "\n",
    "from bs4 import BeautifulSoup\n",
    "\n",
    "from nltk import download as nltk_download\n",
    "from nltk import tokenize, RegexpTokenizer\n",
    "from nltk.corpus import stopwords\n",
    "'''Bird, Steven, Edward Loper and Ewan Klein (2009), Natural Language Processing with Python. O’Reilly Media Inc.'''\n",
    "nltk_download('punkt')\n",
    "nltk_download('stopwords')\n",
    "\n",
    "from sklearn.feature_extraction.text import TfidfVectorizer\n",
    "\n",
    "import ml.explo as mlexplo\n",
    "import ml.prepare as mlprepare\n",
    "\n",
    "from nltk.stem.snowball import SnowballStemmer\n",
    "\n",
    "# import matplotlib.pyplot as plt\n",
    "# import seaborn as sns\n",
    "# from sklearn.decomposition import PCA\n",
    "# from sklearn.preprocessing import StandardScaler\n",
    "\n",
    "data_path = \"..\\\\data\\\\stackoverflow\\\\\"\n",
    "model_path = data_path + \"models\\\\\"\n",
    "\n",
    "np.set_printoptions(precision=2, suppress=True)\n",
    "pd.options.display.float_format = \"{:,.2f}\".format"
   ]
  },
  {
   "cell_type": "code",
   "execution_count": 2,
   "metadata": {},
   "outputs": [],
   "source": [
    "data_filename = \"OC_DS_P6.csv\"\n",
    "tags_filename = \"Stackoverflow_top_tags.csv\"\n",
    "init = False"
   ]
  },
  {
   "cell_type": "code",
   "execution_count": 3,
   "metadata": {},
   "outputs": [],
   "source": [
    "def apply_bs4(raw_text):\n",
    "#     return '. '.join(\n",
    "#         [x.find(text=True)\n",
    "#          for x in BeautifulSoup(raw_text, 'html.parser').find_all('p')\n",
    "#          if x.find(text=True)]\n",
    "    soup = BeautifulSoup(raw_text, 'html.parser')\n",
    "    # getting rid of programming language identification for now,\n",
    "    # could rely on guesslang package but conflict with tensorflow installed version and \n",
    "    # don't wanna downgrade, therefore code stored in dedicated variable for futur use.\n",
    "    code = \"\"\n",
    "    for s in soup.find_all('code'):\n",
    "        code = code + s.get_text()\n",
    "        s.extract()\n",
    "    return re.sub(r'\\n+', ' ', soup.get_text()).strip(), re.sub(r'\\n+', ' ', code).strip()\n",
    "        \n",
    "def apply_tags(raw_text):\n",
    "    return [ tag.name for tag in BeautifulSoup(raw_text, 'html.parser').find_all() if tag.name in valid_tags ]"
   ]
  },
  {
   "cell_type": "code",
   "execution_count": 4,
   "metadata": {
    "scrolled": true,
    "tags": []
   },
   "outputs": [],
   "source": [
    "df_tags = pd.read_csv(data_path + tags_filename)\n",
    "valid_tags = df_tags['TagName'].tolist()\n",
    "if init:\n",
    "    df_base = pd.read_csv(data_path + data_filename)\n",
    "    df_base['Bs4_Body'], df_base['Code'] = zip(*df_base['Body'].apply(apply_bs4))\n",
    "    df_base['Bs4_Tags'] = df_base['Tags'].apply(apply_tags)\n",
    "\n",
    "    df_base.to_pickle(data_path + 'bs4.pkl')\n",
    "else:\n",
    "    df_base = pd.read_pickle(data_path + 'bs4.pkl')"
   ]
  },
  {
   "cell_type": "code",
   "execution_count": 5,
   "metadata": {},
   "outputs": [],
   "source": [
    "def nltk_post_tokens(row):\n",
    "#     title_tokens = tokenizer.tokenize(row['Title'].lower())\n",
    "    title_tokens = [ stemmer.stem(w) for w in tokenizer.tokenize(row['Title'].lower()) if w not in nltk_stop_words ] \n",
    "    body_tokens = [ stemmer.stem(w) for w in tokenizer.tokenize(row['Bs4_Body'].lower()) if w not in nltk_stop_words ]\n",
    "    return title_tokens, body_tokens"
   ]
  },
  {
   "cell_type": "code",
   "execution_count": 6,
   "metadata": {},
   "outputs": [],
   "source": [
    "init = False\n",
    "if init:\n",
    "    tokenizer = RegexpTokenizer(r'\\w+')\n",
    "    nltk_stop_words = set(stopwords.words('english'))\n",
    "    stemmer = SnowballStemmer(\"english\")\n",
    "\n",
    "    df_nltk = pd.DataFrame()\n",
    "    df_nltk = df_base.apply(nltk_post_tokens, axis=1, result_type='expand')\n",
    "    df_nltk.columns=['Title', 'Body']\n",
    "    df_nltk.to_pickle(data_path + 'nltk_token_stem.pkl')\n",
    "else:\n",
    "    df_nltk = pd.read_pickle(data_path + 'nltk_token_stem.pkl')"
   ]
  },
  {
   "cell_type": "code",
   "execution_count": 7,
   "metadata": {},
   "outputs": [
    {
     "data": {
      "text/html": [
       "<div>\n",
       "<style scoped>\n",
       "    .dataframe tbody tr th:only-of-type {\n",
       "        vertical-align: middle;\n",
       "    }\n",
       "\n",
       "    .dataframe tbody tr th {\n",
       "        vertical-align: top;\n",
       "    }\n",
       "\n",
       "    .dataframe thead th {\n",
       "        text-align: right;\n",
       "    }\n",
       "</style>\n",
       "<table border=\"1\" class=\"dataframe\">\n",
       "  <thead>\n",
       "    <tr style=\"text-align: right;\">\n",
       "      <th></th>\n",
       "      <th>Title</th>\n",
       "      <th>Body</th>\n",
       "    </tr>\n",
       "  </thead>\n",
       "  <tbody>\n",
       "    <tr>\n",
       "      <th>0</th>\n",
       "      <td>[determin, smallest, common, divisor, string]</td>\n",
       "      <td>[ask, follow, question, job, interview, stump,...</td>\n",
       "    </tr>\n",
       "    <tr>\n",
       "      <th>1</th>\n",
       "      <td>[use, trait, object, contain, method, return, ...</td>\n",
       "      <td>[correct, way, use, trait, object, contain, me...</td>\n",
       "    </tr>\n",
       "    <tr>\n",
       "      <th>2</th>\n",
       "      <td>[name, function, declar, hoist, put, insid, re...</td>\n",
       "      <td>[put, function, declar, besid, return, stateme...</td>\n",
       "    </tr>\n",
       "    <tr>\n",
       "      <th>3</th>\n",
       "      <td>[get, valu, input, caus, flicker, react]</td>\n",
       "      <td>[attempt, track, valu, two, login, input, fiel...</td>\n",
       "    </tr>\n",
       "    <tr>\n",
       "      <th>4</th>\n",
       "      <td>[assign, vector, atom, type]</td>\n",
       "      <td>[assign, member, vector, atom, type, https, wa...</td>\n",
       "    </tr>\n",
       "    <tr>\n",
       "      <th>...</th>\n",
       "      <td>...</td>\n",
       "      <td>...</td>\n",
       "    </tr>\n",
       "    <tr>\n",
       "      <th>49995</th>\n",
       "      <td>[nullreferenceexcept, simpleinjector, contain,...</td>\n",
       "      <td>[still, process, get, wpf, also, decid, give, ...</td>\n",
       "    </tr>\n",
       "    <tr>\n",
       "      <th>49996</th>\n",
       "      <td>[add, grid, line, catplot, seaborn]</td>\n",
       "      <td>[add, grid, line, vertic, horizont, catplot, f...</td>\n",
       "    </tr>\n",
       "    <tr>\n",
       "      <th>49997</th>\n",
       "      <td>[standard, deviat, data, meet, two, condit, ex...</td>\n",
       "      <td>[tri, calcul, standard, deviat, data, point, m...</td>\n",
       "    </tr>\n",
       "    <tr>\n",
       "      <th>49998</th>\n",
       "      <td>[proper, rais, except, tensorflow, graph]</td>\n",
       "      <td>[want, rais, except, depend, valu, input, tens...</td>\n",
       "    </tr>\n",
       "    <tr>\n",
       "      <th>49999</th>\n",
       "      <td>[glfw, callback, opengl, round, robin]</td>\n",
       "      <td>[round, robin, fashion, usual, buffer, cycl, b...</td>\n",
       "    </tr>\n",
       "  </tbody>\n",
       "</table>\n",
       "<p>50000 rows × 2 columns</p>\n",
       "</div>"
      ],
      "text/plain": [
       "                                                   Title  \\\n",
       "0          [determin, smallest, common, divisor, string]   \n",
       "1      [use, trait, object, contain, method, return, ...   \n",
       "2      [name, function, declar, hoist, put, insid, re...   \n",
       "3               [get, valu, input, caus, flicker, react]   \n",
       "4                           [assign, vector, atom, type]   \n",
       "...                                                  ...   \n",
       "49995  [nullreferenceexcept, simpleinjector, contain,...   \n",
       "49996                [add, grid, line, catplot, seaborn]   \n",
       "49997  [standard, deviat, data, meet, two, condit, ex...   \n",
       "49998          [proper, rais, except, tensorflow, graph]   \n",
       "49999             [glfw, callback, opengl, round, robin]   \n",
       "\n",
       "                                                    Body  \n",
       "0      [ask, follow, question, job, interview, stump,...  \n",
       "1      [correct, way, use, trait, object, contain, me...  \n",
       "2      [put, function, declar, besid, return, stateme...  \n",
       "3      [attempt, track, valu, two, login, input, fiel...  \n",
       "4      [assign, member, vector, atom, type, https, wa...  \n",
       "...                                                  ...  \n",
       "49995  [still, process, get, wpf, also, decid, give, ...  \n",
       "49996  [add, grid, line, vertic, horizont, catplot, f...  \n",
       "49997  [tri, calcul, standard, deviat, data, point, m...  \n",
       "49998  [want, rais, except, depend, valu, input, tens...  \n",
       "49999  [round, robin, fashion, usual, buffer, cycl, b...  \n",
       "\n",
       "[50000 rows x 2 columns]"
      ]
     },
     "execution_count": 7,
     "metadata": {},
     "output_type": "execute_result"
    }
   ],
   "source": [
    "df_nltk"
   ]
  },
  {
   "cell_type": "code",
   "execution_count": 10,
   "metadata": {},
   "outputs": [],
   "source": [
    "def filter_top_tags(df, column, count=10, default=None):\n",
    "    top_tags = mlprepare.prepare_multi_label(df,'Bs4_Tags')[:count]\n",
    "    ret = df[column].apply(lambda cell: [x for x in cell if x in top_tags])\n",
    "    if default:\n",
    "        ret = ret.apply(lambda cell: cell if len(cell)>0 else ['other'])\n",
    "    return ret"
   ]
  },
  {
   "cell_type": "code",
   "execution_count": 12,
   "metadata": {},
   "outputs": [],
   "source": [
    "create_baseline = True\n",
    "df_base = pd.read_pickle(data_path + 'bs4.pkl')\n",
    "if(create_baseline):\n",
    "    df_top = pd.DataFrame()\n",
    "    df_top['Tags_T100'] = filter_top_tags(df_base,'Bs4_Tags', count=100, default='other')\n",
    "    df_top['Tags_T50'] = filter_top_tags(df_base,'Bs4_Tags', count=50, default='other')\n",
    "    df_top['Tags_T10'] = filter_top_tags(df_base,'Bs4_Tags', count=10, default='other')\n",
    "    df_top.to_pickle(data_path + 'Top_Tags.pkl')\n",
    "else:\n",
    "    df_top = pd.read_pickle(data_path + 'Top_Tags.pkl')"
   ]
  },
  {
   "cell_type": "code",
   "execution_count": 31,
   "metadata": {},
   "outputs": [
    {
     "data": {
      "text/html": [
       "<div>\n",
       "<style scoped>\n",
       "    .dataframe tbody tr th:only-of-type {\n",
       "        vertical-align: middle;\n",
       "    }\n",
       "\n",
       "    .dataframe tbody tr th {\n",
       "        vertical-align: top;\n",
       "    }\n",
       "\n",
       "    .dataframe thead th {\n",
       "        text-align: right;\n",
       "    }\n",
       "</style>\n",
       "<table border=\"1\" class=\"dataframe\">\n",
       "  <thead>\n",
       "    <tr style=\"text-align: right;\">\n",
       "      <th></th>\n",
       "      <th>Tags_T100</th>\n",
       "      <th>Tags_T50</th>\n",
       "      <th>Tags_T10</th>\n",
       "    </tr>\n",
       "  </thead>\n",
       "  <tbody>\n",
       "    <tr>\n",
       "      <th>2500</th>\n",
       "      <td>[python, python-3.x]</td>\n",
       "      <td>[python, python-3.x]</td>\n",
       "      <td>[python, python-3.x]</td>\n",
       "    </tr>\n",
       "    <tr>\n",
       "      <th>2501</th>\n",
       "      <td>[asp.net-core]</td>\n",
       "      <td>[asp.net-core]</td>\n",
       "      <td>[other]</td>\n",
       "    </tr>\n",
       "    <tr>\n",
       "      <th>2502</th>\n",
       "      <td>[c#]</td>\n",
       "      <td>[c#]</td>\n",
       "      <td>[c#]</td>\n",
       "    </tr>\n",
       "    <tr>\n",
       "      <th>2503</th>\n",
       "      <td>[javascript, reactjs]</td>\n",
       "      <td>[javascript, reactjs]</td>\n",
       "      <td>[javascript]</td>\n",
       "    </tr>\n",
       "    <tr>\n",
       "      <th>2504</th>\n",
       "      <td>[other]</td>\n",
       "      <td>[other]</td>\n",
       "      <td>[other]</td>\n",
       "    </tr>\n",
       "    <tr>\n",
       "      <th>2505</th>\n",
       "      <td>[python, python-3.x]</td>\n",
       "      <td>[python, python-3.x]</td>\n",
       "      <td>[python, python-3.x]</td>\n",
       "    </tr>\n",
       "    <tr>\n",
       "      <th>2506</th>\n",
       "      <td>[python-3.x]</td>\n",
       "      <td>[python-3.x]</td>\n",
       "      <td>[python-3.x]</td>\n",
       "    </tr>\n",
       "    <tr>\n",
       "      <th>2507</th>\n",
       "      <td>[c++]</td>\n",
       "      <td>[c++]</td>\n",
       "      <td>[c++]</td>\n",
       "    </tr>\n",
       "    <tr>\n",
       "      <th>2508</th>\n",
       "      <td>[scala]</td>\n",
       "      <td>[other]</td>\n",
       "      <td>[other]</td>\n",
       "    </tr>\n",
       "    <tr>\n",
       "      <th>2509</th>\n",
       "      <td>[sql, sql-server, tsql]</td>\n",
       "      <td>[sql, sql-server]</td>\n",
       "      <td>[sql]</td>\n",
       "    </tr>\n",
       "    <tr>\n",
       "      <th>2510</th>\n",
       "      <td>[r]</td>\n",
       "      <td>[r]</td>\n",
       "      <td>[r]</td>\n",
       "    </tr>\n",
       "    <tr>\n",
       "      <th>2511</th>\n",
       "      <td>[c#, multithreading]</td>\n",
       "      <td>[c#]</td>\n",
       "      <td>[c#]</td>\n",
       "    </tr>\n",
       "    <tr>\n",
       "      <th>2512</th>\n",
       "      <td>[python, django]</td>\n",
       "      <td>[python, django]</td>\n",
       "      <td>[python]</td>\n",
       "    </tr>\n",
       "    <tr>\n",
       "      <th>2513</th>\n",
       "      <td>[other]</td>\n",
       "      <td>[other]</td>\n",
       "      <td>[other]</td>\n",
       "    </tr>\n",
       "    <tr>\n",
       "      <th>2514</th>\n",
       "      <td>[javascript, google-apps-script, google-sheets]</td>\n",
       "      <td>[javascript, google-sheets]</td>\n",
       "      <td>[javascript]</td>\n",
       "    </tr>\n",
       "    <tr>\n",
       "      <th>2515</th>\n",
       "      <td>[amazon-web-services]</td>\n",
       "      <td>[other]</td>\n",
       "      <td>[other]</td>\n",
       "    </tr>\n",
       "    <tr>\n",
       "      <th>2516</th>\n",
       "      <td>[azure]</td>\n",
       "      <td>[azure]</td>\n",
       "      <td>[other]</td>\n",
       "    </tr>\n",
       "    <tr>\n",
       "      <th>2517</th>\n",
       "      <td>[php, laravel]</td>\n",
       "      <td>[php, laravel]</td>\n",
       "      <td>[other]</td>\n",
       "    </tr>\n",
       "    <tr>\n",
       "      <th>2518</th>\n",
       "      <td>[javascript]</td>\n",
       "      <td>[javascript]</td>\n",
       "      <td>[javascript]</td>\n",
       "    </tr>\n",
       "    <tr>\n",
       "      <th>2519</th>\n",
       "      <td>[c++, c]</td>\n",
       "      <td>[c++, c]</td>\n",
       "      <td>[c++]</td>\n",
       "    </tr>\n",
       "  </tbody>\n",
       "</table>\n",
       "</div>"
      ],
      "text/plain": [
       "                                            Tags_T100  \\\n",
       "2500                             [python, python-3.x]   \n",
       "2501                                   [asp.net-core]   \n",
       "2502                                             [c#]   \n",
       "2503                            [javascript, reactjs]   \n",
       "2504                                          [other]   \n",
       "2505                             [python, python-3.x]   \n",
       "2506                                     [python-3.x]   \n",
       "2507                                            [c++]   \n",
       "2508                                          [scala]   \n",
       "2509                          [sql, sql-server, tsql]   \n",
       "2510                                              [r]   \n",
       "2511                             [c#, multithreading]   \n",
       "2512                                 [python, django]   \n",
       "2513                                          [other]   \n",
       "2514  [javascript, google-apps-script, google-sheets]   \n",
       "2515                            [amazon-web-services]   \n",
       "2516                                          [azure]   \n",
       "2517                                   [php, laravel]   \n",
       "2518                                     [javascript]   \n",
       "2519                                         [c++, c]   \n",
       "\n",
       "                         Tags_T50              Tags_T10  \n",
       "2500         [python, python-3.x]  [python, python-3.x]  \n",
       "2501               [asp.net-core]               [other]  \n",
       "2502                         [c#]                  [c#]  \n",
       "2503        [javascript, reactjs]          [javascript]  \n",
       "2504                      [other]               [other]  \n",
       "2505         [python, python-3.x]  [python, python-3.x]  \n",
       "2506                 [python-3.x]          [python-3.x]  \n",
       "2507                        [c++]                 [c++]  \n",
       "2508                      [other]               [other]  \n",
       "2509            [sql, sql-server]                 [sql]  \n",
       "2510                          [r]                   [r]  \n",
       "2511                         [c#]                  [c#]  \n",
       "2512             [python, django]              [python]  \n",
       "2513                      [other]               [other]  \n",
       "2514  [javascript, google-sheets]          [javascript]  \n",
       "2515                      [other]               [other]  \n",
       "2516                      [azure]               [other]  \n",
       "2517               [php, laravel]               [other]  \n",
       "2518                 [javascript]          [javascript]  \n",
       "2519                     [c++, c]                 [c++]  "
      ]
     },
     "execution_count": 31,
     "metadata": {},
     "output_type": "execute_result"
    }
   ],
   "source": [
    "df_top[2500:2520]"
   ]
  },
  {
   "cell_type": "code",
   "execution_count": 29,
   "metadata": {},
   "outputs": [
    {
     "data": {
      "text/plain": [
       "2500                       <python><python-3.x><wxpython>\n",
       "2501                  <asp.net-core><api-gateway><ocelot>\n",
       "2502                             <c#><.net><asynchronous>\n",
       "2503                                <javascript><reactjs>\n",
       "2504    <eclipse><grails><groovy><eclipse-plugin><grai...\n",
       "2505                           <python><python-3.x><kivy>\n",
       "2506    <python-3.x><neural-network><pytorch><conv-neu...\n",
       "2507                                  <c++><new-operator>\n",
       "2508                         <scala><future><retry-logic>\n",
       "2509                              <sql><sql-server><tsql>\n",
       "2510                                                  <r>\n",
       "2511            <c#><multithreading><console-application>\n",
       "2512                                     <python><django>\n",
       "2513              <.net><.net-core><dependency-injection>\n",
       "2514      <javascript><google-apps-script><google-sheets>\n",
       "2515    <amazon-web-services><amazon-ec2><aws-code-dep...\n",
       "2516    <azure><azure-functions><azure-web-app-service...\n",
       "2517                          <php><laravel><laravel-5.8>\n",
       "2518                                         <javascript>\n",
       "2519               <c++><c><bit-manipulation><simd><swar>\n",
       "Name: Tags, dtype: object"
      ]
     },
     "execution_count": 29,
     "metadata": {},
     "output_type": "execute_result"
    }
   ],
   "source": [
    "df_base['Tags'][2500:2520]"
   ]
  },
  {
   "cell_type": "code",
   "execution_count": 15,
   "metadata": {},
   "outputs": [
    {
     "data": {
      "text/plain": [
       "['..\\\\data\\\\stackoverflow\\\\y_dict_top100.joblib']"
      ]
     },
     "execution_count": 15,
     "metadata": {},
     "output_type": "execute_result"
    }
   ],
   "source": [
    "def prepare_baseline_ys(df, tags, col):\n",
    "    ret =  dict({})\n",
    "    for tag in tags.index:\n",
    "        sr_tag = df[col].copy(deep=True)\n",
    "        sr_tag = sr_tag.apply(lambda x: 1 if tag in x else 0)\n",
    "        ret[tag] = sr_tag\n",
    "    return ret\n",
    "\n",
    "tags_10 = mlprepare.prepare_multi_label(df_top,'Tags_T10')\n",
    "y_dict_10 = prepare_baseline_ys(df_top, tags_10, 'Tags_T10')\n",
    "dump(y_dict_10, data_path + 'y_dict_top10.joblib')\n",
    "\n",
    "tags_50 = mlprepare.prepare_multi_label(df_top,'Tags_T50')\n",
    "y_dict_50 = prepare_baseline_ys(df_top, tags_50, 'Tags_T50')\n",
    "dump(y_dict_50, data_path + 'y_dict_top50.joblib')\n",
    "\n",
    "tags_100 = mlprepare.prepare_multi_label(df_top,'Tags_T100')\n",
    "y_dict_100 = prepare_baseline_ys(df_top, tags_100, 'Tags_T100')\n",
    "dump(y_dict_100, data_path + 'y_dict_top100.joblib')"
   ]
  },
  {
   "cell_type": "code",
   "execution_count": 47,
   "metadata": {},
   "outputs": [
    {
     "ename": "KeyError",
     "evalue": "'azure'",
     "output_type": "error",
     "traceback": [
      "\u001b[1;31m---------------------------------------------------------------------------\u001b[0m",
      "\u001b[1;31mKeyError\u001b[0m                                  Traceback (most recent call last)",
      "\u001b[1;32m<ipython-input-47-aeaf87de21b8>\u001b[0m in \u001b[0;36m<module>\u001b[1;34m\u001b[0m\n\u001b[1;32m----> 1\u001b[1;33m \u001b[0my_dict_10\u001b[0m\u001b[1;33m[\u001b[0m\u001b[1;34m'azure'\u001b[0m\u001b[1;33m]\u001b[0m\u001b[1;33m[\u001b[0m\u001b[1;36m2516\u001b[0m\u001b[1;33m]\u001b[0m\u001b[1;33m\u001b[0m\u001b[1;33m\u001b[0m\u001b[0m\n\u001b[0m",
      "\u001b[1;31mKeyError\u001b[0m: 'azure'"
     ]
    }
   ],
   "source": [
    "y_dict_10['azure'][2516]"
   ]
  },
  {
   "cell_type": "code",
   "execution_count": 48,
   "metadata": {},
   "outputs": [
    {
     "data": {
      "text/plain": [
       "1"
      ]
     },
     "execution_count": 48,
     "metadata": {},
     "output_type": "execute_result"
    }
   ],
   "source": [
    "y_dict_50['azure'][2516]"
   ]
  },
  {
   "cell_type": "code",
   "execution_count": 49,
   "metadata": {},
   "outputs": [
    {
     "data": {
      "text/plain": [
       "1"
      ]
     },
     "execution_count": 49,
     "metadata": {},
     "output_type": "execute_result"
    }
   ],
   "source": [
    "y_dict_100['azure'][2516]"
   ]
  },
  {
   "cell_type": "code",
   "execution_count": 16,
   "metadata": {},
   "outputs": [
    {
     "data": {
      "text/plain": [
       "['..\\\\data\\\\stackoverflow\\\\models\\\\title_vectorizer.joblib']"
      ]
     },
     "execution_count": 16,
     "metadata": {},
     "output_type": "execute_result"
    }
   ],
   "source": [
    "title_corpus = [' '.join(map(str, w)) for w in df_nltk['Title'].tolist()]\n",
    "dump(title_corpus, data_path + 'title_corpus.joblib')\n",
    "\n",
    "title_vectorizer = TfidfVectorizer(ngram_range=(1,1), max_features=1000)\n",
    "title_vectorizer.fit(title_corpus)\n",
    "dump(title_vectorizer, model_path + 'title_vectorizer.joblib')"
   ]
  },
  {
   "cell_type": "code",
   "execution_count": 17,
   "metadata": {},
   "outputs": [
    {
     "data": {
      "text/plain": [
       "['..\\\\data\\\\stackoverflow\\\\models\\\\body_vectorizer_11.joblib']"
      ]
     },
     "execution_count": 17,
     "metadata": {},
     "output_type": "execute_result"
    }
   ],
   "source": [
    "body_corpus = [' '.join(map(str, w)) for w in df_nltk['Body'].tolist()]\n",
    "dump(body_corpus, data_path + 'body_corpus.joblib')\n",
    "\n",
    "body_vectorizer = TfidfVectorizer(ngram_range=(1,1), max_features=1000)\n",
    "body_vectorizer.fit(body_corpus)\n",
    "dump(body_vectorizer, model_path + 'body_vectorizer_11.joblib')"
   ]
  },
  {
   "cell_type": "code",
   "execution_count": 18,
   "metadata": {},
   "outputs": [
    {
     "data": {
      "text/plain": [
       "['..\\\\data\\\\stackoverflow\\\\models\\\\body_vectorizer_12.joblib']"
      ]
     },
     "execution_count": 18,
     "metadata": {},
     "output_type": "execute_result"
    }
   ],
   "source": [
    "body_vectorizer2 = TfidfVectorizer(ngram_range=(1,2), max_features=2000)\n",
    "body_vectorizer2.fit(body_corpus)\n",
    "dump(body_vectorizer2, model_path + 'body_vectorizer_12.joblib')"
   ]
  },
  {
   "cell_type": "code",
   "execution_count": 19,
   "metadata": {},
   "outputs": [
    {
     "data": {
      "text/plain": [
       "['..\\\\data\\\\stackoverflow\\\\models\\\\body_vectorizer_13.joblib']"
      ]
     },
     "execution_count": 19,
     "metadata": {},
     "output_type": "execute_result"
    }
   ],
   "source": [
    "body_vectorizer3 = TfidfVectorizer(ngram_range=(1,3), max_features=4000)\n",
    "body_vectorizer3.fit(body_corpus)\n",
    "dump(body_vectorizer3, model_path + 'body_vectorizer_13.joblib')"
   ]
  },
  {
   "cell_type": "code",
   "execution_count": 10,
   "metadata": {},
   "outputs": [
    {
     "data": {
      "text/plain": [
       "use         32185\n",
       "tri         24186\n",
       "code        22199\n",
       "like        22120\n",
       "want        17917\n",
       "get         17646\n",
       "work        15647\n",
       "would       13386\n",
       "valu        13320\n",
       "follow      13187\n",
       "data        12656\n",
       "function    11427\n",
       "error       11036\n",
       "file        10899\n",
       "way         10709\n",
       "one         10314\n",
       "need         9938\n",
       "creat        9697\n",
       "exampl       9566\n",
       "column       9550\n",
       "1            9338\n",
       "2            7832\n",
       "look         7775\n",
       "output       7385\n",
       "run          7346\n",
       "list         7312\n",
       "problem      7141\n",
       "thank        7139\n",
       "help         6846\n",
       "result       6797\n",
       "dtype: int64"
      ]
     },
     "execution_count": 10,
     "metadata": {},
     "output_type": "execute_result"
    }
   ],
   "source": [
    "mlprepare.prepare_multi_label(df_nltk,'Body')[:30]"
   ]
  },
  {
   "cell_type": "code",
   "execution_count": 12,
   "metadata": {},
   "outputs": [
    {
     "data": {
      "text/plain": [
       "python           8882\n",
       "javascript       5558\n",
       "r                4045\n",
       "pandas           3300\n",
       "java             2917\n",
       "c++              2688\n",
       "c#               2632\n",
       "python-3.x       2173\n",
       "sql              2032\n",
       "html             1704\n",
       "dataframe        1571\n",
       "reactjs          1550\n",
       "arrays           1485\n",
       "c                1362\n",
       "css              1215\n",
       "regex            1172\n",
       "android          1119\n",
       "php              1093\n",
       "typescript       1059\n",
       "swift            1023\n",
       "node.js           982\n",
       "mysql             890\n",
       "angular           875\n",
       "jquery            872\n",
       "numpy             837\n",
       "json              805\n",
       "list              733\n",
       "postgresql        687\n",
       "ios               653\n",
       "mongodb           651\n",
       "dplyr             640\n",
       "django            630\n",
       "sql-server        621\n",
       "swiftui           607\n",
       "string            593\n",
       "powershell        585\n",
       "vue.js            557\n",
       "azure             551\n",
       "ggplot2           537\n",
       "flutter           517\n",
       "bash              499\n",
       "git               496\n",
       "excel             492\n",
       "firebase          481\n",
       "asp.net-core      477\n",
       "google-sheets     453\n",
       "kotlin            452\n",
       "laravel           437\n",
       "dictionary        413\n",
       "oracle            405\n",
       "dtype: int64"
      ]
     },
     "execution_count": 12,
     "metadata": {},
     "output_type": "execute_result"
    }
   ],
   "source": [
    "mlprepare.prepare_multi_label(df_nltk,'Tags')[:50]"
   ]
  },
  {
   "cell_type": "code",
   "execution_count": 16,
   "metadata": {},
   "outputs": [
    {
     "data": {
      "text/plain": [
       "4290"
      ]
     },
     "execution_count": 16,
     "metadata": {},
     "output_type": "execute_result"
    }
   ],
   "source": [
    "mlprepare.prepare_multi_label(df_nltk,'Body').count()"
   ]
  },
  {
   "cell_type": "code",
   "execution_count": 44,
   "metadata": {},
   "outputs": [
    {
     "data": {
      "text/plain": [
       "Title         [creating, symmetric, array, power, element]\n",
       "Body     [trying, create, array, symmetric, elements, p...\n",
       "Tags          [python, numpy, for-loop, matrix, symmetric]\n",
       "Name: 51, dtype: object"
      ]
     },
     "execution_count": 44,
     "metadata": {},
     "output_type": "execute_result"
    }
   ],
   "source": [
    "df_nltk.loc[51]"
   ]
  },
  {
   "cell_type": "code",
   "execution_count": 7,
   "metadata": {},
   "outputs": [
    {
     "data": {
      "text/plain": [
       "'<p>I am trying to create an array which is symmetric with elements placed as below</p>\\n\\n<p><a href=\"https://i.stack.imgur.com/QzkLo.gif\" rel=\"nofollow noreferrer\"><img src=\"https://i.stack.imgur.com/QzkLo.gif\" alt=\"correct_pic\"></a></p>\\n\\n<p>I have written the following code to get this form with parameter being 0.5 and dimension being <code>4-by-4</code>.</p>\\n\\n<pre class=\"lang-py prettyprint-override\"><code>import numpy as np\\na = np.eye(4)\\nfor i in range(4):\\n    for j in range(4):\\n        a[i, j] = (0.5) ** (np.abs(i-j))\\n</code></pre>\\n\\n<p>This does what I need but for large dimension (1000s) this causes a lot of overhead. Is there any other low complexity method to get this matrix? Thanks.</p>\\n'"
      ]
     },
     "execution_count": 7,
     "metadata": {},
     "output_type": "execute_result"
    }
   ],
   "source": [
    "df_base[df_base['Id']==59551201].index\n",
    "df_base.loc[51,'Body']"
   ]
  },
  {
   "cell_type": "code",
   "execution_count": null,
   "metadata": {},
   "outputs": [],
   "source": []
  },
  {
   "cell_type": "code",
   "execution_count": null,
   "metadata": {},
   "outputs": [],
   "source": []
  },
  {
   "cell_type": "code",
   "execution_count": null,
   "metadata": {},
   "outputs": [],
   "source": []
  },
  {
   "cell_type": "code",
   "execution_count": null,
   "metadata": {},
   "outputs": [],
   "source": []
  },
  {
   "cell_type": "code",
   "execution_count": null,
   "metadata": {},
   "outputs": [],
   "source": []
  },
  {
   "cell_type": "code",
   "execution_count": null,
   "metadata": {},
   "outputs": [],
   "source": []
  },
  {
   "cell_type": "code",
   "execution_count": null,
   "metadata": {},
   "outputs": [],
   "source": []
  },
  {
   "cell_type": "code",
   "execution_count": null,
   "metadata": {},
   "outputs": [],
   "source": []
  },
  {
   "cell_type": "code",
   "execution_count": null,
   "metadata": {},
   "outputs": [],
   "source": []
  },
  {
   "cell_type": "code",
   "execution_count": null,
   "metadata": {},
   "outputs": [],
   "source": []
  },
  {
   "cell_type": "code",
   "execution_count": 24,
   "metadata": {},
   "outputs": [
    {
     "data": {
      "text/plain": [
       "Id                                                59551201\n",
       "Title    Creating a symmetric array with power of an el...\n",
       "Body     <p>I am trying to create an array which is sym...\n",
       "Tags          <python><numpy><for-loop><matrix><symmetric>\n",
       "bf4      I am trying to create an array which is symmet...\n",
       "Name: 51, dtype: object"
      ]
     },
     "execution_count": 24,
     "metadata": {},
     "output_type": "execute_result"
    }
   ],
   "source": [
    "df_base.loc[51]"
   ]
  },
  {
   "cell_type": "code",
   "execution_count": 14,
   "metadata": {},
   "outputs": [
    {
     "data": {
      "text/html": [
       "<div>\n",
       "<style scoped>\n",
       "    .dataframe tbody tr th:only-of-type {\n",
       "        vertical-align: middle;\n",
       "    }\n",
       "\n",
       "    .dataframe tbody tr th {\n",
       "        vertical-align: top;\n",
       "    }\n",
       "\n",
       "    .dataframe thead th {\n",
       "        text-align: right;\n",
       "    }\n",
       "</style>\n",
       "<table border=\"1\" class=\"dataframe\">\n",
       "  <thead>\n",
       "    <tr style=\"text-align: right;\">\n",
       "      <th></th>\n",
       "      <th>Id</th>\n",
       "      <th>Title</th>\n",
       "      <th>Body</th>\n",
       "      <th>Tags</th>\n",
       "      <th>bf4</th>\n",
       "    </tr>\n",
       "  </thead>\n",
       "  <tbody>\n",
       "    <tr>\n",
       "      <th>0</th>\n",
       "      <td>59549234</td>\n",
       "      <td>How to determine the smallest common divisor o...</td>\n",
       "      <td>&lt;p&gt;I was asked the following question during a...</td>\n",
       "      <td>&lt;string&gt;&lt;algorithm&gt;</td>\n",
       "      <td>I was asked the following question during a jo...</td>\n",
       "    </tr>\n",
       "    <tr>\n",
       "      <th>1</th>\n",
       "      <td>59549281</td>\n",
       "      <td>How to use a trait object that contains a meth...</td>\n",
       "      <td>&lt;p&gt;What's the correct way to use a trait objec...</td>\n",
       "      <td>&lt;rust&gt;</td>\n",
       "      <td>What's the correct way to use a trait object t...</td>\n",
       "    </tr>\n",
       "    <tr>\n",
       "      <th>2</th>\n",
       "      <td>59549471</td>\n",
       "      <td>Why a named function declaration isn't hoisted...</td>\n",
       "      <td>&lt;p&gt;is putting the function declaration beside ...</td>\n",
       "      <td>&lt;javascript&gt;</td>\n",
       "      <td>is putting the function declaration beside the...</td>\n",
       "    </tr>\n",
       "    <tr>\n",
       "      <th>3</th>\n",
       "      <td>59549568</td>\n",
       "      <td>Getting value of input causing flickering in R...</td>\n",
       "      <td>&lt;p&gt;I am attempting to track the value of two l...</td>\n",
       "      <td>&lt;javascript&gt;&lt;css&gt;&lt;reactjs&gt;&lt;react-hooks&gt;&lt;react-...</td>\n",
       "      <td>I am attempting to track the value of two logi...</td>\n",
       "    </tr>\n",
       "    <tr>\n",
       "      <th>4</th>\n",
       "      <td>59549600</td>\n",
       "      <td>How to assign a vector of atomic types?</td>\n",
       "      <td>&lt;p&gt;How can I assign the members of a vector wi...</td>\n",
       "      <td>&lt;c++&gt;&lt;multithreading&gt;&lt;c++11&gt;&lt;stdvector&gt;&lt;stdato...</td>\n",
       "      <td>How can I assign the members of a vector with ...</td>\n",
       "    </tr>\n",
       "    <tr>\n",
       "      <th>...</th>\n",
       "      <td>...</td>\n",
       "      <td>...</td>\n",
       "      <td>...</td>\n",
       "      <td>...</td>\n",
       "      <td>...</td>\n",
       "    </tr>\n",
       "    <tr>\n",
       "      <th>95</th>\n",
       "      <td>59552693</td>\n",
       "      <td>Handle Authentication in ajax call from MVC cl...</td>\n",
       "      <td>&lt;p&gt;I use Identity server 4 for Authentication,...</td>\n",
       "      <td>&lt;ajax&gt;&lt;asp.net-core&gt;&lt;asp.net-core-webapi&gt;&lt;iden...</td>\n",
       "      <td>I use Identity server 4 for Authentication, On...</td>\n",
       "    </tr>\n",
       "    <tr>\n",
       "      <th>96</th>\n",
       "      <td>59552721</td>\n",
       "      <td>Unrecognized option or bad number of args for:...</td>\n",
       "      <td>&lt;p&gt;When I run &lt;code&gt;redis-cli script load \"$(c...</td>\n",
       "      <td>&lt;redis&gt;&lt;lua&gt;&lt;redis-cli&gt;</td>\n",
       "      <td>When I run . I get a sha . How is this possibl...</td>\n",
       "    </tr>\n",
       "    <tr>\n",
       "      <th>97</th>\n",
       "      <td>59552867</td>\n",
       "      <td>Instagram login with tor</td>\n",
       "      <td>&lt;p&gt;i am trying to login to instagram through t...</td>\n",
       "      <td>&lt;python-3.x&gt;&lt;tor&gt;</td>\n",
       "      <td>i am trying to login to instagram through tor\\...</td>\n",
       "    </tr>\n",
       "    <tr>\n",
       "      <th>98</th>\n",
       "      <td>59552875</td>\n",
       "      <td>Nodejs 12 Callback not working for mysql conne...</td>\n",
       "      <td>&lt;p&gt;I'm writing this code to run in AWS Lambda....</td>\n",
       "      <td>&lt;mysql&gt;&lt;node.js&gt;&lt;aws-lambda&gt;</td>\n",
       "      <td>I'm writing this code to run in AWS Lambda.  ....</td>\n",
       "    </tr>\n",
       "    <tr>\n",
       "      <th>99</th>\n",
       "      <td>59552958</td>\n",
       "      <td>Is there really performance different between ...</td>\n",
       "      <td>&lt;p&gt;I am interested in this issue. Every time I...</td>\n",
       "      <td>&lt;mysql&gt;&lt;database-performance&gt;&lt;sqldatatypes&gt;</td>\n",
       "      <td>I am interested in this issue. Every time I de...</td>\n",
       "    </tr>\n",
       "  </tbody>\n",
       "</table>\n",
       "<p>100 rows × 5 columns</p>\n",
       "</div>"
      ],
      "text/plain": [
       "          Id                                              Title  \\\n",
       "0   59549234  How to determine the smallest common divisor o...   \n",
       "1   59549281  How to use a trait object that contains a meth...   \n",
       "2   59549471  Why a named function declaration isn't hoisted...   \n",
       "3   59549568  Getting value of input causing flickering in R...   \n",
       "4   59549600            How to assign a vector of atomic types?   \n",
       "..       ...                                                ...   \n",
       "95  59552693  Handle Authentication in ajax call from MVC cl...   \n",
       "96  59552721  Unrecognized option or bad number of args for:...   \n",
       "97  59552867                           Instagram login with tor   \n",
       "98  59552875  Nodejs 12 Callback not working for mysql conne...   \n",
       "99  59552958  Is there really performance different between ...   \n",
       "\n",
       "                                                 Body  \\\n",
       "0   <p>I was asked the following question during a...   \n",
       "1   <p>What's the correct way to use a trait objec...   \n",
       "2   <p>is putting the function declaration beside ...   \n",
       "3   <p>I am attempting to track the value of two l...   \n",
       "4   <p>How can I assign the members of a vector wi...   \n",
       "..                                                ...   \n",
       "95  <p>I use Identity server 4 for Authentication,...   \n",
       "96  <p>When I run <code>redis-cli script load \"$(c...   \n",
       "97  <p>i am trying to login to instagram through t...   \n",
       "98  <p>I'm writing this code to run in AWS Lambda....   \n",
       "99  <p>I am interested in this issue. Every time I...   \n",
       "\n",
       "                                                 Tags  \\\n",
       "0                                 <string><algorithm>   \n",
       "1                                              <rust>   \n",
       "2                                        <javascript>   \n",
       "3   <javascript><css><reactjs><react-hooks><react-...   \n",
       "4   <c++><multithreading><c++11><stdvector><stdato...   \n",
       "..                                                ...   \n",
       "95  <ajax><asp.net-core><asp.net-core-webapi><iden...   \n",
       "96                            <redis><lua><redis-cli>   \n",
       "97                                  <python-3.x><tor>   \n",
       "98                       <mysql><node.js><aws-lambda>   \n",
       "99        <mysql><database-performance><sqldatatypes>   \n",
       "\n",
       "                                                  bf4  \n",
       "0   I was asked the following question during a jo...  \n",
       "1   What's the correct way to use a trait object t...  \n",
       "2   is putting the function declaration beside the...  \n",
       "3   I am attempting to track the value of two logi...  \n",
       "4   How can I assign the members of a vector with ...  \n",
       "..                                                ...  \n",
       "95  I use Identity server 4 for Authentication, On...  \n",
       "96  When I run . I get a sha . How is this possibl...  \n",
       "97  i am trying to login to instagram through tor\\...  \n",
       "98  I'm writing this code to run in AWS Lambda.  ....  \n",
       "99  I am interested in this issue. Every time I de...  \n",
       "\n",
       "[100 rows x 5 columns]"
      ]
     },
     "execution_count": 14,
     "metadata": {},
     "output_type": "execute_result"
    }
   ],
   "source": [
    "df_base"
   ]
  },
  {
   "cell_type": "code",
   "execution_count": 4,
   "metadata": {},
   "outputs": [
    {
     "name": "stdout",
     "output_type": "stream",
     "text": [
      "3.0.5\n"
     ]
    }
   ],
   "source": [
    "print(spacy.__version__)"
   ]
  },
  {
   "cell_type": "code",
   "execution_count": 6,
   "metadata": {},
   "outputs": [],
   "source": [
    "nlp = spacy.load(\"en_core_web_sm\")"
   ]
  },
  {
   "cell_type": "code",
   "execution_count": 33,
   "metadata": {},
   "outputs": [],
   "source": [
    "# doc = nlp(df_base.loc[51,'bf4'])\n",
    "doc_title = nlp(df_base['Title'][:10000].str.cat(sep='. '))\n"
   ]
  },
  {
   "cell_type": "code",
   "execution_count": 8,
   "metadata": {},
   "outputs": [],
   "source": [
    "nlp.max_length=2500000\n",
    "doc_body = nlp(df_base['bs4'][:4000].str.cat(sep='. '))"
   ]
  },
  {
   "cell_type": "code",
   "execution_count": 32,
   "metadata": {},
   "outputs": [
    {
     "data": {
      "text/plain": [
       "array([-0.91, -0.64, -0.78, -0.07,  0.92,  1.59, -0.02, -0.31,  2.27,\n",
       "        0.29, -0.74,  1.4 , -0.51, -0.34,  0.77, -0.23, -0.1 , -0.03,\n",
       "        1.99, -0.27, -0.72, -0.6 , -1.19,  0.11, -0.47, -0.7 , -0.33,\n",
       "       -0.05, -0.34, -0.65, -0.29,  0.17,  0.  ,  0.02, -0.71, -0.08,\n",
       "        0.13, -0.35,  0.59,  0.14,  1.25,  1.34, -0.42, -0.12, -0.89,\n",
       "        0.33, -1.06, -0.62, -0.67, -0.07, -0.15, -0.38,  0.07, -0.06,\n",
       "       -1.16,  1.15, -0.27, -0.23, -0.82,  0.91, -0.74,  0.23,  0.99,\n",
       "       -0.93,  1.03,  0.6 ,  1.06, -0.79, -0.69,  1.85,  0.82, -0.77,\n",
       "       -0.63, -1.13,  0.29, -1.06, -1.09,  0.66, -0.75,  0.89,  0.16,\n",
       "        0.27,  0.49,  1.62, -0.04, -1.46,  0.09,  0.48, -0.96, -0.98,\n",
       "       -0.83,  1.54,  0.95, -0.59,  1.71, -0.11], dtype=float32)"
      ]
     },
     "execution_count": 32,
     "metadata": {},
     "output_type": "execute_result"
    }
   ],
   "source": [
    "doc_title[50].vector"
   ]
  },
  {
   "cell_type": "code",
   "execution_count": 9,
   "metadata": {},
   "outputs": [
    {
     "data": {
      "text/plain": [
       "array([-0.4 , -0.73,  1.05, -0.05, -0.53,  0.06,  0.17,  0.51, -1.07,\n",
       "        0.  , -0.83,  0.41, -0.42, -0.71, -0.96, -0.17, -1.77,  1.46,\n",
       "        0.56, -1.22, -0.69, -0.9 ,  0.56,  0.21,  0.48, -1.16, -0.24,\n",
       "       -1.09, -0.05, -0.17,  0.28,  0.35,  0.98,  0.69, -0.48,  0.06,\n",
       "        1.22, -1.19, -0.57,  0.91,  0.68,  1.24, -0.  , -0.7 ,  0.28,\n",
       "       -0.84,  2.12, -0.59, -0.42, -0.44,  0.43,  0.69, -0.33, -0.11,\n",
       "       -0.28,  1.11,  0.97, -0.28,  1.74, -0.44, -0.09, -0.26,  0.19,\n",
       "        0.3 ,  1.14,  1.26, -0.43, -1.39, -0.88, -0.52,  0.64,  1.3 ,\n",
       "       -0.74, -0.08, -0.46,  0.43, -0.17, -1.53, -0.  ,  0.55, -0.48,\n",
       "       -0.01,  0.18,  0.8 , -0.59,  0.04, -0.99,  0.22,  1.15, -0.64,\n",
       "       -0.18,  0.37, -1.28,  0.57,  0.24, -0.28], dtype=float32)"
      ]
     },
     "execution_count": 9,
     "metadata": {},
     "output_type": "execute_result"
    }
   ],
   "source": [
    "doc_body[50].vector"
   ]
  },
  {
   "cell_type": "code",
   "execution_count": 27,
   "metadata": {
    "scrolled": true,
    "tags": []
   },
   "outputs": [
    {
     "name": "stdout",
     "output_type": "stream",
     "text": [
      "Noun phrases: ['the smallest common divisor', 'a string', 'a trait object', 'a method', 'a reference', 'Self', 'a named function declaration', 'you', 'it', 'the return statement', 'value', 'input', 'flickering', 'React', 'a vector', 'atomic types', 'first key', 'object', 'docker inspect', 'name', 'network', 'container', 'I', 'the choices', 'vote count', 'my poll', 'an array', 'a map', 'a package', 'CRAN', 'a package', 'CRAN', 'trouble', 'R', 'SQL subquery', 'specific rows', 'Python3', 'I', 'an alphanumeric command-line argument', '20x', 'not a solely numeric one', 'C', 'Regex', 'new lines', 'quotations', 'PHP', 'Alternative', 'INNER JOIN', 'no cartesian product', 'Input', 'Outputs', 'HTML', 'Typescript', 'Angular', 'My code', \"this newton's cradle\", 'I', 'Issue', 'select element', 'jQuery', 'Debug, System functions', 'loop', 'Google Test C.', 'rows', 'dates', 'Pandas', 'environment variables', 'javascript', 'value', 'multiple keys', 'python', 'Laravel access', 'a Linkedlist node pointer', 'other nodes', 'only part', 'a file', 'Git', 'sublime merge', 'Python OOP instances', 'classes mutability', 'Dynamic nested loop - recursion', 'data', 'text file', 'shell', 'C', 'a multi-byte character', 'a null character', 'SQLAlchemy CRUD operation', 'outcome assignment', 'kubelet', 'ClusterDNS IP', 'Microk8s', 'SQL Server', 'detach database', 'React useState option value', 'onChange selection', 'coroutines', 'Flow<List', 'T', 'Set listener', 'a child', 'a child', 'recyclerView', 'Kotlin', 'the HashMap', 'Room database', 'JSON', 'GSON', 'multiple dataframes', 'a csv file', 'an empty row', 'column', 'substring', 'the columns name', 'pandas', 'python', 'User-defined conversion', 'return type', 'Two Associative Arrays', 'One Multidimensional Array PHP', 'a diacritical mark', 'one letter', 'the left', 'How does z-index work', 'its default values', 'the href attribute', 'html', 'unwanted results', 'error', '\"passwords', 'passwd', 'docker', 'R', 'calculation', 'column values', 'loop', 'stereo sine wave', 'FFMPEG', 'List', 'keys', 'Map', 'ggplot', 'boxplots', 'Copy', 'case class', 'PK violation', 'way', 'existence', 'DB performance', 'values', 'a symmetric array', 'power', 'an element', 'Gradient Arc View', 'my call', 'strcmp', 'Error opening photos', 'zip file', 'Django', 'Join array', 'strings', 'single string', 'separator', 'comprehension', 'map', 'Merge', 'Two Array', 'Struct', 'Swift', 'Pandas', 'multiple values', 'cell', 'column', 'a way', 'a non-trivial static', 'std::collections::HashMap', 'it', 'C language syntax', 'if { ... } while(0', 'java arguments', 'Windows', 'Linux', 'any way', 'chrome selenium', 'Collapsible content', 'scripts', 'value', 'json', 'a variable', 'jq', 'bash', 'Kafka', 'setup', 'record', 'Aurora', 'AWS MSK', 'Google sheets API - download data', 'no formatting', 'Parity', 'modulo', 'date index', 'the first element', 'each month', 'Firebase database', 'children', 'Git LFS', 'filter-branch', 'unchanged file', 'index', 'groovy exception', 'presto', 'Cassandra', 'the controller', 'an included FXML', 'Toolbar badge count', 'I', 'it', 'ViewModel', 'plots', 'Matplotlib', 'Haskell', 'double-wrapped maybes', 'functions', 'maybes', 'useSelector react-redux hook - state', 'argument', 'tuple enum inside method', 'Rust', 'I', 'the scope', 'selenium', '\"find_elements_by_xpath', 'star-counting', 'each row', '7 or 8 column grids', \"vuetity's v-row\", '-col', 'enablePersistence', ') method', 'Firebase', 'offline use', 'the web app', 'H2O cluster', 'several R programs', 'access', 'cluster', 'queue', 'it', 'Regex - Extract string', 'two expressions', 'only last apperance', 'all possible configuration options', 'an Azure service', 'all time', 'i', 'page', 'UTC', 'NotificationCenter publishers', 'Where does Laravel store throttle data', 'multiple instances', 'a subclass', 'only one instance', 'a superclass', 'fixed width integers', 'dataframe grouping', 'class', 'timestamp', 'Menu Class', 'Core', 'spring integration flow', 'Laravel Eloquent Relationship', 'the same foreign key', 'the same table', 'gnuplot', '12h time format', '24h time format', 'Handle Authentication', 'ajax call', 'MVC client', 'resource api', 'Identity server', 'Unrecognized option', 'bad number', 'args', 'Instagram', 'tor', '12 Callback', 'mysql connection', 'string', 'int cloumn(table design', 'CSS', 'a selector', 'a new element', 'command', 'CFLAGS', '= -fno-stack-protector', 'a TreeSet', 'a custom comparator', 'a larger set', 'items', 'Combine visitors', 'VisitorPattern', 'firebase', 'display', 'rating bar', '\"activity', 'getActivity', 'Fragment', 'Kotlin', 'Stripe', 'access', 'account', 'that account', 'object', 'Array', 'seprate array', 'gson', 'Java', 'Kotlin', 'sublist', 'a scheduler', 'each user', 'Firebase Cloud Functions', 'pygame', 'collision', 'a rotating rectangle', 'tf.gather', 'the index', 'probabilistic form', 'Tensorflow', 'Enzyme', 'React', 'a component', 'useHistory', 'text', 'pdfbox', \"A null character '\\\\0\", 'the end', 'a string', 'Microsoft Logging', 'log', 'Unhandled exception', 'Keras LSTM Model', 'Javascript', 'createQuery', 'createNativeQuery', 'performance difference', 'update/delete statements', 'the GIL', 'a thread', 'Python', 'Numba', 'a SwiftUI environment object', 'a class', '(-extension', 'css text', 'selection', 'round corners', 'group columns', 'pandas', 'group', 'multiple variables', 'QString', 'char', 'I', 'the xticks', 'yticks', 'it', 'the figure', 'Matlab', 'you', 'the end', 'file', 'an error', 'fscanf', 'C', 'interface keys', 'Error', \"resample('W'),sum\", 'python', 'I', 'inconsistent behaviour', 'I', 'a file', 'the `>` operator', 'SQL', 'Postgres', 'dates', 'values', 'last non empty day', 'long long type representation', 'memory', 'a Kubernetes Ingress', 'two* healthchecks', 'default', 'its Load Balancers', 'I', 'a byte array', 'an image', 'a Spring Controller', 'a browser', 'it', 'the Qt + cmake', 'QGLWidget', 'the value', 'string', 'the inheritance', 'Applicative functor laws violation', 'Storage management', 'C. Calculate duration', '(age', 'ggplot2', 'italics', 'the legend', 'R', 'a matrix', 'matrix', 'repetition', 'columns', 'rows', 'What', 'the quantity', 'the most expensive item', 'Pandas', 'lazy variable', 'name', 'Python list', 'index', 'each element', 'array', 'it', 'a dangling pointer', 'app context', '(Unresolved reference', 'extra arguments', 'ggplot2 theme', 'Writable seq_file', 'Linux Kernel', 'somebody', 'the following syntax', 'it', 'negative and positive numbers', 'each set', 'a list', 'What', 'the easiest way', 'boxplots', 'this example', 'I', 'a list', 'class objects', 'pygame', 'RecyclerView', 'multiple view types', 'library', 'boundary callback', 'Zonal statistics', 'majority pixel value', 'polygon', 'R', 'PyQt-thread', 'dynamically output', 'user email', 'password validation', 'firebase', 'integer value', 'Spark', 'Scala', 'I', 'this module', 'npm', 'several DropHandlers', 'WPF', 'gong', 'default cookie names', 'ASP.NET Core MVC', 'nested attributes', 'laravel', 'default value', 'Validator', 'post registeration', 'Seq', 'an EBS volume', 'the volume', 'detaching', 'dataframe rows', 'pandas wrt', 'months', 'Jan', 'Dec.', 'minimum level', 'group', 'ReactJS - New item', 'the field', 'Json', 'NET + MongoDB Bson', 'previous entries', 'a time serie', 'additional columns', 'Flask Form', 'parameters', \"MSVC's supported subset\", 'C.', 'nested properties', 'a type', 'ReactJS - warning message', 'Hook useEffect', 'a missing dependency', '12 hour Javascript Clock Showing', 'Wrong AM/PM', 'I', 'my pg_hba.conf file', 'django', 'Weighted Frequency Table', 'R. Sending URL', 'another URL', 'std::set store', 'memory', 'date', 'R. Show floating sidebar', 'main text', 'What', 'the standard approach', 'ES2015 modular architecture', 'boxed Byte', 'Java', 'SE spec', 'Iterate', 'unknown amount', 'input', 'Python', 'subscription.request(n', 'Flow API', 'backpressure', 'any n value', 'i', 'methods', 'different objects', 'an arrayList', 'diagonal fractions', 'HTML', 'object level permissions', 'APIView', 'an array', 'null', 'it', 'useEffect React', 'Issue', 'class', 'function', 'a result', 'recursion', 'Python', 'Which substitution failures', 'requires clauses', 'Row', 'Sum', 'Single Joined Column', 'not a range', 'cells', 'my password', 'different hashes', 'the same salt', 'filling user', 'input', 'shell', 'DefaultIfEmpty Exception \"bug', 'limitation', 'EF Core', 'Flutter', 'a container', 'a panel', 'something', 'a type casted pointer', 'year', 'date', 'count', 'records', 'every year', 'an output variable', '[MATLAB', 'Elixir', 'a custom type implement', 'vuejs boolean value', 'template', 'Unwanted values', 'Problems', 'screen size', 'iPhoneX', 'SpriteKit', 'c ++ Data entry', 'array', 'struct structure', 'list', 'XElement', 'class', 'separate file', 'device coordinates', 'shader', 'different results', 'cpu', 'load_entry_point', 'other modules', 'No module', '\" error', 'setState', 'the enclosing function returns', \"and' operator\", 'python3', 'Image', 'an excel spreadsheet', 'R. ValueError', 'The model', 'accuracy', 'You', 'metrics=[\"accuracy', 'the `model.compile', ')` method', 'What', 'JS', 'website', 'browser', 'both row', 'column', 'condition', 'symmetric dataframe', 'an extended promise instance', 'an async function', 'Recursion and Tail Call Optimization Example', 'Xamarin Forms Upload image', 'variable', 'webpage', 'sets', 'elements', 'an array', 'Ruby', 'a function', 'a function', 'document', 'Google Sheets ArrayFormula Solution', 'Multiplying 2 Columns', 'a Column', 'Lists', 'Numbers', 'DOM element', 'event listener', 'common code', 'all onclick handlers', 'a React app', 'Safari middle-button click bug', 'I', 'the Perl 5 module', \"Data::Printer's `show_tied` option\", 'it', 'Raku', 'new View', 'SwiftUI', 'a slider menu', 'it', 'the slider', 'itself', '\"operator T', 'c++ smart pointer implementation', 'rows', 'DF', 'index', 'Schema design', 'store billing', 'multiple payment providers', 'TFJS', 'model', 'http', 'headers', 'what scenarios', \"the validated receipt's transaction_id\", 'JavaScript', 'all items', 'array', 'X number', 'init', 'a struct', '@propertyWrapper members', 'function', 'each row', 'the next row', 'R', 'What', 'the difference', 'vh', 'vpx and Regular PX/%', 'waitKey', 'I', 'proper background', 'a character-based graphics system', 'all MSProject file', 'a directory - Excel VBA', 'Update HTML', 'two values', 'array', 'objects', 'Kestrel', 'system', 'InvalidOperationException', 'a video', 'css', 'perl', 'bad return value', 'decode_json', 'JavaFX', 'indicator', 'a new window', 'a Point', 'Geography', '1 Meter', 'Entity Framework Core', 'Net Topology Suite', 'a new class method', 'R', 'Python', 'gcs blob', 'the dataflow worker', 'C# ArgumentNullException type', 'namespace', 'VS Code', 'C# List', 'AddRange', 'Parallel', 'ArgumentException', 'value', 'async coroutine', 'an oversize div', 'multiple table cell', 'colspan', 'it', 'Iterator::filter_map', 'conditional filtering', 'user context access', 'I', 'Twitter OAuth', 'my request', 'MongoDB index', 'decltype', 'function template', 'default argument', 'the confused result(a funny problem', \"gcc's bug\", 'I', 'tag position', 'Convert cmp', 'Bootstrap', 'I', 'something', 'the footer', 'Cyclic dependency', 'global objects', 'Java Concurrency', 'Practice', 'a task', 'a dedicated thread', 'What', 'the purpose', 'scheduled taskThread.interrupt', 'ASP.NET Core MVC', '3.1 project', 'me', 'a register user', 'Identity', 'The entity type', \"'Customer\", 'a table', 'it', 'ApplicationUser', '\"uninitialized constant Faraday::Error::ClientError', '(NameError', 'they', 'matplotlib events', 'when Qt events', 'an emoji', 'Chrome', 'the url', 'a service', 'kubernetes', 'certain parameters', 'lambda expression', 'PIL', 'an ICO image', 'the lowest index', 'the array', 'all text', 'a TextBox', 'mouse', '(TextBox', 'SelectAll', 'TextBox', 'a plot', 'function arguments', 'R', 'a saved Codable struct', 'a new property', 'Image display size', 'half', 'srcset', 'hi dpr screens', 'line', 'linear gradient', 'bottom left corner', 'Python BeautifulSoup', 'requests', 'div style', 'new object', 'function', 'Concepts', 'Fastest method', 'each character', 'string', 'a list', 'strings', 'we', ') method', 'dart code', 'state', 'hook', 'App hook', 'React', 'Issue', 'timepicker', 'which button', 'other activity', 'Assembly', 'variable-size stack frame', 'these stack-alignment instructions', 'a VLA', 'I', 'image', 'pizza', 'cv2', 'local.settings.json', 'azure function', 'core web project', 'Service', 'Lifespan', 'use-cases', 'What', 'the type', 'a class name', 'parenthesis', 'sprintf', 'another string', 'dates', 'dataframe - mix', 'decimal and character values', 'lambda row', 'df', 'if statement', 'a string', 'a variable name', 'the Initialization', 'C++ STL Containers', 'Blazor Component parameter', 'its component', 'title', 'child views', 'TabView', 'NavigationView', 'Python - Aggregate', 'week', 'the month basis', 'Keys', 'INDICES', 'compound PRIMARY', 'KEY', 'TypeError', 'only integer', 'scalar arrays', 'scalar index', 'dataframe \"to_datetime', 'std::ffi::os_str::OsStr', 'the full name', 'a service', 'Kubernetes', 'specific data', 'nested list', 'Why margin-left', 'a Block Formatting Context element', 'a same result', 'margin-right', 'a float element', 'Mysql', 'constraint', 'many relation', 'certain number', 'relations', 'a random list', 'a list', 'items', 'handle_info', 'timeout', 'erlang', 'duplicates', 'dataframe', 'punctuations', 'user details', 'azure active directory', 'authentication provider', 'the checkboxes', 'loop', 'Material UI', 'the callstack', 'a stack data structure', 'C', 'Remove Edit', 'delete button', 'select box reactJS', 'Array size deduction', 'Css', 'a page', 'No constructor', 'type', \"'MyProject\", 'Response', 'services', 'the service container and default values', 'Groupby year', 'the average', 'the size', 'pandas', 'I', 'text size', 'google bar chart', 'value', 'each bar', 'verification process', 'PowerShell', 'basic question', 'all indices', 'an occurrences', 'a string', 'words', 'row entries', 'columns', 'pandas DataFrame', 'Error', 'region', 'an object', 'Pandas groupby sort each group values', 'order dataframe groups', 'max', 'each group', 'CPU usage', 'a function', 'std::future wait', 'a flag sleep', 'a while', 'a loop', 'I', 'object properties', 'console.log(obj', 'Chrome', 'floating values', 'pydatatable', '2 different arrays', 'objects', 'both matching and non matching items', 'Maximum', 'some specific columns', 'a spark scala dataframe', 'multiple instances', 'tags', 'Possible z-index issue', 'LINQ', 'EF', 'Where expression', 'lambda property', 'Form', 'availability', 'data', 'Cout', '(error', 'no match', 'operator', 'the text', 'a script', 'a variable', 'another script', 'linux', 'Function', 'sum', 'one or more arguments', 'pandas DataFrame', 'Pandas dataframe cell', 'null value', 'Google Sheet', 'a column', 'another column', '.0', 'multiple columns', 'Gray scale images', 'C++', 'What', 'deprecated Facebook adView setAdListener', 'callbacks', 'How to vertically align items', 'different sizes', 'a compiler', 'gcc', 'version', 'a processor', 'What', 'the difference', 'Step', '\"Force Step', 'the Intellij debugger', 'I', 'the value', 'a nested formBuilder group', 'a html form', 'object array', 'a new array', 'two dataframes', 'R. MySQL event', 'table data', 'other table', 'my model', 'Laravel', 'relationships', 'query builder', 'C#', 'class', 'generic type', 'some class', 'a group', 'django', 'Parameters pack', 'Error', 'the constant mac address', 'an android device', 'the WifiManager', 'I', 'one default value', 'the end', 'autocomplete search list', 'search results', 'anyone', 'me', 'A cross-origin error', 'target.name', 'Necessity', 'bson struct tag', 'MongoDB go client', 'Css nth child filter', 'all elements', 'a JSON object variable', 'Proto definition', 'long data format', 'wide data format', 'pandas', 'index', 'constant interval', 'Core 3.0 ILogger testing', 'C# Abstract Method', 'update method', 'horizontal scroll bar', 'table', 'I', 'user parameters', 'a value', 'firebase', 'I', 'a string', 'another string', 'Lua', 'operator+', 'enum class', 'non zero starting value', 'inherited frames', 'argument', 'a procedure', 'diverging color scale', 'averages', 'each value', '-axis', 'arguments', 'docker run command', 'few scripts', 'an azure function', 'a specific time', \"type 'Timestamp\", \"type 'int' - Substracting datasets\", 'I', 'Firebase Cloud Functions', 'Firestore events', 'i', 'an array', 'a class object', 'a compile time size', 'Travis CI build error', 'my R package', 'C++', 'Rcpp', 'RcppArmadillo', 'shared extension', 'library dependency', 'Get n level parent', 'find command', 'python', 'it', 'a publicy shared google sheet', 'an auth code', 'AWS Batch:/usr/local/bin/python', 'binary file', 'Prometheus node exporter', 'an already existing docker container', 'A Div Appear', 'Refresh Javascript', 'Coroutines CancellationException', 'behaviour', 'Custom color', 'region', 'Venn', 'ggplot2', 'I', 'a document', 'my remote DB server', 'error', 'command insert', 'authentication', 'properties', 'objects', 'an array', 'multiple class properties', 'value', 'TextField', 'StreamBuilder', 'Concurrency', 'Practice Circular Buffer Error', 'a specific Jenkins job', 'regex', 'value', 'properties', '@Value', 'Spring', 'a function wrapper', 'overloads', 'Change', 'contrast', 'picture', 'MySQL query', '3 counts', 'group', 'ReactJS: Join map', 'output', 'concatenating value', 'the overridden BackColor property', 'a UserControl', 'What', 'the correct syntax', 'pointer', 'a struct/class member', 'strptime', \"Rails' test environment\", 'Intersection Observer', 'Remove/ Add classes', 'header', '<footer> viewport position', 'Deconstruct', 'parameters', 'typescript and default values', 'JMeter JDBC pre-processor', 'multiple Insert/delete/update queries', 'segmentation', 'knapsackproblem', 'Aggregate', '$project', '$group', '$sum', '$count', '$group', 'Tensorboard', 'it', 'a killed Windows PID', 'Android', 'flaky ViewModel unit', 'coroutines', 'Dreamweaver', 'my stylesheet', 'the local disk', 'only date number', 'a date column', 'format', 'Mmm-dd', 'padas', 'R maths operation', 'NA values', 'Swift Combine - perform tasks', 'given sequence', 'Inline SVG <title', 'desc', 'correct usage', 'accessilibility', 'user', 'No console', 'C#', 'Laravel', 'parameters', 'method FormRequest Class', 'this code snippet', 'the outer scope', 'the arrow function', 'showList', 'forEach', 'keyframe animations', 'they', 'resources', 'Promise.all', 'Redux Invalid hook call', 'a database', 'Azure Data Studio', 'it', 'use', 'Kotlin - <T', '<T', 'regex', 'VisJs', 'Node Dynamicaly', 'a 1D array', '500 pointers', 'a function', 'C. Django', 'FilterSet', 'boolean values', 'a trigger', 'SQLite', 'android', 'a line', 'Key_Return press', 'QTextEdit', 'values', 'qml', 'a tox environment', 'Child', 'styles', 'its parent blade layout', 'GridSearchCV', 'all the parameters', 'I', 'it', 'I', 'an Array', 'Record', 'Conditional Bulk Update', 'SQL Server', 'multiple columns', 'Lambda', 'Kotlin', 'Multithreading Operation', 'Method', 'key', 'a map', 'computation', 'its values', 'Java', 'local variables', 'an event', 'Handling method', 'garbage collection', 'Django', 'ALL database', 'the paginator function', 'it', 'an async method', 'a promise', 'a bad practice', 'member swap', 'terms', 'non-member swap', 'Python Selenium', 'a hidden frame', 'java script assert', 'a Windows service', 're', '-', 'installation', 'uninstallation', 'Inno Setup', 'dependency', 'which dependency', 'unwanted jar', 'Deprecated java.security.egd=file:/dev/./urandom', 'Spring Boot applications', 'spring data', 'spring boot', 'TypeScript', 'Correct type', 'an array', 'objects', 'a reduce', 'OpenQA.Selenium', 'NoSuchElementException', 'I', 'the button', 'expandable area', 'Vue Axios Mixin global method type', 'an identically-named parent function', 'What', 'the return value', 'spurious wake-ups', 'App', 'BLE Multiple connections', 'gateway', 'value', 'numpy ndArray', 'R convert XML', 'complex structure', 'files', 'chown recursive', 'wildcard', 'file name', 'TypeScript', 'Type error', 'an array', 'objects', 'Inherit class', 'chaining functions', 'I', 'a condition', 'it', 'a specific letter', 'VBA', 'Java Multithreading', 'usage', 'A more elegant way', 'new elements', 'data', 'multiple group elements', 'What', 'the return value', 'an ad-hoc SQL query', 'property/value pairs', 'a CSS text', 'I', 'two LocalDates', 'the past', 'week integer', 'aggregate query', 'Core', 'Claim', 'AzuerAD Authentication', 'MsgBox', \"multiple 'past due' items\", 'an array', 'objects', 'boto3', 'object', 'metadata', 'tag', 'the type', 'elements', 'tuple', 'dotty', 'SQL - Select', 'Key value', 'one json', 'sequence', 'filename', 'a regular expression', 'TypeScript', 'null', 'messages', 'flask_socketio', 'Response object', 'FeatureCollection', 'the DefaultHttpContext', 'DateTime', 'ParseExact', 'custom date formats', 'windows', 'raspbian', 'CSV separator', 'Karate', 'full Kafka-message batch', 'Spring Boot', 'ISO 8601 Strings', 'Enzyme - access Form Input', 'mounted value', 'props', 'Haskell', 'function', 'expected type', 'actual type `Expr', 'I', 'Listbox', 'code', 'it', 'a component', 'layout', 'Vaadin', 'it', 'The run time', 'specific group', 'decorators', 'class methods', 'class instantiation', 'an IP', 'a google filestore instance', 'Form code', 'MAKEMIGRATONS', 'pairs', 'polygons', 'a specific (bigger) polygon', 'all that points', 'that pairs', \"array's value\", 'TypeScript', 'a std::tuple', 'compilte-time/run-time', 'its values', 'Arrange numbers', 'different descending orders', 'ViewModel', 'TextFields', 'SwiftUI', 'I', 'list comprehension', 'terms', 'higher order functions', 'rainy animation', 'Flutter', 'React useEffect', 'How to group', 'elements', 'items', 'HTML lists', 'the exact data structures', 'algorithms', 'a standard piece', 'code', 'C++ STL', 'a ManyToMany query', 'a class based view', 'Convert string', 'HTML', 'JSON Object', 'obstacles', 'NxM board', 'Compilation Error', 'jobs', 'oracle', 'a difference', 'pointer', 'main / function', 'Manual mouse ray', 'ray calculation', 'java rotation problem', 'I', 'this KeyError', 'data', '3 records', 'a website', 'excel vba', 'excel data', 'the active state', 'flowchart', 'search result', 'it', 'column', 'a powershell command', 'Python', 'print', 'Dynamic SQL Pivot', 'new columns', 'column value', 'parse column names', 'What', 'Webflux', 'a single synchronous call', \"Excel VBA Run-time error '424' Object\", 'replacing cell contents', 'rounded to 2 decimals', 'current values', 'common configuration', 'different plugins', 'the same Maven module', 'available GPU memory', 'tensorflow', 'MaterialUI', '+ React Testing Library', 'Unit test Select MenuItem breaks', 'version', 'I', 'the last word', 'character', 'javascript', 'Binary operator problem', 'multiple excel files', 'one file', 'multiple sheets', 'Python', 'todo', 'one list', 'Vue.js', 'Mutate returns data', 'wrong order', 'a bug', 'spacing', 'table rows', 'we', 'events', 'a boolean array', 'A', 'two 1-D vectors', 'A[i', 'a Logger Class', 'Log4Net', 'Simple Injector', 'data quality', 'query', 'two OR statements', 'JOIN', 'multiple items', 'filter method', 'React/JS', 'specified columns', 'React', 'useEffect', 'a missing dependency error', 'NodeJS request', 'weird characters', 'CLion', 'Process', 'exit code', '2D data frame', '3D matrix', 'preserving row and column order', 'Windows Visual Studio', 'Visual Studio', 'Mac', 'the same Xamarin.iOS version', 'mono', 'SDK version', 'Postgres', 'function', 'best / first element', 'a group', 'it', 'a pointer', 'an uninstantiated object', 'a variable', 'C++', 'Component Gateway', 'DataprocOperator', 'Airflow', 'git', 'local directory', 'Azure Repos', 'multiple fields', 'SelectTokens', '\"window.location.pathname', 'route specific logic good practice', 'Bug/Feature', 'pandas', 'a multi-indexed dataframe', 'date returns', 'the date index level', 'a Pandas dataframe', 'new data', 'existing ID number', 'my dice', 'only even integers', 'an even number', 'dice', 'Delete', 'square brackets', 'dynamic array', 'worksheet style', 'macro', 'the ? operator', 'the error', 'the trait', 'NoneError', 'Error', 'an empty 2d array', 'I', 'this protected member function', 'the wanted output', 'haskell', 'expected type', \"actual type 'Bool\", 'you', 'a relationship', 'a primary key', \"the second table's column\", 'Nan', 'Array', 'arrays', 'What', 'the diff', 'something', 'factor levels', 'use', 'rows', 'StyleFrame', 'I', 'the numbers', 'a String', 'the average', 'them', 'the chron package', '2 digit years', 'link onclick', 'Scala tuple', 'Sequence', 'same order', 'output', 'double quotes', 'shapeless', \"the error 'super constructor\", 'a self reference', 'parameter', 'name', 'HMAC-SHA256', 'Java', 'different output', 'JavaScript', 'Vue.js - using functions', 'component methods', 'csv-parse', 'a loop', 'TypeScript', 'the return type', 'a function', 'Numpy-like mask values', 'Tensorflow', 'part', 'the x-axis', 'logscale', 'Gnuplot', 'How to \"forward\" a @Published value', 'Simplest hand-rolled permutations', 'combinations', 'NA', 'loop', 'the results', 'a Tukey test', 'boxplots', 'CLD letters', 'Unit testing', 'code', 'fatal flows', 'a loop', 'javascript mileage calculation', 'a pythonic way', 'the pairs', 'whole minutes', 'csv', 'value', 'code', 'ipython', 'program', 'a scheduled task', 'the user', 'PowerShell', 'Concurrency issue', 'CosmosDb', 'Effect', 'RDD', 'same result', 'mapPartitions', 'What', 'the point', 'a JavaScript getter method', 'VSCode Code Spell Checker extension', 'an entire folder?/. openssl EVP_CipherFinal_ex', 'Count number', 'words', 'a Dictionary file', 'R.', 'The relative unit', 'percentage', 'the browser', 'the space', 'fr', 'str', 'no object', 'django', 'Multiple Text Fields', 'Regex', 'Compiling', 'Pandas DataFrame', 'new browser window', 'partial title text', 'either Python', 'JavaScript', 'Robot Framework', 'Selenium', 'a way', 'a start', 'endtime column', 'a single datetime column', 'R', 'grouped data', 'multiple regression models', 'data subsets', 'R. Typescript', 'specific prop', 'key', 'Status Bar Color', 'a Specific View', 'Web Api Post ActionResult', 'object', 'I', 'I', 'each category', 'StrokeType', 'OUTSIDE', 'high amounts', 'lag', 'a label', 'a ScrollPane', 'brackets', 'python', 'Radio Button', 'Asp.net Webform', 'multiple choice question', 'does `Object.keys/values/entries', 'Arrays', 'iterators', 'my directional movement functions', 'Function', 'Visual Studio Code', 'a way', 'quotes', 'ripgrep', 'MS Windows', 'Powershell', 'CMD', 'Closing parentheses', 'string', 'app service app', 'Azure cli', 'Panel data', 'multiindex', 'Query/filter', 'criteria', 'countif', 'Issues', 'MPI program', 'two cluster nodes', 'I', 'the bar size', 'matplotlib pyplot bar charts', 'mutated structures', 'it', 'Delphi', 'union enumerations', 'a larger enumeration', 'One instance attribute', 'updates', 'class instantiation', 'it', '@Singleton', '@Prototype', 'Micronauts', 'Jackson custom KeyDeserializer', 'Map', 'entries', 'key', 'What', 'the jobrequest endpoint return', 'Update text', 'WinForms Label', 'center', 'set_index', 'multiindex columns', 'tuples', 'a spark dataframe', 'I', 'a string', 'character count', 'Istio', 'Kubernetes', 'more than one TLS Certificate. x86 Assembly', 'Segmentation Fault', '(Core', 'print array', 'full URL', 'laravel', 'Search sentence', 'all values', 'a list', 'values', 'adjacent cell', 'Django query object', 'loop', 'oracle table', 'Python', 'data', 'another table', 'a field', 'Firestore type reference', 'command button', 'Excel', 'Space Optimised query', 'I', \"Vuetify's primary text color\", 'Sum values', 'column', 'row', 'the column', '%', 'total', 'my function', 'the desired result', 'Return values', 'matching conditions', 'r. Uncaught Error', 'Android', 'files', 'R.raw', 'a row', 'information', 'a specific cell', 'the cell', 'it', 'Start', 'Endtimes', 'R', 'a way', 'the days', 'dataframe', 'a specific column', 'the aggregations', 'a separate column', 'R', 'Powershell', 'ExtractToDirectory', 'no folder', '1 or 2 repositories', 'project', 'git', 'OpenGL', \"a remote (Paramiko) ssh command's output\", 'Flutter', 'SizedBox', 'Dynamic Height', 'Ansible conditional omit filter', 'looped items', 'C# List<T> RemoveAt(int32) function', 'all indexes', 'each List', 'a 2d List', 'specified list', 'track', 'a recursive function', 'Copy format', 'previous row', 'Gforms', 'a text column', 'my dataframe', 'a list', 'possible patterns', 'the value', 'a React controlled input element', 'a Chrome extension', 'Asp', 'Net MVC', 'data', 'view', 'dataloss', 'Regex pattern - simple string template', 'object mapping', 'R', 'a subject', 'their columns', 'a certain value', 'PHP redirect', 'version based user’s location', '(IPAPI', 'a session', 'Qt signal', 'slots', 'QRunnable', 'another thread', 'Typescript multiple object properties', 'shared types', 'a way', 'a motion', 'a register', 'Doubly Generic Types', 'C', '#', 'ListAdapter', 'a RecyclerView Fragment', 'all SqlCommands', 'SqlTransaction', 'multi-level dictionary', 'dash-separated string', 'RangeBetween', 'Descending', 'Order', 'the list', 'all HTML element tags', 'the browser', 'C++ Resource file ProductVersion', 'variable names', 'variable values', 'Intrusive containers', 'performance advantages', 'non-intrusive ones', 'modern C++', 'null values', 'firebase transaction api', 'Pandas', 'the diff', 'all values', 'one group', 'the last value', 'the previous group', 'a string representation', 'a list', 'tuples', 'a list', 'elements', 'Emojis', 'a pipe', 'C.', 'Postgresql', 'unique constraint', '2 columns', 'a specific value', 'cases', 'first few characters', 'spss', 'Filtering', 'values', 'vectors', 'purrr', 'text', 'the beginning', 'big textfile', 'an address', 'an instant', 'a template', 'a function', 'a pointer', 'some function', 'Merge', 'single-file', 'author', 'change', 'git', 'The $changeStream stage', 'replica sets\" error', 'mongodb-source-connect', 'Confusing use', 'Mark Lutz\\'s \"Learning Python', 'outliers', 'Standard Deviation', 'NA', 'large dataset', '6000+ columns', 'DIV', 'javascript parameter', 'Java Concurrency', 'Practice', 'reliable cancellation', 'LogWriter', 'What', 'the point', 'coordinates', 'a Tweet', 'the Twitter API', 'Flash', 'Unstyled Content', 'FOUC', 'gatsby', 'Emotion', 'real dates', 'a loop', 'r.', 'I', 'the numbers', 'a String', 'I', 'a subclass', 'QMessageBox', 'flag modifications', 'PySimpleGUI', 'a GUI', 'a working python script', 'it', 'kable cells', 'hyperlinks', 'r-markdown generated PDF files', 'InvalidElementStateException invalid element state', 'Element', 'order', 'it', '\" error', 'text', 'Selenium Python', 'Typescript', \"Type 'string\", 'index type', '[key: string', 'Shrine - Derivation Endpoint', 'full path', 'URLs', 'Cloudfront', 'the heap', 'allocate', 'memory', 'a generic type', 'Arc', 'I', 'net::ERR_ABORTED', 'a view', 'error', 'the css', 'Laravel', 'methods', 'the object', 'requests.post data', 'value', 'master node', 'kubernetes', 'Kubernetes Services', 'Minikube', 'this dialog', 'Detox', 'Obvious solution', 'I', 'it', 'I', 'two functions', \"contructor's member initializer list\", 'std::set::const_iterator', 'operator+ function', 'Use', 'Import', 'Native Library', 'Apk', 'Python', 'statement', 'c', 'section', 'statement', 'Django Rest Framework', 'AWS', 'strtok', 'a char', 'not a const char', 'I', 'differing signatures', \"a function's definition\", 'declaration', 'Concat', 'Arrayformula', 'row numbers', 'ERROR', \"Variable 'sql_mode\", 'the value', \"'NO_AUTO_CREATE_USER\", 'IBM MQ', 'any IBM dependency jars', 'java client', 'Postman', 'AWS API Gateway', 'AWS lambda function', 'Typescript = type errors', 'Eigen LinSpaced - deprecated-copy warning', 'the value', 'a dictionary key', 'string', 'integer', 'Anonymous function', 'goroutines', 'CTM', 'multiplication', 'previous state', 'Identity matrix', 'PDF position', 'TensorFlow 2.0 Layer', 'None type shape Tensor', 'I', 'an allocated structure', 'an \"out\" pointer parameter', 'Pandas - Count number', 'elements', 'each series', 'dictionaries', 'algorithm efficiency', 'elements', 'same container', 'Core Data', 'Swift UI', 'private IP', 'EC2 instance', 'any drawbacks', 'operator+', 'bidirectional iterators', 'a function object', 'an argument', 'numba njit function', 'a way', 'the time difference', 'a single datetime column', 'ID', 'Any other ways', 'users', 'bot', 'sigin', 'cards', 'nested promise', 'await/async', 'unresolved promises', 'std::search', 'current iterator', 'iterator', 'std::advance', 'chrome native app', 'python', 'a string', 'variables', 'numbers', 'curly braces', 'changes', '@Published', 'the better way', 'Javascript', 'git store', 'conflicts', 'merges', 'its author history', 'the frame', 'Angular - Test service', 'submit', 'Modifying value', 'dataframe column', 'other column', 'the parent class', 'if the child href', 'the requirement', 'I', 'the Power BI', 'my Spring based project', 'Python', 'outliers', 'a regression Q-Q plot', 'gsap rotation', 'sharp transitions', 'Flutter Streambuilder map', 'List object', 'Retrieve contacts', 'profile pic', 'batches', 'Graph API', 'I', 'h1 innerText', 'JavaScript', 'the innerText', 'its child', 'Regex - excluding characters', 'data frame', 'another data frame', 'it', 'auto populate field', 'other field selection', 'Azure DevOps', 'all individual layers', 'a Raster Brick File', 'Disable Row', 'Antd Table', 'all columns', 'a dataframe', 'a condition', 'the cookies', 'every request', 'browser console', 'document.cookie', 'What', 'data structure', 'JAVA TreeSet', 'Python', 'empty tag', 'optimizations', 'shared memory', 'all loaders', 'Selenium WebDriver', 'Java', 'Capture Bash output', 'variable', 'Shell Script', 'Wpf usercontrol base', 'an instance', 'Incompatible Class Change Error - org.eclipse.jetty.annotations', 'AnnotationParser', 'Web Project', 'Sympy returns', 'What', 'the proper way', 'multiple layouts', 'ReactJS', 'ffmpeg', 'video', 'subtitle', 'a single command', 'Search text', 'ActionText attribute', 'variables', 'variables', 'Powershell', 'SQL time difference', 'multiple conditions', 'I', 'a route', 'Core middleware', 'UseEndpoints', 'Error', 'data', 'std::Vector', 'Eigen::Vector', 'new data base', 'old MinMaxScale', 'the dataframe', 'changes', 'conditions', 'recursive variadic templates', 'work', 'KeyValueStore', 'operations', '(Kafka Streams', 'I', 'a div', 'what', 'another div', 'Vue', 'a Navigation Bar Button', 'Condition', 'How force timestamp', 'folders', 'Powershell', 'the last n columns', 'delimiter', 'tabindex', 'all button', 'a div', 'class', 'SQL query', 'two tables', 'latest data', 'ApprovedByLevel', 'elements', 'an array', 'a index', 'the end', 'it', 'mutation testing results', 'every test method', 'Pit Mutation Test', 'limit', 'query', 'a String', 'value', 'array', 'unknown index', 'one statement', 'Java method reference selection narrow type', 'error', 'SHA-1', 'file', 'Conditional replacement', 'column', 'numpy array', 'gateway', 'a specific namespace', 'max cost', 'path', 'N*N matrix', 'perference', 'one direction', 'What', 'multiple interfaces', 'generic syntax', 'do', 'one item', 'array', 'items', 'the necessary message', 'Perl', 'C# PowerPoint VSTO Addin', 'superscript font style', 'added text', 'PowerPoint TextRange', 'Count number', 'pairs', 'list', 'order', 'yield', 'chunks', 'elements', 'numpy array', 'groupby and sort values', 'add_widget', 'the kv file', 'block()/blockFirst()/blockLast', 'thread reactor-http-server', '-epoll-18', 'multiple HttpClient objects', 'an ASP.NET Core application', 'spaceless block', 'autoescape', 'SyntaxException', 'Twig', 'Deduction failure', 'function call', 'explicit template argument list', 'I', 'a conda environment', 'command', 'Migrate comma', 'string', 'json array', 'pip install causallift', 'Extracting types', 'properties', 'generic interfaces', 'unnecessary generic type', 'mongodb', 'aggregation pipeline', 'known two markers extraction', 'problem markers', 'Escape String interpolation', 'What', 'the difference', \"/' operator\", '\"%', '\" operator', 'r programming language', 'a vector', 'some row values', \"another column's row values\", 'Laravel / Vue Passport', 'SPA', '- Store', 'cookies', 'ParseException', 'Unparseable date', 'Java', 'Exact 1 year previous date', 'Scala', '-', 'numeric column name', 'missing months', 'a column vector', 'React.memo', 'a file', 'named exports', 'PageView', 'flutter', 'dot indicator', 'every page', 'the button', 'ninjacart app', 'syntax', 'TypeScript', 'Matrix Multiplications', 'Vector', 'ES5 Module pattern usage', 'promise', ') DOMException', 'texImage2D', 'Tainted canvases', 'Scipy', 'the physics', 'Minkowski metric', 'What useful function', 'RxJs', 'a tree', 'arbitrary number', 'children', 'a node', 'the left half subtrees', 'right half', 'subtrees', 'a given node', 'which method', 'you', 'PuLP python', 'AWS Sagemaker', 'ECS', 'model hosting', 'two columns', 'CSV', 'Number', 'streak ID', 'pandas', 'value', 'MongoDB Aggregation', 'conditional sums', 'Matplotlib weekly bars', 'width<1.0', 'a function', 'the last result', 'R', 'minimal typing', 'the service principal', 'an Azure Automation Account connection', 'PowerShell', 'AndroidX', 'SwipeRefreshLayout', 'DataBinding', 'Haskell', 'monadic fixpoint', 'RWS', 'argument', 'Any pointers', 'Apps Script deprecation path', 'PyQt5', 'unnecessary blank space', 'Qlabel', 'Angular', 'specific JSON data', 'country name', 'click function', 'ion-spinner', 'Generate', 'nested constant arrays', 'C', 'compile time', 'MySQL', 'records', 'a date/time', 'minus 1 hour', 'I', 'CMake lists', 'sets', 'sync scrolling', 'textarea', 'container', 'Azure Mapping Data Flow', 'blob storage dataset', 'a source', 'Problem', 'Quarkus Dependency Injection', 'JPA Entity Manager', 'GCP', 'Creating Client', 'text', 'a function', 'Google Sheet', 'script', 'I', 'my default local directory', 'psftp', \"variable's scope\", 'C++', 'a class', 'a template class', 'std::pair<auto, auto> return type', 'socket.io origins', 'Fade-transitioning effect', 'background images - overlapping issue', 'Kusto Query', 'an interval', '5 minutes', 'the average', 'two arrays', 'Go', 'Python & qtDesigner uic pop-up window lineEdit access', 'y', 'an object', 'output', 'python', 'python3', '(same script', 'vue', 'cli@3', 'No module factory', 'dependency type', 'CssDependency', 'a SELECT result', 'column comments', 'Case-insensitive Regular Expression - VBA', 'os.path', 'the project path', 'file path', 'Regex', 'numbers', 'optional commas', 'numbers', 'a list', 'multiple substrings', 'python', 'icon color', 'v-select component', 'Segmented Control text movement', 'an alert', 'Rows', 'divs', 'React-Native type', 'a string', 'the distance', 'dots', 'grid lines', 'matplotlib', 'existing columns values', 'a single particular value', 'interface signature', 'code', 'multiple places', 'Python', 'list', 'another list', 'list', 'jQuery', 'next input', 'DOM', 'different parent', 'Input Box', 'a loop', 'last entry', 'i', 'different branches', 'git', 'my local repository', 'different branches', 'origin', 'average color', 'all the clusters', 'connectedComponents', 'Error', 'Environment variables', 'Google Cloud', 'the SDK', 'you', 'xcuitests', 'parallel', 'azure dev Ops', 'I', 'the edges', 'my tab bar container', 'flutter', 'patterns', 'binary columns', 'everything', '\"Files\" folders', 'a specific role', 'Xfce', 'CentOS', 'ansible yum', 'Row-wise Boolean comparison', 'data', 'comma', 'command line arguments', 'json', 'shell script', 'Typescript Pick', 'literal type', 'bash', 'Client network socket', 'secure TLS connection', 'things', 'txt file', 'c. webscraping', 'R', 'openweather', 'Tkinter Nested Frame', 'Classes', 'Background thread', 'event handler', 'Blazor Component', 'Method', 'the allocation', 'a collection', 'Java reactor', 'Inappropriate blocking method call', 'Unauthorized error', 'Sharepoint REST API', 'Python', 'Template Metaprogramming', 'Fibonacci', 'boost::any', 'a null/undefined value', 'Stacked Barplot', 'R-Studio', 'dictionaries', 'condition', 'occurrences', 'pandas dataframe', 'serial port module', 'Node', 'I', 'hand', 'an auto-incremented loop variable', 'Numpy vectorization', 'data type', 'The type-specification operator', 'down-casting', 'Object-Oriented languages', 'it', 'the wrong item', 'Extra size', 'geometryReader', 'Kubernetes deployment', 'c# casting oddity', 'any explanations', 'Matploltib quiver plot', 'argument order', 'SizedBox', 'Padding', 'it', 'any difference', 'rows', '2 pandas dataframes', 'lists', 'different size', 'Kotlin composition', 'coroutine context', 'constructor', 'coroutine scope', 'Web animation', 'each use', 'Laravel', \"6 config()->get('database.connections.mysql\", 'DB', 'connection', 'VBA', 'ListBox Change event', 'Nullable references types', 'ToString() overload', 'third-party SSL Certificate', 'AWS EC2 Instance', 'Ubuntu AMI', 'it', 'one-time', 'monthly basis', 'FactoryBot ActiveRecord::AssociationTypeMismatch error', 'wrong class', 'ID', 'time', '5 minutes', 'each activity', 'Time Difference', 'Activity', 'R. Change/Map levels', 'a data frame columns', 'other reference list', 'R. Intel store instructions', 'delibrately overlapping memory regions', 'Dispatch', 'a function', 'a redux action', 'Visual Studio', 'Docker', 'the host port numbers', 'records', 'EF', 'a list', 'combinations', '(key/values', 'Vectorize addition', 'multiple pandas columns', \"certain columns' values\", 'groupby', 'Pandas', 'Creation', 'new field', 'the next empty position', 'an array', 'custom left-link models', 'wagtail admin page', 'object', 'all values', 'a date range', 'Length', 'first sequence', 'zeros', 'given size', 'certain column', 'pandas dataframe', '@_functionBuilder problem', 'initializer', 'less than 2 items', 'Laravel Eloquent', 'my queries', 'whereHas', 'a function', 'the array prototype', 'Spring Integration DSL FTP Issue', 'min/max', 'index', 'list', 'lists', 'Quicksort', 'Just 2 Elements', 'Gradle force', 'a different version', 'a particular Transitive dependency', 'Merge 2 csv', 'Django', 'dynamic Q queries', 'related tables', 'Whole word', 'Javascript', 'awk/sed find', 'that point', 'the visible area', 'HtmlAgilityPack', 'a condition Grade Letters', 'new columns', 'existing column', 'python', 'Perceptron Algorithm', 'matplotlib', 'Javascript', 'object', 'order', 'date', 'time', 'different column', 'extra day', 'the time', 'midnight', 'a string', 'x', 'position', 'another string', 'Store', 'text box values', 'an javascript array', 'an order', 'Python', 'optional Groups', 'one match', 'visibility binding', 'MenuItem', 'ContextActions', 'a ListView', 'React modal', 'the last element', 'map function', 'indentation', 'Tesseract OCR', 'a line chart', 'a data table', 'google chart', '2 columns', 'same df', '\"0\" values', 'a JSON string', 'escaped quotes', 'Python', 'I', 'Firebase Firestore child', 'the Python SDK', 'annotations order', 'two lists', 'different types', 'Streams', 'owner', 'a process', 'ps', 'S3', 'url file upload', '\\xa0nodeJS + client', 'a interface base property', 'the derived', 'kafka-avro-console-producer', 'a schema', 'the schema registry', 'What', 'expression', 'a node set', 'multiple ranges', 'a list', 'I', 'no current reactor', 'a new key value', 'a JSON file', 'NodeJS', 'pre', 'a fixed width', 'each line', 'the same length', 'characters', 'Spring Integration DSL History issue', 'Export Firestore backups', '.json', 'anyone', 'me', 'a square', 'What', 'Endpoint Discovery', 'I', 'a child', 'its dynamically sized grandparent', 'Julia Module', 'User Defined Function', 'OQL', \"A Class's Field Names\", 'the error messsage', 'No drawer view', 'gravity LEFT', 'package name', 'function name', 'variable', 'python', 'Ansible - Access output', 'a shell command', 'with_items', 'Javascript - Async await', 'the value', 'not the promise', 'Split()result', 'No Add Rows Operation', 'a list', 'observable collection', 'Double', 'Oracle', 'ORA_ROWSCN', 'a query', 'a big table', 'no where clause', 'trigger', 'recaptcha library', 'user', 'the value', 'hidden input field', 'Split list', 'rows', 'list items', 'SqlBulkCopy DataTables', 'they', 'a DataSet', 'Confirmable', 'Confirmation Feature', 'I', 'a specific link address', 'IMPORTXML', 'XPath', 'an \"online\" linear interpolation', 'RegEx', 'text', 'parentheses', 'Google Maps', 'iframe', 'page load', 'Unqualified sort', 'it', 'std::vector', 'std::array', 'which compiler', 'Createprocess', '\"C:\\\\\\\\Windows\\\\\\\\System32\\\\\\\\OpenSSH\\\\\\\\ssh.exe', 'error=2', 'pandas Data.frame assign issue', 'mix-manifest.json', 'javascript', 'i', 'a function', 'multiple values', 'a list', 'git conflict', 'the conflicting file', 'the final content', 'hooks', 'Cookie', 'site', 'React', 'state', 'multiple values', 'a table field', 'typedef', 'typedef', 'C', 'camera view properties', 'quarkus jaxrs non-blocking misconception', 'data.frames', 'an initial dataframe', 'lapply', 'R. Space complexity', 'dfs', 'Iterate', 'list', 'dataframes', 'specific rows', 'it', 'a pdf file', 'wxFormBuilder', 'undefined method stdClass::save', 'Psy Shell code', 'line', 'all objects', 'same type', 'an array', 'Javascript', 'Django ImportError', 'name', 'a Dictionary', 'Lists', 'Tuples', 'DataFrame', 'Python', 'the center', 'a path object', 'specific code', 'layout previews', 'the hard way', 'a piece', 'MySQL', 'sytax - why does this work', 'what', 'it', 'I', 'a directory', 'Azure App Service slots', 'a way', 'a public static class', 'I', 'the status', 'a process', 'a terminal tab', 'EF Core', 'large amounts', 'data', 'Import own data', 'MNIST', 'CIFAR10 load_data', 'Elasticsearch', 'advantage', 'cluster', 'factor levels', 'a vector', 'Propogating NA', 'an operation', 'two vectors', 'variables', 'dplyr', 'Illegal instruction', 'VS C++', 'Windows', 'a space character', 'a number', 'JavaScript', 'a column', 'data frame', 'paste0 name', 'the underlying value', 'an Enum', 'rows', 'stacks', 'Pandas', 'Preferred Visual Studio Version', 'Azure DevOps', 'nil', 'Run AWS CLI KMS', 'commands', 'Cloudformation', 'Import multiple excel sheets', 'different files', 'python', 'them', 'one dataframe', 'TypeScript mapping', 'unboxed conditional']\n"
     ]
    }
   ],
   "source": [
    "print(\"Noun phrases:\", [chunk.text for chunk in doc_title.noun_chunks])"
   ]
  },
  {
   "cell_type": "code",
   "execution_count": 26,
   "metadata": {},
   "outputs": [
    {
     "name": "stdout",
     "output_type": "stream",
     "text": [
      "Verbs: ['determine', 'use', 'contain', 'return', 'name', 'hoist', 'put', 'get', 'cause', 'assign', 'get', 'use', 'get', 'store', 'import', 'have', 'get', 'work', 'use', 'filter', 'use', 'use', 'reject', 'capture', 'parse', 'move', 'work', 'fix', 'wrap', 'use', 'domnodeinserte', 'fopen', 'expand', 'use', 'set', 'get', 'understand', 'point', 'commit', 'use', 'nest', 'add', 'excel', 'use', 'handle', 'include', 'have', 'configure', 'login', 'react', 'convert', 'list', 'make', 'save', 'use', 'combine', 'separate', 'melt', 'define', 'specify', 'convert', 'move', 'get', 'give', 'get', 'match', 'use', 'roll', 'avoid', 'generate', 'use', 'intersect', 'draw', 'expect', 'attribute', 'use', 'check', 'reduce', 'return', 'pseudo', 'use', 'create', 'show', 'work', 'expect', 'store', 'join', 'use', 'df.mode', 'init', 'make', 'behave', 'hide', 'show', 'extract', 'contain', 'use', 'connect', 'send', 'use', 'use', 'select', 'recognize', 'remove', 're', '-', 'add', 'build', 'sort', 'get', 'include', 'work', 'try', 'set', 'format', 'avoid', 'wrap', 'return', 'reselect', 'use', 'define', 'access', 'limit', 'output', 'use', 'use', 'set', 'run', 'need', 'create', 'start', 'get', 'list', 'find', 'convert', 'create', 'check', 'fix', 'define', 'miss', 'customize', 'have', 'convert', 'work']\n"
     ]
    }
   ],
   "source": [
    "print(\"Verbs:\", [token.lemma_ for token in doc_title if token.pos_ == \"VERB\"])"
   ]
  },
  {
   "cell_type": "code",
   "execution_count": 27,
   "metadata": {
    "scrolled": true,
    "tags": []
   },
   "outputs": [
    {
     "name": "stdout",
     "output_type": "stream",
     "text": [
      "Noun phrases: ['I', 'the following question', 'a job interview', 'it', 'Part', 'the problem', 'I', 'my mind', 'what problem', 'I', 'I', 'the question', 'I', 'it', 'you', 'two different things', 'the first task', 'one string', 'a multiple', 'another string', 'the second task', 'a smaller unit', 'division', 'both strings', 'It', 'me', 'the pressure', 'the interview room', 'me', 'I', 'what', 'the ideal algorithm', 'Any suggestions', 'What', 'the correct way', 'a trait object', 'a method', 'a reference', 'the compiler error', 'we', 'two ways', 'we', 'the definition', 'we', 'the definition', 'bar', 'I', 'the difference', 'what circumstance', 'another method', 'the function declaration', 'the return statement', 'the function', 'it', 'the return statement', 'it', 'a function expression', 'it', 'I', 'the value', 'two login input fields', 'their value', 'change', 'this value', 'the local state', 'the user', 'the login', 'I', 'the current values', 'the state', 'the inputs flickering', 'I', 'text', 'them', 'I', 'the password field', 'the cursor', 'the email field', 'The glitch', 'note', 'I', 'the email field', 'it', 'some reason', 'I', 'the password field', 'the code', 'my', 'My inputs', 'a modal component', 'I', 'an overlay', 'a portal', 'I', 'related questions', 'other methods', 'nothing', 'I', 'any help', 'I', 'the members', 'a vector', 'an atomic type', 'I', 'command', 'me', 'output', 'the question', 'UPDATE', 'The only way', 'I', 'exactly what', 'I', 'I', 'it', 'it', 'parameter', 'Hello, happy new year', 'I', 'a simple poll', 'I', 'the choices', 'the vote count', 'I', 'I', 'the choices', 'the count', 'the choice', 'the index', 'it', '0 vote', 'the choice', 'the index', 'it', '24 votes', 'it', 'it', 'security rules', 'I', 'I', '2 items', 'the array', 'I', 'the value', 'each item', 'the user', 'it', \"'s\", 'The other idea', 'I', 'the user', 'a specific field', 'I', 'the user', 'the value', 'he', 'I', 'the user', 'a dynamic field', 'I', 'he', 'I', 'the amount', 'you guys', 'any ideas', 'suggestions', 'I', 'them', 'Packages', 'the Comprehensive R Archive Network', 'CRAN', 'other packages', 'CRAN', 'packages', 'CRAN', 'packages', 'I', 'a contribution', 'more sense', 'a separate package', 'the contribution', 'its own right', 'other packages', 'I', 'the base::by() function', 'R.', 'it', 'the base::tapply() function', 'some reason', 'the following code', 'I', 'I', 'the following warnings', 'mtcars$mpg', 'mtcars$hp', 'them', 'arguments', 'Anyone', 'the case', 'you', 'I', 'a table', 'it', 'certain Father', 'the same name', 'I', 'I', 'tables code', 'Query #', 'Query #1 OUTPUT', 'Query #', 'Query #2 OUTPUT', 'Query #', 'Query #3 Output', 'Output', 'Query', '#', \"'s\", 'we', 'a simple word count problem', 'a list', 'we', 'the word count', 'each word', 'the list', 'Which pattern', 'I', 'a purely alphabetical argument', 'I', 'an alphanumeric user input', 'numeric inputs', 'my relevant code', 'my code', 'the function', 'my program', 'this one bug', 'Any help', 'an edX cs50 homework assignment', 'I', 'the whole assignment', 'this bug', 'I', 'an answer', 'over 3 hours', 'no avail', 'me', 'overflownobi', 'You', 'my only hope', 'I', 'PHP', 'a document', 'sections', 'A sample text', 'What', 'I', 'I', 'Example', 'I', 'I', 'new lines', 'quotation marks', 'a way', 'this query', 'inner joins', 'Edit', 'DDL', 'the tables', 'my result', 'I', 'Indexes', 'the help', 'workbench', 'the following columns', 'Any help', 'Thanks', 'I', 'all the Inputs', 'Outputs', 'a Parent Component', 'Typescript', 'HTML', 'I', 'the following', 'a long list', 'parameters', 'Parent', 'data', 'Child Component', 'them', 'Typescript', 'Goal', 'services', 'strongly typed components', 'parent', 'child', 'smart-dumb architecture strategy', 'services', 'I', 'the problem', 'the last few lines', 'I', 'the problem', 'The problem', 'I', 'each select element', 'It', 'some unwanted divs', 'Uncaught', 'Maximum call stack size', 'What', 'I', 'my codepen', 'HTML code', 'jQuery code', 'CSS code', 'I', 'Google Test', 'C code', 'I', 'the problem', 'I', 'a couple', 'rows', 'a date range', 'excel', 'Pandas', 'two records', 'I', 'intervals', '7 days', 'what', 'I', 'output', '7 days', 'I', 'a row', 'the remaining days', 'a code', 'I', 'Pandas', 'I', 'I', 'the methods', 'anyone', 'EDIT', 'you', 'everyone', 'I', 'a lot', 'your responses', 'the answer', 'Datanovice', 'the accepted answer', 'I', 'some environment variables', 'my bash script', 'order', 'execution', 'echo output', 'the above dict', 'I', 'the value', '\"S', 'Error', 'I', 'Laravel', 'what', 'I', 'new array', 'urlConstants', 'another array', 'I', 'any other way', 'this variable', 'the integers', 'a defination', 'a listnode class', 'I', 'node', 'node1', 'node1', 'a pointer', 'node2', 'I', 'we', 'a node1->node2->node3 pointing', 'a way', 'I', 'some readings', 'this code', 'The output', 'this code', 'what', 'I', \"m's attribute\", 'I', 'id', 'it', 'different ids', 'someone', 'what', 'I', 'a list', 'numbers', 'who', 'digits', 'order', 'it', 'me', 'a recursion', 'I', 'the nesting depth', 'Notes', 'my application', 'I', 'something', 'I', 'minimum burden', 'the print statement', 'I', 'the same reason', 'Thanks', 'I', '2 outputs', 'commands', 'Using SHELL', 'Output', 'Output', 'My actual output', 'excel', 'Output', 'column', 'Output', 'column', 'the C11 standard states', 'A byte', 'all bits', 'shift state', 'I', 'it', 'a multibyte character', 'its bytes', 'the below example', 'the characters', 'zero bytes', 'it', 'What', 'I', 'I', 'an app', 'I', 'the user', 'un', 'a blog', 'un-bookmarking', 'I', 'that bookmark record', 'I', 'my test file', 'I', 'This test', 'the following', 'It', 'the second assertion', 'context', 'I', 'classic mapping', 'I', 'My gut', 'me', 'it', 'something', 'the query', 'I', 'any evidence', 'it', 'Any help', 'Thanks', 'advance', 'A full example', 'I', 'I', 'a simple hello world program', 'I', 'the error', 'kubelet', 'ClusterDNS IP', 'Pod', '\"ClusterFirst\" policy', '\"Default\" policy', 'my', 'what', 'I', 'I', 'I', 'alot', 'I', 'some answers', 'no one', 'me', 'I', 'what', 'I', 'me', 'what', 'I', 'I', 'Windows server', 'I', 'trouble', 'SQL Server', 'I', 'default user', 'master database', 'I', 'SQL Server Management Studio', 'I', 'that database', 'it', 'I', 'SQL Server Management Studio', 'Windows authentication', 'I', 'an error', 'A connection', 'the server', 'an error', 'the login process', 'Shared Memory Provider', 'error', 'No process', 'the other end', 'the pipe', 'SqlClient Data Provider) error:233', 'I', 'it', 'I', 'this error', 'Login Failed', 'user A. Reason', 'Server', 'single user mode', 'Only one administrator', 'this time', '(Microsoft SQL Server', 'Error', 'What', 'this error', 'I', 'my database', 'I', 'database', 'kotlinx.coroutines.flow list', 'normal data class list', 'I', 'this example', 'A row', 'two columns', '75% width', 'right', '25% width', 'Right column height', 'the left column', 'the right column', 'overflowing content', 'right column', 'HTML code', 'stylesheet', 'I', 'a RecyclerView', 'which there are three buttons', 'its model', 'I', 'a listener', 'each button', 'I', \"RecyclerView's child\", 'a listener', 'it', 'I', 'a listener', 'a child', 'a child', 'RecyclerView', 'I', 'Kotlin', 'I', 'this code', 'you', 'the child', 'recyclerView', 'the child', 'RecyclerView', 'I', 'Address', 'HashMap', 'the compiler', 'the  error', 'this field', 'database', 'You', 'a type converter', 'it', 'private java.util', 'HashMap address', 'I', 'the MapTypeConverter', 'it', 'Room Entity', 'App DataBase', 'I', 'each dataframe', 'an empty row', 'i', 'them', 'this snippet', 'i', 'them', 'an empty row', 'I', 'dataframe', 'I', 'it', 'a dataframe', 'Meaning', 'the delimiter', 'the columns name', 'What', 'the best way', 'I', 'unqiue smart pointers', 'template', 'I', 'the compiler error', 'user-define conversion', 'the return type', 'my code', 'both header', 'cpp files', 'The error', 'line', '.h', 'line', 'I', 'it', 'the cpp', 'I', '2 associative arrays', '2 queries', 'JSON format', 'These 2 arrays', 'this code', 'I', 'a multidimensional array', 'php', 'the JSON', 'I', 'I', 'the net', 'no luck', 'Any help', 'you', 'I', 'this regular expression', 'an Arabic diacritical mark', 'a subtitle file', 'it', 'the diacritical mark', 'just one letter', 'the left', 'it', 'I', 'python', 'the original line', 'a subtitle file', 'the diacritical mark', 'its correct place', 'أنا لا أترصّد عبر الإنترنت', 'i', 'it', 'أترصدّ عبر الإنترنت', 'I', 'a media player', 'some reason', 'the diacritical mark', 'one letter', 'the right', 'the diacritical mark', 'its correct place', 'this media player', 'i', 'the diacritical mark', 'one letter', 'the left', 'the subtitle file', 'https://github.com/xbmc/xbmc/issues/17076', 'anyone', 'z-index default value', 'this snippet', 'I', 'sub', 'the top', 'I', 'text', 'top level', 'text', 'lower level', 'I', 'the top', 'it', 'the top level border', 'I', 'container', 'every child element', 'it', 'I', 'I', 'it', 'z-index:1', 'it', 'I', 'the situation', 'I', 'some content', 'a website', 'the HTML', 'something', 'the website', 'I', 'the href attribute', 'the problem', 'I', 'this problem', 'basic string manipulation', 'It', 'I', 'an electron app', 'nodeJS', 'I', 'a user', 'random password', 'FTP', 'Docker', 'The section', 'Dockerfile', 'I', 'an error', 'last line', 'the passwords', 'even I', 'a same variable', 'I', 'the output', 'it', 'the new section', 'Dockerfile', 'Thanks', 'anyone', 'I', 'a new column', 'values', 'the previous row', 'same column', 'You', 'it', 'a loop', 'you', 'column', 'values', 'column', 'the previous row', 'I', 'a Shiny app', 'I', 'fast calculation', 'loops', 'a way', 'loops', 'use', \"dplyr's piping\", 'This reply', 'I', 'a stereo sine wave', 'FFMPEG', 'batch file', 'a different frequency', 'left', 'I', 'it', 'the same frequency', 'We', 'a map', 'Student', 'we', 'a list', 'Student Id', 'the MWE', 'I', 'boxplots', 'these ideas', 'mind', 'MWE', 'Summary code', 'ggplot code', 'Graph', 'I', 'boxplots', 'annotation', 'I', 'A object', 'B', 'any alternate way', 'something', 'I', 'a python library', 'tasks', 'a DB', 'a few tens', 'tasks', 'Every task', 'the task', 'the DB', 'the library', 'it', 'the library', 'it', 'the PK violation error', 'the DB', 'a cost', 'this method', 'constant PK violation', 'the task', 'ON CONFLICT', 'some error-handling', 'the DB', 'reduced performanc', 'an external library', 'I', 'I', 'the logic', 'The specific DB', 'I', 'postgres', 'it', 'a difference', 'I', \"R's max function\", 'combination', 'an example', 'anybody', 'a legitimate input argument', 'any R function', 'no warning', 'the argument', 'I', 'an array', 'elements', 'I', 'the following code', 'this form', 'parameter', 'dimension', 'being', 'what', 'I', 'large dimension', 'a lot', 'overhead', 'any other low complexity method', 'this matrix', 'Thanks', 'i', 'a custom view', 'a 85%', 'a circle', 'Just Stroke', 'Gradient color', 'my code', 'the edges', 'i', 'i', 'it', 'one more thing', 'i', 'the radius', 'the view', 'I', 'C', 'It', 'a guessing game', 'the user', 'a certain amount', 'guesses', 'the hidden message', 'I', 'the correct word', 'it', 'it', 'I', 'a Guess', 'the number', 'tries', 'it', 'I', 'a zip file', 'the image files', 'my server', 'I', 'the following function', 'Everything', 'all photos', 'zip file', 'only one problem', 'Its look', 'we', 'this file format', 'What', 'my codes', \"'s\", 'I', 'an array', 'I', 'each element', 'each row', 'so something', 'I', 'a way', 'axis=1', 'I', 'any question', 'my issue', 'someone', 'me', 'I', 'response', 'server', 'I', 'a Modal struct', 'the data', 'server', 'I', 'it', 'Question', 'UPDATE', 'More detail', 'what', 'I', 'four records', 'json', 'I', 'booking1', 'booking2', 'I', 'I', 'a dataframe', 'I', 'Here an image', 'All input', 'Thanks', 'this code', 'the only way', 'I', 'what', 'I', 'I', 'a global variable', 'a bad idea', 'multi-threaded applications', 'mine', 'I', 'the price', 'an eventuality', 'I', 'I', 'more general terms', 'the question', 'stuff', 'the initvars section', 'a program', 'Rust', 'you', 'me', 'If a function', 'I', 'Two questions', 'it', 'What', 'the value', 'I', 'different results', 'a simple java class', 'Windows cmd', 'The java class', 'I', 'this test arguments', 'cmd', 'the single quote', 'the arguments', 'ubuntu', 'it', 'Any idea', 'I', 'it', 'my requirement', 'it', 'initialization', 'I', 'I', 'a bash script', 'a json value', 'a variable', 'i', 'the values', 'that json', 'Jq', 'The code', 'an error', 'no such file', 'direcotry', 'i', 'any error', 'the value', 'it', 'i', 'it', 'first case', 'I', 'records', 'Aurora/Mysql', 'MSK', 'Elastic search service', 'Aurora -->Kafka-connect--->AWS MSK--->kafka', 'The record', 'Aurora table structure', 'something', 'order', 'elastic search', 'i', 'proper schema', 'so schema registry', 'i', 'My question', 'Question', 'i', 'schema registry', 'type', 'message schema registry', 'i', 'JSON structure', 'i', 'More help', 'I', 'i', 'what', 'Even i', 'this error', 'i', 'i', 'anything', 'schema', 'I', 'jdbc connector', 'i', 'i', 'error', 'Question', 'Question', 'the above properties', 'i', 'schema name', 'table name', 'answer', 'i', 'my configuration', 'Kafka', 'JDBC', 'JDBC', 'elastic search', 'i', 'properties', 'i', 'i', 'properties', 'i', 'topic', 'i', 'any topic', 'table name', 'Stack trace', 'the error message', 'Go', 'sheet data', 'the data', 'something', 'the api', 'code', 'I', 'algorithms', 'parity', 'some one', 'I', 'a pandas data frame', 'dates', 'indices', 'example', 'I', 'just the first element', 'each available month', 'example', 'this DF', 'I', 'I', 'no idea', 'I', 'Thanks', 'advance', 'my database', 'my app', 'I', 'two collectionViewControllers', 'The first one', 'cells', 'category', 'the second collectionViewController', 'cells', 'the items', 'each category', 'The problem', 'my app', 'the different items', 'the category', 'I', 'the example', 'some reason', 'printing item', 'snapshot.children.allobjects prints', 'nothing', 'the first collectionViewController', 'the Categories node', 'I', 'the category1', 'category2 data', 'I', 'this exact method', 'my seccond collectionViewController', 'the Category1 node', 'anything', 'it', 'the category array', 'the viewcontroller', 'the collectionView', 'The cells', 'history', 'Git LFS', 'I', 'I', 'alternative methods', 'the end', 'I', 'all the commands', 'me', 'the following error', 'multiple files', 'the filtered commits', 'pointer files', 'the objects', 'I', 'the same commands', 'only the tip commit', 'it', 'the problem', 'unchanged file', 'index', 'filter-branch', 'Windows', 'git bash', 'I', 'presto', 'Presto', 'my IDE', 'I', 'presto', './mvnw clean install', 'the instructions', 'this document', 'I', 'an exception', 'follow', 'My version', 'Presto', 'tag', 'I', 'this problem', 'I', 'a table', 'schema', 'I', 'this table secondary index', 'column senderType', 'all the queries', 'createdAt DESC', 'I', 'a new query', 'any option', 'this query', 'materialized view', 'Thanks', 'I', 'a simple two tab application', 'JavaFXML', 'scenebuilder', 'The tabs', 'nothing', 'I', 'a nullpointer exception', 'them', 'The java and fxml files', 'a Netbeans project', 'The application main class', 'MainApp.java', 'the scene', 'The MainController class', 'the two tabs', 'the Input tab', 'Account tab', 'the application', 'an exit button', 'the program', 'the MainView', '. fxml file', 'the java controller class', 'the main view', 'The two println statements', 'the references', 'the two tabs', 'detailController', 'inputController', 'something', 'the following dump', 'output', 'the printlns', 'the outcome', 'the tab pane', 'the detail and input controllers', 'completeness', 'they', 'InputView.fxml', 'The controller', 'DetailView.fxml', 'The controller', 'I', 'dependency services', 'both side', 'Interface', 'shared library', 'i', 'it', 'it', 'i', 'it', 'ViewModel', 'messaging center', 'count', 'notification', 'Toolbar', 'application', 'it', 'anyone', 'any kind', 'idea', 'what', 'i', 'this code', 'Below Code', 'InterFaceCode', 'Dependency service', 'BadgeDrawable Class', 'I', 'a beginner', 'Pandas', 'Matplotlib', 'I', 'some questions', 'plots', 'pandas', 'I', 'the following code', 'an area plot', 'I', 'the following aspects', 'it', 'Matplotlib(or', 'any other library', 'python', 'EDIT', 'you', 'the input data', 'Error message', \"JohanC's solution code\", 'Jupyter', 'I', 'a lot', 'questions', 'the Maybe type', 'composition', 'I', 'my head', 'I', 'my situation', 'the sake', 'example', 'I', 'a function', 'I', 'a function', 'I', 'something', 'a type', 'I', 'anything', 'the standard library', 'my specific case', 'I', 'a function', 'the trick', 'I', 'the answer', 'the original question', 'I', 'an issue', 'some reason', 'the state', 'my selector', 'a look', 'What', 'I', 'wrong', 'the following code', 'I', 'the string', 'I', 'the stars(ratings', 'each rating column', 'this url', 'the star-counting part', '5 rows', 'star ratings', 'I', 'loop', 'the scope', 'each star_count', 'the list', 'the star rating', 'each user', 'this approach', 'what', 'the list', 'my', 'loop', 'the counting scope', 'I', 'other ways', 'the counting scope', 'my aim', 'Thanks', 'advance', 'I', \"that vuetify's grid properties\", 'the 12 column flex-box', 'I', 'a grid', 'a default', '7 or 8 columns', 'this example', 'My', 'I', 'a simple web app', 'Vue.js', 'Firestore', 'I', 'the web app', 'the page', 'no internet connection', 'I', 'the desired results', 'I', 'the  enablePersistence', 'the firebase configuration file', 'my Vue project', 'PWA template', 'I', 'that method', 'the lifecycle methods', 'the app components', 'the desired result', 'I', 'the same R script', 'parallel', 'batches', 'different parameters', 'The R script', 'a H2O model', 'this case', 'I', 'I', 'the latter solution', 'I', 'initialization', 'the H2O cluster', 'so many batches', 'The first batch', 'the cluster', 'H2O.init', 'the last batch', 'it', 'my application', 'I', 'a refresh token logic', 'I', 'the refresh token process', 'all requests', 'a queue', 'my process', 'I', 'the queue', 'example', 'I', 'something', 'the refresh token process', 'a regex query', 'the bolded string', 'Mozilla/5.0', '(Linux', 'U', 'Android 4.2.2', 'us', 'I', 'this option', 'it', 'the following string', 'U', 'Android 4.2.2', 'us', 'A2003 Build', 'Suggestions', 'I', 'a way', 'AZ CLI', 'all available configuration options', 'a specific  Azure service', 'The purpose', 'we', 'everything', 'certain configuration options', 'I', 'website', 'different tables', 'it', 'JavaScript', 'jQuery', 'all time strings', 'web page', 'them', 'UTC time', 'I', 'the time difference', 'UTC', 'hours', 'I', 'some loop', 'Any ideas', 'I', 'something', 'lack', 'knowledge', 'I', 'notifications', 'the app', 'the background', 'I', 'the NotificationCenter publishers', 'the SwiftUI view', 'them', 'Strangely the listener', 'I', 'Laravel rate limit', 'I', 'it', 'throttle data', 'I', 'the default storage system', 'MySQL/Mariadb', 'Redis', 'I', 'the Flyweight pattern', 'I', 'inheritance', 'I', 'this pattern', \"'s\", 'I', 'a superclass', 'all the \"heavy\" information - textures', 'the one', 'I', 'the light class', 'data', 'main create', 'I', 'C++', 'fixed width integers', 'What', 'a portable way', 'fixed width integers', 'I', 'a dateframe', 'I', 'how many rows', 'each class', 'I', 'a particular day', 'the final result', 'I', 'I', 'the problem', 'Thanks', 'advance', 'I', 'a task tray application', 'Core', 'I', 'a simple menu', 'the application features', 'the required Menu class', 'The official documentation', 'control', 'the class', 'I', 'a requirement', 'thie point', 'I', 'My question', 'I', 'the transformers', 'it', 'I', 'one flow', 'all the transformers', 'I', 'it', 'sub', '-', 'flows', 'any transformer', 'an exception', 'it', 'the rest', 'transformers', 'error channel', 'I', 'an exception handling channel', 'I', 'which step', 'the exception', 'I', 'a beginner', 'Laravel', 'a ticketing system', 'My', 'User Model', 'Ticket Model', 'View', 'Controller', 'I', 'the annoying 12h time format', 'AM', 'PM', 'the 24h time format', 'I', 'external programs', 'gnuplot', 'warning', 'Bad time format', 'string', 'I', 'Code', 'Result', 'I', 'Identity server', 'Authentication', \"my client's application\", 'Asp.net core MVC Project', 'one web API resource', 'some ajax request', 'I', 'some pages', 'Mvc client', 'call web API resource', 'javascript ajax call', 'I', 'authentication', 'JWT', 'maybe Cookies', 'JWT', 'I', 'I', 'a sha', 'I', 'any options', 'arguments', 'The script', 'it', 'the debugger', 'I', 'it', 'i', 'i', 'python3', 'a linux machine', 'the code', 'the problem', 'i', 'it', 'an exception', 'it', 'this exception', 'i', 'i', 'its configs', 'nothing', 'you', 'I', 'this code', 'AWS Lambda', 'I', 'things', 'out errors', 'the message', 'Database', 'the logged output', 'INFO', 'INFO', 'INFO', 'My thought', 'the function', 'I', 'any code', 'connection.connect', 'I', 'One more question', 'd null', 'I', 'no big deal', 'it', 'the order', 'log messages', 'I', 'other functions', 'I', 'queries', 'the connection', 'It', 'it', 'I', 'these log messages', 'this method', 'my other method', 'I', 'this issue', 'I', 'a table', 'I', 'this doubt', 'table', 'The problem', 'what type', 'I', 'that column', 'I']\n"
     ]
    }
   ],
   "source": [
    "print(\"Noun phrases:\", [chunk.text for chunk in doc_body.noun_chunks])"
   ]
  },
  {
   "cell_type": "code",
   "execution_count": 28,
   "metadata": {
    "scrolled": true,
    "tags": []
   },
   "outputs": [
    {
     "name": "stdout",
     "output_type": "stream",
     "text": [
      "Verbs: ['ask', 'stump', 'make', 'solve', 'think', 'realize', 'ask', 'solve', 'figure', 'contain', 'find', 'be', 'be', 'be', 'use', 'contain', 'return', 'give', 'resolve', 'modify', 'modify', 'say', 'understand', 'use', 'use', 'put', 'cause', 'hoist', 'put', 'turn', 'be', 'hoist', 'attempt', 'track', 'get', 'store', 'submit', 'get', 'result', 'type', 'type', 'jump', 'observe', 'seem', 'happen', 'type', 'follow', 'situate', 'display', 'use', 'go', 'try', 'use', 'seem', 'work', 'appreciate', 'assign', 'have', 'extract', 'extract', 'find', 'output', 'need', 'be', 'be', 'do', 'think', 'make', 'store', 'have', 'think', 'put', 'have', 'have', 'have', 'have', 'work', 'come', 'firestore', 'understand', 'check', 'be', 'check', 'change', 'let', 'say', 'assume', 'modify', 'be', 'prevent', 'replace', 'want', 'find', 'let', 'update', 'know', 'go', 'modify', 'know', 'have', 'be', 'hear', 'import', 'be', 'import', 'be', 'be', 'make', 'sit', 'be', 'use', 'try', 'get', 'work', 'follow', 'work', 'try', 'get', 'follow', 'accept', 'know', 'be', 'use', 'see', 'have', 'have', 'want', 'choose', 'get', 'create', 'desire', 'let', 'say', 'solve', 'try', 'find', 'occur', 'figure', 'reject', 'figure', 'reject', 'pass', 'go', 'carry', 'save', 'appreciate', 'finish', 'search', 'help', 'stack', 'be', 'use', 'try', 'separate', 'need', 'use', 'be', 'capture', 'optimize', 'avoid', 'look', 'edit', 'add', 'follow', 'appreciate', 'move', 'have', 'send', 'receive', 'like', 'be', 'transfer', 'utilize', 'leave', 'type', 'be', 'prefer', 'be', 'know', 'know', 'get', 'want', 'wrap', 'work', 'exceed', 'want', 'use', 'test', 'encounter', 'try', 'figure', 'expand', 'use', 'want', 'expand', 'expect', 'see', 'be', 'want', 'show', 'remain', 'leave', 'draft', 'use', 'be', 'use', 'be', 'help', 'be', 'thank', 'respond', 'learn', 'hear', 'use', 'accept', 'try', 'set', 'pick', 'try', 'access', 'say', 'define', 'want', 'do', 'define', 'include', 'want', 'know', 'access', 'type', 'give', 'do', 'mean', 'have', 'do', 'mean', 'have', 'do', 'do', 'think', 'assume', 'aliase', 'change', 'm', 'break', 'confirm', 'run', 'turn', 'have', 'explain', 'go', 'like', 'generate', 'be', 'ascend', 'convert', 'vary', 'have', 'print', 'like', 'keep', 'generate', 'have', 'use', 'be', 'go', 'go', 'suggest', 'interpret', 'think', 'make', 'have', 'work', 'contain', 'do', 'miss', 'have', 'want', 'be', 'bookmark', 'bookmark', 'want', 'remove', 'have', 'have', 'pass', 'fail', 'use', 'tell', 'have', 'do', 'get', 'evaluate', 'manage', 'find', 'support', 'appreciate', 'use', 'try', 'run', 'get', 'have', 'configure', 'create', 'use', 'fall', 'default', 'get', 'try', 'search', 'find', 'work', 'create', 'apply', 'create', 'let', 'know', 'miss', 'use', 'use', 'have', 'log', 'change', 'open', 'detach', 'click', 'disconnect', 'connect', 'check', 'click', 'get', 'establish', 'occur', 'try', 'fix', 'get', 'connect', 'cause', 'login', 'attach', 'login', 'master', 'convert', 'see', 'contain', 'leave', 'be', 'be', 'have', 'overflow', 'be', 'live', 'have', 'be', 'set', 'access', 'set', 'want', 'set', 'consider', 'use', 'use', 'let', 'access', 'try', 'store', 'give', 'figure', 'save', 'consider', 'add', 'use', 'work', 'separate', 'combine', 'use', 'split', 'have', 'want', 'melt', 'look', 'melt', 'base', 'do', 'implement', 'keep', 'get', 'say', 'specify', 'occur', 'try', 'use', 'use', 'work', 'have', 'result', 'generate', 'need', 'make', 'output', 'achieve', 'search', 'seem', 'get', 'thank', 'use', 'remove', 'modify', 'move', 'remove', 'use', 'be', 'need', 'be', 'use', 'move', 'get', 'use', 'need', 'move', 'explain', 'work', 'expect', 'be', 'know', 'wrap', 'notice', 'hide', 'expect', 'work', 'follow', 'know', 'give', 'resolve', 'hope', 'understand', 'be', 'scrape', 'look', 'scrape', 'use', 'get', 'return', 'fix', 'seem', 'help', 'know', 'do', 'use', 'create', 'have', 'get', 'match', 'use', 'update', 'find', 'work', 'resolve', 'want', 'grow', 'base', 'do', 'see', 'use', 'do', 'need', 'have', 'use', 'be', 'do', 'avoid', 'make', 'try', 'generate', 'use', 'have', 'have', 'create', 'leave', 'have', 'record', 'have', 'consider', 'like', 'generate', 'expect', 'see', 'add', 'work', 'note', 'copy', 'do', 'use', 'insert', 'have', 'exist', 'update', 'do', 'insert', 'catch', 'use', 'select', 'see', 'exist', 'use', 'invoke', 'cause', 'like', 'know', 'implement', 'use', 'make', 'use', 'know', 'use', 'use', 'try', 'create', 'be', 'place', 'write', 'follow', 'get', 'be', 'do', 'need', 'cause', 'get', 'have', 'be', 'clip', 'try', 'fix', 'change', 'center', 'be', 'programming', 'guess', 'have', 'guess', 'enter', 'register', 'be', 'structure', 'ensure', 'occur', 'run', 'go', 'create', 'store', 'use', 'do', 'make', 'be', 'support', 'let', 'say', 'have', 'want', 'join', 'do', 'seem', 'find', 'find', 'find', 'answer', 'help', 'EDIT', 'EDIT', 'receive', 'create', 'store', 'come', 'use', 'try', 'achieve', 'need', 'merge', 'hope', 'have', 'try', 'clarify', 'appreciate', 'find', 'get', 'want', 'know', 'be', 'thread', 'pay', 'arise', 'use', 'try', 'write', 'be', 'get', 'show', 'initialize', 'look', 'compile', 'add', 'get', 'test', 'wsl', 'use', 'group', 'do', 'happen', 'try', 'work', 'hide', 'add', 'write', 'have', 'store', 'want', 'extract', 'use', 'use', 'throw', 'change', 'throw', 'be', 'try', 'do', 'do', 'have', 'send', 'connect', 'consume', 'need', 'use', 'have', 'use', 'use', 'require', 'have', 'create', 'keep', 'require', 'understand', 'edit', 'mention', 'do', 'start', 'get', 'expect', 'do', 'have', 'instal', 'start', 'get', 'file', 'mention', 'base', 'update', 'connect', 'connect', 'modify', 'modify', 'modify', 'list', 'see', 'list', 'use', 'fetch', 'arrive', 'format', 'remove', 'format', 'run', 'look', 'find', 'be', 'explain', 'work', 'have', 'want', 'select', 'want', 'select', 'have', 'do', 'be', 'ask', 'structure', 'have', 'show', 'label', 'show', 'retreive', 'nod', 'try', 'print', 'print', 'reference', 'be', 'retrieve', 'try', 'reference', 'print', 'add', 'reload', 'show', 'try', 'migrate', 'include', 'run', 'try', 'follow', 'run', 'work', 'give', 'follow', 'filter', 'have', 'try', 'run', 'seem', 're', '-', 'add', 'use', 'use', 'learn', 'want', 'run', 'build', 'follow', 'encounter', 'fix', 'have', 'have', 'need', 'order', 'need', 'do', 'create', 'materialize', 'have', 'do', 'get', 'try', 'load', 'arrange', 'set', 'declare', 'follow', 'declare', 'close', 'contain', 'try', 'get', 'be', 'do', 'be', 'run', 'comment', 'expect', 'display', 'mention', 'be', 'follow', 'make', 'share', 'use', 'code', 'work', 'use', 'use', 'message', 'set', 'work', 'have', 'happen', 'do', 'work', 'work', 'have', 'format', 'use', 'have', 'follow', 'want', 'change', 'follow', 'do', 'have', 'EDIT', 'use', 'see', 'ask', 'be', 'read', 'have', 'hurt', 'be', 'say', 'have', 'create', 'try', 'have', 'like', 'avoid', 'use', 'need', 'do', 'be', 'have', 'integrate', 'take', 'do', 'follow', 'access', 'try', 'count', 'try', 'use', 'limit', 'store', 'get', 'give', 'seem', 'work', 'store', 'turn', 'be', 'imply', 'work', 'limit', 'know', 'limit', 'achieve', 'get', 'build', 'like', 'create', 'make', 'want', 'cache', 'display', 'get', 'desire', 'use', 'method', 'build', 'try', 'use', 'get', 'desire', 'have', 'run', 'build', 'score', 'prefer', 'be', 'automate', 'shut', 'have', 'create', 'have', 'shut', 'have', 'implement', 'like', 'send', 'keep', 'finish', 'start', 'want', 'finish', 'try', 'create', 'return', 'bolde', 'try', 'get', 'return', 'wonder', 'use', 'see', 'be', 'secure', 'configure', 'be', 'question', 'configure', 'have', 'have', 'use', 'search', 'convert', 'let', 'say', 'know', 'think', 'regex', 'find', 'appreciate', 'put', 'work', 'want', 'listen', 'go', 'come', 'try', 'use', 'have', 'listen', 'use', 'wonder', 'store', 'throttle', 'change', 'try', 'implement', 'be', 'work', 'be', 'work', 'let', 'say', 'have', 'hold', 'change', 'have', 'change', 'create', 'fix', 'define', 'be', 'check', 'fix', 'have', 'look', 'need', 'know', 'have', 'look', 'be', 'start', 'approach', 'develop', 'want', 'create', 'access', 'require', 'show', 'get', 'have', 'think', 'have', 'flow', 'use', 'have', 'break', 'throw', 'ignore', 'go', 'put', 'know', 'throw', 'be', 'try', 'create', 'convert', 'want', 'avoid', 'have', 'use', 'use', 'be', 'need', 'handle', 'pass', 'run', 'get', 'need', 'work', 'debug', 'run', 'try', 'login', 'instagram', 'use', 'help', 'try', 'run', 'work', 'throw', 'throw', 'fix', 'try', 'restart', 'change', 'work', 'help', 'write', 'run', 'look', 'expect', 'work', 'get', 'connect', 'supply', 'execute', 'think', 'be', 'connect', 'know', 'effect', 'be', 'have', 'make', 'be', 'blow', 'put', 'work', 'do', 'design', 'have', 'take', 'use', 'use']\n"
     ]
    }
   ],
   "source": [
    "print(\"Verbs:\", [token.lemma_ for token in doc_body if token.pos_ == \"VERB\"])"
   ]
  },
  {
   "cell_type": "code",
   "execution_count": null,
   "metadata": {},
   "outputs": [],
   "source": []
  },
  {
   "cell_type": "code",
   "execution_count": 29,
   "metadata": {
    "scrolled": true,
    "tags": []
   },
   "outputs": [
    {
     "name": "stdout",
     "output_type": "stream",
     "text": [
      "React GPE\n",
      "first ORDINAL\n",
      "CRAN ORG\n",
      "CRAN ORG\n",
      "SQL ORG\n",
      "WHERE & ' ORG\n",
      "Python3 GPE\n",
      "20 CARDINAL\n",
      "PHP ORG\n",
      "Move Input ORG\n",
      "Outputs PERSON\n",
      "jQuery ORG\n",
      "Google Test C. How LAW\n",
      "Pandas NORP\n",
      "Linkedlist ORG\n",
      "Git PERSON\n",
      "Microk8s GPE\n",
      "SQL Server ORG\n",
      "2014 DATE\n",
      "1 CARDINAL\n",
      "Flow<List<T>> to List<T> ORG\n",
      "second ORDINAL\n",
      "Kotlin GPE\n",
      "HashMap ORG\n",
      "JSON & GSON ORG\n",
      "Two CARDINAL\n",
      "One CARDINAL\n",
      "FFMPEG ORG\n",
      "PK GPE\n",
      "Gradient Arc View Not Showing Correctly PRODUCT\n",
      "Django PERSON\n",
      "Kafka PERSON\n",
      "Aurora PERSON\n",
      "MSK ORG\n",
      "first ORDINAL\n",
      "each month DATE\n",
      "Remove Git LFS PERSON\n",
      "0.229 CARDINAL\n",
      "Toolbar GPE\n",
      "ViewModel ORG\n",
      "Matplotlib PERSON\n",
      "7 CARDINAL\n",
      "8 CARDINAL\n",
      "Firebase ORG\n",
      "close to CARDINAL\n",
      "20 CARDINAL\n",
      "two CARDINAL\n",
      "UTC ORG\n",
      "NotificationCenter ORG\n",
      "Laravel ORG\n",
      "only one CARDINAL\n",
      "3.1 CARDINAL\n",
      "12h DATE\n",
      "MVC ORG\n",
      "4 CARDINAL\n",
      "12 CARDINAL\n"
     ]
    }
   ],
   "source": [
    "for entity in doc_title.ents:\n",
    "    print(entity.text, entity.label_)"
   ]
  },
  {
   "cell_type": "code",
   "execution_count": 30,
   "metadata": {
    "scrolled": true,
    "tags": []
   },
   "outputs": [
    {
     "name": "stdout",
     "output_type": "stream",
     "text": [
      "two CARDINAL\n",
      "first ORDINAL\n",
      "one CARDINAL\n",
      "second ORDINAL\n",
      "at least one CARDINAL\n",
      "two CARDINAL\n",
      "two CARDINAL\n",
      "two CARDINAL\n",
      "0 CARDINAL\n",
      "1 CARDINAL\n",
      "24 CARDINAL\n",
      "2 CARDINAL\n",
      "35 CARDINAL\n",
      "1 CARDINAL\n",
      "24 CARDINAL\n",
      "the Comprehensive R Archive Network ORG\n",
      "CRAN ORG\n",
      "CRAN ORG\n",
      "R. NORP\n",
      "1 MONEY\n",
      "OUTPUT ORG\n",
      "2 MONEY\n",
      "2 MONEY\n",
      "OUTPUT ORG\n",
      "3 MONEY\n",
      "3 MONEY\n",
      "over 3 hours TIME\n",
      "PHP ORG\n",
      "2 CARDINAL\n",
      "3 CARDINAL\n",
      "Inputs NORP\n",
      "Outputs of a Parent Component ORG\n",
      "Typescript GPE\n",
      "Parent GPE\n",
      "Child Component ORG\n",
      "Typescript GPE\n",
      "Pandas NORP\n",
      "two CARDINAL\n",
      "7 days DATE\n",
      "7 days DATE\n",
      "the remaining days DATE\n",
      "Pandas NORP\n",
      "Datanovice ORG\n",
      "Laravel GPE\n",
      "2 CARDINAL\n",
      "3 CARDINAL\n",
      "& Value ORG\n",
      "2 CARDINAL\n",
      "SHELL ORG\n",
      "1 CARDINAL\n",
      "2 CARDINAL\n",
      "Output 1 PRODUCT\n",
      "1 CARDINAL\n",
      "2 CARDINAL\n",
      "C11 ORG\n",
      "zero CARDINAL\n",
      "zero CARDINAL\n",
      "zero CARDINAL\n",
      "second ORDINAL\n",
      "SQL Server ORG\n",
      "2014 DATE\n",
      "A few days ago DATE\n",
      "SQL Server Management Studio ORG\n",
      "SQL Server Management Studio ORG\n",
      "Login Failed PERSON\n",
      "A. Reason PERSON\n",
      "Only one CARDINAL\n",
      "Microsoft SQL Server ORG\n",
      "18461 DATE\n",
      "two CARDINAL\n",
      "75% PERCENT\n",
      "25% PERCENT\n",
      "RecyclerView ORG\n",
      "three CARDINAL\n",
      "RecyclerView ORG\n",
      "RecyclerView ORG\n",
      "Kotlin PERSON\n",
      "HashMap ORG\n",
      "App DataBase PERSON\n",
      "15 CARDINAL\n",
      "48 CARDINAL\n",
      "2 CARDINAL\n",
      "2 CARDINAL\n",
      "JSON GPE\n",
      "Arabic NORP\n",
      "one CARDINAL\n",
      "2.7 CARDINAL\n",
      "أترصدّ ORG\n",
      "FTP ORG\n",
      "Docker GPE\n",
      "year~. ORG\n",
      "the previous row DATE\n",
      "the previous row DATE\n",
      "FFMPEG ORG\n",
      "Graph PERSON\n",
      "PK GPE\n",
      "first ORDINAL\n",
      "ON CONFLICT ORG\n",
      "0.5 CARDINAL\n",
      "1000s DATE\n",
      "85% PERCENT\n",
      "one CARDINAL\n",
      "four CARDINAL\n",
      "Two CARDINAL\n",
      "first ORDINAL\n",
      "Aurora/Mysql ORG\n",
      "MSK ORG\n",
      "Elastic NORP\n",
      "Aurora -->Kafka-connect--->AWS ORG\n",
      "Aurora GPE\n",
      "1 CARDINAL\n",
      "2 CARDINAL\n",
      "3 CARDINAL\n",
      "Kafka PERSON\n",
      "JDBC PERSON\n",
      "one CARDINAL\n",
      "first ORDINAL\n",
      "month DATE\n",
      "DF ORG\n",
      "two CARDINAL\n",
      "first ORDINAL\n",
      "one CARDINAL\n",
      "1 CARDINAL\n",
      "2 CARDINAL\n",
      "second ORDINAL\n",
      "zero CARDINAL\n",
      "first ORDINAL\n",
      "Categories LAW\n",
      "Git LFS PERSON\n",
      "Presto ORG\n",
      "IDE ORG\n",
      "Presto ORG\n",
      "0.229 CARDINAL\n",
      "two CARDINAL\n",
      "JavaFXML PERSON\n",
      "Netbeans NORP\n",
      "Main Application ORG\n",
      "two CARDINAL\n",
      "Input ORG\n",
      "Account PERSON\n",
      "MainView PRODUCT\n",
      "two CARDINAL\n",
      "two CARDINAL\n",
      "Interface ORG\n",
      "ViewModel ORG\n",
      "Toolbar GPE\n",
      "Pandas NORP\n",
      "Matplotlib PERSON\n",
      "Matplotlib(or GPE\n",
      "5 CARDINAL\n",
      "1 CARDINAL\n",
      "22 CARDINAL\n",
      "2 CARDINAL\n",
      "22 CARDINAL\n",
      "3 CARDINAL\n",
      "22 CARDINAL\n",
      "22 CARDINAL\n",
      "5 CARDINAL\n",
      "22 CARDINAL\n",
      "12 CARDINAL\n",
      "7 CARDINAL\n",
      "8 CARDINAL\n",
      "12 CARDINAL\n",
      "Vue GPE\n",
      "PWA ORG\n",
      "first ORDINAL\n",
      "CLI ORG\n",
      "JavaScript ORG\n",
      "jQuery ORG\n",
      "UTC ORG\n",
      "NotificationCenter ORG\n",
      "Laravel ORG\n",
      "Redis ORG\n",
      "C++ LANGUAGE\n",
      "a particular day DATE\n",
      "Menu ORG\n",
      "Laravel ORG\n",
      "User Model PERSON\n",
      "Controller PERSON\n",
      "12h DATE\n",
      "MVC Project ORG\n",
      "one CARDINAL\n",
      "Mvc ORG\n",
      "JWT ORG\n",
      "Cookies ORG\n",
      "JWT ORG\n",
      "One CARDINAL\n"
     ]
    }
   ],
   "source": [
    "for entity in doc_body.ents:\n",
    "    print(entity.text, entity.label_)"
   ]
  },
  {
   "cell_type": "code",
   "execution_count": 44,
   "metadata": {},
   "outputs": [],
   "source": [
    "doc = nlp(df_base['Title'].str.cat())"
   ]
  },
  {
   "cell_type": "code",
   "execution_count": 32,
   "metadata": {},
   "outputs": [
    {
     "data": {
      "text/plain": [
       "{'ADJ',\n",
       " 'ADP',\n",
       " 'ADV',\n",
       " 'AUX',\n",
       " 'CCONJ',\n",
       " 'DET',\n",
       " 'INTJ',\n",
       " 'NOUN',\n",
       " 'NUM',\n",
       " 'PART',\n",
       " 'PRON',\n",
       " 'PROPN',\n",
       " 'PUNCT',\n",
       " 'SCONJ',\n",
       " 'SYM',\n",
       " 'VERB',\n",
       " 'X'}"
      ]
     },
     "execution_count": 32,
     "metadata": {},
     "output_type": "execute_result"
    }
   ],
   "source": [
    "set([token.pos_ for token in doc_title ])"
   ]
  },
  {
   "cell_type": "code",
   "execution_count": 15,
   "metadata": {
    "scrolled": true,
    "tags": []
   },
   "outputs": [
    {
     "name": "stdout",
     "output_type": "stream",
     "text": [
      "Noun phrases: ['I', 'an array', 'elements', 'I', 'the following code', 'this form', 'parameter', 'dimension', 'being', 'what', 'I', 'large dimension', 'a lot', 'overhead', 'any other low complexity method', 'this matrix', 'Thanks']\n"
     ]
    }
   ],
   "source": [
    "print(\"Noun phrases:\", [chunk.text for chunk in doc.noun_chunks])"
   ]
  },
  {
   "cell_type": "code",
   "execution_count": 16,
   "metadata": {
    "scrolled": true,
    "tags": []
   },
   "outputs": [
    {
     "name": "stdout",
     "output_type": "stream",
     "text": [
      "Verbs: ['try', 'create', 'be', 'place', 'write', 'follow', 'get', 'be', 'do', 'need', 'cause', 'get']\n"
     ]
    }
   ],
   "source": [
    "print(\"Verbs:\", [token.lemma_ for token in doc if token.pos_ == \"VERB\"])"
   ]
  },
  {
   "cell_type": "code",
   "execution_count": null,
   "metadata": {},
   "outputs": [],
   "source": []
  }
 ],
 "metadata": {
  "kernelspec": {
   "display_name": "Python 3",
   "language": "python",
   "name": "python3"
  },
  "language_info": {
   "codemirror_mode": {
    "name": "ipython",
    "version": 3
   },
   "file_extension": ".py",
   "mimetype": "text/x-python",
   "name": "python",
   "nbconvert_exporter": "python",
   "pygments_lexer": "ipython3",
   "version": "3.7.9"
  }
 },
 "nbformat": 4,
 "nbformat_minor": 4
}
