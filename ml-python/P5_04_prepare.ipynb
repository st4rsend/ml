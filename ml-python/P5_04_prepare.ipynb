{
 "cells": [
  {
   "cell_type": "markdown",
   "metadata": {},
   "source": [
    "# Prepare ToC\n",
    "\n",
    "- [TF-IDF testing](#TFIDF-Testing)</BR>\n",
    "\n"
   ]
  },
  {
   "cell_type": "code",
   "execution_count": 1,
   "metadata": {},
   "outputs": [],
   "source": [
    "import importlib\n",
    "import os\n",
    "from joblib import dump, load\n",
    "\n",
    "import numpy as np\n",
    "import pandas as pd\n",
    "\n",
    "import ml.explo as mlexplo\n",
    "import ml.prepare as mlprepare\n",
    "\n",
    "from nltk.tokenize import word_tokenize\n",
    "from nltk.probability import FreqDist\n",
    "from sklearn.feature_extraction.text import TfidfVectorizer\n",
    "from sklearn.preprocessing import MultiLabelBinarizer\n",
    "\n",
    "import matplotlib.pyplot as plt\n",
    "\n",
    "data_path = \"..\\\\data\\\\stackoverflow\\\\\"\n",
    "model_path = data_path + \"models\\\\\"\n",
    "\n",
    "np.set_printoptions(precision=2, suppress=True)\n",
    "pd.options.display.float_format = \"{:,.2f}\".format"
   ]
  },
  {
   "cell_type": "code",
   "execution_count": 2,
   "metadata": {},
   "outputs": [],
   "source": [
    "# # data_filename = \"bs4_nltk.pkl\"\n",
    "# data_filename = \"nltk_token_stem.pkl\"\n",
    "# df_base = pd.read_pickle(data_path + data_filename)"
   ]
  },
  {
   "cell_type": "code",
   "execution_count": 3,
   "metadata": {},
   "outputs": [],
   "source": [
    "# df = df_base[:10000].copy(deep=True)\n",
    "# df = df_base.copy(deep=True)"
   ]
  },
  {
   "cell_type": "code",
   "execution_count": 6,
   "metadata": {},
   "outputs": [
    {
     "data": {
      "text/html": [
       "<div>\n",
       "<style scoped>\n",
       "    .dataframe tbody tr th:only-of-type {\n",
       "        vertical-align: middle;\n",
       "    }\n",
       "\n",
       "    .dataframe tbody tr th {\n",
       "        vertical-align: top;\n",
       "    }\n",
       "\n",
       "    .dataframe thead th {\n",
       "        text-align: right;\n",
       "    }\n",
       "</style>\n",
       "<table border=\"1\" class=\"dataframe\">\n",
       "  <thead>\n",
       "    <tr style=\"text-align: right;\">\n",
       "      <th></th>\n",
       "      <th>Title</th>\n",
       "      <th>Body</th>\n",
       "    </tr>\n",
       "  </thead>\n",
       "  <tbody>\n",
       "    <tr>\n",
       "      <th>0</th>\n",
       "      <td>[determin, smallest, common, divisor, string]</td>\n",
       "      <td>[ask, follow, question, job, interview, stump,...</td>\n",
       "    </tr>\n",
       "    <tr>\n",
       "      <th>1</th>\n",
       "      <td>[use, trait, object, contain, method, return, ...</td>\n",
       "      <td>[correct, way, use, trait, object, contain, me...</td>\n",
       "    </tr>\n",
       "    <tr>\n",
       "      <th>2</th>\n",
       "      <td>[name, function, declar, hoist, put, insid, re...</td>\n",
       "      <td>[put, function, declar, besid, return, stateme...</td>\n",
       "    </tr>\n",
       "    <tr>\n",
       "      <th>3</th>\n",
       "      <td>[get, valu, input, caus, flicker, react]</td>\n",
       "      <td>[attempt, track, valu, two, login, input, fiel...</td>\n",
       "    </tr>\n",
       "    <tr>\n",
       "      <th>4</th>\n",
       "      <td>[assign, vector, atom, type]</td>\n",
       "      <td>[assign, member, vector, atom, type, https, wa...</td>\n",
       "    </tr>\n",
       "    <tr>\n",
       "      <th>...</th>\n",
       "      <td>...</td>\n",
       "      <td>...</td>\n",
       "    </tr>\n",
       "    <tr>\n",
       "      <th>49995</th>\n",
       "      <td>[nullreferenceexcept, simpleinjector, contain,...</td>\n",
       "      <td>[still, process, get, wpf, also, decid, give, ...</td>\n",
       "    </tr>\n",
       "    <tr>\n",
       "      <th>49996</th>\n",
       "      <td>[add, grid, line, catplot, seaborn]</td>\n",
       "      <td>[add, grid, line, vertic, horizont, catplot, f...</td>\n",
       "    </tr>\n",
       "    <tr>\n",
       "      <th>49997</th>\n",
       "      <td>[standard, deviat, data, meet, two, condit, ex...</td>\n",
       "      <td>[tri, calcul, standard, deviat, data, point, m...</td>\n",
       "    </tr>\n",
       "    <tr>\n",
       "      <th>49998</th>\n",
       "      <td>[proper, rais, except, tensorflow, graph]</td>\n",
       "      <td>[want, rais, except, depend, valu, input, tens...</td>\n",
       "    </tr>\n",
       "    <tr>\n",
       "      <th>49999</th>\n",
       "      <td>[glfw, callback, opengl, round, robin]</td>\n",
       "      <td>[round, robin, fashion, usual, buffer, cycl, b...</td>\n",
       "    </tr>\n",
       "  </tbody>\n",
       "</table>\n",
       "<p>50000 rows × 2 columns</p>\n",
       "</div>"
      ],
      "text/plain": [
       "                                                   Title  \\\n",
       "0          [determin, smallest, common, divisor, string]   \n",
       "1      [use, trait, object, contain, method, return, ...   \n",
       "2      [name, function, declar, hoist, put, insid, re...   \n",
       "3               [get, valu, input, caus, flicker, react]   \n",
       "4                           [assign, vector, atom, type]   \n",
       "...                                                  ...   \n",
       "49995  [nullreferenceexcept, simpleinjector, contain,...   \n",
       "49996                [add, grid, line, catplot, seaborn]   \n",
       "49997  [standard, deviat, data, meet, two, condit, ex...   \n",
       "49998          [proper, rais, except, tensorflow, graph]   \n",
       "49999             [glfw, callback, opengl, round, robin]   \n",
       "\n",
       "                                                    Body  \n",
       "0      [ask, follow, question, job, interview, stump,...  \n",
       "1      [correct, way, use, trait, object, contain, me...  \n",
       "2      [put, function, declar, besid, return, stateme...  \n",
       "3      [attempt, track, valu, two, login, input, fiel...  \n",
       "4      [assign, member, vector, atom, type, https, wa...  \n",
       "...                                                  ...  \n",
       "49995  [still, process, get, wpf, also, decid, give, ...  \n",
       "49996  [add, grid, line, vertic, horizont, catplot, f...  \n",
       "49997  [tri, calcul, standard, deviat, data, point, m...  \n",
       "49998  [want, rais, except, depend, valu, input, tens...  \n",
       "49999  [round, robin, fashion, usual, buffer, cycl, b...  \n",
       "\n",
       "[50000 rows x 2 columns]"
      ]
     },
     "execution_count": 6,
     "metadata": {},
     "output_type": "execute_result"
    }
   ],
   "source": [
    "# df"
   ]
  },
  {
   "cell_type": "code",
   "execution_count": 4,
   "metadata": {},
   "outputs": [],
   "source": [
    "# def filter_top_tags(df, column, count=10, default=None):\n",
    "#     top_tags = mlprepare.prepare_multi_label(df,'Tags')[:count]\n",
    "#     ret = df[column].apply(lambda cell: [x for x in cell if x in top_tags])\n",
    "#     if default:\n",
    "#         ret = ret.apply(lambda cell: cell if len(cell)>0 else ['other'])\n",
    "#     return ret\n",
    "\n",
    "\n",
    "# def prepare_baseline_ys(df, tags):\n",
    "#     ret =  dict({})\n",
    "#     for tag in tags.index:\n",
    "#         sr_tag = df['Tags'].copy(deep=True)\n",
    "#         sr_tag = sr_tag.apply(lambda x: 1 if tag in x else 0)\n",
    "#         ret[tag] = sr_tag\n",
    "#     return ret"
   ]
  },
  {
   "cell_type": "code",
   "execution_count": 7,
   "metadata": {},
   "outputs": [],
   "source": [
    "# create_baseline = True\n",
    "# if(create_baseline):\n",
    "#     df['Tags_T50'] = filter_top_tags(df,'Tags', count=50, default='other')\n",
    "#     df['Tags_T10'] = filter_top_tags(df,'Tags', count=10, default='other')\n",
    "#     df.to_pickle(data_path + 'bs4_nltk_Tags.pkl')\n",
    "# else:\n",
    "df_top = pd.read_pickle(data_path + 'Top_Tags.pkl')"
   ]
  },
  {
   "cell_type": "code",
   "execution_count": 10,
   "metadata": {},
   "outputs": [
    {
     "data": {
      "text/html": [
       "<div>\n",
       "<style scoped>\n",
       "    .dataframe tbody tr th:only-of-type {\n",
       "        vertical-align: middle;\n",
       "    }\n",
       "\n",
       "    .dataframe tbody tr th {\n",
       "        vertical-align: top;\n",
       "    }\n",
       "\n",
       "    .dataframe thead th {\n",
       "        text-align: right;\n",
       "    }\n",
       "</style>\n",
       "<table border=\"1\" class=\"dataframe\">\n",
       "  <thead>\n",
       "    <tr style=\"text-align: right;\">\n",
       "      <th></th>\n",
       "      <th>Tags_T100</th>\n",
       "      <th>Tags_T50</th>\n",
       "      <th>Tags_T10</th>\n",
       "    </tr>\n",
       "  </thead>\n",
       "  <tbody>\n",
       "    <tr>\n",
       "      <th>0</th>\n",
       "      <td>[string, algorithm]</td>\n",
       "      <td>[string]</td>\n",
       "      <td>[other]</td>\n",
       "    </tr>\n",
       "    <tr>\n",
       "      <th>1</th>\n",
       "      <td>[rust]</td>\n",
       "      <td>[other]</td>\n",
       "      <td>[other]</td>\n",
       "    </tr>\n",
       "    <tr>\n",
       "      <th>2</th>\n",
       "      <td>[javascript]</td>\n",
       "      <td>[javascript]</td>\n",
       "      <td>[javascript]</td>\n",
       "    </tr>\n",
       "    <tr>\n",
       "      <th>3</th>\n",
       "      <td>[javascript, css, reactjs]</td>\n",
       "      <td>[javascript, css, reactjs]</td>\n",
       "      <td>[javascript]</td>\n",
       "    </tr>\n",
       "    <tr>\n",
       "      <th>4</th>\n",
       "      <td>[c++, multithreading, c++11]</td>\n",
       "      <td>[c++]</td>\n",
       "      <td>[c++]</td>\n",
       "    </tr>\n",
       "    <tr>\n",
       "      <th>...</th>\n",
       "      <td>...</td>\n",
       "      <td>...</td>\n",
       "      <td>...</td>\n",
       "    </tr>\n",
       "    <tr>\n",
       "      <th>49995</th>\n",
       "      <td>[c#]</td>\n",
       "      <td>[c#]</td>\n",
       "      <td>[c#]</td>\n",
       "    </tr>\n",
       "    <tr>\n",
       "      <th>49996</th>\n",
       "      <td>[python]</td>\n",
       "      <td>[python]</td>\n",
       "      <td>[python]</td>\n",
       "    </tr>\n",
       "    <tr>\n",
       "      <th>49997</th>\n",
       "      <td>[excel]</td>\n",
       "      <td>[excel]</td>\n",
       "      <td>[other]</td>\n",
       "    </tr>\n",
       "    <tr>\n",
       "      <th>49998</th>\n",
       "      <td>[python, python-3.x, tensorflow]</td>\n",
       "      <td>[python, python-3.x]</td>\n",
       "      <td>[python, python-3.x]</td>\n",
       "    </tr>\n",
       "    <tr>\n",
       "      <th>49999</th>\n",
       "      <td>[other]</td>\n",
       "      <td>[other]</td>\n",
       "      <td>[other]</td>\n",
       "    </tr>\n",
       "  </tbody>\n",
       "</table>\n",
       "<p>50000 rows × 3 columns</p>\n",
       "</div>"
      ],
      "text/plain": [
       "                              Tags_T100                    Tags_T50  \\\n",
       "0                   [string, algorithm]                    [string]   \n",
       "1                                [rust]                     [other]   \n",
       "2                          [javascript]                [javascript]   \n",
       "3            [javascript, css, reactjs]  [javascript, css, reactjs]   \n",
       "4          [c++, multithreading, c++11]                       [c++]   \n",
       "...                                 ...                         ...   \n",
       "49995                              [c#]                        [c#]   \n",
       "49996                          [python]                    [python]   \n",
       "49997                           [excel]                     [excel]   \n",
       "49998  [python, python-3.x, tensorflow]        [python, python-3.x]   \n",
       "49999                           [other]                     [other]   \n",
       "\n",
       "                   Tags_T10  \n",
       "0                   [other]  \n",
       "1                   [other]  \n",
       "2              [javascript]  \n",
       "3              [javascript]  \n",
       "4                     [c++]  \n",
       "...                     ...  \n",
       "49995                  [c#]  \n",
       "49996              [python]  \n",
       "49997               [other]  \n",
       "49998  [python, python-3.x]  \n",
       "49999               [other]  \n",
       "\n",
       "[50000 rows x 3 columns]"
      ]
     },
     "execution_count": 10,
     "metadata": {},
     "output_type": "execute_result"
    }
   ],
   "source": [
    "df_top"
   ]
  },
  {
   "cell_type": "code",
   "execution_count": 7,
   "metadata": {},
   "outputs": [
    {
     "data": {
      "text/plain": [
       "['..\\\\data\\\\stackoverflow\\\\y_dict_top50.joblib']"
      ]
     },
     "execution_count": 7,
     "metadata": {},
     "output_type": "execute_result"
    }
   ],
   "source": [
    "# tags = mlprepare.prepare_multi_label(df,'Tags')\n",
    "# y_dict = prepare_baseline_ys(df,tags)\n",
    "# dump(y_dict, data_path + 'y_dict_top50.joblib')"
   ]
  },
  {
   "cell_type": "code",
   "execution_count": 14,
   "metadata": {},
   "outputs": [
    {
     "data": {
      "text/plain": [
       "array([[0, 0, 0, ..., 0, 0, 0],\n",
       "       [0, 0, 0, ..., 0, 0, 0],\n",
       "       [0, 0, 0, ..., 0, 0, 0],\n",
       "       ...,\n",
       "       [0, 0, 0, ..., 0, 0, 0],\n",
       "       [0, 0, 0, ..., 0, 0, 0],\n",
       "       [0, 0, 0, ..., 0, 0, 0]])"
      ]
     },
     "execution_count": 14,
     "metadata": {},
     "output_type": "execute_result"
    }
   ],
   "source": [
    "# mlb = MultiLabelBinarizer()\n",
    "# mlb.fit_transform(df['Tags'])"
   ]
  },
  {
   "cell_type": "code",
   "execution_count": 15,
   "metadata": {},
   "outputs": [
    {
     "data": {
      "text/plain": [
       "array(['android', 'angular', 'arrays', 'asp.net-core', 'azure', 'bash',\n",
       "       'c', 'c#', 'c++', 'css', 'dataframe', 'dictionary', 'django',\n",
       "       'dplyr', 'excel', 'firebase', 'flutter', 'ggplot2', 'git',\n",
       "       'google-sheets', 'html', 'ios', 'java', 'javascript', 'jquery',\n",
       "       'json', 'kotlin', 'laravel', 'list', 'mongodb', 'mysql', 'node.js',\n",
       "       'numpy', 'oracle', 'other', 'pandas', 'php', 'postgresql',\n",
       "       'powershell', 'python', 'python-3.x', 'r', 'reactjs', 'regex',\n",
       "       'sql', 'sql-server', 'string', 'swift', 'swiftui', 'typescript',\n",
       "       'vue.js'], dtype=object)"
      ]
     },
     "execution_count": 15,
     "metadata": {},
     "output_type": "execute_result"
    }
   ],
   "source": [
    "mlb.classes_ "
   ]
  },
  {
   "cell_type": "code",
   "execution_count": null,
   "metadata": {},
   "outputs": [],
   "source": []
  },
  {
   "cell_type": "code",
   "execution_count": 7,
   "metadata": {},
   "outputs": [],
   "source": [
    "# df_full = df_base.copy(deep=True)\n",
    "# df_only = df_base[df_base['Tags'].apply(lambda x: x!=['other'])].copy(deep=True)"
   ]
  },
  {
   "cell_type": "code",
   "execution_count": 10,
   "metadata": {},
   "outputs": [
    {
     "data": {
      "text/plain": [
       "['..\\\\data\\\\stackoverflow\\\\models\\\\title_vectorizer.joblib']"
      ]
     },
     "execution_count": 10,
     "metadata": {},
     "output_type": "execute_result"
    }
   ],
   "source": [
    "# title_corpus = [' '.join(map(str, w)) for w in df['Title'].tolist()]\n",
    "# dump(title_corpus, data_path + 'title_corpus.joblib')\n",
    "\n",
    "# title_vectorizer = TfidfVectorizer(ngram_range=(1,1))\n",
    "# title_vectorizer.fit(title_corpus)\n",
    "# dump(title_vectorizer, model_path + 'title_vectorizer.joblib')"
   ]
  },
  {
   "cell_type": "code",
   "execution_count": 12,
   "metadata": {},
   "outputs": [
    {
     "data": {
      "text/plain": [
       "['..\\\\data\\\\stackoverflow\\\\body_corpus.joblib']"
      ]
     },
     "execution_count": 12,
     "metadata": {},
     "output_type": "execute_result"
    }
   ],
   "source": [
    "# body_corpus = [' '.join(map(str, w)) for w in df['Body'].tolist()]\n",
    "# dump(body_corpus, data_path + 'body_corpus.joblib')"
   ]
  },
  {
   "cell_type": "code",
   "execution_count": 11,
   "metadata": {},
   "outputs": [
    {
     "data": {
      "text/plain": [
       "['..\\\\data\\\\stackoverflow\\\\models\\\\body_vectorizer_11.joblib']"
      ]
     },
     "execution_count": 11,
     "metadata": {},
     "output_type": "execute_result"
    }
   ],
   "source": [
    "\n",
    "\n",
    "# body_vectorizer = TfidfVectorizer(ngram_range=(1,1), max_features=1000)\n",
    "# body_vectorizer.fit(body_corpus)\n",
    "# dump(body_vectorizer, model_path + 'body_vectorizer_11.joblib')"
   ]
  },
  {
   "cell_type": "code",
   "execution_count": 12,
   "metadata": {},
   "outputs": [
    {
     "data": {
      "text/plain": [
       "['..\\\\data\\\\stackoverflow\\\\models\\\\body_vectorizer_12.joblib']"
      ]
     },
     "execution_count": 12,
     "metadata": {},
     "output_type": "execute_result"
    }
   ],
   "source": [
    "# body_vectorizer2 = TfidfVectorizer(ngram_range=(1,2), max_features=2000)\n",
    "# body_vectorizer2.fit(corpus_body)\n",
    "# dump(body_vectorizer2, model_path + 'body_vectorizer_12.joblib')"
   ]
  },
  {
   "cell_type": "code",
   "execution_count": 16,
   "metadata": {},
   "outputs": [
    {
     "data": {
      "text/plain": [
       "['..\\\\data\\\\stackoverflow\\\\models\\\\body_vectorizer_13.joblib']"
      ]
     },
     "execution_count": 16,
     "metadata": {},
     "output_type": "execute_result"
    }
   ],
   "source": [
    "# body_vectorizer3 = TfidfVectorizer(ngram_range=(1,3), max_features=4000)\n",
    "# body_vectorizer3.fit(body_corpus)\n",
    "# dump(body_vectorizer3, model_path + 'body_vectorizer_13.joblib')"
   ]
  },
  {
   "cell_type": "code",
   "execution_count": 19,
   "metadata": {},
   "outputs": [
    {
     "data": {
      "text/plain": [
       "678158"
      ]
     },
     "execution_count": 19,
     "metadata": {},
     "output_type": "execute_result"
    }
   ],
   "source": [
    "len(body_vectorizer3.vocabulary_.keys())"
   ]
  },
  {
   "cell_type": "code",
   "execution_count": 8,
   "metadata": {},
   "outputs": [
    {
     "ename": "NameError",
     "evalue": "name 'corpus_tags' is not defined",
     "output_type": "error",
     "traceback": [
      "\u001b[1;31m---------------------------------------------------------------------------\u001b[0m",
      "\u001b[1;31mNameError\u001b[0m                                 Traceback (most recent call last)",
      "\u001b[1;32m<ipython-input-8-1f7edca84ec0>\u001b[0m in \u001b[0;36m<module>\u001b[1;34m\u001b[0m\n\u001b[0;32m      1\u001b[0m words = word_tokenize(\n\u001b[0;32m      2\u001b[0m \u001b[1;31m#     [' '.join([' '.join(map(str, w)) for w in df['Tags'].tolist()])][0]\u001b[0m\u001b[1;33m\u001b[0m\u001b[1;33m\u001b[0m\u001b[1;33m\u001b[0m\u001b[0m\n\u001b[1;32m----> 3\u001b[1;33m      \u001b[1;33m[\u001b[0m\u001b[1;34m' '\u001b[0m\u001b[1;33m.\u001b[0m\u001b[0mjoin\u001b[0m\u001b[1;33m(\u001b[0m\u001b[0mcorpus_tags\u001b[0m\u001b[1;33m)\u001b[0m\u001b[1;33m]\u001b[0m\u001b[1;33m[\u001b[0m\u001b[1;36m0\u001b[0m\u001b[1;33m]\u001b[0m\u001b[1;33m\u001b[0m\u001b[1;33m\u001b[0m\u001b[0m\n\u001b[0m\u001b[0;32m      4\u001b[0m )\n\u001b[0;32m      5\u001b[0m \u001b[0mfdist\u001b[0m \u001b[1;33m=\u001b[0m \u001b[0mFreqDist\u001b[0m\u001b[1;33m(\u001b[0m\u001b[0mwords\u001b[0m\u001b[1;33m)\u001b[0m\u001b[1;33m\u001b[0m\u001b[1;33m\u001b[0m\u001b[0m\n",
      "\u001b[1;31mNameError\u001b[0m: name 'corpus_tags' is not defined"
     ]
    }
   ],
   "source": [
    "words = word_tokenize(\n",
    "#     [' '.join([' '.join(map(str, w)) for w in df['Tags'].tolist()])][0]\n",
    "     [' '.join(corpus_tags)][0]\n",
    ")\n",
    "fdist = FreqDist(words)"
   ]
  },
  {
   "cell_type": "code",
   "execution_count": 53,
   "metadata": {},
   "outputs": [],
   "source": [
    "df_graph = pd.DataFrame.from_dict(fdist, orient='index').sort_values(by=0, ascending=False)\n",
    "df_graph.columns = ['count']"
   ]
  },
  {
   "cell_type": "code",
   "execution_count": 54,
   "metadata": {},
   "outputs": [
    {
     "data": {
      "image/png": "[encoded data removed]",
      "text/plain": [
       "<Figure size 1008x432 with 1 Axes>"
      ]
     },
     "metadata": {
      "needs_background": "light"
     },
     "output_type": "display_data"
    }
   ],
   "source": [
    "# df_graph = df_graph.sort_values(by='count', ascending=False)[:50]\n",
    "limit = 10\n",
    "fig, ax = plt.subplots(figsize = (14,6))\n",
    "#sns.histplot(data=col1, ax=ax, color=graph_color)\n",
    "ax.bar(df_graph.index[:limit], df_graph['count'][:limit])\n",
    "# ax.set_ylabel(ylabel, size = 14)\n",
    "# ax.set_title(title, size = 18)\n",
    "plt.xticks(rotation=70)\n",
    "plt.show()"
   ]
  },
  {
   "cell_type": "code",
   "execution_count": 13,
   "metadata": {},
   "outputs": [
    {
     "name": "stdout",
     "output_type": "stream",
     "text": [
      "['11', 'access', 'activity', 'ajax', 'algorithm', 'amazon', 'android', 'angular', 'angularjs', 'animation', 'ansible', 'apache', 'api', 'apps', 'architecture', 'array', 'arraylist', 'arrays', 'asp', 'assembly', 'async', 'asynchronous', 'authentication', 'autocomplete', 'await', 'awk', 'aws', 'azure', 'bash', 'beautifulsoup', 'binding', 'bluetooth', 'boost', 'boot', 'bootstrap', 'build', 'by', 'cassandra', 'casting', 'charts', 'checkbox', 'chrome', 'class', 'clojure', 'cloud', 'cmake', 'cmd', 'code', 'collections', 'compilation', 'compiler', 'concurrency', 'constructor', 'controller', 'cookies', 'core', 'count', 'css', 'csv', 'd3', 'dart', 'data', 'database', 'dataframe', 'datagrid', 'date', 'datetime', 'debugging', 'deep', 'delphi', 'dependency', 'deployment', 'design', 'devops', 'dictionary', 'directory', 'django', 'docker', 'dom', 'dplyr', 'ec2', 'ecmascript', 'elasticsearch', 'eloquent', 'encoding', 'encryption', 'entity', 'enums', 'error', 'errors', 'events', 'excel', 'express', 'extension', 'ffmpeg', 'file', 'filter', 'firebase', 'firefox', 'firestore', 'flask', 'flexbox', 'flutter', 'for', 'foreach', 'forms', 'framework', 'function', 'functional', 'gcc', 'generics', 'ggplot2', 'git', 'github', 'go', 'google', 'gradle', 'graph', 'graphics', 'groovy', 'group', 'handling', 'haskell', 'hibernate', 'html', 'http', 'hyperlink', 'idea', 'if', 'iframe', 'image', 'import', 'indexing', 'inheritance', 'injection', 'installation', 'intellij', 'intent', 'interface', 'io', 'ionic', 'ios', 'iphone', 'java', 'javafx', 'javascript', 'jdbc', 'jenkins', 'jmeter', 'join', 'joomla', 'jpa', 'jquery', 'js', 'json', 'jupyter', 'kafka', 'keras', 'kernel', 'kotlin', 'kubernetes', 'lambda', 'laravel', 'layout', 'learn', 'learning', 'linked', 'linq', 'linux', 'list', 'listview', 'logging', 'loop', 'loops', 'lua', 'machine', 'macos', 'makefile', 'management', 'maps', 'math', 'matlab', 'matplotlib', 'matrix', 'maven', 'memory', 'merge', 'methods', 'mobile', 'models', 'module', 'mongodb', 'mongoose', 'ms', 'multidimensional', 'multithreading', 'mvc', 'mysql', 'native', 'net', 'network', 'neural', 'nginx', 'node', 'notebook', 'npm', 'numpy', 'oauth', 'object', 'on', 'oop', 'opencv', 'opengl', 'optimization', 'oracle', 'oracle11g', 'pagination', 'pandas', 'parallel', 'parameters', 'parsing', 'path', 'patterns', 'paypal', 'pdf', 'performance', 'perl', 'php', 'pip', 'platform', 'plot', 'plsql', 'pointers', 'postgresql', 'powershell', 'processing', 'programming', 'promise', 'properties', 'pygame', 'pyqt', 'pyspark', 'python', 'qt', 'rails', 'random', 'react', 'reactjs', 'realtime', 'recursion', 'recyclerview', 'redis', 'redux', 'reference', 'reflection', 'regex', 'replace', 'requests', 'responsive', 'rest', 'router', 'rspec', 'ruby', 'rust', 'rxjs', 's3', 'scala', 'scikit', 'scipy', 'scope', 'scraping', 'script', 'scroll', 'sed', 'select', 'selenium', 'server', 'services', 'sharepoint', 'sheets', 'shell', 'soap', 'socket', 'sorting', 'spark', 'split', 'spring', 'sql', 'sqlalchemy', 'ssh', 'ssl', 'statement', 'static', 'string', 'struct', 'structures', 'studio', 'svg', 'swift', 'swiftui', 'templates', 'tensorflow', 'testing', 'three', 'time', 'tkinter', 'tomcat', 'tree', 'triggers', 'tsql', 'twitter', 'types', 'typescript', 'unicode', 'unit', 'url', 'user', 'utf', 'validation', 'variables', 'vba', 'vector', 'video', 'views', 'vim', 'visual', 'vue', 'vuejs2', 'web', 'webdriver', 'webforms', 'webpack', 'websocket', 'windows', 'winforms', 'wpf', 'xamarin', 'xcode', 'xml', 'xpath', 'xslt']\n",
      "(1000, 341)\n"
     ]
    }
   ],
   "source": [
    "vectorizer = TfidfVectorizer(ngram_range=(1,1))\n",
    "# vectorizer = TfidfVectorizer(ngram_range=(2,2))\n",
    "X = vectorizer.fit_transform(corpus_tags)\n",
    "print(vectorizer.get_feature_names())\n",
    "print(X.shape)"
   ]
  },
  {
   "cell_type": "code",
   "execution_count": null,
   "metadata": {},
   "outputs": [],
   "source": []
  },
  {
   "cell_type": "code",
   "execution_count": null,
   "metadata": {},
   "outputs": [],
   "source": []
  },
  {
   "cell_type": "markdown",
   "metadata": {},
   "source": [
    "# TFIDF Testing\n",
    "\n",
    "Rebuilding ingest adding few variables like seller lat and lng  \n",
    "For analysis purpose\n",
    "\n",
    "- [ToC](#Prepare-ToC)</BR>"
   ]
  },
  {
   "cell_type": "code",
   "execution_count": 19,
   "metadata": {},
   "outputs": [],
   "source": [
    "from sklearn.feature_extraction.text import CountVectorizer\n",
    "from sklearn.feature_extraction.text import TfidfTransformer\n",
    "\n",
    "df = df_base[:10].copy(deep=True)\n",
    "corpus_title = [' '.join(map(str, w)) for w in df['Title'].tolist()]\n"
   ]
  },
  {
   "cell_type": "code",
   "execution_count": 20,
   "metadata": {},
   "outputs": [
    {
     "name": "stdout",
     "output_type": "stream",
     "text": [
      "['app', 'array', 'assign', 'atom', 'base', 'caus', 'choic', 'common', 'contain', 'count', 'cran', 'declar', 'determin', 'divisor', 'docker', 'filter', 'first', 'flicker', 'format', 'function', 'get', 'hoist', 'import', 'input', 'insid', 'inspect', 'key', 'map', 'method', 'name', 'network', 'object', 'packag', 'poll', 'put', 'react', 'refer', 'return', 'row', 'self', 'smallest', 'specif', 'sql', 'statement', 'store', 'string', 'subqueri', 'trait', 'troubl', 'type', 'use', 'valu', 'vector', 'vote', 'work']\n"
     ]
    }
   ],
   "source": [
    "vectorizer = CountVectorizer()\n",
    "X = vectorizer.fit_transform(corpus_title)\n",
    "print(vectorizer.get_feature_names())"
   ]
  },
  {
   "cell_type": "code",
   "execution_count": 24,
   "metadata": {},
   "outputs": [
    {
     "name": "stdout",
     "output_type": "stream",
     "text": [
      "[[0 0 0 0 0 0 0 1 0 0 0 0 1 1 0 0 0 0 0 0 0 0 0 0 0 0 0 0 0 0 0 0 0 0 0 0\n",
      "  0 0 0 0 1 0 0 0 0 1 0 0 0 0 0 0 0 0 0]\n",
      " [0 0 0 0 0 0 0 0 1 0 0 0 0 0 0 0 0 0 0 0 0 0 0 0 0 0 0 0 1 0 0 1 0 0 0 0\n",
      "  1 1 0 1 0 0 0 0 0 0 0 1 0 0 1 0 0 0 0]\n",
      " [0 0 0 0 0 0 0 0 0 0 0 1 0 0 0 0 0 0 0 1 0 1 0 0 1 0 0 0 0 1 0 0 0 0 1 0\n",
      "  0 1 0 0 0 0 0 1 0 0 0 0 0 0 0 0 0 0 0]\n",
      " [0 0 0 0 0 1 0 0 0 0 0 0 0 0 0 0 0 1 0 0 1 0 0 1 0 0 0 0 0 0 0 0 0 0 0 1\n",
      "  0 0 0 0 0 0 0 0 0 0 0 0 0 0 0 1 0 0 0]\n",
      " [0 0 1 1 0 0 0 0 0 0 0 0 0 0 0 0 0 0 0 0 0 0 0 0 0 0 0 0 0 0 0 0 0 0 0 0\n",
      "  0 0 0 0 0 0 0 0 0 0 0 0 0 1 0 0 1 0 0]\n",
      " [0 0 0 0 0 0 0 0 1 0 0 0 0 0 1 0 1 0 1 0 2 0 0 0 0 1 1 0 0 1 1 1 0 0 0 0\n",
      "  0 0 0 0 0 0 0 0 0 0 0 0 0 0 1 0 0 0 0]\n",
      " [1 1 0 0 0 0 1 0 0 1 0 0 0 0 0 0 0 0 0 0 0 0 0 0 0 0 0 1 0 0 0 0 0 1 0 0\n",
      "  0 0 0 0 0 0 0 0 1 0 0 0 0 0 0 0 0 1 0]\n",
      " [0 0 0 0 0 0 0 0 0 0 2 0 0 0 0 0 0 0 0 0 0 0 1 0 0 0 0 0 0 0 0 0 2 0 0 0\n",
      "  0 0 0 0 0 0 0 0 0 0 0 0 0 0 0 0 0 0 0]\n",
      " [0 0 0 0 1 0 0 0 0 0 0 0 0 0 0 0 0 0 0 0 1 0 0 0 0 0 0 0 0 0 0 0 0 0 0 0\n",
      "  0 0 0 0 0 0 0 0 0 0 0 0 1 0 0 0 0 0 1]\n",
      " [0 0 0 0 0 0 0 0 0 0 0 0 0 0 0 1 0 0 0 0 0 0 0 0 0 0 0 0 0 0 0 0 0 0 0 0\n",
      "  0 0 1 0 0 1 1 0 0 0 1 0 0 0 1 0 0 0 0]]\n",
      "(10, 55)\n"
     ]
    }
   ],
   "source": [
    "print(X.toarray())\n",
    "print(X.shape)"
   ]
  },
  {
   "cell_type": "code",
   "execution_count": 25,
   "metadata": {},
   "outputs": [],
   "source": [
    "tfid = TfidfTransformer()"
   ]
  },
  {
   "cell_type": "code",
   "execution_count": 27,
   "metadata": {},
   "outputs": [],
   "source": [
    "X_new = tfid.fit_transform(X)"
   ]
  },
  {
   "cell_type": "code",
   "execution_count": 29,
   "metadata": {},
   "outputs": [
    {
     "data": {
      "text/plain": [
       "array([[0.  , 0.  , 0.  , 0.  , 0.  , 0.  , 0.  , 0.45, 0.  , 0.  , 0.  ,\n",
       "        0.  , 0.45, 0.45, 0.  , 0.  , 0.  , 0.  , 0.  , 0.  , 0.  , 0.  ,\n",
       "        0.  , 0.  , 0.  , 0.  , 0.  , 0.  , 0.  , 0.  , 0.  , 0.  , 0.  ,\n",
       "        0.  , 0.  , 0.  , 0.  , 0.  , 0.  , 0.  , 0.45, 0.  , 0.  , 0.  ,\n",
       "        0.  , 0.45, 0.  , 0.  , 0.  , 0.  , 0.  , 0.  , 0.  , 0.  , 0.  ],\n",
       "       [0.  , 0.  , 0.  , 0.  , 0.  , 0.  , 0.  , 0.  , 0.33, 0.  , 0.  ,\n",
       "        0.  , 0.  , 0.  , 0.  , 0.  , 0.  , 0.  , 0.  , 0.  , 0.  , 0.  ,\n",
       "        0.  , 0.  , 0.  , 0.  , 0.  , 0.  , 0.39, 0.  , 0.  , 0.33, 0.  ,\n",
       "        0.  , 0.  , 0.  , 0.39, 0.33, 0.  , 0.39, 0.  , 0.  , 0.  , 0.  ,\n",
       "        0.  , 0.  , 0.  , 0.39, 0.  , 0.  , 0.29, 0.  , 0.  , 0.  , 0.  ],\n",
       "       [0.  , 0.  , 0.  , 0.  , 0.  , 0.  , 0.  , 0.  , 0.  , 0.  , 0.  ,\n",
       "        0.37, 0.  , 0.  , 0.  , 0.  , 0.  , 0.  , 0.  , 0.37, 0.  , 0.37,\n",
       "        0.  , 0.  , 0.37, 0.  , 0.  , 0.  , 0.  , 0.31, 0.  , 0.  , 0.  ,\n",
       "        0.  , 0.37, 0.  , 0.  , 0.31, 0.  , 0.  , 0.  , 0.  , 0.  , 0.37,\n",
       "        0.  , 0.  , 0.  , 0.  , 0.  , 0.  , 0.  , 0.  , 0.  , 0.  , 0.  ],\n",
       "       [0.  , 0.  , 0.  , 0.  , 0.  , 0.42, 0.  , 0.  , 0.  , 0.  , 0.  ,\n",
       "        0.  , 0.  , 0.  , 0.  , 0.  , 0.  , 0.42, 0.  , 0.  , 0.32, 0.  ,\n",
       "        0.  , 0.42, 0.  , 0.  , 0.  , 0.  , 0.  , 0.  , 0.  , 0.  , 0.  ,\n",
       "        0.  , 0.  , 0.42, 0.  , 0.  , 0.  , 0.  , 0.  , 0.  , 0.  , 0.  ,\n",
       "        0.  , 0.  , 0.  , 0.  , 0.  , 0.  , 0.  , 0.42, 0.  , 0.  , 0.  ],\n",
       "       [0.  , 0.  , 0.5 , 0.5 , 0.  , 0.  , 0.  , 0.  , 0.  , 0.  , 0.  ,\n",
       "        0.  , 0.  , 0.  , 0.  , 0.  , 0.  , 0.  , 0.  , 0.  , 0.  , 0.  ,\n",
       "        0.  , 0.  , 0.  , 0.  , 0.  , 0.  , 0.  , 0.  , 0.  , 0.  , 0.  ,\n",
       "        0.  , 0.  , 0.  , 0.  , 0.  , 0.  , 0.  , 0.  , 0.  , 0.  , 0.  ,\n",
       "        0.  , 0.  , 0.  , 0.  , 0.  , 0.5 , 0.  , 0.  , 0.5 , 0.  , 0.  ],\n",
       "       [0.  , 0.  , 0.  , 0.  , 0.  , 0.  , 0.  , 0.  , 0.26, 0.  , 0.  ,\n",
       "        0.  , 0.  , 0.  , 0.3 , 0.  , 0.3 , 0.  , 0.3 , 0.  , 0.45, 0.  ,\n",
       "        0.  , 0.  , 0.  , 0.3 , 0.3 , 0.  , 0.  , 0.26, 0.3 , 0.26, 0.  ,\n",
       "        0.  , 0.  , 0.  , 0.  , 0.  , 0.  , 0.  , 0.  , 0.  , 0.  , 0.  ,\n",
       "        0.  , 0.  , 0.  , 0.  , 0.  , 0.  , 0.22, 0.  , 0.  , 0.  , 0.  ],\n",
       "       [0.35, 0.35, 0.  , 0.  , 0.  , 0.  , 0.35, 0.  , 0.  , 0.35, 0.  ,\n",
       "        0.  , 0.  , 0.  , 0.  , 0.  , 0.  , 0.  , 0.  , 0.  , 0.  , 0.  ,\n",
       "        0.  , 0.  , 0.  , 0.  , 0.  , 0.35, 0.  , 0.  , 0.  , 0.  , 0.  ,\n",
       "        0.35, 0.  , 0.  , 0.  , 0.  , 0.  , 0.  , 0.  , 0.  , 0.  , 0.  ,\n",
       "        0.35, 0.  , 0.  , 0.  , 0.  , 0.  , 0.  , 0.  , 0.  , 0.35, 0.  ],\n",
       "       [0.  , 0.  , 0.  , 0.  , 0.  , 0.  , 0.  , 0.  , 0.  , 0.  , 0.67,\n",
       "        0.  , 0.  , 0.  , 0.  , 0.  , 0.  , 0.  , 0.  , 0.  , 0.  , 0.  ,\n",
       "        0.33, 0.  , 0.  , 0.  , 0.  , 0.  , 0.  , 0.  , 0.  , 0.  , 0.67,\n",
       "        0.  , 0.  , 0.  , 0.  , 0.  , 0.  , 0.  , 0.  , 0.  , 0.  , 0.  ,\n",
       "        0.  , 0.  , 0.  , 0.  , 0.  , 0.  , 0.  , 0.  , 0.  , 0.  , 0.  ],\n",
       "       [0.  , 0.  , 0.  , 0.  , 0.53, 0.  , 0.  , 0.  , 0.  , 0.  , 0.  ,\n",
       "        0.  , 0.  , 0.  , 0.  , 0.  , 0.  , 0.  , 0.  , 0.  , 0.39, 0.  ,\n",
       "        0.  , 0.  , 0.  , 0.  , 0.  , 0.  , 0.  , 0.  , 0.  , 0.  , 0.  ,\n",
       "        0.  , 0.  , 0.  , 0.  , 0.  , 0.  , 0.  , 0.  , 0.  , 0.  , 0.  ,\n",
       "        0.  , 0.  , 0.  , 0.  , 0.53, 0.  , 0.  , 0.  , 0.  , 0.  , 0.53],\n",
       "       [0.  , 0.  , 0.  , 0.  , 0.  , 0.  , 0.  , 0.  , 0.  , 0.  , 0.  ,\n",
       "        0.  , 0.  , 0.  , 0.  , 0.42, 0.  , 0.  , 0.  , 0.  , 0.  , 0.  ,\n",
       "        0.  , 0.  , 0.  , 0.  , 0.  , 0.  , 0.  , 0.  , 0.  , 0.  , 0.  ,\n",
       "        0.  , 0.  , 0.  , 0.  , 0.  , 0.42, 0.  , 0.  , 0.42, 0.42, 0.  ,\n",
       "        0.  , 0.  , 0.42, 0.  , 0.  , 0.  , 0.32, 0.  , 0.  , 0.  , 0.  ]])"
      ]
     },
     "execution_count": 29,
     "metadata": {},
     "output_type": "execute_result"
    }
   ],
   "source": [
    "X_new.toarray()"
   ]
  },
  {
   "cell_type": "code",
   "execution_count": 30,
   "metadata": {},
   "outputs": [],
   "source": [
    "from sklearn.feature_extraction.text import TfidfVectorizer"
   ]
  },
  {
   "cell_type": "code",
   "execution_count": 32,
   "metadata": {},
   "outputs": [],
   "source": [
    "vectorizer = TfidfVectorizer()\n",
    "X = vectorizer.fit_transform(corpus_title)"
   ]
  },
  {
   "cell_type": "code",
   "execution_count": 33,
   "metadata": {},
   "outputs": [
    {
     "name": "stdout",
     "output_type": "stream",
     "text": [
      "['app', 'array', 'assign', 'atom', 'base', 'caus', 'choic', 'common', 'contain', 'count', 'cran', 'declar', 'determin', 'divisor', 'docker', 'filter', 'first', 'flicker', 'format', 'function', 'get', 'hoist', 'import', 'input', 'insid', 'inspect', 'key', 'map', 'method', 'name', 'network', 'object', 'packag', 'poll', 'put', 'react', 'refer', 'return', 'row', 'self', 'smallest', 'specif', 'sql', 'statement', 'store', 'string', 'subqueri', 'trait', 'troubl', 'type', 'use', 'valu', 'vector', 'vote', 'work']\n"
     ]
    }
   ],
   "source": [
    "print(vectorizer.get_feature_names())"
   ]
  },
  {
   "cell_type": "code",
   "execution_count": 34,
   "metadata": {},
   "outputs": [
    {
     "name": "stdout",
     "output_type": "stream",
     "text": [
      "[[0.   0.   0.   0.   0.   0.   0.   0.45 0.   0.   0.   0.   0.45 0.45\n",
      "  0.   0.   0.   0.   0.   0.   0.   0.   0.   0.   0.   0.   0.   0.\n",
      "  0.   0.   0.   0.   0.   0.   0.   0.   0.   0.   0.   0.   0.45 0.\n",
      "  0.   0.   0.   0.45 0.   0.   0.   0.   0.   0.   0.   0.   0.  ]\n",
      " [0.   0.   0.   0.   0.   0.   0.   0.   0.33 0.   0.   0.   0.   0.\n",
      "  0.   0.   0.   0.   0.   0.   0.   0.   0.   0.   0.   0.   0.   0.\n",
      "  0.39 0.   0.   0.33 0.   0.   0.   0.   0.39 0.33 0.   0.39 0.   0.\n",
      "  0.   0.   0.   0.   0.   0.39 0.   0.   0.29 0.   0.   0.   0.  ]\n",
      " [0.   0.   0.   0.   0.   0.   0.   0.   0.   0.   0.   0.37 0.   0.\n",
      "  0.   0.   0.   0.   0.   0.37 0.   0.37 0.   0.   0.37 0.   0.   0.\n",
      "  0.   0.31 0.   0.   0.   0.   0.37 0.   0.   0.31 0.   0.   0.   0.\n",
      "  0.   0.37 0.   0.   0.   0.   0.   0.   0.   0.   0.   0.   0.  ]\n",
      " [0.   0.   0.   0.   0.   0.42 0.   0.   0.   0.   0.   0.   0.   0.\n",
      "  0.   0.   0.   0.42 0.   0.   0.32 0.   0.   0.42 0.   0.   0.   0.\n",
      "  0.   0.   0.   0.   0.   0.   0.   0.42 0.   0.   0.   0.   0.   0.\n",
      "  0.   0.   0.   0.   0.   0.   0.   0.   0.   0.42 0.   0.   0.  ]\n",
      " [0.   0.   0.5  0.5  0.   0.   0.   0.   0.   0.   0.   0.   0.   0.\n",
      "  0.   0.   0.   0.   0.   0.   0.   0.   0.   0.   0.   0.   0.   0.\n",
      "  0.   0.   0.   0.   0.   0.   0.   0.   0.   0.   0.   0.   0.   0.\n",
      "  0.   0.   0.   0.   0.   0.   0.   0.5  0.   0.   0.5  0.   0.  ]\n",
      " [0.   0.   0.   0.   0.   0.   0.   0.   0.26 0.   0.   0.   0.   0.\n",
      "  0.3  0.   0.3  0.   0.3  0.   0.45 0.   0.   0.   0.   0.3  0.3  0.\n",
      "  0.   0.26 0.3  0.26 0.   0.   0.   0.   0.   0.   0.   0.   0.   0.\n",
      "  0.   0.   0.   0.   0.   0.   0.   0.   0.22 0.   0.   0.   0.  ]\n",
      " [0.35 0.35 0.   0.   0.   0.   0.35 0.   0.   0.35 0.   0.   0.   0.\n",
      "  0.   0.   0.   0.   0.   0.   0.   0.   0.   0.   0.   0.   0.   0.35\n",
      "  0.   0.   0.   0.   0.   0.35 0.   0.   0.   0.   0.   0.   0.   0.\n",
      "  0.   0.   0.35 0.   0.   0.   0.   0.   0.   0.   0.   0.35 0.  ]\n",
      " [0.   0.   0.   0.   0.   0.   0.   0.   0.   0.   0.67 0.   0.   0.\n",
      "  0.   0.   0.   0.   0.   0.   0.   0.   0.33 0.   0.   0.   0.   0.\n",
      "  0.   0.   0.   0.   0.67 0.   0.   0.   0.   0.   0.   0.   0.   0.\n",
      "  0.   0.   0.   0.   0.   0.   0.   0.   0.   0.   0.   0.   0.  ]\n",
      " [0.   0.   0.   0.   0.53 0.   0.   0.   0.   0.   0.   0.   0.   0.\n",
      "  0.   0.   0.   0.   0.   0.   0.39 0.   0.   0.   0.   0.   0.   0.\n",
      "  0.   0.   0.   0.   0.   0.   0.   0.   0.   0.   0.   0.   0.   0.\n",
      "  0.   0.   0.   0.   0.   0.   0.53 0.   0.   0.   0.   0.   0.53]\n",
      " [0.   0.   0.   0.   0.   0.   0.   0.   0.   0.   0.   0.   0.   0.\n",
      "  0.   0.42 0.   0.   0.   0.   0.   0.   0.   0.   0.   0.   0.   0.\n",
      "  0.   0.   0.   0.   0.   0.   0.   0.   0.   0.   0.42 0.   0.   0.42\n",
      "  0.42 0.   0.   0.   0.42 0.   0.   0.   0.32 0.   0.   0.   0.  ]]\n"
     ]
    }
   ],
   "source": [
    "print(X.toarray())"
   ]
  },
  {
   "cell_type": "code",
   "execution_count": null,
   "metadata": {},
   "outputs": [],
   "source": []
  },
  {
   "cell_type": "code",
   "execution_count": 46,
   "metadata": {},
   "outputs": [],
   "source": [
    "vectorizer2 = CountVectorizer(analyzer='word', ngram_range=(2, 2))\n",
    "X2 = vectorizer2.fit_transform(corpus_title)"
   ]
  },
  {
   "cell_type": "code",
   "execution_count": 47,
   "metadata": {},
   "outputs": [
    {
     "name": "stdout",
     "output_type": "stream",
     "text": [
      "['app array', 'array map', 'assign vector', 'atom type', 'base work', 'caus flicker', 'choic vote', 'common divisor', 'contain method', 'count poll', 'cran import', 'declar hoist', 'determin smallest', 'divisor string', 'docker inspect', 'filter specif', 'first key', 'flicker react', 'format get', 'function declar', 'get base', 'get first', 'get name', 'get valu', 'hoist put', 'import packag', 'input caus', 'insid return', 'inspect format', 'key object', 'method return', 'name function', 'name network', 'network contain', 'object contain', 'object use', 'packag cran', 'poll app', 'put insid', 'refer self', 'return refer', 'return statement', 'smallest common', 'specif row', 'sql subqueri', 'store choic', 'subqueri use', 'trait object', 'troubl get', 'use docker', 'use filter', 'use trait', 'valu input', 'vector atom', 'vote count']\n"
     ]
    }
   ],
   "source": [
    "print(vectorizer2.get_feature_names())"
   ]
  },
  {
   "cell_type": "code",
   "execution_count": 48,
   "metadata": {},
   "outputs": [
    {
     "name": "stdout",
     "output_type": "stream",
     "text": [
      "[[0 0 0 0 0 0 0 1 0 0 0 0 1 1 0 0 0 0 0 0 0 0 0 0 0 0 0 0 0 0 0 0 0 0 0 0\n",
      "  0 0 0 0 0 0 1 0 0 0 0 0 0 0 0 0 0 0 0]\n",
      " [0 0 0 0 0 0 0 0 1 0 0 0 0 0 0 0 0 0 0 0 0 0 0 0 0 0 0 0 0 0 1 0 0 0 1 0\n",
      "  0 0 0 1 1 0 0 0 0 0 0 1 0 0 0 1 0 0 0]\n",
      " [0 0 0 0 0 0 0 0 0 0 0 1 0 0 0 0 0 0 0 1 0 0 0 0 1 0 0 1 0 0 0 1 0 0 0 0\n",
      "  0 0 1 0 0 1 0 0 0 0 0 0 0 0 0 0 0 0 0]\n",
      " [0 0 0 0 0 1 0 0 0 0 0 0 0 0 0 0 0 1 0 0 0 0 0 1 0 0 1 0 0 0 0 0 0 0 0 0\n",
      "  0 0 0 0 0 0 0 0 0 0 0 0 0 0 0 0 1 0 0]\n",
      " [0 0 1 1 0 0 0 0 0 0 0 0 0 0 0 0 0 0 0 0 0 0 0 0 0 0 0 0 0 0 0 0 0 0 0 0\n",
      "  0 0 0 0 0 0 0 0 0 0 0 0 0 0 0 0 0 1 0]\n",
      " [0 0 0 0 0 0 0 0 0 0 0 0 0 0 1 0 1 0 1 0 0 1 1 0 0 0 0 0 1 1 0 0 1 1 0 1\n",
      "  0 0 0 0 0 0 0 0 0 0 0 0 0 1 0 0 0 0 0]\n",
      " [1 1 0 0 0 0 1 0 0 1 0 0 0 0 0 0 0 0 0 0 0 0 0 0 0 0 0 0 0 0 0 0 0 0 0 0\n",
      "  0 1 0 0 0 0 0 0 0 1 0 0 0 0 0 0 0 0 1]\n",
      " [0 0 0 0 0 0 0 0 0 0 1 0 0 0 0 0 0 0 0 0 0 0 0 0 0 1 0 0 0 0 0 0 0 0 0 0\n",
      "  2 0 0 0 0 0 0 0 0 0 0 0 0 0 0 0 0 0 0]\n",
      " [0 0 0 0 1 0 0 0 0 0 0 0 0 0 0 0 0 0 0 0 1 0 0 0 0 0 0 0 0 0 0 0 0 0 0 0\n",
      "  0 0 0 0 0 0 0 0 0 0 0 0 1 0 0 0 0 0 0]\n",
      " [0 0 0 0 0 0 0 0 0 0 0 0 0 0 0 1 0 0 0 0 0 0 0 0 0 0 0 0 0 0 0 0 0 0 0 0\n",
      "  0 0 0 0 0 0 0 1 1 0 1 0 0 0 1 0 0 0 0]]\n"
     ]
    }
   ],
   "source": [
    "print(X2.toarray())"
   ]
  },
  {
   "cell_type": "code",
   "execution_count": 49,
   "metadata": {},
   "outputs": [],
   "source": [
    "X_new = tfid.fit_transform(X2)"
   ]
  },
  {
   "cell_type": "code",
   "execution_count": 51,
   "metadata": {},
   "outputs": [
    {
     "name": "stdout",
     "output_type": "stream",
     "text": [
      "[[0.   0.   0.   0.   0.   0.   0.   0.5  0.   0.   0.   0.   0.5  0.5\n",
      "  0.   0.   0.   0.   0.   0.   0.   0.   0.   0.   0.   0.   0.   0.\n",
      "  0.   0.   0.   0.   0.   0.   0.   0.   0.   0.   0.   0.   0.   0.\n",
      "  0.5  0.   0.   0.   0.   0.   0.   0.   0.   0.   0.   0.   0.  ]\n",
      " [0.   0.   0.   0.   0.   0.   0.   0.   0.38 0.   0.   0.   0.   0.\n",
      "  0.   0.   0.   0.   0.   0.   0.   0.   0.   0.   0.   0.   0.   0.\n",
      "  0.   0.   0.38 0.   0.   0.   0.38 0.   0.   0.   0.   0.38 0.38 0.\n",
      "  0.   0.   0.   0.   0.   0.38 0.   0.   0.   0.38 0.   0.   0.  ]\n",
      " [0.   0.   0.   0.   0.   0.   0.   0.   0.   0.   0.   0.38 0.   0.\n",
      "  0.   0.   0.   0.   0.   0.38 0.   0.   0.   0.   0.38 0.   0.   0.38\n",
      "  0.   0.   0.   0.38 0.   0.   0.   0.   0.   0.   0.38 0.   0.   0.38\n",
      "  0.   0.   0.   0.   0.   0.   0.   0.   0.   0.   0.   0.   0.  ]\n",
      " [0.   0.   0.   0.   0.   0.45 0.   0.   0.   0.   0.   0.   0.   0.\n",
      "  0.   0.   0.   0.45 0.   0.   0.   0.   0.   0.45 0.   0.   0.45 0.\n",
      "  0.   0.   0.   0.   0.   0.   0.   0.   0.   0.   0.   0.   0.   0.\n",
      "  0.   0.   0.   0.   0.   0.   0.   0.   0.   0.   0.45 0.   0.  ]\n",
      " [0.   0.   0.58 0.58 0.   0.   0.   0.   0.   0.   0.   0.   0.   0.\n",
      "  0.   0.   0.   0.   0.   0.   0.   0.   0.   0.   0.   0.   0.   0.\n",
      "  0.   0.   0.   0.   0.   0.   0.   0.   0.   0.   0.   0.   0.   0.\n",
      "  0.   0.   0.   0.   0.   0.   0.   0.   0.   0.   0.   0.58 0.  ]\n",
      " [0.   0.   0.   0.   0.   0.   0.   0.   0.   0.   0.   0.   0.   0.\n",
      "  0.3  0.   0.3  0.   0.3  0.   0.   0.3  0.3  0.   0.   0.   0.   0.\n",
      "  0.3  0.3  0.   0.   0.3  0.3  0.   0.3  0.   0.   0.   0.   0.   0.\n",
      "  0.   0.   0.   0.   0.   0.   0.   0.3  0.   0.   0.   0.   0.  ]\n",
      " [0.38 0.38 0.   0.   0.   0.   0.38 0.   0.   0.38 0.   0.   0.   0.\n",
      "  0.   0.   0.   0.   0.   0.   0.   0.   0.   0.   0.   0.   0.   0.\n",
      "  0.   0.   0.   0.   0.   0.   0.   0.   0.   0.38 0.   0.   0.   0.\n",
      "  0.   0.   0.   0.38 0.   0.   0.   0.   0.   0.   0.   0.   0.38]\n",
      " [0.   0.   0.   0.   0.   0.   0.   0.   0.   0.   0.41 0.   0.   0.\n",
      "  0.   0.   0.   0.   0.   0.   0.   0.   0.   0.   0.   0.41 0.   0.\n",
      "  0.   0.   0.   0.   0.   0.   0.   0.   0.82 0.   0.   0.   0.   0.\n",
      "  0.   0.   0.   0.   0.   0.   0.   0.   0.   0.   0.   0.   0.  ]\n",
      " [0.   0.   0.   0.   0.58 0.   0.   0.   0.   0.   0.   0.   0.   0.\n",
      "  0.   0.   0.   0.   0.   0.   0.58 0.   0.   0.   0.   0.   0.   0.\n",
      "  0.   0.   0.   0.   0.   0.   0.   0.   0.   0.   0.   0.   0.   0.\n",
      "  0.   0.   0.   0.   0.   0.   0.58 0.   0.   0.   0.   0.   0.  ]\n",
      " [0.   0.   0.   0.   0.   0.   0.   0.   0.   0.   0.   0.   0.   0.\n",
      "  0.   0.45 0.   0.   0.   0.   0.   0.   0.   0.   0.   0.   0.   0.\n",
      "  0.   0.   0.   0.   0.   0.   0.   0.   0.   0.   0.   0.   0.   0.\n",
      "  0.   0.45 0.45 0.   0.45 0.   0.   0.   0.45 0.   0.   0.   0.  ]]\n"
     ]
    }
   ],
   "source": [
    "print(X_new.toarray())"
   ]
  },
  {
   "cell_type": "code",
   "execution_count": 37,
   "metadata": {},
   "outputs": [],
   "source": [
    "vectorizer2 = TfidfVectorizer(ngram_range=(2,2))\n",
    "X2 = vectorizer2.fit_transform(corpus_title)"
   ]
  },
  {
   "cell_type": "code",
   "execution_count": 38,
   "metadata": {},
   "outputs": [
    {
     "name": "stdout",
     "output_type": "stream",
     "text": [
      "['app array', 'array map', 'assign vector', 'atom type', 'base work', 'caus flicker', 'choic vote', 'common divisor', 'contain method', 'count poll', 'cran import', 'declar hoist', 'determin smallest', 'divisor string', 'docker inspect', 'filter specif', 'first key', 'flicker react', 'format get', 'function declar', 'get base', 'get first', 'get name', 'get valu', 'hoist put', 'import packag', 'input caus', 'insid return', 'inspect format', 'key object', 'method return', 'name function', 'name network', 'network contain', 'object contain', 'object use', 'packag cran', 'poll app', 'put insid', 'refer self', 'return refer', 'return statement', 'smallest common', 'specif row', 'sql subqueri', 'store choic', 'subqueri use', 'trait object', 'troubl get', 'use docker', 'use filter', 'use trait', 'valu input', 'vector atom', 'vote count']\n"
     ]
    }
   ],
   "source": [
    "print(vectorizer2.get_feature_names())"
   ]
  },
  {
   "cell_type": "code",
   "execution_count": 39,
   "metadata": {},
   "outputs": [
    {
     "name": "stdout",
     "output_type": "stream",
     "text": [
      "[[0.   0.   0.   0.   0.   0.   0.   0.5  0.   0.   0.   0.   0.5  0.5\n",
      "  0.   0.   0.   0.   0.   0.   0.   0.   0.   0.   0.   0.   0.   0.\n",
      "  0.   0.   0.   0.   0.   0.   0.   0.   0.   0.   0.   0.   0.   0.\n",
      "  0.5  0.   0.   0.   0.   0.   0.   0.   0.   0.   0.   0.   0.  ]\n",
      " [0.   0.   0.   0.   0.   0.   0.   0.   0.38 0.   0.   0.   0.   0.\n",
      "  0.   0.   0.   0.   0.   0.   0.   0.   0.   0.   0.   0.   0.   0.\n",
      "  0.   0.   0.38 0.   0.   0.   0.38 0.   0.   0.   0.   0.38 0.38 0.\n",
      "  0.   0.   0.   0.   0.   0.38 0.   0.   0.   0.38 0.   0.   0.  ]\n",
      " [0.   0.   0.   0.   0.   0.   0.   0.   0.   0.   0.   0.38 0.   0.\n",
      "  0.   0.   0.   0.   0.   0.38 0.   0.   0.   0.   0.38 0.   0.   0.38\n",
      "  0.   0.   0.   0.38 0.   0.   0.   0.   0.   0.   0.38 0.   0.   0.38\n",
      "  0.   0.   0.   0.   0.   0.   0.   0.   0.   0.   0.   0.   0.  ]\n",
      " [0.   0.   0.   0.   0.   0.45 0.   0.   0.   0.   0.   0.   0.   0.\n",
      "  0.   0.   0.   0.45 0.   0.   0.   0.   0.   0.45 0.   0.   0.45 0.\n",
      "  0.   0.   0.   0.   0.   0.   0.   0.   0.   0.   0.   0.   0.   0.\n",
      "  0.   0.   0.   0.   0.   0.   0.   0.   0.   0.   0.45 0.   0.  ]\n",
      " [0.   0.   0.58 0.58 0.   0.   0.   0.   0.   0.   0.   0.   0.   0.\n",
      "  0.   0.   0.   0.   0.   0.   0.   0.   0.   0.   0.   0.   0.   0.\n",
      "  0.   0.   0.   0.   0.   0.   0.   0.   0.   0.   0.   0.   0.   0.\n",
      "  0.   0.   0.   0.   0.   0.   0.   0.   0.   0.   0.   0.58 0.  ]\n",
      " [0.   0.   0.   0.   0.   0.   0.   0.   0.   0.   0.   0.   0.   0.\n",
      "  0.3  0.   0.3  0.   0.3  0.   0.   0.3  0.3  0.   0.   0.   0.   0.\n",
      "  0.3  0.3  0.   0.   0.3  0.3  0.   0.3  0.   0.   0.   0.   0.   0.\n",
      "  0.   0.   0.   0.   0.   0.   0.   0.3  0.   0.   0.   0.   0.  ]\n",
      " [0.38 0.38 0.   0.   0.   0.   0.38 0.   0.   0.38 0.   0.   0.   0.\n",
      "  0.   0.   0.   0.   0.   0.   0.   0.   0.   0.   0.   0.   0.   0.\n",
      "  0.   0.   0.   0.   0.   0.   0.   0.   0.   0.38 0.   0.   0.   0.\n",
      "  0.   0.   0.   0.38 0.   0.   0.   0.   0.   0.   0.   0.   0.38]\n",
      " [0.   0.   0.   0.   0.   0.   0.   0.   0.   0.   0.41 0.   0.   0.\n",
      "  0.   0.   0.   0.   0.   0.   0.   0.   0.   0.   0.   0.41 0.   0.\n",
      "  0.   0.   0.   0.   0.   0.   0.   0.   0.82 0.   0.   0.   0.   0.\n",
      "  0.   0.   0.   0.   0.   0.   0.   0.   0.   0.   0.   0.   0.  ]\n",
      " [0.   0.   0.   0.   0.58 0.   0.   0.   0.   0.   0.   0.   0.   0.\n",
      "  0.   0.   0.   0.   0.   0.   0.58 0.   0.   0.   0.   0.   0.   0.\n",
      "  0.   0.   0.   0.   0.   0.   0.   0.   0.   0.   0.   0.   0.   0.\n",
      "  0.   0.   0.   0.   0.   0.   0.58 0.   0.   0.   0.   0.   0.  ]\n",
      " [0.   0.   0.   0.   0.   0.   0.   0.   0.   0.   0.   0.   0.   0.\n",
      "  0.   0.45 0.   0.   0.   0.   0.   0.   0.   0.   0.   0.   0.   0.\n",
      "  0.   0.   0.   0.   0.   0.   0.   0.   0.   0.   0.   0.   0.   0.\n",
      "  0.   0.45 0.45 0.   0.45 0.   0.   0.   0.45 0.   0.   0.   0.  ]]\n"
     ]
    }
   ],
   "source": [
    "print(X2.toarray())"
   ]
  },
  {
   "cell_type": "code",
   "execution_count": null,
   "metadata": {},
   "outputs": [],
   "source": []
  },
  {
   "cell_type": "code",
   "execution_count": null,
   "metadata": {},
   "outputs": [],
   "source": []
  },
  {
   "cell_type": "code",
   "execution_count": null,
   "metadata": {},
   "outputs": [],
   "source": []
  }
 ],
 "metadata": {
  "kernelspec": {
   "display_name": "Python 3",
   "language": "python",
   "name": "python3"
  },
  "language_info": {
   "codemirror_mode": {
    "name": "ipython",
    "version": 3
   },
   "file_extension": ".py",
   "mimetype": "text/x-python",
   "name": "python",
   "nbconvert_exporter": "python",
   "pygments_lexer": "ipython3",
   "version": "3.7.9"
  }
 },
 "nbformat": 4,
 "nbformat_minor": 4
}
