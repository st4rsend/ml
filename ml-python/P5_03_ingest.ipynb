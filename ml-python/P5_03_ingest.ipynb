{
 "cells": [
  {
   "cell_type": "code",
   "execution_count": 1,
   "metadata": {},
   "outputs": [
    {
     "name": "stderr",
     "output_type": "stream",
     "text": [
      "[nltk_data] Downloading package punkt to\n",
      "[nltk_data]     C:\\Users\\vince\\AppData\\Roaming\\nltk_data...\n",
      "[nltk_data]   Package punkt is already up-to-date!\n",
      "[nltk_data] Downloading package stopwords to\n",
      "[nltk_data]     C:\\Users\\vince\\AppData\\Roaming\\nltk_data...\n",
      "[nltk_data]   Package stopwords is already up-to-date!\n"
     ]
    }
   ],
   "source": [
    "import importlib\n",
    "import os\n",
    "\n",
    "import numpy as np\n",
    "import pandas as pd\n",
    "\n",
    "from bs4 import BeautifulSoup\n",
    "import spacy\n",
    "\n",
    "from nltk import download as nltk_download\n",
    "from nltk import tokenize, RegexpTokenizer\n",
    "from nltk.corpus import stopwords\n",
    "'''Bird, Steven, Edward Loper and Ewan Klein (2009), Natural Language Processing with Python. O’Reilly Media Inc.'''\n",
    "nltk_download('punkt')\n",
    "nltk_download('stopwords')\n",
    "\n",
    "import ml.explo as mlexplo\n",
    "import ml.prepare as mlprepare\n",
    "\n",
    "from nltk.stem.snowball import SnowballStemmer\n",
    "\n",
    "# import matplotlib.pyplot as plt\n",
    "# import seaborn as sns\n",
    "# from sklearn.decomposition import PCA\n",
    "# from sklearn.preprocessing import StandardScaler\n",
    "\n",
    "data_path = \"..\\\\data\\\\stackoverflow\\\\\"\n",
    "np.set_printoptions(precision=2, suppress=True)\n",
    "pd.options.display.float_format = \"{:,.2f}\".format"
   ]
  },
  {
   "cell_type": "code",
   "execution_count": 2,
   "metadata": {},
   "outputs": [],
   "source": [
    "def apply_bf4(raw_text):\n",
    "    return '. '.join(\n",
    "        [x.find(text=True)\n",
    "         for x in BeautifulSoup(raw_text, 'html.parser').find_all('p')\n",
    "         if x.find(text=True)]\n",
    "    )\n",
    "\n",
    "def nltk_post_tokens(row):\n",
    "#     title_tokens = tokenizer.tokenize(row['Title'].lower())\n",
    "    title_tokens = [ stemmer.stem(w) for w in tokenizer.tokenize(row['Title'].lower()) if w not in nltk_stop_words ] \n",
    "    body_tokens = [ stemmer.stem(w) for w in tokenizer.tokenize(row['bf4'].lower()) if w not in nltk_stop_words ]\n",
    "    post_tags = [ tag.name for tag in BeautifulSoup(row['Tags'], 'html.parser').find_all() if tag.name in valid_tags ]\n",
    "    return title_tokens, body_tokens, post_tags"
   ]
  },
  {
   "cell_type": "code",
   "execution_count": 5,
   "metadata": {},
   "outputs": [],
   "source": [
    "data_filename = \"OC_DS_P6.csv\"\n",
    "tags_filename = \"Stackoverflow_top_tags.csv\"\n",
    "init = False"
   ]
  },
  {
   "cell_type": "code",
   "execution_count": 6,
   "metadata": {},
   "outputs": [],
   "source": [
    "df_tags = pd.read_csv(data_path + tags_filename)\n",
    "valid_tags = df_tags['TagName'].tolist()\n",
    "if init:\n",
    "    df_base = pd.read_csv(data_path + data_filename)\n",
    "    df_base['bf4']=df_base['Body'].apply(apply_bf4)\n",
    "    df_base.to_pickle(data_path + 'OC_DS_P6.pkl')\n",
    "else:\n",
    "    df_base = pd.read_pickle(data_path + 'OC_DS_P6.pkl')"
   ]
  },
  {
   "cell_type": "code",
   "execution_count": 5,
   "metadata": {},
   "outputs": [
    {
     "data": {
      "text/plain": [
       "(538, 7)"
      ]
     },
     "execution_count": 5,
     "metadata": {},
     "output_type": "execute_result"
    }
   ],
   "source": [
    "df_tags.shape"
   ]
  },
  {
   "cell_type": "code",
   "execution_count": 6,
   "metadata": {},
   "outputs": [
    {
     "data": {
      "text/html": [
       "<div>\n",
       "<style scoped>\n",
       "    .dataframe tbody tr th:only-of-type {\n",
       "        vertical-align: middle;\n",
       "    }\n",
       "\n",
       "    .dataframe tbody tr th {\n",
       "        vertical-align: top;\n",
       "    }\n",
       "\n",
       "    .dataframe thead th {\n",
       "        text-align: right;\n",
       "    }\n",
       "</style>\n",
       "<table border=\"1\" class=\"dataframe\">\n",
       "  <thead>\n",
       "    <tr style=\"text-align: right;\">\n",
       "      <th></th>\n",
       "      <th>Id</th>\n",
       "      <th>TagName</th>\n",
       "      <th>Count</th>\n",
       "      <th>ExcerptPostId</th>\n",
       "      <th>WikiPostId</th>\n",
       "      <th>IsModeratorOnly</th>\n",
       "      <th>IsRequired</th>\n",
       "    </tr>\n",
       "  </thead>\n",
       "  <tbody>\n",
       "    <tr>\n",
       "      <th>0</th>\n",
       "      <td>3</td>\n",
       "      <td>javascript</td>\n",
       "      <td>2187828</td>\n",
       "      <td>3624960</td>\n",
       "      <td>3607052</td>\n",
       "      <td>NaN</td>\n",
       "      <td>NaN</td>\n",
       "    </tr>\n",
       "    <tr>\n",
       "      <th>1</th>\n",
       "      <td>17</td>\n",
       "      <td>java</td>\n",
       "      <td>1761781</td>\n",
       "      <td>3624966</td>\n",
       "      <td>3607018</td>\n",
       "      <td>NaN</td>\n",
       "      <td>NaN</td>\n",
       "    </tr>\n",
       "    <tr>\n",
       "      <th>2</th>\n",
       "      <td>16</td>\n",
       "      <td>python</td>\n",
       "      <td>1678094</td>\n",
       "      <td>3624965</td>\n",
       "      <td>3607014</td>\n",
       "      <td>NaN</td>\n",
       "      <td>NaN</td>\n",
       "    </tr>\n",
       "    <tr>\n",
       "      <th>3</th>\n",
       "      <td>9</td>\n",
       "      <td>c#</td>\n",
       "      <td>1469621</td>\n",
       "      <td>3624962</td>\n",
       "      <td>3607007</td>\n",
       "      <td>NaN</td>\n",
       "      <td>NaN</td>\n",
       "    </tr>\n",
       "    <tr>\n",
       "      <th>4</th>\n",
       "      <td>5</td>\n",
       "      <td>php</td>\n",
       "      <td>1396289</td>\n",
       "      <td>3624936</td>\n",
       "      <td>3607050</td>\n",
       "      <td>NaN</td>\n",
       "      <td>NaN</td>\n",
       "    </tr>\n",
       "    <tr>\n",
       "      <th>...</th>\n",
       "      <td>...</td>\n",
       "      <td>...</td>\n",
       "      <td>...</td>\n",
       "      <td>...</td>\n",
       "      <td>...</td>\n",
       "      <td>...</td>\n",
       "      <td>...</td>\n",
       "    </tr>\n",
       "    <tr>\n",
       "      <th>533</th>\n",
       "      <td>847</td>\n",
       "      <td>joomla</td>\n",
       "      <td>15111</td>\n",
       "      <td>4262121</td>\n",
       "      <td>4262120</td>\n",
       "      <td>NaN</td>\n",
       "      <td>NaN</td>\n",
       "    </tr>\n",
       "    <tr>\n",
       "      <th>534</th>\n",
       "      <td>572</td>\n",
       "      <td>tree</td>\n",
       "      <td>15088</td>\n",
       "      <td>5047496</td>\n",
       "      <td>5047495</td>\n",
       "      <td>NaN</td>\n",
       "      <td>NaN</td>\n",
       "    </tr>\n",
       "    <tr>\n",
       "      <th>535</th>\n",
       "      <td>5052</td>\n",
       "      <td>menu</td>\n",
       "      <td>15084</td>\n",
       "      <td>6771798</td>\n",
       "      <td>6771797</td>\n",
       "      <td>NaN</td>\n",
       "      <td>NaN</td>\n",
       "    </tr>\n",
       "    <tr>\n",
       "      <th>536</th>\n",
       "      <td>77858</td>\n",
       "      <td>raspberry-pi</td>\n",
       "      <td>15066</td>\n",
       "      <td>9497791</td>\n",
       "      <td>9497790</td>\n",
       "      <td>NaN</td>\n",
       "      <td>NaN</td>\n",
       "    </tr>\n",
       "    <tr>\n",
       "      <th>537</th>\n",
       "      <td>6159</td>\n",
       "      <td>pyqt</td>\n",
       "      <td>15010</td>\n",
       "      <td>5313072</td>\n",
       "      <td>5313071</td>\n",
       "      <td>NaN</td>\n",
       "      <td>NaN</td>\n",
       "    </tr>\n",
       "  </tbody>\n",
       "</table>\n",
       "<p>538 rows × 7 columns</p>\n",
       "</div>"
      ],
      "text/plain": [
       "        Id       TagName    Count  ExcerptPostId  WikiPostId  IsModeratorOnly  \\\n",
       "0        3    javascript  2187828        3624960     3607052              NaN   \n",
       "1       17          java  1761781        3624966     3607018              NaN   \n",
       "2       16        python  1678094        3624965     3607014              NaN   \n",
       "3        9            c#  1469621        3624962     3607007              NaN   \n",
       "4        5           php  1396289        3624936     3607050              NaN   \n",
       "..     ...           ...      ...            ...         ...              ...   \n",
       "533    847        joomla    15111        4262121     4262120              NaN   \n",
       "534    572          tree    15088        5047496     5047495              NaN   \n",
       "535   5052          menu    15084        6771798     6771797              NaN   \n",
       "536  77858  raspberry-pi    15066        9497791     9497790              NaN   \n",
       "537   6159          pyqt    15010        5313072     5313071              NaN   \n",
       "\n",
       "     IsRequired  \n",
       "0           NaN  \n",
       "1           NaN  \n",
       "2           NaN  \n",
       "3           NaN  \n",
       "4           NaN  \n",
       "..          ...  \n",
       "533         NaN  \n",
       "534         NaN  \n",
       "535         NaN  \n",
       "536         NaN  \n",
       "537         NaN  \n",
       "\n",
       "[538 rows x 7 columns]"
      ]
     },
     "execution_count": 6,
     "metadata": {},
     "output_type": "execute_result"
    }
   ],
   "source": [
    "df_tags"
   ]
  },
  {
   "cell_type": "code",
   "execution_count": 15,
   "metadata": {},
   "outputs": [
    {
     "data": {
      "text/plain": [
       "'<p>is putting the function declaration beside the return statement causing the function not to hoist?\\nor putting it inside the return statement turns it into a function expression that\\'s why it isn\\'t hoisted?</p>\\n\\n<p><div class=\"snippet\" data-lang=\"js\" data-hide=\"false\" data-console=\"true\" data-babel=\"false\">\\r\\n<div class=\"snippet-code\">\\r\\n<pre class=\"snippet-code-js lang-js prettyprint-override\"><code>// Hoisting doesn\\'t work in here\\r\\nfunction outer() {\\r\\n  console.log(inner); // Isn\\'t hoisted\\r\\n  return function inner() {\\r\\n    console.log(\"hello world\");\\r\\n  };\\r\\n}\\r\\nouter();</code></pre>\\r\\n</div>\\r\\n</div>\\r\\n</p>\\n\\n<p><div class=\"snippet\" data-lang=\"js\" data-hide=\"false\" data-console=\"true\" data-babel=\"false\">\\r\\n<div class=\"snippet-code\">\\r\\n<pre class=\"snippet-code-js lang-js prettyprint-override\"><code>// Works in here\\r\\nfunction outer() {\\r\\n  console.log(inner);\\r\\n\\r\\n  function inner() {\\r\\n    console.log(\"hello world\");\\r\\n  }\\r\\n  return inner;\\r\\n}\\r\\nouter();</code></pre>\\r\\n</div>\\r\\n</div>\\r\\n</p>\\n'"
      ]
     },
     "execution_count": 15,
     "metadata": {},
     "output_type": "execute_result"
    }
   ],
   "source": [
    "df_base.loc[2]['Body']"
   ]
  },
  {
   "cell_type": "code",
   "execution_count": 7,
   "metadata": {},
   "outputs": [],
   "source": [
    "df_base = df_base.copy(deep=True)"
   ]
  },
  {
   "cell_type": "code",
   "execution_count": 8,
   "metadata": {},
   "outputs": [],
   "source": [
    "tokenizer = RegexpTokenizer(r'\\w+')\n",
    "nltk_stop_words = set(stopwords.words('english'))\n",
    "stemmer = SnowballStemmer(\"english\")\n",
    "\n",
    "df_nltk = pd.DataFrame()\n",
    "df_nltk = df_base.apply(nltk_post_tokens, axis=1, result_type='expand')\n",
    "df_nltk.columns=['Title', 'Body', 'Tags']"
   ]
  },
  {
   "cell_type": "code",
   "execution_count": 9,
   "metadata": {},
   "outputs": [],
   "source": [
    "df_nltk.to_pickle(data_path + 'stackoverflow_nltk.pkl')"
   ]
  },
  {
   "cell_type": "code",
   "execution_count": null,
   "metadata": {},
   "outputs": [],
   "source": []
  },
  {
   "cell_type": "code",
   "execution_count": 10,
   "metadata": {},
   "outputs": [
    {
     "data": {
      "text/plain": [
       "use         32185\n",
       "tri         24186\n",
       "code        22199\n",
       "like        22120\n",
       "want        17917\n",
       "get         17646\n",
       "work        15647\n",
       "would       13386\n",
       "valu        13320\n",
       "follow      13187\n",
       "data        12656\n",
       "function    11427\n",
       "error       11036\n",
       "file        10899\n",
       "way         10709\n",
       "one         10314\n",
       "need         9938\n",
       "creat        9697\n",
       "exampl       9566\n",
       "column       9550\n",
       "1            9338\n",
       "2            7832\n",
       "look         7775\n",
       "output       7385\n",
       "run          7346\n",
       "list         7312\n",
       "problem      7141\n",
       "thank        7139\n",
       "help         6846\n",
       "result       6797\n",
       "dtype: int64"
      ]
     },
     "execution_count": 10,
     "metadata": {},
     "output_type": "execute_result"
    }
   ],
   "source": [
    "mlprepare.prepare_multi_label(df_nltk,'Body')[:30]"
   ]
  },
  {
   "cell_type": "code",
   "execution_count": 12,
   "metadata": {},
   "outputs": [
    {
     "data": {
      "text/plain": [
       "python           8882\n",
       "javascript       5558\n",
       "r                4045\n",
       "pandas           3300\n",
       "java             2917\n",
       "c++              2688\n",
       "c#               2632\n",
       "python-3.x       2173\n",
       "sql              2032\n",
       "html             1704\n",
       "dataframe        1571\n",
       "reactjs          1550\n",
       "arrays           1485\n",
       "c                1362\n",
       "css              1215\n",
       "regex            1172\n",
       "android          1119\n",
       "php              1093\n",
       "typescript       1059\n",
       "swift            1023\n",
       "node.js           982\n",
       "mysql             890\n",
       "angular           875\n",
       "jquery            872\n",
       "numpy             837\n",
       "json              805\n",
       "list              733\n",
       "postgresql        687\n",
       "ios               653\n",
       "mongodb           651\n",
       "dplyr             640\n",
       "django            630\n",
       "sql-server        621\n",
       "swiftui           607\n",
       "string            593\n",
       "powershell        585\n",
       "vue.js            557\n",
       "azure             551\n",
       "ggplot2           537\n",
       "flutter           517\n",
       "bash              499\n",
       "git               496\n",
       "excel             492\n",
       "firebase          481\n",
       "asp.net-core      477\n",
       "google-sheets     453\n",
       "kotlin            452\n",
       "laravel           437\n",
       "dictionary        413\n",
       "oracle            405\n",
       "dtype: int64"
      ]
     },
     "execution_count": 12,
     "metadata": {},
     "output_type": "execute_result"
    }
   ],
   "source": [
    "mlprepare.prepare_multi_label(df_nltk,'Tags')[:50]"
   ]
  },
  {
   "cell_type": "code",
   "execution_count": 16,
   "metadata": {},
   "outputs": [
    {
     "data": {
      "text/plain": [
       "4290"
      ]
     },
     "execution_count": 16,
     "metadata": {},
     "output_type": "execute_result"
    }
   ],
   "source": [
    "mlprepare.prepare_multi_label(df_nltk,'Body').count()"
   ]
  },
  {
   "cell_type": "code",
   "execution_count": 44,
   "metadata": {},
   "outputs": [
    {
     "data": {
      "text/plain": [
       "Title         [creating, symmetric, array, power, element]\n",
       "Body     [trying, create, array, symmetric, elements, p...\n",
       "Tags          [python, numpy, for-loop, matrix, symmetric]\n",
       "Name: 51, dtype: object"
      ]
     },
     "execution_count": 44,
     "metadata": {},
     "output_type": "execute_result"
    }
   ],
   "source": [
    "df_nltk.loc[51]"
   ]
  },
  {
   "cell_type": "code",
   "execution_count": 7,
   "metadata": {},
   "outputs": [
    {
     "data": {
      "text/plain": [
       "'<p>I am trying to create an array which is symmetric with elements placed as below</p>\\n\\n<p><a href=\"https://i.stack.imgur.com/QzkLo.gif\" rel=\"nofollow noreferrer\"><img src=\"https://i.stack.imgur.com/QzkLo.gif\" alt=\"correct_pic\"></a></p>\\n\\n<p>I have written the following code to get this form with parameter being 0.5 and dimension being <code>4-by-4</code>.</p>\\n\\n<pre class=\"lang-py prettyprint-override\"><code>import numpy as np\\na = np.eye(4)\\nfor i in range(4):\\n    for j in range(4):\\n        a[i, j] = (0.5) ** (np.abs(i-j))\\n</code></pre>\\n\\n<p>This does what I need but for large dimension (1000s) this causes a lot of overhead. Is there any other low complexity method to get this matrix? Thanks.</p>\\n'"
      ]
     },
     "execution_count": 7,
     "metadata": {},
     "output_type": "execute_result"
    }
   ],
   "source": [
    "df_base[df_base['Id']==59551201].index\n",
    "df_base.loc[51,'Body']"
   ]
  },
  {
   "cell_type": "code",
   "execution_count": null,
   "metadata": {},
   "outputs": [],
   "source": []
  },
  {
   "cell_type": "code",
   "execution_count": null,
   "metadata": {},
   "outputs": [],
   "source": []
  },
  {
   "cell_type": "code",
   "execution_count": null,
   "metadata": {},
   "outputs": [],
   "source": []
  },
  {
   "cell_type": "code",
   "execution_count": null,
   "metadata": {},
   "outputs": [],
   "source": []
  },
  {
   "cell_type": "code",
   "execution_count": null,
   "metadata": {},
   "outputs": [],
   "source": []
  },
  {
   "cell_type": "code",
   "execution_count": null,
   "metadata": {},
   "outputs": [],
   "source": []
  },
  {
   "cell_type": "code",
   "execution_count": null,
   "metadata": {},
   "outputs": [],
   "source": []
  },
  {
   "cell_type": "code",
   "execution_count": null,
   "metadata": {},
   "outputs": [],
   "source": []
  },
  {
   "cell_type": "code",
   "execution_count": null,
   "metadata": {},
   "outputs": [],
   "source": []
  },
  {
   "cell_type": "code",
   "execution_count": null,
   "metadata": {},
   "outputs": [],
   "source": []
  },
  {
   "cell_type": "code",
   "execution_count": 24,
   "metadata": {},
   "outputs": [
    {
     "data": {
      "text/plain": [
       "Id                                                59551201\n",
       "Title    Creating a symmetric array with power of an el...\n",
       "Body     <p>I am trying to create an array which is sym...\n",
       "Tags          <python><numpy><for-loop><matrix><symmetric>\n",
       "bf4      I am trying to create an array which is symmet...\n",
       "Name: 51, dtype: object"
      ]
     },
     "execution_count": 24,
     "metadata": {},
     "output_type": "execute_result"
    }
   ],
   "source": [
    "df_base.loc[51]"
   ]
  },
  {
   "cell_type": "code",
   "execution_count": 14,
   "metadata": {},
   "outputs": [
    {
     "data": {
      "text/html": [
       "<div>\n",
       "<style scoped>\n",
       "    .dataframe tbody tr th:only-of-type {\n",
       "        vertical-align: middle;\n",
       "    }\n",
       "\n",
       "    .dataframe tbody tr th {\n",
       "        vertical-align: top;\n",
       "    }\n",
       "\n",
       "    .dataframe thead th {\n",
       "        text-align: right;\n",
       "    }\n",
       "</style>\n",
       "<table border=\"1\" class=\"dataframe\">\n",
       "  <thead>\n",
       "    <tr style=\"text-align: right;\">\n",
       "      <th></th>\n",
       "      <th>Id</th>\n",
       "      <th>Title</th>\n",
       "      <th>Body</th>\n",
       "      <th>Tags</th>\n",
       "      <th>bf4</th>\n",
       "    </tr>\n",
       "  </thead>\n",
       "  <tbody>\n",
       "    <tr>\n",
       "      <th>0</th>\n",
       "      <td>59549234</td>\n",
       "      <td>How to determine the smallest common divisor o...</td>\n",
       "      <td>&lt;p&gt;I was asked the following question during a...</td>\n",
       "      <td>&lt;string&gt;&lt;algorithm&gt;</td>\n",
       "      <td>I was asked the following question during a jo...</td>\n",
       "    </tr>\n",
       "    <tr>\n",
       "      <th>1</th>\n",
       "      <td>59549281</td>\n",
       "      <td>How to use a trait object that contains a meth...</td>\n",
       "      <td>&lt;p&gt;What's the correct way to use a trait objec...</td>\n",
       "      <td>&lt;rust&gt;</td>\n",
       "      <td>What's the correct way to use a trait object t...</td>\n",
       "    </tr>\n",
       "    <tr>\n",
       "      <th>2</th>\n",
       "      <td>59549471</td>\n",
       "      <td>Why a named function declaration isn't hoisted...</td>\n",
       "      <td>&lt;p&gt;is putting the function declaration beside ...</td>\n",
       "      <td>&lt;javascript&gt;</td>\n",
       "      <td>is putting the function declaration beside the...</td>\n",
       "    </tr>\n",
       "    <tr>\n",
       "      <th>3</th>\n",
       "      <td>59549568</td>\n",
       "      <td>Getting value of input causing flickering in R...</td>\n",
       "      <td>&lt;p&gt;I am attempting to track the value of two l...</td>\n",
       "      <td>&lt;javascript&gt;&lt;css&gt;&lt;reactjs&gt;&lt;react-hooks&gt;&lt;react-...</td>\n",
       "      <td>I am attempting to track the value of two logi...</td>\n",
       "    </tr>\n",
       "    <tr>\n",
       "      <th>4</th>\n",
       "      <td>59549600</td>\n",
       "      <td>How to assign a vector of atomic types?</td>\n",
       "      <td>&lt;p&gt;How can I assign the members of a vector wi...</td>\n",
       "      <td>&lt;c++&gt;&lt;multithreading&gt;&lt;c++11&gt;&lt;stdvector&gt;&lt;stdato...</td>\n",
       "      <td>How can I assign the members of a vector with ...</td>\n",
       "    </tr>\n",
       "    <tr>\n",
       "      <th>...</th>\n",
       "      <td>...</td>\n",
       "      <td>...</td>\n",
       "      <td>...</td>\n",
       "      <td>...</td>\n",
       "      <td>...</td>\n",
       "    </tr>\n",
       "    <tr>\n",
       "      <th>95</th>\n",
       "      <td>59552693</td>\n",
       "      <td>Handle Authentication in ajax call from MVC cl...</td>\n",
       "      <td>&lt;p&gt;I use Identity server 4 for Authentication,...</td>\n",
       "      <td>&lt;ajax&gt;&lt;asp.net-core&gt;&lt;asp.net-core-webapi&gt;&lt;iden...</td>\n",
       "      <td>I use Identity server 4 for Authentication, On...</td>\n",
       "    </tr>\n",
       "    <tr>\n",
       "      <th>96</th>\n",
       "      <td>59552721</td>\n",
       "      <td>Unrecognized option or bad number of args for:...</td>\n",
       "      <td>&lt;p&gt;When I run &lt;code&gt;redis-cli script load \"$(c...</td>\n",
       "      <td>&lt;redis&gt;&lt;lua&gt;&lt;redis-cli&gt;</td>\n",
       "      <td>When I run . I get a sha . How is this possibl...</td>\n",
       "    </tr>\n",
       "    <tr>\n",
       "      <th>97</th>\n",
       "      <td>59552867</td>\n",
       "      <td>Instagram login with tor</td>\n",
       "      <td>&lt;p&gt;i am trying to login to instagram through t...</td>\n",
       "      <td>&lt;python-3.x&gt;&lt;tor&gt;</td>\n",
       "      <td>i am trying to login to instagram through tor\\...</td>\n",
       "    </tr>\n",
       "    <tr>\n",
       "      <th>98</th>\n",
       "      <td>59552875</td>\n",
       "      <td>Nodejs 12 Callback not working for mysql conne...</td>\n",
       "      <td>&lt;p&gt;I'm writing this code to run in AWS Lambda....</td>\n",
       "      <td>&lt;mysql&gt;&lt;node.js&gt;&lt;aws-lambda&gt;</td>\n",
       "      <td>I'm writing this code to run in AWS Lambda.  ....</td>\n",
       "    </tr>\n",
       "    <tr>\n",
       "      <th>99</th>\n",
       "      <td>59552958</td>\n",
       "      <td>Is there really performance different between ...</td>\n",
       "      <td>&lt;p&gt;I am interested in this issue. Every time I...</td>\n",
       "      <td>&lt;mysql&gt;&lt;database-performance&gt;&lt;sqldatatypes&gt;</td>\n",
       "      <td>I am interested in this issue. Every time I de...</td>\n",
       "    </tr>\n",
       "  </tbody>\n",
       "</table>\n",
       "<p>100 rows × 5 columns</p>\n",
       "</div>"
      ],
      "text/plain": [
       "          Id                                              Title  \\\n",
       "0   59549234  How to determine the smallest common divisor o...   \n",
       "1   59549281  How to use a trait object that contains a meth...   \n",
       "2   59549471  Why a named function declaration isn't hoisted...   \n",
       "3   59549568  Getting value of input causing flickering in R...   \n",
       "4   59549600            How to assign a vector of atomic types?   \n",
       "..       ...                                                ...   \n",
       "95  59552693  Handle Authentication in ajax call from MVC cl...   \n",
       "96  59552721  Unrecognized option or bad number of args for:...   \n",
       "97  59552867                           Instagram login with tor   \n",
       "98  59552875  Nodejs 12 Callback not working for mysql conne...   \n",
       "99  59552958  Is there really performance different between ...   \n",
       "\n",
       "                                                 Body  \\\n",
       "0   <p>I was asked the following question during a...   \n",
       "1   <p>What's the correct way to use a trait objec...   \n",
       "2   <p>is putting the function declaration beside ...   \n",
       "3   <p>I am attempting to track the value of two l...   \n",
       "4   <p>How can I assign the members of a vector wi...   \n",
       "..                                                ...   \n",
       "95  <p>I use Identity server 4 for Authentication,...   \n",
       "96  <p>When I run <code>redis-cli script load \"$(c...   \n",
       "97  <p>i am trying to login to instagram through t...   \n",
       "98  <p>I'm writing this code to run in AWS Lambda....   \n",
       "99  <p>I am interested in this issue. Every time I...   \n",
       "\n",
       "                                                 Tags  \\\n",
       "0                                 <string><algorithm>   \n",
       "1                                              <rust>   \n",
       "2                                        <javascript>   \n",
       "3   <javascript><css><reactjs><react-hooks><react-...   \n",
       "4   <c++><multithreading><c++11><stdvector><stdato...   \n",
       "..                                                ...   \n",
       "95  <ajax><asp.net-core><asp.net-core-webapi><iden...   \n",
       "96                            <redis><lua><redis-cli>   \n",
       "97                                  <python-3.x><tor>   \n",
       "98                       <mysql><node.js><aws-lambda>   \n",
       "99        <mysql><database-performance><sqldatatypes>   \n",
       "\n",
       "                                                  bf4  \n",
       "0   I was asked the following question during a jo...  \n",
       "1   What's the correct way to use a trait object t...  \n",
       "2   is putting the function declaration beside the...  \n",
       "3   I am attempting to track the value of two logi...  \n",
       "4   How can I assign the members of a vector with ...  \n",
       "..                                                ...  \n",
       "95  I use Identity server 4 for Authentication, On...  \n",
       "96  When I run . I get a sha . How is this possibl...  \n",
       "97  i am trying to login to instagram through tor\\...  \n",
       "98  I'm writing this code to run in AWS Lambda.  ....  \n",
       "99  I am interested in this issue. Every time I de...  \n",
       "\n",
       "[100 rows x 5 columns]"
      ]
     },
     "execution_count": 14,
     "metadata": {},
     "output_type": "execute_result"
    }
   ],
   "source": [
    "df_base"
   ]
  },
  {
   "cell_type": "code",
   "execution_count": 21,
   "metadata": {},
   "outputs": [
    {
     "data": {
      "text/plain": [
       "['python', 'numpy', 'for-loop', 'matrix', 'symmetric']"
      ]
     },
     "execution_count": 21,
     "metadata": {},
     "output_type": "execute_result"
    }
   ],
   "source": [
    "[tag.name for tag in BeautifulSoup(df_base.loc[51,'Tags'], 'html.parser').find_all()]"
   ]
  },
  {
   "cell_type": "code",
   "execution_count": 19,
   "metadata": {},
   "outputs": [
    {
     "data": {
      "text/plain": [
       "'<python><numpy><for-loop><matrix><symmetric>'"
      ]
     },
     "execution_count": 19,
     "metadata": {},
     "output_type": "execute_result"
    }
   ],
   "source": [
    "df_base.loc[51,'Tags']"
   ]
  },
  {
   "cell_type": "code",
   "execution_count": null,
   "metadata": {},
   "outputs": [],
   "source": []
  },
  {
   "cell_type": "code",
   "execution_count": 13,
   "metadata": {},
   "outputs": [],
   "source": [
    "nlp = spacy.load(\"en_core_web_sm\")"
   ]
  },
  {
   "cell_type": "code",
   "execution_count": 22,
   "metadata": {},
   "outputs": [],
   "source": [
    "# doc = nlp(df_base.loc[51,'bf4'])\n",
    "doc_title = nlp(df_base['Title'].str.cat(sep='. '))\n",
    "doc_body = nlp(df_base['bf4'].str.cat(sep='. '))"
   ]
  },
  {
   "cell_type": "code",
   "execution_count": 25,
   "metadata": {
    "scrolled": true,
    "tags": []
   },
   "outputs": [
    {
     "name": "stdout",
     "output_type": "stream",
     "text": [
      "Noun phrases: ['the smallest common divisor', 'a string', 'a trait object', 'a method', 'a reference', 'Self', 'a named function declaration', 'you', 'it', 'the return statement', 'value', 'input', 'flickering', 'React', 'a vector', 'atomic types', 'first key', 'object', 'docker inspect', 'name', 'network', 'container', 'I', 'the choices', 'vote count', 'my poll', 'an array', 'a map', 'a package', 'CRAN', 'a package', 'CRAN', 'trouble', 'R', 'SQL subquery', 'specific rows', 'Python3', 'I', 'an alphanumeric command-line argument', '20x', 'not a solely numeric one', 'C', 'Regex', 'new lines', 'quotations', 'PHP', 'Alternative', 'INNER JOIN', 'no cartesian product', 'Input', 'Outputs', 'HTML', 'Typescript', 'Angular', 'My code', \"this newton's cradle\", 'I', 'Issue', 'select element', 'jQuery', 'Debug, System functions', 'loop', 'Google Test C.', 'rows', 'dates', 'Pandas', 'environment variables', 'javascript', 'value', 'multiple keys', 'python', 'Laravel access', 'a Linkedlist node pointer', 'other nodes', 'only part', 'a file', 'Git', 'sublime merge', 'Python OOP instances', 'classes mutability', 'Dynamic nested loop - recursion', 'data', 'text file', 'shell', 'C', 'a multi-byte character', 'a null character', 'SQLAlchemy CRUD operation', 'outcome assignment', 'kubelet', 'ClusterDNS IP', 'Microk8s', 'SQL Server', 'detach database', 'React useState option value', 'onChange selection', 'coroutines', 'Flow<List', 'T', 'Set listener', 'a child', 'a child', 'recyclerView', 'Kotlin', 'the HashMap', 'Room database', 'JSON', 'GSON', 'multiple dataframes', 'a csv file', 'an empty row', 'column', 'substring', 'the columns name', 'pandas', 'python', 'User-defined conversion', 'return type', 'Two Associative Arrays', 'One Multidimensional Array PHP', 'a diacritical mark', 'one letter', 'the left', 'How does z-index work', 'its default values', 'the href attribute', 'html', 'unwanted results', 'error', '\"passwords', 'passwd', 'docker', 'R', 'calculation', 'column values', 'loop', 'stereo sine wave', 'FFMPEG', 'List', 'keys', 'Map', 'ggplot', 'boxplots', 'Copy', 'case class', 'PK violation', 'way', 'existence', 'DB performance', 'values', 'a symmetric array', 'power', 'an element', 'Gradient Arc View', 'my call', 'strcmp', 'Error opening photos', 'zip file', 'Django', 'Join array', 'strings', 'single string', 'separator', 'comprehension', 'map', 'Merge', 'Two Array', 'Struct', 'Swift', 'Pandas', 'multiple values', 'cell', 'column', 'a way', 'a non-trivial static', 'std::collections::HashMap', 'it', 'C language syntax', 'if { ... } while(0', 'java arguments', 'Windows', 'Linux', 'any way', 'chrome selenium', 'Collapsible content', 'scripts', 'value', 'json', 'a variable', 'jq', 'bash', 'Kafka', 'setup', 'record', 'Aurora', 'AWS MSK', 'Google sheets API - download data', 'no formatting', 'Parity', 'modulo', 'date index', 'the first element', 'each month', 'Firebase database', 'children', 'Git LFS', 'filter-branch', 'unchanged file', 'index', 'groovy exception', 'presto', 'Cassandra', 'the controller', 'an included FXML', 'Toolbar badge count', 'I', 'it', 'ViewModel', 'plots', 'Matplotlib', 'Haskell', 'double-wrapped maybes', 'functions', 'maybes', 'useSelector react-redux hook - state', 'argument', 'tuple enum inside method', 'Rust', 'I', 'the scope', 'selenium', '\"find_elements_by_xpath', 'star-counting', 'each row', '7 or 8 column grids', \"vuetity's v-row\", '-col', 'enablePersistence', ') method', 'Firebase', 'offline use', 'the web app', 'H2O cluster', 'several R programs', 'access', 'cluster', 'queue', 'it', 'Regex - Extract string', 'two expressions', 'only last apperance', 'all possible configuration options', 'an Azure service', 'all time', 'i', 'page', 'UTC', 'NotificationCenter publishers', 'Where does Laravel store throttle data', 'multiple instances', 'a subclass', 'only one instance', 'a superclass', 'fixed width integers', 'dataframe grouping', 'class', 'timestamp', 'Menu Class', 'Core', 'spring integration flow', 'Laravel Eloquent Relationship', 'the same foreign key', 'the same table', 'gnuplot', '12h time format', '24h time format', 'Handle Authentication', 'ajax call', 'MVC client', 'resource api', 'Identity server', 'Unrecognized option', 'bad number', 'args', 'Instagram', 'tor', '12 Callback', 'mysql connection', 'string', 'int cloumn(table design']\n"
     ]
    }
   ],
   "source": [
    "print(\"Noun phrases:\", [chunk.text for chunk in doc_title.noun_chunks])"
   ]
  },
  {
   "cell_type": "code",
   "execution_count": 26,
   "metadata": {},
   "outputs": [
    {
     "name": "stdout",
     "output_type": "stream",
     "text": [
      "Verbs: ['determine', 'use', 'contain', 'return', 'name', 'hoist', 'put', 'get', 'cause', 'assign', 'get', 'use', 'get', 'store', 'import', 'have', 'get', 'work', 'use', 'filter', 'use', 'use', 'reject', 'capture', 'parse', 'move', 'work', 'fix', 'wrap', 'use', 'domnodeinserte', 'fopen', 'expand', 'use', 'set', 'get', 'understand', 'point', 'commit', 'use', 'nest', 'add', 'excel', 'use', 'handle', 'include', 'have', 'configure', 'login', 'react', 'convert', 'list', 'make', 'save', 'use', 'combine', 'separate', 'melt', 'define', 'specify', 'convert', 'move', 'get', 'give', 'get', 'match', 'use', 'roll', 'avoid', 'generate', 'use', 'intersect', 'draw', 'expect', 'attribute', 'use', 'check', 'reduce', 'return', 'pseudo', 'use', 'create', 'show', 'work', 'expect', 'store', 'join', 'use', 'df.mode', 'init', 'make', 'behave', 'hide', 'show', 'extract', 'contain', 'use', 'connect', 'send', 'use', 'use', 'select', 'recognize', 'remove', 're', '-', 'add', 'build', 'sort', 'get', 'include', 'work', 'try', 'set', 'format', 'avoid', 'wrap', 'return', 'reselect', 'use', 'define', 'access', 'limit', 'output', 'use', 'use', 'set', 'run', 'need', 'create', 'start', 'get', 'list', 'find', 'convert', 'create', 'check', 'fix', 'define', 'miss', 'customize', 'have', 'convert', 'work']\n"
     ]
    }
   ],
   "source": [
    "print(\"Verbs:\", [token.lemma_ for token in doc_title if token.pos_ == \"VERB\"])"
   ]
  },
  {
   "cell_type": "code",
   "execution_count": 27,
   "metadata": {
    "scrolled": true,
    "tags": []
   },
   "outputs": [
    {
     "name": "stdout",
     "output_type": "stream",
     "text": [
      "Noun phrases: ['I', 'the following question', 'a job interview', 'it', 'Part', 'the problem', 'I', 'my mind', 'what problem', 'I', 'I', 'the question', 'I', 'it', 'you', 'two different things', 'the first task', 'one string', 'a multiple', 'another string', 'the second task', 'a smaller unit', 'division', 'both strings', 'It', 'me', 'the pressure', 'the interview room', 'me', 'I', 'what', 'the ideal algorithm', 'Any suggestions', 'What', 'the correct way', 'a trait object', 'a method', 'a reference', 'the compiler error', 'we', 'two ways', 'we', 'the definition', 'we', 'the definition', 'bar', 'I', 'the difference', 'what circumstance', 'another method', 'the function declaration', 'the return statement', 'the function', 'it', 'the return statement', 'it', 'a function expression', 'it', 'I', 'the value', 'two login input fields', 'their value', 'change', 'this value', 'the local state', 'the user', 'the login', 'I', 'the current values', 'the state', 'the inputs flickering', 'I', 'text', 'them', 'I', 'the password field', 'the cursor', 'the email field', 'The glitch', 'note', 'I', 'the email field', 'it', 'some reason', 'I', 'the password field', 'the code', 'my', 'My inputs', 'a modal component', 'I', 'an overlay', 'a portal', 'I', 'related questions', 'other methods', 'nothing', 'I', 'any help', 'I', 'the members', 'a vector', 'an atomic type', 'I', 'command', 'me', 'output', 'the question', 'UPDATE', 'The only way', 'I', 'exactly what', 'I', 'I', 'it', 'it', 'parameter', 'Hello, happy new year', 'I', 'a simple poll', 'I', 'the choices', 'the vote count', 'I', 'I', 'the choices', 'the count', 'the choice', 'the index', 'it', '0 vote', 'the choice', 'the index', 'it', '24 votes', 'it', 'it', 'security rules', 'I', 'I', '2 items', 'the array', 'I', 'the value', 'each item', 'the user', 'it', \"'s\", 'The other idea', 'I', 'the user', 'a specific field', 'I', 'the user', 'the value', 'he', 'I', 'the user', 'a dynamic field', 'I', 'he', 'I', 'the amount', 'you guys', 'any ideas', 'suggestions', 'I', 'them', 'Packages', 'the Comprehensive R Archive Network', 'CRAN', 'other packages', 'CRAN', 'packages', 'CRAN', 'packages', 'I', 'a contribution', 'more sense', 'a separate package', 'the contribution', 'its own right', 'other packages', 'I', 'the base::by() function', 'R.', 'it', 'the base::tapply() function', 'some reason', 'the following code', 'I', 'I', 'the following warnings', 'mtcars$mpg', 'mtcars$hp', 'them', 'arguments', 'Anyone', 'the case', 'you', 'I', 'a table', 'it', 'certain Father', 'the same name', 'I', 'I', 'tables code', 'Query #', 'Query #1 OUTPUT', 'Query #', 'Query #2 OUTPUT', 'Query #', 'Query #3 Output', 'Output', 'Query', '#', \"'s\", 'we', 'a simple word count problem', 'a list', 'we', 'the word count', 'each word', 'the list', 'Which pattern', 'I', 'a purely alphabetical argument', 'I', 'an alphanumeric user input', 'numeric inputs', 'my relevant code', 'my code', 'the function', 'my program', 'this one bug', 'Any help', 'an edX cs50 homework assignment', 'I', 'the whole assignment', 'this bug', 'I', 'an answer', 'over 3 hours', 'no avail', 'me', 'overflownobi', 'You', 'my only hope', 'I', 'PHP', 'a document', 'sections', 'A sample text', 'What', 'I', 'I', 'Example', 'I', 'I', 'new lines', 'quotation marks', 'a way', 'this query', 'inner joins', 'Edit', 'DDL', 'the tables', 'my result', 'I', 'Indexes', 'the help', 'workbench', 'the following columns', 'Any help', 'Thanks', 'I', 'all the Inputs', 'Outputs', 'a Parent Component', 'Typescript', 'HTML', 'I', 'the following', 'a long list', 'parameters', 'Parent', 'data', 'Child Component', 'them', 'Typescript', 'Goal', 'services', 'strongly typed components', 'parent', 'child', 'smart-dumb architecture strategy', 'services', 'I', 'the problem', 'the last few lines', 'I', 'the problem', 'The problem', 'I', 'each select element', 'It', 'some unwanted divs', 'Uncaught', 'Maximum call stack size', 'What', 'I', 'my codepen', 'HTML code', 'jQuery code', 'CSS code', 'I', 'Google Test', 'C code', 'I', 'the problem', 'I', 'a couple', 'rows', 'a date range', 'excel', 'Pandas', 'two records', 'I', 'intervals', '7 days', 'what', 'I', 'output', '7 days', 'I', 'a row', 'the remaining days', 'a code', 'I', 'Pandas', 'I', 'I', 'the methods', 'anyone', 'EDIT', 'you', 'everyone', 'I', 'a lot', 'your responses', 'the answer', 'Datanovice', 'the accepted answer', 'I', 'some environment variables', 'my bash script', 'order', 'execution', 'echo output', 'the above dict', 'I', 'the value', '\"S', 'Error', 'I', 'Laravel', 'what', 'I', 'new array', 'urlConstants', 'another array', 'I', 'any other way', 'this variable', 'the integers', 'a defination', 'a listnode class', 'I', 'node', 'node1', 'node1', 'a pointer', 'node2', 'I', 'we', 'a node1->node2->node3 pointing', 'a way', 'I', 'some readings', 'this code', 'The output', 'this code', 'what', 'I', \"m's attribute\", 'I', 'id', 'it', 'different ids', 'someone', 'what', 'I', 'a list', 'numbers', 'who', 'digits', 'order', 'it', 'me', 'a recursion', 'I', 'the nesting depth', 'Notes', 'my application', 'I', 'something', 'I', 'minimum burden', 'the print statement', 'I', 'the same reason', 'Thanks', 'I', '2 outputs', 'commands', 'Using SHELL', 'Output', 'Output', 'My actual output', 'excel', 'Output', 'column', 'Output', 'column', 'the C11 standard states', 'A byte', 'all bits', 'shift state', 'I', 'it', 'a multibyte character', 'its bytes', 'the below example', 'the characters', 'zero bytes', 'it', 'What', 'I', 'I', 'an app', 'I', 'the user', 'un', 'a blog', 'un-bookmarking', 'I', 'that bookmark record', 'I', 'my test file', 'I', 'This test', 'the following', 'It', 'the second assertion', 'context', 'I', 'classic mapping', 'I', 'My gut', 'me', 'it', 'something', 'the query', 'I', 'any evidence', 'it', 'Any help', 'Thanks', 'advance', 'A full example', 'I', 'I', 'a simple hello world program', 'I', 'the error', 'kubelet', 'ClusterDNS IP', 'Pod', '\"ClusterFirst\" policy', '\"Default\" policy', 'my', 'what', 'I', 'I', 'I', 'alot', 'I', 'some answers', 'no one', 'me', 'I', 'what', 'I', 'me', 'what', 'I', 'I', 'Windows server', 'I', 'trouble', 'SQL Server', 'I', 'default user', 'master database', 'I', 'SQL Server Management Studio', 'I', 'that database', 'it', 'I', 'SQL Server Management Studio', 'Windows authentication', 'I', 'an error', 'A connection', 'the server', 'an error', 'the login process', 'Shared Memory Provider', 'error', 'No process', 'the other end', 'the pipe', 'SqlClient Data Provider) error:233', 'I', 'it', 'I', 'this error', 'Login Failed', 'user A. Reason', 'Server', 'single user mode', 'Only one administrator', 'this time', '(Microsoft SQL Server', 'Error', 'What', 'this error', 'I', 'my database', 'I', 'database', 'kotlinx.coroutines.flow list', 'normal data class list', 'I', 'this example', 'A row', 'two columns', '75% width', 'right', '25% width', 'Right column height', 'the left column', 'the right column', 'overflowing content', 'right column', 'HTML code', 'stylesheet', 'I', 'a RecyclerView', 'which there are three buttons', 'its model', 'I', 'a listener', 'each button', 'I', \"RecyclerView's child\", 'a listener', 'it', 'I', 'a listener', 'a child', 'a child', 'RecyclerView', 'I', 'Kotlin', 'I', 'this code', 'you', 'the child', 'recyclerView', 'the child', 'RecyclerView', 'I', 'Address', 'HashMap', 'the compiler', 'the  error', 'this field', 'database', 'You', 'a type converter', 'it', 'private java.util', 'HashMap address', 'I', 'the MapTypeConverter', 'it', 'Room Entity', 'App DataBase', 'I', 'each dataframe', 'an empty row', 'i', 'them', 'this snippet', 'i', 'them', 'an empty row', 'I', 'dataframe', 'I', 'it', 'a dataframe', 'Meaning', 'the delimiter', 'the columns name', 'What', 'the best way', 'I', 'unqiue smart pointers', 'template', 'I', 'the compiler error', 'user-define conversion', 'the return type', 'my code', 'both header', 'cpp files', 'The error', 'line', '.h', 'line', 'I', 'it', 'the cpp', 'I', '2 associative arrays', '2 queries', 'JSON format', 'These 2 arrays', 'this code', 'I', 'a multidimensional array', 'php', 'the JSON', 'I', 'I', 'the net', 'no luck', 'Any help', 'you', 'I', 'this regular expression', 'an Arabic diacritical mark', 'a subtitle file', 'it', 'the diacritical mark', 'just one letter', 'the left', 'it', 'I', 'python', 'the original line', 'a subtitle file', 'the diacritical mark', 'its correct place', 'أنا لا أترصّد عبر الإنترنت', 'i', 'it', 'أترصدّ عبر الإنترنت', 'I', 'a media player', 'some reason', 'the diacritical mark', 'one letter', 'the right', 'the diacritical mark', 'its correct place', 'this media player', 'i', 'the diacritical mark', 'one letter', 'the left', 'the subtitle file', 'https://github.com/xbmc/xbmc/issues/17076', 'anyone', 'z-index default value', 'this snippet', 'I', 'sub', 'the top', 'I', 'text', 'top level', 'text', 'lower level', 'I', 'the top', 'it', 'the top level border', 'I', 'container', 'every child element', 'it', 'I', 'I', 'it', 'z-index:1', 'it', 'I', 'the situation', 'I', 'some content', 'a website', 'the HTML', 'something', 'the website', 'I', 'the href attribute', 'the problem', 'I', 'this problem', 'basic string manipulation', 'It', 'I', 'an electron app', 'nodeJS', 'I', 'a user', 'random password', 'FTP', 'Docker', 'The section', 'Dockerfile', 'I', 'an error', 'last line', 'the passwords', 'even I', 'a same variable', 'I', 'the output', 'it', 'the new section', 'Dockerfile', 'Thanks', 'anyone', 'I', 'a new column', 'values', 'the previous row', 'same column', 'You', 'it', 'a loop', 'you', 'column', 'values', 'column', 'the previous row', 'I', 'a Shiny app', 'I', 'fast calculation', 'loops', 'a way', 'loops', 'use', \"dplyr's piping\", 'This reply', 'I', 'a stereo sine wave', 'FFMPEG', 'batch file', 'a different frequency', 'left', 'I', 'it', 'the same frequency', 'We', 'a map', 'Student', 'we', 'a list', 'Student Id', 'the MWE', 'I', 'boxplots', 'these ideas', 'mind', 'MWE', 'Summary code', 'ggplot code', 'Graph', 'I', 'boxplots', 'annotation', 'I', 'A object', 'B', 'any alternate way', 'something', 'I', 'a python library', 'tasks', 'a DB', 'a few tens', 'tasks', 'Every task', 'the task', 'the DB', 'the library', 'it', 'the library', 'it', 'the PK violation error', 'the DB', 'a cost', 'this method', 'constant PK violation', 'the task', 'ON CONFLICT', 'some error-handling', 'the DB', 'reduced performanc', 'an external library', 'I', 'I', 'the logic', 'The specific DB', 'I', 'postgres', 'it', 'a difference', 'I', \"R's max function\", 'combination', 'an example', 'anybody', 'a legitimate input argument', 'any R function', 'no warning', 'the argument', 'I', 'an array', 'elements', 'I', 'the following code', 'this form', 'parameter', 'dimension', 'being', 'what', 'I', 'large dimension', 'a lot', 'overhead', 'any other low complexity method', 'this matrix', 'Thanks', 'i', 'a custom view', 'a 85%', 'a circle', 'Just Stroke', 'Gradient color', 'my code', 'the edges', 'i', 'i', 'it', 'one more thing', 'i', 'the radius', 'the view', 'I', 'C', 'It', 'a guessing game', 'the user', 'a certain amount', 'guesses', 'the hidden message', 'I', 'the correct word', 'it', 'it', 'I', 'a Guess', 'the number', 'tries', 'it', 'I', 'a zip file', 'the image files', 'my server', 'I', 'the following function', 'Everything', 'all photos', 'zip file', 'only one problem', 'Its look', 'we', 'this file format', 'What', 'my codes', \"'s\", 'I', 'an array', 'I', 'each element', 'each row', 'so something', 'I', 'a way', 'axis=1', 'I', 'any question', 'my issue', 'someone', 'me', 'I', 'response', 'server', 'I', 'a Modal struct', 'the data', 'server', 'I', 'it', 'Question', 'UPDATE', 'More detail', 'what', 'I', 'four records', 'json', 'I', 'booking1', 'booking2', 'I', 'I', 'a dataframe', 'I', 'Here an image', 'All input', 'Thanks', 'this code', 'the only way', 'I', 'what', 'I', 'I', 'a global variable', 'a bad idea', 'multi-threaded applications', 'mine', 'I', 'the price', 'an eventuality', 'I', 'I', 'more general terms', 'the question', 'stuff', 'the initvars section', 'a program', 'Rust', 'you', 'me', 'If a function', 'I', 'Two questions', 'it', 'What', 'the value', 'I', 'different results', 'a simple java class', 'Windows cmd', 'The java class', 'I', 'this test arguments', 'cmd', 'the single quote', 'the arguments', 'ubuntu', 'it', 'Any idea', 'I', 'it', 'my requirement', 'it', 'initialization', 'I', 'I', 'a bash script', 'a json value', 'a variable', 'i', 'the values', 'that json', 'Jq', 'The code', 'an error', 'no such file', 'direcotry', 'i', 'any error', 'the value', 'it', 'i', 'it', 'first case', 'I', 'records', 'Aurora/Mysql', 'MSK', 'Elastic search service', 'Aurora -->Kafka-connect--->AWS MSK--->kafka', 'The record', 'Aurora table structure', 'something', 'order', 'elastic search', 'i', 'proper schema', 'so schema registry', 'i', 'My question', 'Question', 'i', 'schema registry', 'type', 'message schema registry', 'i', 'JSON structure', 'i', 'More help', 'I', 'i', 'what', 'Even i', 'this error', 'i', 'i', 'anything', 'schema', 'I', 'jdbc connector', 'i', 'i', 'error', 'Question', 'Question', 'the above properties', 'i', 'schema name', 'table name', 'answer', 'i', 'my configuration', 'Kafka', 'JDBC', 'JDBC', 'elastic search', 'i', 'properties', 'i', 'i', 'properties', 'i', 'topic', 'i', 'any topic', 'table name', 'Stack trace', 'the error message', 'Go', 'sheet data', 'the data', 'something', 'the api', 'code', 'I', 'algorithms', 'parity', 'some one', 'I', 'a pandas data frame', 'dates', 'indices', 'example', 'I', 'just the first element', 'each available month', 'example', 'this DF', 'I', 'I', 'no idea', 'I', 'Thanks', 'advance', 'my database', 'my app', 'I', 'two collectionViewControllers', 'The first one', 'cells', 'category', 'the second collectionViewController', 'cells', 'the items', 'each category', 'The problem', 'my app', 'the different items', 'the category', 'I', 'the example', 'some reason', 'printing item', 'snapshot.children.allobjects prints', 'nothing', 'the first collectionViewController', 'the Categories node', 'I', 'the category1', 'category2 data', 'I', 'this exact method', 'my seccond collectionViewController', 'the Category1 node', 'anything', 'it', 'the category array', 'the viewcontroller', 'the collectionView', 'The cells', 'history', 'Git LFS', 'I', 'I', 'alternative methods', 'the end', 'I', 'all the commands', 'me', 'the following error', 'multiple files', 'the filtered commits', 'pointer files', 'the objects', 'I', 'the same commands', 'only the tip commit', 'it', 'the problem', 'unchanged file', 'index', 'filter-branch', 'Windows', 'git bash', 'I', 'presto', 'Presto', 'my IDE', 'I', 'presto', './mvnw clean install', 'the instructions', 'this document', 'I', 'an exception', 'follow', 'My version', 'Presto', 'tag', 'I', 'this problem', 'I', 'a table', 'schema', 'I', 'this table secondary index', 'column senderType', 'all the queries', 'createdAt DESC', 'I', 'a new query', 'any option', 'this query', 'materialized view', 'Thanks', 'I', 'a simple two tab application', 'JavaFXML', 'scenebuilder', 'The tabs', 'nothing', 'I', 'a nullpointer exception', 'them', 'The java and fxml files', 'a Netbeans project', 'The application main class', 'MainApp.java', 'the scene', 'The MainController class', 'the two tabs', 'the Input tab', 'Account tab', 'the application', 'an exit button', 'the program', 'the MainView', '. fxml file', 'the java controller class', 'the main view', 'The two println statements', 'the references', 'the two tabs', 'detailController', 'inputController', 'something', 'the following dump', 'output', 'the printlns', 'the outcome', 'the tab pane', 'the detail and input controllers', 'completeness', 'they', 'InputView.fxml', 'The controller', 'DetailView.fxml', 'The controller', 'I', 'dependency services', 'both side', 'Interface', 'shared library', 'i', 'it', 'it', 'i', 'it', 'ViewModel', 'messaging center', 'count', 'notification', 'Toolbar', 'application', 'it', 'anyone', 'any kind', 'idea', 'what', 'i', 'this code', 'Below Code', 'InterFaceCode', 'Dependency service', 'BadgeDrawable Class', 'I', 'a beginner', 'Pandas', 'Matplotlib', 'I', 'some questions', 'plots', 'pandas', 'I', 'the following code', 'an area plot', 'I', 'the following aspects', 'it', 'Matplotlib(or', 'any other library', 'python', 'EDIT', 'you', 'the input data', 'Error message', \"JohanC's solution code\", 'Jupyter', 'I', 'a lot', 'questions', 'the Maybe type', 'composition', 'I', 'my head', 'I', 'my situation', 'the sake', 'example', 'I', 'a function', 'I', 'a function', 'I', 'something', 'a type', 'I', 'anything', 'the standard library', 'my specific case', 'I', 'a function', 'the trick', 'I', 'the answer', 'the original question', 'I', 'an issue', 'some reason', 'the state', 'my selector', 'a look', 'What', 'I', 'wrong', 'the following code', 'I', 'the string', 'I', 'the stars(ratings', 'each rating column', 'this url', 'the star-counting part', '5 rows', 'star ratings', 'I', 'loop', 'the scope', 'each star_count', 'the list', 'the star rating', 'each user', 'this approach', 'what', 'the list', 'my', 'loop', 'the counting scope', 'I', 'other ways', 'the counting scope', 'my aim', 'Thanks', 'advance', 'I', \"that vuetify's grid properties\", 'the 12 column flex-box', 'I', 'a grid', 'a default', '7 or 8 columns', 'this example', 'My', 'I', 'a simple web app', 'Vue.js', 'Firestore', 'I', 'the web app', 'the page', 'no internet connection', 'I', 'the desired results', 'I', 'the  enablePersistence', 'the firebase configuration file', 'my Vue project', 'PWA template', 'I', 'that method', 'the lifecycle methods', 'the app components', 'the desired result', 'I', 'the same R script', 'parallel', 'batches', 'different parameters', 'The R script', 'a H2O model', 'this case', 'I', 'I', 'the latter solution', 'I', 'initialization', 'the H2O cluster', 'so many batches', 'The first batch', 'the cluster', 'H2O.init', 'the last batch', 'it', 'my application', 'I', 'a refresh token logic', 'I', 'the refresh token process', 'all requests', 'a queue', 'my process', 'I', 'the queue', 'example', 'I', 'something', 'the refresh token process', 'a regex query', 'the bolded string', 'Mozilla/5.0', '(Linux', 'U', 'Android 4.2.2', 'us', 'I', 'this option', 'it', 'the following string', 'U', 'Android 4.2.2', 'us', 'A2003 Build', 'Suggestions', 'I', 'a way', 'AZ CLI', 'all available configuration options', 'a specific  Azure service', 'The purpose', 'we', 'everything', 'certain configuration options', 'I', 'website', 'different tables', 'it', 'JavaScript', 'jQuery', 'all time strings', 'web page', 'them', 'UTC time', 'I', 'the time difference', 'UTC', 'hours', 'I', 'some loop', 'Any ideas', 'I', 'something', 'lack', 'knowledge', 'I', 'notifications', 'the app', 'the background', 'I', 'the NotificationCenter publishers', 'the SwiftUI view', 'them', 'Strangely the listener', 'I', 'Laravel rate limit', 'I', 'it', 'throttle data', 'I', 'the default storage system', 'MySQL/Mariadb', 'Redis', 'I', 'the Flyweight pattern', 'I', 'inheritance', 'I', 'this pattern', \"'s\", 'I', 'a superclass', 'all the \"heavy\" information - textures', 'the one', 'I', 'the light class', 'data', 'main create', 'I', 'C++', 'fixed width integers', 'What', 'a portable way', 'fixed width integers', 'I', 'a dateframe', 'I', 'how many rows', 'each class', 'I', 'a particular day', 'the final result', 'I', 'I', 'the problem', 'Thanks', 'advance', 'I', 'a task tray application', 'Core', 'I', 'a simple menu', 'the application features', 'the required Menu class', 'The official documentation', 'control', 'the class', 'I', 'a requirement', 'thie point', 'I', 'My question', 'I', 'the transformers', 'it', 'I', 'one flow', 'all the transformers', 'I', 'it', 'sub', '-', 'flows', 'any transformer', 'an exception', 'it', 'the rest', 'transformers', 'error channel', 'I', 'an exception handling channel', 'I', 'which step', 'the exception', 'I', 'a beginner', 'Laravel', 'a ticketing system', 'My', 'User Model', 'Ticket Model', 'View', 'Controller', 'I', 'the annoying 12h time format', 'AM', 'PM', 'the 24h time format', 'I', 'external programs', 'gnuplot', 'warning', 'Bad time format', 'string', 'I', 'Code', 'Result', 'I', 'Identity server', 'Authentication', \"my client's application\", 'Asp.net core MVC Project', 'one web API resource', 'some ajax request', 'I', 'some pages', 'Mvc client', 'call web API resource', 'javascript ajax call', 'I', 'authentication', 'JWT', 'maybe Cookies', 'JWT', 'I', 'I', 'a sha', 'I', 'any options', 'arguments', 'The script', 'it', 'the debugger', 'I', 'it', 'i', 'i', 'python3', 'a linux machine', 'the code', 'the problem', 'i', 'it', 'an exception', 'it', 'this exception', 'i', 'i', 'its configs', 'nothing', 'you', 'I', 'this code', 'AWS Lambda', 'I', 'things', 'out errors', 'the message', 'Database', 'the logged output', 'INFO', 'INFO', 'INFO', 'My thought', 'the function', 'I', 'any code', 'connection.connect', 'I', 'One more question', 'd null', 'I', 'no big deal', 'it', 'the order', 'log messages', 'I', 'other functions', 'I', 'queries', 'the connection', 'It', 'it', 'I', 'these log messages', 'this method', 'my other method', 'I', 'this issue', 'I', 'a table', 'I', 'this doubt', 'table', 'The problem', 'what type', 'I', 'that column', 'I']\n"
     ]
    }
   ],
   "source": [
    "print(\"Noun phrases:\", [chunk.text for chunk in doc_body.noun_chunks])"
   ]
  },
  {
   "cell_type": "code",
   "execution_count": 28,
   "metadata": {
    "scrolled": true,
    "tags": []
   },
   "outputs": [
    {
     "name": "stdout",
     "output_type": "stream",
     "text": [
      "Verbs: ['ask', 'stump', 'make', 'solve', 'think', 'realize', 'ask', 'solve', 'figure', 'contain', 'find', 'be', 'be', 'be', 'use', 'contain', 'return', 'give', 'resolve', 'modify', 'modify', 'say', 'understand', 'use', 'use', 'put', 'cause', 'hoist', 'put', 'turn', 'be', 'hoist', 'attempt', 'track', 'get', 'store', 'submit', 'get', 'result', 'type', 'type', 'jump', 'observe', 'seem', 'happen', 'type', 'follow', 'situate', 'display', 'use', 'go', 'try', 'use', 'seem', 'work', 'appreciate', 'assign', 'have', 'extract', 'extract', 'find', 'output', 'need', 'be', 'be', 'do', 'think', 'make', 'store', 'have', 'think', 'put', 'have', 'have', 'have', 'have', 'work', 'come', 'firestore', 'understand', 'check', 'be', 'check', 'change', 'let', 'say', 'assume', 'modify', 'be', 'prevent', 'replace', 'want', 'find', 'let', 'update', 'know', 'go', 'modify', 'know', 'have', 'be', 'hear', 'import', 'be', 'import', 'be', 'be', 'make', 'sit', 'be', 'use', 'try', 'get', 'work', 'follow', 'work', 'try', 'get', 'follow', 'accept', 'know', 'be', 'use', 'see', 'have', 'have', 'want', 'choose', 'get', 'create', 'desire', 'let', 'say', 'solve', 'try', 'find', 'occur', 'figure', 'reject', 'figure', 'reject', 'pass', 'go', 'carry', 'save', 'appreciate', 'finish', 'search', 'help', 'stack', 'be', 'use', 'try', 'separate', 'need', 'use', 'be', 'capture', 'optimize', 'avoid', 'look', 'edit', 'add', 'follow', 'appreciate', 'move', 'have', 'send', 'receive', 'like', 'be', 'transfer', 'utilize', 'leave', 'type', 'be', 'prefer', 'be', 'know', 'know', 'get', 'want', 'wrap', 'work', 'exceed', 'want', 'use', 'test', 'encounter', 'try', 'figure', 'expand', 'use', 'want', 'expand', 'expect', 'see', 'be', 'want', 'show', 'remain', 'leave', 'draft', 'use', 'be', 'use', 'be', 'help', 'be', 'thank', 'respond', 'learn', 'hear', 'use', 'accept', 'try', 'set', 'pick', 'try', 'access', 'say', 'define', 'want', 'do', 'define', 'include', 'want', 'know', 'access', 'type', 'give', 'do', 'mean', 'have', 'do', 'mean', 'have', 'do', 'do', 'think', 'assume', 'aliase', 'change', 'm', 'break', 'confirm', 'run', 'turn', 'have', 'explain', 'go', 'like', 'generate', 'be', 'ascend', 'convert', 'vary', 'have', 'print', 'like', 'keep', 'generate', 'have', 'use', 'be', 'go', 'go', 'suggest', 'interpret', 'think', 'make', 'have', 'work', 'contain', 'do', 'miss', 'have', 'want', 'be', 'bookmark', 'bookmark', 'want', 'remove', 'have', 'have', 'pass', 'fail', 'use', 'tell', 'have', 'do', 'get', 'evaluate', 'manage', 'find', 'support', 'appreciate', 'use', 'try', 'run', 'get', 'have', 'configure', 'create', 'use', 'fall', 'default', 'get', 'try', 'search', 'find', 'work', 'create', 'apply', 'create', 'let', 'know', 'miss', 'use', 'use', 'have', 'log', 'change', 'open', 'detach', 'click', 'disconnect', 'connect', 'check', 'click', 'get', 'establish', 'occur', 'try', 'fix', 'get', 'connect', 'cause', 'login', 'attach', 'login', 'master', 'convert', 'see', 'contain', 'leave', 'be', 'be', 'have', 'overflow', 'be', 'live', 'have', 'be', 'set', 'access', 'set', 'want', 'set', 'consider', 'use', 'use', 'let', 'access', 'try', 'store', 'give', 'figure', 'save', 'consider', 'add', 'use', 'work', 'separate', 'combine', 'use', 'split', 'have', 'want', 'melt', 'look', 'melt', 'base', 'do', 'implement', 'keep', 'get', 'say', 'specify', 'occur', 'try', 'use', 'use', 'work', 'have', 'result', 'generate', 'need', 'make', 'output', 'achieve', 'search', 'seem', 'get', 'thank', 'use', 'remove', 'modify', 'move', 'remove', 'use', 'be', 'need', 'be', 'use', 'move', 'get', 'use', 'need', 'move', 'explain', 'work', 'expect', 'be', 'know', 'wrap', 'notice', 'hide', 'expect', 'work', 'follow', 'know', 'give', 'resolve', 'hope', 'understand', 'be', 'scrape', 'look', 'scrape', 'use', 'get', 'return', 'fix', 'seem', 'help', 'know', 'do', 'use', 'create', 'have', 'get', 'match', 'use', 'update', 'find', 'work', 'resolve', 'want', 'grow', 'base', 'do', 'see', 'use', 'do', 'need', 'have', 'use', 'be', 'do', 'avoid', 'make', 'try', 'generate', 'use', 'have', 'have', 'create', 'leave', 'have', 'record', 'have', 'consider', 'like', 'generate', 'expect', 'see', 'add', 'work', 'note', 'copy', 'do', 'use', 'insert', 'have', 'exist', 'update', 'do', 'insert', 'catch', 'use', 'select', 'see', 'exist', 'use', 'invoke', 'cause', 'like', 'know', 'implement', 'use', 'make', 'use', 'know', 'use', 'use', 'try', 'create', 'be', 'place', 'write', 'follow', 'get', 'be', 'do', 'need', 'cause', 'get', 'have', 'be', 'clip', 'try', 'fix', 'change', 'center', 'be', 'programming', 'guess', 'have', 'guess', 'enter', 'register', 'be', 'structure', 'ensure', 'occur', 'run', 'go', 'create', 'store', 'use', 'do', 'make', 'be', 'support', 'let', 'say', 'have', 'want', 'join', 'do', 'seem', 'find', 'find', 'find', 'answer', 'help', 'EDIT', 'EDIT', 'receive', 'create', 'store', 'come', 'use', 'try', 'achieve', 'need', 'merge', 'hope', 'have', 'try', 'clarify', 'appreciate', 'find', 'get', 'want', 'know', 'be', 'thread', 'pay', 'arise', 'use', 'try', 'write', 'be', 'get', 'show', 'initialize', 'look', 'compile', 'add', 'get', 'test', 'wsl', 'use', 'group', 'do', 'happen', 'try', 'work', 'hide', 'add', 'write', 'have', 'store', 'want', 'extract', 'use', 'use', 'throw', 'change', 'throw', 'be', 'try', 'do', 'do', 'have', 'send', 'connect', 'consume', 'need', 'use', 'have', 'use', 'use', 'require', 'have', 'create', 'keep', 'require', 'understand', 'edit', 'mention', 'do', 'start', 'get', 'expect', 'do', 'have', 'instal', 'start', 'get', 'file', 'mention', 'base', 'update', 'connect', 'connect', 'modify', 'modify', 'modify', 'list', 'see', 'list', 'use', 'fetch', 'arrive', 'format', 'remove', 'format', 'run', 'look', 'find', 'be', 'explain', 'work', 'have', 'want', 'select', 'want', 'select', 'have', 'do', 'be', 'ask', 'structure', 'have', 'show', 'label', 'show', 'retreive', 'nod', 'try', 'print', 'print', 'reference', 'be', 'retrieve', 'try', 'reference', 'print', 'add', 'reload', 'show', 'try', 'migrate', 'include', 'run', 'try', 'follow', 'run', 'work', 'give', 'follow', 'filter', 'have', 'try', 'run', 'seem', 're', '-', 'add', 'use', 'use', 'learn', 'want', 'run', 'build', 'follow', 'encounter', 'fix', 'have', 'have', 'need', 'order', 'need', 'do', 'create', 'materialize', 'have', 'do', 'get', 'try', 'load', 'arrange', 'set', 'declare', 'follow', 'declare', 'close', 'contain', 'try', 'get', 'be', 'do', 'be', 'run', 'comment', 'expect', 'display', 'mention', 'be', 'follow', 'make', 'share', 'use', 'code', 'work', 'use', 'use', 'message', 'set', 'work', 'have', 'happen', 'do', 'work', 'work', 'have', 'format', 'use', 'have', 'follow', 'want', 'change', 'follow', 'do', 'have', 'EDIT', 'use', 'see', 'ask', 'be', 'read', 'have', 'hurt', 'be', 'say', 'have', 'create', 'try', 'have', 'like', 'avoid', 'use', 'need', 'do', 'be', 'have', 'integrate', 'take', 'do', 'follow', 'access', 'try', 'count', 'try', 'use', 'limit', 'store', 'get', 'give', 'seem', 'work', 'store', 'turn', 'be', 'imply', 'work', 'limit', 'know', 'limit', 'achieve', 'get', 'build', 'like', 'create', 'make', 'want', 'cache', 'display', 'get', 'desire', 'use', 'method', 'build', 'try', 'use', 'get', 'desire', 'have', 'run', 'build', 'score', 'prefer', 'be', 'automate', 'shut', 'have', 'create', 'have', 'shut', 'have', 'implement', 'like', 'send', 'keep', 'finish', 'start', 'want', 'finish', 'try', 'create', 'return', 'bolde', 'try', 'get', 'return', 'wonder', 'use', 'see', 'be', 'secure', 'configure', 'be', 'question', 'configure', 'have', 'have', 'use', 'search', 'convert', 'let', 'say', 'know', 'think', 'regex', 'find', 'appreciate', 'put', 'work', 'want', 'listen', 'go', 'come', 'try', 'use', 'have', 'listen', 'use', 'wonder', 'store', 'throttle', 'change', 'try', 'implement', 'be', 'work', 'be', 'work', 'let', 'say', 'have', 'hold', 'change', 'have', 'change', 'create', 'fix', 'define', 'be', 'check', 'fix', 'have', 'look', 'need', 'know', 'have', 'look', 'be', 'start', 'approach', 'develop', 'want', 'create', 'access', 'require', 'show', 'get', 'have', 'think', 'have', 'flow', 'use', 'have', 'break', 'throw', 'ignore', 'go', 'put', 'know', 'throw', 'be', 'try', 'create', 'convert', 'want', 'avoid', 'have', 'use', 'use', 'be', 'need', 'handle', 'pass', 'run', 'get', 'need', 'work', 'debug', 'run', 'try', 'login', 'instagram', 'use', 'help', 'try', 'run', 'work', 'throw', 'throw', 'fix', 'try', 'restart', 'change', 'work', 'help', 'write', 'run', 'look', 'expect', 'work', 'get', 'connect', 'supply', 'execute', 'think', 'be', 'connect', 'know', 'effect', 'be', 'have', 'make', 'be', 'blow', 'put', 'work', 'do', 'design', 'have', 'take', 'use', 'use']\n"
     ]
    }
   ],
   "source": [
    "print(\"Verbs:\", [token.lemma_ for token in doc_body if token.pos_ == \"VERB\"])"
   ]
  },
  {
   "cell_type": "code",
   "execution_count": null,
   "metadata": {},
   "outputs": [],
   "source": []
  },
  {
   "cell_type": "code",
   "execution_count": 29,
   "metadata": {
    "scrolled": true,
    "tags": []
   },
   "outputs": [
    {
     "name": "stdout",
     "output_type": "stream",
     "text": [
      "React GPE\n",
      "first ORDINAL\n",
      "CRAN ORG\n",
      "CRAN ORG\n",
      "SQL ORG\n",
      "WHERE & ' ORG\n",
      "Python3 GPE\n",
      "20 CARDINAL\n",
      "PHP ORG\n",
      "Move Input ORG\n",
      "Outputs PERSON\n",
      "jQuery ORG\n",
      "Google Test C. How LAW\n",
      "Pandas NORP\n",
      "Linkedlist ORG\n",
      "Git PERSON\n",
      "Microk8s GPE\n",
      "SQL Server ORG\n",
      "2014 DATE\n",
      "1 CARDINAL\n",
      "Flow<List<T>> to List<T> ORG\n",
      "second ORDINAL\n",
      "Kotlin GPE\n",
      "HashMap ORG\n",
      "JSON & GSON ORG\n",
      "Two CARDINAL\n",
      "One CARDINAL\n",
      "FFMPEG ORG\n",
      "PK GPE\n",
      "Gradient Arc View Not Showing Correctly PRODUCT\n",
      "Django PERSON\n",
      "Kafka PERSON\n",
      "Aurora PERSON\n",
      "MSK ORG\n",
      "first ORDINAL\n",
      "each month DATE\n",
      "Remove Git LFS PERSON\n",
      "0.229 CARDINAL\n",
      "Toolbar GPE\n",
      "ViewModel ORG\n",
      "Matplotlib PERSON\n",
      "7 CARDINAL\n",
      "8 CARDINAL\n",
      "Firebase ORG\n",
      "close to CARDINAL\n",
      "20 CARDINAL\n",
      "two CARDINAL\n",
      "UTC ORG\n",
      "NotificationCenter ORG\n",
      "Laravel ORG\n",
      "only one CARDINAL\n",
      "3.1 CARDINAL\n",
      "12h DATE\n",
      "MVC ORG\n",
      "4 CARDINAL\n",
      "12 CARDINAL\n"
     ]
    }
   ],
   "source": [
    "for entity in doc_title.ents:\n",
    "    print(entity.text, entity.label_)"
   ]
  },
  {
   "cell_type": "code",
   "execution_count": 30,
   "metadata": {
    "scrolled": true,
    "tags": []
   },
   "outputs": [
    {
     "name": "stdout",
     "output_type": "stream",
     "text": [
      "two CARDINAL\n",
      "first ORDINAL\n",
      "one CARDINAL\n",
      "second ORDINAL\n",
      "at least one CARDINAL\n",
      "two CARDINAL\n",
      "two CARDINAL\n",
      "two CARDINAL\n",
      "0 CARDINAL\n",
      "1 CARDINAL\n",
      "24 CARDINAL\n",
      "2 CARDINAL\n",
      "35 CARDINAL\n",
      "1 CARDINAL\n",
      "24 CARDINAL\n",
      "the Comprehensive R Archive Network ORG\n",
      "CRAN ORG\n",
      "CRAN ORG\n",
      "R. NORP\n",
      "1 MONEY\n",
      "OUTPUT ORG\n",
      "2 MONEY\n",
      "2 MONEY\n",
      "OUTPUT ORG\n",
      "3 MONEY\n",
      "3 MONEY\n",
      "over 3 hours TIME\n",
      "PHP ORG\n",
      "2 CARDINAL\n",
      "3 CARDINAL\n",
      "Inputs NORP\n",
      "Outputs of a Parent Component ORG\n",
      "Typescript GPE\n",
      "Parent GPE\n",
      "Child Component ORG\n",
      "Typescript GPE\n",
      "Pandas NORP\n",
      "two CARDINAL\n",
      "7 days DATE\n",
      "7 days DATE\n",
      "the remaining days DATE\n",
      "Pandas NORP\n",
      "Datanovice ORG\n",
      "Laravel GPE\n",
      "2 CARDINAL\n",
      "3 CARDINAL\n",
      "& Value ORG\n",
      "2 CARDINAL\n",
      "SHELL ORG\n",
      "1 CARDINAL\n",
      "2 CARDINAL\n",
      "Output 1 PRODUCT\n",
      "1 CARDINAL\n",
      "2 CARDINAL\n",
      "C11 ORG\n",
      "zero CARDINAL\n",
      "zero CARDINAL\n",
      "zero CARDINAL\n",
      "second ORDINAL\n",
      "SQL Server ORG\n",
      "2014 DATE\n",
      "A few days ago DATE\n",
      "SQL Server Management Studio ORG\n",
      "SQL Server Management Studio ORG\n",
      "Login Failed PERSON\n",
      "A. Reason PERSON\n",
      "Only one CARDINAL\n",
      "Microsoft SQL Server ORG\n",
      "18461 DATE\n",
      "two CARDINAL\n",
      "75% PERCENT\n",
      "25% PERCENT\n",
      "RecyclerView ORG\n",
      "three CARDINAL\n",
      "RecyclerView ORG\n",
      "RecyclerView ORG\n",
      "Kotlin PERSON\n",
      "HashMap ORG\n",
      "App DataBase PERSON\n",
      "15 CARDINAL\n",
      "48 CARDINAL\n",
      "2 CARDINAL\n",
      "2 CARDINAL\n",
      "JSON GPE\n",
      "Arabic NORP\n",
      "one CARDINAL\n",
      "2.7 CARDINAL\n",
      "أترصدّ ORG\n",
      "FTP ORG\n",
      "Docker GPE\n",
      "year~. ORG\n",
      "the previous row DATE\n",
      "the previous row DATE\n",
      "FFMPEG ORG\n",
      "Graph PERSON\n",
      "PK GPE\n",
      "first ORDINAL\n",
      "ON CONFLICT ORG\n",
      "0.5 CARDINAL\n",
      "1000s DATE\n",
      "85% PERCENT\n",
      "one CARDINAL\n",
      "four CARDINAL\n",
      "Two CARDINAL\n",
      "first ORDINAL\n",
      "Aurora/Mysql ORG\n",
      "MSK ORG\n",
      "Elastic NORP\n",
      "Aurora -->Kafka-connect--->AWS ORG\n",
      "Aurora GPE\n",
      "1 CARDINAL\n",
      "2 CARDINAL\n",
      "3 CARDINAL\n",
      "Kafka PERSON\n",
      "JDBC PERSON\n",
      "one CARDINAL\n",
      "first ORDINAL\n",
      "month DATE\n",
      "DF ORG\n",
      "two CARDINAL\n",
      "first ORDINAL\n",
      "one CARDINAL\n",
      "1 CARDINAL\n",
      "2 CARDINAL\n",
      "second ORDINAL\n",
      "zero CARDINAL\n",
      "first ORDINAL\n",
      "Categories LAW\n",
      "Git LFS PERSON\n",
      "Presto ORG\n",
      "IDE ORG\n",
      "Presto ORG\n",
      "0.229 CARDINAL\n",
      "two CARDINAL\n",
      "JavaFXML PERSON\n",
      "Netbeans NORP\n",
      "Main Application ORG\n",
      "two CARDINAL\n",
      "Input ORG\n",
      "Account PERSON\n",
      "MainView PRODUCT\n",
      "two CARDINAL\n",
      "two CARDINAL\n",
      "Interface ORG\n",
      "ViewModel ORG\n",
      "Toolbar GPE\n",
      "Pandas NORP\n",
      "Matplotlib PERSON\n",
      "Matplotlib(or GPE\n",
      "5 CARDINAL\n",
      "1 CARDINAL\n",
      "22 CARDINAL\n",
      "2 CARDINAL\n",
      "22 CARDINAL\n",
      "3 CARDINAL\n",
      "22 CARDINAL\n",
      "22 CARDINAL\n",
      "5 CARDINAL\n",
      "22 CARDINAL\n",
      "12 CARDINAL\n",
      "7 CARDINAL\n",
      "8 CARDINAL\n",
      "12 CARDINAL\n",
      "Vue GPE\n",
      "PWA ORG\n",
      "first ORDINAL\n",
      "CLI ORG\n",
      "JavaScript ORG\n",
      "jQuery ORG\n",
      "UTC ORG\n",
      "NotificationCenter ORG\n",
      "Laravel ORG\n",
      "Redis ORG\n",
      "C++ LANGUAGE\n",
      "a particular day DATE\n",
      "Menu ORG\n",
      "Laravel ORG\n",
      "User Model PERSON\n",
      "Controller PERSON\n",
      "12h DATE\n",
      "MVC Project ORG\n",
      "one CARDINAL\n",
      "Mvc ORG\n",
      "JWT ORG\n",
      "Cookies ORG\n",
      "JWT ORG\n",
      "One CARDINAL\n"
     ]
    }
   ],
   "source": [
    "for entity in doc_body.ents:\n",
    "    print(entity.text, entity.label_)"
   ]
  },
  {
   "cell_type": "code",
   "execution_count": 44,
   "metadata": {},
   "outputs": [],
   "source": [
    "doc = nlp(df_base['Title'].str.cat())"
   ]
  },
  {
   "cell_type": "code",
   "execution_count": 32,
   "metadata": {},
   "outputs": [
    {
     "data": {
      "text/plain": [
       "{'ADJ',\n",
       " 'ADP',\n",
       " 'ADV',\n",
       " 'AUX',\n",
       " 'CCONJ',\n",
       " 'DET',\n",
       " 'INTJ',\n",
       " 'NOUN',\n",
       " 'NUM',\n",
       " 'PART',\n",
       " 'PRON',\n",
       " 'PROPN',\n",
       " 'PUNCT',\n",
       " 'SCONJ',\n",
       " 'SYM',\n",
       " 'VERB',\n",
       " 'X'}"
      ]
     },
     "execution_count": 32,
     "metadata": {},
     "output_type": "execute_result"
    }
   ],
   "source": [
    "set([token.pos_ for token in doc_title ])"
   ]
  },
  {
   "cell_type": "code",
   "execution_count": 15,
   "metadata": {
    "scrolled": true,
    "tags": []
   },
   "outputs": [
    {
     "name": "stdout",
     "output_type": "stream",
     "text": [
      "Noun phrases: ['I', 'an array', 'elements', 'I', 'the following code', 'this form', 'parameter', 'dimension', 'being', 'what', 'I', 'large dimension', 'a lot', 'overhead', 'any other low complexity method', 'this matrix', 'Thanks']\n"
     ]
    }
   ],
   "source": [
    "print(\"Noun phrases:\", [chunk.text for chunk in doc.noun_chunks])"
   ]
  },
  {
   "cell_type": "code",
   "execution_count": 16,
   "metadata": {
    "scrolled": true,
    "tags": []
   },
   "outputs": [
    {
     "name": "stdout",
     "output_type": "stream",
     "text": [
      "Verbs: ['try', 'create', 'be', 'place', 'write', 'follow', 'get', 'be', 'do', 'need', 'cause', 'get']\n"
     ]
    }
   ],
   "source": [
    "print(\"Verbs:\", [token.lemma_ for token in doc if token.pos_ == \"VERB\"])"
   ]
  },
  {
   "cell_type": "code",
   "execution_count": null,
   "metadata": {},
   "outputs": [],
   "source": []
  }
 ],
 "metadata": {
  "kernelspec": {
   "display_name": "Python 3",
   "language": "python",
   "name": "python3"
  },
  "language_info": {
   "codemirror_mode": {
    "name": "ipython",
    "version": 3
   },
   "file_extension": ".py",
   "mimetype": "text/x-python",
   "name": "python",
   "nbconvert_exporter": "python",
   "pygments_lexer": "ipython3",
   "version": "3.7.9"
  }
 },
 "nbformat": 4,
 "nbformat_minor": 4
}
