{
 "cells": [
  {
   "cell_type": "code",
   "execution_count": 1,
   "metadata": {},
   "outputs": [],
   "source": [
    "import os\n",
    "from joblib import dump, load"
   ]
  },
  {
   "cell_type": "code",
   "execution_count": 2,
   "metadata": {},
   "outputs": [],
   "source": [
    "model_path = \"..\\\\data\\\\stackoverflow\\\\models\\\\\""
   ]
  },
  {
   "cell_type": "code",
   "execution_count": 3,
   "metadata": {},
   "outputs": [],
   "source": [
    "title_models = load(model_path + 'top50_title_RidgeC_baseline.joblib')\n",
    "body_models = load(model_path + 'top50_body_RidgeC_baseline.joblib')\n",
    "title_vectorizer = load(model_path + 'top50_title_vectorizer.joblib')\n",
    "body_vectorizer = load(model_path + 'top50_body_vectorizer.joblib')"
   ]
  },
  {
   "cell_type": "code",
   "execution_count": 4,
   "metadata": {},
   "outputs": [
    {
     "name": "stdout",
     "output_type": "stream",
     "text": [
      "===========\n",
      "As title: \n",
      "+  javascript\n",
      "----------\n",
      "As body: \n",
      "+  javascript\n"
     ]
    }
   ],
   "source": [
    "txt = \"is putting the function declaration beside the return statement causing the function not to hoist\"\n",
    "tv_title = title_vectorizer.transform([txt])\n",
    "tv_body = body_vectorizer.transform([txt])\n",
    "\n",
    "print(\"===========\")\n",
    "print(\"As title: \")\n",
    "for k in title_models.keys():\n",
    "    if(title_models[k].predict(tv_title)>0):\n",
    "        print(\"+ \", k)\n",
    "print(\"----------\")\n",
    "print(\"As body: \")\n",
    "for k in body_models.keys():\n",
    "    if(body_models[k].predict(tv_body)>0):\n",
    "        print(\"+ \", k)\n"
   ]
  },
  {
   "cell_type": "code",
   "execution_count": 19,
   "metadata": {},
   "outputs": [],
   "source": [
    "models_spec = {\n",
    "    'body': [(k,body_models[k].alpha) for k in body_models.keys()],\n",
    "    'title': [(k,title_models[k].alpha) for k in title_models.keys()],\n",
    "}"
   ]
  },
  {
   "cell_type": "code",
   "execution_count": 20,
   "metadata": {},
   "outputs": [
    {
     "data": {
      "text/plain": [
       "{'body': [('python', 0.6),\n",
       "  ('other', 1.0),\n",
       "  ('javascript', 0.5),\n",
       "  ('r', 0.4),\n",
       "  ('pandas', 0.6),\n",
       "  ('java', 0.30000000000000004),\n",
       "  ('c++', 0.30000000000000004),\n",
       "  ('c#', 0.30000000000000004),\n",
       "  ('python-3.x', 1.0),\n",
       "  ('sql', 0.6),\n",
       "  ('html', 0.30000000000000004),\n",
       "  ('dataframe', 0.9),\n",
       "  ('reactjs', 0.2),\n",
       "  ('arrays', 0.9),\n",
       "  ('c', 0.30000000000000004),\n",
       "  ('css', 0.30000000000000004),\n",
       "  ('regex', 0.4),\n",
       "  ('android', 0.2),\n",
       "  ('php', 0.30000000000000004),\n",
       "  ('typescript', 0.8),\n",
       "  ('swift', 0.30000000000000004),\n",
       "  ('node.js', 0.5),\n",
       "  ('mysql', 0.6),\n",
       "  ('angular', 0.2),\n",
       "  ('jquery', 0.30000000000000004),\n",
       "  ('numpy', 0.4),\n",
       "  ('json', 0.7000000000000001),\n",
       "  ('list', 0.30000000000000004),\n",
       "  ('postgresql', 0.1),\n",
       "  ('ios', 0.4),\n",
       "  ('mongodb', 0.2),\n",
       "  ('dplyr', 0.6),\n",
       "  ('django', 0.30000000000000004),\n",
       "  ('sql-server', 0.5),\n",
       "  ('swiftui', 0.2),\n",
       "  ('string', 0.5),\n",
       "  ('powershell', 0.2),\n",
       "  ('vue.js', 0.1),\n",
       "  ('azure', 0.4),\n",
       "  ('ggplot2', 0.4),\n",
       "  ('flutter', 0.1),\n",
       "  ('bash', 0.2),\n",
       "  ('git', 0.30000000000000004),\n",
       "  ('excel', 0.1),\n",
       "  ('firebase', 0.30000000000000004),\n",
       "  ('asp.net-core', 0.30000000000000004),\n",
       "  ('google-sheets', 0.30000000000000004),\n",
       "  ('kotlin', 0.2),\n",
       "  ('laravel', 0.2),\n",
       "  ('dictionary', 0.5),\n",
       "  ('oracle', 0.30000000000000004)],\n",
       " 'title': [('python', 0.6),\n",
       "  ('other', 0.9),\n",
       "  ('javascript', 0.8),\n",
       "  ('r', 0.4),\n",
       "  ('pandas', 0.8),\n",
       "  ('java', 0.6),\n",
       "  ('c++', 0.4),\n",
       "  ('c#', 0.4),\n",
       "  ('python-3.x', 1.0),\n",
       "  ('sql', 0.5),\n",
       "  ('html', 0.9),\n",
       "  ('dataframe', 1.0),\n",
       "  ('reactjs', 0.5),\n",
       "  ('arrays', 0.8),\n",
       "  ('c', 0.5),\n",
       "  ('css', 0.4),\n",
       "  ('regex', 0.5),\n",
       "  ('android', 0.5),\n",
       "  ('php', 0.30000000000000004),\n",
       "  ('typescript', 1.0),\n",
       "  ('swift', 0.30000000000000004),\n",
       "  ('node.js', 0.8),\n",
       "  ('mysql', 0.7000000000000001),\n",
       "  ('angular', 0.5),\n",
       "  ('jquery', 0.7000000000000001),\n",
       "  ('numpy', 0.9),\n",
       "  ('json', 0.8),\n",
       "  ('list', 0.9),\n",
       "  ('postgresql', 0.4),\n",
       "  ('ios', 0.8),\n",
       "  ('mongodb', 0.1),\n",
       "  ('dplyr', 0.7000000000000001),\n",
       "  ('django', 0.6),\n",
       "  ('sql-server', 0.6),\n",
       "  ('swiftui', 0.6),\n",
       "  ('string', 0.6),\n",
       "  ('powershell', 0.4),\n",
       "  ('vue.js', 0.4),\n",
       "  ('azure', 0.4),\n",
       "  ('ggplot2', 0.5),\n",
       "  ('flutter', 0.30000000000000004),\n",
       "  ('bash', 0.6),\n",
       "  ('git', 0.4),\n",
       "  ('excel', 0.4),\n",
       "  ('firebase', 0.8),\n",
       "  ('asp.net-core', 0.5),\n",
       "  ('google-sheets', 0.30000000000000004),\n",
       "  ('kotlin', 0.6),\n",
       "  ('laravel', 0.5),\n",
       "  ('dictionary', 0.6),\n",
       "  ('oracle', 0.4)]}"
      ]
     },
     "execution_count": 20,
     "metadata": {},
     "output_type": "execute_result"
    }
   ],
   "source": [
    "models_spec"
   ]
  },
  {
   "cell_type": "code",
   "execution_count": null,
   "metadata": {},
   "outputs": [],
   "source": []
  }
 ],
 "metadata": {
  "kernelspec": {
   "display_name": "Python 3",
   "language": "python",
   "name": "python3"
  },
  "language_info": {
   "codemirror_mode": {
    "name": "ipython",
    "version": 3
   },
   "file_extension": ".py",
   "mimetype": "text/x-python",
   "name": "python",
   "nbconvert_exporter": "python",
   "pygments_lexer": "ipython3",
   "version": "3.7.9"
  }
 },
 "nbformat": 4,
 "nbformat_minor": 4
}
