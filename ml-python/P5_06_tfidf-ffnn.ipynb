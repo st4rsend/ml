{
 "cells": [
  {
   "cell_type": "code",
   "execution_count": 1,
   "metadata": {},
   "outputs": [
    {
     "name": "stdout",
     "output_type": "stream",
     "text": [
      "INFO:tensorflow:Enabling eager execution\n",
      "INFO:tensorflow:Enabling v2 tensorshape\n",
      "INFO:tensorflow:Enabling resource variables\n",
      "INFO:tensorflow:Enabling tensor equality\n",
      "INFO:tensorflow:Enabling control flow v2\n",
      "Tensorflow version:  2.6.0-dev20210413\n",
      "Tensorflow GPU detection:  [PhysicalDevice(name='/physical_device:GPU:0', device_type='GPU')]\n"
     ]
    }
   ],
   "source": [
    "import os\n",
    "import time\n",
    "from joblib import dump, load\n",
    "\n",
    "import numpy as np\n",
    "import pandas as pd\n",
    "\n",
    "from sklearn.model_selection import train_test_split\n",
    "from sklearn.preprocessing import MultiLabelBinarizer\n",
    "\n",
    "import tensorflow as tf\n",
    "from tensorflow import keras\n",
    "from tensorflow.keras import layers\n",
    "\n",
    "import matplotlib.pyplot as plt\n",
    "\n",
    "data_path = \"..\\\\data\\\\stackoverflow\\\\\"\n",
    "model_path = data_path + \"models\\\\\"\n",
    "tb_path = os.path.join(model_path, \"tb_logs\")\n",
    "\n",
    "np.set_printoptions(precision=2, suppress=True)\n",
    "pd.options.display.float_format = \"{:,.2f}\".format\n",
    "\n",
    "# os.environ[\"CUDA_VISIBLE_DEVICES\"] = \"-1\"\n",
    "print(\"Tensorflow version: \", tf.__version__)\n",
    "print(\"Tensorflow GPU detection: \", tf.config.list_physical_devices('GPU'))"
   ]
  },
  {
   "cell_type": "code",
   "execution_count": 2,
   "metadata": {},
   "outputs": [],
   "source": [
    "def tb_logdir():\n",
    "    current_time = time.strftime(\"mlp_%Y%m%d-%H%M%S\")\n",
    "    return os.path.join(tb_path, current_time)\n",
    "\n"
   ]
  },
  {
   "cell_type": "code",
   "execution_count": 3,
   "metadata": {},
   "outputs": [],
   "source": [
    "# y_dict = load(data_path + 'y_dict_top50.joblib')\n",
    "title_vectorizer = load(model_path + 'lemma_title_vectorizer.joblib')\n",
    "body_vectorizer = load(model_path + 'lemma_body_vectorizer_12.joblib')"
   ]
  },
  {
   "cell_type": "code",
   "execution_count": 4,
   "metadata": {},
   "outputs": [],
   "source": [
    "df_lemma = load(data_path + 'nltk_lemma_stop.pkl')\n",
    "df_lemma_test = load(data_path + 'nltk_lemma_stop_test.pkl')\n",
    "df_lemma['Title'] = df_lemma['Title'].apply(lambda row: ' '.join(row))\n",
    "df_lemma['Body'] = df_lemma['Body'].apply(lambda row: ' '.join(row))\n",
    "df_lemma_test['Title'] = df_lemma_test['Title'].apply(lambda row: ' '.join(row))\n",
    "df_lemma_test['Body'] = df_lemma_test['Body'].apply(lambda row: ' '.join(row))\n",
    "\n",
    "X_title = title_vectorizer.transform(df_lemma['Title'])\n",
    "X_title_test = title_vectorizer.transform(df_lemma_test['Title'])\n",
    "X_body = body_vectorizer.transform(df_lemma['Body'])\n",
    "X_body_test = body_vectorizer.transform(df_lemma_test['Body'])"
   ]
  },
  {
   "cell_type": "code",
   "execution_count": 5,
   "metadata": {},
   "outputs": [],
   "source": [
    "mlb = MultiLabelBinarizer()\n",
    "df_tags = pd.read_pickle(data_path + 'Top_Tags.pkl')\n",
    "df_tags_test = pd.read_pickle(data_path + 'Top_Tags_test.pkl')\n",
    "df_tags_full = pd.concat([df_tags,df_tags_test])\n",
    "mlb.fit_transform(df_tags_full['Tags_T50'])\n",
    "\n",
    "y_tags = mlb.transform(df_tags['Tags_T50'])\n",
    "y_tags_test = mlb.transform(df_tags_test['Tags_T50'])"
   ]
  },
  {
   "cell_type": "code",
   "execution_count": 6,
   "metadata": {},
   "outputs": [],
   "source": [
    "count = 100000\n",
    "# X_train, X_valid, y_train, y_valid = train_test_split(X_title[:count].toarray(), y_tags[:count], random_state=95, test_size=0.2, shuffle=True)\n",
    "X_train, X_valid, y_train, y_valid = train_test_split(X_body[:count].toarray(), y_tags[:count], random_state=42, shuffle=True, test_size=0.2)\n",
    "# X_train, X_valid, y_train, y_valid = train_test_split(X_body[:count].toarray(), y_tags[:count], shuffle=False, test_size=0.2)\n"
   ]
  },
  {
   "cell_type": "code",
   "execution_count": 34,
   "metadata": {},
   "outputs": [
    {
     "name": "stdout",
     "output_type": "stream",
     "text": [
      "Model: \"sequential_3\"\n",
      "_________________________________________________________________\n",
      "Layer (type)                 Output Shape              Param #   \n",
      "=================================================================\n",
      "dense_9 (Dense)              (None, 48)                96048     \n",
      "_________________________________________________________________\n",
      "dropout_6 (Dropout)          (None, 48)                0         \n",
      "_________________________________________________________________\n",
      "dense_10 (Dense)             (None, 48)                2352      \n",
      "_________________________________________________________________\n",
      "dropout_7 (Dropout)          (None, 48)                0         \n",
      "_________________________________________________________________\n",
      "dense_11 (Dense)             (None, 51)                2499      \n",
      "=================================================================\n",
      "Total params: 100,899\n",
      "Trainable params: 100,899\n",
      "Non-trainable params: 0\n",
      "_________________________________________________________________\n"
     ]
    }
   ],
   "source": [
    "embedding_dim = 48\n",
    "dropout = .4\n",
    "label_smoothing = 0\n",
    "\n",
    "metrics = [\n",
    "    tf.keras.metrics.PrecisionAtRecall(0.4),\n",
    "    keras.metrics.Recall(name='recall'),\n",
    "    keras.metrics.AUC(name='auc'),\n",
    "    keras.metrics.FalsePositives(name='fp'),\n",
    "#     keras.metrics.TrueNegatives(name='tn'),\n",
    "    keras.metrics.FalseNegatives(name='fn'), \n",
    "    keras.metrics.TruePositives(name='tp'),\n",
    "    keras.metrics.BinaryAccuracy(name='accuracy'),\n",
    "    keras.metrics.Precision(name='precision'),\n",
    "#     keras.metrics.AUC(name='prc', curve='PR'), # precision-recall curve\n",
    "\n",
    "]\n",
    "\n",
    "optimizer = keras.optimizers.Adam(learning_rate=0.003)\n",
    "# optimizer = keras.optimizers.Adamax(learning_rate=0.01)   \n",
    "\n",
    "model = keras.Sequential([\n",
    "    \n",
    "    layers.Dense(embedding_dim, input_shape=(X_train.shape[1],), activation='relu',\n",
    "#                  kernel_initializer=\"he_normal\",\n",
    "#                  kernel_regularizer=keras.regularizers.l1(0.000003)\n",
    "                ),\n",
    "#     layers.BatchNormalization(),\n",
    "    layers.Dropout(dropout),\n",
    "\n",
    "    layers.Dense(embedding_dim, activation='relu', \n",
    "#                  kernel_initializer=\"he_normal\",\n",
    "#                  kernel_regularizer=keras.regularizers.l1(0.000003)\n",
    "                ),\n",
    "    layers.Dropout(dropout),\n",
    "#     layers.Dense(32, activation='relu'),\n",
    "#     layers.Dropout(.25),\n",
    "#     layers.Dense(51, activation='sigmoid'),\n",
    "    layers.Dense(51, activation='sigmoid'),\n",
    "])\n",
    "\n",
    "    \n",
    "model.compile(\n",
    "    optimizer=optimizer,\n",
    "    loss=tf.keras.losses.BinaryCrossentropy(label_smoothing=label_smoothing),\n",
    "    metrics=metrics,\n",
    ")\n",
    "model.summary()"
   ]
  },
  {
   "cell_type": "code",
   "execution_count": 35,
   "metadata": {},
   "outputs": [
    {
     "name": "stdout",
     "output_type": "stream",
     "text": [
      "Epoch 1/15\n",
      "1206/1206 [==============================] - 13s 10ms/step - loss: 0.1653 - precision_at_recall_3: 0.0989 - recall: 0.0463 - auc: 0.7231 - fp: 11818.0746 - fn: 54746.4258 - tp: 2896.2925 - accuracy: 0.9566 - precision: 0.1671 - val_loss: 0.0741 - val_precision_at_recall_3: 0.5211 - val_recall: 0.1716 - val_auc: 0.9356 - val_fp: 15.0000 - val_fn: 222.0000 - val_tp: 46.0000 - val_accuracy: 0.9758 - val_precision: 0.7541\n",
      "Epoch 2/15\n",
      "1206/1206 [==============================] - 11s 9ms/step - loss: 0.0856 - precision_at_recall_3: 0.4361 - recall: 0.1683 - auc: 0.9113 - fp: 4836.1897 - fn: 47578.5170 - tp: 10156.8616 - accuracy: 0.9733 - precision: 0.6750 - val_loss: 0.0679 - val_precision_at_recall_3: 0.5902 - val_recall: 0.2612 - val_auc: 0.9443 - val_fp: 28.0000 - val_fn: 198.0000 - val_tp: 70.0000 - val_accuracy: 0.9769 - val_precision: 0.7143\n",
      "Epoch 3/15\n",
      "1206/1206 [==============================] - 11s 9ms/step - loss: 0.0791 - precision_at_recall_3: 0.5322 - recall: 0.2273 - auc: 0.9275 - fp: 5489.8161 - fn: 44461.7142 - tp: 13251.6968 - accuracy: 0.9746 - precision: 0.7060 - val_loss: 0.0660 - val_precision_at_recall_3: 0.6236 - val_recall: 0.2910 - val_auc: 0.9469 - val_fp: 29.0000 - val_fn: 190.0000 - val_tp: 78.0000 - val_accuracy: 0.9776 - val_precision: 0.7290\n",
      "Epoch 4/15\n",
      "1206/1206 [==============================] - 11s 9ms/step - loss: 0.0763 - precision_at_recall_3: 0.5744 - recall: 0.2529 - auc: 0.9327 - fp: 5681.4979 - fn: 42958.0058 - tp: 14597.6852 - accuracy: 0.9753 - precision: 0.7220 - val_loss: 0.0651 - val_precision_at_recall_3: 0.6391 - val_recall: 0.3060 - val_auc: 0.9520 - val_fp: 30.0000 - val_fn: 186.0000 - val_tp: 82.0000 - val_accuracy: 0.9779 - val_precision: 0.7321\n",
      "Epoch 5/15\n",
      "1206/1206 [==============================] - 11s 9ms/step - loss: 0.0743 - precision_at_recall_3: 0.5991 - recall: 0.2677 - auc: 0.9373 - fp: 5851.4565 - fn: 42230.1765 - tp: 15396.8268 - accuracy: 0.9757 - precision: 0.7266 - val_loss: 0.0640 - val_precision_at_recall_3: 0.6450 - val_recall: 0.3209 - val_auc: 0.9522 - val_fp: 24.0000 - val_fn: 182.0000 - val_tp: 86.0000 - val_accuracy: 0.9790 - val_precision: 0.7818\n",
      "Epoch 6/15\n",
      "1206/1206 [==============================] - 11s 9ms/step - loss: 0.0734 - precision_at_recall_3: 0.6119 - recall: 0.2768 - auc: 0.9395 - fp: 5947.9669 - fn: 41732.6819 - tp: 16003.2883 - accuracy: 0.9757 - precision: 0.7283 - val_loss: 0.0634 - val_precision_at_recall_3: 0.7105 - val_recall: 0.3134 - val_auc: 0.9531 - val_fp: 27.0000 - val_fn: 184.0000 - val_tp: 84.0000 - val_accuracy: 0.9785 - val_precision: 0.7568\n",
      "Epoch 7/15\n",
      "1206/1206 [==============================] - 11s 10ms/step - loss: 0.0722 - precision_at_recall_3: 0.6242 - recall: 0.2831 - auc: 0.9421 - fp: 5959.0514 - fn: 41323.1259 - tp: 16245.3355 - accuracy: 0.9760 - precision: 0.7319 - val_loss: 0.0633 - val_precision_at_recall_3: 0.6832 - val_recall: 0.3246 - val_auc: 0.9529 - val_fp: 25.0000 - val_fn: 181.0000 - val_tp: 87.0000 - val_accuracy: 0.9790 - val_precision: 0.7768\n",
      "Epoch 8/15\n",
      "1206/1206 [==============================] - 11s 9ms/step - loss: 0.0717 - precision_at_recall_3: 0.6339 - recall: 0.2890 - auc: 0.9431 - fp: 5981.9345 - fn: 41050.1276 - tp: 16689.9776 - accuracy: 0.9762 - precision: 0.7374 - val_loss: 0.0626 - val_precision_at_recall_3: 0.7152 - val_recall: 0.3321 - val_auc: 0.9517 - val_fp: 29.0000 - val_fn: 179.0000 - val_tp: 89.0000 - val_accuracy: 0.9788 - val_precision: 0.7542\n",
      "Epoch 9/15\n",
      "1206/1206 [==============================] - 12s 10ms/step - loss: 0.0713 - precision_at_recall_3: 0.6369 - recall: 0.2914 - auc: 0.9437 - fp: 6002.5178 - fn: 40798.7763 - tp: 16811.3712 - accuracy: 0.9763 - precision: 0.7381 - val_loss: 0.0626 - val_precision_at_recall_3: 0.7338 - val_recall: 0.3433 - val_auc: 0.9524 - val_fp: 28.0000 - val_fn: 176.0000 - val_tp: 92.0000 - val_accuracy: 0.9792 - val_precision: 0.7667\n",
      "Epoch 10/15\n",
      "1206/1206 [==============================] - 12s 10ms/step - loss: 0.0704 - precision_at_recall_3: 0.6514 - recall: 0.2991 - auc: 0.9450 - fp: 6087.4391 - fn: 40388.4507 - tp: 17219.6620 - accuracy: 0.9765 - precision: 0.7395 - val_loss: 0.0629 - val_precision_at_recall_3: 0.7124 - val_recall: 0.3284 - val_auc: 0.9517 - val_fp: 27.0000 - val_fn: 180.0000 - val_tp: 88.0000 - val_accuracy: 0.9789 - val_precision: 0.7652\n",
      "Epoch 11/15\n",
      "1206/1206 [==============================] - 12s 10ms/step - loss: 0.0704 - precision_at_recall_3: 0.6487 - recall: 0.2999 - auc: 0.9451 - fp: 6012.8003 - fn: 40339.0447 - tp: 17268.9652 - accuracy: 0.9765 - precision: 0.7429 - val_loss: 0.0638 - val_precision_at_recall_3: 0.7078 - val_recall: 0.3396 - val_auc: 0.9502 - val_fp: 28.0000 - val_fn: 177.0000 - val_tp: 91.0000 - val_accuracy: 0.9791 - val_precision: 0.7647\n",
      "Epoch 12/15\n",
      "1206/1206 [==============================] - 12s 10ms/step - loss: 0.0697 - precision_at_recall_3: 0.6565 - recall: 0.3062 - auc: 0.9471 - fp: 6211.3836 - fn: 40049.9561 - tp: 17599.1533 - accuracy: 0.9766 - precision: 0.7397 - val_loss: 0.0633 - val_precision_at_recall_3: 0.7032 - val_recall: 0.3396 - val_auc: 0.9512 - val_fp: 31.0000 - val_fn: 177.0000 - val_tp: 91.0000 - val_accuracy: 0.9788 - val_precision: 0.7459\n",
      "Epoch 13/15\n",
      "1206/1206 [==============================] - 12s 10ms/step - loss: 0.0696 - precision_at_recall_3: 0.6583 - recall: 0.3080 - auc: 0.9468 - fp: 6171.7738 - fn: 39911.8749 - tp: 17746.9884 - accuracy: 0.9766 - precision: 0.7428 - val_loss: 0.0635 - val_precision_at_recall_3: 0.7386 - val_recall: 0.3545 - val_auc: 0.9483 - val_fp: 28.0000 - val_fn: 173.0000 - val_tp: 95.0000 - val_accuracy: 0.9795 - val_precision: 0.7724\n",
      "Epoch 14/15\n",
      "1206/1206 [==============================] - 12s 10ms/step - loss: 0.0693 - precision_at_recall_3: 0.6594 - recall: 0.3086 - auc: 0.9476 - fp: 6239.7506 - fn: 39824.1110 - tp: 17804.3529 - accuracy: 0.9767 - precision: 0.7409 - val_loss: 0.0642 - val_precision_at_recall_3: 0.7448 - val_recall: 0.3470 - val_auc: 0.9493 - val_fp: 24.0000 - val_fn: 175.0000 - val_tp: 93.0000 - val_accuracy: 0.9797 - val_precision: 0.7949\n",
      "Epoch 15/15\n",
      "1206/1206 [==============================] - 12s 10ms/step - loss: 0.0692 - precision_at_recall_3: 0.6635 - recall: 0.3141 - auc: 0.9481 - fp: 6351.7763 - fn: 39624.8227 - tp: 18095.3438 - accuracy: 0.9767 - precision: 0.7405 - val_loss: 0.0631 - val_precision_at_recall_3: 0.7197 - val_recall: 0.3582 - val_auc: 0.9461 - val_fp: 23.0000 - val_fn: 172.0000 - val_tp: 96.0000 - val_accuracy: 0.9801 - val_precision: 0.8067\n"
     ]
    }
   ],
   "source": [
    "tb_callback = keras.callbacks.TensorBoard(tb_logdir())\n",
    "history = model.fit(\n",
    "    X_train,\n",
    "    y_train,\n",
    "    batch_size=64,\n",
    "    epochs=15,\n",
    "    validation_data=(X_valid, y_valid),\n",
    "#     validation_split=0.1,\n",
    "    validation_steps=3,\n",
    "#     callbacks=[tb_callback],\n",
    ")"
   ]
  },
  {
   "cell_type": "code",
   "execution_count": 37,
   "metadata": {},
   "outputs": [
    {
     "data": {
      "image/png": "[encoded data removed]",
      "text/plain": [
       "<Figure size 1152x720 with 1 Axes>"
      ]
     },
     "metadata": {
      "needs_background": "light"
     },
     "output_type": "display_data"
    }
   ],
   "source": [
    "cols_1 = ['loss', 'val_loss', 'recall', 'val_recall', 'precision_at_recall_3', 'val_precision_at_recall_3' ]\n",
    "pd.DataFrame(history.history)[cols_1].plot(figsize=(16,10))\n",
    "plt.grid(True)\n",
    "# plt.gca().set_ylim(0,1)\n",
    "plt.show()"
   ]
  },
  {
   "cell_type": "code",
   "execution_count": 10,
   "metadata": {},
   "outputs": [
    {
     "data": {
      "text/html": [
       "<div>\n",
       "<style scoped>\n",
       "    .dataframe tbody tr th:only-of-type {\n",
       "        vertical-align: middle;\n",
       "    }\n",
       "\n",
       "    .dataframe tbody tr th {\n",
       "        vertical-align: top;\n",
       "    }\n",
       "\n",
       "    .dataframe thead th {\n",
       "        text-align: right;\n",
       "    }\n",
       "</style>\n",
       "<table border=\"1\" class=\"dataframe\">\n",
       "  <thead>\n",
       "    <tr style=\"text-align: right;\">\n",
       "      <th></th>\n",
       "      <th>fp</th>\n",
       "      <th>val_fp</th>\n",
       "      <th>tp</th>\n",
       "      <th>val_tp</th>\n",
       "      <th>fn</th>\n",
       "      <th>val_fn</th>\n",
       "    </tr>\n",
       "  </thead>\n",
       "  <tbody>\n",
       "    <tr>\n",
       "      <th>0</th>\n",
       "      <td>6,706.00</td>\n",
       "      <td>18.00</td>\n",
       "      <td>6,649.00</td>\n",
       "      <td>50.00</td>\n",
       "      <td>108,397.00</td>\n",
       "      <td>218.00</td>\n",
       "    </tr>\n",
       "    <tr>\n",
       "      <th>1</th>\n",
       "      <td>9,409.00</td>\n",
       "      <td>26.00</td>\n",
       "      <td>20,796.00</td>\n",
       "      <td>70.00</td>\n",
       "      <td>94,250.00</td>\n",
       "      <td>198.00</td>\n",
       "    </tr>\n",
       "    <tr>\n",
       "      <th>2</th>\n",
       "      <td>10,944.00</td>\n",
       "      <td>30.00</td>\n",
       "      <td>26,957.00</td>\n",
       "      <td>82.00</td>\n",
       "      <td>88,089.00</td>\n",
       "      <td>186.00</td>\n",
       "    </tr>\n",
       "    <tr>\n",
       "      <th>3</th>\n",
       "      <td>11,467.00</td>\n",
       "      <td>29.00</td>\n",
       "      <td>30,081.00</td>\n",
       "      <td>83.00</td>\n",
       "      <td>84,965.00</td>\n",
       "      <td>185.00</td>\n",
       "    </tr>\n",
       "    <tr>\n",
       "      <th>4</th>\n",
       "      <td>11,875.00</td>\n",
       "      <td>29.00</td>\n",
       "      <td>32,267.00</td>\n",
       "      <td>89.00</td>\n",
       "      <td>82,779.00</td>\n",
       "      <td>179.00</td>\n",
       "    </tr>\n",
       "    <tr>\n",
       "      <th>5</th>\n",
       "      <td>12,380.00</td>\n",
       "      <td>35.00</td>\n",
       "      <td>33,775.00</td>\n",
       "      <td>93.00</td>\n",
       "      <td>81,271.00</td>\n",
       "      <td>175.00</td>\n",
       "    </tr>\n",
       "    <tr>\n",
       "      <th>6</th>\n",
       "      <td>12,401.00</td>\n",
       "      <td>33.00</td>\n",
       "      <td>34,883.00</td>\n",
       "      <td>101.00</td>\n",
       "      <td>80,163.00</td>\n",
       "      <td>167.00</td>\n",
       "    </tr>\n",
       "    <tr>\n",
       "      <th>7</th>\n",
       "      <td>12,743.00</td>\n",
       "      <td>29.00</td>\n",
       "      <td>35,852.00</td>\n",
       "      <td>98.00</td>\n",
       "      <td>79,194.00</td>\n",
       "      <td>170.00</td>\n",
       "    </tr>\n",
       "  </tbody>\n",
       "</table>\n",
       "</div>"
      ],
      "text/plain": [
       "         fp  val_fp        tp  val_tp         fn  val_fn\n",
       "0  6,706.00   18.00  6,649.00   50.00 108,397.00  218.00\n",
       "1  9,409.00   26.00 20,796.00   70.00  94,250.00  198.00\n",
       "2 10,944.00   30.00 26,957.00   82.00  88,089.00  186.00\n",
       "3 11,467.00   29.00 30,081.00   83.00  84,965.00  185.00\n",
       "4 11,875.00   29.00 32,267.00   89.00  82,779.00  179.00\n",
       "5 12,380.00   35.00 33,775.00   93.00  81,271.00  175.00\n",
       "6 12,401.00   33.00 34,883.00  101.00  80,163.00  167.00\n",
       "7 12,743.00   29.00 35,852.00   98.00  79,194.00  170.00"
      ]
     },
     "execution_count": 10,
     "metadata": {},
     "output_type": "execute_result"
    }
   ],
   "source": [
    "pd.DataFrame(history.history)[['fp', 'val_fp', 'tp', 'val_tp', 'fn', 'val_fn' ]]"
   ]
  },
  {
   "cell_type": "code",
   "execution_count": 11,
   "metadata": {},
   "outputs": [
    {
     "name": "stdout",
     "output_type": "stream",
     "text": [
      "603/603 [==============================] - 5s 7ms/step - loss: 0.0658 - precision_at_recall: 0.7251 - recall: 0.3382 - auc: 0.9515 - fp: 2779.0000 - fn: 19150.0000 - tp: 9788.0000 - accuracy: 0.9777 - precision: 0.7789\n"
     ]
    },
    {
     "data": {
      "text/plain": [
       "[0.06582780182361603,\n",
       " 0.7251294255256653,\n",
       " 0.338240385055542,\n",
       " 0.9515117406845093,\n",
       " 2779.0,\n",
       " 19150.0,\n",
       " 9788.0,\n",
       " 0.9777025580406189,\n",
       " 0.7788652777671814]"
      ]
     },
     "execution_count": 11,
     "metadata": {},
     "output_type": "execute_result"
    }
   ],
   "source": [
    "model.evaluate(X_valid, y_valid)"
   ]
  },
  {
   "cell_type": "code",
   "execution_count": 15,
   "metadata": {},
   "outputs": [
    {
     "name": "stdout",
     "output_type": "stream",
     "text": [
      "(19284, 2000)\n",
      "(19284, 51)\n"
     ]
    }
   ],
   "source": [
    "print(X_valid.shape)\n",
    "print(y_valid.shape)"
   ]
  },
  {
   "cell_type": "code",
   "execution_count": 16,
   "metadata": {},
   "outputs": [
    {
     "name": "stdout",
     "output_type": "stream",
     "text": [
      "(13836, 2000)\n",
      "(13836, 51)\n"
     ]
    }
   ],
   "source": [
    "X_test = X_body_test.toarray()\n",
    "y_test = y_tags_test\n",
    "print(X_test.shape)\n",
    "print(y_test.shape)"
   ]
  },
  {
   "cell_type": "code",
   "execution_count": 39,
   "metadata": {},
   "outputs": [
    {
     "name": "stdout",
     "output_type": "stream",
     "text": [
      "433/433 [==============================] - 7s 15ms/step - loss: 0.0670 - precision_at_recall_3: 0.7261 - recall: 0.3288 - auc: 0.9496 - fp: 1901.0000 - fn: 13974.0000 - tp: 6846.0000 - accuracy: 0.9775 - precision: 0.7827 2s - loss: 0.0673 - precision_at_recall_3: 0.7244 - recall: 0.3286 - auc: 0.9483 - fp: 1258.0000 - fn: 9313.0000 - tp: 4559.0000  - ETA: 0s - loss: 0.0669 - precision_at_recall_3: 0.7248 - recall: 0.3295 - auc: 0.9495 - fp: 1657.0000 - fn: 12132.0000 - tp: 5963.0000 - accuracy: 0.9776 - precision:  - ETA: 0s - loss: 0.0669 - precision_at_recall_3: 0.7238 - recall: 0.3285 - auc: 0.9497 - fp: 1720.0000 - fn: 12545.0000 - tp: 6138.0000 - accuracy: 0.\n"
     ]
    },
    {
     "data": {
      "text/plain": [
       "[0.06696103513240814,\n",
       " 0.7261213064193726,\n",
       " 0.3288184404373169,\n",
       " 0.9495904445648193,\n",
       " 1901.0,\n",
       " 13974.0,\n",
       " 6846.0,\n",
       " 0.9775023460388184,\n",
       " 0.7826683521270752]"
      ]
     },
     "execution_count": 39,
     "metadata": {},
     "output_type": "execute_result"
    }
   ],
   "source": [
    "model.evaluate(X_test, y_test)"
   ]
  },
  {
   "cell_type": "code",
   "execution_count": 40,
   "metadata": {},
   "outputs": [],
   "source": [
    "res = model.predict(X_test)"
   ]
  },
  {
   "cell_type": "code",
   "execution_count": 41,
   "metadata": {},
   "outputs": [
    {
     "data": {
      "text/plain": [
       "[('css', 'html'),\n",
       " ('dplyr', 'r'),\n",
       " ('other',),\n",
       " ('c',),\n",
       " ('arrays', 'numpy', 'python'),\n",
       " ('java',),\n",
       " ('dataframe',),\n",
       " ('python',),\n",
       " ('r',),\n",
       " ('python',)]"
      ]
     },
     "execution_count": 41,
     "metadata": {},
     "output_type": "execute_result"
    }
   ],
   "source": [
    "mlb.inverse_transform(y_test[1000:1010])"
   ]
  },
  {
   "cell_type": "code",
   "execution_count": 42,
   "metadata": {},
   "outputs": [
    {
     "data": {
      "text/plain": [
       "[('css', 'html', 'javascript', 'other'),\n",
       " ('dplyr', 'r'),\n",
       " ('javascript', 'other'),\n",
       " ('c', 'c++'),\n",
       " ('arrays', 'numpy', 'python'),\n",
       " ('java', 'other'),\n",
       " ('dataframe', 'pandas', 'python', 'r'),\n",
       " ('python',),\n",
       " ('c', 'c++', 'r'),\n",
       " ('other', 'regex')]"
      ]
     },
     "execution_count": 42,
     "metadata": {},
     "output_type": "execute_result"
    }
   ],
   "source": [
    "threshold = .15\n",
    "tmp= pd.DataFrame(res[1000:1010]).applymap(lambda x:1 if x>threshold else 0)\n",
    "mlb.inverse_transform(tmp.values)"
   ]
  },
  {
   "cell_type": "code",
   "execution_count": 49,
   "metadata": {},
   "outputs": [
    {
     "data": {
      "text/plain": [
       "[('javascript', 'python'),\n",
       " ('java',),\n",
       " ('other',),\n",
       " ('c++',),\n",
       " ('java',),\n",
       " ('python',),\n",
       " ('other',),\n",
       " ('bash',),\n",
       " ('dataframe', 'list', 'pandas', 'python'),\n",
       " ('css', 'html')]"
      ]
     },
     "execution_count": 49,
     "metadata": {},
     "output_type": "execute_result"
    }
   ],
   "source": [
    "mlb.inverse_transform(y_test[8750:8760])"
   ]
  },
  {
   "cell_type": "code",
   "execution_count": null,
   "metadata": {},
   "outputs": [],
   "source": []
  },
  {
   "cell_type": "code",
   "execution_count": 51,
   "metadata": {},
   "outputs": [
    {
     "name": "stdout",
     "output_type": "stream",
     "text": [
      "classe:  other, python, \n",
      "classe:  arrays, javascript, python, \n",
      "classe:  python, \n",
      "classe:  c++, rust, \n",
      "classe:  java, \n",
      "classe:  python, \n",
      "classe:  javascript, sql, \n",
      "classe:  bash, other, python, \n",
      "classe:  dataframe, pandas, python, \n",
      "classe:  javascript, reactjs, \n"
     ]
    }
   ],
   "source": [
    "res = model.predict(X_test[8750:8760])\n",
    "for z in np.arange(res.shape[0]):\n",
    "    classes = \"\"\n",
    "    for r in np.arange(len(mlb.classes_)):\n",
    "        if res[z][r]>.15:\n",
    "            classes = classes + mlb.classes_[r] + \", \"\n",
    "    print(\"classe: \", classes )"
   ]
  },
  {
   "cell_type": "code",
   "execution_count": 54,
   "metadata": {},
   "outputs": [
    {
     "data": {
      "text/html": [
       "<div>\n",
       "<style scoped>\n",
       "    .dataframe tbody tr th:only-of-type {\n",
       "        vertical-align: middle;\n",
       "    }\n",
       "\n",
       "    .dataframe tbody tr th {\n",
       "        vertical-align: top;\n",
       "    }\n",
       "\n",
       "    .dataframe thead th {\n",
       "        text-align: right;\n",
       "    }\n",
       "</style>\n",
       "<table border=\"1\" class=\"dataframe\">\n",
       "  <thead>\n",
       "    <tr style=\"text-align: right;\">\n",
       "      <th></th>\n",
       "      <th>Tags_T100</th>\n",
       "      <th>Tags_T50</th>\n",
       "      <th>Tags_T10</th>\n",
       "    </tr>\n",
       "  </thead>\n",
       "  <tbody>\n",
       "    <tr>\n",
       "      <th>8750</th>\n",
       "      <td>[javascript, python]</td>\n",
       "      <td>[javascript, python]</td>\n",
       "      <td>[javascript, python]</td>\n",
       "    </tr>\n",
       "    <tr>\n",
       "      <th>8751</th>\n",
       "      <td>[java]</td>\n",
       "      <td>[java]</td>\n",
       "      <td>[java]</td>\n",
       "    </tr>\n",
       "    <tr>\n",
       "      <th>8752</th>\n",
       "      <td>[other]</td>\n",
       "      <td>[other]</td>\n",
       "      <td>[other]</td>\n",
       "    </tr>\n",
       "    <tr>\n",
       "      <th>8753</th>\n",
       "      <td>[c++]</td>\n",
       "      <td>[c++]</td>\n",
       "      <td>[c++]</td>\n",
       "    </tr>\n",
       "    <tr>\n",
       "      <th>8754</th>\n",
       "      <td>[java, database]</td>\n",
       "      <td>[java]</td>\n",
       "      <td>[java]</td>\n",
       "    </tr>\n",
       "    <tr>\n",
       "      <th>8755</th>\n",
       "      <td>[python]</td>\n",
       "      <td>[python]</td>\n",
       "      <td>[python]</td>\n",
       "    </tr>\n",
       "    <tr>\n",
       "      <th>8756</th>\n",
       "      <td>[vba]</td>\n",
       "      <td>[other]</td>\n",
       "      <td>[other]</td>\n",
       "    </tr>\n",
       "    <tr>\n",
       "      <th>8757</th>\n",
       "      <td>[bash, loops]</td>\n",
       "      <td>[bash]</td>\n",
       "      <td>[other]</td>\n",
       "    </tr>\n",
       "    <tr>\n",
       "      <th>8758</th>\n",
       "      <td>[python, pandas, list, dataframe]</td>\n",
       "      <td>[python, pandas, list, dataframe]</td>\n",
       "      <td>[python, pandas, dataframe]</td>\n",
       "    </tr>\n",
       "    <tr>\n",
       "      <th>8759</th>\n",
       "      <td>[html, css]</td>\n",
       "      <td>[html, css]</td>\n",
       "      <td>[other]</td>\n",
       "    </tr>\n",
       "  </tbody>\n",
       "</table>\n",
       "</div>"
      ],
      "text/plain": [
       "                              Tags_T100                           Tags_T50  \\\n",
       "8750               [javascript, python]               [javascript, python]   \n",
       "8751                             [java]                             [java]   \n",
       "8752                            [other]                            [other]   \n",
       "8753                              [c++]                              [c++]   \n",
       "8754                   [java, database]                             [java]   \n",
       "8755                           [python]                           [python]   \n",
       "8756                              [vba]                            [other]   \n",
       "8757                      [bash, loops]                             [bash]   \n",
       "8758  [python, pandas, list, dataframe]  [python, pandas, list, dataframe]   \n",
       "8759                        [html, css]                        [html, css]   \n",
       "\n",
       "                         Tags_T10  \n",
       "8750         [javascript, python]  \n",
       "8751                       [java]  \n",
       "8752                      [other]  \n",
       "8753                        [c++]  \n",
       "8754                       [java]  \n",
       "8755                     [python]  \n",
       "8756                      [other]  \n",
       "8757                      [other]  \n",
       "8758  [python, pandas, dataframe]  \n",
       "8759                      [other]  "
      ]
     },
     "execution_count": 54,
     "metadata": {},
     "output_type": "execute_result"
    }
   ],
   "source": [
    "df_tags_test[8750:8760]"
   ]
  },
  {
   "cell_type": "code",
   "execution_count": 52,
   "metadata": {},
   "outputs": [
    {
     "data": {
      "text/plain": [
       "'get hang indent dd tag cs also content'"
      ]
     },
     "execution_count": 52,
     "metadata": {},
     "output_type": "execute_result"
    }
   ],
   "source": [
    "df_lemma_test.loc[8759,'Title']"
   ]
  },
  {
   "cell_type": "code",
   "execution_count": 53,
   "metadata": {},
   "outputs": [
    {
     "data": {
      "text/plain": [
       "'page bunch definition list guy make style mockups word come brilliant idea render definition list term value hang indent admit actually brilliant difficult play around quite bit hang indent really necessary page becomes ugly grid suboptimal anyway page render break content appear hang indent style honor actually oppose method say hang indent hang keyword glitchy like render believe else'"
      ]
     },
     "execution_count": 53,
     "metadata": {},
     "output_type": "execute_result"
    }
   ],
   "source": [
    "df_lemma_test.loc[8759,'Body']"
   ]
  }
 ],
 "metadata": {
  "kernelspec": {
   "display_name": "Python 3",
   "language": "python",
   "name": "python3"
  },
  "language_info": {
   "codemirror_mode": {
    "name": "ipython",
    "version": 3
   },
   "file_extension": ".py",
   "mimetype": "text/x-python",
   "name": "python",
   "nbconvert_exporter": "python",
   "pygments_lexer": "ipython3",
   "version": "3.7.9"
  }
 },
 "nbformat": 4,
 "nbformat_minor": 4
}
