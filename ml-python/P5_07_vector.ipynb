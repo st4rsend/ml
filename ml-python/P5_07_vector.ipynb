{
 "cells": [
  {
   "cell_type": "code",
   "execution_count": 1,
   "metadata": {},
   "outputs": [
    {
     "name": "stdout",
     "output_type": "stream",
     "text": [
      "INFO:tensorflow:Enabling eager execution\n",
      "INFO:tensorflow:Enabling v2 tensorshape\n",
      "INFO:tensorflow:Enabling resource variables\n",
      "INFO:tensorflow:Enabling tensor equality\n",
      "INFO:tensorflow:Enabling control flow v2\n"
     ]
    }
   ],
   "source": [
    "import importlib\n",
    "import os\n",
    "from joblib import dump, load\n",
    "\n",
    "import numpy as np\n",
    "import pandas as pd\n",
    "\n",
    "import tensorflow as tf\n",
    "\n",
    "from sklearn.preprocessing import MultiLabelBinarizer\n",
    "\n",
    "from tensorflow.keras.layers.experimental.preprocessing import TextVectorization\n",
    "\n",
    "# from nltk import download as nltk_download\n",
    "# from nltk import tokenize, RegexpTokenizer\n",
    "# from nltk.corpus import stopwords\n",
    "# nltk_download('punkt')\n",
    "# nltk_download('stopwords')\n",
    "# from nltk.stem.snowball import SnowballStemmer\n",
    "\n",
    "\n",
    "data_path = \"..\\\\data\\\\stackoverflow\\\\\"\n",
    "model_path = data_path + \"models\\\\\"\n",
    "\n",
    "np.set_printoptions(precision=2, suppress=True)\n",
    "pd.options.display.float_format = \"{:,.2f}\".format\n",
    "\n",
    "# https://github.com/tensorflow/text/issues/476"
   ]
  },
  {
   "cell_type": "code",
   "execution_count": 2,
   "metadata": {},
   "outputs": [],
   "source": [
    "import matplotlib.pyplot as plt\n",
    "\n",
    "\n",
    "def plot_graphs(history, metric):\n",
    "    plt.plot(history.history[metric])\n",
    "    plt.plot(history.history['val_'+metric], '')\n",
    "    plt.xlabel(\"Epochs\")\n",
    "    plt.ylabel(metric)\n",
    "    plt.legend([metric, 'val_'+metric])"
   ]
  },
  {
   "cell_type": "code",
   "execution_count": 3,
   "metadata": {},
   "outputs": [],
   "source": [
    "# data_filename = \"bs4_nltk.pkl\"\n",
    "# data_filename = \"bs4.pkl\"\n",
    "# df_base = pd.read_pickle(data_path + data_filename)\n",
    "\n",
    "# body_corpus = load(data_path + 'body_corpus.joblib')"
   ]
  },
  {
   "cell_type": "code",
   "execution_count": 4,
   "metadata": {},
   "outputs": [],
   "source": [
    "df_lemma = pd.read_pickle(data_path + 'nltk_lemma_stop.pkl')\n",
    "df_lemma_test = pd.read_pickle(data_path + 'nltk_lemma_stop_test.pkl')\n",
    "df_lemma['Title'] = df_lemma['Title'].apply(lambda row: ' '.join(row))\n",
    "df_lemma['Body'] = df_lemma['Body'].apply(lambda row: ' '.join(row))\n",
    "df_lemma_test['Title'] = df_lemma_test['Title'].apply(lambda row: ' '.join(row))\n",
    "df_lemma_test['Body'] = df_lemma_test['Body'].apply(lambda row: ' '.join(row))\n",
    "\n",
    "\n",
    "\n"
   ]
  },
  {
   "cell_type": "code",
   "execution_count": 5,
   "metadata": {},
   "outputs": [],
   "source": [
    "mlb = MultiLabelBinarizer()\n",
    "df_tags = pd.read_pickle(data_path + 'Top_Tags.pkl')\n",
    "df_tags_test = pd.read_pickle(data_path + 'Top_Tags_test.pkl')\n",
    "df_tags_full = pd.concat([df_tags,df_tags_test])\n",
    "mlb.fit_transform(df_tags_full['Tags_T50'])\n",
    "\n",
    "y_tags = mlb.transform(df_tags['Tags_T50'])\n",
    "y_tags_test = mlb.transform(df_tags_test['Tags_T50'])\n",
    "\n",
    "y_tag_python = y_tags[:,np.where(mlb.classes_==\"python\")]"
   ]
  },
  {
   "cell_type": "markdown",
   "metadata": {},
   "source": [
    "# Vector Embed"
   ]
  },
  {
   "cell_type": "code",
   "execution_count": 7,
   "metadata": {},
   "outputs": [],
   "source": [
    "COUNT = 100000\n",
    "SPLIT_RATIO = .8\n",
    "BATCH_SIZE = 32\n",
    "SHUFFLE_BUFFER_SIZE = 100\n",
    "\n",
    "ds_body =  tf.data.Dataset.from_tensor_slices((df_lemma['Body'][:COUNT], y_tags[:COUNT]))\n",
    "ds_body_train, ds_body_valid = ds_body.take(ds_body.cardinality().numpy()*SPLIT_RATIO), ds_body.skip(ds_body.cardinality().numpy()*SPLIT_RATIO)\n",
    "body_train_data = ds_body_train.shuffle(SHUFFLE_BUFFER_SIZE).batch(BATCH_SIZE).prefetch(buffer_size=tf.data.experimental.AUTOTUNE)\n",
    "body_valid_data = ds_body_valid.batch(BATCH_SIZE).prefetch(buffer_size=tf.data.experimental.AUTOTUNE)"
   ]
  },
  {
   "cell_type": "code",
   "execution_count": 8,
   "metadata": {},
   "outputs": [],
   "source": [
    "VOCAB_SIZE = 4000\n",
    "# SEQUENCE_LENGTH = 128\n",
    "SEQUENCE_LENGTH = 128\n",
    "# NGRAMS=(1,2)\n",
    "NGRAMS=None\n",
    "\n",
    "vectorize_layer = TextVectorization(\n",
    "#     standardize=custom_standardization,\n",
    "#     input_shape=(4000,),\n",
    "    max_tokens=VOCAB_SIZE,\n",
    "    output_mode='int',\n",
    "    output_sequence_length=SEQUENCE_LENGTH,\n",
    "    ngrams=NGRAMS,)\n",
    "\n",
    "metrics = [\n",
    "    tf.keras.metrics.PrecisionAtRecall(0.4, name='patr'),\n",
    "    tf.keras.metrics.Recall(name='recall'),\n",
    "    tf.keras.metrics.AUC(name='auc'),\n",
    "    tf.keras.metrics.FalsePositives(name='fp'),\n",
    "#     tf.keras.metrics.TrueNegatives(name='tn'),\n",
    "    tf.keras.metrics.FalseNegatives(name='fn'), \n",
    "    tf.keras.metrics.TruePositives(name='tp'),\n",
    "    tf.keras.metrics.BinaryAccuracy(name='accuracy'),\n",
    "    tf.keras.metrics.Precision(name='precision'),\n",
    "#     tf.keras.metrics.AUC(name='prc', curve='PR'), # precision-recall curve\n",
    "]\n",
    "\n",
    "# text_ds = train_data.map(lambda x, y: x)\n",
    "text_ds = body_train_data.map(lambda x, y: x)\n",
    "vectorize_layer.adapt(text_ds)"
   ]
  },
  {
   "cell_type": "code",
   "execution_count": 15,
   "metadata": {},
   "outputs": [],
   "source": [
    "# EMBEDDING_DIM = 48\n",
    "EMBEDDING_DIM = 48\n",
    "DROPOUT = .35\n",
    "LABEL_SMOOTHING =0\n",
    "\n",
    "model = tf.keras.Sequential([\n",
    "    vectorize_layer,\n",
    "    tf.keras.layers.Embedding(VOCAB_SIZE, EMBEDDING_DIM, name=\"embedding\"),\n",
    "    tf.keras.layers.GlobalAveragePooling1D(),\n",
    "    tf.keras.layers.Dense(EMBEDDING_DIM,\n",
    "            activation='relu',\n",
    "                ),\n",
    "    tf.keras.layers.Dropout(DROPOUT),\n",
    "#     tf.keras.layers.Dense(EMBEDDING_DIM, activation='relu', \n",
    "#                 ),\n",
    "#     tf.keras.layers.Dropout(DROPOUT),\n",
    "    tf.keras.layers.Dense(51, activation='sigmoid'),\n",
    "])\n",
    "\n",
    "optimizer = tf.keras.optimizers.Adam(learning_rate=0.003)\n",
    "# optimizer = tf.keras.optimizers.RMSprop(learning_rate=0.03)\n",
    "model.compile(\n",
    "    optimizer=optimizer,\n",
    "    loss=tf.keras.losses.BinaryCrossentropy(label_smoothing=LABEL_SMOOTHING),\n",
    "    metrics=metrics,\n",
    ")\n",
    "# model.summary()"
   ]
  },
  {
   "cell_type": "code",
   "execution_count": 16,
   "metadata": {},
   "outputs": [
    {
     "name": "stdout",
     "output_type": "stream",
     "text": [
      "Epoch 1/10\n",
      "2411/2411 [==============================] - 34s 14ms/step - loss: 0.1506 - patr: 0.2281 - recall: 0.1763 - auc: 0.8461 - fp: 7664.0344 - fn: 70390.3412 - tp: 11904.7790 - accuracy: 0.9728 - precision: 0.6086 - val_loss: 0.0960 - val_patr: 0.2881 - val_recall: 0.0715 - val_auc: 0.8830 - val_fp: 1333.0000 - val_fn: 26719.0000 - val_tp: 2058.0000 - val_accuracy: 0.9715 - val_precision: 0.6069\n",
      "Epoch 2/10\n",
      "2411/2411 [==============================] - 32s 13ms/step - loss: 0.0904 - patr: 0.3630 - recall: 0.1192 - auc: 0.8964 - fp: 3786.8437 - fn: 49513.4851 - tp: 7849.1215 - accuracy: 0.9726 - precision: 0.6528 - val_loss: 0.0727 - val_patr: 0.6352 - val_recall: 0.2320 - val_auc: 0.9424 - val_fp: 1900.0000 - val_fn: 22100.0000 - val_tp: 6677.0000 - val_accuracy: 0.9756 - val_precision: 0.7785\n",
      "Epoch 3/10\n",
      "2411/2411 [==============================] - 32s 13ms/step - loss: 0.0736 - patr: 0.6125 - recall: 0.2660 - auc: 0.9383 - fp: 5525.6285 - fn: 41678.4871 - tp: 15684.8213 - accuracy: 0.9759 - precision: 0.7361 - val_loss: 0.0676 - val_patr: 0.7093 - val_recall: 0.2978 - val_auc: 0.9496 - val_fp: 2349.0000 - val_fn: 20207.0000 - val_tp: 8570.0000 - val_accuracy: 0.9771 - val_precision: 0.7849\n",
      "Epoch 4/10\n",
      "2411/2411 [==============================] - 32s 13ms/step - loss: 0.0684 - patr: 0.6837 - recall: 0.3214 - auc: 0.9475 - fp: 6144.7131 - fn: 38676.7446 - tp: 18685.8279 - accuracy: 0.9772 - precision: 0.7507 - val_loss: 0.0654 - val_patr: 0.7402 - val_recall: 0.3333 - val_auc: 0.9515 - val_fp: 2586.0000 - val_fn: 19186.0000 - val_tp: 9591.0000 - val_accuracy: 0.9779 - val_precision: 0.7876\n",
      "Epoch 5/10\n",
      "2411/2411 [==============================] - 32s 13ms/step - loss: 0.0654 - patr: 0.7183 - recall: 0.3507 - auc: 0.9527 - fp: 6505.9473 - fn: 36995.4187 - tp: 20367.4009 - accuracy: 0.9778 - precision: 0.7560 - val_loss: 0.0647 - val_patr: 0.7526 - val_recall: 0.3448 - val_auc: 0.9527 - val_fp: 2585.0000 - val_fn: 18855.0000 - val_tp: 9922.0000 - val_accuracy: 0.9782 - val_precision: 0.7933\n",
      "Epoch 6/10\n",
      "2411/2411 [==============================] - 32s 13ms/step - loss: 0.0636 - patr: 0.7399 - recall: 0.3707 - auc: 0.9555 - fp: 6685.7114 - fn: 35858.8138 - tp: 21504.2591 - accuracy: 0.9784 - precision: 0.7624 - val_loss: 0.0636 - val_patr: 0.7628 - val_recall: 0.3607 - val_auc: 0.9532 - val_fp: 2760.0000 - val_fn: 18398.0000 - val_tp: 10379.0000 - val_accuracy: 0.9785 - val_precision: 0.7899\n",
      "Epoch 7/10\n",
      "2411/2411 [==============================] - 32s 13ms/step - loss: 0.0621 - patr: 0.7500 - recall: 0.3870 - auc: 0.9582 - fp: 6966.0344 - fn: 34991.2048 - tp: 22372.2446 - accuracy: 0.9786 - precision: 0.7598 - val_loss: 0.0637 - val_patr: 0.7652 - val_recall: 0.3648 - val_auc: 0.9533 - val_fp: 2781.0000 - val_fn: 18278.0000 - val_tp: 10499.0000 - val_accuracy: 0.9786 - val_precision: 0.7906\n",
      "Epoch 8/10\n",
      "2411/2411 [==============================] - 32s 13ms/step - loss: 0.0609 - patr: 0.7614 - recall: 0.3992 - auc: 0.9601 - fp: 7121.8677 - fn: 34338.1920 - tp: 23024.7488 - accuracy: 0.9790 - precision: 0.7636 - val_loss: 0.0635 - val_patr: 0.7731 - val_recall: 0.3729 - val_auc: 0.9527 - val_fp: 2776.0000 - val_fn: 18047.0000 - val_tp: 10730.0000 - val_accuracy: 0.9788 - val_precision: 0.7945\n",
      "Epoch 9/10\n",
      "2411/2411 [==============================] - 32s 13ms/step - loss: 0.0603 - patr: 0.7666 - recall: 0.4067 - auc: 0.9610 - fp: 7220.6256 - fn: 33887.2226 - tp: 23475.1086 - accuracy: 0.9791 - precision: 0.7630 - val_loss: 0.0634 - val_patr: 0.7709 - val_recall: 0.3818 - val_auc: 0.9528 - val_fp: 3028.0000 - val_fn: 17790.0000 - val_tp: 10987.0000 - val_accuracy: 0.9788 - val_precision: 0.7839\n",
      "Epoch 10/10\n",
      "2411/2411 [==============================] - 32s 13ms/step - loss: 0.0595 - patr: 0.7776 - recall: 0.4147 - auc: 0.9619 - fp: 7185.5697 - fn: 33446.4146 - tp: 23916.2624 - accuracy: 0.9794 - precision: 0.7688 - val_loss: 0.0634 - val_patr: 0.7743 - val_recall: 0.3849 - val_auc: 0.9524 - val_fp: 3028.0000 - val_fn: 17701.0000 - val_tp: 11076.0000 - val_accuracy: 0.9789 - val_precision: 0.7853\n"
     ]
    }
   ],
   "source": [
    "history = model.fit(\n",
    "    body_train_data,\n",
    "    epochs=10,\n",
    "    validation_data=body_valid_data,\n",
    ")"
   ]
  },
  {
   "cell_type": "code",
   "execution_count": 17,
   "metadata": {},
   "outputs": [
    {
     "data": {
      "image/png": "[encoded data removed]",
      "text/plain": [
       "<Figure size 1152x720 with 1 Axes>"
      ]
     },
     "metadata": {
      "needs_background": "light"
     },
     "output_type": "display_data"
    }
   ],
   "source": [
    "cols_1 = ['loss', 'val_loss', 'recall', 'val_recall', 'patr', 'val_patr' ]\n",
    "pd.DataFrame(history.history)[cols_1].plot(figsize=(16,10))\n",
    "plt.grid(True)\n",
    "# plt.gca().set_ylim(0,1)\n",
    "plt.show()"
   ]
  },
  {
   "cell_type": "code",
   "execution_count": 47,
   "metadata": {},
   "outputs": [
    {
     "data": {
      "text/plain": [
       "<tensorflow.python.keras.engine.sequential.Sequential at 0x229dacfa648>"
      ]
     },
     "execution_count": 47,
     "metadata": {},
     "output_type": "execute_result"
    }
   ],
   "source": [
    "history.model"
   ]
  },
  {
   "cell_type": "markdown",
   "metadata": {},
   "source": [
    "# Vector Embed LSTM"
   ]
  },
  {
   "cell_type": "code",
   "execution_count": 20,
   "metadata": {},
   "outputs": [],
   "source": [
    "COUNT = 100000\n",
    "SPLIT_RATIO = .8\n",
    "BATCH_SIZE = 16\n",
    "SHUFFLE_BUFFER_SIZE = 128\n",
    "\n",
    "ds_body =  tf.data.Dataset.from_tensor_slices((df_lemma['Body'][:COUNT], y_tags[:COUNT]))\n",
    "ds_body_train, ds_body_valid = ds_body.take(ds_body.cardinality().numpy()*SPLIT_RATIO), ds_body.skip(ds_body.cardinality().numpy()*SPLIT_RATIO)\n",
    "body_train_data = ds_body_train.shuffle(SHUFFLE_BUFFER_SIZE).batch(BATCH_SIZE).prefetch(buffer_size=tf.data.experimental.AUTOTUNE)\n",
    "body_valid_data = ds_body_valid.batch(BATCH_SIZE).prefetch(buffer_size=tf.data.experimental.AUTOTUNE)"
   ]
  },
  {
   "cell_type": "code",
   "execution_count": 22,
   "metadata": {},
   "outputs": [],
   "source": [
    "VOCAB_SIZE = 5000\n",
    "SEQUENCE_LENGTH = 96\n",
    "# NGRAMS=(1,2)\n",
    "\n",
    "vectorize_layer = TextVectorization(\n",
    "#     standardize=custom_standardization,\n",
    "    max_tokens=VOCAB_SIZE,\n",
    "    output_mode='int',\n",
    "#     ngrams=NGRAMS,\n",
    "#     output_sequence_length=SEQUENCE_LENGTH,\n",
    "    )\n",
    "\n",
    "text_ds = body_train_data.map(lambda x, y: x)\n",
    "vectorize_layer.adapt(text_ds)"
   ]
  },
  {
   "cell_type": "code",
   "execution_count": 27,
   "metadata": {},
   "outputs": [],
   "source": [
    "# EMBEDDING_DIM = 48\n",
    "EMBEDDING_DIM = 42\n",
    "DROPOUT = .4\n",
    "LABEL_SMOOTHING =0\n",
    "\n",
    "model = tf.keras.Sequential([\n",
    "    vectorize_layer,\n",
    "    tf.keras.layers.Embedding(\n",
    "        input_dim=VOCAB_SIZE,\n",
    "        output_dim=EMBEDDING_DIM,\n",
    "#         mask_zero=True,\n",
    "        name=\"embedding\"),\n",
    "#     tf.keras.layers.GlobalAveragePooling1D(),\n",
    "    tf.keras.layers.Bidirectional(tf.keras.layers.LSTM(\n",
    "        EMBEDDING_DIM,\n",
    "#         recurrent_dropout=0.1,\n",
    "    )),\n",
    "    tf.keras.layers.Dense(EMBEDDING_DIM,\n",
    "            activation='relu',\n",
    "                ),\n",
    "#     tf.keras.layers.Dropout(DROPOUT),\n",
    "#     tf.keras.layers.Dense(EMBEDDING_DIM, activation='relu', \n",
    "#                 ),\n",
    "    tf.keras.layers.Dropout(DROPOUT),\n",
    "    tf.keras.layers.Dense(51, activation='sigmoid'),\n",
    "])\n",
    "\n",
    "metrics = [\n",
    "    tf.keras.metrics.PrecisionAtRecall(0.4, name='patr'),\n",
    "    tf.keras.metrics.Recall(name='recall'),\n",
    "    tf.keras.metrics.AUC(name='auc'),\n",
    "    tf.keras.metrics.FalsePositives(name='fp'),\n",
    "#     keras.metrics.TrueNegatives(name='tn'),\n",
    "    tf.keras.metrics.FalseNegatives(name='fn'), \n",
    "    tf.keras.metrics.TruePositives(name='tp'),\n",
    "    tf.keras.metrics.BinaryAccuracy(name='accuracy'),\n",
    "    tf.keras.metrics.Precision(name='precision'),\n",
    "#     keras.metrics.AUC(name='prc', curve='PR'), # precision-recall curve\n",
    "]\n",
    "\n",
    "optimizer = tf.keras.optimizers.Adamax(learning_rate=0.02)\n",
    "model.compile(\n",
    "    optimizer=optimizer,\n",
    "    loss=tf.keras.losses.BinaryCrossentropy(label_smoothing=LABEL_SMOOTHING),\n",
    "    metrics=metrics,\n",
    ")\n",
    "# model.summary()"
   ]
  },
  {
   "cell_type": "code",
   "execution_count": null,
   "metadata": {},
   "outputs": [
    {
     "name": "stdout",
     "output_type": "stream",
     "text": [
      "Epoch 1/9\n",
      "4821/4821 [==============================] - 371s 76ms/step - loss: 0.1103 - patr: 0.2070 - recall: 0.0710 - auc: 0.8161 - fp: 3910.1080 - fn: 51953.2387 - tp: 5373.5035 - accuracy: 0.9700 - precision: 0.4599 - val_loss: 0.0721 - val_patr: 0.6348 - val_recall: 0.2683 - val_auc: 0.9423 - val_fp: 2534.0000 - val_fn: 21055.0000 - val_tp: 7722.0000 - val_accuracy: 0.9760 - val_precision: 0.7529\n",
      "Epoch 2/9\n",
      "4821/4821 [==============================] - 221s 46ms/step - loss: 0.0729 - patr: 0.6308 - recall: 0.3034 - auc: 0.9364 - fp: 6561.5670 - fn: 39329.2287 - tp: 17997.3100 - accuracy: 0.9765 - precision: 0.7275 - val_loss: 0.0638 - val_patr: 0.7639 - val_recall: 0.3575 - val_auc: 0.9528 - val_fp: 2588.0000 - val_fn: 18490.0000 - val_tp: 10287.0000 - val_accuracy: 0.9786 - val_precision: 0.7990\n",
      "Epoch 3/9\n",
      "4821/4821 [==============================] - 376s 78ms/step - loss: 0.0653 - patr: 0.7374 - recall: 0.3814 - auc: 0.9499 - fp: 7091.4538 - fn: 35150.0212 - tp: 22177.1765 - accuracy: 0.9785 - precision: 0.7556 - val_loss: 0.0618 - val_patr: 0.7965 - val_recall: 0.4041 - val_auc: 0.9537 - val_fp: 2994.0000 - val_fn: 17149.0000 - val_tp: 11628.0000 - val_accuracy: 0.9795 - val_precision: 0.7952\n",
      "Epoch 4/9\n",
      "4821/4821 [==============================] - 219s 46ms/step - loss: 0.0618 - patr: 0.7743 - recall: 0.4168 - auc: 0.9554 - fp: 7397.9264 - fn: 33137.4102 - tp: 24189.1051 - accuracy: 0.9793 - precision: 0.7623 - val_loss: 0.0609 - val_patr: 0.8058 - val_recall: 0.4230 - val_auc: 0.9539 - val_fp: 3201.0000 - val_fn: 16604.0000 - val_tp: 12173.0000 - val_accuracy: 0.9799 - val_precision: 0.7918\n",
      "Epoch 5/9\n",
      "4821/4821 [==============================] - 369s 77ms/step - loss: 0.0592 - patr: 0.8038 - recall: 0.4437 - auc: 0.9592 - fp: 7387.6895 - fn: 31757.7024 - tp: 25569.2366 - accuracy: 0.9801 - precision: 0.7746 - val_loss: 0.0613 - val_patr: 0.8003 - val_recall: 0.4244 - val_auc: 0.9529 - val_fp: 3342.0000 - val_fn: 16565.0000 - val_tp: 12212.0000 - val_accuracy: 0.9798 - val_precision: 0.7851\n",
      "Epoch 6/9\n",
      "4821/4821 [==============================] - 220s 46ms/step - loss: 0.0574 - patr: 0.8212 - recall: 0.4608 - auc: 0.9617 - fp: 7432.0807 - fn: 30778.7321 - tp: 26548.8254 - accuracy: 0.9806 - precision: 0.7799 - val_loss: 0.0620 - val_patr: 0.8014 - val_recall: 0.4291 - val_auc: 0.9500 - val_fp: 3386.0000 - val_fn: 16429.0000 - val_tp: 12348.0000 - val_accuracy: 0.9799 - val_precision: 0.7848\n",
      "Epoch 7/9\n",
      "4821/4821 [==============================] - ETA: 0s - loss: 0.0559 - patr: 0.8350 - recall: 0.4743 - auc: 0.9643 - fp: 7446.2068 - fn: 29990.4721 - tp: 27324.4908 - accuracy: 0.9810 - precision: 0.7856"
     ]
    }
   ],
   "source": [
    "history = model.fit(\n",
    "    body_train_data,\n",
    "    epochs=9,\n",
    "    validation_data=body_valid_data,\n",
    ")"
   ]
  },
  {
   "cell_type": "code",
   "execution_count": 74,
   "metadata": {},
   "outputs": [
    {
     "ename": "KeyError",
     "evalue": "\"['val_precision_at_recall_9', 'precision_at_recall_9'] not in index\"",
     "output_type": "error",
     "traceback": [
      "\u001b[1;31m---------------------------------------------------------------------------\u001b[0m",
      "\u001b[1;31mKeyError\u001b[0m                                  Traceback (most recent call last)",
      "\u001b[1;32m<ipython-input-74-d85ac2c505f5>\u001b[0m in \u001b[0;36m<module>\u001b[1;34m\u001b[0m\n\u001b[0;32m      1\u001b[0m \u001b[0mcols_1\u001b[0m \u001b[1;33m=\u001b[0m \u001b[1;33m[\u001b[0m\u001b[1;34m'loss'\u001b[0m\u001b[1;33m,\u001b[0m \u001b[1;34m'val_loss'\u001b[0m\u001b[1;33m,\u001b[0m \u001b[1;34m'recall'\u001b[0m\u001b[1;33m,\u001b[0m \u001b[1;34m'val_recall'\u001b[0m\u001b[1;33m,\u001b[0m \u001b[1;34m'precision_at_recall_9'\u001b[0m\u001b[1;33m,\u001b[0m \u001b[1;34m'val_precision_at_recall_9'\u001b[0m \u001b[1;33m]\u001b[0m\u001b[1;33m\u001b[0m\u001b[1;33m\u001b[0m\u001b[0m\n\u001b[1;32m----> 2\u001b[1;33m \u001b[0mpd\u001b[0m\u001b[1;33m.\u001b[0m\u001b[0mDataFrame\u001b[0m\u001b[1;33m(\u001b[0m\u001b[0mhistory\u001b[0m\u001b[1;33m.\u001b[0m\u001b[0mhistory\u001b[0m\u001b[1;33m)\u001b[0m\u001b[1;33m[\u001b[0m\u001b[0mcols_1\u001b[0m\u001b[1;33m]\u001b[0m\u001b[1;33m.\u001b[0m\u001b[0mplot\u001b[0m\u001b[1;33m(\u001b[0m\u001b[0mfigsize\u001b[0m\u001b[1;33m=\u001b[0m\u001b[1;33m(\u001b[0m\u001b[1;36m16\u001b[0m\u001b[1;33m,\u001b[0m\u001b[1;36m10\u001b[0m\u001b[1;33m)\u001b[0m\u001b[1;33m)\u001b[0m\u001b[1;33m\u001b[0m\u001b[1;33m\u001b[0m\u001b[0m\n\u001b[0m\u001b[0;32m      3\u001b[0m \u001b[0mplt\u001b[0m\u001b[1;33m.\u001b[0m\u001b[0mgrid\u001b[0m\u001b[1;33m(\u001b[0m\u001b[1;32mTrue\u001b[0m\u001b[1;33m)\u001b[0m\u001b[1;33m\u001b[0m\u001b[1;33m\u001b[0m\u001b[0m\n\u001b[0;32m      4\u001b[0m \u001b[1;31m# plt.gca().set_ylim(0,1)\u001b[0m\u001b[1;33m\u001b[0m\u001b[1;33m\u001b[0m\u001b[1;33m\u001b[0m\u001b[0m\n\u001b[0;32m      5\u001b[0m \u001b[0mplt\u001b[0m\u001b[1;33m.\u001b[0m\u001b[0mshow\u001b[0m\u001b[1;33m(\u001b[0m\u001b[1;33m)\u001b[0m\u001b[1;33m\u001b[0m\u001b[1;33m\u001b[0m\u001b[0m\n",
      "\u001b[1;32m~\\AppData\\Roaming\\Python\\Python37\\site-packages\\pandas\\core\\frame.py\u001b[0m in \u001b[0;36m__getitem__\u001b[1;34m(self, key)\u001b[0m\n\u001b[0;32m   3028\u001b[0m             \u001b[1;32mif\u001b[0m \u001b[0mis_iterator\u001b[0m\u001b[1;33m(\u001b[0m\u001b[0mkey\u001b[0m\u001b[1;33m)\u001b[0m\u001b[1;33m:\u001b[0m\u001b[1;33m\u001b[0m\u001b[1;33m\u001b[0m\u001b[0m\n\u001b[0;32m   3029\u001b[0m                 \u001b[0mkey\u001b[0m \u001b[1;33m=\u001b[0m \u001b[0mlist\u001b[0m\u001b[1;33m(\u001b[0m\u001b[0mkey\u001b[0m\u001b[1;33m)\u001b[0m\u001b[1;33m\u001b[0m\u001b[1;33m\u001b[0m\u001b[0m\n\u001b[1;32m-> 3030\u001b[1;33m             \u001b[0mindexer\u001b[0m \u001b[1;33m=\u001b[0m \u001b[0mself\u001b[0m\u001b[1;33m.\u001b[0m\u001b[0mloc\u001b[0m\u001b[1;33m.\u001b[0m\u001b[0m_get_listlike_indexer\u001b[0m\u001b[1;33m(\u001b[0m\u001b[0mkey\u001b[0m\u001b[1;33m,\u001b[0m \u001b[0maxis\u001b[0m\u001b[1;33m=\u001b[0m\u001b[1;36m1\u001b[0m\u001b[1;33m,\u001b[0m \u001b[0mraise_missing\u001b[0m\u001b[1;33m=\u001b[0m\u001b[1;32mTrue\u001b[0m\u001b[1;33m)\u001b[0m\u001b[1;33m[\u001b[0m\u001b[1;36m1\u001b[0m\u001b[1;33m]\u001b[0m\u001b[1;33m\u001b[0m\u001b[1;33m\u001b[0m\u001b[0m\n\u001b[0m\u001b[0;32m   3031\u001b[0m \u001b[1;33m\u001b[0m\u001b[0m\n\u001b[0;32m   3032\u001b[0m         \u001b[1;31m# take() does not accept boolean indexers\u001b[0m\u001b[1;33m\u001b[0m\u001b[1;33m\u001b[0m\u001b[1;33m\u001b[0m\u001b[0m\n",
      "\u001b[1;32m~\\AppData\\Roaming\\Python\\Python37\\site-packages\\pandas\\core\\indexing.py\u001b[0m in \u001b[0;36m_get_listlike_indexer\u001b[1;34m(self, key, axis, raise_missing)\u001b[0m\n\u001b[0;32m   1264\u001b[0m             \u001b[0mkeyarr\u001b[0m\u001b[1;33m,\u001b[0m \u001b[0mindexer\u001b[0m\u001b[1;33m,\u001b[0m \u001b[0mnew_indexer\u001b[0m \u001b[1;33m=\u001b[0m \u001b[0max\u001b[0m\u001b[1;33m.\u001b[0m\u001b[0m_reindex_non_unique\u001b[0m\u001b[1;33m(\u001b[0m\u001b[0mkeyarr\u001b[0m\u001b[1;33m)\u001b[0m\u001b[1;33m\u001b[0m\u001b[1;33m\u001b[0m\u001b[0m\n\u001b[0;32m   1265\u001b[0m \u001b[1;33m\u001b[0m\u001b[0m\n\u001b[1;32m-> 1266\u001b[1;33m         \u001b[0mself\u001b[0m\u001b[1;33m.\u001b[0m\u001b[0m_validate_read_indexer\u001b[0m\u001b[1;33m(\u001b[0m\u001b[0mkeyarr\u001b[0m\u001b[1;33m,\u001b[0m \u001b[0mindexer\u001b[0m\u001b[1;33m,\u001b[0m \u001b[0maxis\u001b[0m\u001b[1;33m,\u001b[0m \u001b[0mraise_missing\u001b[0m\u001b[1;33m=\u001b[0m\u001b[0mraise_missing\u001b[0m\u001b[1;33m)\u001b[0m\u001b[1;33m\u001b[0m\u001b[1;33m\u001b[0m\u001b[0m\n\u001b[0m\u001b[0;32m   1267\u001b[0m         \u001b[1;32mreturn\u001b[0m \u001b[0mkeyarr\u001b[0m\u001b[1;33m,\u001b[0m \u001b[0mindexer\u001b[0m\u001b[1;33m\u001b[0m\u001b[1;33m\u001b[0m\u001b[0m\n\u001b[0;32m   1268\u001b[0m \u001b[1;33m\u001b[0m\u001b[0m\n",
      "\u001b[1;32m~\\AppData\\Roaming\\Python\\Python37\\site-packages\\pandas\\core\\indexing.py\u001b[0m in \u001b[0;36m_validate_read_indexer\u001b[1;34m(self, key, indexer, axis, raise_missing)\u001b[0m\n\u001b[0;32m   1314\u001b[0m             \u001b[1;32mif\u001b[0m \u001b[0mraise_missing\u001b[0m\u001b[1;33m:\u001b[0m\u001b[1;33m\u001b[0m\u001b[1;33m\u001b[0m\u001b[0m\n\u001b[0;32m   1315\u001b[0m                 \u001b[0mnot_found\u001b[0m \u001b[1;33m=\u001b[0m \u001b[0mlist\u001b[0m\u001b[1;33m(\u001b[0m\u001b[0mset\u001b[0m\u001b[1;33m(\u001b[0m\u001b[0mkey\u001b[0m\u001b[1;33m)\u001b[0m \u001b[1;33m-\u001b[0m \u001b[0mset\u001b[0m\u001b[1;33m(\u001b[0m\u001b[0max\u001b[0m\u001b[1;33m)\u001b[0m\u001b[1;33m)\u001b[0m\u001b[1;33m\u001b[0m\u001b[1;33m\u001b[0m\u001b[0m\n\u001b[1;32m-> 1316\u001b[1;33m                 \u001b[1;32mraise\u001b[0m \u001b[0mKeyError\u001b[0m\u001b[1;33m(\u001b[0m\u001b[1;34mf\"{not_found} not in index\"\u001b[0m\u001b[1;33m)\u001b[0m\u001b[1;33m\u001b[0m\u001b[1;33m\u001b[0m\u001b[0m\n\u001b[0m\u001b[0;32m   1317\u001b[0m \u001b[1;33m\u001b[0m\u001b[0m\n\u001b[0;32m   1318\u001b[0m             \u001b[0mnot_found\u001b[0m \u001b[1;33m=\u001b[0m \u001b[0mkey\u001b[0m\u001b[1;33m[\u001b[0m\u001b[0mmissing_mask\u001b[0m\u001b[1;33m]\u001b[0m\u001b[1;33m\u001b[0m\u001b[1;33m\u001b[0m\u001b[0m\n",
      "\u001b[1;31mKeyError\u001b[0m: \"['val_precision_at_recall_9', 'precision_at_recall_9'] not in index\""
     ]
    }
   ],
   "source": [
    "cols_1 = ['loss', 'val_loss', 'recall', 'val_recall', 'precision_at_recall_9', 'val_precision_at_recall_9' ]\n",
    "pd.DataFrame(history.history)[cols_1].plot(figsize=(16,10))\n",
    "plt.grid(True)\n",
    "# plt.gca().set_ylim(0,1)\n",
    "plt.show()"
   ]
  },
  {
   "cell_type": "code",
   "execution_count": 30,
   "metadata": {},
   "outputs": [
    {
     "name": "stdout",
     "output_type": "stream",
     "text": [
      "63/63 [==============================] - 1s 23ms/step - loss: 0.0925 - auc: 0.8844\n",
      "Test Loss: 0.09254556894302368\n",
      "Test Accuracy: 0.884442925453186\n"
     ]
    }
   ],
   "source": [
    "test_loss, test_acc = model.evaluate(test_data)\n",
    "\n",
    "print('Test Loss:', test_loss)\n",
    "print('Test Accuracy:', test_acc)"
   ]
  },
  {
   "cell_type": "code",
   "execution_count": 13,
   "metadata": {},
   "outputs": [
    {
     "data": {
      "text/plain": [
       "(0.0, 0.14245018772780896)"
      ]
     },
     "execution_count": 13,
     "metadata": {},
     "output_type": "execute_result"
    },
    {
     "data": {
      "image/png": "[encoded data removed]",
      "text/plain": [
       "<Figure size 1152x576 with 2 Axes>"
      ]
     },
     "metadata": {
      "needs_background": "light"
     },
     "output_type": "display_data"
    }
   ],
   "source": [
    "COUNT = 100000\n",
    "SPLIT_RATIO = .8\n",
    "BATCH_SIZE = 32\n",
    "SHUFFLE_BUFFER_SIZE = 128\n",
    "\n",
    "ds_title =  tf.data.Dataset.from_tensor_slices((df['Title'][:COUNT], y_tags[:COUNT]))\n",
    "ds_title_train, ds_title_valid = ds_title.take(ds_title.cardinality().numpy()*SPLIT_RATIO), ds_title.skip(ds_title.cardinality().numpy()*SPLIT_RATIO)\n",
    "title_train_data = ds_title_train.shuffle(SHUFFLE_BUFFER_SIZE).batch(BATCH_SIZE).prefetch(buffer_size=tf.data.experimental.AUTOTUNE)\n",
    "title_valid_data = ds_title_valid.batch(BATCH_SIZE).prefetch(buffer_size=tf.data.experimental.AUTOTUNE)"
   ]
  },
  {
   "cell_type": "code",
   "execution_count": null,
   "metadata": {},
   "outputs": [],
   "source": [
    "VOCAB_SIZE = 1000\n",
    "SEQUENCE_LENGTH = 96\n",
    "# NGRAMS=(1,2)\n",
    "\n",
    "vectorize_layer = TextVectorization(\n",
    "#     standardize=custom_standardization,\n",
    "    max_tokens=VOCAB_SIZE,\n",
    "    output_mode='int',\n",
    "#     ngrams=NGRAMS,\n",
    "#     output_sequence_length=SEQUENCE_LENGTH,\n",
    "    )\n",
    "\n",
    "text_ds = train_data.map(lambda x, y: x)\n",
    "vectorize_layer.adapt(text_ds)"
   ]
  },
  {
   "cell_type": "code",
   "execution_count": null,
   "metadata": {},
   "outputs": [],
   "source": [
    "EMBEDDING_DIM = 48\n",
    "DROPOUT = .4\n",
    "LABEL_SMOOTHING =0\n",
    "\n",
    "model = tf.keras.Sequential([\n",
    "    vectorize_layer,\n",
    "    tf.keras.layers.Embedding(\n",
    "        input_dim=VOCAB_SIZE,\n",
    "        output_dim=EMBEDDING_DIM,\n",
    "#         mask_zero=True,\n",
    "        name=\"embedding\"),\n",
    "#     tf.keras.layers.GlobalAveragePooling1D(),\n",
    "    tf.keras.layers.Bidirectional(tf.keras.layers.LSTM(\n",
    "        EMBEDDING_DIM,\n",
    "#         recurrent_dropout=0.1,\n",
    "    )),\n",
    "    tf.keras.layers.Dense(EMBEDDING_DIM,\n",
    "            activation='relu',\n",
    "                ),\n",
    "#     tf.keras.layers.Dropout(DROPOUT),\n",
    "#     tf.keras.layers.Dense(EMBEDDING_DIM, activation='relu', \n",
    "#                 ),\n",
    "    tf.keras.layers.Dropout(DROPOUT),\n",
    "    tf.keras.layers.Dense(51, activation='sigmoid'),\n",
    "])\n",
    "\n",
    "metrics = [\n",
    "    tf.keras.metrics.PrecisionAtRecall(0.4, name='patr'),\n",
    "    tf.keras.metrics.Recall(name='recall'),\n",
    "    tf.keras.metrics.AUC(name='auc'),\n",
    "    tf.keras.metrics.FalsePositives(name='fp'),\n",
    "#     keras.metrics.TrueNegatives(name='tn'),\n",
    "    tf.keras.metrics.FalseNegatives(name='fn'), \n",
    "    tf.keras.metrics.TruePositives(name='tp'),\n",
    "    tf.keras.metrics.BinaryAccuracy(name='accuracy'),\n",
    "    tf.keras.metrics.Precision(name='precision'),\n",
    "#     keras.metrics.AUC(name='prc', curve='PR'), # precision-recall curve\n",
    "]\n",
    "\n",
    "optimizer = tf.keras.optimizers.Adamax(learning_rate=0.02)\n",
    "model.compile(\n",
    "    optimizer=optimizer,\n",
    "    loss=tf.keras.losses.BinaryCrossentropy(label_smoothing=LABEL_SMOOTHING),\n",
    "    metrics=metrics,\n",
    ")\n",
    "# model.summary()"
   ]
  },
  {
   "cell_type": "code",
   "execution_count": null,
   "metadata": {},
   "outputs": [],
   "source": [
    "history = model.fit(\n",
    "    train_data,\n",
    "    epochs=9,\n",
    "    validation_data=test_data,\n",
    ")"
   ]
  },
  {
   "cell_type": "markdown",
   "metadata": {},
   "source": [
    "# Vector concat"
   ]
  },
  {
   "cell_type": "code",
   "execution_count": null,
   "metadata": {},
   "outputs": [],
   "source": [
    "LABEL_SMOOTHING = 0\n",
    "optimizer = keras.optimizers.Adam(learning_rate=0.003)\n",
    "loss=tf.keras.losses.BinaryCrossentropy(label_smoothing=LABEL_SMOOTHING)"
   ]
  },
  {
   "cell_type": "code",
   "execution_count": null,
   "metadata": {},
   "outputs": [],
   "source": [
    "COUNT=100000\n",
    "SPLIT_RATIO = .8\n",
    "BATCH_SIZE = 16\n",
    "SHUFFLE_BUFFER_SIZE = 128\n",
    "# ds_concat =  tf.data.Dataset.from_tensor_slices(((X_title[:COUNT].toarray(), X_body[:COUNT].toarray()), y_tags[:COUNT]))\n",
    "ds_concat =  tf.data.Dataset.from_tensor_slices(((df_title[:COUNT], df_body[:COUNT].toarray()), y_tags[:COUNT]))\n",
    "ds_concat_train, ds_concat_valid = ds_concat.take(ds_concat.cardinality().numpy()*SPLIT_RATIO), ds_concat.skip(ds_concat.cardinality().numpy()*SPLIT_RATIO)\n",
    "concat_train_data = ds_concat_train.shuffle(SHUFFLE_BUFFER_SIZE).batch(BATCH_SIZE).prefetch(buffer_size=tf.data.experimental.AUTOTUNE)\n",
    "concat_valid_data = ds_concat_valid.batch(BATCH_SIZE).prefetch(buffer_size=tf.data.experimental.AUTOTUNE)"
   ]
  },
  {
   "cell_type": "code",
   "execution_count": null,
   "metadata": {},
   "outputs": [],
   "source": [
    "DIM_TITLE = 24\n",
    "# DROPOUT_TITLE = .25\n",
    "DROPOUT_TITLE = .20\n",
    "DIM_BODY = 48\n",
    "# DROPOUT_BODY = .4\n",
    "DROPOUT_BODY = .35\n",
    "DROPOUT_CONCAT = .25\n",
    "\n",
    "input_title = tf.keras.layers.Input(shape=(1000,), name=\"title_input\")\n",
    "hidden_title_1 = tf.keras.layers.Dense(DIM_TITLE, activation='relu')(input_title)\n",
    "dropout_title_1 = tf.keras.layers.Dropout(DROPOUT_TITLE)(hidden_title_1)\n",
    "# hidden_title_2 = tf.keras.layers.Dense(DIM_TITLE, activation='relu')(dropout_title_1)\n",
    "# dropout_title_2 = tf.keras.layers.Dropout(DROPOUT)(hidden_title_2)\n",
    "\n",
    "input_body = tf.keras.layers.Input(shape=(4000,), name=\"body_input\")\n",
    "hidden_body_1 = tf.keras.layers.Dense(DIM_BODY, activation='relu')(input_body)\n",
    "dropout_body_1 = tf.keras.layers.Dropout(DROPOUT_BODY)(hidden_body_1)\n",
    "# hidden_body_2 = tf.keras.layers.Dense(DIM_BODY, activation='relu')(dropout_body_1)\n",
    "# dropout_body_2 = tf.keras.layers.Dropout(DROPOUT)(hidden_body_2)\n",
    "\n",
    "# concat = tf.keras.layers.concatenate([dropout_title_2, dropout_body_2])\n",
    "concat = tf.keras.layers.concatenate([dropout_title_1, dropout_body_1])\n",
    "hidden_concat = tf.keras.layers.Dense(48, activation='relu')(concat)\n",
    "dropout_concat = tf.keras.layers.Dropout(DROPOUT_CONCAT)(hidden_concat)\n",
    "\n",
    "# output = tf.keras.layers.Dense(51, activation='sigmoid')(concat)\n",
    "output = tf.keras.layers.Dense(51, activation='sigmoid')(dropout_concat)\n",
    "\n",
    "model = tf.keras.Model(inputs=[input_title, input_body], outputs=[output])\n",
    "\n",
    "model.compile(\n",
    "    optimizer=optimizer,\n",
    "    loss=tf.keras.losses.BinaryCrossentropy(label_smoothing=LABEL_SMOOTHING),\n",
    "    metrics=metrics,\n",
    ")\n",
    "model.summary()"
   ]
  },
  {
   "cell_type": "code",
   "execution_count": null,
   "metadata": {},
   "outputs": [],
   "source": [
    "tb_callback = keras.callbacks.TensorBoard(tb_logdir())\n",
    "history = model.fit(\n",
    "    concat_train_data,\n",
    "    epochs=7,\n",
    "    validation_data=concat_valid_data,\n",
    "#     validation_steps=3,\n",
    "#     callbacks=[tb_callback],\n",
    ")"
   ]
  },
  {
   "cell_type": "code",
   "execution_count": null,
   "metadata": {},
   "outputs": [],
   "source": [
    "cols_1 = ['loss', 'val_loss', 'recall', 'val_recall', 'patr', 'val_patr' ]\n",
    "pd.DataFrame(history.history)[cols_1].plot(figsize=(16,10))\n",
    "plt.grid(True)\n",
    "plt.gca().set_ylim(0,1)\n",
    "plt.show()"
   ]
  },
  {
   "cell_type": "code",
   "execution_count": null,
   "metadata": {},
   "outputs": [],
   "source": [
    "tf.keras.utils.plot_model(model, show_shapes=True)"
   ]
  }
 ],
 "metadata": {
  "kernelspec": {
   "display_name": "Python 3",
   "language": "python",
   "name": "python3"
  },
  "language_info": {
   "codemirror_mode": {
    "name": "ipython",
    "version": 3
   },
   "file_extension": ".py",
   "mimetype": "text/x-python",
   "name": "python",
   "nbconvert_exporter": "python",
   "pygments_lexer": "ipython3",
   "version": "3.7.9"
  }
 },
 "nbformat": 4,
 "nbformat_minor": 4
}
