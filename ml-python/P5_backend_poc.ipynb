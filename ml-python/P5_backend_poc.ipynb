{
 "cells": [
  {
   "cell_type": "code",
   "execution_count": 1,
   "metadata": {},
   "outputs": [],
   "source": [
    "import os\n",
    "from joblib import dump, load"
   ]
  },
  {
   "cell_type": "code",
   "execution_count": 2,
   "metadata": {},
   "outputs": [],
   "source": [
    "model_path = \"..\\\\data\\\\stackoverflow\\\\models\\\\\""
   ]
  },
  {
   "cell_type": "code",
   "execution_count": 3,
   "metadata": {},
   "outputs": [],
   "source": [
    "title_models = load(model_path + 'top50_title_RidgeC_baseline.joblib')\n",
    "body_models = load(model_path + 'top50_body_RidgeC_baseline.joblib')\n",
    "title_vectorizer = load(model_path + 'top50_title_vectorizer.joblib')\n",
    "body_vectorizer = load(model_path + 'top50_body_vectorizer.joblib')"
   ]
  },
  {
   "cell_type": "code",
   "execution_count": 4,
   "metadata": {},
   "outputs": [
    {
     "name": "stdout",
     "output_type": "stream",
     "text": [
      "===========\n",
      "As title: \n",
      "+  javascript\n",
      "----------\n",
      "As body: \n",
      "+  javascript\n"
     ]
    }
   ],
   "source": [
    "txt = \"is putting the function declaration beside the return statement causing the function not to hoist\"\n",
    "tv_title = title_vectorizer.transform([txt])\n",
    "tv_body = body_vectorizer.transform([txt])\n",
    "\n",
    "print(\"===========\")\n",
    "print(\"As title: \")\n",
    "for k in title_models.keys():\n",
    "    if(title_models[k].predict(tv_title)>0):\n",
    "        print(\"+ \", k)\n",
    "print(\"----------\")\n",
    "print(\"As body: \")\n",
    "for k in body_models.keys():\n",
    "    if(body_models[k].predict(tv_body)>0):\n",
    "        print(\"+ \", k)\n"
   ]
  },
  {
   "cell_type": "code",
   "execution_count": null,
   "metadata": {},
   "outputs": [],
   "source": []
  }
 ],
 "metadata": {
  "kernelspec": {
   "display_name": "Python 3",
   "language": "python",
   "name": "python3"
  },
  "language_info": {
   "codemirror_mode": {
    "name": "ipython",
    "version": 3
   },
   "file_extension": ".py",
   "mimetype": "text/x-python",
   "name": "python",
   "nbconvert_exporter": "python",
   "pygments_lexer": "ipython3",
   "version": "3.7.9"
  }
 },
 "nbformat": 4,
 "nbformat_minor": 4
}
