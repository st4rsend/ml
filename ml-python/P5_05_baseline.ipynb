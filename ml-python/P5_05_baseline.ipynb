{
 "cells": [
  {
   "cell_type": "markdown",
   "metadata": {},
   "source": [
    "# Baseline\n",
    "- [Prepare_ys](#Prepare-ys)</BR>\n",
    "- [Body](#Body)</BR>\n",
    "- [Title](#Title)</BR>\n",
    "- [Evals](#Evals)</BR>"
   ]
  },
  {
   "cell_type": "code",
   "execution_count": 1,
   "metadata": {},
   "outputs": [],
   "source": [
    "import importlib\n",
    "import os\n",
    "from joblib import dump, load\n",
    "\n",
    "import numpy as np\n",
    "import pandas as pd\n",
    "\n",
    "import ml.explo as mlexplo\n",
    "import ml.prepare as mlprepare\n",
    "\n",
    "from sklearn.model_selection import train_test_split\n",
    "from sklearn.feature_extraction.text import TfidfVectorizer\n",
    "from sklearn.linear_model import RidgeClassifier\n",
    "from sklearn.model_selection import GridSearchCV\n",
    "\n",
    "from sklearn import metrics\n",
    "\n",
    "data_path = \"..\\\\data\\\\stackoverflow\\\\\"\n",
    "model_path = data_path + \"models\\\\\"\n",
    "np.set_printoptions(precision=2, suppress=True)\n",
    "pd.options.display.float_format = \"{:,.2f}\".format"
   ]
  },
  {
   "cell_type": "markdown",
   "metadata": {},
   "source": [
    "# Prepare ys\n",
    "- [Toc](#Baseline)"
   ]
  },
  {
   "cell_type": "code",
   "execution_count": 2,
   "metadata": {},
   "outputs": [],
   "source": [
    "def prepare_baseline_ys(df, tags, col):\n",
    "    ret =  dict({})\n",
    "    for tag in tags.index:\n",
    "        sr_tag = df[col].copy(deep=True)\n",
    "        sr_tag = sr_tag.apply(lambda x: 1 if tag in x else 0)\n",
    "        ret[tag] = sr_tag\n",
    "    return ret\n",
    "\n",
    "init_y = False\n",
    "if init_y:\n",
    "    df_top = pd.read_pickle(data_path + 'Top_Tags.pkl')\n",
    "    df_top_test = pd.read_pickle(data_path + 'Top_Tags_test.pkl')\n",
    "    \n",
    "    tags_10 = mlprepare.prepare_multi_label(df_top,'Tags_T10')\n",
    "    y_dict_10 = prepare_baseline_ys(df_top, tags_10, 'Tags_T10')\n",
    "    dump(y_dict_10, data_path + 'baseline_y_top10.joblib')\n",
    "    tags_10_test = mlprepare.prepare_multi_label(df_top_test,'Tags_T10')\n",
    "    y_dict_10_test = prepare_baseline_ys(df_top_test, tags_10_test, 'Tags_T10')\n",
    "    dump(y_dict_10_test, data_path + 'baseline_y_top10_test.joblib')\n",
    "\n",
    "    tags_50 = mlprepare.prepare_multi_label(df_top,'Tags_T50')\n",
    "    y_dict_50 = prepare_baseline_ys(df_top, tags_50, 'Tags_T50')\n",
    "    dump(y_dict_50, data_path + 'baseline_y_top50.joblib')\n",
    "    tags_50_test = mlprepare.prepare_multi_label(df_top_test,'Tags_T50')\n",
    "    y_dict_50_test = prepare_baseline_ys(df_top_test, tags_50_test, 'Tags_T50')\n",
    "    dump(y_dict_50_test, data_path + 'baseline_y_top50_test.joblib')\n",
    "\n",
    "    tags_100 = mlprepare.prepare_multi_label(df_top,'Tags_T100')\n",
    "    y_dict_100 = prepare_baseline_ys(df_top, tags_100, 'Tags_T100')\n",
    "    dump(y_dict_100, data_path + 'baseline_y_top100.joblib')\n",
    "    tags_100_test = mlprepare.prepare_multi_label(df_top_test,'Tags_T100')\n",
    "    y_dict_100_test = prepare_baseline_ys(df_top_test, tags_100_test, 'Tags_T100')\n",
    "    dump(y_dict_100_test, data_path + 'baseline_y_top100_test.joblib')"
   ]
  },
  {
   "cell_type": "code",
   "execution_count": 3,
   "metadata": {},
   "outputs": [],
   "source": [
    "y_dict = load(data_path + 'baseline_y_top50.joblib')\n",
    "y_dict_test = load(data_path + 'baseline_y_top50_test.joblib')\n",
    "\n",
    "df_stem = pd.read_pickle(data_path + 'nltk_stop_stem.pkl')\n",
    "df_stem_test = pd.read_pickle(data_path + 'nltk_stop_stem_test.pkl')\n",
    "\n",
    "title_vectorizer = load(model_path + 'stem_title_vectorizer.joblib')\n",
    "body_vectorizer = load(model_path + 'stem_body_vectorizer_11.joblib')\n",
    "\n",
    "X_title = title_vectorizer.transform(df_stem['Title'].apply(lambda row: ' '.join(row)))\n",
    "X_title_test = title_vectorizer.transform(df_stem_test['Title'].apply(lambda row: ' '.join(row)))\n",
    "\n",
    "X_body = body_vectorizer.transform(df_stem['Body'].apply(lambda row: ' '.join(row)))\n",
    "X_body_test = body_vectorizer.transform(df_stem_test['Body'].apply(lambda row: ' '.join(row)))\n"
   ]
  },
  {
   "cell_type": "code",
   "execution_count": 4,
   "metadata": {
    "scrolled": true,
    "tags": []
   },
   "outputs": [
    {
     "data": {
      "text/plain": [
       "dict_keys(['python', 'other', 'javascript', 'r', 'pandas', 'c++', 'java', 'c#', 'python-3.x', 'sql', 'dataframe', 'reactjs', 'html', 'arrays', 'regex', 'c', 'css', 'php', 'swift', 'typescript', 'node.js', 'android', 'amazon-web-services', 'numpy', 'mysql', 'jquery', 'swiftui', 'postgresql', 'json', 'django', 'vue.js', 'list', 'ios', 'string', 'dplyr', 'google-sheets', 'angular', 'mongodb', 'sql-server', 'ggplot2', 'bash', 'excel', 'powershell', 'wordpress', 'google-apps-script', 'rust', 'git', 'algorithm', 'matplotlib', 'flutter', 'firebase'])"
      ]
     },
     "execution_count": 4,
     "metadata": {},
     "output_type": "execute_result"
    }
   ],
   "source": [
    "y_dict.keys()"
   ]
  },
  {
   "cell_type": "code",
   "execution_count": 74,
   "metadata": {},
   "outputs": [
    {
     "data": {
      "text/html": [
       "<div>\n",
       "<style scoped>\n",
       "    .dataframe tbody tr th:only-of-type {\n",
       "        vertical-align: middle;\n",
       "    }\n",
       "\n",
       "    .dataframe tbody tr th {\n",
       "        vertical-align: top;\n",
       "    }\n",
       "\n",
       "    .dataframe thead th {\n",
       "        text-align: right;\n",
       "    }\n",
       "</style>\n",
       "<table border=\"1\" class=\"dataframe\">\n",
       "  <thead>\n",
       "    <tr style=\"text-align: right;\">\n",
       "      <th></th>\n",
       "      <th>Tags_T100</th>\n",
       "      <th>Tags_T50</th>\n",
       "      <th>Tags_T10</th>\n",
       "    </tr>\n",
       "  </thead>\n",
       "  <tbody>\n",
       "    <tr>\n",
       "      <th>0</th>\n",
       "      <td>[python, pandas, dataframe]</td>\n",
       "      <td>[python, pandas, dataframe]</td>\n",
       "      <td>[python, pandas, dataframe]</td>\n",
       "    </tr>\n",
       "    <tr>\n",
       "      <th>1</th>\n",
       "      <td>[scala, generics]</td>\n",
       "      <td>[other]</td>\n",
       "      <td>[other]</td>\n",
       "    </tr>\n",
       "    <tr>\n",
       "      <th>2</th>\n",
       "      <td>[python, loops]</td>\n",
       "      <td>[python]</td>\n",
       "      <td>[python]</td>\n",
       "    </tr>\n",
       "    <tr>\n",
       "      <th>3</th>\n",
       "      <td>[r, for-loop]</td>\n",
       "      <td>[r]</td>\n",
       "      <td>[r]</td>\n",
       "    </tr>\n",
       "    <tr>\n",
       "      <th>4</th>\n",
       "      <td>[c#, regex]</td>\n",
       "      <td>[c#, regex]</td>\n",
       "      <td>[c#]</td>\n",
       "    </tr>\n",
       "    <tr>\n",
       "      <th>...</th>\n",
       "      <td>...</td>\n",
       "      <td>...</td>\n",
       "      <td>...</td>\n",
       "    </tr>\n",
       "    <tr>\n",
       "      <th>96415</th>\n",
       "      <td>[php, web-scraping]</td>\n",
       "      <td>[php]</td>\n",
       "      <td>[other]</td>\n",
       "    </tr>\n",
       "    <tr>\n",
       "      <th>96416</th>\n",
       "      <td>[r]</td>\n",
       "      <td>[r]</td>\n",
       "      <td>[r]</td>\n",
       "    </tr>\n",
       "    <tr>\n",
       "      <th>96417</th>\n",
       "      <td>[javascript, reactjs]</td>\n",
       "      <td>[javascript, reactjs]</td>\n",
       "      <td>[javascript]</td>\n",
       "    </tr>\n",
       "    <tr>\n",
       "      <th>96418</th>\n",
       "      <td>[arrays, c]</td>\n",
       "      <td>[arrays, c]</td>\n",
       "      <td>[other]</td>\n",
       "    </tr>\n",
       "    <tr>\n",
       "      <th>96419</th>\n",
       "      <td>[r]</td>\n",
       "      <td>[r]</td>\n",
       "      <td>[r]</td>\n",
       "    </tr>\n",
       "  </tbody>\n",
       "</table>\n",
       "<p>96420 rows × 3 columns</p>\n",
       "</div>"
      ],
      "text/plain": [
       "                         Tags_T100                     Tags_T50  \\\n",
       "0      [python, pandas, dataframe]  [python, pandas, dataframe]   \n",
       "1                [scala, generics]                      [other]   \n",
       "2                  [python, loops]                     [python]   \n",
       "3                    [r, for-loop]                          [r]   \n",
       "4                      [c#, regex]                  [c#, regex]   \n",
       "...                            ...                          ...   \n",
       "96415          [php, web-scraping]                        [php]   \n",
       "96416                          [r]                          [r]   \n",
       "96417        [javascript, reactjs]        [javascript, reactjs]   \n",
       "96418                  [arrays, c]                  [arrays, c]   \n",
       "96419                          [r]                          [r]   \n",
       "\n",
       "                          Tags_T10  \n",
       "0      [python, pandas, dataframe]  \n",
       "1                          [other]  \n",
       "2                         [python]  \n",
       "3                              [r]  \n",
       "4                             [c#]  \n",
       "...                            ...  \n",
       "96415                      [other]  \n",
       "96416                          [r]  \n",
       "96417                 [javascript]  \n",
       "96418                      [other]  \n",
       "96419                          [r]  \n",
       "\n",
       "[96420 rows x 3 columns]"
      ]
     },
     "execution_count": 74,
     "metadata": {},
     "output_type": "execute_result"
    }
   ],
   "source": [
    "df_top"
   ]
  },
  {
   "cell_type": "code",
   "execution_count": 7,
   "metadata": {},
   "outputs": [
    {
     "name": "stdout",
     "output_type": "stream",
     "text": [
      "Reverse :  [array(['df', 'array'], dtype='<U22')]\n",
      "Title_model: [0]\n",
      "Body_model: [0]\n"
     ]
    }
   ],
   "source": []
  },
  {
   "cell_type": "code",
   "execution_count": null,
   "metadata": {},
   "outputs": [],
   "source": []
  },
  {
   "cell_type": "code",
   "execution_count": 46,
   "metadata": {},
   "outputs": [
    {
     "data": {
      "text/plain": [
       "RandomForestClassifier(n_jobs=6)"
      ]
     },
     "execution_count": 46,
     "metadata": {},
     "output_type": "execute_result"
    }
   ],
   "source": [
    "from sklearn.ensemble import RandomForestClassifier\n",
    "X_train, X_test, y_train, y_test = train_test_split(X_body, y_dict['python'], \n",
    "#                                                         random_state=42,\n",
    "                                                        test_size=0.2, shuffle=True)\n",
    "\n",
    "clf = RandomForestClassifier(n_jobs=6)\n",
    "clf.fit(X_train, y_train)"
   ]
  },
  {
   "cell_type": "code",
   "execution_count": 47,
   "metadata": {},
   "outputs": [],
   "source": [
    "from sklearn.metrics import roc_auc_score, roc_curve, auc\n",
    "score = clf.predict_proba(X_test)\n",
    "fpr, tpr, th = roc_curve(y_test, score[:,1])"
   ]
  },
  {
   "cell_type": "code",
   "execution_count": 48,
   "metadata": {},
   "outputs": [
    {
     "data": {
      "image/png": "[encoded data removed]",
      "text/plain": [
       "<Figure size 432x432 with 1 Axes>"
      ]
     },
     "metadata": {
      "needs_background": "light"
     },
     "output_type": "display_data"
    }
   ],
   "source": [
    "import matplotlib.pyplot as plt\n",
    "fig, ax = plt.subplots(1, 1, figsize=(6,6))\n",
    "ax.plot([0, 1], [0, 1], 'k--')\n",
    "aucf = auc(fpr, tpr)\n",
    "ax.plot(fpr, tpr, label='auc=%1.5f' % aucf)\n",
    "ax.set_title('Courbe ROC - classifieur de X')\n",
    "ax.legend();"
   ]
  },
  {
   "cell_type": "code",
   "execution_count": 10,
   "metadata": {},
   "outputs": [
    {
     "name": "stdout",
     "output_type": "stream",
     "text": [
      "RidgeClassifier(alpha=0.6500000000000001, max_iter=25, solver='sag')\n",
      "0.8550611906243518\n",
      "RidgeClassifier(alpha=0.9500000000000001, max_iter=25, solver='sag')\n",
      "0.8600394109105994\n",
      "RidgeClassifier(alpha=0.45, max_iter=25, solver='sag')\n",
      "0.8614395353661066\n",
      "RidgeClassifier(alpha=0.05, max_iter=25, solver='sag')\n",
      "0.8622173822858328\n",
      "RidgeClassifier(alpha=0.05, max_iter=25, solver='sag')\n",
      "0.8618025305953122\n",
      "RidgeClassifier(alpha=0.15000000000000002, max_iter=25, solver='sag')\n",
      "0.8627359468989836\n",
      "RidgeClassifier(alpha=0.05, max_iter=25, solver='sag')\n",
      "0.8636693632026551\n",
      "RidgeClassifier(alpha=0.05, max_iter=25, solver='sag')\n",
      "0.8636693632026551\n",
      "RidgeClassifier(alpha=0.05, max_iter=25, solver='sag')\n",
      "0.8636693632026551\n",
      "RidgeClassifier(alpha=0.15000000000000002, max_iter=25, solver='sag')\n",
      "0.8635137938187099\n"
     ]
    }
   ],
   "source": [
    "params = {\n",
    "    'alpha': np.arange(10)*.1+.05,\n",
    "    'max_iter': [25],\n",
    "    'solver': ['sag']\n",
    "\n",
    "    }\n",
    "\n",
    "gs_clf = GridSearchCV(\n",
    "    RidgeClassifier(),\n",
    "    params,\n",
    "    n_jobs=6)\n",
    "\n",
    "for count in (np.arange(10)+1)*5000:\n",
    "    gs_clf.fit(X_train[:count], y_train[:count])\n",
    "    print(gs_clf.best_estimator_)\n",
    "    print(gs_clf.best_estimator_.score(X_test, y_test))"
   ]
  },
  {
   "cell_type": "code",
   "execution_count": 11,
   "metadata": {},
   "outputs": [
    {
     "data": {
      "text/plain": [
       "RidgeClassifier(alpha=0.1, max_iter=20, solver='sag')"
      ]
     },
     "execution_count": 11,
     "metadata": {},
     "output_type": "execute_result"
    }
   ],
   "source": [
    "X_train, X_test, y_train, y_test = train_test_split(X_body, y_dict['python'], random_state=42, test_size=0.2, shuffle=True)\n",
    "params = {\n",
    "    'alpha': np.arange(10)*.1+.1,\n",
    "    'max_iter': [20],\n",
    "    'solver': ['sag']\n",
    "    }\n",
    "clf = GridSearchCV(\n",
    "    RidgeClassifier(),\n",
    "    params,\n",
    "    n_jobs=6)\n",
    "clf.fit(X_train, y_train)\n",
    "clf.best_estimator_"
   ]
  },
  {
   "cell_type": "code",
   "execution_count": 12,
   "metadata": {},
   "outputs": [
    {
     "data": {
      "text/plain": [
       "array([0, 1], dtype=int64)"
      ]
     },
     "execution_count": 12,
     "metadata": {},
     "output_type": "execute_result"
    }
   ],
   "source": [
    "clf.classes_"
   ]
  },
  {
   "cell_type": "code",
   "execution_count": 13,
   "metadata": {},
   "outputs": [
    {
     "data": {
      "text/plain": [
       "0.8614395353661066"
      ]
     },
     "execution_count": 13,
     "metadata": {},
     "output_type": "execute_result"
    }
   ],
   "source": [
    "clf.best_estimator_.score(X_test, y_test)"
   ]
  },
  {
   "cell_type": "code",
   "execution_count": 14,
   "metadata": {},
   "outputs": [
    {
     "data": {
      "text/plain": [
       "['..\\\\data\\\\stackoverflow\\\\baseline_python.joblib']"
      ]
     },
     "execution_count": 14,
     "metadata": {},
     "output_type": "execute_result"
    }
   ],
   "source": [
    "dump(clf.best_estimator_, data_path + 'baseline_python.joblib')"
   ]
  },
  {
   "cell_type": "markdown",
   "metadata": {},
   "source": [
    "# Body\n",
    "- [Toc](#Baseline)"
   ]
  },
  {
   "cell_type": "code",
   "execution_count": 49,
   "metadata": {
    "scrolled": true,
    "tags": []
   },
   "outputs": [
    {
     "name": "stdout",
     "output_type": "stream",
     "text": [
      "classifying: python\n",
      "GS best: RidgeClassifier(alpha=0.7000000000000001, max_iter=25)\n",
      "clf score:  0.877929890064302\n",
      "F1:   0.605, precision: 0.802, recall: 0.485\n",
      "confusion matrix:\n",
      "[[15130   444]\n",
      " [ 1910  1800]]\n",
      "=========================\n",
      "classifying: other\n",
      "GS best: RidgeClassifier(alpha=0.7000000000000001, max_iter=25)\n",
      "clf score:  0.8906347230864966\n",
      "F1:   0.396, precision: 0.763, recall: 0.268\n",
      "confusion matrix:\n",
      "[[16483   215]\n",
      " [ 1894   692]]\n",
      "=========================\n",
      "classifying: javascript\n",
      "GS best: RidgeClassifier(max_iter=25)\n",
      "clf score:  0.9116365899191039\n",
      "F1:   0.453, precision: 0.727, recall: 0.329\n",
      "confusion matrix:\n",
      "[[16873   265]\n",
      " [ 1439   707]]\n",
      "=========================\n",
      "classifying: r\n",
      "GS best: RidgeClassifier(alpha=0.2, max_iter=25)\n",
      "clf score:  0.9484546774528106\n",
      "F1:   0.547, precision: 0.856, recall: 0.401\n",
      "confusion matrix:\n",
      "[[17691   101]\n",
      " [  893   599]]\n",
      "=========================\n",
      "classifying: pandas\n",
      "GS best: RidgeClassifier(alpha=0.4, max_iter=25)\n",
      "clf score:  0.9599149554034433\n",
      "F1:   0.666, precision: 0.859, recall: 0.543\n",
      "confusion matrix:\n",
      "[[17741   126]\n",
      " [  647   770]]\n",
      "=========================\n",
      "classifying: c++\n",
      "GS best: RidgeClassifier(alpha=0.1, max_iter=25)\n",
      "clf score:  0.9601742377100186\n",
      "F1:   0.543, precision: 0.864, recall: 0.396\n",
      "confusion matrix:\n",
      "[[18059    72]\n",
      " [  696   457]]\n",
      "=========================\n",
      "classifying: java\n",
      "GS best: RidgeClassifier(alpha=0.30000000000000004, max_iter=25)\n",
      "clf score:  0.959707529558183\n",
      "F1:   0.427, precision: 0.806, recall: 0.291\n",
      "confusion matrix:\n",
      "[[18217    70]\n",
      " [  707   290]]\n",
      "=========================\n",
      "classifying: c#\n",
      "GS best: RidgeClassifier(alpha=0.1, max_iter=25)\n",
      "clf score:  0.9658784484546774\n",
      "F1:   0.366, precision: 0.748, recall: 0.242\n",
      "confusion matrix:\n",
      "[[18436    64]\n",
      " [  594   190]]\n",
      "=========================\n",
      "classifying: python-3.x\n",
      "GS best: RidgeClassifier(alpha=0.8, max_iter=25)\n",
      "clf score:  0.9582555486413608\n",
      "F1:   0.017, precision: 0.700, recall: 0.009\n",
      "confusion matrix:\n",
      "[[18472     3]\n",
      " [  802     7]]\n",
      "=========================\n",
      "classifying: sql\n",
      "GS best: RidgeClassifier(alpha=0.1, max_iter=25)\n",
      "clf score:  0.9659303049159925\n",
      "F1:   0.380, precision: 0.630, recall: 0.272\n",
      "confusion matrix:\n",
      "[[18426   118]\n",
      " [  539   201]]\n",
      "=========================\n",
      "classifying: dataframe\n",
      "GS best: RidgeClassifier(max_iter=25)\n",
      "clf score:  0.9595001037129226\n",
      "F1:   0.257, precision: 0.529, recall: 0.170\n",
      "confusion matrix:\n",
      "[[18368   120]\n",
      " [  661   135]]\n",
      "=========================\n",
      "classifying: reactjs\n",
      "GS best: RidgeClassifier(alpha=0.1, max_iter=25)\n",
      "clf score:  0.9807612528521054\n",
      "F1:   0.661, precision: 0.903, recall: 0.522\n",
      "confusion matrix:\n",
      "[[18551    39]\n",
      " [  332   362]]\n",
      "=========================\n",
      "classifying: html\n",
      "GS best: RidgeClassifier(alpha=0.1, max_iter=25)\n",
      "clf score:  0.9667600082970338\n",
      "F1:   0.306, precision: 0.592, recall: 0.206\n",
      "confusion matrix:\n",
      "[[18502    97]\n",
      " [  544   141]]\n",
      "=========================\n",
      "classifying: arrays\n",
      "GS best: RidgeClassifier(alpha=0.6, max_iter=25)\n",
      "clf score:  0.9719456544285417\n",
      "F1:   0.307, precision: 0.628, recall: 0.203\n",
      "confusion matrix:\n",
      "[[18623    71]\n",
      " [  470   120]]\n",
      "=========================\n",
      "classifying: regex\n",
      "GS best: RidgeClassifier(alpha=0.1, max_iter=25)\n",
      "clf score:  0.9835615017631197\n",
      "F1:   0.622, precision: 0.897, recall: 0.476\n",
      "confusion matrix:\n",
      "[[18706    30]\n",
      " [  287   261]]\n",
      "=========================\n",
      "classifying: c\n",
      "GS best: RidgeClassifier(alpha=0.30000000000000004, max_iter=25)\n",
      "clf score:  0.9750570421074466\n",
      "F1:   0.194, precision: 0.699, recall: 0.113\n",
      "confusion matrix:\n",
      "[[18745    25]\n",
      " [  456    58]]\n",
      "=========================\n",
      "classifying: css\n",
      "GS best: RidgeClassifier(alpha=0.30000000000000004, max_iter=25)\n",
      "clf score:  0.9822650902302427\n",
      "F1:   0.546, precision: 0.811, recall: 0.412\n",
      "confusion matrix:\n",
      "[[18736    48]\n",
      " [  294   206]]\n",
      "=========================\n",
      "classifying: php\n",
      "GS best: RidgeClassifier(alpha=0.1, max_iter=25)\n",
      "clf score:  0.9825762289981331\n",
      "F1:   0.525, precision: 0.798, recall: 0.392\n",
      "confusion matrix:\n",
      "[[18762    47]\n",
      " [  289   186]]\n",
      "=========================\n",
      "classifying: swift\n",
      "GS best: RidgeClassifier(alpha=0.5, max_iter=25)\n",
      "clf score:  0.98050197054553\n",
      "F1:   0.331, precision: 0.628, recall: 0.225\n",
      "confusion matrix:\n",
      "[[18815    55]\n",
      " [  321    93]]\n",
      "=========================\n",
      "classifying: typescript\n",
      "GS best: RidgeClassifier(alpha=0.1, max_iter=25)\n",
      "clf score:  0.985687616677038\n",
      "F1:   0.534, precision: 0.893, recall: 0.381\n",
      "confusion matrix:\n",
      "[[18850    19]\n",
      " [  257   158]]\n",
      "=========================\n",
      "classifying: node.js\n",
      "GS best: RidgeClassifier(alpha=0.1, max_iter=25)\n",
      "clf score:  0.9835096453018046\n",
      "F1:   0.254, precision: 0.761, recall: 0.152\n",
      "confusion matrix:\n",
      "[[18912    17]\n",
      " [  301    54]]\n",
      "=========================\n",
      "classifying: android\n",
      "GS best: RidgeClassifier(alpha=0.1, max_iter=25)\n",
      "clf score:  0.9892138560464634\n",
      "F1:   0.592, precision: 0.878, recall: 0.447\n",
      "confusion matrix:\n",
      "[[18925    21]\n",
      " [  187   151]]\n",
      "=========================\n",
      "classifying: amazon-web-services\n",
      "GS best: RidgeClassifier(alpha=0.2, max_iter=25)\n",
      "clf score:  0.9912362580377515\n",
      "F1:   0.718, precision: 0.881, recall: 0.606\n",
      "confusion matrix:\n",
      "[[18900    29]\n",
      " [  140   215]]\n",
      "=========================\n",
      "classifying: numpy\n",
      "GS best: RidgeClassifier(alpha=0.1, max_iter=25)\n",
      "clf score:  0.9861543248288737\n",
      "F1:   0.463, precision: 0.898, recall: 0.312\n",
      "confusion matrix:\n",
      "[[18902    13]\n",
      " [  254   115]]\n",
      "=========================\n",
      "classifying: mysql\n",
      "GS best: RidgeClassifier(alpha=0.4, max_iter=25)\n",
      "clf score:  0.9873988799004356\n",
      "F1:   0.426, precision: 0.891, recall: 0.280\n",
      "confusion matrix:\n",
      "[[18951    11]\n",
      " [  232    90]]\n",
      "=========================\n",
      "classifying: jquery\n",
      "GS best: RidgeClassifier(alpha=0.4, max_iter=25)\n",
      "clf score:  0.9856357602157229\n",
      "F1:   0.399, precision: 0.852, recall: 0.261\n",
      "confusion matrix:\n",
      "[[18915    16]\n",
      " [  261    92]]\n",
      "=========================\n",
      "classifying: swiftui\n",
      "GS best: RidgeClassifier(alpha=0.4, max_iter=25)\n",
      "clf score:  0.9912881144990666\n",
      "F1:   0.638, precision: 0.949, recall: 0.481\n",
      "confusion matrix:\n",
      "[[18968     8]\n",
      " [  160   148]]\n",
      "=========================\n",
      "classifying: postgresql\n",
      "GS best: RidgeClassifier(alpha=0.1, max_iter=25)\n",
      "clf score:  0.9901472723501348\n",
      "F1:   0.556, precision: 0.826, recall: 0.419\n",
      "confusion matrix:\n",
      "[[18975    25]\n",
      " [  165   119]]\n",
      "=========================\n",
      "classifying: json\n",
      "GS best: RidgeClassifier(alpha=0.1, max_iter=25)\n",
      "clf score:  0.9875025928230657\n",
      "F1:   0.433, precision: 0.676, recall: 0.318\n",
      "confusion matrix:\n",
      "[[18951    44]\n",
      " [  197    92]]\n",
      "=========================\n",
      "classifying: django\n",
      "GS best: RidgeClassifier(alpha=0.1, max_iter=25)\n",
      "clf score:  0.9931549471064095\n",
      "F1:   0.656, precision: 0.900, recall: 0.516\n",
      "confusion matrix:\n",
      "[[19026    14]\n",
      " [  118   126]]\n",
      "=========================\n",
      "classifying: vue.js\n",
      "GS best: RidgeClassifier(alpha=0.1, max_iter=25)\n",
      "clf score:  0.9934660858743\n",
      "F1:   0.656, precision: 0.960, recall: 0.498\n",
      "confusion matrix:\n",
      "[[19038     5]\n",
      " [  121   120]]\n",
      "=========================\n",
      "classifying: list\n",
      "GS best: RidgeClassifier(alpha=0.4, max_iter=25)\n",
      "clf score:  0.9859987554449284\n",
      "F1:   0.049, precision: 0.583, recall: 0.026\n",
      "confusion matrix:\n",
      "[[19007     5]\n",
      " [  265     7]]\n",
      "=========================\n",
      "classifying: ios\n",
      "GS best: RidgeClassifier(alpha=0.4, max_iter=25)\n",
      "clf score:  0.9867766023646546\n",
      "F1:   0.196, precision: 0.574, recall: 0.118\n",
      "confusion matrix:\n",
      "[[18998    23]\n",
      " [  232    31]]\n",
      "=========================\n",
      "classifying: string\n",
      "GS best: RidgeClassifier(alpha=0.1, max_iter=25)\n",
      "clf score:  0.98703588467123\n",
      "F1:   0.000, precision: 0.000, recall: 0.000\n",
      "confusion matrix:\n",
      "[[19034     0]\n",
      " [  250     0]]\n",
      "=========================\n",
      "classifying: dplyr\n"
     ]
    },
    {
     "name": "stderr",
     "output_type": "stream",
     "text": [
      "C:\\Users\\vince\\AppData\\Roaming\\Python\\Python37\\site-packages\\sklearn\\metrics\\_classification.py:1245: UndefinedMetricWarning: Precision is ill-defined and being set to 0.0 due to no predicted samples. Use `zero_division` parameter to control this behavior.\n",
      "  _warn_prf(average, modifier, msg_start, len(result))\n"
     ]
    },
    {
     "name": "stdout",
     "output_type": "stream",
     "text": [
      "GS best: RidgeClassifier(alpha=0.1, max_iter=25)\n",
      "clf score:  0.9893175689690935\n",
      "F1:   0.304, precision: 0.833, recall: 0.186\n",
      "confusion matrix:\n",
      "[[19033     9]\n",
      " [  197    45]]\n",
      "=========================\n",
      "classifying: google-sheets\n",
      "GS best: RidgeClassifier(alpha=0.30000000000000004, max_iter=25)\n",
      "clf score:  0.991547396805642\n",
      "F1:   0.551, precision: 0.775, recall: 0.427\n",
      "confusion matrix:\n",
      "[[19021    29]\n",
      " [  134   100]]\n",
      "=========================\n",
      "classifying: angular\n",
      "GS best: RidgeClassifier(alpha=0.1, max_iter=25)\n",
      "clf score:  0.9919103920348475\n",
      "F1:   0.506, precision: 0.860, recall: 0.359\n",
      "confusion matrix:\n",
      "[[19048    13]\n",
      " [  143    80]]\n",
      "=========================\n",
      "classifying: mongodb\n",
      "GS best: RidgeClassifier(alpha=0.2, max_iter=25)\n",
      "clf score:  0.9950217797137524\n",
      "F1:   0.660, precision: 0.930, recall: 0.511\n",
      "confusion matrix:\n",
      "[[19095     7]\n",
      " [   89    93]]\n",
      "=========================\n",
      "classifying: sql-server\n",
      "GS best: RidgeClassifier(alpha=0.5, max_iter=25)\n",
      "clf score:  0.9907176934246007\n",
      "F1:   0.101, precision: 0.625, recall: 0.055\n",
      "confusion matrix:\n",
      "[[19095     6]\n",
      " [  173    10]]\n",
      "=========================\n",
      "classifying: ggplot2\n",
      "GS best: RidgeClassifier(alpha=0.4, max_iter=25)\n",
      "clf score:  0.9930512341837793\n",
      "F1:   0.455, precision: 0.889, recall: 0.306\n",
      "confusion matrix:\n",
      "[[19094     7]\n",
      " [  127    56]]\n",
      "=========================\n",
      "classifying: bash\n",
      "GS best: RidgeClassifier(alpha=0.2, max_iter=25)\n",
      "clf score:  0.9917029661895872\n",
      "F1:   0.412, precision: 0.727, recall: 0.287\n",
      "confusion matrix:\n",
      "[[19068    21]\n",
      " [  139    56]]\n",
      "=========================\n",
      "classifying: excel\n",
      "GS best: RidgeClassifier(alpha=0.1, max_iter=25)\n",
      "clf score:  0.9933623729516697\n",
      "F1:   0.439, precision: 0.833, recall: 0.298\n",
      "confusion matrix:\n",
      "[[19106    10]\n",
      " [  118    50]]\n",
      "=========================\n",
      "classifying: powershell\n",
      "GS best: RidgeClassifier(alpha=0.2, max_iter=25)\n",
      "clf score:  0.994140219871396\n",
      "F1:   0.574, precision: 0.916, recall: 0.418\n",
      "confusion matrix:\n",
      "[[19095     7]\n",
      " [  106    76]]\n",
      "=========================\n",
      "classifying: wordpress\n",
      "GS best: RidgeClassifier(alpha=0.1, max_iter=25)\n",
      "clf score:  0.9950736361750674\n",
      "F1:   0.649, precision: 0.863, recall: 0.521\n",
      "confusion matrix:\n",
      "[[19101    14]\n",
      " [   81    88]]\n",
      "=========================\n",
      "classifying: google-apps-script\n",
      "GS best: RidgeClassifier(alpha=0.1, max_iter=25)\n",
      "clf score:  0.9927919518772039\n",
      "F1:   0.347, precision: 0.740, recall: 0.227\n",
      "confusion matrix:\n",
      "[[19108    13]\n",
      " [  126    37]]\n",
      "=========================\n",
      "classifying: rust\n",
      "GS best: RidgeClassifier(alpha=0.1, max_iter=25)\n",
      "clf score:  0.9946069280232317\n",
      "F1:   0.612, precision: 0.921, recall: 0.458\n",
      "confusion matrix:\n",
      "[[19098     7]\n",
      " [   97    82]]\n",
      "=========================\n",
      "classifying: git\n",
      "GS best: RidgeClassifier(alpha=0.2, max_iter=25)\n",
      "clf score:  0.9966293300145198\n",
      "F1:   0.777, precision: 0.919, recall: 0.673\n",
      "confusion matrix:\n",
      "[[19106    10]\n",
      " [   55   113]]\n",
      "=========================\n",
      "classifying: algorithm\n",
      "GS best: RidgeClassifier(alpha=0.1, max_iter=25)\n",
      "clf score:  0.9909769757311762\n",
      "F1:   0.147, precision: 0.455, recall: 0.088\n",
      "confusion matrix:\n",
      "[[19095    18]\n",
      " [  156    15]]\n",
      "=========================\n",
      "classifying: matplotlib\n",
      "GS best: RidgeClassifier(alpha=0.1, max_iter=25)\n",
      "clf score:  0.9940365069487658\n",
      "F1:   0.460, precision: 0.845, recall: 0.316\n",
      "confusion matrix:\n",
      "[[19120     9]\n",
      " [  106    49]]\n",
      "=========================\n",
      "classifying: flutter\n",
      "GS best: RidgeClassifier(alpha=0.2, max_iter=25)\n",
      "clf score:  0.9942957892553412\n",
      "F1:   0.553, precision: 0.958, recall: 0.389\n",
      "confusion matrix:\n",
      "[[19106     3]\n",
      " [  107    68]]\n",
      "=========================\n",
      "classifying: firebase\n",
      "GS best: RidgeClassifier(alpha=0.30000000000000004, max_iter=25)\n",
      "clf score:  0.9950217797137524\n",
      "F1:   0.622, precision: 0.806, recall: 0.506\n",
      "confusion matrix:\n",
      "[[19109    19]\n",
      " [   77    79]]\n",
      "=========================\n"
     ]
    },
    {
     "data": {
      "text/plain": [
       "['..\\\\data\\\\stackoverflow\\\\models\\\\body_ridgeClassifier.joblib']"
      ]
     },
     "execution_count": 49,
     "metadata": {},
     "output_type": "execute_result"
    }
   ],
   "source": [
    "params = {\n",
    "    'alpha': np.arange(10)*.1+.1,\n",
    "    'max_iter': [25],\n",
    "    }\n",
    "clf = GridSearchCV(\n",
    "    RidgeClassifier(),\n",
    "    params,\n",
    "    n_jobs=6)\n",
    "\n",
    "baseline =  dict({})\n",
    "\n",
    "for k in y_dict.keys():\n",
    "    print(\"classifying:\", k)\n",
    "    X_train, X_test, y_train, y_test = train_test_split(X_body, y_dict[k], random_state=42, test_size=0.2, shuffle=True)\n",
    "#     X_train, X_test, y_train, y_test = train_test_split(X_title, y_dict[k], random_state=42, test_size=0.2, shuffle=True)\n",
    "#     clf = RidgeClassifier().fit(X_train, y_train)\n",
    "    clf = GridSearchCV(\n",
    "        RidgeClassifier(),\n",
    "        params,\n",
    "        n_jobs=6)\n",
    "    clf.fit(X_train, y_train)\n",
    "    baseline[k] = clf.best_estimator_\n",
    "    print(\"GS best:\", clf.best_estimator_)\n",
    "    print(\"clf score: \", clf.best_estimator_.score(X_test, y_test))\n",
    "    pred = clf.best_estimator_.predict(X_test)\n",
    "    f1 = metrics.f1_score(y_test, pred)\n",
    "    precision = metrics.precision_score(y_test, pred)\n",
    "    recall = metrics.recall_score(y_test, pred)\n",
    "    print(\"F1:   %0.3f, precision: %0.3f, recall: %0.3f\" % (f1, precision, recall))\n",
    "    print(\"confusion matrix:\")\n",
    "    print(metrics.confusion_matrix(y_test, pred))\n",
    "    print(\"=========================\")\n",
    "dump(baseline, model_path + 'body_ridgeClassifier.joblib')"
   ]
  },
  {
   "cell_type": "markdown",
   "metadata": {},
   "source": [
    "# Title\n",
    "- [Toc](#Baseline)"
   ]
  },
  {
   "cell_type": "code",
   "execution_count": 50,
   "metadata": {
    "scrolled": true,
    "tags": []
   },
   "outputs": [
    {
     "name": "stdout",
     "output_type": "stream",
     "text": [
      "classifying: python\n",
      "GS best: RidgeClassifier(alpha=0.1, max_iter=25)\n",
      "clf score:  0.8936942543040863\n",
      "F1:   0.661, precision: 0.854, recall: 0.540\n",
      "confusion matrix:\n",
      "[[15231   343]\n",
      " [ 1707  2003]]\n",
      "=========================\n",
      "classifying: other\n",
      "GS best: RidgeClassifier(alpha=0.1, max_iter=25)\n",
      "clf score:  0.8894420244762498\n",
      "F1:   0.392, precision: 0.747, recall: 0.265\n",
      "confusion matrix:\n",
      "[[16466   232]\n",
      " [ 1900   686]]\n",
      "=========================\n",
      "classifying: javascript\n",
      "GS best: RidgeClassifier(alpha=0.1, max_iter=25)\n",
      "clf score:  0.9156813939016801\n",
      "F1:   0.477, precision: 0.770, recall: 0.345\n",
      "confusion matrix:\n",
      "[[16917   221]\n",
      " [ 1405   741]]\n",
      "=========================\n",
      "classifying: r\n",
      "GS best: RidgeClassifier(alpha=0.1, max_iter=25)\n",
      "clf score:  0.940209500103713\n",
      "F1:   0.402, precision: 0.888, recall: 0.260\n",
      "confusion matrix:\n",
      "[[17743    49]\n",
      " [ 1104   388]]\n",
      "=========================\n",
      "classifying: pandas\n",
      "GS best: RidgeClassifier(alpha=0.2, max_iter=25)\n",
      "clf score:  0.9683157021364862\n",
      "F1:   0.737, precision: 0.946, recall: 0.603\n",
      "confusion matrix:\n",
      "[[17818    49]\n",
      " [  562   855]]\n",
      "=========================\n",
      "classifying: c++\n",
      "GS best: RidgeClassifier(alpha=0.4, max_iter=25)\n",
      "clf score:  0.9546255963493051\n",
      "F1:   0.440, precision: 0.839, recall: 0.298\n",
      "confusion matrix:\n",
      "[[18065    66]\n",
      " [  809   344]]\n",
      "=========================\n",
      "classifying: java\n",
      "GS best: RidgeClassifier(alpha=0.1, max_iter=25)\n",
      "clf score:  0.9621966397013068\n",
      "F1:   0.474, precision: 0.845, recall: 0.329\n",
      "confusion matrix:\n",
      "[[18227    60]\n",
      " [  669   328]]\n",
      "=========================\n",
      "classifying: c#\n",
      "GS best: RidgeClassifier(alpha=0.1, max_iter=25)\n",
      "clf score:  0.9625077784691972\n",
      "F1:   0.249, precision: 0.670, recall: 0.153\n",
      "confusion matrix:\n",
      "[[18441    59]\n",
      " [  664   120]]\n",
      "=========================\n",
      "classifying: python-3.x\n",
      "GS best: RidgeClassifier(alpha=0.6, max_iter=25)\n",
      "clf score:  0.958462974486621\n",
      "F1:   0.034, precision: 0.700, recall: 0.017\n",
      "confusion matrix:\n",
      "[[18469     6]\n",
      " [  795    14]]\n",
      "=========================\n",
      "classifying: sql\n",
      "GS best: RidgeClassifier(alpha=0.2, max_iter=25)\n",
      "clf score:  0.970130678282514\n",
      "F1:   0.470, precision: 0.737, recall: 0.345\n",
      "confusion matrix:\n",
      "[[18453    91]\n",
      " [  485   255]]\n",
      "=========================\n",
      "classifying: dataframe\n",
      "GS best: RidgeClassifier(alpha=0.1, max_iter=25)\n",
      "clf score:  0.9629226301597179\n",
      "F1:   0.343, precision: 0.638, recall: 0.235\n",
      "confusion matrix:\n",
      "[[18382   106]\n",
      " [  609   187]]\n",
      "=========================\n",
      "classifying: reactjs\n",
      "GS best: RidgeClassifier(alpha=0.7000000000000001, max_iter=25)\n",
      "clf score:  0.9838207840696951\n",
      "F1:   0.723, precision: 0.940, recall: 0.588\n",
      "confusion matrix:\n",
      "[[18564    26]\n",
      " [  286   408]]\n",
      "=========================\n",
      "classifying: html\n",
      "GS best: RidgeClassifier(alpha=0.1, max_iter=25)\n",
      "clf score:  0.9676934246007053\n",
      "F1:   0.316, precision: 0.637, recall: 0.210\n",
      "confusion matrix:\n",
      "[[18517    82]\n",
      " [  541   144]]\n",
      "=========================\n",
      "classifying: arrays\n",
      "GS best: RidgeClassifier(alpha=0.1, max_iter=25)\n",
      "clf score:  0.9710122381248704\n",
      "F1:   0.262, precision: 0.593, recall: 0.168\n",
      "confusion matrix:\n",
      "[[18626    68]\n",
      " [  491    99]]\n",
      "=========================\n",
      "classifying: regex\n",
      "GS best: RidgeClassifier(alpha=0.7000000000000001, max_iter=25)\n",
      "clf score:  0.9862061812901888\n",
      "F1:   0.706, precision: 0.896, recall: 0.582\n",
      "confusion matrix:\n",
      "[[18699    37]\n",
      " [  229   319]]\n",
      "=========================\n",
      "classifying: c\n",
      "GS best: RidgeClassifier(alpha=0.1, max_iter=25)\n",
      "clf score:  0.9739680564198299\n",
      "F1:   0.077, precision: 0.700, recall: 0.041\n",
      "confusion matrix:\n",
      "[[18761     9]\n",
      " [  493    21]]\n",
      "=========================\n",
      "classifying: css\n",
      "GS best: RidgeClassifier(alpha=0.2, max_iter=25)\n",
      "clf score:  0.9819539514623522\n",
      "F1:   0.499, precision: 0.892, recall: 0.346\n",
      "confusion matrix:\n",
      "[[18763    21]\n",
      " [  327   173]]\n",
      "=========================\n",
      "classifying: php\n",
      "GS best: RidgeClassifier(alpha=0.1, max_iter=25)\n",
      "clf score:  0.9886952914333126\n",
      "F1:   0.733, precision: 0.877, recall: 0.629\n",
      "confusion matrix:\n",
      "[[18767    42]\n",
      " [  176   299]]\n",
      "=========================\n",
      "classifying: swift\n",
      "GS best: RidgeClassifier(alpha=0.7000000000000001, max_iter=25)\n",
      "clf score:  0.9849097697573118\n",
      "F1:   0.549, precision: 0.766, recall: 0.428\n",
      "confusion matrix:\n",
      "[[18816    54]\n",
      " [  237   177]]\n",
      "=========================\n",
      "classifying: typescript\n",
      "GS best: RidgeClassifier(alpha=0.1, max_iter=25)\n",
      "clf score:  0.9872951669778054\n",
      "F1:   0.585, precision: 0.983, recall: 0.417\n",
      "confusion matrix:\n",
      "[[18866     3]\n",
      " [  242   173]]\n",
      "=========================\n",
      "classifying: node.js\n",
      "GS best: RidgeClassifier(alpha=0.1, max_iter=25)\n",
      "clf score:  0.9839763534536403\n",
      "F1:   0.309, precision: 0.750, recall: 0.194\n",
      "confusion matrix:\n",
      "[[18906    23]\n",
      " [  286    69]]\n",
      "=========================\n",
      "classifying: android\n",
      "GS best: RidgeClassifier(alpha=0.5, max_iter=25)\n",
      "clf score:  0.9884360091267372\n",
      "F1:   0.538, precision: 0.897, recall: 0.385\n",
      "confusion matrix:\n",
      "[[18931    15]\n",
      " [  208   130]]\n",
      "=========================\n",
      "classifying: amazon-web-services\n",
      "GS best: RidgeClassifier(alpha=0.30000000000000004, max_iter=25)\n",
      "clf score:  0.9916511097282722\n",
      "F1:   0.738, precision: 0.873, recall: 0.639\n",
      "confusion matrix:\n",
      "[[18896    33]\n",
      " [  128   227]]\n",
      "=========================\n",
      "classifying: numpy\n",
      "GS best: RidgeClassifier(alpha=0.1, max_iter=25)\n",
      "clf score:  0.9887990043559427\n",
      "F1:   0.594, precision: 0.969, recall: 0.428\n",
      "confusion matrix:\n",
      "[[18910     5]\n",
      " [  211   158]]\n",
      "=========================\n",
      "classifying: mysql\n",
      "GS best: RidgeClassifier(alpha=0.1, max_iter=25)\n",
      "clf score:  0.9907176934246007\n",
      "F1:   0.625, precision: 0.961, recall: 0.463\n",
      "confusion matrix:\n",
      "[[18956     6]\n",
      " [  173   149]]\n",
      "=========================\n",
      "classifying: jquery\n",
      "GS best: RidgeClassifier(alpha=0.7000000000000001, max_iter=25)\n",
      "clf score:  0.9891101431238333\n",
      "F1:   0.587, precision: 0.961, recall: 0.422\n",
      "confusion matrix:\n",
      "[[18925     6]\n",
      " [  204   149]]\n",
      "=========================\n",
      "classifying: swiftui\n",
      "GS best: RidgeClassifier(alpha=0.1, max_iter=25)\n",
      "clf score:  0.9943995021779714\n",
      "F1:   0.788, precision: 0.995, recall: 0.653\n",
      "confusion matrix:\n",
      "[[18975     1]\n",
      " [  107   201]]\n",
      "=========================\n",
      "classifying: postgresql\n",
      "GS best: RidgeClassifier(alpha=0.1, max_iter=25)\n",
      "clf score:  0.9922733872640531\n",
      "F1:   0.657, precision: 0.947, recall: 0.504\n",
      "confusion matrix:\n",
      "[[18992     8]\n",
      " [  141   143]]\n",
      "=========================\n",
      "classifying: json\n",
      "GS best: RidgeClassifier(alpha=0.4, max_iter=25)\n",
      "clf score:  0.9893694254304086\n",
      "F1:   0.607, precision: 0.681, recall: 0.547\n",
      "confusion matrix:\n",
      "[[18921    74]\n",
      " [  131   158]]\n",
      "=========================\n",
      "classifying: django\n",
      "GS best: RidgeClassifier(alpha=0.1, max_iter=25)\n",
      "clf score:  0.9957477701721634\n",
      "F1:   0.804, precision: 0.966, recall: 0.689\n",
      "confusion matrix:\n",
      "[[19034     6]\n",
      " [   76   168]]\n",
      "=========================\n",
      "classifying: vue.js\n",
      "GS best: RidgeClassifier(alpha=0.1, max_iter=25)\n",
      "clf score:  0.9959033395561087\n",
      "F1:   0.805, precision: 0.994, recall: 0.676\n",
      "confusion matrix:\n",
      "[[19042     1]\n",
      " [   78   163]]\n",
      "=========================\n",
      "classifying: list\n",
      "GS best: RidgeClassifier(alpha=0.1, max_iter=25)\n",
      "clf score:  0.985687616677038\n",
      "F1:   0.021, precision: 0.300, recall: 0.011\n",
      "confusion matrix:\n",
      "[[19005     7]\n",
      " [  269     3]]\n",
      "=========================\n",
      "classifying: ios\n",
      "GS best: RidgeClassifier(alpha=0.30000000000000004, max_iter=25)\n",
      "clf score:  0.9866728894420245\n",
      "F1:   0.135, precision: 0.588, recall: 0.076\n",
      "confusion matrix:\n",
      "[[19007    14]\n",
      " [  243    20]]\n",
      "=========================\n",
      "classifying: string\n",
      "GS best: RidgeClassifier(alpha=0.1, max_iter=25)\n",
      "clf score:  0.98703588467123\n",
      "F1:   0.000, precision: 0.000, recall: 0.000\n",
      "confusion matrix:\n",
      "[[19034     0]\n",
      " [  250     0]]\n",
      "=========================\n",
      "classifying: dplyr\n"
     ]
    },
    {
     "name": "stderr",
     "output_type": "stream",
     "text": [
      "C:\\Users\\vince\\AppData\\Roaming\\Python\\Python37\\site-packages\\sklearn\\metrics\\_classification.py:1245: UndefinedMetricWarning: Precision is ill-defined and being set to 0.0 due to no predicted samples. Use `zero_division` parameter to control this behavior.\n",
      "  _warn_prf(average, modifier, msg_start, len(result))\n"
     ]
    },
    {
     "name": "stdout",
     "output_type": "stream",
     "text": [
      "GS best: RidgeClassifier(alpha=0.1, max_iter=25)\n",
      "clf score:  0.9905102675793404\n",
      "F1:   0.408, precision: 0.940, recall: 0.260\n",
      "confusion matrix:\n",
      "[[19038     4]\n",
      " [  179    63]]\n",
      "=========================\n",
      "classifying: google-sheets\n",
      "GS best: RidgeClassifier(alpha=0.7000000000000001, max_iter=25)\n",
      "clf score:  0.9933105164903547\n",
      "F1:   0.670, precision: 0.834, recall: 0.560\n",
      "confusion matrix:\n",
      "[[19024    26]\n",
      " [  103   131]]\n",
      "=========================\n",
      "classifying: angular\n",
      "GS best: RidgeClassifier(alpha=0.1, max_iter=25)\n",
      "clf score:  0.9942439327940261\n",
      "F1:   0.674, precision: 0.975, recall: 0.516\n",
      "confusion matrix:\n",
      "[[19058     3]\n",
      " [  108   115]]\n",
      "=========================\n",
      "classifying: mongodb\n",
      "GS best: RidgeClassifier(alpha=0.1, max_iter=25)\n",
      "clf score:  0.997407176934246\n",
      "F1:   0.851, precision: 0.929, recall: 0.786\n",
      "confusion matrix:\n",
      "[[19091    11]\n",
      " [   39   143]]\n",
      "=========================\n",
      "classifying: sql-server\n",
      "GS best: RidgeClassifier(alpha=0.1, max_iter=25)\n",
      "clf score:  0.9908214063472308\n",
      "F1:   0.102, precision: 0.714, recall: 0.055\n",
      "confusion matrix:\n",
      "[[19097     4]\n",
      " [  173    10]]\n",
      "=========================\n",
      "classifying: ggplot2\n",
      "GS best: RidgeClassifier(alpha=0.1, max_iter=25)\n",
      "clf score:  0.9955403443269031\n",
      "F1:   0.699, precision: 0.971, recall: 0.546\n",
      "confusion matrix:\n",
      "[[19098     3]\n",
      " [   83   100]]\n",
      "=========================\n",
      "classifying: bash\n",
      "GS best: RidgeClassifier(alpha=0.1, max_iter=25)\n",
      "clf score:  0.9930512341837793\n",
      "F1:   0.531, precision: 0.835, recall: 0.390\n",
      "confusion matrix:\n",
      "[[19074    15]\n",
      " [  119    76]]\n",
      "=========================\n",
      "classifying: excel\n",
      "GS best: RidgeClassifier(alpha=0.8, max_iter=25)\n",
      "clf score:  0.9945032151006016\n",
      "F1:   0.610, precision: 0.798, recall: 0.494\n",
      "confusion matrix:\n",
      "[[19095    21]\n",
      " [   85    83]]\n",
      "=========================\n",
      "classifying: powershell\n",
      "GS best: RidgeClassifier(alpha=0.1, max_iter=25)\n",
      "clf score:  0.9967330429371499\n",
      "F1:   0.795, precision: 0.976, recall: 0.670\n",
      "confusion matrix:\n",
      "[[19099     3]\n",
      " [   60   122]]\n",
      "=========================\n",
      "classifying: wordpress\n",
      "GS best: RidgeClassifier(alpha=0.1, max_iter=25)\n",
      "clf score:  0.9974590333955611\n",
      "F1:   0.841, precision: 0.929, recall: 0.769\n",
      "confusion matrix:\n",
      "[[19105    10]\n",
      " [   39   130]]\n",
      "=========================\n",
      "classifying: google-apps-script\n",
      "GS best: RidgeClassifier(alpha=0.1, max_iter=25)\n",
      "clf score:  0.9939327940261357\n",
      "F1:   0.475, precision: 0.883, recall: 0.325\n",
      "confusion matrix:\n",
      "[[19114     7]\n",
      " [  110    53]]\n",
      "=========================\n",
      "classifying: rust\n",
      "GS best: RidgeClassifier(alpha=0.1, max_iter=25)\n",
      "clf score:  0.9939327940261357\n",
      "F1:   0.534, precision: 0.931, recall: 0.374\n",
      "confusion matrix:\n",
      "[[19100     5]\n",
      " [  112    67]]\n",
      "=========================\n",
      "classifying: git\n",
      "GS best: RidgeClassifier(alpha=0.1, max_iter=25)\n",
      "clf score:  0.9968367558597802\n",
      "F1:   0.799, precision: 0.896, recall: 0.720\n",
      "confusion matrix:\n",
      "[[19102    14]\n",
      " [   47   121]]\n",
      "=========================\n",
      "classifying: algorithm\n",
      "GS best: RidgeClassifier(alpha=0.2, max_iter=25)\n",
      "clf score:  0.9911844015764364\n",
      "F1:   0.198, precision: 0.512, recall: 0.123\n",
      "confusion matrix:\n",
      "[[19093    20]\n",
      " [  150    21]]\n",
      "=========================\n",
      "classifying: matplotlib\n",
      "GS best: RidgeClassifier(max_iter=25)\n",
      "clf score:  0.994814353868492\n",
      "F1:   0.558, precision: 0.887, recall: 0.406\n",
      "confusion matrix:\n",
      "[[19121     8]\n",
      " [   92    63]]\n",
      "=========================\n",
      "classifying: flutter\n",
      "GS best: RidgeClassifier(alpha=0.9, max_iter=25)\n",
      "clf score:  0.9962663347853142\n",
      "F1:   0.743, precision: 0.990, recall: 0.594\n",
      "confusion matrix:\n",
      "[[19108     1]\n",
      " [   71   104]]\n",
      "=========================\n",
      "classifying: firebase\n",
      "GS best: RidgeClassifier(alpha=0.1, max_iter=25)\n",
      "clf score:  0.9965256170918897\n",
      "F1:   0.770, precision: 0.830, recall: 0.718\n",
      "confusion matrix:\n",
      "[[19105    23]\n",
      " [   44   112]]\n",
      "=========================\n"
     ]
    },
    {
     "data": {
      "text/plain": [
       "['..\\\\data\\\\stackoverflow\\\\models\\\\title_ridgeClassifier.joblib']"
      ]
     },
     "execution_count": 50,
     "metadata": {},
     "output_type": "execute_result"
    }
   ],
   "source": [
    "params = {\n",
    "    'alpha': np.arange(10)*.1+.1,\n",
    "    'max_iter': [25],\n",
    "    }\n",
    "clf = GridSearchCV(\n",
    "    RidgeClassifier(),\n",
    "    params,\n",
    "    n_jobs=6)\n",
    "\n",
    "baseline =  dict({})\n",
    "\n",
    "for k in y_dict.keys():\n",
    "    print(\"classifying:\", k)\n",
    "    X_train, X_test, y_train, y_test = train_test_split(X_title, y_dict[k], random_state=42, test_size=0.2, shuffle=True)\n",
    "#     X_train, X_test, y_train, y_test = train_test_split(X_title, y_dict[k], random_state=42, test_size=0.2, shuffle=True)\n",
    "#     clf = RidgeClassifier().fit(X_train, y_train)\n",
    "    clf = GridSearchCV(\n",
    "        RidgeClassifier(),\n",
    "        params,\n",
    "        n_jobs=6)\n",
    "    clf.fit(X_train, y_train)\n",
    "    baseline[k] = clf.best_estimator_\n",
    "    print(\"GS best:\", clf.best_estimator_)\n",
    "    print(\"clf score: \", clf.best_estimator_.score(X_test, y_test))\n",
    "    pred = clf.best_estimator_.predict(X_test)\n",
    "    f1 = metrics.f1_score(y_test, pred)\n",
    "    precision = metrics.precision_score(y_test, pred)\n",
    "    recall = metrics.recall_score(y_test, pred)\n",
    "    print(\"F1:   %0.3f, precision: %0.3f, recall: %0.3f\" % (f1, precision, recall))\n",
    "    print(\"confusion matrix:\")\n",
    "    print(metrics.confusion_matrix(y_test, pred))\n",
    "    print(\"=========================\")\n",
    "dump(baseline, model_path + 'title_ridgeClassifier.joblib')"
   ]
  },
  {
   "cell_type": "code",
   "execution_count": 51,
   "metadata": {},
   "outputs": [],
   "source": [
    "clf = RidgeClassifier().fit(X_title, y_dict['javascript'])"
   ]
  },
  {
   "cell_type": "code",
   "execution_count": 52,
   "metadata": {},
   "outputs": [
    {
     "data": {
      "text/plain": [
       "0.9156606513171541"
      ]
     },
     "execution_count": 52,
     "metadata": {},
     "output_type": "execute_result"
    }
   ],
   "source": [
    "clf.score(X_title, y_dict['javascript'])"
   ]
  },
  {
   "cell_type": "markdown",
   "metadata": {},
   "source": [
    "# Evals\n",
    "- [Toc](#Baseline)"
   ]
  },
  {
   "cell_type": "code",
   "execution_count": 4,
   "metadata": {},
   "outputs": [],
   "source": [
    "body_model = load(model_path + 'body_RidgeClassifier.joblib')\n",
    "title_model = load(model_path + 'title_RidgeClassifier.joblib')"
   ]
  },
  {
   "cell_type": "code",
   "execution_count": 5,
   "metadata": {},
   "outputs": [
    {
     "data": {
      "text/plain": [
       "0.9156502800248911"
      ]
     },
     "execution_count": 5,
     "metadata": {},
     "output_type": "execute_result"
    }
   ],
   "source": [
    "\n",
    "\n",
    "\n",
    "body_model['javascript'].score(X_body, y_dict['javascript'])"
   ]
  },
  {
   "cell_type": "code",
   "execution_count": 6,
   "metadata": {},
   "outputs": [],
   "source": [
    "y_dict_50_test = load(data_path + 'baseline_y_top50_test.joblib')"
   ]
  },
  {
   "cell_type": "code",
   "execution_count": 7,
   "metadata": {},
   "outputs": [],
   "source": [
    "df_stem_test = pd.read_pickle(data_path + 'nltk_stop_stem_test.pkl')"
   ]
  },
  {
   "cell_type": "code",
   "execution_count": 8,
   "metadata": {},
   "outputs": [],
   "source": [
    "body_vectorizer = load(model_path + 'stem_body_vectorizer_11.joblib')\n",
    "\n",
    "df_stem_test['Body'] = df_stem_test['Body'].apply(lambda row: ' '.join(row))\n",
    "X_body_test = body_vectorizer.transform(df_stem_test['Body'])"
   ]
  },
  {
   "cell_type": "code",
   "execution_count": 9,
   "metadata": {},
   "outputs": [
    {
     "data": {
      "text/plain": [
       "0.8751084128360798"
      ]
     },
     "execution_count": 9,
     "metadata": {},
     "output_type": "execute_result"
    }
   ],
   "source": [
    "body_model['python'].score(X_body_test, y_dict_50_test['python'])"
   ]
  },
  {
   "cell_type": "code",
   "execution_count": 10,
   "metadata": {},
   "outputs": [],
   "source": [
    "pred = body_model['python'].predict(X_body_test)\n"
   ]
  },
  {
   "cell_type": "code",
   "execution_count": 11,
   "metadata": {},
   "outputs": [
    {
     "data": {
      "text/plain": [
       "array([[10796,   362],\n",
       "       [ 1366,  1312]], dtype=int64)"
      ]
     },
     "execution_count": 11,
     "metadata": {},
     "output_type": "execute_result"
    }
   ],
   "source": [
    "metrics.confusion_matrix(y_dict_50_test['python'], pred)"
   ]
  },
  {
   "cell_type": "code",
   "execution_count": 13,
   "metadata": {},
   "outputs": [
    {
     "data": {
      "text/plain": [
       "0.7837514934289128"
      ]
     },
     "execution_count": 13,
     "metadata": {},
     "output_type": "execute_result"
    }
   ],
   "source": [
    "metrics.precision_score(y_dict_50_test['python'], pred)"
   ]
  },
  {
   "cell_type": "code",
   "execution_count": 14,
   "metadata": {},
   "outputs": [
    {
     "data": {
      "text/plain": [
       "0.4899178491411501"
      ]
     },
     "execution_count": 14,
     "metadata": {},
     "output_type": "execute_result"
    }
   ],
   "source": [
    "metrics.recall_score(y_dict_50_test['python'], pred)"
   ]
  },
  {
   "cell_type": "code",
   "execution_count": null,
   "metadata": {},
   "outputs": [],
   "source": []
  },
  {
   "cell_type": "code",
   "execution_count": 21,
   "metadata": {},
   "outputs": [
    {
     "name": "stdout",
     "output_type": "stream",
     "text": [
      "Issue:  woocommerce\n",
      "Mean Precision:  0.7799111252761556\n",
      "Mean Recall:  0.3261938102431698\n",
      "Mean F1:  0.4455260838140447\n"
     ]
    },
    {
     "name": "stderr",
     "output_type": "stream",
     "text": [
      "C:\\Users\\vince\\AppData\\Roaming\\Python\\Python37\\site-packages\\sklearn\\metrics\\_classification.py:1245: UndefinedMetricWarning: Precision is ill-defined and being set to 0.0 due to no predicted samples. Use `zero_division` parameter to control this behavior.\n",
      "  _warn_prf(average, modifier, msg_start, len(result))\n"
     ]
    }
   ],
   "source": [
    "precis = 0\n",
    "recall = 0\n",
    "f1 = 0\n",
    "cpt = 0\n",
    "for k in y_dict.keys():\n",
    "    try:\n",
    "        pred = body_model[k].predict(X_body_test)\n",
    "        precis = precis + metrics.precision_score(y_dict_50_test[k], pred)\n",
    "        recall = recall + metrics.recall_score(y_dict_50_test[k], pred)\n",
    "        f1 = f1 +  metrics.f1_score(y_dict_50_test[k], pred)\n",
    "        cpt = cpt + 1\n",
    "    except:\n",
    "        print(\"Issue: \", k)\n",
    "        None\n",
    "print(\"Mean Precision: \", precis/cpt)\n",
    "print(\"Mean Recall: \", recall/cpt)\n",
    "print(\"Mean F1: \", f1/cpt)"
   ]
  },
  {
   "cell_type": "code",
   "execution_count": 69,
   "metadata": {},
   "outputs": [
    {
     "data": {
      "text/plain": [
       "dict_keys(['python', 'other', 'javascript', 'pandas', 'r', 'c++', 'java', 'dataframe', 'reactjs', 'c#', 'sql', 'python-3.x', 'regex', 'html', 'c', 'arrays', 'php', 'typescript', 'css', 'node.js', 'android', 'postgresql', 'jquery', 'numpy', 'json', 'dplyr', 'excel', 'mysql', 'django', 'swift', 'list', 'amazon-web-services', 'string', 'vba', 'vue.js', 'wordpress', 'rust', 'woocommerce', 'mongodb', 'bash', 'powershell', 'angular', 'sql-server', 'apache-spark', 'git', 'ggplot2', 'kotlin', 'multithreading', 'dictionary', 'algorithm', 'scala'])"
      ]
     },
     "execution_count": 69,
     "metadata": {},
     "output_type": "execute_result"
    }
   ],
   "source": [
    "y_dict_test.keys()"
   ]
  },
  {
   "cell_type": "code",
   "execution_count": 70,
   "metadata": {},
   "outputs": [
    {
     "data": {
      "text/plain": [
       "dict_keys(['python', 'other', 'javascript', 'r', 'pandas', 'c++', 'java', 'c#', 'python-3.x', 'sql', 'dataframe', 'reactjs', 'html', 'arrays', 'regex', 'c', 'css', 'php', 'swift', 'typescript', 'node.js', 'android', 'amazon-web-services', 'numpy', 'mysql', 'jquery', 'swiftui', 'postgresql', 'json', 'django', 'vue.js', 'list', 'ios', 'string', 'dplyr', 'google-sheets', 'angular', 'mongodb', 'sql-server', 'ggplot2', 'bash', 'excel', 'powershell', 'wordpress', 'google-apps-script', 'rust', 'git', 'algorithm', 'matplotlib', 'flutter', 'firebase'])"
      ]
     },
     "execution_count": 70,
     "metadata": {},
     "output_type": "execute_result"
    }
   ],
   "source": [
    "y_dict.keys()"
   ]
  },
  {
   "cell_type": "code",
   "execution_count": null,
   "metadata": {},
   "outputs": [],
   "source": []
  }
 ],
 "metadata": {
  "kernelspec": {
   "display_name": "Python 3",
   "language": "python",
   "name": "python3"
  },
  "language_info": {
   "codemirror_mode": {
    "name": "ipython",
    "version": 3
   },
   "file_extension": ".py",
   "mimetype": "text/x-python",
   "name": "python",
   "nbconvert_exporter": "python",
   "pygments_lexer": "ipython3",
   "version": "3.7.9"
  }
 },
 "nbformat": 4,
 "nbformat_minor": 4
}
