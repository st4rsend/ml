{
 "cells": [
  {
   "cell_type": "markdown",
   "id": "12b99974-8c5d-483e-88df-28ad28f82390",
   "metadata": {},
   "source": [
    "# This notebook handles initial Leaky ReLU evaluation"
   ]
  },
  {
   "cell_type": "code",
   "execution_count": 2,
   "id": "589f200c-98c2-4e86-b2aa-6b88370abaa6",
   "metadata": {},
   "outputs": [],
   "source": [
    "import pandas as pd\n",
    "import numpy as np\n",
    "import os\n",
    "import tensorflow as tf\n",
    "from tensorflow import keras\n",
    "from tensorflow.keras import layers\n",
    "from tensorflow.keras.models import Sequential\n",
    "import tensorflow_addons as tfa\n",
    "\n",
    "\n",
    "import matplotlib.pyplot as plt\n",
    "from joblib import dump, load\n",
    "\n",
    "import importlib\n",
    "import ml.standogs as standogs\n",
    "np.set_printoptions(precision=2, suppress=True)\n",
    "pd.options.display.float_format = \"{:,.2f}\".format"
   ]
  },
  {
   "cell_type": "code",
   "execution_count": 3,
   "id": "6a0327e5-6b92-4744-b583-4826f92febd3",
   "metadata": {},
   "outputs": [
    {
     "name": "stdout",
     "output_type": "stream",
     "text": [
      "Tensorflow version:  2.5.0\n",
      "Tensorflow GPU detection:  [PhysicalDevice(name='/physical_device:GPU:0', device_type='GPU')]\n"
     ]
    }
   ],
   "source": [
    "# gpus = tf.config.experimental.list_physical_devices('GPU')\n",
    "# tf.config.experimental.set_virtual_device_configuration(\n",
    "#         gpus[0],\n",
    "#         [tf.config.experimental.VirtualDeviceConfiguration(memory_limit=5000)])\n",
    "# logical_gpus = tf.config.experimental.list_logical_devices('GPU')\n",
    "# print(len(gpus), \"Physical GPUs,\", len(logical_gpus), \"Logical GPUs\")\n",
    "print(\"Tensorflow version: \", tf.__version__)\n",
    "print(\"Tensorflow GPU detection: \", tf.config.list_physical_devices('GPU'))"
   ]
  },
  {
   "cell_type": "code",
   "execution_count": 4,
   "id": "0be4f7ce-5534-4d77-90ae-b872ab3ccdef",
   "metadata": {},
   "outputs": [],
   "source": [
    "DATA_PATH = '../data/G2Net/g2net-gravitational-wave-detection/'\n",
    "MODEL_PATH = '../data/G2Net/models'\n",
    "TB_LOG_PATH = '../data/G2Net/tb_logs'\n",
    "AUTOTUNE = tf.data.AUTOTUNE\n",
    "\n",
    "SPLIT_RATIO = .9\n",
    "RANDOM_STATE = 42\n",
    "\n",
    "IMG_WIDTH = 32\n",
    "IMG_HEIGHT = 128\n"
   ]
  },
  {
   "cell_type": "code",
   "execution_count": 5,
   "id": "92e8ff25-8f18-45c7-aa1d-09e665e41aa8",
   "metadata": {},
   "outputs": [],
   "source": [
    "# base code from 'Hands on Machine Learning with Scikit-Learn, Keras & TensorFlow' from 'Aurélien Géron' pages 478, 479 \n",
    "class ResidualUnit(layers.Layer):\n",
    "    def __init__(self, activation, filters, strides=1, alpha=0.2, dropout=.3,  **kwargs):\n",
    "        super().__init__(**kwargs)\n",
    "        self.activation = activation\n",
    "        self.main_layers = [\n",
    "            layers.Conv2D(filters, 3, strides=strides,\n",
    "                         padding='same', use_bias=False),\n",
    "            layers.BatchNormalization(axis=-1),\n",
    "            self.activation,\n",
    "            layers.Conv2D(filters, 3, strides=1,\n",
    "                         padding='same', use_bias=False),\n",
    "            layers.BatchNormalization(axis=-1),\n",
    "            self.activation,\n",
    "            layers.Dropout(dropout)\n",
    "        ]\n",
    "        self.skip_layers = []\n",
    "        if strides > 1:\n",
    "            self.skip_layers = [\n",
    "                layers.Conv2D(filters, 1, strides=strides,\n",
    "                             padding='same', use_bias=False),\n",
    "                layers.BatchNormalization(axis=-1, momentum=.99),\n",
    "                self.activation,\n",
    "                layers.Dropout(dropout)\n",
    "            ]\n",
    "    \n",
    "    def get_config(self):\n",
    "        cfg = super().get_config()\n",
    "        return cfg    \n",
    "\n",
    "    \n",
    "    def call(self, inputs):\n",
    "        Z = inputs\n",
    "        for layer in self.main_layers:\n",
    "            Z = layer(Z)\n",
    "        skip_Z = inputs\n",
    "        for layer in self.skip_layers:\n",
    "            skip_Z = layer(skip_Z)\n",
    "        return self.activation(Z + skip_Z)"
   ]
  },
  {
   "cell_type": "code",
   "execution_count": null,
   "id": "6b4497ca-feb9-48b5-947c-f483597f205b",
   "metadata": {},
   "outputs": [],
   "source": []
  },
  {
   "cell_type": "code",
   "execution_count": 6,
   "id": "57051079-f96a-4e6e-a0a5-6b4e24d3051b",
   "metadata": {},
   "outputs": [],
   "source": [
    "train = tf.data.experimental.load(os.path.join(DATA_PATH, 'ds_train'))\n",
    "valid = tf.data.experimental.load(os.path.join(DATA_PATH, 'ds_valid'))"
   ]
  },
  {
   "cell_type": "code",
   "execution_count": 7,
   "id": "ca728b85-7ae9-4e61-bb10-1e801683c4d5",
   "metadata": {},
   "outputs": [],
   "source": [
    "BATCH_SIZE = 16\n",
    "\n",
    "# train_data = train.take(250000).map(prep).batch(BATCH_SIZE).prefetch(buffer_size=64)\n",
    "# valid_data = valid.take(25000).map(prep).cache().batch(BATCH_SIZE).prefetch(buffer_size=64)\n",
    "train_data = train.take(250000).batch(BATCH_SIZE).prefetch(buffer_size=64)\n",
    "valid_data = valid.take(25000).cache().batch(BATCH_SIZE).prefetch(buffer_size=64)"
   ]
  },
  {
   "cell_type": "code",
   "execution_count": null,
   "id": "5f6d165c-2ea8-4f2d-a96f-7953a0ab0002",
   "metadata": {},
   "outputs": [],
   "source": []
  },
  {
   "cell_type": "code",
   "execution_count": 8,
   "id": "ee0693d5-b191-4932-aa44-498dd9873897",
   "metadata": {},
   "outputs": [
    {
     "name": "stdout",
     "output_type": "stream",
     "text": [
      "Model: \"sequential\"\n",
      "_________________________________________________________________\n",
      "Layer (type)                 Output Shape              Param #   \n",
      "=================================================================\n",
      "rescaling (Rescaling)        (None, 32, 128, 3)        0         \n",
      "_________________________________________________________________\n",
      "conv2d (Conv2D)              (None, 16, 64, 64)        9408      \n",
      "_________________________________________________________________\n",
      "batch_normalization (BatchNo (None, 16, 64, 64)        256       \n",
      "_________________________________________________________________\n",
      "leaky_re_lu (LeakyReLU)      multiple                  0         \n",
      "_________________________________________________________________\n",
      "max_pooling2d (MaxPooling2D) (None, 8, 32, 64)         0         \n",
      "_________________________________________________________________\n",
      "residual_unit (ResidualUnit) (None, 8, 32, 64)         74240     \n",
      "_________________________________________________________________\n",
      "residual_unit_1 (ResidualUni (None, 8, 32, 64)         74240     \n",
      "_________________________________________________________________\n",
      "residual_unit_2 (ResidualUni (None, 8, 32, 64)         74240     \n",
      "_________________________________________________________________\n",
      "residual_unit_3 (ResidualUni (None, 4, 16, 128)        230912    \n",
      "_________________________________________________________________\n",
      "residual_unit_4 (ResidualUni (None, 4, 16, 128)        295936    \n",
      "_________________________________________________________________\n",
      "residual_unit_5 (ResidualUni (None, 4, 16, 128)        295936    \n",
      "_________________________________________________________________\n",
      "residual_unit_6 (ResidualUni (None, 2, 8, 256)         920576    \n",
      "_________________________________________________________________\n",
      "residual_unit_7 (ResidualUni (None, 2, 8, 256)         1181696   \n",
      "_________________________________________________________________\n",
      "residual_unit_8 (ResidualUni (None, 2, 8, 256)         1181696   \n",
      "_________________________________________________________________\n",
      "residual_unit_9 (ResidualUni (None, 2, 8, 256)         1181696   \n",
      "_________________________________________________________________\n",
      "residual_unit_10 (ResidualUn (None, 2, 8, 256)         1181696   \n",
      "_________________________________________________________________\n",
      "residual_unit_11 (ResidualUn (None, 2, 8, 256)         1181696   \n",
      "_________________________________________________________________\n",
      "residual_unit_12 (ResidualUn (None, 1, 4, 512)         3676160   \n",
      "_________________________________________________________________\n",
      "residual_unit_13 (ResidualUn (None, 1, 4, 512)         4722688   \n",
      "_________________________________________________________________\n",
      "residual_unit_14 (ResidualUn (None, 1, 4, 512)         4722688   \n",
      "_________________________________________________________________\n",
      "global_average_pooling2d (Gl (None, 512)               0         \n",
      "_________________________________________________________________\n",
      "flatten (Flatten)            (None, 512)               0         \n",
      "_________________________________________________________________\n",
      "dense (Dense)                (None, 64)                32832     \n",
      "_________________________________________________________________\n",
      "dropout_18 (Dropout)         (None, 64)                0         \n",
      "_________________________________________________________________\n",
      "dense_1 (Dense)              (None, 64)                4160      \n",
      "_________________________________________________________________\n",
      "dense_2 (Dense)              (None, 1)                 65        \n",
      "=================================================================\n",
      "Total params: 21,042,817\n",
      "Trainable params: 21,026,305\n",
      "Non-trainable params: 16,512\n",
      "_________________________________________________________________\n"
     ]
    }
   ],
   "source": [
    "metrics = [tf.keras.metrics.AUC(name='AUC'),\n",
    "           tf.keras.metrics.Accuracy(name='Accuracy'),\n",
    "          ]\n",
    "\n",
    "\n",
    "def create_model(top_count, alpha, dropout, top_neurons):\n",
    "    activation_layer = tf.keras.layers.LeakyReLU(alpha=alpha)\n",
    "    model = Sequential()\n",
    "    model.add(layers.experimental.preprocessing.Rescaling(1, offset=-0.5, input_shape=(IMG_WIDTH, IMG_HEIGHT, 3)))\n",
    "    model.add(layers.Conv2D(64, 7, 2, padding='same', use_bias=False))\n",
    "    \n",
    "    model.add(layers.BatchNormalization(axis=-1, momentum=.99))\n",
    "    model.add(activation_layer)\n",
    "    \n",
    "    model.add(layers.MaxPool2D(3, 2, 'same'))\n",
    "    prev_filters = 64\n",
    "    for filters in [64]*3 + [128]*3 + [256]*6 + [512]*3: \n",
    "        strides = 1 if filters == prev_filters else 2\n",
    "        model.add(ResidualUnit(activation_layer, filters, strides, alpha, dropout))\n",
    "        prev_filters = filters\n",
    "    model.add(layers.GlobalAvgPool2D())\n",
    "    model.add(layers.Flatten())\n",
    "    \n",
    "    for i in range(top_count):\n",
    "        if i > 0:\n",
    "            model.add(layers.Dropout(dropout))\n",
    "        model.add(layers.Dense(top_neurons))\n",
    "        model.add(activation_layer)\n",
    "    model.add(layers.Dense(1, activation='sigmoid'))\n",
    "    return model\n",
    "\n",
    "model = create_model(top_count=2, alpha=.2, dropout=.1, top_neurons=64, )\n",
    "model.summary()"
   ]
  },
  {
   "cell_type": "code",
   "execution_count": 9,
   "id": "f3a56034-2af5-4477-9188-3962e1de8bcb",
   "metadata": {},
   "outputs": [],
   "source": [
    "lr_schedule = keras.optimizers.schedules.ExponentialDecay(\n",
    "    initial_learning_rate=1e-3,\n",
    "    decay_steps=5000,\n",
    "    decay_rate=0.9)\n",
    "\n",
    "tb_callback = tf.keras.callbacks.TensorBoard(\n",
    "    os.path.join(TB_LOG_PATH,'leaky_1e3'),\n",
    "    update_freq=64,\n",
    "    )\n",
    "\n",
    "\n",
    "callbacks= [\n",
    "    tb_callback,\n",
    "]\n",
    "\n",
    "\n",
    "model.compile(\n",
    "    optimizer=tf.keras.optimizers.Adam(learning_rate=lr_schedule),\n",
    "    loss='binary_crossentropy', \n",
    "    metrics=metrics,\n",
    ")"
   ]
  },
  {
   "cell_type": "code",
   "execution_count": null,
   "id": "4be96cf0-53ce-40da-bf25-1ab82a16632f",
   "metadata": {},
   "outputs": [
    {
     "name": "stdout",
     "output_type": "stream",
     "text": [
      "Epoch 1/8\n",
      " 3532/15625 [=====>........................] - ETA: 10:47 - loss: 0.7057 - AUC: 0.5022 - Accuracy: 0.0000e+00- ETA: 10:48 - loss: 0.7057 - AUC: 0.502"
     ]
    }
   ],
   "source": [
    "model.fit(\n",
    "    train_data,\n",
    "    epochs=8,\n",
    "    validation_data=valid_data,\n",
    "    callbacks = callbacks,\n",
    "    )"
   ]
  },
  {
   "cell_type": "code",
   "execution_count": null,
   "id": "cb71746d-2c06-4b16-a92f-31a06ec501d8",
   "metadata": {},
   "outputs": [],
   "source": []
  },
  {
   "cell_type": "code",
   "execution_count": null,
   "id": "decec5d1-7d1e-410a-96d6-701c2b056ac7",
   "metadata": {},
   "outputs": [],
   "source": []
  },
  {
   "cell_type": "code",
   "execution_count": null,
   "id": "0577481b-3e7c-4e62-a607-bc8f3977ecad",
   "metadata": {},
   "outputs": [],
   "source": []
  },
  {
   "cell_type": "code",
   "execution_count": null,
   "id": "1b025613-2737-4a2f-be3b-59bf9bdcbbe9",
   "metadata": {},
   "outputs": [],
   "source": []
  },
  {
   "cell_type": "code",
   "execution_count": null,
   "id": "d3184513-63b9-4372-baf6-a7ce126020b8",
   "metadata": {},
   "outputs": [],
   "source": []
  },
  {
   "cell_type": "code",
   "execution_count": 11,
   "id": "4e4e5598-dcd3-451e-baa8-1a5b5a6d05f8",
   "metadata": {},
   "outputs": [
    {
     "name": "stderr",
     "output_type": "stream",
     "text": [
      "WARNING:absl:Found untraced functions such as conv2d_1_layer_call_fn, conv2d_1_layer_call_and_return_conditional_losses, conv2d_2_layer_call_fn, conv2d_2_layer_call_and_return_conditional_losses, dropout_layer_call_fn while saving (showing 5 of 255). These functions will not be directly callable after loading.\n"
     ]
    },
    {
     "name": "stdout",
     "output_type": "stream",
     "text": [
      "INFO:tensorflow:Assets written to: ..\\data\\poc_relu\\models\\ResNet34_crop_Leaky_model\\assets\n"
     ]
    },
    {
     "name": "stderr",
     "output_type": "stream",
     "text": [
      "INFO:tensorflow:Assets written to: ..\\data\\poc_relu\\models\\ResNet34_crop_Leaky_model\\assets\n"
     ]
    }
   ],
   "source": [
    "save=False\n",
    "if save:\n",
    "    model.save(os.path.join(MODEL_PATH,\"ResNet34_crop_Leaky_model\"), overwrite=True, include_optimizer=True)\n",
    "    saved_model = model\n",
    "else:\n",
    "    model = tf.keras.models.load_model(os.path.join(MODEL_PATH,\"ResNet34_crop_Leaky_model\"))"
   ]
  },
  {
   "cell_type": "code",
   "execution_count": 12,
   "id": "72ec18ed-05ae-4879-96d0-3c3a1c842d89",
   "metadata": {},
   "outputs": [],
   "source": [
    "importlib.reload(standogs)\n",
    "stats = standogs.eval_stats(model, ds_test, labelEncoder)"
   ]
  },
  {
   "cell_type": "code",
   "execution_count": 14,
   "id": "ecfe6f78-b518-4dc1-a562-ab1221149d15",
   "metadata": {},
   "outputs": [
    {
     "data": {
      "text/plain": [
       "['..\\\\data\\\\dog_stanford\\\\models\\\\RES_T2_512_EHC_D4_4e4_stats']"
      ]
     },
     "execution_count": 14,
     "metadata": {},
     "output_type": "execute_result"
    }
   ],
   "source": [
    "dump(stats,os.path.join(MODEL_PATH,\"RES_T2_512_EHC_D4_4e4_stats\"))"
   ]
  },
  {
   "cell_type": "code",
   "execution_count": null,
   "id": "e61aef98-134e-44ae-a64c-489c8e532219",
   "metadata": {},
   "outputs": [],
   "source": [
    "stats = load(os.path.join(MODEL_PATH, \"RESa1_T2_512_EHC_D5_4e5\"))"
   ]
  }
 ],
 "metadata": {
  "kernelspec": {
   "display_name": "Python 3",
   "language": "python",
   "name": "python3"
  },
  "language_info": {
   "codemirror_mode": {
    "name": "ipython",
    "version": 3
   },
   "file_extension": ".py",
   "mimetype": "text/x-python",
   "name": "python",
   "nbconvert_exporter": "python",
   "pygments_lexer": "ipython3",
   "version": "3.8.8"
  }
 },
 "nbformat": 4,
 "nbformat_minor": 5
}
