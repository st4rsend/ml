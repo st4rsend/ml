{
 "cells": [
  {
   "cell_type": "code",
   "execution_count": 1,
   "metadata": {},
   "outputs": [
    {
     "name": "stdout",
     "output_type": "stream",
     "text": [
      "Tensorflow version:  2.4.1\n",
      "Tensorflow GPU detection:  [PhysicalDevice(name='/physical_device:GPU:0', device_type='GPU')]\n"
     ]
    }
   ],
   "source": [
    "import os\n",
    "import time\n",
    "from joblib import dump, load\n",
    "\n",
    "import numpy as np\n",
    "import pandas as pd\n",
    "\n",
    "from sklearn.model_selection import train_test_split\n",
    "from sklearn.preprocessing import MultiLabelBinarizer\n",
    "\n",
    "import tensorflow as tf\n",
    "from tensorflow import keras\n",
    "from tensorflow.keras import layers\n",
    "\n",
    "import matplotlib.pyplot as plt\n",
    "\n",
    "data_path = \"..\\\\data\\\\stackoverflow\\\\\"\n",
    "model_path = data_path + \"models\\\\\"\n",
    "tb_path = os.path.join(model_path, \"tb_logs\")\n",
    "\n",
    "np.set_printoptions(precision=2, suppress=True)\n",
    "pd.options.display.float_format = \"{:,.2f}\".format\n",
    "\n",
    "# os.environ[\"CUDA_VISIBLE_DEVICES\"] = \"-1\"\n",
    "print(\"Tensorflow version: \", tf.__version__)\n",
    "print(\"Tensorflow GPU detection: \", tf.config.list_physical_devices('GPU'))"
   ]
  },
  {
   "cell_type": "code",
   "execution_count": 2,
   "metadata": {},
   "outputs": [],
   "source": [
    "def tb_logdir():\n",
    "    current_time = time.strftime(\"mlp_%Y%m%d-%H%M%S\")\n",
    "    return os.path.join(tb_path, current_time)\n",
    "\n"
   ]
  },
  {
   "cell_type": "code",
   "execution_count": 3,
   "metadata": {},
   "outputs": [],
   "source": [
    "y_dict = load(data_path + 'y_dict_top50.joblib')\n",
    "title_vectorizer = load(model_path + 'title_vectorizer.joblib')\n",
    "body_vectorizer = load(model_path + 'body_vectorizer_13.joblib')"
   ]
  },
  {
   "cell_type": "code",
   "execution_count": 4,
   "metadata": {},
   "outputs": [],
   "source": [
    "title_corpus = load(data_path + 'title_corpus.joblib')\n",
    "X_title = title_vectorizer.transform(title_corpus)\n",
    "\n",
    "body_corpus = load(data_path + 'body_corpus.joblib')\n",
    "X_body = body_vectorizer.fit_transform(body_corpus)\n",
    "\n"
   ]
  },
  {
   "cell_type": "code",
   "execution_count": 5,
   "metadata": {},
   "outputs": [
    {
     "data": {
      "text/plain": [
       "['determin smallest common divisor string',\n",
       " 'use trait object contain method return refer self',\n",
       " 'name function declar hoist put insid return statement',\n",
       " 'get valu input caus flicker react',\n",
       " 'assign vector atom type',\n",
       " 'get first key object use docker inspect format get name network contain',\n",
       " 'store choic vote count poll app array map',\n",
       " 'packag cran import packag cran',\n",
       " 'troubl get base r work',\n",
       " 'sql subqueri use filter specif row']"
      ]
     },
     "execution_count": 5,
     "metadata": {},
     "output_type": "execute_result"
    }
   ],
   "source": [
    "title_corpus[:10]"
   ]
  },
  {
   "cell_type": "code",
   "execution_count": 6,
   "metadata": {},
   "outputs": [
    {
     "data": {
      "text/plain": [
       "2638"
      ]
     },
     "execution_count": 6,
     "metadata": {},
     "output_type": "execute_result"
    }
   ],
   "source": [
    "body_vectorizer.vocabulary_['python']"
   ]
  },
  {
   "cell_type": "code",
   "execution_count": null,
   "metadata": {},
   "outputs": [],
   "source": []
  },
  {
   "cell_type": "code",
   "execution_count": 7,
   "metadata": {},
   "outputs": [
    {
     "data": {
      "text/plain": [
       "matrix([[0.]])"
      ]
     },
     "execution_count": 7,
     "metadata": {},
     "output_type": "execute_result"
    }
   ],
   "source": [
    "title_vectorizer.transform(['determin docker']).todense()[:,264]"
   ]
  },
  {
   "cell_type": "code",
   "execution_count": 8,
   "metadata": {},
   "outputs": [],
   "source": [
    "df_tags = pd.read_pickle(data_path + 'Top_Tags.pkl')\n",
    "\n",
    "mlb = MultiLabelBinarizer()\n",
    "y_tags = mlb.fit_transform(df_tags['Tags_T50'])"
   ]
  },
  {
   "cell_type": "code",
   "execution_count": 9,
   "metadata": {},
   "outputs": [
    {
     "data": {
      "text/plain": [
       "(array([39], dtype=int64),)"
      ]
     },
     "execution_count": 9,
     "metadata": {},
     "output_type": "execute_result"
    }
   ],
   "source": [
    "np.where(mlb.classes_==\"python\")"
   ]
  },
  {
   "cell_type": "code",
   "execution_count": 10,
   "metadata": {},
   "outputs": [
    {
     "data": {
      "text/plain": [
       "array([1, 0, 0, 0, 1, 1, 0, 0, 1, 0])"
      ]
     },
     "execution_count": 10,
     "metadata": {},
     "output_type": "execute_result"
    }
   ],
   "source": [
    "y_tags[:,39][20:30]"
   ]
  },
  {
   "cell_type": "code",
   "execution_count": 11,
   "metadata": {},
   "outputs": [
    {
     "data": {
      "text/plain": [
       "20    1\n",
       "21    0\n",
       "22    0\n",
       "23    0\n",
       "24    1\n",
       "25    1\n",
       "26    0\n",
       "27    0\n",
       "28    1\n",
       "29    0\n",
       "Name: Tags_T50, dtype: int64"
      ]
     },
     "execution_count": 11,
     "metadata": {},
     "output_type": "execute_result"
    }
   ],
   "source": [
    "y_dict['python'][20:30]"
   ]
  },
  {
   "cell_type": "code",
   "execution_count": 12,
   "metadata": {},
   "outputs": [],
   "source": [
    "y_python = y_tags[:,np.where(mlb.classes_==\"python\")[0][0]]"
   ]
  },
  {
   "cell_type": "code",
   "execution_count": 13,
   "metadata": {},
   "outputs": [
    {
     "data": {
      "text/plain": [
       "array([1, 0, 0, 0, 1, 1, 0, 0, 1, 0])"
      ]
     },
     "execution_count": 13,
     "metadata": {},
     "output_type": "execute_result"
    }
   ],
   "source": [
    "y_python[20:30]"
   ]
  },
  {
   "cell_type": "code",
   "execution_count": 14,
   "metadata": {},
   "outputs": [
    {
     "data": {
      "text/plain": [
       "matrix([[0.],\n",
       "        [0.],\n",
       "        [0.],\n",
       "        [0.],\n",
       "        [0.],\n",
       "        [0.],\n",
       "        [0.],\n",
       "        [0.],\n",
       "        [0.],\n",
       "        [0.]])"
      ]
     },
     "execution_count": 14,
     "metadata": {},
     "output_type": "execute_result"
    }
   ],
   "source": [
    "X_title[:10,264].todense()"
   ]
  },
  {
   "cell_type": "code",
   "execution_count": 143,
   "metadata": {},
   "outputs": [],
   "source": [
    "count = 50000\n",
    "# X_train, X_test, y_train, y_test = train_test_split(X_title[:count].toarray(), y_tags[:count], random_state=42, test_size=0.2, shuffle=True)\n",
    "X_train, X_test, y_train, y_test = train_test_split(X_body[:count].toarray(), y_tags[:count], random_state=97, shuffle=True, test_size=0.2)\n",
    "# X_train, X_test, y_train, y_test = train_test_split(X_body[:count].toarray(), y_tags[:count], shuffle=False, test_size=0.2)"
   ]
  },
  {
   "cell_type": "code",
   "execution_count": 144,
   "metadata": {},
   "outputs": [
    {
     "name": "stdout",
     "output_type": "stream",
     "text": [
      "Model: \"sequential_23\"\n",
      "_________________________________________________________________\n",
      "Layer (type)                 Output Shape              Param #   \n",
      "=================================================================\n",
      "dense_69 (Dense)             (None, 48)                192048    \n",
      "_________________________________________________________________\n",
      "dropout_44 (Dropout)         (None, 48)                0         \n",
      "_________________________________________________________________\n",
      "dense_70 (Dense)             (None, 48)                2352      \n",
      "_________________________________________________________________\n",
      "dropout_45 (Dropout)         (None, 48)                0         \n",
      "_________________________________________________________________\n",
      "dense_71 (Dense)             (None, 51)                2499      \n",
      "=================================================================\n",
      "Total params: 196,899\n",
      "Trainable params: 196,899\n",
      "Non-trainable params: 0\n",
      "_________________________________________________________________\n"
     ]
    }
   ],
   "source": [
    "embedding_dim = 8\n",
    "model = keras.Sequential([\n",
    "#     layers.Embedding(X_train.shape[1],16),\n",
    "#     layers.Embedding(X_train.shape[1],128),\n",
    "#     layers.LSTM(128),\n",
    "#     layers.GlobalAveragePooling1D(),\n",
    "#     layers.MaxPool1D(),\n",
    "#     layers.Dense(X_train.shape[1], activation='relu'),\n",
    "#     layers.Dense(embedding_dim, activation='relu'),\n",
    "    layers.Dense(48, input_shape=(X_train.shape[1],), activation='relu',\n",
    "#                  kernel_initializer=\"he_normal\",\n",
    "#                  kernel_regularizer=keras.regularizers.l1(0.000003)\n",
    "                ),\n",
    "#     layers.BatchNormalization(),\n",
    "    layers.Dropout(.25),\n",
    "\n",
    "    layers.Dense(48, activation='relu', \n",
    "#                  kernel_initializer=\"he_normal\",\n",
    "#                  kernel_regularizer=keras.regularizers.l1(0.000003)\n",
    "                ),\n",
    "    layers.Dropout(.25),\n",
    "#     layers.Dense(32, activation='relu'),\n",
    "#     layers.Dropout(.25),\n",
    "#     layers.Dense(51, activation='softmax'),\n",
    "    layers.Dense(51, activation='sigmoid'),\n",
    "])\n",
    "\n",
    "optimizer = keras.optimizers.Adam(lr=0.0003)\n",
    "# optimizer = keras.optimizers.Adam(lr=0.01)\n",
    "model.compile(\n",
    "    optimizer=optimizer,\n",
    "#     optimizer=\"sgd\",\n",
    "    loss='binary_crossentropy',\n",
    "#     loss='categorical_crossentropy',\n",
    "#     loss='sparse_categorical_crossentropy',\n",
    "#     loss='mse',\n",
    "#     metrics=['accuracy'],\n",
    "    metrics=['AUC'],\n",
    ")\n",
    "model.summary()"
   ]
  },
  {
   "cell_type": "code",
   "execution_count": 145,
   "metadata": {},
   "outputs": [
    {
     "name": "stdout",
     "output_type": "stream",
     "text": [
      "Epoch 1/25\n",
      "625/625 [==============================] - 4s 6ms/step - loss: 0.4070 - auc: 0.5329 - val_loss: 0.1106 - val_auc: 0.7767\n",
      "Epoch 2/25\n",
      "625/625 [==============================] - 3s 5ms/step - loss: 0.1257 - auc: 0.7021 - val_loss: 0.1074 - val_auc: 0.8097\n",
      "Epoch 3/25\n",
      "625/625 [==============================] - 3s 5ms/step - loss: 0.1195 - auc: 0.7426 - val_loss: 0.1020 - val_auc: 0.8504\n",
      "Epoch 4/25\n",
      "625/625 [==============================] - 3s 5ms/step - loss: 0.1112 - auc: 0.7954 - val_loss: 0.0949 - val_auc: 0.8885\n",
      "Epoch 5/25\n",
      "625/625 [==============================] - 3s 5ms/step - loss: 0.1039 - auc: 0.8382 - val_loss: 0.0889 - val_auc: 0.9138\n",
      "Epoch 6/25\n",
      "625/625 [==============================] - 3s 5ms/step - loss: 0.0974 - auc: 0.8697 - val_loss: 0.0844 - val_auc: 0.9273\n",
      "Epoch 7/25\n",
      "625/625 [==============================] - 3s 5ms/step - loss: 0.0924 - auc: 0.8905 - val_loss: 0.0808 - val_auc: 0.9306\n",
      "Epoch 8/25\n",
      "625/625 [==============================] - 3s 5ms/step - loss: 0.0888 - auc: 0.9049 - val_loss: 0.0775 - val_auc: 0.9363\n",
      "Epoch 9/25\n",
      "625/625 [==============================] - 3s 5ms/step - loss: 0.0843 - auc: 0.9178 - val_loss: 0.0748 - val_auc: 0.9384\n",
      "Epoch 10/25\n",
      "625/625 [==============================] - 4s 6ms/step - loss: 0.0814 - auc: 0.9247 - val_loss: 0.0729 - val_auc: 0.9413\n",
      "Epoch 11/25\n",
      "625/625 [==============================] - 3s 5ms/step - loss: 0.0788 - auc: 0.9309 - val_loss: 0.0712 - val_auc: 0.9447\n",
      "Epoch 12/25\n",
      "625/625 [==============================] - 3s 5ms/step - loss: 0.0761 - auc: 0.9353 - val_loss: 0.0706 - val_auc: 0.9436\n",
      "Epoch 13/25\n",
      "625/625 [==============================] - 3s 5ms/step - loss: 0.0741 - auc: 0.9398 - val_loss: 0.0695 - val_auc: 0.9459\n",
      "Epoch 14/25\n",
      "625/625 [==============================] - 3s 5ms/step - loss: 0.0725 - auc: 0.9429 - val_loss: 0.0689 - val_auc: 0.9471\n",
      "Epoch 15/25\n",
      "625/625 [==============================] - 3s 6ms/step - loss: 0.0707 - auc: 0.9467 - val_loss: 0.0682 - val_auc: 0.9484\n",
      "Epoch 16/25\n",
      "625/625 [==============================] - 4s 6ms/step - loss: 0.0695 - auc: 0.9482 - val_loss: 0.0676 - val_auc: 0.9497\n",
      "Epoch 17/25\n",
      "625/625 [==============================] - 3s 5ms/step - loss: 0.0683 - auc: 0.9507 - val_loss: 0.0676 - val_auc: 0.9448\n",
      "Epoch 18/25\n",
      "625/625 [==============================] - 3s 5ms/step - loss: 0.0670 - auc: 0.9525 - val_loss: 0.0668 - val_auc: 0.9469\n",
      "Epoch 19/25\n",
      "625/625 [==============================] - 4s 6ms/step - loss: 0.0659 - auc: 0.9544 - val_loss: 0.0669 - val_auc: 0.9475\n",
      "Epoch 20/25\n",
      "625/625 [==============================] - 3s 6ms/step - loss: 0.0645 - auc: 0.9570 - val_loss: 0.0663 - val_auc: 0.9479\n",
      "Epoch 21/25\n",
      "625/625 [==============================] - 3s 5ms/step - loss: 0.0639 - auc: 0.9578 - val_loss: 0.0661 - val_auc: 0.9490\n",
      "Epoch 22/25\n",
      "625/625 [==============================] - 3s 5ms/step - loss: 0.0634 - auc: 0.9578 - val_loss: 0.0660 - val_auc: 0.9500\n",
      "Epoch 23/25\n",
      "625/625 [==============================] - 3s 5ms/step - loss: 0.0623 - auc: 0.9595 - val_loss: 0.0656 - val_auc: 0.9504\n",
      "Epoch 24/25\n",
      "625/625 [==============================] - 3s 5ms/step - loss: 0.0614 - auc: 0.9613 - val_loss: 0.0659 - val_auc: 0.9456\n",
      "Epoch 25/25\n",
      "625/625 [==============================] - 3s 5ms/step - loss: 0.0611 - auc: 0.9619 - val_loss: 0.0659 - val_auc: 0.9457\n"
     ]
    }
   ],
   "source": [
    "tb_callback = keras.callbacks.TensorBoard(tb_logdir())\n",
    "history = model.fit(\n",
    "    X_train,\n",
    "    y_train,\n",
    "    batch_size=64,\n",
    "    epochs=25,\n",
    "    validation_data=(X_test, y_test),\n",
    "#     validation_split=0.1,\n",
    "    validation_steps=1,\n",
    "    callbacks=[tb_callback],\n",
    ")"
   ]
  },
  {
   "cell_type": "code",
   "execution_count": 137,
   "metadata": {},
   "outputs": [
    {
     "data": {
      "image/png": "[encoded data removed]",
      "text/plain": [
       "<Figure size 576x360 with 1 Axes>"
      ]
     },
     "metadata": {
      "needs_background": "light"
     },
     "output_type": "display_data"
    }
   ],
   "source": [
    "pd.DataFrame(history.history).plot(figsize=(8,5))\n",
    "plt.grid(True)\n",
    "# plt.gca().set_ylim(0,1)\n",
    "plt.show()"
   ]
  },
  {
   "cell_type": "code",
   "execution_count": 138,
   "metadata": {},
   "outputs": [
    {
     "name": "stdout",
     "output_type": "stream",
     "text": [
      "313/313 [==============================] - 1s 4ms/step - loss: 0.0652 - auc: 0.9469\n"
     ]
    },
    {
     "data": {
      "text/plain": [
       "[0.06523797661066055, 0.946922779083252]"
      ]
     },
     "execution_count": 138,
     "metadata": {},
     "output_type": "execute_result"
    }
   ],
   "source": [
    "model.evaluate(X_test, y_test)"
   ]
  },
  {
   "cell_type": "code",
   "execution_count": 139,
   "metadata": {},
   "outputs": [],
   "source": [
    "res = model.predict(X_test)"
   ]
  },
  {
   "cell_type": "code",
   "execution_count": 140,
   "metadata": {},
   "outputs": [
    {
     "data": {
      "text/plain": [
       "[('javascript', 'reactjs'),\n",
       " ('r',),\n",
       " ('other',),\n",
       " ('swiftui',),\n",
       " ('r',),\n",
       " ('powershell',),\n",
       " ('c',),\n",
       " ('ggplot2', 'r'),\n",
       " ('javascript',),\n",
       " ('python',)]"
      ]
     },
     "execution_count": 140,
     "metadata": {},
     "output_type": "execute_result"
    }
   ],
   "source": [
    "mlb.inverse_transform(y_test[1000:1010])"
   ]
  },
  {
   "cell_type": "code",
   "execution_count": 149,
   "metadata": {},
   "outputs": [
    {
     "data": {
      "text/plain": [
       "[('javascript', 'reactjs'),\n",
       " ('r',),\n",
       " ('other',),\n",
       " ('ios', 'swift', 'swiftui'),\n",
       " ('r',),\n",
       " ('powershell',),\n",
       " (),\n",
       " ('python', 'r'),\n",
       " ('java', 'other'),\n",
       " ('other', 'python')]"
      ]
     },
     "execution_count": 149,
     "metadata": {},
     "output_type": "execute_result"
    }
   ],
   "source": [
    "threshold = .25\n",
    "tmp= pd.DataFrame(res[1000:1010]).applymap(lambda x:1 if x>threshold else 0)\n",
    "mlb.inverse_transform(tmp.values)"
   ]
  },
  {
   "cell_type": "code",
   "execution_count": 75,
   "metadata": {},
   "outputs": [
    {
     "data": {
      "text/plain": [
       "[('android', 'firebase'),\n",
       " ('pandas', 'python'),\n",
       " ('javascript',),\n",
       " (),\n",
       " ('python',),\n",
       " ('javascript',)]"
      ]
     },
     "execution_count": 75,
     "metadata": {},
     "output_type": "execute_result"
    }
   ],
   "source": []
  },
  {
   "cell_type": "code",
   "execution_count": 46,
   "metadata": {},
   "outputs": [
    {
     "data": {
      "text/plain": [
       "array([[0.41, 0.  , 0.01, 0.02, 0.  , 0.  ],\n",
       "       [0.05, 0.  , 0.07, 0.06, 0.  , 0.11],\n",
       "       [0.  , 0.  , 0.03, 0.01, 0.01, 0.03],\n",
       "       [0.02, 0.  , 0.01, 0.01, 0.  , 0.  ],\n",
       "       [0.  , 0.  , 0.01, 0.  , 0.  , 0.  ],\n",
       "       [0.  , 0.  , 0.  , 0.  , 0.01, 0.  ],\n",
       "       [0.  , 0.  , 0.  , 0.  , 0.01, 0.  ],\n",
       "       [0.09, 0.  , 0.06, 0.06, 0.01, 0.03],\n",
       "       [0.  , 0.  , 0.  , 0.  , 0.02, 0.01],\n",
       "       [0.01, 0.  , 0.04, 0.06, 0.  , 0.02],\n",
       "       [0.  , 0.3 , 0.  , 0.  , 0.03, 0.  ],\n",
       "       [0.  , 0.02, 0.  , 0.  , 0.07, 0.  ],\n",
       "       [0.  , 0.  , 0.  , 0.02, 0.  , 0.  ],\n",
       "       [0.  , 0.02, 0.  , 0.  , 0.  , 0.  ],\n",
       "       [0.  , 0.01, 0.01, 0.02, 0.  , 0.  ],\n",
       "       [0.42, 0.  , 0.02, 0.01, 0.  , 0.01],\n",
       "       [0.13, 0.  , 0.01, 0.02, 0.  , 0.  ],\n",
       "       [0.  , 0.  , 0.  , 0.  , 0.  , 0.  ],\n",
       "       [0.  , 0.  , 0.  , 0.  , 0.  , 0.  ],\n",
       "       [0.  , 0.  , 0.  , 0.01, 0.  , 0.  ],\n",
       "       [0.01, 0.  , 0.1 , 0.15, 0.  , 0.04],\n",
       "       [0.07, 0.  , 0.02, 0.01, 0.  , 0.01],\n",
       "       [0.13, 0.  , 0.02, 0.04, 0.01, 0.01],\n",
       "       [0.09, 0.  , 0.43, 0.22, 0.  , 0.45],\n",
       "       [0.  , 0.  , 0.08, 0.08, 0.  , 0.03],\n",
       "       [0.01, 0.  , 0.05, 0.03, 0.  , 0.01],\n",
       "       [0.1 , 0.  , 0.01, 0.01, 0.  , 0.  ],\n",
       "       [0.01, 0.  , 0.02, 0.03, 0.  , 0.  ],\n",
       "       [0.  , 0.03, 0.  , 0.  , 0.15, 0.  ],\n",
       "       [0.02, 0.  , 0.01, 0.01, 0.  , 0.  ],\n",
       "       [0.  , 0.  , 0.  , 0.01, 0.  , 0.  ],\n",
       "       [0.03, 0.  , 0.07, 0.03, 0.  , 0.03],\n",
       "       [0.  , 0.07, 0.  , 0.  , 0.17, 0.  ],\n",
       "       [0.  , 0.  , 0.  , 0.01, 0.  , 0.  ],\n",
       "       [0.17, 0.02, 0.09, 0.1 , 0.05, 0.07],\n",
       "       [0.  , 0.78, 0.  , 0.  , 0.09, 0.  ],\n",
       "       [0.02, 0.  , 0.06, 0.08, 0.  , 0.02],\n",
       "       [0.  , 0.  , 0.  , 0.01, 0.  , 0.  ],\n",
       "       [0.  , 0.  , 0.01, 0.  , 0.  , 0.  ],\n",
       "       [0.  , 0.76, 0.03, 0.05, 0.8 , 0.01],\n",
       "       [0.  , 0.18, 0.01, 0.02, 0.25, 0.  ],\n",
       "       [0.  , 0.1 , 0.  , 0.  , 0.03, 0.01],\n",
       "       [0.17, 0.  , 0.17, 0.04, 0.  , 0.24],\n",
       "       [0.  , 0.  , 0.  , 0.01, 0.  , 0.  ],\n",
       "       [0.  , 0.  , 0.  , 0.01, 0.  , 0.  ],\n",
       "       [0.  , 0.  , 0.  , 0.  , 0.  , 0.  ],\n",
       "       [0.  , 0.01, 0.  , 0.  , 0.02, 0.  ],\n",
       "       [0.07, 0.  , 0.02, 0.01, 0.  , 0.02],\n",
       "       [0.03, 0.  , 0.01, 0.01, 0.  , 0.01],\n",
       "       [0.05, 0.  , 0.06, 0.02, 0.  , 0.17],\n",
       "       [0.02, 0.  , 0.08, 0.02, 0.  , 0.09]], dtype=float32)"
      ]
     },
     "execution_count": 46,
     "metadata": {},
     "output_type": "execute_result"
    }
   ],
   "source": [
    "res[254:260].T"
   ]
  },
  {
   "cell_type": "code",
   "execution_count": 38,
   "metadata": {},
   "outputs": [
    {
     "data": {
      "text/plain": [
       "[('android', 'firebase'), ('dataframe', 'pandas', 'python')]"
      ]
     },
     "execution_count": 38,
     "metadata": {},
     "output_type": "execute_result"
    }
   ],
   "source": [
    "\n",
    "mlb.inverse_transform(y_test[254:256])\n",
    "# pd.DataFrame(res[254])"
   ]
  },
  {
   "cell_type": "code",
   "execution_count": null,
   "metadata": {},
   "outputs": [],
   "source": []
  },
  {
   "cell_type": "code",
   "execution_count": 39,
   "metadata": {},
   "outputs": [
    {
     "data": {
      "text/plain": [
       "array([[1, 0, 0, 0, 0, 0, 0, 0, 0, 0, 0, 0, 0, 0, 0, 1, 0, 0, 0, 0, 0, 0,\n",
       "        0, 0, 0, 0, 0, 0, 0, 0, 0, 0, 0, 0, 0, 0, 0, 0, 0, 0, 0, 0, 0, 0,\n",
       "        0, 0, 0, 0, 0, 0, 0],\n",
       "       [0, 0, 0, 0, 0, 0, 0, 0, 0, 0, 1, 0, 0, 0, 0, 0, 0, 0, 0, 0, 0, 0,\n",
       "        0, 0, 0, 0, 0, 0, 0, 0, 0, 0, 0, 0, 0, 1, 0, 0, 0, 1, 0, 0, 0, 0,\n",
       "        0, 0, 0, 0, 0, 0, 0]])"
      ]
     },
     "execution_count": 39,
     "metadata": {},
     "output_type": "execute_result"
    }
   ],
   "source": [
    "y_test[254:256]"
   ]
  },
  {
   "cell_type": "code",
   "execution_count": 163,
   "metadata": {},
   "outputs": [
    {
     "data": {
      "text/plain": [
       "array([[1.  , 0.46],\n",
       "       [0.  , 0.01],\n",
       "       [0.  , 0.  ],\n",
       "       [0.  , 0.04],\n",
       "       [0.  , 0.01],\n",
       "       [0.  , 0.  ],\n",
       "       [0.  , 0.  ],\n",
       "       [0.  , 0.1 ],\n",
       "       [0.  , 0.  ],\n",
       "       [0.  , 0.  ],\n",
       "       [0.  , 0.  ],\n",
       "       [0.  , 0.  ],\n",
       "       [0.  , 0.  ],\n",
       "       [0.  , 0.  ],\n",
       "       [0.  , 0.  ],\n",
       "       [1.  , 0.44],\n",
       "       [0.  , 0.18],\n",
       "       [0.  , 0.  ],\n",
       "       [0.  , 0.01],\n",
       "       [0.  , 0.  ],\n",
       "       [0.  , 0.  ],\n",
       "       [0.  , 0.06],\n",
       "       [0.  , 0.06],\n",
       "       [0.  , 0.07],\n",
       "       [0.  , 0.  ],\n",
       "       [0.  , 0.  ],\n",
       "       [0.  , 0.12],\n",
       "       [0.  , 0.02],\n",
       "       [0.  , 0.  ],\n",
       "       [0.  , 0.02],\n",
       "       [0.  , 0.  ],\n",
       "       [0.  , 0.03],\n",
       "       [0.  , 0.  ],\n",
       "       [0.  , 0.  ],\n",
       "       [0.  , 0.11],\n",
       "       [0.  , 0.  ],\n",
       "       [0.  , 0.03],\n",
       "       [0.  , 0.01],\n",
       "       [0.  , 0.01],\n",
       "       [0.  , 0.  ],\n",
       "       [0.  , 0.  ],\n",
       "       [0.  , 0.  ],\n",
       "       [0.  , 0.05],\n",
       "       [0.  , 0.  ],\n",
       "       [0.  , 0.  ],\n",
       "       [0.  , 0.  ],\n",
       "       [0.  , 0.  ],\n",
       "       [0.  , 0.04],\n",
       "       [0.  , 0.02],\n",
       "       [0.  , 0.02],\n",
       "       [0.  , 0.01]])"
      ]
     },
     "execution_count": 163,
     "metadata": {},
     "output_type": "execute_result"
    }
   ],
   "source": [
    "np.vstack((y_test[254], res[254])).T\n"
   ]
  },
  {
   "cell_type": "code",
   "execution_count": 47,
   "metadata": {},
   "outputs": [
    {
     "data": {
      "text/plain": [
       "array([0.01, 0.  , 0.01, 0.  , 0.  , 0.  , 0.01, 0.05, 0.05, 0.01, 0.02,\n",
       "       0.  , 0.  , 0.  , 0.  , 0.  , 0.  , 0.  , 0.  , 0.  , 0.01, 0.  ,\n",
       "       0.04, 0.1 , 0.  , 0.01, 0.  , 0.  , 0.  , 0.01, 0.01, 0.01, 0.01,\n",
       "       0.  , 0.15, 0.07, 0.01, 0.  , 0.  , 0.2 , 0.03, 0.08, 0.01, 0.01,\n",
       "       0.02, 0.  , 0.  , 0.01, 0.  , 0.01, 0.  ], dtype=float32)"
      ]
     },
     "execution_count": 47,
     "metadata": {},
     "output_type": "execute_result"
    }
   ],
   "source": [
    "res[39]"
   ]
  },
  {
   "cell_type": "code",
   "execution_count": 258,
   "metadata": {},
   "outputs": [
    {
     "data": {
      "text/plain": [
       "1"
      ]
     },
     "execution_count": 258,
     "metadata": {},
     "output_type": "execute_result"
    }
   ],
   "source": [
    "y_python[28]"
   ]
  },
  {
   "cell_type": "code",
   "execution_count": 377,
   "metadata": {},
   "outputs": [
    {
     "ename": "ValueError",
     "evalue": "in user code:\n\n    c:\\users\\vince\\miniconda3\\envs\\tfml\\lib\\site-packages\\tensorflow\\python\\keras\\engine\\training.py:1478 predict_function  *\n        return step_function(self, iterator)\n    c:\\users\\vince\\miniconda3\\envs\\tfml\\lib\\site-packages\\tensorflow\\python\\keras\\engine\\training.py:1468 step_function  **\n        outputs = model.distribute_strategy.run(run_step, args=(data,))\n    c:\\users\\vince\\miniconda3\\envs\\tfml\\lib\\site-packages\\tensorflow\\python\\distribute\\distribute_lib.py:1259 run\n        return self._extended.call_for_each_replica(fn, args=args, kwargs=kwargs)\n    c:\\users\\vince\\miniconda3\\envs\\tfml\\lib\\site-packages\\tensorflow\\python\\distribute\\distribute_lib.py:2730 call_for_each_replica\n        return self._call_for_each_replica(fn, args, kwargs)\n    c:\\users\\vince\\miniconda3\\envs\\tfml\\lib\\site-packages\\tensorflow\\python\\distribute\\distribute_lib.py:3417 _call_for_each_replica\n        return fn(*args, **kwargs)\n    c:\\users\\vince\\miniconda3\\envs\\tfml\\lib\\site-packages\\tensorflow\\python\\keras\\engine\\training.py:1461 run_step  **\n        outputs = model.predict_step(data)\n    c:\\users\\vince\\miniconda3\\envs\\tfml\\lib\\site-packages\\tensorflow\\python\\keras\\engine\\training.py:1434 predict_step\n        return self(x, training=False)\n    c:\\users\\vince\\miniconda3\\envs\\tfml\\lib\\site-packages\\tensorflow\\python\\keras\\engine\\base_layer.py:998 __call__\n        input_spec.assert_input_compatibility(self.input_spec, inputs, self.name)\n    c:\\users\\vince\\miniconda3\\envs\\tfml\\lib\\site-packages\\tensorflow\\python\\keras\\engine\\input_spec.py:259 assert_input_compatibility\n        ' but received input with shape ' + display_shape(x.shape))\n\n    ValueError: Input 0 of layer sequential_44 is incompatible with the layer: expected axis -1 of input shape to have value 1000 but received input with shape (None, 1)\n",
     "output_type": "error",
     "traceback": [
      "\u001b[1;31m---------------------------------------------------------------------------\u001b[0m",
      "\u001b[1;31mValueError\u001b[0m                                Traceback (most recent call last)",
      "\u001b[1;32m<ipython-input-377-ef8876253a5e>\u001b[0m in \u001b[0;36m<module>\u001b[1;34m\u001b[0m\n\u001b[1;32m----> 1\u001b[1;33m \u001b[0mres\u001b[0m \u001b[1;33m=\u001b[0m \u001b[0mmodel\u001b[0m\u001b[1;33m.\u001b[0m\u001b[0mpredict\u001b[0m\u001b[1;33m(\u001b[0m\u001b[0mX_test\u001b[0m\u001b[1;33m[\u001b[0m\u001b[1;36m39\u001b[0m\u001b[1;33m]\u001b[0m\u001b[1;33m)\u001b[0m\u001b[1;33m\u001b[0m\u001b[1;33m\u001b[0m\u001b[0m\n\u001b[0m\u001b[0;32m      2\u001b[0m \u001b[1;32mfor\u001b[0m \u001b[0mz\u001b[0m \u001b[1;32min\u001b[0m \u001b[0mnp\u001b[0m\u001b[1;33m.\u001b[0m\u001b[0marange\u001b[0m\u001b[1;33m(\u001b[0m\u001b[0mres\u001b[0m\u001b[1;33m.\u001b[0m\u001b[0mshape\u001b[0m\u001b[1;33m[\u001b[0m\u001b[1;36m0\u001b[0m\u001b[1;33m]\u001b[0m\u001b[1;33m)\u001b[0m\u001b[1;33m:\u001b[0m\u001b[1;33m\u001b[0m\u001b[1;33m\u001b[0m\u001b[0m\n\u001b[0;32m      3\u001b[0m     \u001b[0mclasses\u001b[0m \u001b[1;33m=\u001b[0m \u001b[1;34m\"\"\u001b[0m\u001b[1;33m\u001b[0m\u001b[1;33m\u001b[0m\u001b[0m\n\u001b[0;32m      4\u001b[0m     \u001b[1;32mfor\u001b[0m \u001b[0mr\u001b[0m \u001b[1;32min\u001b[0m \u001b[0mnp\u001b[0m\u001b[1;33m.\u001b[0m\u001b[0marange\u001b[0m\u001b[1;33m(\u001b[0m\u001b[0mlen\u001b[0m\u001b[1;33m(\u001b[0m\u001b[0mmlb\u001b[0m\u001b[1;33m.\u001b[0m\u001b[0mclasses_\u001b[0m\u001b[1;33m)\u001b[0m\u001b[1;33m)\u001b[0m\u001b[1;33m:\u001b[0m\u001b[1;33m\u001b[0m\u001b[1;33m\u001b[0m\u001b[0m\n\u001b[0;32m      5\u001b[0m         \u001b[1;32mif\u001b[0m \u001b[0mres\u001b[0m\u001b[1;33m[\u001b[0m\u001b[0mz\u001b[0m\u001b[1;33m]\u001b[0m\u001b[1;33m[\u001b[0m\u001b[0mr\u001b[0m\u001b[1;33m]\u001b[0m\u001b[1;33m>\u001b[0m\u001b[1;36m.09\u001b[0m\u001b[1;33m:\u001b[0m\u001b[1;33m\u001b[0m\u001b[1;33m\u001b[0m\u001b[0m\n",
      "\u001b[1;32mc:\\users\\vince\\miniconda3\\envs\\tfml\\lib\\site-packages\\tensorflow\\python\\keras\\engine\\training.py\u001b[0m in \u001b[0;36mpredict\u001b[1;34m(self, x, batch_size, verbose, steps, callbacks, max_queue_size, workers, use_multiprocessing)\u001b[0m\n\u001b[0;32m   1627\u001b[0m           \u001b[1;32mfor\u001b[0m \u001b[0mstep\u001b[0m \u001b[1;32min\u001b[0m \u001b[0mdata_handler\u001b[0m\u001b[1;33m.\u001b[0m\u001b[0msteps\u001b[0m\u001b[1;33m(\u001b[0m\u001b[1;33m)\u001b[0m\u001b[1;33m:\u001b[0m\u001b[1;33m\u001b[0m\u001b[1;33m\u001b[0m\u001b[0m\n\u001b[0;32m   1628\u001b[0m             \u001b[0mcallbacks\u001b[0m\u001b[1;33m.\u001b[0m\u001b[0mon_predict_batch_begin\u001b[0m\u001b[1;33m(\u001b[0m\u001b[0mstep\u001b[0m\u001b[1;33m)\u001b[0m\u001b[1;33m\u001b[0m\u001b[1;33m\u001b[0m\u001b[0m\n\u001b[1;32m-> 1629\u001b[1;33m             \u001b[0mtmp_batch_outputs\u001b[0m \u001b[1;33m=\u001b[0m \u001b[0mself\u001b[0m\u001b[1;33m.\u001b[0m\u001b[0mpredict_function\u001b[0m\u001b[1;33m(\u001b[0m\u001b[0miterator\u001b[0m\u001b[1;33m)\u001b[0m\u001b[1;33m\u001b[0m\u001b[1;33m\u001b[0m\u001b[0m\n\u001b[0m\u001b[0;32m   1630\u001b[0m             \u001b[1;32mif\u001b[0m \u001b[0mdata_handler\u001b[0m\u001b[1;33m.\u001b[0m\u001b[0mshould_sync\u001b[0m\u001b[1;33m:\u001b[0m\u001b[1;33m\u001b[0m\u001b[1;33m\u001b[0m\u001b[0m\n\u001b[0;32m   1631\u001b[0m               \u001b[0mcontext\u001b[0m\u001b[1;33m.\u001b[0m\u001b[0masync_wait\u001b[0m\u001b[1;33m(\u001b[0m\u001b[1;33m)\u001b[0m\u001b[1;33m\u001b[0m\u001b[1;33m\u001b[0m\u001b[0m\n",
      "\u001b[1;32mc:\\users\\vince\\miniconda3\\envs\\tfml\\lib\\site-packages\\tensorflow\\python\\eager\\def_function.py\u001b[0m in \u001b[0;36m__call__\u001b[1;34m(self, *args, **kwds)\u001b[0m\n\u001b[0;32m    826\u001b[0m     \u001b[0mtracing_count\u001b[0m \u001b[1;33m=\u001b[0m \u001b[0mself\u001b[0m\u001b[1;33m.\u001b[0m\u001b[0mexperimental_get_tracing_count\u001b[0m\u001b[1;33m(\u001b[0m\u001b[1;33m)\u001b[0m\u001b[1;33m\u001b[0m\u001b[1;33m\u001b[0m\u001b[0m\n\u001b[0;32m    827\u001b[0m     \u001b[1;32mwith\u001b[0m \u001b[0mtrace\u001b[0m\u001b[1;33m.\u001b[0m\u001b[0mTrace\u001b[0m\u001b[1;33m(\u001b[0m\u001b[0mself\u001b[0m\u001b[1;33m.\u001b[0m\u001b[0m_name\u001b[0m\u001b[1;33m)\u001b[0m \u001b[1;32mas\u001b[0m \u001b[0mtm\u001b[0m\u001b[1;33m:\u001b[0m\u001b[1;33m\u001b[0m\u001b[1;33m\u001b[0m\u001b[0m\n\u001b[1;32m--> 828\u001b[1;33m       \u001b[0mresult\u001b[0m \u001b[1;33m=\u001b[0m \u001b[0mself\u001b[0m\u001b[1;33m.\u001b[0m\u001b[0m_call\u001b[0m\u001b[1;33m(\u001b[0m\u001b[1;33m*\u001b[0m\u001b[0margs\u001b[0m\u001b[1;33m,\u001b[0m \u001b[1;33m**\u001b[0m\u001b[0mkwds\u001b[0m\u001b[1;33m)\u001b[0m\u001b[1;33m\u001b[0m\u001b[1;33m\u001b[0m\u001b[0m\n\u001b[0m\u001b[0;32m    829\u001b[0m       \u001b[0mcompiler\u001b[0m \u001b[1;33m=\u001b[0m \u001b[1;34m\"xla\"\u001b[0m \u001b[1;32mif\u001b[0m \u001b[0mself\u001b[0m\u001b[1;33m.\u001b[0m\u001b[0m_experimental_compile\u001b[0m \u001b[1;32melse\u001b[0m \u001b[1;34m\"nonXla\"\u001b[0m\u001b[1;33m\u001b[0m\u001b[1;33m\u001b[0m\u001b[0m\n\u001b[0;32m    830\u001b[0m       \u001b[0mnew_tracing_count\u001b[0m \u001b[1;33m=\u001b[0m \u001b[0mself\u001b[0m\u001b[1;33m.\u001b[0m\u001b[0mexperimental_get_tracing_count\u001b[0m\u001b[1;33m(\u001b[0m\u001b[1;33m)\u001b[0m\u001b[1;33m\u001b[0m\u001b[1;33m\u001b[0m\u001b[0m\n",
      "\u001b[1;32mc:\\users\\vince\\miniconda3\\envs\\tfml\\lib\\site-packages\\tensorflow\\python\\eager\\def_function.py\u001b[0m in \u001b[0;36m_call\u001b[1;34m(self, *args, **kwds)\u001b[0m\n\u001b[0;32m    860\u001b[0m       \u001b[1;31m# In this case we have not created variables on the first call. So we can\u001b[0m\u001b[1;33m\u001b[0m\u001b[1;33m\u001b[0m\u001b[1;33m\u001b[0m\u001b[0m\n\u001b[0;32m    861\u001b[0m       \u001b[1;31m# run the first trace but we should fail if variables are created.\u001b[0m\u001b[1;33m\u001b[0m\u001b[1;33m\u001b[0m\u001b[1;33m\u001b[0m\u001b[0m\n\u001b[1;32m--> 862\u001b[1;33m       \u001b[0mresults\u001b[0m \u001b[1;33m=\u001b[0m \u001b[0mself\u001b[0m\u001b[1;33m.\u001b[0m\u001b[0m_stateful_fn\u001b[0m\u001b[1;33m(\u001b[0m\u001b[1;33m*\u001b[0m\u001b[0margs\u001b[0m\u001b[1;33m,\u001b[0m \u001b[1;33m**\u001b[0m\u001b[0mkwds\u001b[0m\u001b[1;33m)\u001b[0m\u001b[1;33m\u001b[0m\u001b[1;33m\u001b[0m\u001b[0m\n\u001b[0m\u001b[0;32m    863\u001b[0m       \u001b[1;32mif\u001b[0m \u001b[0mself\u001b[0m\u001b[1;33m.\u001b[0m\u001b[0m_created_variables\u001b[0m\u001b[1;33m:\u001b[0m\u001b[1;33m\u001b[0m\u001b[1;33m\u001b[0m\u001b[0m\n\u001b[0;32m    864\u001b[0m         raise ValueError(\"Creating variables on a non-first call to a function\"\n",
      "\u001b[1;32mc:\\users\\vince\\miniconda3\\envs\\tfml\\lib\\site-packages\\tensorflow\\python\\eager\\function.py\u001b[0m in \u001b[0;36m__call__\u001b[1;34m(self, *args, **kwargs)\u001b[0m\n\u001b[0;32m   2939\u001b[0m     \u001b[1;32mwith\u001b[0m \u001b[0mself\u001b[0m\u001b[1;33m.\u001b[0m\u001b[0m_lock\u001b[0m\u001b[1;33m:\u001b[0m\u001b[1;33m\u001b[0m\u001b[1;33m\u001b[0m\u001b[0m\n\u001b[0;32m   2940\u001b[0m       (graph_function,\n\u001b[1;32m-> 2941\u001b[1;33m        filtered_flat_args) = self._maybe_define_function(args, kwargs)\n\u001b[0m\u001b[0;32m   2942\u001b[0m     return graph_function._call_flat(\n\u001b[0;32m   2943\u001b[0m         filtered_flat_args, captured_inputs=graph_function.captured_inputs)  # pylint: disable=protected-access\n",
      "\u001b[1;32mc:\\users\\vince\\miniconda3\\envs\\tfml\\lib\\site-packages\\tensorflow\\python\\eager\\function.py\u001b[0m in \u001b[0;36m_maybe_define_function\u001b[1;34m(self, args, kwargs)\u001b[0m\n\u001b[0;32m   3356\u001b[0m               call_context_key in self._function_cache.missed):\n\u001b[0;32m   3357\u001b[0m             return self._define_function_with_shape_relaxation(\n\u001b[1;32m-> 3358\u001b[1;33m                 args, kwargs, flat_args, filtered_flat_args, cache_key_context)\n\u001b[0m\u001b[0;32m   3359\u001b[0m \u001b[1;33m\u001b[0m\u001b[0m\n\u001b[0;32m   3360\u001b[0m           \u001b[0mself\u001b[0m\u001b[1;33m.\u001b[0m\u001b[0m_function_cache\u001b[0m\u001b[1;33m.\u001b[0m\u001b[0mmissed\u001b[0m\u001b[1;33m.\u001b[0m\u001b[0madd\u001b[0m\u001b[1;33m(\u001b[0m\u001b[0mcall_context_key\u001b[0m\u001b[1;33m)\u001b[0m\u001b[1;33m\u001b[0m\u001b[1;33m\u001b[0m\u001b[0m\n",
      "\u001b[1;32mc:\\users\\vince\\miniconda3\\envs\\tfml\\lib\\site-packages\\tensorflow\\python\\eager\\function.py\u001b[0m in \u001b[0;36m_define_function_with_shape_relaxation\u001b[1;34m(self, args, kwargs, flat_args, filtered_flat_args, cache_key_context)\u001b[0m\n\u001b[0;32m   3278\u001b[0m \u001b[1;33m\u001b[0m\u001b[0m\n\u001b[0;32m   3279\u001b[0m     graph_function = self._create_graph_function(\n\u001b[1;32m-> 3280\u001b[1;33m         args, kwargs, override_flat_arg_shapes=relaxed_arg_shapes)\n\u001b[0m\u001b[0;32m   3281\u001b[0m     \u001b[0mself\u001b[0m\u001b[1;33m.\u001b[0m\u001b[0m_function_cache\u001b[0m\u001b[1;33m.\u001b[0m\u001b[0marg_relaxed\u001b[0m\u001b[1;33m[\u001b[0m\u001b[0mrank_only_cache_key\u001b[0m\u001b[1;33m]\u001b[0m \u001b[1;33m=\u001b[0m \u001b[0mgraph_function\u001b[0m\u001b[1;33m\u001b[0m\u001b[1;33m\u001b[0m\u001b[0m\n\u001b[0;32m   3282\u001b[0m \u001b[1;33m\u001b[0m\u001b[0m\n",
      "\u001b[1;32mc:\\users\\vince\\miniconda3\\envs\\tfml\\lib\\site-packages\\tensorflow\\python\\eager\\function.py\u001b[0m in \u001b[0;36m_create_graph_function\u001b[1;34m(self, args, kwargs, override_flat_arg_shapes)\u001b[0m\n\u001b[0;32m   3204\u001b[0m             \u001b[0marg_names\u001b[0m\u001b[1;33m=\u001b[0m\u001b[0marg_names\u001b[0m\u001b[1;33m,\u001b[0m\u001b[1;33m\u001b[0m\u001b[1;33m\u001b[0m\u001b[0m\n\u001b[0;32m   3205\u001b[0m             \u001b[0moverride_flat_arg_shapes\u001b[0m\u001b[1;33m=\u001b[0m\u001b[0moverride_flat_arg_shapes\u001b[0m\u001b[1;33m,\u001b[0m\u001b[1;33m\u001b[0m\u001b[1;33m\u001b[0m\u001b[0m\n\u001b[1;32m-> 3206\u001b[1;33m             capture_by_value=self._capture_by_value),\n\u001b[0m\u001b[0;32m   3207\u001b[0m         \u001b[0mself\u001b[0m\u001b[1;33m.\u001b[0m\u001b[0m_function_attributes\u001b[0m\u001b[1;33m,\u001b[0m\u001b[1;33m\u001b[0m\u001b[1;33m\u001b[0m\u001b[0m\n\u001b[0;32m   3208\u001b[0m         \u001b[0mfunction_spec\u001b[0m\u001b[1;33m=\u001b[0m\u001b[0mself\u001b[0m\u001b[1;33m.\u001b[0m\u001b[0mfunction_spec\u001b[0m\u001b[1;33m,\u001b[0m\u001b[1;33m\u001b[0m\u001b[1;33m\u001b[0m\u001b[0m\n",
      "\u001b[1;32mc:\\users\\vince\\miniconda3\\envs\\tfml\\lib\\site-packages\\tensorflow\\python\\framework\\func_graph.py\u001b[0m in \u001b[0;36mfunc_graph_from_py_func\u001b[1;34m(name, python_func, args, kwargs, signature, func_graph, autograph, autograph_options, add_control_dependencies, arg_names, op_return_value, collections, capture_by_value, override_flat_arg_shapes)\u001b[0m\n\u001b[0;32m    988\u001b[0m         \u001b[0m_\u001b[0m\u001b[1;33m,\u001b[0m \u001b[0moriginal_func\u001b[0m \u001b[1;33m=\u001b[0m \u001b[0mtf_decorator\u001b[0m\u001b[1;33m.\u001b[0m\u001b[0munwrap\u001b[0m\u001b[1;33m(\u001b[0m\u001b[0mpython_func\u001b[0m\u001b[1;33m)\u001b[0m\u001b[1;33m\u001b[0m\u001b[1;33m\u001b[0m\u001b[0m\n\u001b[0;32m    989\u001b[0m \u001b[1;33m\u001b[0m\u001b[0m\n\u001b[1;32m--> 990\u001b[1;33m       \u001b[0mfunc_outputs\u001b[0m \u001b[1;33m=\u001b[0m \u001b[0mpython_func\u001b[0m\u001b[1;33m(\u001b[0m\u001b[1;33m*\u001b[0m\u001b[0mfunc_args\u001b[0m\u001b[1;33m,\u001b[0m \u001b[1;33m**\u001b[0m\u001b[0mfunc_kwargs\u001b[0m\u001b[1;33m)\u001b[0m\u001b[1;33m\u001b[0m\u001b[1;33m\u001b[0m\u001b[0m\n\u001b[0m\u001b[0;32m    991\u001b[0m \u001b[1;33m\u001b[0m\u001b[0m\n\u001b[0;32m    992\u001b[0m       \u001b[1;31m# invariant: `func_outputs` contains only Tensors, CompositeTensors,\u001b[0m\u001b[1;33m\u001b[0m\u001b[1;33m\u001b[0m\u001b[1;33m\u001b[0m\u001b[0m\n",
      "\u001b[1;32mc:\\users\\vince\\miniconda3\\envs\\tfml\\lib\\site-packages\\tensorflow\\python\\eager\\def_function.py\u001b[0m in \u001b[0;36mwrapped_fn\u001b[1;34m(*args, **kwds)\u001b[0m\n\u001b[0;32m    632\u001b[0m             \u001b[0mxla_context\u001b[0m\u001b[1;33m.\u001b[0m\u001b[0mExit\u001b[0m\u001b[1;33m(\u001b[0m\u001b[1;33m)\u001b[0m\u001b[1;33m\u001b[0m\u001b[1;33m\u001b[0m\u001b[0m\n\u001b[0;32m    633\u001b[0m         \u001b[1;32melse\u001b[0m\u001b[1;33m:\u001b[0m\u001b[1;33m\u001b[0m\u001b[1;33m\u001b[0m\u001b[0m\n\u001b[1;32m--> 634\u001b[1;33m           \u001b[0mout\u001b[0m \u001b[1;33m=\u001b[0m \u001b[0mweak_wrapped_fn\u001b[0m\u001b[1;33m(\u001b[0m\u001b[1;33m)\u001b[0m\u001b[1;33m.\u001b[0m\u001b[0m__wrapped__\u001b[0m\u001b[1;33m(\u001b[0m\u001b[1;33m*\u001b[0m\u001b[0margs\u001b[0m\u001b[1;33m,\u001b[0m \u001b[1;33m**\u001b[0m\u001b[0mkwds\u001b[0m\u001b[1;33m)\u001b[0m\u001b[1;33m\u001b[0m\u001b[1;33m\u001b[0m\u001b[0m\n\u001b[0m\u001b[0;32m    635\u001b[0m         \u001b[1;32mreturn\u001b[0m \u001b[0mout\u001b[0m\u001b[1;33m\u001b[0m\u001b[1;33m\u001b[0m\u001b[0m\n\u001b[0;32m    636\u001b[0m \u001b[1;33m\u001b[0m\u001b[0m\n",
      "\u001b[1;32mc:\\users\\vince\\miniconda3\\envs\\tfml\\lib\\site-packages\\tensorflow\\python\\framework\\func_graph.py\u001b[0m in \u001b[0;36mwrapper\u001b[1;34m(*args, **kwargs)\u001b[0m\n\u001b[0;32m    975\u001b[0m           \u001b[1;32mexcept\u001b[0m \u001b[0mException\u001b[0m \u001b[1;32mas\u001b[0m \u001b[0me\u001b[0m\u001b[1;33m:\u001b[0m  \u001b[1;31m# pylint:disable=broad-except\u001b[0m\u001b[1;33m\u001b[0m\u001b[1;33m\u001b[0m\u001b[0m\n\u001b[0;32m    976\u001b[0m             \u001b[1;32mif\u001b[0m \u001b[0mhasattr\u001b[0m\u001b[1;33m(\u001b[0m\u001b[0me\u001b[0m\u001b[1;33m,\u001b[0m \u001b[1;34m\"ag_error_metadata\"\u001b[0m\u001b[1;33m)\u001b[0m\u001b[1;33m:\u001b[0m\u001b[1;33m\u001b[0m\u001b[1;33m\u001b[0m\u001b[0m\n\u001b[1;32m--> 977\u001b[1;33m               \u001b[1;32mraise\u001b[0m \u001b[0me\u001b[0m\u001b[1;33m.\u001b[0m\u001b[0mag_error_metadata\u001b[0m\u001b[1;33m.\u001b[0m\u001b[0mto_exception\u001b[0m\u001b[1;33m(\u001b[0m\u001b[0me\u001b[0m\u001b[1;33m)\u001b[0m\u001b[1;33m\u001b[0m\u001b[1;33m\u001b[0m\u001b[0m\n\u001b[0m\u001b[0;32m    978\u001b[0m             \u001b[1;32melse\u001b[0m\u001b[1;33m:\u001b[0m\u001b[1;33m\u001b[0m\u001b[1;33m\u001b[0m\u001b[0m\n\u001b[0;32m    979\u001b[0m               \u001b[1;32mraise\u001b[0m\u001b[1;33m\u001b[0m\u001b[1;33m\u001b[0m\u001b[0m\n",
      "\u001b[1;31mValueError\u001b[0m: in user code:\n\n    c:\\users\\vince\\miniconda3\\envs\\tfml\\lib\\site-packages\\tensorflow\\python\\keras\\engine\\training.py:1478 predict_function  *\n        return step_function(self, iterator)\n    c:\\users\\vince\\miniconda3\\envs\\tfml\\lib\\site-packages\\tensorflow\\python\\keras\\engine\\training.py:1468 step_function  **\n        outputs = model.distribute_strategy.run(run_step, args=(data,))\n    c:\\users\\vince\\miniconda3\\envs\\tfml\\lib\\site-packages\\tensorflow\\python\\distribute\\distribute_lib.py:1259 run\n        return self._extended.call_for_each_replica(fn, args=args, kwargs=kwargs)\n    c:\\users\\vince\\miniconda3\\envs\\tfml\\lib\\site-packages\\tensorflow\\python\\distribute\\distribute_lib.py:2730 call_for_each_replica\n        return self._call_for_each_replica(fn, args, kwargs)\n    c:\\users\\vince\\miniconda3\\envs\\tfml\\lib\\site-packages\\tensorflow\\python\\distribute\\distribute_lib.py:3417 _call_for_each_replica\n        return fn(*args, **kwargs)\n    c:\\users\\vince\\miniconda3\\envs\\tfml\\lib\\site-packages\\tensorflow\\python\\keras\\engine\\training.py:1461 run_step  **\n        outputs = model.predict_step(data)\n    c:\\users\\vince\\miniconda3\\envs\\tfml\\lib\\site-packages\\tensorflow\\python\\keras\\engine\\training.py:1434 predict_step\n        return self(x, training=False)\n    c:\\users\\vince\\miniconda3\\envs\\tfml\\lib\\site-packages\\tensorflow\\python\\keras\\engine\\base_layer.py:998 __call__\n        input_spec.assert_input_compatibility(self.input_spec, inputs, self.name)\n    c:\\users\\vince\\miniconda3\\envs\\tfml\\lib\\site-packages\\tensorflow\\python\\keras\\engine\\input_spec.py:259 assert_input_compatibility\n        ' but received input with shape ' + display_shape(x.shape))\n\n    ValueError: Input 0 of layer sequential_44 is incompatible with the layer: expected axis -1 of input shape to have value 1000 but received input with shape (None, 1)\n"
     ]
    }
   ],
   "source": [
    "res = model.predict(X_test[200:210])\n",
    "for z in np.arange(res.shape[0]):\n",
    "    classes = \"\"\n",
    "    for r in np.arange(len(mlb.classes_)):\n",
    "        if res[z][r]>.09:\n",
    "            classes = classes + mlb.classes_[r] + \", \"\n",
    "    print(\"classe: \", classes )"
   ]
  },
  {
   "cell_type": "code",
   "execution_count": 267,
   "metadata": {},
   "outputs": [
    {
     "data": {
      "text/html": [
       "<div>\n",
       "<style scoped>\n",
       "    .dataframe tbody tr th:only-of-type {\n",
       "        vertical-align: middle;\n",
       "    }\n",
       "\n",
       "    .dataframe tbody tr th {\n",
       "        vertical-align: top;\n",
       "    }\n",
       "\n",
       "    .dataframe thead th {\n",
       "        text-align: right;\n",
       "    }\n",
       "</style>\n",
       "<table border=\"1\" class=\"dataframe\">\n",
       "  <thead>\n",
       "    <tr style=\"text-align: right;\">\n",
       "      <th></th>\n",
       "      <th>Tags_T100</th>\n",
       "      <th>Tags_T50</th>\n",
       "      <th>Tags_T10</th>\n",
       "    </tr>\n",
       "  </thead>\n",
       "  <tbody>\n",
       "    <tr>\n",
       "      <th>200</th>\n",
       "      <td>[r]</td>\n",
       "      <td>[r]</td>\n",
       "      <td>[r]</td>\n",
       "    </tr>\n",
       "    <tr>\n",
       "      <th>201</th>\n",
       "      <td>[swift]</td>\n",
       "      <td>[swift]</td>\n",
       "      <td>[other]</td>\n",
       "    </tr>\n",
       "    <tr>\n",
       "      <th>202</th>\n",
       "      <td>[c++, list]</td>\n",
       "      <td>[c++, list]</td>\n",
       "      <td>[c++]</td>\n",
       "    </tr>\n",
       "    <tr>\n",
       "      <th>203</th>\n",
       "      <td>[c#]</td>\n",
       "      <td>[c#]</td>\n",
       "      <td>[c#]</td>\n",
       "    </tr>\n",
       "    <tr>\n",
       "      <th>204</th>\n",
       "      <td>[c++]</td>\n",
       "      <td>[c++]</td>\n",
       "      <td>[c++]</td>\n",
       "    </tr>\n",
       "    <tr>\n",
       "      <th>205</th>\n",
       "      <td>[python]</td>\n",
       "      <td>[python]</td>\n",
       "      <td>[python]</td>\n",
       "    </tr>\n",
       "    <tr>\n",
       "      <th>206</th>\n",
       "      <td>[flutter, dart]</td>\n",
       "      <td>[flutter]</td>\n",
       "      <td>[other]</td>\n",
       "    </tr>\n",
       "    <tr>\n",
       "      <th>207</th>\n",
       "      <td>[python-3.x]</td>\n",
       "      <td>[python-3.x]</td>\n",
       "      <td>[python-3.x]</td>\n",
       "    </tr>\n",
       "    <tr>\n",
       "      <th>208</th>\n",
       "      <td>[r, excel]</td>\n",
       "      <td>[r, excel]</td>\n",
       "      <td>[r]</td>\n",
       "    </tr>\n",
       "    <tr>\n",
       "      <th>209</th>\n",
       "      <td>[python, tensorflow]</td>\n",
       "      <td>[python]</td>\n",
       "      <td>[python]</td>\n",
       "    </tr>\n",
       "  </tbody>\n",
       "</table>\n",
       "</div>"
      ],
      "text/plain": [
       "                Tags_T100      Tags_T50      Tags_T10\n",
       "200                   [r]           [r]           [r]\n",
       "201               [swift]       [swift]       [other]\n",
       "202           [c++, list]   [c++, list]         [c++]\n",
       "203                  [c#]          [c#]          [c#]\n",
       "204                 [c++]         [c++]         [c++]\n",
       "205              [python]      [python]      [python]\n",
       "206       [flutter, dart]     [flutter]       [other]\n",
       "207          [python-3.x]  [python-3.x]  [python-3.x]\n",
       "208            [r, excel]    [r, excel]           [r]\n",
       "209  [python, tensorflow]      [python]      [python]"
      ]
     },
     "execution_count": 267,
     "metadata": {},
     "output_type": "execute_result"
    }
   ],
   "source": [
    "df_tags[200:210]"
   ]
  },
  {
   "cell_type": "code",
   "execution_count": 301,
   "metadata": {},
   "outputs": [
    {
     "data": {
      "text/plain": [
       "['happi new year everyon issu transform implicit miss data explicit miss data summar number observ bird specif survey site site survey month 12 month unfortun collect data contain inform actual observ bird rather also record bird observ site attempt add miss data extra observ ad data solut use complet fill miss data e site month survey bird observ abl fill miss site issu howev tri fill miss month extra observ ad site fact record observ bird specif addit observ ad station 9 march 1 2 bird april 1 2 bird result 32 total bird observ rather 30 bird exampl dataset code use mark code issu brand new tidyvers general piec advic improv code ear thank advanc help also includ phot correct number observ case',\n",
       " 'follow sprite kit tutori notic use uiscreen main bound get extent screen work iphon size apart iphonex 11 wrote quick test shown move anchor point cgpoint x 0 0 place 3 label 20 40 60 point left edg work normal except iphonex number shift left wrong class gamescen skscene skphysicscontactdeleg',\n",
       " 'like simpli ask someth solv algorithm design ask question pure learn search stackoverflow uncl googl see logic solut imagin struct imagin thing array way structur c languag creat 1st question provid data entri push_back 9 3 65 2 tri got error messag 2nd question friend answer data enter data also sampl read data like thank everyon help lead right solut regard',\n",
       " 'new c creat class separ file process text main text process class textprocess namespac whole class begin back program instanti class preturn public para2xml class act like scope main class main class red underlin appear preturn messag name preturn exist current context declar preturn main class get declar visibl instanc field baffl return xelement program class separ file hope someon point error thank',\n",
       " 'creat orthograph project camera use simpl opengl 2d render current problem calcul normal devic coordin wrong calcul shader calcul cpu get desir result creat orthograph project matrix use follow formula right 1280 left 0 top 0 bottom 720 zfar 1 0 znear 1 0 would creat rectangl use follow vertex posit result rectangl fill entir screen calcul normal devic coordin use follow formula vertex shader look like u_viewproject mention viewproject matrix u_transform transform matrix case simpl ident matrix a_posit vertex posit use valu result follow render calcul cpu use follow code transform transform pass u_transform camera getviewprojectionmatrix pass u_viewproject get desir result x 1 0 1 0 top left corner screen question someth wrong shader could someth els caus edit 1 said accept answer project matrix need transpos came matrix use follow sourc https www scratchapixel com lesson 3d basic render perspect orthograph project matrix orthograph project matrix unfortunat show imag impli colum major actuali row major see screen shot',\n",
       " 'troubl run python app script creat pip instal modulenotfounderror occur reason hidden everyth run smooth run app direct entri point project setup py project file structur work setup py first time glad help advic thank',\n",
       " 'tri code flutter expect behavior run press button button show text press 2 variabl _i get increment 3 without affect visual result actual behavior execu _i increment visual chang happen e text screen updat onpress return setstat caus widget rebuild screen updat appear screen 10 second press 3 quot doc setstat provid callback immedi call synchron must return futur callback cannot async sinc would unclear state actual set understand call synchron block accord answer return first alreadi happen updat screen schedul time futur return control follow line latter 2 thing happen even tri without sleep result miss misunderstand',\n",
       " 'pretti new code though understood oper work exampl provid would thought fals statement would get run true statement someon enlighten perform expect',\n",
       " 'script convert imag excel howev save excel save empti without print imag know happen underneath librari load code initi',\n",
       " 'new deep learn deep learn cours udemi execut code say valueerror model configur comput accuraci pass method tri chang accuraci acc give error code super fast show 10 epoch instead 100 besid expect accuraci around 83 someth like 79 someon pleas help fulltraceback also tri']"
      ]
     },
     "execution_count": 301,
     "metadata": {},
     "output_type": "execute_result"
    }
   ],
   "source": [
    "body_corpus[200:210]"
   ]
  },
  {
   "cell_type": "code",
   "execution_count": null,
   "metadata": {},
   "outputs": [],
   "source": []
  }
 ],
 "metadata": {
  "kernelspec": {
   "display_name": "Python 3",
   "language": "python",
   "name": "python3"
  },
  "language_info": {
   "codemirror_mode": {
    "name": "ipython",
    "version": 3
   },
   "file_extension": ".py",
   "mimetype": "text/x-python",
   "name": "python",
   "nbconvert_exporter": "python",
   "pygments_lexer": "ipython3",
   "version": "3.7.9"
  }
 },
 "nbformat": 4,
 "nbformat_minor": 4
}
