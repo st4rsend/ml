{
 "cells": [
  {
   "cell_type": "code",
   "execution_count": 1,
   "metadata": {},
   "outputs": [
    {
     "name": "stderr",
     "output_type": "stream",
     "text": [
      "[nltk_data] Downloading package wordnet to\n",
      "[nltk_data]     C:\\Users\\vince\\AppData\\Roaming\\nltk_data...\n",
      "[nltk_data]   Package wordnet is already up-to-date!\n",
      "[nltk_data] Downloading package punkt to\n",
      "[nltk_data]     C:\\Users\\vince\\AppData\\Roaming\\nltk_data...\n",
      "[nltk_data]   Package punkt is already up-to-date!\n",
      "[nltk_data] Downloading package stopwords to\n",
      "[nltk_data]     C:\\Users\\vince\\AppData\\Roaming\\nltk_data...\n",
      "[nltk_data]   Package stopwords is already up-to-date!\n",
      "[nltk_data] Downloading package averaged_perceptron_tagger to\n",
      "[nltk_data]     C:\\Users\\vince\\AppData\\Roaming\\nltk_data...\n",
      "[nltk_data]   Package averaged_perceptron_tagger is already up-to-\n",
      "[nltk_data]       date!\n"
     ]
    }
   ],
   "source": [
    "import importlib\n",
    "import os\n",
    "from joblib import dump, load\n",
    "import re\n",
    "\n",
    "import numpy as np\n",
    "import pandas as pd\n",
    "\n",
    "from bs4 import BeautifulSoup\n",
    "\n",
    "from nltk import download as nltk_download\n",
    "from nltk import tokenize, RegexpTokenizer, pos_tag\n",
    "from nltk.corpus import stopwords, wordnet\n",
    "'''Bird, Steven, Edward Loper and Ewan Klein (2009), Natural Language Processing with Python. O’Reilly Media Inc.'''\n",
    "from nltk.stem import WordNetLemmatizer\n",
    "nltk_download('wordnet') \n",
    "nltk_download('punkt')\n",
    "nltk_download('stopwords')\n",
    "nltk_download('averaged_perceptron_tagger')\n",
    "\n",
    "from sklearn.feature_extraction.text import CountVectorizer, TfidfVectorizer\n",
    "\n",
    "import ml.explo as mlexplo\n",
    "import ml.prepare as mlprepare\n",
    "\n",
    "from nltk.stem.snowball import SnowballStemmer\n",
    "\n",
    "# import matplotlib.pyplot as plt\n",
    "# import seaborn as sns\n",
    "# from sklearn.decomposition import PCA\n",
    "# from sklearn.preprocessing import StandardScaler\n",
    "\n",
    "data_path = \"..\\\\data\\\\stackoverflow\\\\\"\n",
    "model_path = data_path + \"models\\\\\"\n",
    "\n",
    "np.set_printoptions(precision=2, suppress=True)\n",
    "pd.options.display.float_format = \"{:,.2f}\".format"
   ]
  },
  {
   "cell_type": "code",
   "execution_count": 2,
   "metadata": {},
   "outputs": [],
   "source": [
    "# data_filename = \"OC_DS_P6.csv\"\n",
    "data_csv_1 = 'OC_ML_P5_2006_2009.csv'\n",
    "data_csv_2 = 'OC_ML_P5_2010_2102.csv'\n",
    "data_csv_test = 'OC_ML_P5_TEST.csv' \n",
    "tags_filename = \"Stackoverflow_top_tags.csv\""
   ]
  },
  {
   "cell_type": "markdown",
   "metadata": {},
   "source": [
    "# Parsing"
   ]
  },
  {
   "cell_type": "code",
   "execution_count": 3,
   "metadata": {},
   "outputs": [],
   "source": [
    "def apply_bs4(raw_text):\n",
    "#     return '. '.join(\n",
    "#         [x.find(text=True)\n",
    "#          for x in BeautifulSoup(raw_text, 'html.parser').find_all('p')\n",
    "#          if x.find(text=True)]\n",
    "    soup = BeautifulSoup(raw_text, 'html.parser')\n",
    "    # getting rid of programming language identification for now,\n",
    "    # could rely on guesslang package but conflict with tensorflow installed version and \n",
    "    # don't wanna downgrade, therefore code stored in dedicated variable for futur use.\n",
    "    code = \"\"\n",
    "    for s in soup.find_all('code'):\n",
    "        code = code + s.get_text()\n",
    "        s.extract()\n",
    "    return re.sub(r'\\n+', ' ', soup.get_text()).strip(), re.sub(r'\\n+', ' ', code).strip()\n",
    "        \n",
    "def apply_tags(raw_text):\n",
    "    return [ tag.name for tag in BeautifulSoup(raw_text, 'html.parser').find_all() if tag.name in valid_tags ]"
   ]
  },
  {
   "cell_type": "code",
   "execution_count": 4,
   "metadata": {
    "scrolled": true,
    "tags": []
   },
   "outputs": [],
   "source": [
    "df_tags = pd.read_csv(data_path + tags_filename)\n",
    "valid_tags = df_tags['TagName'].tolist()\n",
    "nltk_stop_words = set(stopwords.words('english') + \n",
    "    # Remove after stemming and lemmatization top words frequencies analysis\n",
    "    ['use', 'try', 'way', 'want', 'would', 'need', 'one', '1', '2' ] +\n",
    "    # Remove after NMF analysis\n",
    "    ['something', 'desire', 'follow ', 'help', 'please', 'however', 'follow', 'code' ])\n",
    "\n",
    "\n",
    "init_bs4 = False\n",
    "if init_bs4:\n",
    "    df_csv_1 = pd.read_csv(data_path + data_csv_1)\n",
    "    df_csv_1['Bs4_Body'], df_csv_1['Code'] = zip(*df_csv_1['Body'].apply(apply_bs4))\n",
    "    df_csv_1['Bs4_Tags'] = df_csv_1['Tags'].apply(apply_tags)\n",
    "\n",
    "    df_csv_2 = pd.read_csv(data_path + data_csv_2)\n",
    "    df_csv_2['Bs4_Body'], df_csv_2['Code'] = zip(*df_csv_2['Body'].apply(apply_bs4))\n",
    "    df_csv_2['Bs4_Tags'] = df_csv_2['Tags'].apply(apply_tags)\n",
    "    \n",
    "    df_bs4_test = pd.read_csv(data_path + data_csv_test)\n",
    "    df_bs4_test['Bs4_Body'], df_bs4_test['Code'] = zip(*df_bs4_test['Body'].apply(apply_bs4))\n",
    "    df_bs4_test['Bs4_Tags'] = df_bs4_test['Tags'].apply(apply_tags)\n",
    "\n",
    "    df_bs4 = pd.concat([df_csv_1,df_csv_2], ignore_index=True)\n",
    "    df_bs4.to_pickle(data_path + 'bs4.pkl')\n",
    "    df_bs4_test.to_pickle(data_path + 'bs4_test.pkl')\n",
    "else:\n",
    "    df_bs4 = pd.read_pickle(data_path + 'bs4.pkl')\n",
    "    df_bs4_test = pd.read_pickle(data_path + 'bs4_test.pkl')"
   ]
  },
  {
   "cell_type": "markdown",
   "metadata": {},
   "source": [
    "# Labelling"
   ]
  },
  {
   "cell_type": "code",
   "execution_count": 5,
   "metadata": {},
   "outputs": [],
   "source": [
    "def filter_top_tags(df, column, count=10, default=None):\n",
    "    top_tags = mlprepare.prepare_multi_label(df_full_tags,'Bs4_Tags')[:count]\n",
    "    ret = df[column].apply(lambda cell: [x for x in cell if x in top_tags])\n",
    "    if default:\n",
    "        ret = ret.apply(lambda cell: cell if len(cell)>0 else ['other'])\n",
    "    return ret"
   ]
  },
  {
   "cell_type": "code",
   "execution_count": 6,
   "metadata": {},
   "outputs": [],
   "source": [
    "init_labels = False\n",
    "df_bs4 = pd.read_pickle(data_path + 'bs4.pkl')\n",
    "df_bs4_test = pd.read_pickle(data_path + 'bs4_test.pkl')\n",
    "df_full_tags = pd.DataFrame(pd.concat([df_bs4['Bs4_Tags'],df_bs4_test['Bs4_Tags']]))\n",
    "\n",
    "if(init_labels):\n",
    "    df_top = pd.DataFrame()\n",
    "    df_top['Tags_T100'] = filter_top_tags(df_bs4, 'Bs4_Tags', count=100, default='other')\n",
    "    df_top['Tags_T50'] = filter_top_tags(df_bs4, 'Bs4_Tags', count=50, default='other')\n",
    "    df_top['Tags_T10'] = filter_top_tags(df_bs4, 'Bs4_Tags', count=10, default='other')\n",
    "    df_top.to_pickle(data_path + 'Top_Tags.pkl')\n",
    "\n",
    "    df_top_test = pd.DataFrame()\n",
    "    df_top_test['Tags_T100'] = filter_top_tags(df_bs4_test, 'Bs4_Tags', count=100, default='other')\n",
    "    df_top_test['Tags_T50'] = filter_top_tags(df_bs4_test, 'Bs4_Tags', count=50, default='other')\n",
    "    df_top_test['Tags_T10'] = filter_top_tags(df_bs4_test, 'Bs4_Tags', count=10, default='other')\n",
    "    df_top_test.to_pickle(data_path + 'Top_Tags_test.pkl')\n",
    "\n",
    "else:\n",
    "    df_top = pd.read_pickle(data_path + 'Top_Tags.pkl')\n",
    "    df_top_test = pd.read_pickle(data_path + 'Top_Tags_test.pkl')"
   ]
  },
  {
   "cell_type": "markdown",
   "metadata": {},
   "source": [
    "# Stemming"
   ]
  },
  {
   "cell_type": "code",
   "execution_count": 7,
   "metadata": {},
   "outputs": [],
   "source": [
    "def nltk_stop_stemmer(row):\n",
    "#     title_tokens = tokenizer.tokenize(row['Title'].lower())\n",
    "    title_tokens = [ stemmer.stem(w) for w in tokenizer.tokenize(row['Title'].lower()) if stemmer.stem(w) not in nltk_stop_words ] \n",
    "    body_tokens = [ stemmer.stem(w) for w in tokenizer.tokenize(row['Bs4_Body'].lower()) if stemmer.stem(w) not in nltk_stop_words ]\n",
    "    return title_tokens, body_tokens"
   ]
  },
  {
   "cell_type": "code",
   "execution_count": 8,
   "metadata": {},
   "outputs": [],
   "source": [
    "init_stem = False\n",
    "if init_stem:\n",
    "    tokenizer = RegexpTokenizer(r'\\w+')\n",
    "    stemmer = SnowballStemmer(\"english\")\n",
    "\n",
    "    df_stop_stem = pd.DataFrame()\n",
    "    df_stop_stem = df_bs4.apply(nltk_stop_stemmer, axis=1, result_type='expand')\n",
    "    df_stop_stem.columns=['Title', 'Body']\n",
    "    df_stop_stem.to_pickle(data_path + 'nltk_stop_stem.pkl')\n",
    "\n",
    "    df_stop_stem_test = pd.DataFrame()\n",
    "    df_stop_stem_test = df_bs4_test.apply(nltk_stop_stemmer, axis=1, result_type='expand')\n",
    "    df_stop_stem_test.columns=['Title', 'Body']\n",
    "    df_stop_stem_test.to_pickle(data_path + 'nltk_stop_stem_test.pkl')\n",
    "else:\n",
    "    df_stop_stem = pd.read_pickle(data_path + 'nltk_stop_stem.pkl')\n",
    "    df_stop_stem_test = pd.read_pickle(data_path + 'nltk_stop_stem_test.pkl')"
   ]
  },
  {
   "cell_type": "code",
   "execution_count": 9,
   "metadata": {},
   "outputs": [
    {
     "data": {
      "text/plain": [
       "(96420, 3)"
      ]
     },
     "execution_count": 9,
     "metadata": {},
     "output_type": "execute_result"
    }
   ],
   "source": [
    "df_top.shape"
   ]
  },
  {
   "cell_type": "code",
   "execution_count": 12,
   "metadata": {
    "scrolled": true,
    "tags": []
   },
   "outputs": [
    {
     "data": {
      "text/plain": [
       "['panda pivot datafram valu function two column',\n",
       " 'use polymorph function paramet',\n",
       " 'loop list dictionari condit key exist',\n",
       " 'use cpqueri function sever pair dataset',\n",
       " 'split number delimit non numer string',\n",
       " 'increas clickabl area imageview',\n",
       " 'make work function insid statement',\n",
       " 'check row panda seri contain string list use appli',\n",
       " 'zero enum valu indic invalid valu',\n",
       " 'tri segment charact use opencv ilumin problem',\n",
       " 'add new key dictionari base condit match two exist dict key valu python',\n",
       " 'voxel cone trace defer pipelin',\n",
       " 'assign empti initi vector unique_ptr',\n",
       " 'custom legend marker size matplotlib use lambda function',\n",
       " 'show proccess output text box frame use python tkinter',\n",
       " 'restrict s3 sub folder level bucket polici privat public',\n",
       " 'mousedown event trigger mouseup event',\n",
       " 'python nan return panda resampl function',\n",
       " 'wait ajax respons',\n",
       " 'convert list insid tupl ad tupl',\n",
       " 'find first dupe across axi base key row',\n",
       " 'chang window size new window termin',\n",
       " 'googl sheet dget function match case data exist',\n",
       " 'flask docker unabl detect flask_env',\n",
       " 'remov empti row within datafram check similar',\n",
       " 'compil linux kernel sse enabl',\n",
       " 'kubernet certif alway disappear hour',\n",
       " 'subscript done plain websocket',\n",
       " 'appli lifecycl patter aw elasticsearch mani index',\n",
       " 'differ way access data azur data share azur sql databas',\n",
       " 'like sqldf r search text multipl datafram',\n",
       " 'pass chain paramet multipl time curri',\n",
       " 'swiftui convert imag jpeg data',\n",
       " 'pg promis quick delet set tupl',\n",
       " 'label valu beyond threshold plot type h',\n",
       " 'store pixel valu 50 imag insid vector',\n",
       " 'convert timestamp datetim firebas flutter',\n",
       " 'build dict key valu pair list',\n",
       " 'dispos method get call',\n",
       " 'import dynam load compon react',\n",
       " 'make compon popup modal appear use react hook otherwis react next js',\n",
       " 'output typeid name given instead',\n",
       " 'call multibytetowidechar 64 bit offic give wrong result',\n",
       " 'make list dictionari',\n",
       " 'materi date rang picker select color format',\n",
       " 'behind scene aync await ident normal function',\n",
       " 'c print null charact use c nest printf statement',\n",
       " 'mersenne_twister_engin serial use boost',\n",
       " 'get sign offic 365 user id',\n",
       " 'add valu two tabl base combin column',\n",
       " 'thread wait time',\n",
       " 'django model relationship circular relationship',\n",
       " 'activ access fragment know button press',\n",
       " 'paypal checkout allow creation order subscript client id',\n",
       " 'get current day number awk date',\n",
       " 'legal c comment latex equat c comment',\n",
       " 'f downcast array without reflect',\n",
       " 'azur blob storag versus azur file share',\n",
       " 'drag item qlistwidget drop qplaintextedit',\n",
       " 'angular 9 interceptor cyclic depend inject lazi load servic',\n",
       " 'css transform perspect rotatex transit rapid hover glitch',\n",
       " 'avoid multipl call databas c ef core',\n",
       " 'wildcard oper file readalllin method',\n",
       " 'use multipl map type object key valu valu union',\n",
       " 'number split',\n",
       " 'flutter show circularprogressind within rflutter_alert dialog',\n",
       " 'counter increas async map function',\n",
       " 'pars name phone differ contain webpag',\n",
       " 'dynamodb tabl queri keyconditionexpress error',\n",
       " 'beauti soup decod html json data script object',\n",
       " 'error link custom dynam librari rust',\n",
       " 'firestor onwrit trigger get invok firebas cloud function emul',\n",
       " 'export data r mysql server',\n",
       " 'mongodb mongoos findoneandupd await wait a3 run a2',\n",
       " 'add ssd storag aw ec2 reserv instanc',\n",
       " 'join two datafram condit pyspark',\n",
       " 'wrap alloc constructor take wrong type templat substitut perfect forward ctor',\n",
       " 'angular export excel use excelj error ts2307 cannot find modul stream error ts2503 cannot find namespac nodej',\n",
       " 'add specif word new column valu list within column',\n",
       " 'return header column match criteria everi row panda datafram',\n",
       " 'turn log winston jest',\n",
       " 'chrome version 83 releas file download modal dialog work',\n",
       " 'error unsatisfi constraint flow miss alpin linux',\n",
       " 'stream bitmap modifi c',\n",
       " 'avoid handl messag child class symfoni messeng',\n",
       " 'chang textpaint flutter',\n",
       " 'prime number upto 10 8 use siev',\n",
       " 'simpl refer member variabl base class templat',\n",
       " 'assert type paramet dynam const constructor dart',\n",
       " 'r function calcul cumul differ',\n",
       " 'typescript object possibl null focus use ref react',\n",
       " 'declar vector size offer improv use push_back c',\n",
       " 'get file count particular extens go',\n",
       " 'unhandledexcept caught combobox inotifypropertychang button',\n",
       " 'cabal instal gving errror licens openbinaryfil exist file directori',\n",
       " 'c 11 thread mutex see atom variabl valu chang despit code chang',\n",
       " 'creat column start date end date given date record',\n",
       " 'delet blank row follow row empti',\n",
       " 'pass azur devop releas pipelin classic editor output variabl multipl job stage multipl stage outsid',\n",
       " 'unabl access suspend dao function coroutinescop launch',\n",
       " 'json attribut toggl swiftui list',\n",
       " 'cfile cstdiofil produc differ result write read',\n",
       " 'merg column mongo',\n",
       " 'code flag squar number work',\n",
       " 'extract specif pattern html beautifulsoup',\n",
       " 'repeat previous valu date hive',\n",
       " 'flip function implement javascript',\n",
       " 'resolv generic type method pass via deleg',\n",
       " 'custom jcompon line show jpanel',\n",
       " 'link listview element firebas object',\n",
       " 'send jqueri rang slider min max valu php',\n",
       " 'java char byte back convert wrong utf 8',\n",
       " 'determin mous random spawn object',\n",
       " 'sql loop row sum amount column valu reach',\n",
       " 'std async non static member function',\n",
       " 'creat type parametr abstract type f',\n",
       " 'legend visibl d3 js pie chart',\n",
       " 'extern font load link load insid shadowdom',\n",
       " 'compil optim float point addit 0',\n",
       " 'run saga must mount saga middlewar store use applymiddlewar redux tool',\n",
       " 'get actor appear r rate film',\n",
       " 'put name datafram store list column name datafram',\n",
       " 'optim code tcp server go',\n",
       " 'get radio button valu number',\n",
       " 'mock jooq select request',\n",
       " 'advantag upper bound subtyp scala',\n",
       " 'error plot_model type diag argument impli differ number row error',\n",
       " 'possibl network plugin kubernet cluster',\n",
       " 'kera hot encod logit match label loss function',\n",
       " 'python regex function arrang key valu descend order wherein key alphanumer valu digit',\n",
       " 'duplic element tensor perserv gradient valu',\n",
       " 'delet chang display last print perl',\n",
       " 'extract 1st line text special pattern use regexp',\n",
       " 'rxjs proper merg two array two seper http stream',\n",
       " 'laravel join tabl relat',\n",
       " 'convert file multipl delimit datafram',\n",
       " 'angular compon direct test',\n",
       " 'react bind prop',\n",
       " 'sympi collect factoris constant term',\n",
       " 'make inno setup runlist checklist box transpar',\n",
       " 'aw athena queri result file fetch s3 bucket',\n",
       " 'initi entiti pass object use typeorm',\n",
       " 'cover test button click angular stackblitz attach',\n",
       " 'c oper self assign check',\n",
       " 'p5 js custom rotat behavior problem',\n",
       " 'box plot narrow colour plot',\n",
       " 'get witch valu specif enum pass method',\n",
       " 'remov h extens user defin c header file',\n",
       " 'retain uniqu combin list tupl python',\n",
       " 'ad text beneath column 4x4 use css grid',\n",
       " 'use snake case without explicit configur depend circ',\n",
       " 'regex string two word',\n",
       " 'deseri dynam object json follow type content c',\n",
       " 'angular ngrx get display list option java api',\n",
       " 'get offset locat javascript',\n",
       " 'add custom rule pars quarter sutim',\n",
       " 'find transpos element list separ python',\n",
       " 'creat collaps tabl jsp',\n",
       " 'understand uiviewrepresent',\n",
       " 'weldcontain secontain',\n",
       " 'provid name instanc creat aw ec2 use java aw sdk',\n",
       " 'check stdin white space',\n",
       " 'c linq express get rather long',\n",
       " 'paypal webhook verif java sdk',\n",
       " 'pairwis intersect count multipl column sql',\n",
       " 'error dereferenc pointer incomplet type c languag',\n",
       " 'migrat exist contain hyper v wsl2 technolog',\n",
       " 'java support hotswap annot',\n",
       " 'show transpar dialog flutter',\n",
       " 'panda chang valu negat specif condit particular group valu',\n",
       " 'jpa repositori special word like work',\n",
       " 'loop nxn grid cell base proxim certain cell',\n",
       " 'sort array object base anoth object',\n",
       " 'return react compon object valu bind prop',\n",
       " 'get corner item current css grid layout expand hover',\n",
       " 'add new class without reset previous one react',\n",
       " 'scroll past parallax without move mous first',\n",
       " 'deleg protocol vc connect',\n",
       " 'groupbi random sampl base column valu',\n",
       " 'kotlin firebas realtim databas transact error',\n",
       " 'read first row datafram data row header',\n",
       " 'p5 js ellips follow mousex',\n",
       " 'uniqu valu dictionari comprehens return dictionari instread string',\n",
       " 'java stream filter nest object return top level field',\n",
       " 'creat custom merg strategi',\n",
       " 'clip threshold tensor use condit zero pad result pytorch',\n",
       " 'magrittr numer formula',\n",
       " 'mark duplic row add rang number duplic row python 3 6',\n",
       " 'insert book alreadi taken sqlite databas',\n",
       " 'clear order use first django',\n",
       " 'associ filter two relat array',\n",
       " 'java best grab string two regex',\n",
       " 'dynam display photo item hide carousel photo',\n",
       " 'chang stylesheet button click specif element',\n",
       " 'multipl fetch call use fetchmock userev click within test use react test librari',\n",
       " 'spinner receiv data parenthes',\n",
       " 'delet last observ row r',\n",
       " 'aw api gateway charg user',\n",
       " 'better avoid cannot mutat member immut var',\n",
       " 'android materi toolbar surfac color look differ two differ toolbar',\n",
       " 'prevent websit detect fiddler',\n",
       " 'dispali svg option select reactj',\n",
       " 'k mean algorithm prefer kruskal algorithm cluster',\n",
       " 'jqueri click event listen regist woocommerc button',\n",
       " 'pull list imag firebas storag',\n",
       " 'ingest port seq serilog',\n",
       " 'compar first word page titl array javascript',\n",
       " 'angular 9 materi dialog return undefin close',\n",
       " 'key error use regex quantifi python',\n",
       " 'mongodb push valu array reduc',\n",
       " 'downscal imag without lose discret valu',\n",
       " 'c std hash creat functor struct call without creat struct time',\n",
       " 'observ string ngif direct',\n",
       " 'display modal base page url',\n",
       " 'condit work check input type int',\n",
       " 'better write follow code kotlin',\n",
       " 'pytorch loss backward work retain_graph true specifi',\n",
       " 'disabl form submit button user check recaptcha checkbox',\n",
       " 'panda datafram split start specif column',\n",
       " 'panda concentr valu list first cell column first row',\n",
       " 'loop creat multipl column anoth column datafram r',\n",
       " 'javascript pars html string recogn part',\n",
       " 'use tkinter thread method',\n",
       " 'best compar nullabl datetimeoffset variabl',\n",
       " 'bar chart bar two differ datafram',\n",
       " 'problem django authent function',\n",
       " 'phpunit assertdataha array',\n",
       " 'typeid x typeid evalu true x id express type respect',\n",
       " 'troubl fit gaussian fit use lmfit due data valu appear small',\n",
       " 'test compon api call react',\n",
       " 'typescript groupbi cannot use index type tri add key reduc object',\n",
       " 'fill valu python dictionari',\n",
       " 'draw ellips opengl mvp',\n",
       " 'pyspark add new column base upon substr exist column',\n",
       " 'compil torch 5 0 without gpu support',\n",
       " 'ad new column base valu anoth column panda',\n",
       " 'subtract sql',\n",
       " 'aw boto3 ec2 start stop autom',\n",
       " 'condit sum multipl panda group defin set overlap column valu',\n",
       " 'unsupport media type 415 postman work fine',\n",
       " 'iter nest json object append data variabl',\n",
       " 'r replic alter datafram base list match name use loop',\n",
       " 'tkinter see bind widget',\n",
       " 'sql queri syntax laravel control',\n",
       " 'plot base group',\n",
       " 'get path mp3 raw resourc uri',\n",
       " 'integ check number integ',\n",
       " 'captur select column array',\n",
       " 'css background imag w rotat repeat opac',\n",
       " 'sql xml updategram run ado net',\n",
       " 'safariviewcontrollerdidfinish fire swipe dismiss',\n",
       " 'subtract fix date whole panda data frame python',\n",
       " 'node postgresql error connect econnrefus 127 0 0 5432 tcpconnectwrap afterconnect oncomplet net js 1141 16',\n",
       " 'could evalu multipl line loop java assert statement',\n",
       " 'loop dynam templat paramet azur devop yaml',\n",
       " 'call click event react geo chart',\n",
       " 'sscanf wildcard multi string return first string right',\n",
       " 'postgr alter jsonb valu type element array',\n",
       " 'counter click number increas',\n",
       " 'panda count occur valu dictionari',\n",
       " 'make name function oper special',\n",
       " 'resampl datafram month daili',\n",
       " 'vsts tfvc cli oracl develop',\n",
       " 'discord py sort messag id json file user',\n",
       " 'n1ql join aggreg addit valu',\n",
       " 'r if_els timezon forc',\n",
       " 'combin unit test multipl project docker imag azur devop pipelin',\n",
       " 'blazor pass event target javascript',\n",
       " 'updat join panda python',\n",
       " 'center rotat text td',\n",
       " 'valu queryset popul templat tag django',\n",
       " 'fastest get word middl sentenc three manipul string',\n",
       " 'r exam defin question numer answer possibl correct answer',\n",
       " 'extract row valu column equal data frame r',\n",
       " 'python plot uniqu color 10 line',\n",
       " 'rang check c 14 user defin liter',\n",
       " 'pygam game tile map lag',\n",
       " 'pars nest array data',\n",
       " 'import librari type properti',\n",
       " 'calcut mean time differ date',\n",
       " 'call parent method insid super __init__ method overriden child',\n",
       " 'select random string list result column popul null sql',\n",
       " 'iter firedac tfdparam use delphi',\n",
       " 'travers instanc look like tree datatyp nest mayb valu',\n",
       " 'problem solv code interview question',\n",
       " 'pars json array new line correct streamdecksdk',\n",
       " 'combin multipl datafram valu set common column valu',\n",
       " 'append field psql jsonb array',\n",
       " 'merg two tabel',\n",
       " 'scala spark access valu struct array type column access member anonym struct type column',\n",
       " 'creat df df base condit',\n",
       " 'remov async await caus convers error task task object',\n",
       " 'warn build rakudo window',\n",
       " 'put util function angular',\n",
       " 'convert list string comma separ string without duplic',\n",
       " 'multipl condit regex awk command',\n",
       " 'vue js search nest array',\n",
       " 'recurs depth function array',\n",
       " 'generat correl random sampl',\n",
       " 'firebas secur rule ruleset use old version current version',\n",
       " 'postgresql convert string ascii integ',\n",
       " 'match tabl 3 column return first ocurr second column first non valu third',\n",
       " 'aw dynamodb updat specif map list net',\n",
       " 'regular express abbrevi keyword variat',\n",
       " 'js loop iter condit b work b b true',\n",
       " 'play video img click',\n",
       " 'restructur specif panda datafram',\n",
       " 'display special charact pipe dilemet',\n",
       " 'unit measur dimens given edg attribut osmnx',\n",
       " 'iter string inputstream byte',\n",
       " 'get valu first key valu pair python',\n",
       " 'unpack zip object caus valueerror',\n",
       " 'execut collect group queri specif firestor collect',\n",
       " 'beautifulsoup html ignor h3 class',\n",
       " 'open link vscode creat new web browser icon vscode',\n",
       " 'creat sql tabl key item loop list python',\n",
       " 'swiftui timer publish caus whole screen refresh',\n",
       " 'post method react redux',\n",
       " 'evalu order ternari oper increment',\n",
       " 'updat valu json element postgresql',\n",
       " 'find two point form closest distanc two rectangl',\n",
       " 'render razor page razorviewtostringrender servicestack',\n",
       " 'get text format clipboard time',\n",
       " 'get 0 count output',\n",
       " 'overrid python modul default log level',\n",
       " 'function calcul euclidean distanc c',\n",
       " 'intentservic deprec replac jobintentservic',\n",
       " 'return true dimension list contain cite valu inner list',\n",
       " 'color label python',\n",
       " 'makefil call function',\n",
       " 'comput minimum panda data frame column without creat temporari column',\n",
       " 'obtain max valu n period everi row base valu anoth column datafram',\n",
       " 'check string queryset within django templat',\n",
       " 'python csv modul vs panda',\n",
       " 'output largest number keyset sever number',\n",
       " 'compil time detect miss user defin to_str',\n",
       " 'azur app servic deploy task option remov file contain upon deploy',\n",
       " 'ae gcm 256 decrypt fail even correct data',\n",
       " 'verilog time clock input output issu',\n",
       " 'perform side effect publish',\n",
       " 'tensorflow kera find categori given string',\n",
       " 'use differ hardwar spec differ node cassandra caus problem',\n",
       " 'move shortcut googl drive',\n",
       " 'scrape similar name tabl use rvest',\n",
       " 'ad new column base multipl conditio',\n",
       " 'access intern function r packag use rpy2',\n",
       " 'realtim search column mysql without plugin',\n",
       " 'get label given level factor r',\n",
       " 'python qt findchildren find children ui file',\n",
       " 'array type',\n",
       " 'divid tabl page without use bootstrap',\n",
       " 'elasticsearch sort document index valu search string text field',\n",
       " 'ihttpclientfactori chang base httpclient baseaddress',\n",
       " 'set key valu default state typescript react app',\n",
       " 'use cmake compil c cuda code',\n",
       " 'convers sign int sign char',\n",
       " 'r arul item frequenc plot rotat axi label',\n",
       " 'c mean cur brace oper',\n",
       " 'function find everi row boolean matrix pytorch',\n",
       " 'discard refer softrefer clear still put referencequeu',\n",
       " 'count cycl alphabet letter python',\n",
       " 'roc curv ggplot calcul r',\n",
       " 'asp net host close connect',\n",
       " 'possibl explain return 21',\n",
       " 'differ self self object particular tkinter class',\n",
       " 'extract portion datfram column creat anoth column extract',\n",
       " 'highchart instanc creat angular life cycl hook',\n",
       " 'emul inlin let express javascript',\n",
       " 'abl includ cpp file',\n",
       " 'java 8 zoneddatetim format date',\n",
       " 'better summar multipl group datafram',\n",
       " 'add birthday field account admin user page',\n",
       " 'python panda find file numpi',\n",
       " 'interpret dplyr messag summaris regroup output x overrid group argument',\n",
       " 'bash copi file extens root current folder except whose filenam contain certain string',\n",
       " 'specifi correct return type sqlitedatabas queri',\n",
       " 'plot select line hdf5 file format matplotlib',\n",
       " 'percentil exclud 0 googl sheet',\n",
       " 'perspect project polygon use opengl',\n",
       " 'split css grid column 3 specif row',\n",
       " 'revers multilabelbinar creat list within column',\n",
       " 'iter numpi array row python even row column array',\n",
       " 'gas error 401 connect api',\n",
       " 'remov check constraint',\n",
       " 'differ min content max content css grid row',\n",
       " 'virtual overload oper',\n",
       " 'understand access dimension array c',\n",
       " 'django read question mark django url',\n",
       " 'type getter properti typescript union',\n",
       " 'calcul jaccard index python',\n",
       " 'get npm packag name import regex relat path',\n",
       " 'check file exist azur blob contain',\n",
       " 'combin frame overlap data r',\n",
       " 'make enter lower upper cap exampl sin sin tan tan',\n",
       " 'swiftui invers anim delay remov',\n",
       " 'pars string multipl underscor dash',\n",
       " 'deep stub scala',\n",
       " 'f interfac cast within lambda express',\n",
       " 'ad firebas databas keep run maximum capac get add run',\n",
       " 'left void',\n",
       " 'remov emoji user list python punctuat nlp problem emoji function work',\n",
       " 'simplifi rail method nest variabl',\n",
       " 'perform union set differ row column datafram',\n",
       " 'export rsa key pair webcrypto chromium',\n",
       " 'write function c fail due bad file descript',\n",
       " 'py2app place pil dylib zip file',\n",
       " 'teardown function modul scope base run test result',\n",
       " 'sheet present swiftui text color interact ui element chang systemblu',\n",
       " 'mongoerror unrecogn pipelin stage name expr use divid expr aggreg',\n",
       " 'aw cloudwatch rule trigger log event',\n",
       " 'qt concurr map member function',\n",
       " 'tooltip display top without affect height width contain',\n",
       " 'okay github secret public repo',\n",
       " 'plot edit unifi hoverlabel',\n",
       " 'differ aw amplifi react aw amplifi ui react',\n",
       " 'convert larg number mp3 file video youtub use jpeg imag',\n",
       " 'find match pair two charact string',\n",
       " 'extend array option equat',\n",
       " 'bitwis oper use twice two number work',\n",
       " 'print dlls import pe 64 bit',\n",
       " 'exclud valu equal zero regress line r ggplot',\n",
       " 'refer pointer mathemat oper c',\n",
       " 'display raw array pixel screen',\n",
       " 'd3 transit wait previous',\n",
       " 'find replac text cell googl script googl sheet',\n",
       " 'loop array object return random object valu javascript',\n",
       " 'updat coredata ondelet occur foreach',\n",
       " 'get document filter elasticsearch',\n",
       " 'sum col row valu equal header panda',\n",
       " 'tupl match function call get',\n",
       " 'react spring framer motion laggi firefox',\n",
       " 'keep everi two ident name red click consecut',\n",
       " 'chang touch offset sprite spritekit',\n",
       " 'es6 arrow function vs es5 know function bind use es5 non arrow function',\n",
       " 'draft js make editor content multipag',\n",
       " 'divid two list matric ith matrix element list divid ith matrix element second list',\n",
       " 'inlin function forward refer',\n",
       " 'handl ioexcept ad file handler logger class',\n",
       " 'creat parent activ instead continu child activ finish',\n",
       " 'mfc win32 ui autom client sampl',\n",
       " 'adjust bottom pad chart titl chart js',\n",
       " 'group item insid anoth group',\n",
       " 'delet element numpi array use indeci return scipi spatial kdtree query_ball_point method',\n",
       " 'haskel usleep thread compil option precis threaddelay',\n",
       " 'ad x pack enabl elasticsearch behind aw applic load balanc caus health check failur due miss authent',\n",
       " 'check file exist hdfs path',\n",
       " 'zip list space delimit tupl',\n",
       " 'aw delet perman s3 object less 30 day use lifecycl rule',\n",
       " 'spirit x3 refer previous match valu',\n",
       " 'run differ version git server',\n",
       " 'cython index numpi array within nogil function',\n",
       " 'mask imag wkwebview subject cor limit',\n",
       " 'object testkit member packag akka',\n",
       " 'replac multipl string number multipl column nan panda',\n",
       " 'proper cancel boost deadline_tim destructor multithread environ',\n",
       " 'r reshap everi row data row base factor singl column',\n",
       " 'concurr writeconflict mongodb nodej',\n",
       " 'pygam bug music play proper loop begin part',\n",
       " 'enemi projectil wont append',\n",
       " 'gnu assembl long declar zero',\n",
       " 'remov element 2d numpi array base list',\n",
       " 'work understand code work c',\n",
       " 'ifels return vector base r',\n",
       " 'edit memori address c',\n",
       " 'react unabl chang state child compon use function defin within contain compon',\n",
       " 'understand cassandra pool option setcoreconnectionsperhost setmaxconnectionsperhost',\n",
       " 'display element vector',\n",
       " 'load imag result 404 found webpack',\n",
       " 'convert object string jqueri js html',\n",
       " 'python random seed numpi random seed implement differ anoth',\n",
       " 'react context form valid error fail show first time',\n",
       " 'make flexbox cross axi overflow height',\n",
       " 'separ content file column base keyword use bash',\n",
       " 'appli column contain polygon polygon shape',\n",
       " 'react hook avoid infinit updat',\n",
       " 'make list non decreas order element list python',\n",
       " 'array resourc xml file order',\n",
       " 'color background png imag',\n",
       " 'python iter nest object',\n",
       " 'get index element array return next element hive',\n",
       " 'resampl datafram first 4 month year sum valu',\n",
       " 'get list last 15 day date sql',\n",
       " 'sasserror argument color darken color amount must color',\n",
       " 'turn 512 x 3 datafram 128 x 4 x 3 matrix r',\n",
       " 'task run vs task factori startnew expect deadlock happen',\n",
       " 'calcul perc panda datafram base row specif condit distinct valu column',\n",
       " 'python pars output amazon rds data servic',\n",
       " 'add marker differ column seaborn panda barplot',\n",
       " 'could object move copi constructor class',\n",
       " 'opposit setfocus',\n",
       " 'pendingint instead intent connectivitymanag connectivityact callback c xamarin api 28',\n",
       " 'use jqueri chang css valu div class contain checkbox check',\n",
       " 'issu access element hash perl',\n",
       " 'cone box collis',\n",
       " 'count foreach yield differ result',\n",
       " 'pleas overrid option check definit koin android',\n",
       " 'c behaviour deriv class constructor',\n",
       " 'child class overrid constructor ident paramet parent class',\n",
       " 'oracl sql lag function use previous row calcul condit',\n",
       " 'differ listview singlechildscrollview flutter',\n",
       " 'show excel sheet chart excel vba userform',\n",
       " 'calcul perc element list valu column panda datafram',\n",
       " 'new volum ec2 instanc reflect',\n",
       " 'postgr full text search use tsvector special utf8 charact',\n",
       " 'label date two data frame',\n",
       " 'merg multipl dummi variabl column creat singl categor variabl singl column python',\n",
       " 'pass argument contain space script anoth perl',\n",
       " 'panda modifi multipl datafram loop',\n",
       " 'msal applic request permiss even configur api permiss',\n",
       " 'numpi array_equ float exact equal check',\n",
       " 'c implement class function nest struct outsid',\n",
       " 'creat instanc local variabl rail erb file',\n",
       " 'mongodb findoneandupd aggreg pipelin',\n",
       " 'sql db queri expect 0 argument use placehold',\n",
       " 'system text json deseri fail jsonexcept read much enough',\n",
       " 'error typeerror cannot read properti call undefin',\n",
       " 'render atmospher around planet shade',\n",
       " 'raspberri ble encrypt pair',\n",
       " 'check localdatetim given time within 24 hour use scala',\n",
       " 'natur sort pyicu',\n",
       " 'filter panda datafram base two column',\n",
       " 'plot histogram color bar color accord valu x axi',\n",
       " 'xamarin form xamarin plugin filepick work io',\n",
       " 'updat claus jooq throw except compar data type',\n",
       " 'r fill new column filter valu group',\n",
       " 'publish build output network share azur devop',\n",
       " 'fix index rang multi dimension view swiftui',\n",
       " 'javafx jlink jpackag modul issu ad librari error occur initi boot layer java lang modul findexcept',\n",
       " 'haskel possibl caus appli mani argument',\n",
       " 'joint four singl byte data four byte data entir',\n",
       " 'replac occurr multipl cur bracket',\n",
       " 'android app bundl kill googl play game integr work plain old apk fix',\n",
       " 'net core di contain inject ilogg',\n",
       " 'laravel seed tabl sever belong relationship use factori',\n",
       " 'date differ year pyspark datafram',\n",
       " 'correct fasthttp client combin goroutin',\n",
       " 'valueerror shape none none 6 incompat',\n",
       " 'group_bi get frequent second frequent',\n",
       " 'access return json data control asp net core ajax form',\n",
       " 'share footnot differ part tabl use flextabl',\n",
       " 'migrat dart code non nullabl nnbd',\n",
       " 'compil time size struct minus pad',\n",
       " 'bigdecim give unexpect result number larger 7 0 decim number',\n",
       " 'show part errorbar line within plot margin use ggplot2',\n",
       " 'differ chan n chan buffer n',\n",
       " 'copi replac part date field b',\n",
       " 'produc kafka messag json format python',\n",
       " 'edit messag discord py',\n",
       " 'random shuffl letter word sentenc',\n",
       " 'extens method polli polici',\n",
       " 'problem defin int instanc type class haskel',\n",
       " 'get refer firebas imag abl delet',\n",
       " 'check rule java without lot statement',\n",
       " 'doubl space tkinter text widget without use extra newlin charact',\n",
       " 'set time jqueri keyup method',\n",
       " 'add frombodi paramet backward compat',\n",
       " 'n1ql count distinct associ document',\n",
       " 'correct version cudnn cuda 11 0',\n",
       " 'rxjs mani subject subscript vs singl subject mani subscript',\n",
       " 'class refer constructor overload get call rvalu rvalu constructor avail',\n",
       " 'error ng8003 direct found exporta ngform',\n",
       " 'multipli datafram row base datetim condit',\n",
       " 'g 10 complain name lambda header file other',\n",
       " 'multipl line plot amxychart function',\n",
       " 'android navig compon reset start destin configur chang',\n",
       " 'creat db browser style qheaderview pyqt5',\n",
       " 'encod format inform googl sheet excel formula',\n",
       " 'scrape inform insid unord list selenium python',\n",
       " 'index match search differ date valu',\n",
       " 'select row x column nan valu panda',\n",
       " 'react nativ trustkit depend could find com datatheorem truskit trustkit android',\n",
       " 'select checkbox multipl checkbox column questionnair style datagridview',\n",
       " 'panda datafram sort_index perform improv sort data',\n",
       " 'communic fargat servic aw ec',\n",
       " 'set child item qtreewidget tobe auto select highlight click parent',\n",
       " 'handl fetch data rout use ngrx effect',\n",
       " 'tri get ul fill bottom contain use flexbox',\n",
       " 'process list number integ enter via termin without save list',\n",
       " 'highchart remov custom legend tooltip export',\n",
       " 'download generat pdf file php',\n",
       " 'ienumer yield return function excel',\n",
       " 'call function paramet blazor',\n",
       " 'panda creat column deviat mean group',\n",
       " 'defin clean css properti grunt prevent 0 convert 0',\n",
       " 'fs open open desir file nodej',\n",
       " 'updat valu without refresh page flask project',\n",
       " 'function design actual call',\n",
       " 'sum field specif condit oracl sql',\n",
       " 'test html content react test librari',\n",
       " 'nest dictionari cannot append list correct',\n",
       " 'correct polymorph inherit logic',\n",
       " 'convert matrix differ matric r',\n",
       " 'detect android devic default font size css media queri',\n",
       " 'build shift numpi array',\n",
       " 'get percentag tabl group',\n",
       " 'panda extract data df new df base condit',\n",
       " 'vba extract string number text',\n",
       " 'cell shade effect opengl es 0 3 0',\n",
       " 'creat multipl new column multipl dictionari',\n",
       " 'handl time differ compon pygam',\n",
       " 'creat object base queri ef core keyless entiti',\n",
       " 'ad two number recurs c',\n",
       " 'diff differ file two differ directori store differ file new directori',\n",
       " 'someon help problem find indic pair element array sum k',\n",
       " 'push object valu project use mongodb',\n",
       " 'identifi element classnam even though multipl element classnam use selenium python',\n",
       " 'asp net core 3 odata cannot select entiti id',\n",
       " 'get referr url spring webflux',\n",
       " 'qt design set style',\n",
       " 'closur syntax without paramet',\n",
       " 'get last object db without read object django',\n",
       " 'django filter object appear anoth tabl',\n",
       " 'ansibl show warn condit statement includ jinja2 templat delimit',\n",
       " 'docker symfoni cach warn fail save key',\n",
       " 'panda seri two column datafram produc seri nan',\n",
       " 'typescript interfac scope work make interfac global',\n",
       " 'vue switch compon',\n",
       " 'merg multipl array map',\n",
       " 'asymptot analysi algorithm problem',\n",
       " 'add item exist list mvc5',\n",
       " 'namespac alter function definit',\n",
       " 'bind imag src array object',\n",
       " 'make function maintain object entri method react',\n",
       " 'panda seri appli',\n",
       " 'python_df order customdata plot',\n",
       " 'count string vector',\n",
       " 'transpos renam datafram loop r',\n",
       " 'defin method trait return default implement self',\n",
       " 'understand inherit work java',\n",
       " 'lombok scala case class inaccess java class use mix project',\n",
       " 'add string key dictionari',\n",
       " 'multipl ngif combin oper angular',\n",
       " 'use regex captur setenc contain word word list python',\n",
       " 'xamarin form preview screen work',\n",
       " 'forc vs code open new file type current file open',\n",
       " 'pyarrow read_csv handl differ file encod',\n",
       " 'specifi type annot python function return type argument',\n",
       " 'join two csv file temporari common column awk',\n",
       " 'pad element fix width',\n",
       " 'redirect login',\n",
       " 'get current coredata item ondelet',\n",
       " 'geom_lin x axi order appear',\n",
       " 'creat higher order dcg parser prolog',\n",
       " 'convert string string list datafram',\n",
       " 'grade multipl choic cloze question creat exams2moodl',\n",
       " 'flatten nest iter compil type ascript',\n",
       " 'display product log author woocommerc admin product list',\n",
       " 'const_defin vs defin rubi',\n",
       " 'avoid parallel class hierarchi python',\n",
       " 'condit incud ansibl role variabl file',\n",
       " 'prevent mutat privat structur return refer',\n",
       " 'move datafram variabl name first row add new variabl name multipl datafram list',\n",
       " 'app crash call callback java get runtim error due detatchthread',\n",
       " 'build tool recommend deno',\n",
       " 'c 20 requir restrict atom',\n",
       " 'resend confirm code cognito sign process',\n",
       " 'host corenlp server caseless model',\n",
       " 'get number variant numer combin javascript',\n",
       " 'refer system window namespac net core',\n",
       " 'insert valu substr last token xslt',\n",
       " 'updat file base branch current successor branch',\n",
       " 'chang aw rds mysql instanc postgr',\n",
       " 'cach net core equival net framework class',\n",
       " 'java 8 stream filter local variabl',\n",
       " 'marker color base string valu plot python',\n",
       " 'perl command line paramet mio flag',\n",
       " 'oracl 18c listen unabl start',\n",
       " 'javascript password generat numer problem',\n",
       " 'extract valu xml column sql server',\n",
       " 'sort v data tabl check checkbox',\n",
       " 'unabl download png file shini',\n",
       " 'mention mysqldialect hibern 5 4 17 mysql 8 0',\n",
       " 'prevent user updat post 24 hour django',\n",
       " 'kera valueerror dimens must equal pass label depend valu custom loss function',\n",
       " 'pip instal instal requir depend declar install_requir',\n",
       " 'exact timezon option intl datetimeformat',\n",
       " 'glteximage2d upload new imag textur id',\n",
       " 'extract nest microdata use xpath',\n",
       " 'dynam chang text base string canva',\n",
       " 'find closest number index vector',\n",
       " 'kotest setup issu unresolv refer',\n",
       " 'select uniqu pair sql server accord third paramet',\n",
       " 'eclips web page editor open jsp html file',\n",
       " 'find data paramet requir request post function specif url',\n",
       " 'make main thread wait thread finish',\n",
       " 'angular 9 redirect queri param provid',\n",
       " 'keep track fault item tpl pipelin thread safe',\n",
       " 'manual implement structur bind c 14',\n",
       " 'address',\n",
       " 'possibl show diff commit github',\n",
       " 'svm dualiti set hyperparamet support',\n",
       " 'django __lte automat public post',\n",
       " 'skew top bottom div',\n",
       " 'beauti soup redact phone number parenthes',\n",
       " 'extract valu object similar name tabl r',\n",
       " 'point provid input output operand specifi asm templat',\n",
       " 'add typeguard null undefin defin type valu unknown',\n",
       " 'choos tabl copi word file excel file',\n",
       " 'python label dataset',\n",
       " 'increas decreas font size pyqt5 qlabel fix size',\n",
       " 'namespac option recogn scaffold dbcontext',\n",
       " 'build nest array jqueri',\n",
       " 'decod opus file pcm file use libavcodec ffmpeg',\n",
       " 'fastest popul panda datafram base valu anoth panda datafram',\n",
       " 'cannot ng repeat insid direct templat',\n",
       " 'save date type dd mm yyyi format mongodb',\n",
       " 'incorrect remov sprite group enemi right order',\n",
       " 'loop column r',\n",
       " 'automat increment valu search compar match two column googl sheet script',\n",
       " 'refer column name insid dplyr across',\n",
       " 'generat random number within defin rang use loop',\n",
       " 'handl except closabl kotlin',\n",
       " 'sort across multipl column panda',\n",
       " 'calcul follow growth time influenc',\n",
       " 'api basevari getapplicationidtextresourc obsolet replac variantproperti applicationid',\n",
       " 'mysql php select condit array',\n",
       " 'woocommerc admin order page chang discount label',\n",
       " 'good practic use shift unsign number index number array',\n",
       " 'part https jenkin io report',\n",
       " 'anchor absolut path parent directori share repo',\n",
       " 'scrape link use selenium multipl page',\n",
       " 'obtain commit list tag jgit',\n",
       " 'htaccess rewrit pretti url without affect default page',\n",
       " 'emit last request subscrib method',\n",
       " 'class constructor c',\n",
       " 'max valu column distinct row data frame r',\n",
       " 'minimum cart amount specif product categori woocommerc',\n",
       " 'forc intellij idea convert java file space tab',\n",
       " 'mailapp sendemail method get account url bodi messag block',\n",
       " 'sort javascript array first record specif follow descend order',\n",
       " 'assign non static class member static variabl initi',\n",
       " 'julia inexacterror int64',\n",
       " 'find us zip code string use regular express',\n",
       " 'customis order hive row_numb partit order window function',\n",
       " 'z index swiftui view uikit view',\n",
       " 'read csv file pl sql',\n",
       " 'extract data stdout_lin ansibl match element',\n",
       " 'attempt save pictur c byte array use canva bitmap ever output exact 16 byte',\n",
       " 'append string item list panda column',\n",
       " 'git ssh rstudio work use gui button use shell',\n",
       " 'swiftui make network request valu bind chang',\n",
       " 'shadow clip scrollview',\n",
       " 'relat perform std atom std mutex',\n",
       " 'appli condit execut variabl nest loop permut',\n",
       " 'svm method deal dimension data forecast',\n",
       " 'filter row n largest valu group',\n",
       " 'rest put ok without key uri instead put key insid bodi',\n",
       " 'slugfield django',\n",
       " 'get wald test specif variabl multivari coxph',\n",
       " 'make get request discord text file get file content',\n",
       " 'practic reason check someth destruct call destructor',\n",
       " 'git ignor typechang',\n",
       " 'nosuchmethoderror getter uid call null flutter',\n",
       " 'type variabl length tupl requir ellips list',\n",
       " 'set lead trail anchor work width',\n",
       " 'swiftui hide back button navig bar appear fraction second',\n",
       " 'combin vector use loop',\n",
       " 'make flex cell fill whole space',\n",
       " 'keep figur focus matter',\n",
       " 'trigger process return publish subscrib',\n",
       " 'write binari structur file unexpect result',\n",
       " 'manag 4 dimension array 5 dimension foreach statement php',\n",
       " 'java possibl declar field never becom null',\n",
       " 'print column header next column entri condit match',\n",
       " 'make 3d histogram 2d vector distribut python plot',\n",
       " 'rust type differ mutabl',\n",
       " 'perl combin hash key key contain ident key',\n",
       " 'jest test react nativ cannot import statement outsid modul',\n",
       " 'proper usag std move',\n",
       " 'help set default api rout swashbuckl azurefunct',\n",
       " 'send soap header progress 4gl',\n",
       " 'extract last digit string use regular express',\n",
       " 'find document biggest number match less number unmatch array',\n",
       " 'count percent barchart ggplot2 r',\n",
       " 'javascript requir attribut work e preventdefault',\n",
       " 'replac entri column parenthesi number includ panda datafram',\n",
       " 'swift valid allow alphabet letter special charact number',\n",
       " 'mongodb findon funtion return null compar id',\n",
       " 'use dplyr mutat function creat new variabl condit base current row',\n",
       " 'cython fifo cach function result',\n",
       " 'condit view bind work',\n",
       " 'render panda datafram html flask',\n",
       " 'cannot emb imag email mailkit',\n",
       " 'strang behaviour ternari oper recurs',\n",
       " 'length mmap number byte number page',\n",
       " 'c get time zone deviat',\n",
       " 'resourc interpret stylesheet transfer mime type text x scss',\n",
       " 'woocommerc align pictur product',\n",
       " 'limit width text insid p',\n",
       " 'decod nest json rest api respons array struct',\n",
       " 'read xml file c tinyxml2',\n",
       " 'reactiv extens delay initi',\n",
       " 'python datafram merg two datafram accord condit panda',\n",
       " 'doubl quot xml',\n",
       " 'java lambda heap dump instanc lambda get garbag collect',\n",
       " 'overload function two argument type doubl call pass long long',\n",
       " 'mysql nest queri syntax',\n",
       " 'store panda datafram work memori',\n",
       " 'check argument function key correct type type paramet',\n",
       " 'detect dialog set focus various combo control use pretranslatemessag',\n",
       " 'buildsrc could get unknown properti object type org gradl api intern artifact dsl depend defaultdependencyhandl',\n",
       " 'avoid use master branch bitbucket pipelin',\n",
       " 'sure progress bar stop',\n",
       " 'android sqlite queri return row contain certain text',\n",
       " 'htacess rewrit url redirect certain request subdmian',\n",
       " 'type',\n",
       " 'creat pytest mark failif',\n",
       " 'chang function r chang data frame x',\n",
       " 'use list predefin posit list r',\n",
       " 'base10 encrypt string',\n",
       " 'python new functool cached_properti bug limit',\n",
       " 'get querysnapshot doc length empti collect',\n",
       " 'style compon share style compon element',\n",
       " 'insert target tabl new entri column within row sourc tabl',\n",
       " 'purrr',\n",
       " 'escap close squar bracket within regular express charact class',\n",
       " 'return function call info optim solv',\n",
       " 'js array sort work custom logic',\n",
       " 'renam multipl column use index',\n",
       " 'jupyt notebook show imag',\n",
       " 'symfoni 5 recogn rout configur rout php file',\n",
       " 'list locat execut within ctest test suit',\n",
       " 'easi qt widget draw line shape like tkinter canva',\n",
       " 'cl x64 unsign long outsid insid union error c2099 initi constant error',\n",
       " 'c initi vs assign',\n",
       " 'read orc file s3 panda',\n",
       " 'get maximum valu group',\n",
       " 'configur cdk deploy correct region',\n",
       " 'nx node_connect nx minimum_node_cut arent match',\n",
       " 'load csv data contain date numpi array',\n",
       " 'sort select column panda datafram',\n",
       " 'creat tabl name array r alreadi cell valu',\n",
       " 'cach http request use rxjs oper',\n",
       " 'creat differ column',\n",
       " 'expandedtil boxconstraint forc infinit width',\n",
       " 'cross entropi calcul pytorch tutori',\n",
       " 'angular pipe found name',\n",
       " 'creat directori exist',\n",
       " 'fill miss valu base group averag',\n",
       " 'error r subscript var wrong type quosur formula must numer charact',\n",
       " 'react cover dynam import jest test',\n",
       " 'angular pass respons post request paramet go anoth post request',\n",
       " 'k3s traefik ingress return gateway timeout',\n",
       " 'count uniqu valu column display separ datafram w r uniqu name',\n",
       " 'odd syntax walrus oper inherit',\n",
       " 'larg list datafram extract multipl base name',\n",
       " 'r match odd number repetit',\n",
       " 'networkstream readasync time',\n",
       " 'discord py mention user string',\n",
       " 'get error messag control rout handl except errorhandl',\n",
       " 'n x k datafram generat n x 2k datafram pair row',\n",
       " 'shini app delet ui object action button',\n",
       " 'revert git head older commit',\n",
       " 'use emot new style get output head everi time compon style dynam updat',\n",
       " 'function r split matrix along margin use factor categor vector',\n",
       " 'render element use v show correct',\n",
       " 'return type deduct recurs function',\n",
       " 'reusabl simpletyp definit sql server schema collect',\n",
       " 'angular 9 render compon',\n",
       " 'add pysid qgraphicsscen boxlayout',\n",
       " 'compar iter crash program without error custom bubbl sort implement',\n",
       " 'appli convolut stereo audio signal',\n",
       " 'second channel receiv data previous channel',\n",
       " 'handl social login exampl flow',\n",
       " 'classifi multipl observ within variabl categoris new column make code shorter r',\n",
       " 'seper ca etcd kubernet',\n",
       " 'join tabl multipl condit linq alway show result primari key coalesc null',\n",
       " 'extend express request type',\n",
       " 'type requir c concept c 20',\n",
       " 'creat maximum valu group',\n",
       " 'programmat set paypal purchas valu',\n",
       " 'sort array struct char field empti field go last place',\n",
       " 'use python access web data regular express work',\n",
       " 'multicolumn model qcomplet',\n",
       " 'increas variabl number',\n",
       " 'typescript export default react functioncompon',\n",
       " 'typescript possibl type array includ everi key enum',\n",
       " 'last object list delet delet effect delet',\n",
       " 'take portion column match portion anoth column panda',\n",
       " 'r indic group valu',\n",
       " 'systemverilog always_comb construct infer pure combin logic',\n",
       " 'order match multipl column mutipl condit',\n",
       " 'f best swap letter string',\n",
       " 'aw s3 api list multipart upload timezon timestamp',\n",
       " 'winscp use powershel ad directori sftp site upload',\n",
       " 'matlab name colormap custom number element',\n",
       " 'programmat determin pip user instal locat script directori',\n",
       " 'transpos memoryview pure python',\n",
       " 'connect multipl pyqt signal w variabl argument singl slot signal repeat',\n",
       " 'make map object repeat',\n",
       " 'xpath express find either type element anoth',\n",
       " 'factor mani mutat variabl fell swoop',\n",
       " 'creat file assembl dynam specifi file path',\n",
       " 'access collect insid document firestor',\n",
       " 'call deleg method custom uitextfield class',\n",
       " 'react nativ vertic deliveri progress bar',\n",
       " 'emb logo email',\n",
       " 'c rang v3 std span ownership intermedi object return rang view function',\n",
       " 'wait end long process anoth thread',\n",
       " 'gas support string liter numer constant like nasm',\n",
       " 'tri solv non linear optim use gekko get error',\n",
       " 'risc v return except handler compress instruct',\n",
       " 'differ aw aws_proxi cloudform apigateway',\n",
       " 'usag printf fget togeth loop',\n",
       " 'find common email pattern base email address name python',\n",
       " 'function return recordset',\n",
       " 'rubi combin method line',\n",
       " '1d array column ndarray',\n",
       " 'score number factor common r',\n",
       " 'vessel segment retina imag',\n",
       " 'refer problem data tabl follow copi',\n",
       " 'press enter click button',\n",
       " 'basic react variabl local storag reset undefin briefli desir valu',\n",
       " 'use fakeasync testwidget',\n",
       " 'paramet variabl name mean kotlin',\n",
       " 'panda multilin data schema singl line',\n",
       " 'uuid modul run test jest',\n",
       " 'combin complet suggest match phrase across multipl text field',\n",
       " 'sort list base given sequenc field',\n",
       " 'deduct guid templat templat paramet',\n",
       " 'plot subplot use datafram',\n",
       " 'custom whether request follow 302 okhttpclient',\n",
       " 'hide show base jqueri ui slider valu',\n",
       " 'vba send file binari code api via post method',\n",
       " 'templat email bootstrap symfoni mailer',\n",
       " 'collaps 2d scatter plot dot plot',\n",
       " 'hsqldb script file automat get delet multipl project execut multithread environ parallel',\n",
       " 'c linq orderbi base condit',\n",
       " 'timer run thread node js',\n",
       " 'merg empti array javscript current array inord remvov current item',\n",
       " 'compar next row repeat criteria met panda',\n",
       " 'php xml xpath foreach return node instead iter',\n",
       " 'c statement work string',\n",
       " 'disabl list view item base string valu',\n",
       " 'django combin two queri group',\n",
       " 'react javascript someon explain setstat seem correct updat state function',\n",
       " 'chang amount question base user say python',\n",
       " 'sign integ promot unsign long',\n",
       " 'return type annot chang behavior scala mixin twitter effect scala',\n",
       " 'use intent createchoos get error call startact outsid activ context requir flag_activity_new_task flag',\n",
       " 'exit loop keystrok',\n",
       " 'ziparchiveentri contain definit extracttofil',\n",
       " 'declar element array non nullabl',\n",
       " 'queryselector work queryselectoral',\n",
       " 'react form control model valu map',\n",
       " 'select column base text display multipl textbox',\n",
       " 'use async await return valu',\n",
       " 'extract part url string jmeter json respons',\n",
       " 'perl convert ipv4 address hexadecim',\n",
       " 'googl app script share file custom messag',\n",
       " 'detect patch binari imag use opencv python',\n",
       " 'react navig header button v5 version 5 x show menu item',\n",
       " 'group data certain criteria',\n",
       " 'possibl get fresh googl slide present data appsscript',\n",
       " 'timedistribut layer predict sequenc dynam length python 3',\n",
       " 'add latest timesstamp googl gaug',\n",
       " 'unabl load groovi class',\n",
       " 'get count data monthwis iso date mongo db',\n",
       " 'sum count month shown last day month',\n",
       " 'increment column group wise',\n",
       " 'js regex return 0',\n",
       " 'pytorch affine_grid theta input',\n",
       " 'ref datatyp pl sql code sql statement',\n",
       " 'annot type paramet abstractmethod paramet type deriv specif base type',\n",
       " 'panda datafram aggreg valu within block repeat id',\n",
       " 'group datafram column contain specif valu r',\n",
       " 'aggreg perform countbi multipl lookup array singl queri',\n",
       " 'setup code coverag go azur devop',\n",
       " 'structur type dotti scala 3 compil fail',\n",
       " 'reduc imag byte size given valu format jpeg',\n",
       " 'copi c style array structur',\n",
       " 'definit space colon numpi docstr section',\n",
       " 'persist paramet hive hql',\n",
       " 'serv multipl version multipl singl page applic nginx server',\n",
       " 'test jsonp method servic angular',\n",
       " 'bind insid style prism',\n",
       " 'sass declar useeffect jsx',\n",
       " 'keep valu nonexist categori subtract datafram',\n",
       " 'coroutin wait data continu process',\n",
       " 'textformfield display error messag even valu insert use form flutter',\n",
       " 'group distinct work differ tabl view',\n",
       " 'space node networkx plot network label',\n",
       " 'linq group multipl column',\n",
       " 'write custom attribut direct react 16 9',\n",
       " 'laravel gate custom respons',\n",
       " 'mono flux oper like peek ifpres stream option api',\n",
       " 'regex search directori whose name contain two substr',\n",
       " 'check sequenc column panda datafram',\n",
       " 'remov initi transit d3 js tree',\n",
       " 'possibl implement includ script need rather nuxt config js nuxtj',\n",
       " 'unabl updat document cloud firestor',\n",
       " 'list delet cloudform stack lambda function',\n",
       " 'c compil protect const memori address chang',\n",
       " 'wp rig error run npm run build cannot find vendor bin phpcs',\n",
       " 'generat multipl sum within column',\n",
       " 'c new oper differ assign variabl without',\n",
       " 'find indic duplic element array',\n",
       " 'chang specif column name go python',\n",
       " 'fill column base valu column datafram',\n",
       " 'powerpc eabivl gcc support e_and2i instruct',\n",
       " ...]"
      ]
     },
     "execution_count": 12,
     "metadata": {},
     "output_type": "execute_result"
    }
   ],
   "source": [
    "[' '.join(map(str, w)) for w in df_stop_stem['Title'].tolist()]"
   ]
  },
  {
   "cell_type": "markdown",
   "metadata": {},
   "source": [
    "# Lemmatization"
   ]
  },
  {
   "cell_type": "code",
   "execution_count": 10,
   "metadata": {},
   "outputs": [],
   "source": [
    "wn = WordNetLemmatizer()\n",
    "tokenizer = RegexpTokenizer(r'\\w+')"
   ]
  },
  {
   "cell_type": "code",
   "execution_count": 11,
   "metadata": {},
   "outputs": [],
   "source": [
    "def get_wordnet_pos(word):\n",
    "    \"\"\"Map POS tag to first character lemmatize() accepts\"\"\"\n",
    "    tag = pos_tag([word])[0][1][0].upper()\n",
    "    tag_dict = {\"J\": wordnet.ADJ,\n",
    "                \"N\": wordnet.NOUN,\n",
    "                \"V\": wordnet.VERB,\n",
    "                \"R\": wordnet.ADV}\n",
    "\n",
    "    return tag_dict.get(tag, wordnet.NOUN)\n",
    "\n",
    "def nltk_lemmatizer_stop(row):\n",
    "#     title_tokens = tokenizer.tokenize(row['Title'].lower())\n",
    "    title_tokens = [ lemma for lemma in \n",
    "            [ wn.lemmatize(w, get_wordnet_pos(w)) for w in tokenizer.tokenize(row['Title'].lower()) ]\n",
    "            if lemma not in nltk_stop_words ] \n",
    "    body_tokens = [ lemma for lemma in \n",
    "            [ wn.lemmatize(w, get_wordnet_pos(w)) for w in tokenizer.tokenize(row['Bs4_Body'].lower()) ]\n",
    "            if lemma not in nltk_stop_words ]\n",
    "    return title_tokens, body_tokens"
   ]
  },
  {
   "cell_type": "code",
   "execution_count": 12,
   "metadata": {},
   "outputs": [
    {
     "data": {
      "text/plain": [
       "['j',\n",
       " 'and',\n",
       " 'cs',\n",
       " 'file',\n",
       " 'extentions',\n",
       " 'be',\n",
       " 'naked',\n",
       " 'leave',\n",
       " 'the',\n",
       " 'wash',\n",
       " 'room']"
      ]
     },
     "execution_count": 12,
     "metadata": {},
     "output_type": "execute_result"
    }
   ],
   "source": [
    "phrase = \"js and css files extentions are naked leaving the washing room\"\n",
    "[ wn.lemmatize(w, get_wordnet_pos(w)) for w in tokenizer.tokenize(phrase.lower()) ]"
   ]
  },
  {
   "cell_type": "code",
   "execution_count": null,
   "metadata": {},
   "outputs": [],
   "source": []
  },
  {
   "cell_type": "code",
   "execution_count": 13,
   "metadata": {},
   "outputs": [],
   "source": [
    "init_lemma = False\n",
    "if init_lemma:\n",
    "    tokenizer = RegexpTokenizer(r'\\w+')\n",
    "#     stemmer = SnowballStemmer(\"english\")\n",
    "    wn = WordNetLemmatizer()\n",
    "\n",
    "    df_lemma_stop = pd.DataFrame()\n",
    "    df_lemma_stop = df_bs4.apply(nltk_lemmatizer_stop, axis=1, result_type='expand')\n",
    "    df_lemma_stop.columns=['Title', 'Body']\n",
    "    df_lemma_stop.to_pickle(data_path + 'nltk_lemma_stop.pkl')\n",
    "\n",
    "    df_lemma_stop_test = pd.DataFrame()\n",
    "    df_lemma_stop_test = df_bs4_test.apply(nltk_lemmatizer_stop, axis=1, result_type='expand')\n",
    "    df_lemma_stop_test.columns=['Title', 'Body']\n",
    "    df_lemma_stop_test.to_pickle(data_path + 'nltk_lemma_stop_test.pkl')\n",
    "else:\n",
    "    df_lemma_stop = pd.read_pickle(data_path + 'nltk_lemma_stop.pkl')\n",
    "    df_lemma_stop_test = pd.read_pickle(data_path + 'nltk_lemma_stop_test.pkl')"
   ]
  },
  {
   "cell_type": "code",
   "execution_count": 12,
   "metadata": {
    "scrolled": true,
    "tags": []
   },
   "outputs": [
    {
     "data": {
      "text/plain": [
       "[('veri', 'fast'),\n",
       " ('fast', 'threadsafe'),\n",
       " ('threadsaf', 'whatever'),\n",
       " ('whatev', 'reason'),\n",
       " ('reason', 'c'),\n",
       " ('c', 'seem'),\n",
       " ('seem', 'require'),\n",
       " ('requir', 'construct'),\n",
       " ('construct', 'functor'),\n",
       " ('functor', 'every'),\n",
       " ('everi', 'time'),\n",
       " ('time', 'hash'),\n",
       " ('hash', 'value'),\n",
       " ('valu', 'quite'),\n",
       " ('quit', 'concerned'),\n",
       " ('concern', 'overhead'),\n",
       " ('overhead', 'allocate'),\n",
       " ('alloc', 'entire'),\n",
       " ('entir', 'struct'),\n",
       " ('struct', 'every'),\n",
       " ('everi', 'time'),\n",
       " ('time', 'hash'),\n",
       " ('hash', 'value'),\n",
       " ('valu', 'understand'),\n",
       " ('understand', 'actual'),\n",
       " ('actual', 'reason'),\n",
       " ('reason', 'functor'),\n",
       " ('functor', 'even'),\n",
       " ('even', 'necessary'),\n",
       " ('necessari', 'context'),\n",
       " ('context', 'safe'),\n",
       " ('safe', 'correct'),\n",
       " ('correct', 'create'),\n",
       " ('creat', 'hash'),\n",
       " ('hash', 'struct'),\n",
       " ('struct', 'call'),\n",
       " ('call', 'multiple'),\n",
       " ('multipl', 'different'),\n",
       " ('differ', 'time'),\n",
       " ('time', 'hash'),\n",
       " ('hash', 'struct'),\n",
       " ('struct', 'go'),\n",
       " ('go', 'threadsafe'),\n",
       " ('threadsaf', 'make'),\n",
       " ('make', 'threadsafe')]"
      ]
     },
     "execution_count": 12,
     "metadata": {},
     "output_type": "execute_result"
    }
   ],
   "source": [
    "c = 211\n",
    "[ (i,j) for i,j in zip(df_stop_stem.loc[c,'Body'],df_lemma_stop.loc[c,'Body']) if i != j ]"
   ]
  },
  {
   "cell_type": "markdown",
   "metadata": {},
   "source": [
    "# Corpus build"
   ]
  },
  {
   "cell_type": "code",
   "execution_count": 14,
   "metadata": {},
   "outputs": [],
   "source": [
    "build_corpus=False"
   ]
  },
  {
   "cell_type": "code",
   "execution_count": 15,
   "metadata": {},
   "outputs": [],
   "source": [
    "if build_corpus:\n",
    "    stem_title_corpus = [' '.join(map(str, w)) for w in df_stop_stem['Title'].tolist()]\n",
    "    stem_title_corpus_test = [' '.join(map(str, w)) for w in df_stop_stem_test['Title'].tolist()]\n",
    "    stem_body_corpus = [' '.join(map(str, w)) for w in df_stop_stem['Body'].tolist()]\n",
    "    stem_body_corpus_test = [' '.join(map(str, w)) for w in df_stop_stem_test['Body'].tolist()]\n",
    "    dump(stem_title_corpus, data_path + 'stem_title_corpus.joblib')\n",
    "    dump(stem_title_corpus_test, data_path + 'stem_title_corpus_test.joblib')\n",
    "    dump(stem_body_corpus, data_path + 'stem_body_corpus.joblib')\n",
    "    dump(stem_body_corpus_test, data_path + 'stem_body_corpus_test.joblib')\n",
    "else:\n",
    "    stem_title_corpus = load(data_path + 'stem_title_corpus.joblib')\n",
    "    stem_title_corpus_test =  load(data_path + 'stem_title_corpus_test.joblib')\n",
    "    stem_body_corpus = load(data_path + 'stem_body_corpus.joblib')\n",
    "    stem_body_corpus_test = load(data_path + 'stem_body_corpus_test.joblib')"
   ]
  },
  {
   "cell_type": "code",
   "execution_count": 16,
   "metadata": {},
   "outputs": [],
   "source": [
    "if build_corpus:\n",
    "    lemma_title_corpus = [' '.join(map(str, w)) for w in df_lemma_stop['Title'].tolist()]\n",
    "    lemma_title_corpus_test = [' '.join(map(str, w)) for w in df_lemma_stop_test['Title'].tolist()]\n",
    "    lemma_body_corpus = [' '.join(map(str, w)) for w in df_lemma_stop['Body'].tolist()]\n",
    "    lemma_body_corpus_test = [' '.join(map(str, w)) for w in df_lemma_stop_test['Body'].tolist()]\n",
    "    dump(lemma_title_corpus, data_path + 'lemma_title_corpus.joblib')\n",
    "    dump(lemma_title_corpus_test, data_path + 'lemma_title_corpus_test.joblib')\n",
    "    dump(lemma_body_corpus, data_path + 'lemma_body_corpus.joblib')\n",
    "    dump(lemma_body_corpus_test, data_path + 'lemma_body_corpus_test.joblib')\n",
    "else:\n",
    "    lemma_title_corpus = load(data_path + 'lemma_title_corpus.joblib')\n",
    "    lemma_title_corpus_test = load(data_path + 'lemma_title_corpus_test.joblib')\n",
    "    lemma_body_corpus = load(data_path + 'lemma_body_corpus.joblib')\n",
    "    lemma_body_corpus_test = load(data_path + 'lemma_body_corpus_test.joblib')\n",
    "    "
   ]
  },
  {
   "cell_type": "code",
   "execution_count": null,
   "metadata": {},
   "outputs": [],
   "source": []
  },
  {
   "cell_type": "markdown",
   "metadata": {},
   "source": [
    "# Count Vectorizer "
   ]
  },
  {
   "cell_type": "code",
   "execution_count": 17,
   "metadata": {},
   "outputs": [
    {
     "data": {
      "text/plain": [
       "['..\\\\data\\\\stackoverflow\\\\models\\\\lemma_title_count_vectorizer.joblib']"
      ]
     },
     "execution_count": 17,
     "metadata": {},
     "output_type": "execute_result"
    }
   ],
   "source": [
    "\n",
    "\n",
    "title_count_vectorizer = CountVectorizer(ngram_range=(1,1), max_features=1000)\n",
    "title_count_vectorizer.fit(lemma_title_corpus)\n",
    "dump(title_count_vectorizer, model_path + 'lemma_title_count_vectorizer.joblib')"
   ]
  },
  {
   "cell_type": "code",
   "execution_count": 18,
   "metadata": {},
   "outputs": [
    {
     "data": {
      "text/plain": [
       "['..\\\\data\\\\stackoverflow\\\\models\\\\lemma_body_count_vectorizer_11.joblib']"
      ]
     },
     "execution_count": 18,
     "metadata": {},
     "output_type": "execute_result"
    }
   ],
   "source": [
    "\n",
    "\n",
    "body_count_vectorizer = CountVectorizer(ngram_range=(1,1), max_features=5000)\n",
    "body_count_vectorizer.fit(lemma_body_corpus)\n",
    "dump(body_count_vectorizer, model_path + 'lemma_body_count_vectorizer_11.joblib')"
   ]
  },
  {
   "cell_type": "code",
   "execution_count": 19,
   "metadata": {},
   "outputs": [
    {
     "data": {
      "text/plain": [
       "['..\\\\data\\\\stackoverflow\\\\models\\\\lemma_body_count_vectorizer_12.joblib']"
      ]
     },
     "execution_count": 19,
     "metadata": {},
     "output_type": "execute_result"
    }
   ],
   "source": [
    "body_count_vectorizer2 = CountVectorizer(ngram_range=(1,2), max_features=5000)\n",
    "body_count_vectorizer2.fit(lemma_body_corpus)\n",
    "dump(body_count_vectorizer2, model_path + 'lemma_body_count_vectorizer_12.joblib')"
   ]
  },
  {
   "cell_type": "code",
   "execution_count": 20,
   "metadata": {},
   "outputs": [
    {
     "data": {
      "text/plain": [
       "['..\\\\data\\\\stackoverflow\\\\models\\\\lemma_body_count_vectorizer_13.joblib']"
      ]
     },
     "execution_count": 20,
     "metadata": {},
     "output_type": "execute_result"
    }
   ],
   "source": [
    "body_count_vectorizer3 = CountVectorizer(ngram_range=(1,3), max_features=5000)\n",
    "body_count_vectorizer3.fit(lemma_body_corpus)\n",
    "dump(body_count_vectorizer3, model_path + 'lemma_body_count_vectorizer_13.joblib')"
   ]
  },
  {
   "cell_type": "code",
   "execution_count": null,
   "metadata": {},
   "outputs": [],
   "source": []
  },
  {
   "cell_type": "code",
   "execution_count": null,
   "metadata": {},
   "outputs": [],
   "source": []
  },
  {
   "cell_type": "code",
   "execution_count": null,
   "metadata": {},
   "outputs": [],
   "source": []
  },
  {
   "cell_type": "markdown",
   "metadata": {},
   "source": [
    "# TFIDF Stem Vectorization"
   ]
  },
  {
   "cell_type": "code",
   "execution_count": 21,
   "metadata": {},
   "outputs": [
    {
     "data": {
      "text/plain": [
       "['..\\\\data\\\\stackoverflow\\\\models\\\\stem_title_vectorizer.joblib']"
      ]
     },
     "execution_count": 21,
     "metadata": {},
     "output_type": "execute_result"
    }
   ],
   "source": [
    "title_vectorizer = TfidfVectorizer(ngram_range=(1,1), max_features=1000)\n",
    "title_vectorizer.fit(stem_title_corpus)\n",
    "dump(title_vectorizer, model_path + 'stem_title_vectorizer.joblib')"
   ]
  },
  {
   "cell_type": "code",
   "execution_count": 22,
   "metadata": {},
   "outputs": [
    {
     "data": {
      "text/plain": [
       "['..\\\\data\\\\stackoverflow\\\\models\\\\stem_body_vectorizer_11.joblib']"
      ]
     },
     "execution_count": 22,
     "metadata": {},
     "output_type": "execute_result"
    }
   ],
   "source": [
    "body_vectorizer = TfidfVectorizer(ngram_range=(1,1), max_features=5000)\n",
    "body_vectorizer.fit(stem_body_corpus)\n",
    "dump(body_vectorizer, model_path + 'stem_body_vectorizer_11.joblib')"
   ]
  },
  {
   "cell_type": "code",
   "execution_count": 23,
   "metadata": {},
   "outputs": [
    {
     "data": {
      "text/plain": [
       "['..\\\\data\\\\stackoverflow\\\\models\\\\stem_body_vectorizer_12.joblib']"
      ]
     },
     "execution_count": 23,
     "metadata": {},
     "output_type": "execute_result"
    }
   ],
   "source": [
    "body_vectorizer2 = TfidfVectorizer(ngram_range=(1,2), max_features=5000)\n",
    "body_vectorizer2.fit(stem_body_corpus)\n",
    "dump(body_vectorizer2, model_path + 'stem_body_vectorizer_12.joblib')"
   ]
  },
  {
   "cell_type": "code",
   "execution_count": 24,
   "metadata": {},
   "outputs": [
    {
     "data": {
      "text/plain": [
       "['..\\\\data\\\\stackoverflow\\\\models\\\\stem_body_vectorizer_13.joblib']"
      ]
     },
     "execution_count": 24,
     "metadata": {},
     "output_type": "execute_result"
    }
   ],
   "source": [
    "body_vectorizer3 = TfidfVectorizer(ngram_range=(1,3), max_features=5000)\n",
    "body_vectorizer3.fit(stem_body_corpus)\n",
    "dump(body_vectorizer3, model_path + 'stem_body_vectorizer_13.joblib')"
   ]
  },
  {
   "cell_type": "code",
   "execution_count": 18,
   "metadata": {},
   "outputs": [
    {
     "data": {
      "text/plain": [
       "'<p>I am having two dataframe like described below</p>\\n\\n<p><strong>Dataframe 1</strong></p>\\n\\n<pre><code>P_ID     P_Name     P_Description   P_Size\\n\\n100      Moto          Mobile         16\\n\\n200      Apple         Mobile         15\\n\\n300      Oppo          Mobile         18\\n</code></pre>\\n\\n<p><strong>Dataframe 2</strong></p>\\n\\n<pre><code>P_ID     List_Code      P_Amount     \\n\\n100      ALPHA           20000         \\n\\n100      BETA            60000  \\n\\n300      GAMMA           15000    \\n</code></pre>\\n\\n<p><strong>Requirement :</strong>\\nNeed to join the two dataframe by P_ID. </p>\\n\\n<p><strong>Information about the dataframe :</strong>\\nIn dataframe 1 P_ID is a primary key and dataframe 2 does\\'t have any primary attribute.  </p>\\n\\n<p><strong>How to join the dataframe</strong>\\nNeed to create new columns in dataframe 1 from the value of dataframe 2 List_Code appends with \"_price\". If dataframe 2 List_Code contains 20 unique values we need to create 20 column in dataframe 1. Then, we have fill the value in newly created column in dataframe 1 from the dataframe 2 P_Amount column based on P_ID if present else fills with zero. After creation of dataframe we need to join the dataframe based on the P_ID. If we add the column with the expected value in dataframe 1 we can join the dataframe. My problem is creating new columns with the expected value. </p>\\n\\n<p>The expected dataframe is shown below  </p>\\n\\n<p><strong>Expected dataframe</strong></p>\\n\\n<pre><code>   P_ID     P_Name     P_Description   P_Size   ALPHA_price   BETA_price    GAMMA_price\\n\\n    100      Moto          Mobile         16       20000       60000           0\\n\\n    200      Apple         Mobile         15         0            0            0\\n\\n    300      Oppo          Mobile         18         0            0           15000\\n</code></pre>\\n\\n<p>Can you please help me to solve the problem, thanks in advance.</p>\\n'"
      ]
     },
     "execution_count": 18,
     "metadata": {},
     "output_type": "execute_result"
    }
   ],
   "source": [
    "df_bs4.loc[75,'Body']"
   ]
  },
  {
   "cell_type": "code",
   "execution_count": 19,
   "metadata": {},
   "outputs": [
    {
     "data": {
      "text/plain": [
       "'I am having two dataframe like described below Dataframe 1 Dataframe 2 Requirement : Need to join the two dataframe by P_ID.  Information about the dataframe : In dataframe 1 P_ID is a primary key and dataframe 2 does\\'t have any primary attribute.   How to join the dataframe Need to create new columns in dataframe 1 from the value of dataframe 2 List_Code appends with \"_price\". If dataframe 2 List_Code contains 20 unique values we need to create 20 column in dataframe 1. Then, we have fill the value in newly created column in dataframe 1 from the dataframe 2 P_Amount column based on P_ID if present else fills with zero. After creation of dataframe we need to join the dataframe based on the P_ID. If we add the column with the expected value in dataframe 1 we can join the dataframe. My problem is creating new columns with the expected value.  The expected dataframe is shown below   Expected dataframe Can you please help me to solve the problem, thanks in advance.'"
      ]
     },
     "execution_count": 19,
     "metadata": {},
     "output_type": "execute_result"
    }
   ],
   "source": [
    "df_bs4.loc[75,'Bs4_Body']"
   ]
  },
  {
   "cell_type": "code",
   "execution_count": 20,
   "metadata": {},
   "outputs": [
    {
     "data": {
      "text/plain": [
       "'P_ID     P_Name     P_Description   P_Size 100      Moto          Mobile         16 200      Apple         Mobile         15 300      Oppo          Mobile         18 P_ID     List_Code      P_Amount      100      ALPHA           20000          100      BETA            60000   300      GAMMA           15000        P_ID     P_Name     P_Description   P_Size   ALPHA_price   BETA_price    GAMMA_price     100      Moto          Mobile         16       20000       60000           0     200      Apple         Mobile         15         0            0            0     300      Oppo          Mobile         18         0            0           15000'"
      ]
     },
     "execution_count": 20,
     "metadata": {},
     "output_type": "execute_result"
    }
   ],
   "source": [
    "df_bs4.loc[75,'Code']"
   ]
  },
  {
   "cell_type": "code",
   "execution_count": 20,
   "metadata": {},
   "outputs": [],
   "source": [
    "df_base = df_bs4[:10][['Title','Bs4_Body']]\n",
    "tokenizer = RegexpTokenizer(r'\\w+')"
   ]
  },
  {
   "cell_type": "markdown",
   "metadata": {},
   "source": [
    "# TFIDF Lemma Vectorization"
   ]
  },
  {
   "cell_type": "code",
   "execution_count": 25,
   "metadata": {},
   "outputs": [
    {
     "data": {
      "text/plain": [
       "['..\\\\data\\\\stackoverflow\\\\models\\\\lemma_title_vectorizer.joblib']"
      ]
     },
     "execution_count": 25,
     "metadata": {},
     "output_type": "execute_result"
    }
   ],
   "source": [
    "\n",
    "title_vectorizer = TfidfVectorizer(ngram_range=(1,1), max_features=1000)\n",
    "title_vectorizer.fit(lemma_title_corpus)\n",
    "dump(title_vectorizer, model_path + 'lemma_title_vectorizer.joblib')"
   ]
  },
  {
   "cell_type": "code",
   "execution_count": 26,
   "metadata": {},
   "outputs": [
    {
     "data": {
      "text/plain": [
       "['..\\\\data\\\\stackoverflow\\\\models\\\\lemma_body_vectorizer_11.joblib']"
      ]
     },
     "execution_count": 26,
     "metadata": {},
     "output_type": "execute_result"
    }
   ],
   "source": [
    "body_vectorizer = TfidfVectorizer(ngram_range=(1,1), max_features=5000)\n",
    "body_vectorizer.fit(lemma_body_corpus)\n",
    "dump(body_vectorizer, model_path + 'lemma_body_vectorizer_11.joblib')"
   ]
  },
  {
   "cell_type": "code",
   "execution_count": 27,
   "metadata": {},
   "outputs": [
    {
     "data": {
      "text/plain": [
       "['..\\\\data\\\\stackoverflow\\\\models\\\\lemma_body_vectorizer_12.joblib']"
      ]
     },
     "execution_count": 27,
     "metadata": {},
     "output_type": "execute_result"
    }
   ],
   "source": [
    "body_vectorizer2 = TfidfVectorizer(ngram_range=(1,2), max_features=5000)\n",
    "body_vectorizer2.fit(lemma_body_corpus)\n",
    "dump(body_vectorizer2, model_path + 'lemma_body_vectorizer_12.joblib')"
   ]
  },
  {
   "cell_type": "code",
   "execution_count": 28,
   "metadata": {},
   "outputs": [
    {
     "data": {
      "text/plain": [
       "['..\\\\data\\\\stackoverflow\\\\models\\\\lemma_body_vectorizer_13.joblib']"
      ]
     },
     "execution_count": 28,
     "metadata": {},
     "output_type": "execute_result"
    }
   ],
   "source": [
    "body_vectorizer3 = TfidfVectorizer(ngram_range=(1,3), max_features=5000)\n",
    "body_vectorizer3.fit(lemma_body_corpus)\n",
    "dump(body_vectorizer3, model_path + 'lemma_body_vectorizer_13.joblib')"
   ]
  },
  {
   "cell_type": "code",
   "execution_count": 19,
   "metadata": {},
   "outputs": [
    {
     "data": {
      "text/plain": [
       "'<p>I am trying to improve the animation performance of my custom modal view.</p>\\n\\n<p>By using .drawingGroup(), I\\'ve managed to do so, but my TextField got disabled. Like so:</p>\\n\\n<p><a href=\"https://i.stack.imgur.com/gGWJIm.jpg\" rel=\"nofollow noreferrer\"><img src=\"https://i.stack.imgur.com/gGWJIm.jpg\" alt=\"enter image description here\"></a></p>\\n\\n<p>And I get the error: \\'Unable to render flattened version of PlatformViewRepresentableAdaptor&lt;>\\'</p>\\n\\n<p>Is there a way to fix this? </p>\\n\\n<p>Note: I am using a standard TextField.</p>\\n\\n<p>Thanks!</p>\\n'"
      ]
     },
     "execution_count": 19,
     "metadata": {},
     "output_type": "execute_result"
    }
   ],
   "source": [
    "df_bs4.loc[1500,'Body']"
   ]
  },
  {
   "cell_type": "code",
   "execution_count": 20,
   "metadata": {},
   "outputs": [
    {
     "data": {
      "text/plain": [
       "\"I am trying to improve the animation performance of my custom modal view. By using .drawingGroup(), I've managed to do so, but my TextField got disabled. Like so: And I get the error: 'Unable to render flattened version of PlatformViewRepresentableAdaptor<>' Is there a way to fix this?  Note: I am using a standard TextField. Thanks!\""
      ]
     },
     "execution_count": 20,
     "metadata": {},
     "output_type": "execute_result"
    }
   ],
   "source": [
    "df_bs4.loc[1500,'Bs4_Body']"
   ]
  },
  {
   "cell_type": "code",
   "execution_count": 18,
   "metadata": {},
   "outputs": [
    {
     "data": {
      "text/plain": [
       "'tri improv anim perform custom modal view drawinggroup manag textfield got disabl like get error unabl render flatten version platformviewrepresentableadaptor fix note standard textfield thank'"
      ]
     },
     "execution_count": 18,
     "metadata": {},
     "output_type": "execute_result"
    }
   ],
   "source": [
    "' '.join(df_stop_stem.loc[1500,'Body'])"
   ]
  },
  {
   "cell_type": "code",
   "execution_count": 21,
   "metadata": {},
   "outputs": [
    {
     "data": {
      "text/plain": [
       "'improve animation performance custom modal view drawinggroup manage textfield get disabled like get error unable render flatten version platformviewrepresentableadaptor fix note standard textfield thanks'"
      ]
     },
     "execution_count": 21,
     "metadata": {},
     "output_type": "execute_result"
    }
   ],
   "source": [
    "' '.join(df_lemma_stop.loc[1500,'Body'])"
   ]
  },
  {
   "cell_type": "code",
   "execution_count": null,
   "metadata": {},
   "outputs": [],
   "source": []
  },
  {
   "cell_type": "code",
   "execution_count": null,
   "metadata": {},
   "outputs": [],
   "source": []
  },
  {
   "cell_type": "code",
   "execution_count": null,
   "metadata": {},
   "outputs": [],
   "source": []
  },
  {
   "cell_type": "code",
   "execution_count": 4,
   "metadata": {},
   "outputs": [
    {
     "name": "stdout",
     "output_type": "stream",
     "text": [
      "3.0.5\n"
     ]
    }
   ],
   "source": [
    "print(spacy.__version__)"
   ]
  },
  {
   "cell_type": "code",
   "execution_count": 6,
   "metadata": {},
   "outputs": [],
   "source": [
    "nlp = spacy.load(\"en_core_web_sm\")"
   ]
  },
  {
   "cell_type": "code",
   "execution_count": 33,
   "metadata": {},
   "outputs": [],
   "source": [
    "# doc = nlp(df_base.loc[51,'bf4'])\n",
    "doc_title = nlp(df_base['Title'][:10000].str.cat(sep='. '))\n"
   ]
  },
  {
   "cell_type": "code",
   "execution_count": 8,
   "metadata": {},
   "outputs": [],
   "source": [
    "nlp.max_length=2500000\n",
    "doc_body = nlp(df_base['bs4'][:4000].str.cat(sep='. '))"
   ]
  },
  {
   "cell_type": "code",
   "execution_count": 32,
   "metadata": {},
   "outputs": [
    {
     "data": {
      "text/plain": [
       "array([-0.91, -0.64, -0.78, -0.07,  0.92,  1.59, -0.02, -0.31,  2.27,\n",
       "        0.29, -0.74,  1.4 , -0.51, -0.34,  0.77, -0.23, -0.1 , -0.03,\n",
       "        1.99, -0.27, -0.72, -0.6 , -1.19,  0.11, -0.47, -0.7 , -0.33,\n",
       "       -0.05, -0.34, -0.65, -0.29,  0.17,  0.  ,  0.02, -0.71, -0.08,\n",
       "        0.13, -0.35,  0.59,  0.14,  1.25,  1.34, -0.42, -0.12, -0.89,\n",
       "        0.33, -1.06, -0.62, -0.67, -0.07, -0.15, -0.38,  0.07, -0.06,\n",
       "       -1.16,  1.15, -0.27, -0.23, -0.82,  0.91, -0.74,  0.23,  0.99,\n",
       "       -0.93,  1.03,  0.6 ,  1.06, -0.79, -0.69,  1.85,  0.82, -0.77,\n",
       "       -0.63, -1.13,  0.29, -1.06, -1.09,  0.66, -0.75,  0.89,  0.16,\n",
       "        0.27,  0.49,  1.62, -0.04, -1.46,  0.09,  0.48, -0.96, -0.98,\n",
       "       -0.83,  1.54,  0.95, -0.59,  1.71, -0.11], dtype=float32)"
      ]
     },
     "execution_count": 32,
     "metadata": {},
     "output_type": "execute_result"
    }
   ],
   "source": [
    "doc_title[50].vector"
   ]
  },
  {
   "cell_type": "code",
   "execution_count": 9,
   "metadata": {},
   "outputs": [
    {
     "data": {
      "text/plain": [
       "array([-0.4 , -0.73,  1.05, -0.05, -0.53,  0.06,  0.17,  0.51, -1.07,\n",
       "        0.  , -0.83,  0.41, -0.42, -0.71, -0.96, -0.17, -1.77,  1.46,\n",
       "        0.56, -1.22, -0.69, -0.9 ,  0.56,  0.21,  0.48, -1.16, -0.24,\n",
       "       -1.09, -0.05, -0.17,  0.28,  0.35,  0.98,  0.69, -0.48,  0.06,\n",
       "        1.22, -1.19, -0.57,  0.91,  0.68,  1.24, -0.  , -0.7 ,  0.28,\n",
       "       -0.84,  2.12, -0.59, -0.42, -0.44,  0.43,  0.69, -0.33, -0.11,\n",
       "       -0.28,  1.11,  0.97, -0.28,  1.74, -0.44, -0.09, -0.26,  0.19,\n",
       "        0.3 ,  1.14,  1.26, -0.43, -1.39, -0.88, -0.52,  0.64,  1.3 ,\n",
       "       -0.74, -0.08, -0.46,  0.43, -0.17, -1.53, -0.  ,  0.55, -0.48,\n",
       "       -0.01,  0.18,  0.8 , -0.59,  0.04, -0.99,  0.22,  1.15, -0.64,\n",
       "       -0.18,  0.37, -1.28,  0.57,  0.24, -0.28], dtype=float32)"
      ]
     },
     "execution_count": 9,
     "metadata": {},
     "output_type": "execute_result"
    }
   ],
   "source": [
    "doc_body[50].vector"
   ]
  },
  {
   "cell_type": "code",
   "execution_count": 27,
   "metadata": {
    "scrolled": true,
    "tags": []
   },
   "outputs": [
    {
     "name": "stdout",
     "output_type": "stream",
     "text": [
      "Noun phrases: ['the smallest common divisor', 'a string', 'a trait object', 'a method', 'a reference', 'Self', 'a named function declaration', 'you', 'it', 'the return statement', 'value', 'input', 'flickering', 'React', 'a vector', 'atomic types', 'first key', 'object', 'docker inspect', 'name', 'network', 'container', 'I', 'the choices', 'vote count', 'my poll', 'an array', 'a map', 'a package', 'CRAN', 'a package', 'CRAN', 'trouble', 'R', 'SQL subquery', 'specific rows', 'Python3', 'I', 'an alphanumeric command-line argument', '20x', 'not a solely numeric one', 'C', 'Regex', 'new lines', 'quotations', 'PHP', 'Alternative', 'INNER JOIN', 'no cartesian product', 'Input', 'Outputs', 'HTML', 'Typescript', 'Angular', 'My code', \"this newton's cradle\", 'I', 'Issue', 'select element', 'jQuery', 'Debug, System functions', 'loop', 'Google Test C.', 'rows', 'dates', 'Pandas', 'environment variables', 'javascript', 'value', 'multiple keys', 'python', 'Laravel access', 'a Linkedlist node pointer', 'other nodes', 'only part', 'a file', 'Git', 'sublime merge', 'Python OOP instances', 'classes mutability', 'Dynamic nested loop - recursion', 'data', 'text file', 'shell', 'C', 'a multi-byte character', 'a null character', 'SQLAlchemy CRUD operation', 'outcome assignment', 'kubelet', 'ClusterDNS IP', 'Microk8s', 'SQL Server', 'detach database', 'React useState option value', 'onChange selection', 'coroutines', 'Flow<List', 'T', 'Set listener', 'a child', 'a child', 'recyclerView', 'Kotlin', 'the HashMap', 'Room database', 'JSON', 'GSON', 'multiple dataframes', 'a csv file', 'an empty row', 'column', 'substring', 'the columns name', 'pandas', 'python', 'User-defined conversion', 'return type', 'Two Associative Arrays', 'One Multidimensional Array PHP', 'a diacritical mark', 'one letter', 'the left', 'How does z-index work', 'its default values', 'the href attribute', 'html', 'unwanted results', 'error', '\"passwords', 'passwd', 'docker', 'R', 'calculation', 'column values', 'loop', 'stereo sine wave', 'FFMPEG', 'List', 'keys', 'Map', 'ggplot', 'boxplots', 'Copy', 'case class', 'PK violation', 'way', 'existence', 'DB performance', 'values', 'a symmetric array', 'power', 'an element', 'Gradient Arc View', 'my call', 'strcmp', 'Error opening photos', 'zip file', 'Django', 'Join array', 'strings', 'single string', 'separator', 'comprehension', 'map', 'Merge', 'Two Array', 'Struct', 'Swift', 'Pandas', 'multiple values', 'cell', 'column', 'a way', 'a non-trivial static', 'std::collections::HashMap', 'it', 'C language syntax', 'if { ... } while(0', 'java arguments', 'Windows', 'Linux', 'any way', 'chrome selenium', 'Collapsible content', 'scripts', 'value', 'json', 'a variable', 'jq', 'bash', 'Kafka', 'setup', 'record', 'Aurora', 'AWS MSK', 'Google sheets API - download data', 'no formatting', 'Parity', 'modulo', 'date index', 'the first element', 'each month', 'Firebase database', 'children', 'Git LFS', 'filter-branch', 'unchanged file', 'index', 'groovy exception', 'presto', 'Cassandra', 'the controller', 'an included FXML', 'Toolbar badge count', 'I', 'it', 'ViewModel', 'plots', 'Matplotlib', 'Haskell', 'double-wrapped maybes', 'functions', 'maybes', 'useSelector react-redux hook - state', 'argument', 'tuple enum inside method', 'Rust', 'I', 'the scope', 'selenium', '\"find_elements_by_xpath', 'star-counting', 'each row', '7 or 8 column grids', \"vuetity's v-row\", '-col', 'enablePersistence', ') method', 'Firebase', 'offline use', 'the web app', 'H2O cluster', 'several R programs', 'access', 'cluster', 'queue', 'it', 'Regex - Extract string', 'two expressions', 'only last apperance', 'all possible configuration options', 'an Azure service', 'all time', 'i', 'page', 'UTC', 'NotificationCenter publishers', 'Where does Laravel store throttle data', 'multiple instances', 'a subclass', 'only one instance', 'a superclass', 'fixed width integers', 'dataframe grouping', 'class', 'timestamp', 'Menu Class', 'Core', 'spring integration flow', 'Laravel Eloquent Relationship', 'the same foreign key', 'the same table', 'gnuplot', '12h time format', '24h time format', 'Handle Authentication', 'ajax call', 'MVC client', 'resource api', 'Identity server', 'Unrecognized option', 'bad number', 'args', 'Instagram', 'tor', '12 Callback', 'mysql connection', 'string', 'int cloumn(table design', 'CSS', 'a selector', 'a new element', 'command', 'CFLAGS', '= -fno-stack-protector', 'a TreeSet', 'a custom comparator', 'a larger set', 'items', 'Combine visitors', 'VisitorPattern', 'firebase', 'display', 'rating bar', '\"activity', 'getActivity', 'Fragment', 'Kotlin', 'Stripe', 'access', 'account', 'that account', 'object', 'Array', 'seprate array', 'gson', 'Java', 'Kotlin', 'sublist', 'a scheduler', 'each user', 'Firebase Cloud Functions', 'pygame', 'collision', 'a rotating rectangle', 'tf.gather', 'the index', 'probabilistic form', 'Tensorflow', 'Enzyme', 'React', 'a component', 'useHistory', 'text', 'pdfbox', \"A null character '\\\\0\", 'the end', 'a string', 'Microsoft Logging', 'log', 'Unhandled exception', 'Keras LSTM Model', 'Javascript', 'createQuery', 'createNativeQuery', 'performance difference', 'update/delete statements', 'the GIL', 'a thread', 'Python', 'Numba', 'a SwiftUI environment object', 'a class', '(-extension', 'css text', 'selection', 'round corners', 'group columns', 'pandas', 'group', 'multiple variables', 'QString', 'char', 'I', 'the xticks', 'yticks', 'it', 'the figure', 'Matlab', 'you', 'the end', 'file', 'an error', 'fscanf', 'C', 'interface keys', 'Error', \"resample('W'),sum\", 'python', 'I', 'inconsistent behaviour', 'I', 'a file', 'the `>` operator', 'SQL', 'Postgres', 'dates', 'values', 'last non empty day', 'long long type representation', 'memory', 'a Kubernetes Ingress', 'two* healthchecks', 'default', 'its Load Balancers', 'I', 'a byte array', 'an image', 'a Spring Controller', 'a browser', 'it', 'the Qt + cmake', 'QGLWidget', 'the value', 'string', 'the inheritance', 'Applicative functor laws violation', 'Storage management', 'C. Calculate duration', '(age', 'ggplot2', 'italics', 'the legend', 'R', 'a matrix', 'matrix', 'repetition', 'columns', 'rows', 'What', 'the quantity', 'the most expensive item', 'Pandas', 'lazy variable', 'name', 'Python list', 'index', 'each element', 'array', 'it', 'a dangling pointer', 'app context', '(Unresolved reference', 'extra arguments', 'ggplot2 theme', 'Writable seq_file', 'Linux Kernel', 'somebody', 'the following syntax', 'it', 'negative and positive numbers', 'each set', 'a list', 'What', 'the easiest way', 'boxplots', 'this example', 'I', 'a list', 'class objects', 'pygame', 'RecyclerView', 'multiple view types', 'library', 'boundary callback', 'Zonal statistics', 'majority pixel value', 'polygon', 'R', 'PyQt-thread', 'dynamically output', 'user email', 'password validation', 'firebase', 'integer value', 'Spark', 'Scala', 'I', 'this module', 'npm', 'several DropHandlers', 'WPF', 'gong', 'default cookie names', 'ASP.NET Core MVC', 'nested attributes', 'laravel', 'default value', 'Validator', 'post registeration', 'Seq', 'an EBS volume', 'the volume', 'detaching', 'dataframe rows', 'pandas wrt', 'months', 'Jan', 'Dec.', 'minimum level', 'group', 'ReactJS - New item', 'the field', 'Json', 'NET + MongoDB Bson', 'previous entries', 'a time serie', 'additional columns', 'Flask Form', 'parameters', \"MSVC's supported subset\", 'C.', 'nested properties', 'a type', 'ReactJS - warning message', 'Hook useEffect', 'a missing dependency', '12 hour Javascript Clock Showing', 'Wrong AM/PM', 'I', 'my pg_hba.conf file', 'django', 'Weighted Frequency Table', 'R. Sending URL', 'another URL', 'std::set store', 'memory', 'date', 'R. Show floating sidebar', 'main text', 'What', 'the standard approach', 'ES2015 modular architecture', 'boxed Byte', 'Java', 'SE spec', 'Iterate', 'unknown amount', 'input', 'Python', 'subscription.request(n', 'Flow API', 'backpressure', 'any n value', 'i', 'methods', 'different objects', 'an arrayList', 'diagonal fractions', 'HTML', 'object level permissions', 'APIView', 'an array', 'null', 'it', 'useEffect React', 'Issue', 'class', 'function', 'a result', 'recursion', 'Python', 'Which substitution failures', 'requires clauses', 'Row', 'Sum', 'Single Joined Column', 'not a range', 'cells', 'my password', 'different hashes', 'the same salt', 'filling user', 'input', 'shell', 'DefaultIfEmpty Exception \"bug', 'limitation', 'EF Core', 'Flutter', 'a container', 'a panel', 'something', 'a type casted pointer', 'year', 'date', 'count', 'records', 'every year', 'an output variable', '[MATLAB', 'Elixir', 'a custom type implement', 'vuejs boolean value', 'template', 'Unwanted values', 'Problems', 'screen size', 'iPhoneX', 'SpriteKit', 'c ++ Data entry', 'array', 'struct structure', 'list', 'XElement', 'class', 'separate file', 'device coordinates', 'shader', 'different results', 'cpu', 'load_entry_point', 'other modules', 'No module', '\" error', 'setState', 'the enclosing function returns', \"and' operator\", 'python3', 'Image', 'an excel spreadsheet', 'R. ValueError', 'The model', 'accuracy', 'You', 'metrics=[\"accuracy', 'the `model.compile', ')` method', 'What', 'JS', 'website', 'browser', 'both row', 'column', 'condition', 'symmetric dataframe', 'an extended promise instance', 'an async function', 'Recursion and Tail Call Optimization Example', 'Xamarin Forms Upload image', 'variable', 'webpage', 'sets', 'elements', 'an array', 'Ruby', 'a function', 'a function', 'document', 'Google Sheets ArrayFormula Solution', 'Multiplying 2 Columns', 'a Column', 'Lists', 'Numbers', 'DOM element', 'event listener', 'common code', 'all onclick handlers', 'a React app', 'Safari middle-button click bug', 'I', 'the Perl 5 module', \"Data::Printer's `show_tied` option\", 'it', 'Raku', 'new View', 'SwiftUI', 'a slider menu', 'it', 'the slider', 'itself', '\"operator T', 'c++ smart pointer implementation', 'rows', 'DF', 'index', 'Schema design', 'store billing', 'multiple payment providers', 'TFJS', 'model', 'http', 'headers', 'what scenarios', \"the validated receipt's transaction_id\", 'JavaScript', 'all items', 'array', 'X number', 'init', 'a struct', '@propertyWrapper members', 'function', 'each row', 'the next row', 'R', 'What', 'the difference', 'vh', 'vpx and Regular PX/%', 'waitKey', 'I', 'proper background', 'a character-based graphics system', 'all MSProject file', 'a directory - Excel VBA', 'Update HTML', 'two values', 'array', 'objects', 'Kestrel', 'system', 'InvalidOperationException', 'a video', 'css', 'perl', 'bad return value', 'decode_json', 'JavaFX', 'indicator', 'a new window', 'a Point', 'Geography', '1 Meter', 'Entity Framework Core', 'Net Topology Suite', 'a new class method', 'R', 'Python', 'gcs blob', 'the dataflow worker', 'C# ArgumentNullException type', 'namespace', 'VS Code', 'C# List', 'AddRange', 'Parallel', 'ArgumentException', 'value', 'async coroutine', 'an oversize div', 'multiple table cell', 'colspan', 'it', 'Iterator::filter_map', 'conditional filtering', 'user context access', 'I', 'Twitter OAuth', 'my request', 'MongoDB index', 'decltype', 'function template', 'default argument', 'the confused result(a funny problem', \"gcc's bug\", 'I', 'tag position', 'Convert cmp', 'Bootstrap', 'I', 'something', 'the footer', 'Cyclic dependency', 'global objects', 'Java Concurrency', 'Practice', 'a task', 'a dedicated thread', 'What', 'the purpose', 'scheduled taskThread.interrupt', 'ASP.NET Core MVC', '3.1 project', 'me', 'a register user', 'Identity', 'The entity type', \"'Customer\", 'a table', 'it', 'ApplicationUser', '\"uninitialized constant Faraday::Error::ClientError', '(NameError', 'they', 'matplotlib events', 'when Qt events', 'an emoji', 'Chrome', 'the url', 'a service', 'kubernetes', 'certain parameters', 'lambda expression', 'PIL', 'an ICO image', 'the lowest index', 'the array', 'all text', 'a TextBox', 'mouse', '(TextBox', 'SelectAll', 'TextBox', 'a plot', 'function arguments', 'R', 'a saved Codable struct', 'a new property', 'Image display size', 'half', 'srcset', 'hi dpr screens', 'line', 'linear gradient', 'bottom left corner', 'Python BeautifulSoup', 'requests', 'div style', 'new object', 'function', 'Concepts', 'Fastest method', 'each character', 'string', 'a list', 'strings', 'we', ') method', 'dart code', 'state', 'hook', 'App hook', 'React', 'Issue', 'timepicker', 'which button', 'other activity', 'Assembly', 'variable-size stack frame', 'these stack-alignment instructions', 'a VLA', 'I', 'image', 'pizza', 'cv2', 'local.settings.json', 'azure function', 'core web project', 'Service', 'Lifespan', 'use-cases', 'What', 'the type', 'a class name', 'parenthesis', 'sprintf', 'another string', 'dates', 'dataframe - mix', 'decimal and character values', 'lambda row', 'df', 'if statement', 'a string', 'a variable name', 'the Initialization', 'C++ STL Containers', 'Blazor Component parameter', 'its component', 'title', 'child views', 'TabView', 'NavigationView', 'Python - Aggregate', 'week', 'the month basis', 'Keys', 'INDICES', 'compound PRIMARY', 'KEY', 'TypeError', 'only integer', 'scalar arrays', 'scalar index', 'dataframe \"to_datetime', 'std::ffi::os_str::OsStr', 'the full name', 'a service', 'Kubernetes', 'specific data', 'nested list', 'Why margin-left', 'a Block Formatting Context element', 'a same result', 'margin-right', 'a float element', 'Mysql', 'constraint', 'many relation', 'certain number', 'relations', 'a random list', 'a list', 'items', 'handle_info', 'timeout', 'erlang', 'duplicates', 'dataframe', 'punctuations', 'user details', 'azure active directory', 'authentication provider', 'the checkboxes', 'loop', 'Material UI', 'the callstack', 'a stack data structure', 'C', 'Remove Edit', 'delete button', 'select box reactJS', 'Array size deduction', 'Css', 'a page', 'No constructor', 'type', \"'MyProject\", 'Response', 'services', 'the service container and default values', 'Groupby year', 'the average', 'the size', 'pandas', 'I', 'text size', 'google bar chart', 'value', 'each bar', 'verification process', 'PowerShell', 'basic question', 'all indices', 'an occurrences', 'a string', 'words', 'row entries', 'columns', 'pandas DataFrame', 'Error', 'region', 'an object', 'Pandas groupby sort each group values', 'order dataframe groups', 'max', 'each group', 'CPU usage', 'a function', 'std::future wait', 'a flag sleep', 'a while', 'a loop', 'I', 'object properties', 'console.log(obj', 'Chrome', 'floating values', 'pydatatable', '2 different arrays', 'objects', 'both matching and non matching items', 'Maximum', 'some specific columns', 'a spark scala dataframe', 'multiple instances', 'tags', 'Possible z-index issue', 'LINQ', 'EF', 'Where expression', 'lambda property', 'Form', 'availability', 'data', 'Cout', '(error', 'no match', 'operator', 'the text', 'a script', 'a variable', 'another script', 'linux', 'Function', 'sum', 'one or more arguments', 'pandas DataFrame', 'Pandas dataframe cell', 'null value', 'Google Sheet', 'a column', 'another column', '.0', 'multiple columns', 'Gray scale images', 'C++', 'What', 'deprecated Facebook adView setAdListener', 'callbacks', 'How to vertically align items', 'different sizes', 'a compiler', 'gcc', 'version', 'a processor', 'What', 'the difference', 'Step', '\"Force Step', 'the Intellij debugger', 'I', 'the value', 'a nested formBuilder group', 'a html form', 'object array', 'a new array', 'two dataframes', 'R. MySQL event', 'table data', 'other table', 'my model', 'Laravel', 'relationships', 'query builder', 'C#', 'class', 'generic type', 'some class', 'a group', 'django', 'Parameters pack', 'Error', 'the constant mac address', 'an android device', 'the WifiManager', 'I', 'one default value', 'the end', 'autocomplete search list', 'search results', 'anyone', 'me', 'A cross-origin error', 'target.name', 'Necessity', 'bson struct tag', 'MongoDB go client', 'Css nth child filter', 'all elements', 'a JSON object variable', 'Proto definition', 'long data format', 'wide data format', 'pandas', 'index', 'constant interval', 'Core 3.0 ILogger testing', 'C# Abstract Method', 'update method', 'horizontal scroll bar', 'table', 'I', 'user parameters', 'a value', 'firebase', 'I', 'a string', 'another string', 'Lua', 'operator+', 'enum class', 'non zero starting value', 'inherited frames', 'argument', 'a procedure', 'diverging color scale', 'averages', 'each value', '-axis', 'arguments', 'docker run command', 'few scripts', 'an azure function', 'a specific time', \"type 'Timestamp\", \"type 'int' - Substracting datasets\", 'I', 'Firebase Cloud Functions', 'Firestore events', 'i', 'an array', 'a class object', 'a compile time size', 'Travis CI build error', 'my R package', 'C++', 'Rcpp', 'RcppArmadillo', 'shared extension', 'library dependency', 'Get n level parent', 'find command', 'python', 'it', 'a publicy shared google sheet', 'an auth code', 'AWS Batch:/usr/local/bin/python', 'binary file', 'Prometheus node exporter', 'an already existing docker container', 'A Div Appear', 'Refresh Javascript', 'Coroutines CancellationException', 'behaviour', 'Custom color', 'region', 'Venn', 'ggplot2', 'I', 'a document', 'my remote DB server', 'error', 'command insert', 'authentication', 'properties', 'objects', 'an array', 'multiple class properties', 'value', 'TextField', 'StreamBuilder', 'Concurrency', 'Practice Circular Buffer Error', 'a specific Jenkins job', 'regex', 'value', 'properties', '@Value', 'Spring', 'a function wrapper', 'overloads', 'Change', 'contrast', 'picture', 'MySQL query', '3 counts', 'group', 'ReactJS: Join map', 'output', 'concatenating value', 'the overridden BackColor property', 'a UserControl', 'What', 'the correct syntax', 'pointer', 'a struct/class member', 'strptime', \"Rails' test environment\", 'Intersection Observer', 'Remove/ Add classes', 'header', '<footer> viewport position', 'Deconstruct', 'parameters', 'typescript and default values', 'JMeter JDBC pre-processor', 'multiple Insert/delete/update queries', 'segmentation', 'knapsackproblem', 'Aggregate', '$project', '$group', '$sum', '$count', '$group', 'Tensorboard', 'it', 'a killed Windows PID', 'Android', 'flaky ViewModel unit', 'coroutines', 'Dreamweaver', 'my stylesheet', 'the local disk', 'only date number', 'a date column', 'format', 'Mmm-dd', 'padas', 'R maths operation', 'NA values', 'Swift Combine - perform tasks', 'given sequence', 'Inline SVG <title', 'desc', 'correct usage', 'accessilibility', 'user', 'No console', 'C#', 'Laravel', 'parameters', 'method FormRequest Class', 'this code snippet', 'the outer scope', 'the arrow function', 'showList', 'forEach', 'keyframe animations', 'they', 'resources', 'Promise.all', 'Redux Invalid hook call', 'a database', 'Azure Data Studio', 'it', 'use', 'Kotlin - <T', '<T', 'regex', 'VisJs', 'Node Dynamicaly', 'a 1D array', '500 pointers', 'a function', 'C. Django', 'FilterSet', 'boolean values', 'a trigger', 'SQLite', 'android', 'a line', 'Key_Return press', 'QTextEdit', 'values', 'qml', 'a tox environment', 'Child', 'styles', 'its parent blade layout', 'GridSearchCV', 'all the parameters', 'I', 'it', 'I', 'an Array', 'Record', 'Conditional Bulk Update', 'SQL Server', 'multiple columns', 'Lambda', 'Kotlin', 'Multithreading Operation', 'Method', 'key', 'a map', 'computation', 'its values', 'Java', 'local variables', 'an event', 'Handling method', 'garbage collection', 'Django', 'ALL database', 'the paginator function', 'it', 'an async method', 'a promise', 'a bad practice', 'member swap', 'terms', 'non-member swap', 'Python Selenium', 'a hidden frame', 'java script assert', 'a Windows service', 're', '-', 'installation', 'uninstallation', 'Inno Setup', 'dependency', 'which dependency', 'unwanted jar', 'Deprecated java.security.egd=file:/dev/./urandom', 'Spring Boot applications', 'spring data', 'spring boot', 'TypeScript', 'Correct type', 'an array', 'objects', 'a reduce', 'OpenQA.Selenium', 'NoSuchElementException', 'I', 'the button', 'expandable area', 'Vue Axios Mixin global method type', 'an identically-named parent function', 'What', 'the return value', 'spurious wake-ups', 'App', 'BLE Multiple connections', 'gateway', 'value', 'numpy ndArray', 'R convert XML', 'complex structure', 'files', 'chown recursive', 'wildcard', 'file name', 'TypeScript', 'Type error', 'an array', 'objects', 'Inherit class', 'chaining functions', 'I', 'a condition', 'it', 'a specific letter', 'VBA', 'Java Multithreading', 'usage', 'A more elegant way', 'new elements', 'data', 'multiple group elements', 'What', 'the return value', 'an ad-hoc SQL query', 'property/value pairs', 'a CSS text', 'I', 'two LocalDates', 'the past', 'week integer', 'aggregate query', 'Core', 'Claim', 'AzuerAD Authentication', 'MsgBox', \"multiple 'past due' items\", 'an array', 'objects', 'boto3', 'object', 'metadata', 'tag', 'the type', 'elements', 'tuple', 'dotty', 'SQL - Select', 'Key value', 'one json', 'sequence', 'filename', 'a regular expression', 'TypeScript', 'null', 'messages', 'flask_socketio', 'Response object', 'FeatureCollection', 'the DefaultHttpContext', 'DateTime', 'ParseExact', 'custom date formats', 'windows', 'raspbian', 'CSV separator', 'Karate', 'full Kafka-message batch', 'Spring Boot', 'ISO 8601 Strings', 'Enzyme - access Form Input', 'mounted value', 'props', 'Haskell', 'function', 'expected type', 'actual type `Expr', 'I', 'Listbox', 'code', 'it', 'a component', 'layout', 'Vaadin', 'it', 'The run time', 'specific group', 'decorators', 'class methods', 'class instantiation', 'an IP', 'a google filestore instance', 'Form code', 'MAKEMIGRATONS', 'pairs', 'polygons', 'a specific (bigger) polygon', 'all that points', 'that pairs', \"array's value\", 'TypeScript', 'a std::tuple', 'compilte-time/run-time', 'its values', 'Arrange numbers', 'different descending orders', 'ViewModel', 'TextFields', 'SwiftUI', 'I', 'list comprehension', 'terms', 'higher order functions', 'rainy animation', 'Flutter', 'React useEffect', 'How to group', 'elements', 'items', 'HTML lists', 'the exact data structures', 'algorithms', 'a standard piece', 'code', 'C++ STL', 'a ManyToMany query', 'a class based view', 'Convert string', 'HTML', 'JSON Object', 'obstacles', 'NxM board', 'Compilation Error', 'jobs', 'oracle', 'a difference', 'pointer', 'main / function', 'Manual mouse ray', 'ray calculation', 'java rotation problem', 'I', 'this KeyError', 'data', '3 records', 'a website', 'excel vba', 'excel data', 'the active state', 'flowchart', 'search result', 'it', 'column', 'a powershell command', 'Python', 'print', 'Dynamic SQL Pivot', 'new columns', 'column value', 'parse column names', 'What', 'Webflux', 'a single synchronous call', \"Excel VBA Run-time error '424' Object\", 'replacing cell contents', 'rounded to 2 decimals', 'current values', 'common configuration', 'different plugins', 'the same Maven module', 'available GPU memory', 'tensorflow', 'MaterialUI', '+ React Testing Library', 'Unit test Select MenuItem breaks', 'version', 'I', 'the last word', 'character', 'javascript', 'Binary operator problem', 'multiple excel files', 'one file', 'multiple sheets', 'Python', 'todo', 'one list', 'Vue.js', 'Mutate returns data', 'wrong order', 'a bug', 'spacing', 'table rows', 'we', 'events', 'a boolean array', 'A', 'two 1-D vectors', 'A[i', 'a Logger Class', 'Log4Net', 'Simple Injector', 'data quality', 'query', 'two OR statements', 'JOIN', 'multiple items', 'filter method', 'React/JS', 'specified columns', 'React', 'useEffect', 'a missing dependency error', 'NodeJS request', 'weird characters', 'CLion', 'Process', 'exit code', '2D data frame', '3D matrix', 'preserving row and column order', 'Windows Visual Studio', 'Visual Studio', 'Mac', 'the same Xamarin.iOS version', 'mono', 'SDK version', 'Postgres', 'function', 'best / first element', 'a group', 'it', 'a pointer', 'an uninstantiated object', 'a variable', 'C++', 'Component Gateway', 'DataprocOperator', 'Airflow', 'git', 'local directory', 'Azure Repos', 'multiple fields', 'SelectTokens', '\"window.location.pathname', 'route specific logic good practice', 'Bug/Feature', 'pandas', 'a multi-indexed dataframe', 'date returns', 'the date index level', 'a Pandas dataframe', 'new data', 'existing ID number', 'my dice', 'only even integers', 'an even number', 'dice', 'Delete', 'square brackets', 'dynamic array', 'worksheet style', 'macro', 'the ? operator', 'the error', 'the trait', 'NoneError', 'Error', 'an empty 2d array', 'I', 'this protected member function', 'the wanted output', 'haskell', 'expected type', \"actual type 'Bool\", 'you', 'a relationship', 'a primary key', \"the second table's column\", 'Nan', 'Array', 'arrays', 'What', 'the diff', 'something', 'factor levels', 'use', 'rows', 'StyleFrame', 'I', 'the numbers', 'a String', 'the average', 'them', 'the chron package', '2 digit years', 'link onclick', 'Scala tuple', 'Sequence', 'same order', 'output', 'double quotes', 'shapeless', \"the error 'super constructor\", 'a self reference', 'parameter', 'name', 'HMAC-SHA256', 'Java', 'different output', 'JavaScript', 'Vue.js - using functions', 'component methods', 'csv-parse', 'a loop', 'TypeScript', 'the return type', 'a function', 'Numpy-like mask values', 'Tensorflow', 'part', 'the x-axis', 'logscale', 'Gnuplot', 'How to \"forward\" a @Published value', 'Simplest hand-rolled permutations', 'combinations', 'NA', 'loop', 'the results', 'a Tukey test', 'boxplots', 'CLD letters', 'Unit testing', 'code', 'fatal flows', 'a loop', 'javascript mileage calculation', 'a pythonic way', 'the pairs', 'whole minutes', 'csv', 'value', 'code', 'ipython', 'program', 'a scheduled task', 'the user', 'PowerShell', 'Concurrency issue', 'CosmosDb', 'Effect', 'RDD', 'same result', 'mapPartitions', 'What', 'the point', 'a JavaScript getter method', 'VSCode Code Spell Checker extension', 'an entire folder?/. openssl EVP_CipherFinal_ex', 'Count number', 'words', 'a Dictionary file', 'R.', 'The relative unit', 'percentage', 'the browser', 'the space', 'fr', 'str', 'no object', 'django', 'Multiple Text Fields', 'Regex', 'Compiling', 'Pandas DataFrame', 'new browser window', 'partial title text', 'either Python', 'JavaScript', 'Robot Framework', 'Selenium', 'a way', 'a start', 'endtime column', 'a single datetime column', 'R', 'grouped data', 'multiple regression models', 'data subsets', 'R. Typescript', 'specific prop', 'key', 'Status Bar Color', 'a Specific View', 'Web Api Post ActionResult', 'object', 'I', 'I', 'each category', 'StrokeType', 'OUTSIDE', 'high amounts', 'lag', 'a label', 'a ScrollPane', 'brackets', 'python', 'Radio Button', 'Asp.net Webform', 'multiple choice question', 'does `Object.keys/values/entries', 'Arrays', 'iterators', 'my directional movement functions', 'Function', 'Visual Studio Code', 'a way', 'quotes', 'ripgrep', 'MS Windows', 'Powershell', 'CMD', 'Closing parentheses', 'string', 'app service app', 'Azure cli', 'Panel data', 'multiindex', 'Query/filter', 'criteria', 'countif', 'Issues', 'MPI program', 'two cluster nodes', 'I', 'the bar size', 'matplotlib pyplot bar charts', 'mutated structures', 'it', 'Delphi', 'union enumerations', 'a larger enumeration', 'One instance attribute', 'updates', 'class instantiation', 'it', '@Singleton', '@Prototype', 'Micronauts', 'Jackson custom KeyDeserializer', 'Map', 'entries', 'key', 'What', 'the jobrequest endpoint return', 'Update text', 'WinForms Label', 'center', 'set_index', 'multiindex columns', 'tuples', 'a spark dataframe', 'I', 'a string', 'character count', 'Istio', 'Kubernetes', 'more than one TLS Certificate. x86 Assembly', 'Segmentation Fault', '(Core', 'print array', 'full URL', 'laravel', 'Search sentence', 'all values', 'a list', 'values', 'adjacent cell', 'Django query object', 'loop', 'oracle table', 'Python', 'data', 'another table', 'a field', 'Firestore type reference', 'command button', 'Excel', 'Space Optimised query', 'I', \"Vuetify's primary text color\", 'Sum values', 'column', 'row', 'the column', '%', 'total', 'my function', 'the desired result', 'Return values', 'matching conditions', 'r. Uncaught Error', 'Android', 'files', 'R.raw', 'a row', 'information', 'a specific cell', 'the cell', 'it', 'Start', 'Endtimes', 'R', 'a way', 'the days', 'dataframe', 'a specific column', 'the aggregations', 'a separate column', 'R', 'Powershell', 'ExtractToDirectory', 'no folder', '1 or 2 repositories', 'project', 'git', 'OpenGL', \"a remote (Paramiko) ssh command's output\", 'Flutter', 'SizedBox', 'Dynamic Height', 'Ansible conditional omit filter', 'looped items', 'C# List<T> RemoveAt(int32) function', 'all indexes', 'each List', 'a 2d List', 'specified list', 'track', 'a recursive function', 'Copy format', 'previous row', 'Gforms', 'a text column', 'my dataframe', 'a list', 'possible patterns', 'the value', 'a React controlled input element', 'a Chrome extension', 'Asp', 'Net MVC', 'data', 'view', 'dataloss', 'Regex pattern - simple string template', 'object mapping', 'R', 'a subject', 'their columns', 'a certain value', 'PHP redirect', 'version based user’s location', '(IPAPI', 'a session', 'Qt signal', 'slots', 'QRunnable', 'another thread', 'Typescript multiple object properties', 'shared types', 'a way', 'a motion', 'a register', 'Doubly Generic Types', 'C', '#', 'ListAdapter', 'a RecyclerView Fragment', 'all SqlCommands', 'SqlTransaction', 'multi-level dictionary', 'dash-separated string', 'RangeBetween', 'Descending', 'Order', 'the list', 'all HTML element tags', 'the browser', 'C++ Resource file ProductVersion', 'variable names', 'variable values', 'Intrusive containers', 'performance advantages', 'non-intrusive ones', 'modern C++', 'null values', 'firebase transaction api', 'Pandas', 'the diff', 'all values', 'one group', 'the last value', 'the previous group', 'a string representation', 'a list', 'tuples', 'a list', 'elements', 'Emojis', 'a pipe', 'C.', 'Postgresql', 'unique constraint', '2 columns', 'a specific value', 'cases', 'first few characters', 'spss', 'Filtering', 'values', 'vectors', 'purrr', 'text', 'the beginning', 'big textfile', 'an address', 'an instant', 'a template', 'a function', 'a pointer', 'some function', 'Merge', 'single-file', 'author', 'change', 'git', 'The $changeStream stage', 'replica sets\" error', 'mongodb-source-connect', 'Confusing use', 'Mark Lutz\\'s \"Learning Python', 'outliers', 'Standard Deviation', 'NA', 'large dataset', '6000+ columns', 'DIV', 'javascript parameter', 'Java Concurrency', 'Practice', 'reliable cancellation', 'LogWriter', 'What', 'the point', 'coordinates', 'a Tweet', 'the Twitter API', 'Flash', 'Unstyled Content', 'FOUC', 'gatsby', 'Emotion', 'real dates', 'a loop', 'r.', 'I', 'the numbers', 'a String', 'I', 'a subclass', 'QMessageBox', 'flag modifications', 'PySimpleGUI', 'a GUI', 'a working python script', 'it', 'kable cells', 'hyperlinks', 'r-markdown generated PDF files', 'InvalidElementStateException invalid element state', 'Element', 'order', 'it', '\" error', 'text', 'Selenium Python', 'Typescript', \"Type 'string\", 'index type', '[key: string', 'Shrine - Derivation Endpoint', 'full path', 'URLs', 'Cloudfront', 'the heap', 'allocate', 'memory', 'a generic type', 'Arc', 'I', 'net::ERR_ABORTED', 'a view', 'error', 'the css', 'Laravel', 'methods', 'the object', 'requests.post data', 'value', 'master node', 'kubernetes', 'Kubernetes Services', 'Minikube', 'this dialog', 'Detox', 'Obvious solution', 'I', 'it', 'I', 'two functions', \"contructor's member initializer list\", 'std::set::const_iterator', 'operator+ function', 'Use', 'Import', 'Native Library', 'Apk', 'Python', 'statement', 'c', 'section', 'statement', 'Django Rest Framework', 'AWS', 'strtok', 'a char', 'not a const char', 'I', 'differing signatures', \"a function's definition\", 'declaration', 'Concat', 'Arrayformula', 'row numbers', 'ERROR', \"Variable 'sql_mode\", 'the value', \"'NO_AUTO_CREATE_USER\", 'IBM MQ', 'any IBM dependency jars', 'java client', 'Postman', 'AWS API Gateway', 'AWS lambda function', 'Typescript = type errors', 'Eigen LinSpaced - deprecated-copy warning', 'the value', 'a dictionary key', 'string', 'integer', 'Anonymous function', 'goroutines', 'CTM', 'multiplication', 'previous state', 'Identity matrix', 'PDF position', 'TensorFlow 2.0 Layer', 'None type shape Tensor', 'I', 'an allocated structure', 'an \"out\" pointer parameter', 'Pandas - Count number', 'elements', 'each series', 'dictionaries', 'algorithm efficiency', 'elements', 'same container', 'Core Data', 'Swift UI', 'private IP', 'EC2 instance', 'any drawbacks', 'operator+', 'bidirectional iterators', 'a function object', 'an argument', 'numba njit function', 'a way', 'the time difference', 'a single datetime column', 'ID', 'Any other ways', 'users', 'bot', 'sigin', 'cards', 'nested promise', 'await/async', 'unresolved promises', 'std::search', 'current iterator', 'iterator', 'std::advance', 'chrome native app', 'python', 'a string', 'variables', 'numbers', 'curly braces', 'changes', '@Published', 'the better way', 'Javascript', 'git store', 'conflicts', 'merges', 'its author history', 'the frame', 'Angular - Test service', 'submit', 'Modifying value', 'dataframe column', 'other column', 'the parent class', 'if the child href', 'the requirement', 'I', 'the Power BI', 'my Spring based project', 'Python', 'outliers', 'a regression Q-Q plot', 'gsap rotation', 'sharp transitions', 'Flutter Streambuilder map', 'List object', 'Retrieve contacts', 'profile pic', 'batches', 'Graph API', 'I', 'h1 innerText', 'JavaScript', 'the innerText', 'its child', 'Regex - excluding characters', 'data frame', 'another data frame', 'it', 'auto populate field', 'other field selection', 'Azure DevOps', 'all individual layers', 'a Raster Brick File', 'Disable Row', 'Antd Table', 'all columns', 'a dataframe', 'a condition', 'the cookies', 'every request', 'browser console', 'document.cookie', 'What', 'data structure', 'JAVA TreeSet', 'Python', 'empty tag', 'optimizations', 'shared memory', 'all loaders', 'Selenium WebDriver', 'Java', 'Capture Bash output', 'variable', 'Shell Script', 'Wpf usercontrol base', 'an instance', 'Incompatible Class Change Error - org.eclipse.jetty.annotations', 'AnnotationParser', 'Web Project', 'Sympy returns', 'What', 'the proper way', 'multiple layouts', 'ReactJS', 'ffmpeg', 'video', 'subtitle', 'a single command', 'Search text', 'ActionText attribute', 'variables', 'variables', 'Powershell', 'SQL time difference', 'multiple conditions', 'I', 'a route', 'Core middleware', 'UseEndpoints', 'Error', 'data', 'std::Vector', 'Eigen::Vector', 'new data base', 'old MinMaxScale', 'the dataframe', 'changes', 'conditions', 'recursive variadic templates', 'work', 'KeyValueStore', 'operations', '(Kafka Streams', 'I', 'a div', 'what', 'another div', 'Vue', 'a Navigation Bar Button', 'Condition', 'How force timestamp', 'folders', 'Powershell', 'the last n columns', 'delimiter', 'tabindex', 'all button', 'a div', 'class', 'SQL query', 'two tables', 'latest data', 'ApprovedByLevel', 'elements', 'an array', 'a index', 'the end', 'it', 'mutation testing results', 'every test method', 'Pit Mutation Test', 'limit', 'query', 'a String', 'value', 'array', 'unknown index', 'one statement', 'Java method reference selection narrow type', 'error', 'SHA-1', 'file', 'Conditional replacement', 'column', 'numpy array', 'gateway', 'a specific namespace', 'max cost', 'path', 'N*N matrix', 'perference', 'one direction', 'What', 'multiple interfaces', 'generic syntax', 'do', 'one item', 'array', 'items', 'the necessary message', 'Perl', 'C# PowerPoint VSTO Addin', 'superscript font style', 'added text', 'PowerPoint TextRange', 'Count number', 'pairs', 'list', 'order', 'yield', 'chunks', 'elements', 'numpy array', 'groupby and sort values', 'add_widget', 'the kv file', 'block()/blockFirst()/blockLast', 'thread reactor-http-server', '-epoll-18', 'multiple HttpClient objects', 'an ASP.NET Core application', 'spaceless block', 'autoescape', 'SyntaxException', 'Twig', 'Deduction failure', 'function call', 'explicit template argument list', 'I', 'a conda environment', 'command', 'Migrate comma', 'string', 'json array', 'pip install causallift', 'Extracting types', 'properties', 'generic interfaces', 'unnecessary generic type', 'mongodb', 'aggregation pipeline', 'known two markers extraction', 'problem markers', 'Escape String interpolation', 'What', 'the difference', \"/' operator\", '\"%', '\" operator', 'r programming language', 'a vector', 'some row values', \"another column's row values\", 'Laravel / Vue Passport', 'SPA', '- Store', 'cookies', 'ParseException', 'Unparseable date', 'Java', 'Exact 1 year previous date', 'Scala', '-', 'numeric column name', 'missing months', 'a column vector', 'React.memo', 'a file', 'named exports', 'PageView', 'flutter', 'dot indicator', 'every page', 'the button', 'ninjacart app', 'syntax', 'TypeScript', 'Matrix Multiplications', 'Vector', 'ES5 Module pattern usage', 'promise', ') DOMException', 'texImage2D', 'Tainted canvases', 'Scipy', 'the physics', 'Minkowski metric', 'What useful function', 'RxJs', 'a tree', 'arbitrary number', 'children', 'a node', 'the left half subtrees', 'right half', 'subtrees', 'a given node', 'which method', 'you', 'PuLP python', 'AWS Sagemaker', 'ECS', 'model hosting', 'two columns', 'CSV', 'Number', 'streak ID', 'pandas', 'value', 'MongoDB Aggregation', 'conditional sums', 'Matplotlib weekly bars', 'width<1.0', 'a function', 'the last result', 'R', 'minimal typing', 'the service principal', 'an Azure Automation Account connection', 'PowerShell', 'AndroidX', 'SwipeRefreshLayout', 'DataBinding', 'Haskell', 'monadic fixpoint', 'RWS', 'argument', 'Any pointers', 'Apps Script deprecation path', 'PyQt5', 'unnecessary blank space', 'Qlabel', 'Angular', 'specific JSON data', 'country name', 'click function', 'ion-spinner', 'Generate', 'nested constant arrays', 'C', 'compile time', 'MySQL', 'records', 'a date/time', 'minus 1 hour', 'I', 'CMake lists', 'sets', 'sync scrolling', 'textarea', 'container', 'Azure Mapping Data Flow', 'blob storage dataset', 'a source', 'Problem', 'Quarkus Dependency Injection', 'JPA Entity Manager', 'GCP', 'Creating Client', 'text', 'a function', 'Google Sheet', 'script', 'I', 'my default local directory', 'psftp', \"variable's scope\", 'C++', 'a class', 'a template class', 'std::pair<auto, auto> return type', 'socket.io origins', 'Fade-transitioning effect', 'background images - overlapping issue', 'Kusto Query', 'an interval', '5 minutes', 'the average', 'two arrays', 'Go', 'Python & qtDesigner uic pop-up window lineEdit access', 'y', 'an object', 'output', 'python', 'python3', '(same script', 'vue', 'cli@3', 'No module factory', 'dependency type', 'CssDependency', 'a SELECT result', 'column comments', 'Case-insensitive Regular Expression - VBA', 'os.path', 'the project path', 'file path', 'Regex', 'numbers', 'optional commas', 'numbers', 'a list', 'multiple substrings', 'python', 'icon color', 'v-select component', 'Segmented Control text movement', 'an alert', 'Rows', 'divs', 'React-Native type', 'a string', 'the distance', 'dots', 'grid lines', 'matplotlib', 'existing columns values', 'a single particular value', 'interface signature', 'code', 'multiple places', 'Python', 'list', 'another list', 'list', 'jQuery', 'next input', 'DOM', 'different parent', 'Input Box', 'a loop', 'last entry', 'i', 'different branches', 'git', 'my local repository', 'different branches', 'origin', 'average color', 'all the clusters', 'connectedComponents', 'Error', 'Environment variables', 'Google Cloud', 'the SDK', 'you', 'xcuitests', 'parallel', 'azure dev Ops', 'I', 'the edges', 'my tab bar container', 'flutter', 'patterns', 'binary columns', 'everything', '\"Files\" folders', 'a specific role', 'Xfce', 'CentOS', 'ansible yum', 'Row-wise Boolean comparison', 'data', 'comma', 'command line arguments', 'json', 'shell script', 'Typescript Pick', 'literal type', 'bash', 'Client network socket', 'secure TLS connection', 'things', 'txt file', 'c. webscraping', 'R', 'openweather', 'Tkinter Nested Frame', 'Classes', 'Background thread', 'event handler', 'Blazor Component', 'Method', 'the allocation', 'a collection', 'Java reactor', 'Inappropriate blocking method call', 'Unauthorized error', 'Sharepoint REST API', 'Python', 'Template Metaprogramming', 'Fibonacci', 'boost::any', 'a null/undefined value', 'Stacked Barplot', 'R-Studio', 'dictionaries', 'condition', 'occurrences', 'pandas dataframe', 'serial port module', 'Node', 'I', 'hand', 'an auto-incremented loop variable', 'Numpy vectorization', 'data type', 'The type-specification operator', 'down-casting', 'Object-Oriented languages', 'it', 'the wrong item', 'Extra size', 'geometryReader', 'Kubernetes deployment', 'c# casting oddity', 'any explanations', 'Matploltib quiver plot', 'argument order', 'SizedBox', 'Padding', 'it', 'any difference', 'rows', '2 pandas dataframes', 'lists', 'different size', 'Kotlin composition', 'coroutine context', 'constructor', 'coroutine scope', 'Web animation', 'each use', 'Laravel', \"6 config()->get('database.connections.mysql\", 'DB', 'connection', 'VBA', 'ListBox Change event', 'Nullable references types', 'ToString() overload', 'third-party SSL Certificate', 'AWS EC2 Instance', 'Ubuntu AMI', 'it', 'one-time', 'monthly basis', 'FactoryBot ActiveRecord::AssociationTypeMismatch error', 'wrong class', 'ID', 'time', '5 minutes', 'each activity', 'Time Difference', 'Activity', 'R. Change/Map levels', 'a data frame columns', 'other reference list', 'R. Intel store instructions', 'delibrately overlapping memory regions', 'Dispatch', 'a function', 'a redux action', 'Visual Studio', 'Docker', 'the host port numbers', 'records', 'EF', 'a list', 'combinations', '(key/values', 'Vectorize addition', 'multiple pandas columns', \"certain columns' values\", 'groupby', 'Pandas', 'Creation', 'new field', 'the next empty position', 'an array', 'custom left-link models', 'wagtail admin page', 'object', 'all values', 'a date range', 'Length', 'first sequence', 'zeros', 'given size', 'certain column', 'pandas dataframe', '@_functionBuilder problem', 'initializer', 'less than 2 items', 'Laravel Eloquent', 'my queries', 'whereHas', 'a function', 'the array prototype', 'Spring Integration DSL FTP Issue', 'min/max', 'index', 'list', 'lists', 'Quicksort', 'Just 2 Elements', 'Gradle force', 'a different version', 'a particular Transitive dependency', 'Merge 2 csv', 'Django', 'dynamic Q queries', 'related tables', 'Whole word', 'Javascript', 'awk/sed find', 'that point', 'the visible area', 'HtmlAgilityPack', 'a condition Grade Letters', 'new columns', 'existing column', 'python', 'Perceptron Algorithm', 'matplotlib', 'Javascript', 'object', 'order', 'date', 'time', 'different column', 'extra day', 'the time', 'midnight', 'a string', 'x', 'position', 'another string', 'Store', 'text box values', 'an javascript array', 'an order', 'Python', 'optional Groups', 'one match', 'visibility binding', 'MenuItem', 'ContextActions', 'a ListView', 'React modal', 'the last element', 'map function', 'indentation', 'Tesseract OCR', 'a line chart', 'a data table', 'google chart', '2 columns', 'same df', '\"0\" values', 'a JSON string', 'escaped quotes', 'Python', 'I', 'Firebase Firestore child', 'the Python SDK', 'annotations order', 'two lists', 'different types', 'Streams', 'owner', 'a process', 'ps', 'S3', 'url file upload', '\\xa0nodeJS + client', 'a interface base property', 'the derived', 'kafka-avro-console-producer', 'a schema', 'the schema registry', 'What', 'expression', 'a node set', 'multiple ranges', 'a list', 'I', 'no current reactor', 'a new key value', 'a JSON file', 'NodeJS', 'pre', 'a fixed width', 'each line', 'the same length', 'characters', 'Spring Integration DSL History issue', 'Export Firestore backups', '.json', 'anyone', 'me', 'a square', 'What', 'Endpoint Discovery', 'I', 'a child', 'its dynamically sized grandparent', 'Julia Module', 'User Defined Function', 'OQL', \"A Class's Field Names\", 'the error messsage', 'No drawer view', 'gravity LEFT', 'package name', 'function name', 'variable', 'python', 'Ansible - Access output', 'a shell command', 'with_items', 'Javascript - Async await', 'the value', 'not the promise', 'Split()result', 'No Add Rows Operation', 'a list', 'observable collection', 'Double', 'Oracle', 'ORA_ROWSCN', 'a query', 'a big table', 'no where clause', 'trigger', 'recaptcha library', 'user', 'the value', 'hidden input field', 'Split list', 'rows', 'list items', 'SqlBulkCopy DataTables', 'they', 'a DataSet', 'Confirmable', 'Confirmation Feature', 'I', 'a specific link address', 'IMPORTXML', 'XPath', 'an \"online\" linear interpolation', 'RegEx', 'text', 'parentheses', 'Google Maps', 'iframe', 'page load', 'Unqualified sort', 'it', 'std::vector', 'std::array', 'which compiler', 'Createprocess', '\"C:\\\\\\\\Windows\\\\\\\\System32\\\\\\\\OpenSSH\\\\\\\\ssh.exe', 'error=2', 'pandas Data.frame assign issue', 'mix-manifest.json', 'javascript', 'i', 'a function', 'multiple values', 'a list', 'git conflict', 'the conflicting file', 'the final content', 'hooks', 'Cookie', 'site', 'React', 'state', 'multiple values', 'a table field', 'typedef', 'typedef', 'C', 'camera view properties', 'quarkus jaxrs non-blocking misconception', 'data.frames', 'an initial dataframe', 'lapply', 'R. Space complexity', 'dfs', 'Iterate', 'list', 'dataframes', 'specific rows', 'it', 'a pdf file', 'wxFormBuilder', 'undefined method stdClass::save', 'Psy Shell code', 'line', 'all objects', 'same type', 'an array', 'Javascript', 'Django ImportError', 'name', 'a Dictionary', 'Lists', 'Tuples', 'DataFrame', 'Python', 'the center', 'a path object', 'specific code', 'layout previews', 'the hard way', 'a piece', 'MySQL', 'sytax - why does this work', 'what', 'it', 'I', 'a directory', 'Azure App Service slots', 'a way', 'a public static class', 'I', 'the status', 'a process', 'a terminal tab', 'EF Core', 'large amounts', 'data', 'Import own data', 'MNIST', 'CIFAR10 load_data', 'Elasticsearch', 'advantage', 'cluster', 'factor levels', 'a vector', 'Propogating NA', 'an operation', 'two vectors', 'variables', 'dplyr', 'Illegal instruction', 'VS C++', 'Windows', 'a space character', 'a number', 'JavaScript', 'a column', 'data frame', 'paste0 name', 'the underlying value', 'an Enum', 'rows', 'stacks', 'Pandas', 'Preferred Visual Studio Version', 'Azure DevOps', 'nil', 'Run AWS CLI KMS', 'commands', 'Cloudformation', 'Import multiple excel sheets', 'different files', 'python', 'them', 'one dataframe', 'TypeScript mapping', 'unboxed conditional']\n"
     ]
    }
   ],
   "source": [
    "print(\"Noun phrases:\", [chunk.text for chunk in doc_title.noun_chunks])"
   ]
  },
  {
   "cell_type": "code",
   "execution_count": 26,
   "metadata": {},
   "outputs": [
    {
     "name": "stdout",
     "output_type": "stream",
     "text": [
      "Verbs: ['determine', 'use', 'contain', 'return', 'name', 'hoist', 'put', 'get', 'cause', 'assign', 'get', 'use', 'get', 'store', 'import', 'have', 'get', 'work', 'use', 'filter', 'use', 'use', 'reject', 'capture', 'parse', 'move', 'work', 'fix', 'wrap', 'use', 'domnodeinserte', 'fopen', 'expand', 'use', 'set', 'get', 'understand', 'point', 'commit', 'use', 'nest', 'add', 'excel', 'use', 'handle', 'include', 'have', 'configure', 'login', 'react', 'convert', 'list', 'make', 'save', 'use', 'combine', 'separate', 'melt', 'define', 'specify', 'convert', 'move', 'get', 'give', 'get', 'match', 'use', 'roll', 'avoid', 'generate', 'use', 'intersect', 'draw', 'expect', 'attribute', 'use', 'check', 'reduce', 'return', 'pseudo', 'use', 'create', 'show', 'work', 'expect', 'store', 'join', 'use', 'df.mode', 'init', 'make', 'behave', 'hide', 'show', 'extract', 'contain', 'use', 'connect', 'send', 'use', 'use', 'select', 'recognize', 'remove', 're', '-', 'add', 'build', 'sort', 'get', 'include', 'work', 'try', 'set', 'format', 'avoid', 'wrap', 'return', 'reselect', 'use', 'define', 'access', 'limit', 'output', 'use', 'use', 'set', 'run', 'need', 'create', 'start', 'get', 'list', 'find', 'convert', 'create', 'check', 'fix', 'define', 'miss', 'customize', 'have', 'convert', 'work']\n"
     ]
    }
   ],
   "source": [
    "print(\"Verbs:\", [token.lemma_ for token in doc_title if token.pos_ == \"VERB\"])"
   ]
  },
  {
   "cell_type": "code",
   "execution_count": 27,
   "metadata": {
    "scrolled": true,
    "tags": []
   },
   "outputs": [
    {
     "name": "stdout",
     "output_type": "stream",
     "text": [
      "Noun phrases: ['I', 'the following question', 'a job interview', 'it', 'Part', 'the problem', 'I', 'my mind', 'what problem', 'I', 'I', 'the question', 'I', 'it', 'you', 'two different things', 'the first task', 'one string', 'a multiple', 'another string', 'the second task', 'a smaller unit', 'division', 'both strings', 'It', 'me', 'the pressure', 'the interview room', 'me', 'I', 'what', 'the ideal algorithm', 'Any suggestions', 'What', 'the correct way', 'a trait object', 'a method', 'a reference', 'the compiler error', 'we', 'two ways', 'we', 'the definition', 'we', 'the definition', 'bar', 'I', 'the difference', 'what circumstance', 'another method', 'the function declaration', 'the return statement', 'the function', 'it', 'the return statement', 'it', 'a function expression', 'it', 'I', 'the value', 'two login input fields', 'their value', 'change', 'this value', 'the local state', 'the user', 'the login', 'I', 'the current values', 'the state', 'the inputs flickering', 'I', 'text', 'them', 'I', 'the password field', 'the cursor', 'the email field', 'The glitch', 'note', 'I', 'the email field', 'it', 'some reason', 'I', 'the password field', 'the code', 'my', 'My inputs', 'a modal component', 'I', 'an overlay', 'a portal', 'I', 'related questions', 'other methods', 'nothing', 'I', 'any help', 'I', 'the members', 'a vector', 'an atomic type', 'I', 'command', 'me', 'output', 'the question', 'UPDATE', 'The only way', 'I', 'exactly what', 'I', 'I', 'it', 'it', 'parameter', 'Hello, happy new year', 'I', 'a simple poll', 'I', 'the choices', 'the vote count', 'I', 'I', 'the choices', 'the count', 'the choice', 'the index', 'it', '0 vote', 'the choice', 'the index', 'it', '24 votes', 'it', 'it', 'security rules', 'I', 'I', '2 items', 'the array', 'I', 'the value', 'each item', 'the user', 'it', \"'s\", 'The other idea', 'I', 'the user', 'a specific field', 'I', 'the user', 'the value', 'he', 'I', 'the user', 'a dynamic field', 'I', 'he', 'I', 'the amount', 'you guys', 'any ideas', 'suggestions', 'I', 'them', 'Packages', 'the Comprehensive R Archive Network', 'CRAN', 'other packages', 'CRAN', 'packages', 'CRAN', 'packages', 'I', 'a contribution', 'more sense', 'a separate package', 'the contribution', 'its own right', 'other packages', 'I', 'the base::by() function', 'R.', 'it', 'the base::tapply() function', 'some reason', 'the following code', 'I', 'I', 'the following warnings', 'mtcars$mpg', 'mtcars$hp', 'them', 'arguments', 'Anyone', 'the case', 'you', 'I', 'a table', 'it', 'certain Father', 'the same name', 'I', 'I', 'tables code', 'Query #', 'Query #1 OUTPUT', 'Query #', 'Query #2 OUTPUT', 'Query #', 'Query #3 Output', 'Output', 'Query', '#', \"'s\", 'we', 'a simple word count problem', 'a list', 'we', 'the word count', 'each word', 'the list', 'Which pattern', 'I', 'a purely alphabetical argument', 'I', 'an alphanumeric user input', 'numeric inputs', 'my relevant code', 'my code', 'the function', 'my program', 'this one bug', 'Any help', 'an edX cs50 homework assignment', 'I', 'the whole assignment', 'this bug', 'I', 'an answer', 'over 3 hours', 'no avail', 'me', 'overflownobi', 'You', 'my only hope', 'I', 'PHP', 'a document', 'sections', 'A sample text', 'What', 'I', 'I', 'Example', 'I', 'I', 'new lines', 'quotation marks', 'a way', 'this query', 'inner joins', 'Edit', 'DDL', 'the tables', 'my result', 'I', 'Indexes', 'the help', 'workbench', 'the following columns', 'Any help', 'Thanks', 'I', 'all the Inputs', 'Outputs', 'a Parent Component', 'Typescript', 'HTML', 'I', 'the following', 'a long list', 'parameters', 'Parent', 'data', 'Child Component', 'them', 'Typescript', 'Goal', 'services', 'strongly typed components', 'parent', 'child', 'smart-dumb architecture strategy', 'services', 'I', 'the problem', 'the last few lines', 'I', 'the problem', 'The problem', 'I', 'each select element', 'It', 'some unwanted divs', 'Uncaught', 'Maximum call stack size', 'What', 'I', 'my codepen', 'HTML code', 'jQuery code', 'CSS code', 'I', 'Google Test', 'C code', 'I', 'the problem', 'I', 'a couple', 'rows', 'a date range', 'excel', 'Pandas', 'two records', 'I', 'intervals', '7 days', 'what', 'I', 'output', '7 days', 'I', 'a row', 'the remaining days', 'a code', 'I', 'Pandas', 'I', 'I', 'the methods', 'anyone', 'EDIT', 'you', 'everyone', 'I', 'a lot', 'your responses', 'the answer', 'Datanovice', 'the accepted answer', 'I', 'some environment variables', 'my bash script', 'order', 'execution', 'echo output', 'the above dict', 'I', 'the value', '\"S', 'Error', 'I', 'Laravel', 'what', 'I', 'new array', 'urlConstants', 'another array', 'I', 'any other way', 'this variable', 'the integers', 'a defination', 'a listnode class', 'I', 'node', 'node1', 'node1', 'a pointer', 'node2', 'I', 'we', 'a node1->node2->node3 pointing', 'a way', 'I', 'some readings', 'this code', 'The output', 'this code', 'what', 'I', \"m's attribute\", 'I', 'id', 'it', 'different ids', 'someone', 'what', 'I', 'a list', 'numbers', 'who', 'digits', 'order', 'it', 'me', 'a recursion', 'I', 'the nesting depth', 'Notes', 'my application', 'I', 'something', 'I', 'minimum burden', 'the print statement', 'I', 'the same reason', 'Thanks', 'I', '2 outputs', 'commands', 'Using SHELL', 'Output', 'Output', 'My actual output', 'excel', 'Output', 'column', 'Output', 'column', 'the C11 standard states', 'A byte', 'all bits', 'shift state', 'I', 'it', 'a multibyte character', 'its bytes', 'the below example', 'the characters', 'zero bytes', 'it', 'What', 'I', 'I', 'an app', 'I', 'the user', 'un', 'a blog', 'un-bookmarking', 'I', 'that bookmark record', 'I', 'my test file', 'I', 'This test', 'the following', 'It', 'the second assertion', 'context', 'I', 'classic mapping', 'I', 'My gut', 'me', 'it', 'something', 'the query', 'I', 'any evidence', 'it', 'Any help', 'Thanks', 'advance', 'A full example', 'I', 'I', 'a simple hello world program', 'I', 'the error', 'kubelet', 'ClusterDNS IP', 'Pod', '\"ClusterFirst\" policy', '\"Default\" policy', 'my', 'what', 'I', 'I', 'I', 'alot', 'I', 'some answers', 'no one', 'me', 'I', 'what', 'I', 'me', 'what', 'I', 'I', 'Windows server', 'I', 'trouble', 'SQL Server', 'I', 'default user', 'master database', 'I', 'SQL Server Management Studio', 'I', 'that database', 'it', 'I', 'SQL Server Management Studio', 'Windows authentication', 'I', 'an error', 'A connection', 'the server', 'an error', 'the login process', 'Shared Memory Provider', 'error', 'No process', 'the other end', 'the pipe', 'SqlClient Data Provider) error:233', 'I', 'it', 'I', 'this error', 'Login Failed', 'user A. Reason', 'Server', 'single user mode', 'Only one administrator', 'this time', '(Microsoft SQL Server', 'Error', 'What', 'this error', 'I', 'my database', 'I', 'database', 'kotlinx.coroutines.flow list', 'normal data class list', 'I', 'this example', 'A row', 'two columns', '75% width', 'right', '25% width', 'Right column height', 'the left column', 'the right column', 'overflowing content', 'right column', 'HTML code', 'stylesheet', 'I', 'a RecyclerView', 'which there are three buttons', 'its model', 'I', 'a listener', 'each button', 'I', \"RecyclerView's child\", 'a listener', 'it', 'I', 'a listener', 'a child', 'a child', 'RecyclerView', 'I', 'Kotlin', 'I', 'this code', 'you', 'the child', 'recyclerView', 'the child', 'RecyclerView', 'I', 'Address', 'HashMap', 'the compiler', 'the  error', 'this field', 'database', 'You', 'a type converter', 'it', 'private java.util', 'HashMap address', 'I', 'the MapTypeConverter', 'it', 'Room Entity', 'App DataBase', 'I', 'each dataframe', 'an empty row', 'i', 'them', 'this snippet', 'i', 'them', 'an empty row', 'I', 'dataframe', 'I', 'it', 'a dataframe', 'Meaning', 'the delimiter', 'the columns name', 'What', 'the best way', 'I', 'unqiue smart pointers', 'template', 'I', 'the compiler error', 'user-define conversion', 'the return type', 'my code', 'both header', 'cpp files', 'The error', 'line', '.h', 'line', 'I', 'it', 'the cpp', 'I', '2 associative arrays', '2 queries', 'JSON format', 'These 2 arrays', 'this code', 'I', 'a multidimensional array', 'php', 'the JSON', 'I', 'I', 'the net', 'no luck', 'Any help', 'you', 'I', 'this regular expression', 'an Arabic diacritical mark', 'a subtitle file', 'it', 'the diacritical mark', 'just one letter', 'the left', 'it', 'I', 'python', 'the original line', 'a subtitle file', 'the diacritical mark', 'its correct place', 'أنا لا أترصّد عبر الإنترنت', 'i', 'it', 'أترصدّ عبر الإنترنت', 'I', 'a media player', 'some reason', 'the diacritical mark', 'one letter', 'the right', 'the diacritical mark', 'its correct place', 'this media player', 'i', 'the diacritical mark', 'one letter', 'the left', 'the subtitle file', 'https://github.com/xbmc/xbmc/issues/17076', 'anyone', 'z-index default value', 'this snippet', 'I', 'sub', 'the top', 'I', 'text', 'top level', 'text', 'lower level', 'I', 'the top', 'it', 'the top level border', 'I', 'container', 'every child element', 'it', 'I', 'I', 'it', 'z-index:1', 'it', 'I', 'the situation', 'I', 'some content', 'a website', 'the HTML', 'something', 'the website', 'I', 'the href attribute', 'the problem', 'I', 'this problem', 'basic string manipulation', 'It', 'I', 'an electron app', 'nodeJS', 'I', 'a user', 'random password', 'FTP', 'Docker', 'The section', 'Dockerfile', 'I', 'an error', 'last line', 'the passwords', 'even I', 'a same variable', 'I', 'the output', 'it', 'the new section', 'Dockerfile', 'Thanks', 'anyone', 'I', 'a new column', 'values', 'the previous row', 'same column', 'You', 'it', 'a loop', 'you', 'column', 'values', 'column', 'the previous row', 'I', 'a Shiny app', 'I', 'fast calculation', 'loops', 'a way', 'loops', 'use', \"dplyr's piping\", 'This reply', 'I', 'a stereo sine wave', 'FFMPEG', 'batch file', 'a different frequency', 'left', 'I', 'it', 'the same frequency', 'We', 'a map', 'Student', 'we', 'a list', 'Student Id', 'the MWE', 'I', 'boxplots', 'these ideas', 'mind', 'MWE', 'Summary code', 'ggplot code', 'Graph', 'I', 'boxplots', 'annotation', 'I', 'A object', 'B', 'any alternate way', 'something', 'I', 'a python library', 'tasks', 'a DB', 'a few tens', 'tasks', 'Every task', 'the task', 'the DB', 'the library', 'it', 'the library', 'it', 'the PK violation error', 'the DB', 'a cost', 'this method', 'constant PK violation', 'the task', 'ON CONFLICT', 'some error-handling', 'the DB', 'reduced performanc', 'an external library', 'I', 'I', 'the logic', 'The specific DB', 'I', 'postgres', 'it', 'a difference', 'I', \"R's max function\", 'combination', 'an example', 'anybody', 'a legitimate input argument', 'any R function', 'no warning', 'the argument', 'I', 'an array', 'elements', 'I', 'the following code', 'this form', 'parameter', 'dimension', 'being', 'what', 'I', 'large dimension', 'a lot', 'overhead', 'any other low complexity method', 'this matrix', 'Thanks', 'i', 'a custom view', 'a 85%', 'a circle', 'Just Stroke', 'Gradient color', 'my code', 'the edges', 'i', 'i', 'it', 'one more thing', 'i', 'the radius', 'the view', 'I', 'C', 'It', 'a guessing game', 'the user', 'a certain amount', 'guesses', 'the hidden message', 'I', 'the correct word', 'it', 'it', 'I', 'a Guess', 'the number', 'tries', 'it', 'I', 'a zip file', 'the image files', 'my server', 'I', 'the following function', 'Everything', 'all photos', 'zip file', 'only one problem', 'Its look', 'we', 'this file format', 'What', 'my codes', \"'s\", 'I', 'an array', 'I', 'each element', 'each row', 'so something', 'I', 'a way', 'axis=1', 'I', 'any question', 'my issue', 'someone', 'me', 'I', 'response', 'server', 'I', 'a Modal struct', 'the data', 'server', 'I', 'it', 'Question', 'UPDATE', 'More detail', 'what', 'I', 'four records', 'json', 'I', 'booking1', 'booking2', 'I', 'I', 'a dataframe', 'I', 'Here an image', 'All input', 'Thanks', 'this code', 'the only way', 'I', 'what', 'I', 'I', 'a global variable', 'a bad idea', 'multi-threaded applications', 'mine', 'I', 'the price', 'an eventuality', 'I', 'I', 'more general terms', 'the question', 'stuff', 'the initvars section', 'a program', 'Rust', 'you', 'me', 'If a function', 'I', 'Two questions', 'it', 'What', 'the value', 'I', 'different results', 'a simple java class', 'Windows cmd', 'The java class', 'I', 'this test arguments', 'cmd', 'the single quote', 'the arguments', 'ubuntu', 'it', 'Any idea', 'I', 'it', 'my requirement', 'it', 'initialization', 'I', 'I', 'a bash script', 'a json value', 'a variable', 'i', 'the values', 'that json', 'Jq', 'The code', 'an error', 'no such file', 'direcotry', 'i', 'any error', 'the value', 'it', 'i', 'it', 'first case', 'I', 'records', 'Aurora/Mysql', 'MSK', 'Elastic search service', 'Aurora -->Kafka-connect--->AWS MSK--->kafka', 'The record', 'Aurora table structure', 'something', 'order', 'elastic search', 'i', 'proper schema', 'so schema registry', 'i', 'My question', 'Question', 'i', 'schema registry', 'type', 'message schema registry', 'i', 'JSON structure', 'i', 'More help', 'I', 'i', 'what', 'Even i', 'this error', 'i', 'i', 'anything', 'schema', 'I', 'jdbc connector', 'i', 'i', 'error', 'Question', 'Question', 'the above properties', 'i', 'schema name', 'table name', 'answer', 'i', 'my configuration', 'Kafka', 'JDBC', 'JDBC', 'elastic search', 'i', 'properties', 'i', 'i', 'properties', 'i', 'topic', 'i', 'any topic', 'table name', 'Stack trace', 'the error message', 'Go', 'sheet data', 'the data', 'something', 'the api', 'code', 'I', 'algorithms', 'parity', 'some one', 'I', 'a pandas data frame', 'dates', 'indices', 'example', 'I', 'just the first element', 'each available month', 'example', 'this DF', 'I', 'I', 'no idea', 'I', 'Thanks', 'advance', 'my database', 'my app', 'I', 'two collectionViewControllers', 'The first one', 'cells', 'category', 'the second collectionViewController', 'cells', 'the items', 'each category', 'The problem', 'my app', 'the different items', 'the category', 'I', 'the example', 'some reason', 'printing item', 'snapshot.children.allobjects prints', 'nothing', 'the first collectionViewController', 'the Categories node', 'I', 'the category1', 'category2 data', 'I', 'this exact method', 'my seccond collectionViewController', 'the Category1 node', 'anything', 'it', 'the category array', 'the viewcontroller', 'the collectionView', 'The cells', 'history', 'Git LFS', 'I', 'I', 'alternative methods', 'the end', 'I', 'all the commands', 'me', 'the following error', 'multiple files', 'the filtered commits', 'pointer files', 'the objects', 'I', 'the same commands', 'only the tip commit', 'it', 'the problem', 'unchanged file', 'index', 'filter-branch', 'Windows', 'git bash', 'I', 'presto', 'Presto', 'my IDE', 'I', 'presto', './mvnw clean install', 'the instructions', 'this document', 'I', 'an exception', 'follow', 'My version', 'Presto', 'tag', 'I', 'this problem', 'I', 'a table', 'schema', 'I', 'this table secondary index', 'column senderType', 'all the queries', 'createdAt DESC', 'I', 'a new query', 'any option', 'this query', 'materialized view', 'Thanks', 'I', 'a simple two tab application', 'JavaFXML', 'scenebuilder', 'The tabs', 'nothing', 'I', 'a nullpointer exception', 'them', 'The java and fxml files', 'a Netbeans project', 'The application main class', 'MainApp.java', 'the scene', 'The MainController class', 'the two tabs', 'the Input tab', 'Account tab', 'the application', 'an exit button', 'the program', 'the MainView', '. fxml file', 'the java controller class', 'the main view', 'The two println statements', 'the references', 'the two tabs', 'detailController', 'inputController', 'something', 'the following dump', 'output', 'the printlns', 'the outcome', 'the tab pane', 'the detail and input controllers', 'completeness', 'they', 'InputView.fxml', 'The controller', 'DetailView.fxml', 'The controller', 'I', 'dependency services', 'both side', 'Interface', 'shared library', 'i', 'it', 'it', 'i', 'it', 'ViewModel', 'messaging center', 'count', 'notification', 'Toolbar', 'application', 'it', 'anyone', 'any kind', 'idea', 'what', 'i', 'this code', 'Below Code', 'InterFaceCode', 'Dependency service', 'BadgeDrawable Class', 'I', 'a beginner', 'Pandas', 'Matplotlib', 'I', 'some questions', 'plots', 'pandas', 'I', 'the following code', 'an area plot', 'I', 'the following aspects', 'it', 'Matplotlib(or', 'any other library', 'python', 'EDIT', 'you', 'the input data', 'Error message', \"JohanC's solution code\", 'Jupyter', 'I', 'a lot', 'questions', 'the Maybe type', 'composition', 'I', 'my head', 'I', 'my situation', 'the sake', 'example', 'I', 'a function', 'I', 'a function', 'I', 'something', 'a type', 'I', 'anything', 'the standard library', 'my specific case', 'I', 'a function', 'the trick', 'I', 'the answer', 'the original question', 'I', 'an issue', 'some reason', 'the state', 'my selector', 'a look', 'What', 'I', 'wrong', 'the following code', 'I', 'the string', 'I', 'the stars(ratings', 'each rating column', 'this url', 'the star-counting part', '5 rows', 'star ratings', 'I', 'loop', 'the scope', 'each star_count', 'the list', 'the star rating', 'each user', 'this approach', 'what', 'the list', 'my', 'loop', 'the counting scope', 'I', 'other ways', 'the counting scope', 'my aim', 'Thanks', 'advance', 'I', \"that vuetify's grid properties\", 'the 12 column flex-box', 'I', 'a grid', 'a default', '7 or 8 columns', 'this example', 'My', 'I', 'a simple web app', 'Vue.js', 'Firestore', 'I', 'the web app', 'the page', 'no internet connection', 'I', 'the desired results', 'I', 'the  enablePersistence', 'the firebase configuration file', 'my Vue project', 'PWA template', 'I', 'that method', 'the lifecycle methods', 'the app components', 'the desired result', 'I', 'the same R script', 'parallel', 'batches', 'different parameters', 'The R script', 'a H2O model', 'this case', 'I', 'I', 'the latter solution', 'I', 'initialization', 'the H2O cluster', 'so many batches', 'The first batch', 'the cluster', 'H2O.init', 'the last batch', 'it', 'my application', 'I', 'a refresh token logic', 'I', 'the refresh token process', 'all requests', 'a queue', 'my process', 'I', 'the queue', 'example', 'I', 'something', 'the refresh token process', 'a regex query', 'the bolded string', 'Mozilla/5.0', '(Linux', 'U', 'Android 4.2.2', 'us', 'I', 'this option', 'it', 'the following string', 'U', 'Android 4.2.2', 'us', 'A2003 Build', 'Suggestions', 'I', 'a way', 'AZ CLI', 'all available configuration options', 'a specific  Azure service', 'The purpose', 'we', 'everything', 'certain configuration options', 'I', 'website', 'different tables', 'it', 'JavaScript', 'jQuery', 'all time strings', 'web page', 'them', 'UTC time', 'I', 'the time difference', 'UTC', 'hours', 'I', 'some loop', 'Any ideas', 'I', 'something', 'lack', 'knowledge', 'I', 'notifications', 'the app', 'the background', 'I', 'the NotificationCenter publishers', 'the SwiftUI view', 'them', 'Strangely the listener', 'I', 'Laravel rate limit', 'I', 'it', 'throttle data', 'I', 'the default storage system', 'MySQL/Mariadb', 'Redis', 'I', 'the Flyweight pattern', 'I', 'inheritance', 'I', 'this pattern', \"'s\", 'I', 'a superclass', 'all the \"heavy\" information - textures', 'the one', 'I', 'the light class', 'data', 'main create', 'I', 'C++', 'fixed width integers', 'What', 'a portable way', 'fixed width integers', 'I', 'a dateframe', 'I', 'how many rows', 'each class', 'I', 'a particular day', 'the final result', 'I', 'I', 'the problem', 'Thanks', 'advance', 'I', 'a task tray application', 'Core', 'I', 'a simple menu', 'the application features', 'the required Menu class', 'The official documentation', 'control', 'the class', 'I', 'a requirement', 'thie point', 'I', 'My question', 'I', 'the transformers', 'it', 'I', 'one flow', 'all the transformers', 'I', 'it', 'sub', '-', 'flows', 'any transformer', 'an exception', 'it', 'the rest', 'transformers', 'error channel', 'I', 'an exception handling channel', 'I', 'which step', 'the exception', 'I', 'a beginner', 'Laravel', 'a ticketing system', 'My', 'User Model', 'Ticket Model', 'View', 'Controller', 'I', 'the annoying 12h time format', 'AM', 'PM', 'the 24h time format', 'I', 'external programs', 'gnuplot', 'warning', 'Bad time format', 'string', 'I', 'Code', 'Result', 'I', 'Identity server', 'Authentication', \"my client's application\", 'Asp.net core MVC Project', 'one web API resource', 'some ajax request', 'I', 'some pages', 'Mvc client', 'call web API resource', 'javascript ajax call', 'I', 'authentication', 'JWT', 'maybe Cookies', 'JWT', 'I', 'I', 'a sha', 'I', 'any options', 'arguments', 'The script', 'it', 'the debugger', 'I', 'it', 'i', 'i', 'python3', 'a linux machine', 'the code', 'the problem', 'i', 'it', 'an exception', 'it', 'this exception', 'i', 'i', 'its configs', 'nothing', 'you', 'I', 'this code', 'AWS Lambda', 'I', 'things', 'out errors', 'the message', 'Database', 'the logged output', 'INFO', 'INFO', 'INFO', 'My thought', 'the function', 'I', 'any code', 'connection.connect', 'I', 'One more question', 'd null', 'I', 'no big deal', 'it', 'the order', 'log messages', 'I', 'other functions', 'I', 'queries', 'the connection', 'It', 'it', 'I', 'these log messages', 'this method', 'my other method', 'I', 'this issue', 'I', 'a table', 'I', 'this doubt', 'table', 'The problem', 'what type', 'I', 'that column', 'I']\n"
     ]
    }
   ],
   "source": [
    "print(\"Noun phrases:\", [chunk.text for chunk in doc_body.noun_chunks])"
   ]
  },
  {
   "cell_type": "code",
   "execution_count": 28,
   "metadata": {
    "scrolled": true,
    "tags": []
   },
   "outputs": [
    {
     "name": "stdout",
     "output_type": "stream",
     "text": [
      "Verbs: ['ask', 'stump', 'make', 'solve', 'think', 'realize', 'ask', 'solve', 'figure', 'contain', 'find', 'be', 'be', 'be', 'use', 'contain', 'return', 'give', 'resolve', 'modify', 'modify', 'say', 'understand', 'use', 'use', 'put', 'cause', 'hoist', 'put', 'turn', 'be', 'hoist', 'attempt', 'track', 'get', 'store', 'submit', 'get', 'result', 'type', 'type', 'jump', 'observe', 'seem', 'happen', 'type', 'follow', 'situate', 'display', 'use', 'go', 'try', 'use', 'seem', 'work', 'appreciate', 'assign', 'have', 'extract', 'extract', 'find', 'output', 'need', 'be', 'be', 'do', 'think', 'make', 'store', 'have', 'think', 'put', 'have', 'have', 'have', 'have', 'work', 'come', 'firestore', 'understand', 'check', 'be', 'check', 'change', 'let', 'say', 'assume', 'modify', 'be', 'prevent', 'replace', 'want', 'find', 'let', 'update', 'know', 'go', 'modify', 'know', 'have', 'be', 'hear', 'import', 'be', 'import', 'be', 'be', 'make', 'sit', 'be', 'use', 'try', 'get', 'work', 'follow', 'work', 'try', 'get', 'follow', 'accept', 'know', 'be', 'use', 'see', 'have', 'have', 'want', 'choose', 'get', 'create', 'desire', 'let', 'say', 'solve', 'try', 'find', 'occur', 'figure', 'reject', 'figure', 'reject', 'pass', 'go', 'carry', 'save', 'appreciate', 'finish', 'search', 'help', 'stack', 'be', 'use', 'try', 'separate', 'need', 'use', 'be', 'capture', 'optimize', 'avoid', 'look', 'edit', 'add', 'follow', 'appreciate', 'move', 'have', 'send', 'receive', 'like', 'be', 'transfer', 'utilize', 'leave', 'type', 'be', 'prefer', 'be', 'know', 'know', 'get', 'want', 'wrap', 'work', 'exceed', 'want', 'use', 'test', 'encounter', 'try', 'figure', 'expand', 'use', 'want', 'expand', 'expect', 'see', 'be', 'want', 'show', 'remain', 'leave', 'draft', 'use', 'be', 'use', 'be', 'help', 'be', 'thank', 'respond', 'learn', 'hear', 'use', 'accept', 'try', 'set', 'pick', 'try', 'access', 'say', 'define', 'want', 'do', 'define', 'include', 'want', 'know', 'access', 'type', 'give', 'do', 'mean', 'have', 'do', 'mean', 'have', 'do', 'do', 'think', 'assume', 'aliase', 'change', 'm', 'break', 'confirm', 'run', 'turn', 'have', 'explain', 'go', 'like', 'generate', 'be', 'ascend', 'convert', 'vary', 'have', 'print', 'like', 'keep', 'generate', 'have', 'use', 'be', 'go', 'go', 'suggest', 'interpret', 'think', 'make', 'have', 'work', 'contain', 'do', 'miss', 'have', 'want', 'be', 'bookmark', 'bookmark', 'want', 'remove', 'have', 'have', 'pass', 'fail', 'use', 'tell', 'have', 'do', 'get', 'evaluate', 'manage', 'find', 'support', 'appreciate', 'use', 'try', 'run', 'get', 'have', 'configure', 'create', 'use', 'fall', 'default', 'get', 'try', 'search', 'find', 'work', 'create', 'apply', 'create', 'let', 'know', 'miss', 'use', 'use', 'have', 'log', 'change', 'open', 'detach', 'click', 'disconnect', 'connect', 'check', 'click', 'get', 'establish', 'occur', 'try', 'fix', 'get', 'connect', 'cause', 'login', 'attach', 'login', 'master', 'convert', 'see', 'contain', 'leave', 'be', 'be', 'have', 'overflow', 'be', 'live', 'have', 'be', 'set', 'access', 'set', 'want', 'set', 'consider', 'use', 'use', 'let', 'access', 'try', 'store', 'give', 'figure', 'save', 'consider', 'add', 'use', 'work', 'separate', 'combine', 'use', 'split', 'have', 'want', 'melt', 'look', 'melt', 'base', 'do', 'implement', 'keep', 'get', 'say', 'specify', 'occur', 'try', 'use', 'use', 'work', 'have', 'result', 'generate', 'need', 'make', 'output', 'achieve', 'search', 'seem', 'get', 'thank', 'use', 'remove', 'modify', 'move', 'remove', 'use', 'be', 'need', 'be', 'use', 'move', 'get', 'use', 'need', 'move', 'explain', 'work', 'expect', 'be', 'know', 'wrap', 'notice', 'hide', 'expect', 'work', 'follow', 'know', 'give', 'resolve', 'hope', 'understand', 'be', 'scrape', 'look', 'scrape', 'use', 'get', 'return', 'fix', 'seem', 'help', 'know', 'do', 'use', 'create', 'have', 'get', 'match', 'use', 'update', 'find', 'work', 'resolve', 'want', 'grow', 'base', 'do', 'see', 'use', 'do', 'need', 'have', 'use', 'be', 'do', 'avoid', 'make', 'try', 'generate', 'use', 'have', 'have', 'create', 'leave', 'have', 'record', 'have', 'consider', 'like', 'generate', 'expect', 'see', 'add', 'work', 'note', 'copy', 'do', 'use', 'insert', 'have', 'exist', 'update', 'do', 'insert', 'catch', 'use', 'select', 'see', 'exist', 'use', 'invoke', 'cause', 'like', 'know', 'implement', 'use', 'make', 'use', 'know', 'use', 'use', 'try', 'create', 'be', 'place', 'write', 'follow', 'get', 'be', 'do', 'need', 'cause', 'get', 'have', 'be', 'clip', 'try', 'fix', 'change', 'center', 'be', 'programming', 'guess', 'have', 'guess', 'enter', 'register', 'be', 'structure', 'ensure', 'occur', 'run', 'go', 'create', 'store', 'use', 'do', 'make', 'be', 'support', 'let', 'say', 'have', 'want', 'join', 'do', 'seem', 'find', 'find', 'find', 'answer', 'help', 'EDIT', 'EDIT', 'receive', 'create', 'store', 'come', 'use', 'try', 'achieve', 'need', 'merge', 'hope', 'have', 'try', 'clarify', 'appreciate', 'find', 'get', 'want', 'know', 'be', 'thread', 'pay', 'arise', 'use', 'try', 'write', 'be', 'get', 'show', 'initialize', 'look', 'compile', 'add', 'get', 'test', 'wsl', 'use', 'group', 'do', 'happen', 'try', 'work', 'hide', 'add', 'write', 'have', 'store', 'want', 'extract', 'use', 'use', 'throw', 'change', 'throw', 'be', 'try', 'do', 'do', 'have', 'send', 'connect', 'consume', 'need', 'use', 'have', 'use', 'use', 'require', 'have', 'create', 'keep', 'require', 'understand', 'edit', 'mention', 'do', 'start', 'get', 'expect', 'do', 'have', 'instal', 'start', 'get', 'file', 'mention', 'base', 'update', 'connect', 'connect', 'modify', 'modify', 'modify', 'list', 'see', 'list', 'use', 'fetch', 'arrive', 'format', 'remove', 'format', 'run', 'look', 'find', 'be', 'explain', 'work', 'have', 'want', 'select', 'want', 'select', 'have', 'do', 'be', 'ask', 'structure', 'have', 'show', 'label', 'show', 'retreive', 'nod', 'try', 'print', 'print', 'reference', 'be', 'retrieve', 'try', 'reference', 'print', 'add', 'reload', 'show', 'try', 'migrate', 'include', 'run', 'try', 'follow', 'run', 'work', 'give', 'follow', 'filter', 'have', 'try', 'run', 'seem', 're', '-', 'add', 'use', 'use', 'learn', 'want', 'run', 'build', 'follow', 'encounter', 'fix', 'have', 'have', 'need', 'order', 'need', 'do', 'create', 'materialize', 'have', 'do', 'get', 'try', 'load', 'arrange', 'set', 'declare', 'follow', 'declare', 'close', 'contain', 'try', 'get', 'be', 'do', 'be', 'run', 'comment', 'expect', 'display', 'mention', 'be', 'follow', 'make', 'share', 'use', 'code', 'work', 'use', 'use', 'message', 'set', 'work', 'have', 'happen', 'do', 'work', 'work', 'have', 'format', 'use', 'have', 'follow', 'want', 'change', 'follow', 'do', 'have', 'EDIT', 'use', 'see', 'ask', 'be', 'read', 'have', 'hurt', 'be', 'say', 'have', 'create', 'try', 'have', 'like', 'avoid', 'use', 'need', 'do', 'be', 'have', 'integrate', 'take', 'do', 'follow', 'access', 'try', 'count', 'try', 'use', 'limit', 'store', 'get', 'give', 'seem', 'work', 'store', 'turn', 'be', 'imply', 'work', 'limit', 'know', 'limit', 'achieve', 'get', 'build', 'like', 'create', 'make', 'want', 'cache', 'display', 'get', 'desire', 'use', 'method', 'build', 'try', 'use', 'get', 'desire', 'have', 'run', 'build', 'score', 'prefer', 'be', 'automate', 'shut', 'have', 'create', 'have', 'shut', 'have', 'implement', 'like', 'send', 'keep', 'finish', 'start', 'want', 'finish', 'try', 'create', 'return', 'bolde', 'try', 'get', 'return', 'wonder', 'use', 'see', 'be', 'secure', 'configure', 'be', 'question', 'configure', 'have', 'have', 'use', 'search', 'convert', 'let', 'say', 'know', 'think', 'regex', 'find', 'appreciate', 'put', 'work', 'want', 'listen', 'go', 'come', 'try', 'use', 'have', 'listen', 'use', 'wonder', 'store', 'throttle', 'change', 'try', 'implement', 'be', 'work', 'be', 'work', 'let', 'say', 'have', 'hold', 'change', 'have', 'change', 'create', 'fix', 'define', 'be', 'check', 'fix', 'have', 'look', 'need', 'know', 'have', 'look', 'be', 'start', 'approach', 'develop', 'want', 'create', 'access', 'require', 'show', 'get', 'have', 'think', 'have', 'flow', 'use', 'have', 'break', 'throw', 'ignore', 'go', 'put', 'know', 'throw', 'be', 'try', 'create', 'convert', 'want', 'avoid', 'have', 'use', 'use', 'be', 'need', 'handle', 'pass', 'run', 'get', 'need', 'work', 'debug', 'run', 'try', 'login', 'instagram', 'use', 'help', 'try', 'run', 'work', 'throw', 'throw', 'fix', 'try', 'restart', 'change', 'work', 'help', 'write', 'run', 'look', 'expect', 'work', 'get', 'connect', 'supply', 'execute', 'think', 'be', 'connect', 'know', 'effect', 'be', 'have', 'make', 'be', 'blow', 'put', 'work', 'do', 'design', 'have', 'take', 'use', 'use']\n"
     ]
    }
   ],
   "source": [
    "print(\"Verbs:\", [token.lemma_ for token in doc_body if token.pos_ == \"VERB\"])"
   ]
  },
  {
   "cell_type": "code",
   "execution_count": null,
   "metadata": {},
   "outputs": [],
   "source": []
  },
  {
   "cell_type": "code",
   "execution_count": 29,
   "metadata": {
    "scrolled": true,
    "tags": []
   },
   "outputs": [
    {
     "name": "stdout",
     "output_type": "stream",
     "text": [
      "React GPE\n",
      "first ORDINAL\n",
      "CRAN ORG\n",
      "CRAN ORG\n",
      "SQL ORG\n",
      "WHERE & ' ORG\n",
      "Python3 GPE\n",
      "20 CARDINAL\n",
      "PHP ORG\n",
      "Move Input ORG\n",
      "Outputs PERSON\n",
      "jQuery ORG\n",
      "Google Test C. How LAW\n",
      "Pandas NORP\n",
      "Linkedlist ORG\n",
      "Git PERSON\n",
      "Microk8s GPE\n",
      "SQL Server ORG\n",
      "2014 DATE\n",
      "1 CARDINAL\n",
      "Flow<List<T>> to List<T> ORG\n",
      "second ORDINAL\n",
      "Kotlin GPE\n",
      "HashMap ORG\n",
      "JSON & GSON ORG\n",
      "Two CARDINAL\n",
      "One CARDINAL\n",
      "FFMPEG ORG\n",
      "PK GPE\n",
      "Gradient Arc View Not Showing Correctly PRODUCT\n",
      "Django PERSON\n",
      "Kafka PERSON\n",
      "Aurora PERSON\n",
      "MSK ORG\n",
      "first ORDINAL\n",
      "each month DATE\n",
      "Remove Git LFS PERSON\n",
      "0.229 CARDINAL\n",
      "Toolbar GPE\n",
      "ViewModel ORG\n",
      "Matplotlib PERSON\n",
      "7 CARDINAL\n",
      "8 CARDINAL\n",
      "Firebase ORG\n",
      "close to CARDINAL\n",
      "20 CARDINAL\n",
      "two CARDINAL\n",
      "UTC ORG\n",
      "NotificationCenter ORG\n",
      "Laravel ORG\n",
      "only one CARDINAL\n",
      "3.1 CARDINAL\n",
      "12h DATE\n",
      "MVC ORG\n",
      "4 CARDINAL\n",
      "12 CARDINAL\n"
     ]
    }
   ],
   "source": [
    "for entity in doc_title.ents:\n",
    "    print(entity.text, entity.label_)"
   ]
  },
  {
   "cell_type": "code",
   "execution_count": 30,
   "metadata": {
    "scrolled": true,
    "tags": []
   },
   "outputs": [
    {
     "name": "stdout",
     "output_type": "stream",
     "text": [
      "two CARDINAL\n",
      "first ORDINAL\n",
      "one CARDINAL\n",
      "second ORDINAL\n",
      "at least one CARDINAL\n",
      "two CARDINAL\n",
      "two CARDINAL\n",
      "two CARDINAL\n",
      "0 CARDINAL\n",
      "1 CARDINAL\n",
      "24 CARDINAL\n",
      "2 CARDINAL\n",
      "35 CARDINAL\n",
      "1 CARDINAL\n",
      "24 CARDINAL\n",
      "the Comprehensive R Archive Network ORG\n",
      "CRAN ORG\n",
      "CRAN ORG\n",
      "R. NORP\n",
      "1 MONEY\n",
      "OUTPUT ORG\n",
      "2 MONEY\n",
      "2 MONEY\n",
      "OUTPUT ORG\n",
      "3 MONEY\n",
      "3 MONEY\n",
      "over 3 hours TIME\n",
      "PHP ORG\n",
      "2 CARDINAL\n",
      "3 CARDINAL\n",
      "Inputs NORP\n",
      "Outputs of a Parent Component ORG\n",
      "Typescript GPE\n",
      "Parent GPE\n",
      "Child Component ORG\n",
      "Typescript GPE\n",
      "Pandas NORP\n",
      "two CARDINAL\n",
      "7 days DATE\n",
      "7 days DATE\n",
      "the remaining days DATE\n",
      "Pandas NORP\n",
      "Datanovice ORG\n",
      "Laravel GPE\n",
      "2 CARDINAL\n",
      "3 CARDINAL\n",
      "& Value ORG\n",
      "2 CARDINAL\n",
      "SHELL ORG\n",
      "1 CARDINAL\n",
      "2 CARDINAL\n",
      "Output 1 PRODUCT\n",
      "1 CARDINAL\n",
      "2 CARDINAL\n",
      "C11 ORG\n",
      "zero CARDINAL\n",
      "zero CARDINAL\n",
      "zero CARDINAL\n",
      "second ORDINAL\n",
      "SQL Server ORG\n",
      "2014 DATE\n",
      "A few days ago DATE\n",
      "SQL Server Management Studio ORG\n",
      "SQL Server Management Studio ORG\n",
      "Login Failed PERSON\n",
      "A. Reason PERSON\n",
      "Only one CARDINAL\n",
      "Microsoft SQL Server ORG\n",
      "18461 DATE\n",
      "two CARDINAL\n",
      "75% PERCENT\n",
      "25% PERCENT\n",
      "RecyclerView ORG\n",
      "three CARDINAL\n",
      "RecyclerView ORG\n",
      "RecyclerView ORG\n",
      "Kotlin PERSON\n",
      "HashMap ORG\n",
      "App DataBase PERSON\n",
      "15 CARDINAL\n",
      "48 CARDINAL\n",
      "2 CARDINAL\n",
      "2 CARDINAL\n",
      "JSON GPE\n",
      "Arabic NORP\n",
      "one CARDINAL\n",
      "2.7 CARDINAL\n",
      "أترصدّ ORG\n",
      "FTP ORG\n",
      "Docker GPE\n",
      "year~. ORG\n",
      "the previous row DATE\n",
      "the previous row DATE\n",
      "FFMPEG ORG\n",
      "Graph PERSON\n",
      "PK GPE\n",
      "first ORDINAL\n",
      "ON CONFLICT ORG\n",
      "0.5 CARDINAL\n",
      "1000s DATE\n",
      "85% PERCENT\n",
      "one CARDINAL\n",
      "four CARDINAL\n",
      "Two CARDINAL\n",
      "first ORDINAL\n",
      "Aurora/Mysql ORG\n",
      "MSK ORG\n",
      "Elastic NORP\n",
      "Aurora -->Kafka-connect--->AWS ORG\n",
      "Aurora GPE\n",
      "1 CARDINAL\n",
      "2 CARDINAL\n",
      "3 CARDINAL\n",
      "Kafka PERSON\n",
      "JDBC PERSON\n",
      "one CARDINAL\n",
      "first ORDINAL\n",
      "month DATE\n",
      "DF ORG\n",
      "two CARDINAL\n",
      "first ORDINAL\n",
      "one CARDINAL\n",
      "1 CARDINAL\n",
      "2 CARDINAL\n",
      "second ORDINAL\n",
      "zero CARDINAL\n",
      "first ORDINAL\n",
      "Categories LAW\n",
      "Git LFS PERSON\n",
      "Presto ORG\n",
      "IDE ORG\n",
      "Presto ORG\n",
      "0.229 CARDINAL\n",
      "two CARDINAL\n",
      "JavaFXML PERSON\n",
      "Netbeans NORP\n",
      "Main Application ORG\n",
      "two CARDINAL\n",
      "Input ORG\n",
      "Account PERSON\n",
      "MainView PRODUCT\n",
      "two CARDINAL\n",
      "two CARDINAL\n",
      "Interface ORG\n",
      "ViewModel ORG\n",
      "Toolbar GPE\n",
      "Pandas NORP\n",
      "Matplotlib PERSON\n",
      "Matplotlib(or GPE\n",
      "5 CARDINAL\n",
      "1 CARDINAL\n",
      "22 CARDINAL\n",
      "2 CARDINAL\n",
      "22 CARDINAL\n",
      "3 CARDINAL\n",
      "22 CARDINAL\n",
      "22 CARDINAL\n",
      "5 CARDINAL\n",
      "22 CARDINAL\n",
      "12 CARDINAL\n",
      "7 CARDINAL\n",
      "8 CARDINAL\n",
      "12 CARDINAL\n",
      "Vue GPE\n",
      "PWA ORG\n",
      "first ORDINAL\n",
      "CLI ORG\n",
      "JavaScript ORG\n",
      "jQuery ORG\n",
      "UTC ORG\n",
      "NotificationCenter ORG\n",
      "Laravel ORG\n",
      "Redis ORG\n",
      "C++ LANGUAGE\n",
      "a particular day DATE\n",
      "Menu ORG\n",
      "Laravel ORG\n",
      "User Model PERSON\n",
      "Controller PERSON\n",
      "12h DATE\n",
      "MVC Project ORG\n",
      "one CARDINAL\n",
      "Mvc ORG\n",
      "JWT ORG\n",
      "Cookies ORG\n",
      "JWT ORG\n",
      "One CARDINAL\n"
     ]
    }
   ],
   "source": [
    "for entity in doc_body.ents:\n",
    "    print(entity.text, entity.label_)"
   ]
  },
  {
   "cell_type": "code",
   "execution_count": 44,
   "metadata": {},
   "outputs": [],
   "source": [
    "doc = nlp(df_base['Title'].str.cat())"
   ]
  },
  {
   "cell_type": "code",
   "execution_count": 32,
   "metadata": {},
   "outputs": [
    {
     "data": {
      "text/plain": [
       "{'ADJ',\n",
       " 'ADP',\n",
       " 'ADV',\n",
       " 'AUX',\n",
       " 'CCONJ',\n",
       " 'DET',\n",
       " 'INTJ',\n",
       " 'NOUN',\n",
       " 'NUM',\n",
       " 'PART',\n",
       " 'PRON',\n",
       " 'PROPN',\n",
       " 'PUNCT',\n",
       " 'SCONJ',\n",
       " 'SYM',\n",
       " 'VERB',\n",
       " 'X'}"
      ]
     },
     "execution_count": 32,
     "metadata": {},
     "output_type": "execute_result"
    }
   ],
   "source": [
    "set([token.pos_ for token in doc_title ])"
   ]
  },
  {
   "cell_type": "code",
   "execution_count": 15,
   "metadata": {
    "scrolled": true,
    "tags": []
   },
   "outputs": [
    {
     "name": "stdout",
     "output_type": "stream",
     "text": [
      "Noun phrases: ['I', 'an array', 'elements', 'I', 'the following code', 'this form', 'parameter', 'dimension', 'being', 'what', 'I', 'large dimension', 'a lot', 'overhead', 'any other low complexity method', 'this matrix', 'Thanks']\n"
     ]
    }
   ],
   "source": [
    "print(\"Noun phrases:\", [chunk.text for chunk in doc.noun_chunks])"
   ]
  },
  {
   "cell_type": "code",
   "execution_count": 16,
   "metadata": {
    "scrolled": true,
    "tags": []
   },
   "outputs": [
    {
     "name": "stdout",
     "output_type": "stream",
     "text": [
      "Verbs: ['try', 'create', 'be', 'place', 'write', 'follow', 'get', 'be', 'do', 'need', 'cause', 'get']\n"
     ]
    }
   ],
   "source": [
    "print(\"Verbs:\", [token.lemma_ for token in doc if token.pos_ == \"VERB\"])"
   ]
  },
  {
   "cell_type": "code",
   "execution_count": 28,
   "metadata": {},
   "outputs": [
    {
     "data": {
      "text/plain": [
       "Id                                                       65198394\n",
       "Title           SciSpacy equivalent of Gensim's functions/para...\n",
       "Body            <p>With Gensim, there are three functions I us...\n",
       "Tags                                 <python><nlp><spacy><gensim>\n",
       "CreationDate                                  2020-12-08 11:52:07\n",
       "Bs4_Body        With Gensim, there are three functions I use r...\n",
       "Code            model = gensim.models.Word2Vec(corpus,size=100...\n",
       "Bs4_Tags                                            [python, nlp]\n",
       "Name: 70258, dtype: object"
      ]
     },
     "execution_count": 28,
     "metadata": {},
     "output_type": "execute_result"
    }
   ],
   "source": [
    "df_bs4.loc[70258]"
   ]
  },
  {
   "cell_type": "code",
   "execution_count": 18,
   "metadata": {},
   "outputs": [
    {
     "data": {
      "text/plain": [
       "array(['Parsing dictionaries in a JSON file with Python',\n",
       "       'I\\'m fairly new to Python and JSON, and I\\'m having a bit of trouble parsing through this data: This is what\\'s inside of the file, and if I understand correctly, this is a dictionary (\"tests\":) with dictionaries inside of it that are comma-separated, where each dictionary has a kvp of array:list, target:int. Please correct me if I am wrong on this part. Now, what I\\'m trying to do is loop through each of the dictionaries and print the list then integer of each. So far, this is what I have in Python: but all I\\'m printing out is this: array target array target array target array target array target array target array target array target array target array target array target array target I guess what I\\'m trying to ask is how to print the values of this instead of the keys. Any help is appreciated, sorry for the noob question.',\n",
       "       list(['python', 'json', 'loops', 'dictionary'])], dtype=object)"
      ]
     },
     "execution_count": 18,
     "metadata": {},
     "output_type": "execute_result"
    }
   ],
   "source": [
    "df_bs4.loc[56967][['Title','Bs4_Body','Bs4_Tags']].values"
   ]
  },
  {
   "cell_type": "code",
   "execution_count": null,
   "metadata": {},
   "outputs": [],
   "source": []
  }
 ],
 "metadata": {
  "kernelspec": {
   "display_name": "Python 3",
   "language": "python",
   "name": "python3"
  },
  "language_info": {
   "codemirror_mode": {
    "name": "ipython",
    "version": 3
   },
   "file_extension": ".py",
   "mimetype": "text/x-python",
   "name": "python",
   "nbconvert_exporter": "python",
   "pygments_lexer": "ipython3",
   "version": "3.7.9"
  }
 },
 "nbformat": 4,
 "nbformat_minor": 4
}
