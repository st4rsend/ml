{
 "cells": [
  {
   "cell_type": "code",
   "execution_count": 1,
   "metadata": {},
   "outputs": [],
   "source": [
    "import importlib\n",
    "import os\n",
    "from joblib import dump, load\n",
    "\n",
    "import numpy as np\n",
    "import pandas as pd\n",
    "\n",
    "import tensorflow as tf\n",
    "from sklearn.preprocessing import MultiLabelBinarizer\n",
    "\n",
    "data_path = \"..\\\\data\\\\stackoverflow\\\\\"\n",
    "model_path = data_path + \"models\\\\\"\n",
    "\n",
    "np.set_printoptions(precision=2, suppress=True)\n",
    "pd.options.display.float_format = \"{:,.2f}\".format"
   ]
  },
  {
   "cell_type": "code",
   "execution_count": 2,
   "metadata": {},
   "outputs": [],
   "source": [
    "import matplotlib.pyplot as plt\n",
    "\n",
    "\n",
    "def plot_graphs(history, metric):\n",
    "  plt.plot(history.history[metric])\n",
    "  plt.plot(history.history['val_'+metric], '')\n",
    "  plt.xlabel(\"Epochs\")\n",
    "  plt.ylabel(metric)\n",
    "  plt.legend([metric, 'val_'+metric])"
   ]
  },
  {
   "cell_type": "code",
   "execution_count": 3,
   "metadata": {},
   "outputs": [],
   "source": [
    "# data_filename = \"bs4_nltk.pkl\"\n",
    "data_filename = \"bs4.pkl\"\n",
    "df_base = pd.read_pickle(data_path + data_filename)\n",
    "df_top = pd.read_pickle(data_path + 'Top_Tags.pkl')\n",
    "body_corpus = load(data_path + 'body_corpus.joblib')"
   ]
  },
  {
   "cell_type": "code",
   "execution_count": 4,
   "metadata": {},
   "outputs": [
    {
     "data": {
      "text/html": [
       "<div>\n",
       "<style scoped>\n",
       "    .dataframe tbody tr th:only-of-type {\n",
       "        vertical-align: middle;\n",
       "    }\n",
       "\n",
       "    .dataframe tbody tr th {\n",
       "        vertical-align: top;\n",
       "    }\n",
       "\n",
       "    .dataframe thead th {\n",
       "        text-align: right;\n",
       "    }\n",
       "</style>\n",
       "<table border=\"1\" class=\"dataframe\">\n",
       "  <thead>\n",
       "    <tr style=\"text-align: right;\">\n",
       "      <th></th>\n",
       "      <th>Id</th>\n",
       "      <th>Title</th>\n",
       "      <th>Body</th>\n",
       "      <th>Tags</th>\n",
       "      <th>Bs4_Body</th>\n",
       "      <th>Code</th>\n",
       "      <th>Bs4_Tags</th>\n",
       "    </tr>\n",
       "  </thead>\n",
       "  <tbody>\n",
       "    <tr>\n",
       "      <th>0</th>\n",
       "      <td>59549234</td>\n",
       "      <td>How to determine the smallest common divisor o...</td>\n",
       "      <td>&lt;p&gt;I was asked the following question during a...</td>\n",
       "      <td>&lt;string&gt;&lt;algorithm&gt;</td>\n",
       "      <td>I was asked the following question during a jo...</td>\n",
       "      <td>Given two strings s &amp; t, determine if s is div...</td>\n",
       "      <td>[string, algorithm]</td>\n",
       "    </tr>\n",
       "    <tr>\n",
       "      <th>1</th>\n",
       "      <td>59549281</td>\n",
       "      <td>How to use a trait object that contains a meth...</td>\n",
       "      <td>&lt;p&gt;What's the correct way to use a trait objec...</td>\n",
       "      <td>&lt;rust&gt;</td>\n",
       "      <td>What's the correct way to use a trait object t...</td>\n",
       "      <td>Selftrait Foo {     fn gen(&amp;mut self) -&gt; &amp;Self...</td>\n",
       "      <td>[rust]</td>\n",
       "    </tr>\n",
       "    <tr>\n",
       "      <th>2</th>\n",
       "      <td>59549471</td>\n",
       "      <td>Why a named function declaration isn't hoisted...</td>\n",
       "      <td>&lt;p&gt;is putting the function declaration beside ...</td>\n",
       "      <td>&lt;javascript&gt;</td>\n",
       "      <td>is putting the function declaration beside the...</td>\n",
       "      <td>// Hoisting doesn't work in here\\r function ou...</td>\n",
       "      <td>[javascript]</td>\n",
       "    </tr>\n",
       "    <tr>\n",
       "      <th>3</th>\n",
       "      <td>59549568</td>\n",
       "      <td>Getting value of input causing flickering in R...</td>\n",
       "      <td>&lt;p&gt;I am attempting to track the value of two l...</td>\n",
       "      <td>&lt;javascript&gt;&lt;css&gt;&lt;reactjs&gt;&lt;react-hooks&gt;&lt;react-...</td>\n",
       "      <td>I am attempting to track the value of two logi...</td>\n",
       "      <td>profile_tile.jsimport React, { useState } from...</td>\n",
       "      <td>[javascript, css, reactjs]</td>\n",
       "    </tr>\n",
       "    <tr>\n",
       "      <th>4</th>\n",
       "      <td>59549600</td>\n",
       "      <td>How to assign a vector of atomic types?</td>\n",
       "      <td>&lt;p&gt;How can I assign the members of a vector wi...</td>\n",
       "      <td>&lt;c++&gt;&lt;multithreading&gt;&lt;c++11&gt;&lt;stdvector&gt;&lt;stdato...</td>\n",
       "      <td>How can I assign the members of a vector with ...</td>\n",
       "      <td>#include &lt;iostream&gt; #include &lt;thread&gt; #include...</td>\n",
       "      <td>[c++, multithreading, c++11]</td>\n",
       "    </tr>\n",
       "    <tr>\n",
       "      <th>...</th>\n",
       "      <td>...</td>\n",
       "      <td>...</td>\n",
       "      <td>...</td>\n",
       "      <td>...</td>\n",
       "      <td>...</td>\n",
       "      <td>...</td>\n",
       "      <td>...</td>\n",
       "    </tr>\n",
       "    <tr>\n",
       "      <th>49995</th>\n",
       "      <td>61503153</td>\n",
       "      <td>NullReferenceException in SimpleInjector.Conta...</td>\n",
       "      <td>&lt;p&gt;I'm still in the process of getting into WP...</td>\n",
       "      <td>&lt;c#&gt;&lt;wpf&gt;&lt;xaml&gt;&lt;simple-injector&gt;</td>\n",
       "      <td>I'm still in the process of getting into WPF a...</td>\n",
       "      <td>MainWindow    &lt;Window x:Class=\"WpfPlayground.M...</td>\n",
       "      <td>[c#, wpf, xaml]</td>\n",
       "    </tr>\n",
       "    <tr>\n",
       "      <th>49996</th>\n",
       "      <td>61503183</td>\n",
       "      <td>How can I add grid lines to a catplot in seaborn?</td>\n",
       "      <td>&lt;p&gt;How can I add grid lines (vertically and ho...</td>\n",
       "      <td>&lt;python&gt;&lt;seaborn&gt;&lt;catplot&gt;</td>\n",
       "      <td>How can I add grid lines (vertically and horiz...</td>\n",
       "      <td>seabornaximport seaborn as sns sns.set(style=\"...</td>\n",
       "      <td>[python]</td>\n",
       "    </tr>\n",
       "    <tr>\n",
       "      <th>49997</th>\n",
       "      <td>61503185</td>\n",
       "      <td>Standard deviation only for data that meets tw...</td>\n",
       "      <td>&lt;p&gt;I am trying to calculate the standard devia...</td>\n",
       "      <td>&lt;excel&gt;&lt;excel-formula&gt;</td>\n",
       "      <td>I am trying to calculate the standard deviatio...</td>\n",
       "      <td>Region  Variety Yield A   Z1  1500 B   Z1  210...</td>\n",
       "      <td>[excel, excel-formula]</td>\n",
       "    </tr>\n",
       "    <tr>\n",
       "      <th>49998</th>\n",
       "      <td>61503205</td>\n",
       "      <td>How to properly raise exception in TensorFlow ...</td>\n",
       "      <td>&lt;p&gt;I want to raise a &lt;code&gt;tf.errors.InvalidAr...</td>\n",
       "      <td>&lt;python&gt;&lt;python-3.x&gt;&lt;tensorflow&gt;&lt;tensorflow2.0...</td>\n",
       "      <td>I want to raise a  exception dependent on the ...</td>\n",
       "      <td>tf.errors.InvalidArgumentErrortf.debugging.ass...</td>\n",
       "      <td>[python, python-3.x, tensorflow]</td>\n",
       "    </tr>\n",
       "    <tr>\n",
       "      <th>49999</th>\n",
       "      <td>61503209</td>\n",
       "      <td>GLFW callbacks and OpenGL round robin</td>\n",
       "      <td>&lt;p&gt;In a Round Robin fashion, you usually have ...</td>\n",
       "      <td>&lt;opengl&gt;&lt;round-robin&gt;</td>\n",
       "      <td>In a Round Robin fashion, you usually have a f...</td>\n",
       "      <td></td>\n",
       "      <td>[opengl]</td>\n",
       "    </tr>\n",
       "  </tbody>\n",
       "</table>\n",
       "<p>50000 rows × 7 columns</p>\n",
       "</div>"
      ],
      "text/plain": [
       "             Id                                              Title  \\\n",
       "0      59549234  How to determine the smallest common divisor o...   \n",
       "1      59549281  How to use a trait object that contains a meth...   \n",
       "2      59549471  Why a named function declaration isn't hoisted...   \n",
       "3      59549568  Getting value of input causing flickering in R...   \n",
       "4      59549600            How to assign a vector of atomic types?   \n",
       "...         ...                                                ...   \n",
       "49995  61503153  NullReferenceException in SimpleInjector.Conta...   \n",
       "49996  61503183  How can I add grid lines to a catplot in seaborn?   \n",
       "49997  61503185  Standard deviation only for data that meets tw...   \n",
       "49998  61503205  How to properly raise exception in TensorFlow ...   \n",
       "49999  61503209              GLFW callbacks and OpenGL round robin   \n",
       "\n",
       "                                                    Body  \\\n",
       "0      <p>I was asked the following question during a...   \n",
       "1      <p>What's the correct way to use a trait objec...   \n",
       "2      <p>is putting the function declaration beside ...   \n",
       "3      <p>I am attempting to track the value of two l...   \n",
       "4      <p>How can I assign the members of a vector wi...   \n",
       "...                                                  ...   \n",
       "49995  <p>I'm still in the process of getting into WP...   \n",
       "49996  <p>How can I add grid lines (vertically and ho...   \n",
       "49997  <p>I am trying to calculate the standard devia...   \n",
       "49998  <p>I want to raise a <code>tf.errors.InvalidAr...   \n",
       "49999  <p>In a Round Robin fashion, you usually have ...   \n",
       "\n",
       "                                                    Tags  \\\n",
       "0                                    <string><algorithm>   \n",
       "1                                                 <rust>   \n",
       "2                                           <javascript>   \n",
       "3      <javascript><css><reactjs><react-hooks><react-...   \n",
       "4      <c++><multithreading><c++11><stdvector><stdato...   \n",
       "...                                                  ...   \n",
       "49995                   <c#><wpf><xaml><simple-injector>   \n",
       "49996                         <python><seaborn><catplot>   \n",
       "49997                             <excel><excel-formula>   \n",
       "49998  <python><python-3.x><tensorflow><tensorflow2.0...   \n",
       "49999                              <opengl><round-robin>   \n",
       "\n",
       "                                                Bs4_Body  \\\n",
       "0      I was asked the following question during a jo...   \n",
       "1      What's the correct way to use a trait object t...   \n",
       "2      is putting the function declaration beside the...   \n",
       "3      I am attempting to track the value of two logi...   \n",
       "4      How can I assign the members of a vector with ...   \n",
       "...                                                  ...   \n",
       "49995  I'm still in the process of getting into WPF a...   \n",
       "49996  How can I add grid lines (vertically and horiz...   \n",
       "49997  I am trying to calculate the standard deviatio...   \n",
       "49998  I want to raise a  exception dependent on the ...   \n",
       "49999  In a Round Robin fashion, you usually have a f...   \n",
       "\n",
       "                                                    Code  \\\n",
       "0      Given two strings s & t, determine if s is div...   \n",
       "1      Selftrait Foo {     fn gen(&mut self) -> &Self...   \n",
       "2      // Hoisting doesn't work in here\\r function ou...   \n",
       "3      profile_tile.jsimport React, { useState } from...   \n",
       "4      #include <iostream> #include <thread> #include...   \n",
       "...                                                  ...   \n",
       "49995  MainWindow    <Window x:Class=\"WpfPlayground.M...   \n",
       "49996  seabornaximport seaborn as sns sns.set(style=\"...   \n",
       "49997  Region  Variety Yield A   Z1  1500 B   Z1  210...   \n",
       "49998  tf.errors.InvalidArgumentErrortf.debugging.ass...   \n",
       "49999                                                      \n",
       "\n",
       "                               Bs4_Tags  \n",
       "0                   [string, algorithm]  \n",
       "1                                [rust]  \n",
       "2                          [javascript]  \n",
       "3            [javascript, css, reactjs]  \n",
       "4          [c++, multithreading, c++11]  \n",
       "...                                 ...  \n",
       "49995                   [c#, wpf, xaml]  \n",
       "49996                          [python]  \n",
       "49997            [excel, excel-formula]  \n",
       "49998  [python, python-3.x, tensorflow]  \n",
       "49999                          [opengl]  \n",
       "\n",
       "[50000 rows x 7 columns]"
      ]
     },
     "execution_count": 4,
     "metadata": {},
     "output_type": "execute_result"
    }
   ],
   "source": [
    "df_base"
   ]
  },
  {
   "cell_type": "code",
   "execution_count": 5,
   "metadata": {},
   "outputs": [],
   "source": [
    "df = pd.concat([df_base[['Title','Bs4_Body']],df_top], axis=1)[:10000]"
   ]
  },
  {
   "cell_type": "code",
   "execution_count": 6,
   "metadata": {},
   "outputs": [],
   "source": [
    "mlb = MultiLabelBinarizer()\n",
    "y_tags = mlb.fit_transform(df['Tags_T50'])"
   ]
  },
  {
   "cell_type": "code",
   "execution_count": 7,
   "metadata": {},
   "outputs": [
    {
     "data": {
      "text/plain": [
       "(array([39], dtype=int64),)"
      ]
     },
     "execution_count": 7,
     "metadata": {},
     "output_type": "execute_result"
    }
   ],
   "source": [
    "np.where(mlb.classes_==\"python\")"
   ]
  },
  {
   "cell_type": "code",
   "execution_count": 8,
   "metadata": {},
   "outputs": [],
   "source": [
    "# y_tags = y_tags[:,39]"
   ]
  },
  {
   "cell_type": "code",
   "execution_count": 9,
   "metadata": {},
   "outputs": [],
   "source": [
    "# dataset =  tf.data.Dataset.from_tensor_slices((df['Bs4_Body'].values, y_tags))\n",
    "dataset =  tf.data.Dataset.from_tensor_slices((df['Title'].values, y_tags))"
   ]
  },
  {
   "cell_type": "code",
   "execution_count": 33,
   "metadata": {},
   "outputs": [
    {
     "name": "stdout",
     "output_type": "stream",
     "text": [
      "texts:  b'How to determine the smallest common divisor of a string?'\n",
      "Tags:  [0 0 0 0 0 0 0 0 0 0 0 0 0 0 0 0 0 0 0 0 0 0 0 0 0 0 0 0 0 0 0 0 0 0 0 0 0\n",
      " 0 0 0 0 0 0 0 0 0 1 0 0 0 0]\n",
      "texts:  b'How to use a trait object that contains a method that returns a reference to Self?'\n",
      "Tags:  [0 0 0 0 0 0 0 0 0 0 0 0 0 0 0 0 0 0 0 0 0 0 0 0 0 0 0 0 0 0 0 0 0 0 1 0 0\n",
      " 0 0 0 0 0 0 0 0 0 0 0 0 0 0]\n",
      "texts:  b\"Why a named function declaration isn't hoisted if you put it inside the return statement?\"\n",
      "Tags:  [0 0 0 0 0 0 0 0 0 0 0 0 0 0 0 0 0 0 0 0 0 0 0 1 0 0 0 0 0 0 0 0 0 0 0 0 0\n",
      " 0 0 0 0 0 0 0 0 0 0 0 0 0 0]\n"
     ]
    }
   ],
   "source": [
    "for example, tag in dataset.take(3):\n",
    "    print('texts: ', example.numpy())\n",
    "    print('Tags: ', tag.numpy())"
   ]
  },
  {
   "cell_type": "code",
   "execution_count": 11,
   "metadata": {},
   "outputs": [
    {
     "data": {
      "text/plain": [
       "8000.0"
      ]
     },
     "execution_count": 11,
     "metadata": {},
     "output_type": "execute_result"
    }
   ],
   "source": [
    "dataset.cardinality().numpy()*.8"
   ]
  },
  {
   "cell_type": "code",
   "execution_count": 34,
   "metadata": {},
   "outputs": [],
   "source": [
    "split_ratio = .8\n",
    "train_dataset, test_dataset = dataset.take(dataset.cardinality().numpy()*split_ratio), dataset.skip(dataset.cardinality().numpy()*split_ratio)"
   ]
  },
  {
   "cell_type": "code",
   "execution_count": 51,
   "metadata": {},
   "outputs": [],
   "source": [
    "BUFFER_SIZE = 10000\n",
    "BATCH_SIZE = 32\n",
    "train_dataset = train_dataset.shuffle(BUFFER_SIZE).batch(BATCH_SIZE).prefetch(tf.data.AUTOTUNE)\n",
    "test_dataset = test_dataset.batch(BATCH_SIZE).prefetch(tf.data.AUTOTUNE)"
   ]
  },
  {
   "cell_type": "code",
   "execution_count": 52,
   "metadata": {},
   "outputs": [
    {
     "name": "stdout",
     "output_type": "stream",
     "text": [
      "text:  [b'How to update Django query object in a for loop'\n",
      " b'Using loc on two columns to perform calculations that replace values of another column'\n",
      " b'Windows Script Host Error 800A03EA on Express.js code'\n",
      " b'How to use std::set_terminate with SetUnhandledExceptionFilter?'\n",
      " b'React Material UI - Make Slider update state'\n",
      " b'Extracting last word/text multiple matching logstash'\n",
      " b'Are returned BehaviourSubjects (as Observable) effected by take(1) or unsubscribe?'\n",
      " b'Matplotlib RectangleSelector disappears when new image loaded in wxPython panel'\n",
      " b'maven dependency - which dependency is using unwanted jar?'\n",
      " b'R: given a matrix of 0 and 1s create matrix showing repetition between columns in rows'\n",
      " b'How to remap or revert a point into its former coordinate system after warpAffine has transformed it?'\n",
      " b'Using any or none on the hash keys and values in Raku'\n",
      " b\"Can't access Service via Kubernetes Service with specified endpoints\"\n",
      " b'How do I create a list in a separate Dataframe column from specific values from within a list of dictionaries?'\n",
      " b'Jinja2 - sum legnth of list in object in list'\n",
      " b'Getting \"No file or variants found for asset\" found error on my asset'\n",
      " b'How do I input bar-chart data to an overall pie-chart ? (Highcharts/ JS / jQuery)'\n",
      " b'python pygame set color transparency'\n",
      " b\"Using legacy projects containing 'System.Web.HttpContext' in ASP.NET Core3.1\"\n",
      " b'.NET Framework 4 Library with .NET Core 2.2 Project'\n",
      " b'Dealing with problems in FLAC audio files with ffmpeg'\n",
      " b'Sort doubly-grouped df by value column corresponding to only one of the groups'\n",
      " b'Excel formula to get max length of delimited value in a cell'\n",
      " b'Delete rows from two tables. PostgressSQL'\n",
      " b'Swift Combine custom Publisher: Storing a reference to an array of Subscribers?'\n",
      " b'How to return IQueryable?' b'Bin by multiple months in altair?'\n",
      " b\"Bash: why can't put redirecting before grouped commands using curly brace\"\n",
      " b'Airflow - How to run a KubernetesPodOperator with a non exiting command'\n",
      " b'Regex - validating comma-separated list of numbers, 1 to 3 digits long'\n",
      " b'How to check whether the current PageView totally disappears and the next one totally appears'\n",
      " b'Vue axios pass array as param to Rails and update all (bulk edit)']\n",
      "label:  [[0 0 0 ... 0 0 0]\n",
      " [0 0 0 ... 0 0 0]\n",
      " [0 0 0 ... 0 0 0]\n",
      " ...\n",
      " [0 0 0 ... 0 0 0]\n",
      " [0 0 0 ... 0 0 0]\n",
      " [0 0 0 ... 0 0 1]]\n",
      "text:  [b'How can I make equal-width items based on the content of items in respective columns?'\n",
      " b'How to insert a background image for an Excel Comment in .xlsx formats (Apache POI XSSF)?'\n",
      " b\"Css before and after doesn't work correctly\"\n",
      " b'Corresponding local time of UTC time'\n",
      " b\"value not setting with '=' in rails\"\n",
      " b\"After returning to a UWP XAML page ContentDialog.RunAsync() causes 'Value does not fall within the expected range.'\"\n",
      " b'BIML PropertyName for \"Direct Input\"/SqlCommand of Lookup Task'\n",
      " b'Remove quotes from special characters in R'\n",
      " b'S3 bucket global uniqueness'\n",
      " b'For VBA, how can you use an IF statement to display a specific range as a picture for an email?'\n",
      " b'Issue regarding logging the pose object in posenet of tensorflow.js'\n",
      " b'How do I make my React app work on Edge and IE 11?'\n",
      " b'Image stretched in mobil view using css grid'\n",
      " b'How does a single variable store multiple values?'\n",
      " b'Get Values between Each Comma in Seperate Row in SQL Server'\n",
      " b'What is the best way in this scenario to avoid a confused loop?'\n",
      " b'Grouping by ID, Grouping by time (within 5 minutes of each activity), Find Time Difference of Activity in R'\n",
      " b'Get X rows from dataframe based on lowest values in specified column; and randomly select among ties'\n",
      " b\"I can't find table in beautifulsoup\"\n",
      " b'Get coordinates from a Tweet using the Twitter API'\n",
      " b'Is there a way of displaying code review request/response work items on the Azure devops tfs sprint board'\n",
      " b'Is it possible to use Iterator::filter_map to add conditional filtering?'\n",
      " b'ADODB to querytable : Run-Time Error 1004'\n",
      " b\"When using shapeless.Generic, how to avoid the error 'super constructor cannot be passed a self reference unless parameter is declared by-name'?\"\n",
      " b'pygame define different position order make the different result'\n",
      " b'Writing emoji to XML file in JAVA'\n",
      " b'Multiple Component with Same Function Name in React Native'\n",
      " b'Editing a string for it to be passed to a stored procedure'\n",
      " b'Required field with sensible default'\n",
      " b'JQuery returns NaN value while calculating multiple inputs in a row'\n",
      " b\"ggplot add geom (specifically geom_hline) which doesn't affect limits\"\n",
      " b'Creating multiple instances of a subclass, with only one instance of a superclass']\n",
      "label:  [[0 0 0 ... 0 0 0]\n",
      " [0 0 0 ... 0 0 0]\n",
      " [0 0 0 ... 0 0 0]\n",
      " ...\n",
      " [0 0 0 ... 0 0 0]\n",
      " [0 0 0 ... 0 0 0]\n",
      " [0 0 0 ... 0 0 0]]\n",
      "text:  [b'Is there a difference between these two methods of using express middleware?'\n",
      " b'What is a diference between ((int) a) and (int(a))?'\n",
      " b\"How to get all names of a classes' classmethods in Python\"\n",
      " b'i want to work on different branches in git in my local repository which have different branches from origin set as upstream'\n",
      " b'JS canvas animation, my effect is accelerating and accumulating, but the speed of the effect is in the console same?'\n",
      " b'Find minimum level in group and combine'\n",
      " b'Xcode and Swift. The width is calculated automatically, but on the iPhone Xr everything is fine and on the iPhone X it looks bad'\n",
      " b'Is there a better way to mix websocket recv and send calls than this?'\n",
      " b'Call to undefined function str_limit()'\n",
      " b'Is there an optimal way to create a bunch of new columns with data.table?'\n",
      " b'Should I return await in Rust?'\n",
      " b\"matplotlib can't plot single channel or greyscale image pixels\"\n",
      " b'About Initializing Pointers in C++'\n",
      " b'Obtain a Span<byte> over a struct without making a copy of the struct'\n",
      " b'LocalDateTime for IST(Indian Standard Time) with ZoneOffset in cleaner way'\n",
      " b'How to get position of each character in SwiftUI Text'\n",
      " b'Why do we use dispose() method in dart code?'\n",
      " b'Find whether observations appear back-to-back-to-back within a group'\n",
      " b'How to properly implement the changing of an element in a container class?'\n",
      " b'How to create a CRON job and set it for every 30 minutes or hour and then cancel it after 5 intervals php'\n",
      " b'R convert XML (complex structure) to dataframe'\n",
      " b'Replacing Values in a Column on the Basis of n Consecutive Entries'\n",
      " b'Is possible to fix the iostream cout/cerr member function pointers being printed as 1 or true?'\n",
      " b'Swift: The given data was not valid JSON'\n",
      " b'Jquery refresh page, then do something'\n",
      " b'How to install Mysql-server in Ubuntu offline'\n",
      " b'Date not parsing correct in Javascript'\n",
      " b'What is the proper code style for relative imports in Dart?'\n",
      " b'Getting the means of data taken on the same day'\n",
      " b'When to use Local Params in solr'\n",
      " b'Facing error while installing Stellargraph on Windows PC'\n",
      " b'Why am I getting this KeyError using multiprocessing and pandas?']\n",
      "label:  [[0 0 0 ... 0 0 0]\n",
      " [0 0 0 ... 0 0 0]\n",
      " [0 0 0 ... 0 0 0]\n",
      " ...\n",
      " [0 0 0 ... 0 0 0]\n",
      " [0 0 0 ... 0 0 0]\n",
      " [0 0 0 ... 0 0 0]]\n"
     ]
    }
   ],
   "source": [
    "for example, label in train_dataset.take(3):\n",
    "    print('text: ', example.numpy())\n",
    "    print('label: ', label.numpy())"
   ]
  },
  {
   "cell_type": "code",
   "execution_count": 53,
   "metadata": {},
   "outputs": [],
   "source": [
    "VOCAB_SIZE = 1000\n",
    "encoder = tf.keras.layers.experimental.preprocessing.TextVectorization(\n",
    "    max_tokens=VOCAB_SIZE)"
   ]
  },
  {
   "cell_type": "code",
   "execution_count": 54,
   "metadata": {},
   "outputs": [],
   "source": [
    "encoder.adapt(train_dataset.map(lambda text, label: text))"
   ]
  },
  {
   "cell_type": "code",
   "execution_count": 55,
   "metadata": {},
   "outputs": [
    {
     "data": {
      "text/plain": [
       "array(['', '[UNK]', 'to', 'in', 'a', 'how', 'the', 'of', 'with', 'and',\n",
       "       'is', 'from', 'on', 'using', 'for', 'i', 'not', 'an', 'value',\n",
       "       'function'], dtype='<U16')"
      ]
     },
     "execution_count": 55,
     "metadata": {},
     "output_type": "execute_result"
    }
   ],
   "source": [
    "vocab = np.array(encoder.get_vocabulary())\n",
    "vocab[:20]"
   ]
  },
  {
   "cell_type": "code",
   "execution_count": 56,
   "metadata": {},
   "outputs": [
    {
     "data": {
      "text/plain": [
       "array([[ 10,  66,   4, 132,  57,   1,  51, 360,   7,  13, 752,   1,   0,\n",
       "          0,   0,   0,   0,   0,   0,   0,   0,   0,   0,   0],\n",
       "       [ 50,  10,   4,   1,  57, 402,   4,   9,   1,   0,   0,   0,   0,\n",
       "          0,   0,   0,   0,   0,   0,   0,   0,   0,   0,   0],\n",
       "       [  5,   2,  27,  55, 254,   7,   4, 354,   1,   3,  23,   0,   0,\n",
       "          0,   0,   0,   0,   0,   0,   0,   0,   0,   0,   0],\n",
       "       [ 15, 456,   2, 106,  12,  73,   1,   3, 185,   3,  78, 362, 782,\n",
       "        129, 105,  73,   1,  11,   1,  83,  41,   1,   0,   0],\n",
       "       [229,   1, 602,  78, 714,  10,   1,   9,   1,  92,   6,   1,   7,\n",
       "          6, 714,  10,   3,   6, 543,  64,   0,   0,   0,   0],\n",
       "       [ 69,   1, 559,   3, 122,   9, 353,   0,   0,   0,   0,   0,   0,\n",
       "          0,   0,   0,   0,   0,   0,   0,   0,   0,   0,   0],\n",
       "       [  1,   9, 270,   6, 520,  10,   1, 571,  92,  12,   6,   1,   1,\n",
       "          1,  10,   1,   9,  12,   6,   1, 262,  36,   1, 862],\n",
       "       [ 10,  66,   4, 670,  54,   2,   1,   1,   1,   9, 357, 949, 138,\n",
       "         82,   0,   0,   0,   0,   0,   0,   0,   0,   0,   0],\n",
       "       [121,   2, 285,  19,   1,   0,   0,   0,   0,   0,   0,   0,   0,\n",
       "          0,   0,   0,   0,   0,   0,   0,   0,   0,   0,   0],\n",
       "       [ 10,  66,  17,   1,  54,   2,  58,   4,   1,   7,  75,  47,   8,\n",
       "        540,   0,   0,   0,   0,   0,   0,   0,   0,   0,   0],\n",
       "       [266,  15,  72, 722,   3, 504,   0,   0,   0,   0,   0,   0,   0,\n",
       "          0,   0,   0,   0,   0,   0,   0,   0,   0,   0,   0],\n",
       "       [398, 153, 180, 166,   1,  43,   1, 113,   1,   0,   0,   0,   0,\n",
       "          0,   0,   0,   0,   0,   0,   0,   0,   0,   0,   0],\n",
       "       [678,   1, 895,   3,  37,   0,   0,   0,   0,   0,   0,   0,   0,\n",
       "          0,   0,   0,   0,   0,   0,   0,   0,   0,   0,   0],\n",
       "       [  1,   4,   1, 167,   4, 410,  81, 485,   4, 323,   7,   6, 410,\n",
       "          0,   0,   0,   0,   0,   0,   0,   0,   0,   0,   0],\n",
       "       [  1,  14,   1, 775,  89,   8,   1,   3,   1,  54,   0,   0,   0,\n",
       "          0,   0,   0,   0,   0,   0,   0,   0,   0,   0,   0],\n",
       "       [  5,   2,  27, 359,   7,  98, 247,   3, 164,  67,   0,   0,   0,\n",
       "          0,   0,   0,   0,   0,   0,   0,   0,   0,   0,   0],\n",
       "       [ 28,  32, 397,  35,   1,  77,   3, 661,  65,   0,   0,   0,   0,\n",
       "          0,   0,   0,   0,   0,   0,   0,   0,   0,   0,   0],\n",
       "       [ 69,   1,   1, 864,   1, 128,   4, 122,   0,   0,   0,   0,   0,\n",
       "          0,   0,   0,   0,   0,   0,   0,   0,   0,   0,   0],\n",
       "       [  5,   2, 377, 589,   6, 405,   7,  17,  91,   3,   4, 324,  53,\n",
       "          0,   0,   0,   0,   0,   0,   0,   0,   0,   0,   0],\n",
       "       [  5,   2,  58,   4,   1,   1,   9,  83,  36,  14, 290, 822,   1,\n",
       "         43,   1,   9, 326,   1,  36,  61, 605,   1, 250,   0],\n",
       "       [ 44,  94, 424,   1, 462,   2,  42,   0,   0,   0,   0,   0,   0,\n",
       "          0,   0,   0,   0,   0,   0,   0,   0,   0,   0,   0],\n",
       "       [736,  25,   3,   4,  24,  12,   6,   1,   7, 420, 757, 596,   0,\n",
       "          0,   0,   0,   0,   0,   0,   0,   0,   0,   0,   0],\n",
       "       [ 10, 110,   2, 511,   6,   1,   1, 386,  19, 895, 367,   1,  41,\n",
       "        191,  43, 458,   0,   0,   0,   0,   0,   0,   0,   0],\n",
       "       [270,   6, 296,  26, 455,  16, 476,  93,   0,   0,   0,   0,   0,\n",
       "          0,   0,   0,   0,   0,   0,   0,   0,   0,   0,   0],\n",
       "       [255,   1, 222, 326,  32, 729,   0,   0,   0,   0,   0,   0,   0,\n",
       "          0,   0,   0,   0,   0,   0,   0,   0,   0,   0,   0],\n",
       "       [  5,   2, 421,   1,   3,   1,   1,   0,   0,   0,   0,   0,   0,\n",
       "          0,   0,   0,   0,   0,   0,   0,   0,   0,   0,   0],\n",
       "       [127,  16, 694, 366,   3,  71,   0,   0,   0,   0,   0,   0,   0,\n",
       "          0,   0,   0,   0,   0,   0,   0,   0,   0,   0,   0],\n",
       "       [ 50,  10,   6,   1,  65, 611,  14,   1,   1,   3, 661,   0,   0,\n",
       "          0,   0,   0,   0,   0,   0,   0,   0,   0,   0,   0],\n",
       "       [149,   6,   1,   7,  26,   1,  12,   6,  64, 514,   0,   0,   0,\n",
       "          0,   0,   0,   0,   0,   0,   0,   0,   0,   0,   0],\n",
       "       [ 20,   2,  35, 362,   1,   3,   1,   0,   0,   0,   0,   0,   0,\n",
       "          0,   0,   0,   0,   0,   0,   0,   0,   0,   0,   0],\n",
       "       [  1,  40, 103,   1,   1,  12, 281,   1,   0,   0,   0,   0,   0,\n",
       "          0,   0,   0,   0,   0,   0,   0,   0,   0,   0,   0],\n",
       "       [ 28, 423,  15, 149,  82,   1,  13,   1,   9,  31,   0,   0,   0,\n",
       "          0,   0,   0,   0,   0,   0,   0,   0,   0,   0,   0]],\n",
       "      dtype=int64)"
      ]
     },
     "execution_count": 56,
     "metadata": {},
     "output_type": "execute_result"
    }
   ],
   "source": [
    "encoded_example = encoder(example).numpy()\n",
    "encoded_example"
   ]
  },
  {
   "cell_type": "code",
   "execution_count": 57,
   "metadata": {},
   "outputs": [
    {
     "name": "stdout",
     "output_type": "stream",
     "text": [
      "Original:  b'Is there a difference between these two methods of using express middleware?'\n",
      "Round-trip:  is there a difference between [UNK] two methods of using express [UNK]            \n",
      "\n",
      "Original:  b'What is a diference between ((int) a) and (int(a))?'\n",
      "Round-trip:  what is a [UNK] between int a and [UNK]               \n",
      "\n",
      "Original:  b\"How to get all names of a classes' classmethods in Python\"\n",
      "Round-trip:  how to get all names of a classes [UNK] in python             \n",
      "\n"
     ]
    }
   ],
   "source": [
    "for n in range(3):\n",
    "    print(\"Original: \", example[n].numpy())\n",
    "    print(\"Round-trip: \", \" \".join(vocab[encoded_example[n]]))\n",
    "    print()"
   ]
  },
  {
   "cell_type": "code",
   "execution_count": 58,
   "metadata": {},
   "outputs": [],
   "source": [
    "model = tf.keras.Sequential([\n",
    "    encoder,\n",
    "    tf.keras.layers.Embedding(\n",
    "        input_dim=len(encoder.get_vocabulary()),\n",
    "        output_dim=64,\n",
    "        # Use masking to handle the variable sequence lengths\n",
    "        mask_zero=True),\n",
    "    tf.keras.layers.Bidirectional(tf.keras.layers.LSTM(64)),\n",
    "    tf.keras.layers.Dense(64, activation='relu'),\n",
    "    tf.keras.layers.Dropout(.25),\n",
    "    tf.keras.layers.Dense(51, activation='sigmoid')\n",
    "])"
   ]
  },
  {
   "cell_type": "code",
   "execution_count": 59,
   "metadata": {},
   "outputs": [
    {
     "name": "stdout",
     "output_type": "stream",
     "text": [
      "[False, True, True, True, True, True]\n"
     ]
    }
   ],
   "source": [
    "print([layer.supports_masking for layer in model.layers])"
   ]
  },
  {
   "cell_type": "code",
   "execution_count": 60,
   "metadata": {},
   "outputs": [
    {
     "name": "stdout",
     "output_type": "stream",
     "text": [
      "[0.5 0.5 0.5 0.5 0.5 0.5 0.5 0.5 0.5 0.5 0.5 0.5 0.5 0.5 0.5 0.5 0.5 0.5\n",
      " 0.5 0.5 0.5 0.5 0.5 0.5 0.5 0.5 0.5 0.5 0.5 0.5 0.5 0.5 0.5 0.5 0.5 0.5\n",
      " 0.5 0.5 0.5 0.5 0.5 0.5 0.5 0.5 0.5 0.5 0.5 0.5 0.5 0.5 0.5]\n"
     ]
    }
   ],
   "source": [
    "# predict on a sample text without padding.\n",
    "\n",
    "sample_text = ('The movie was cool. The animation and the graphics '\n",
    "               'were out of this world. I would recommend this movie.')\n",
    "predictions = model.predict(np.array([sample_text]))\n",
    "print(predictions[0])"
   ]
  },
  {
   "cell_type": "code",
   "execution_count": 61,
   "metadata": {},
   "outputs": [
    {
     "name": "stdout",
     "output_type": "stream",
     "text": [
      "[0.5 0.5 0.5 0.5 0.5 0.5 0.5 0.5 0.5 0.5 0.5 0.5 0.5 0.5 0.5 0.5 0.5 0.5\n",
      " 0.5 0.5 0.5 0.5 0.5 0.5 0.5 0.5 0.5 0.5 0.5 0.5 0.5 0.5 0.5 0.5 0.5 0.5\n",
      " 0.5 0.5 0.5 0.5 0.5 0.5 0.5 0.5 0.5 0.5 0.5 0.5 0.5 0.5 0.5]\n"
     ]
    }
   ],
   "source": [
    "# predict on a sample text with padding\n",
    "\n",
    "padding = \"the \" * 2000\n",
    "predictions = model.predict(np.array([sample_text, padding]))\n",
    "print(predictions[0])"
   ]
  },
  {
   "cell_type": "code",
   "execution_count": 62,
   "metadata": {},
   "outputs": [],
   "source": [
    "model.compile(loss=tf.keras.losses.BinaryCrossentropy(from_logits=True),\n",
    "# model.compile(loss=tf.keras.losses.CategoricalCrossentropy(from_logits=True),\n",
    "              optimizer=tf.keras.optimizers.Adam(1e-4),\n",
    "              metrics=['accuracy'])"
   ]
  },
  {
   "cell_type": "code",
   "execution_count": 63,
   "metadata": {},
   "outputs": [
    {
     "name": "stdout",
     "output_type": "stream",
     "text": [
      "Epoch 1/10\n",
      "250/250 [==============================] - 13s 30ms/step - loss: 0.6199 - accuracy: 0.0212 - val_loss: 0.1561 - val_accuracy: 0.0198\n",
      "Epoch 2/10\n",
      "250/250 [==============================] - 6s 22ms/step - loss: 0.1646 - accuracy: 0.0545 - val_loss: 0.1289 - val_accuracy: 0.1135\n",
      "Epoch 3/10\n",
      "250/250 [==============================] - 6s 22ms/step - loss: 0.1407 - accuracy: 0.0794 - val_loss: 0.1227 - val_accuracy: 0.0979\n",
      "Epoch 4/10\n",
      "250/250 [==============================] - 6s 22ms/step - loss: 0.1343 - accuracy: 0.0867 - val_loss: 0.1208 - val_accuracy: 0.0969\n",
      "Epoch 5/10\n",
      "250/250 [==============================] - 6s 22ms/step - loss: 0.1281 - accuracy: 0.0864 - val_loss: 0.1196 - val_accuracy: 0.0958\n",
      "Epoch 6/10\n",
      "250/250 [==============================] - 6s 22ms/step - loss: 0.1279 - accuracy: 0.0963 - val_loss: 0.1190 - val_accuracy: 0.0906\n",
      "Epoch 7/10\n",
      "250/250 [==============================] - 6s 22ms/step - loss: 0.1266 - accuracy: 0.0933 - val_loss: 0.1189 - val_accuracy: 0.0948\n",
      "Epoch 8/10\n",
      "250/250 [==============================] - 6s 23ms/step - loss: 0.1246 - accuracy: 0.0964 - val_loss: 0.1186 - val_accuracy: 0.0958\n",
      "Epoch 9/10\n",
      "250/250 [==============================] - 6s 23ms/step - loss: 0.1248 - accuracy: 0.0880 - val_loss: 0.1184 - val_accuracy: 0.0906\n",
      "Epoch 10/10\n",
      "250/250 [==============================] - 6s 24ms/step - loss: 0.1242 - accuracy: 0.0914 - val_loss: 0.1183 - val_accuracy: 0.0958\n"
     ]
    }
   ],
   "source": [
    "history = model.fit(train_dataset, epochs=10,\n",
    "                    validation_data=test_dataset,\n",
    "                    validation_steps=30\n",
    "                   )"
   ]
  },
  {
   "cell_type": "code",
   "execution_count": 31,
   "metadata": {},
   "outputs": [
    {
     "name": "stdout",
     "output_type": "stream",
     "text": [
      "32/32 [==============================] - 2s 53ms/step - loss: 0.1196 - accuracy: 0.0820\n",
      "Test Loss: 0.11957009136676788\n",
      "Test Accuracy: 0.0820000022649765\n"
     ]
    }
   ],
   "source": [
    "test_loss, test_acc = model.evaluate(test_dataset)\n",
    "\n",
    "print('Test Loss:', test_loss)\n",
    "print('Test Accuracy:', test_acc)"
   ]
  },
  {
   "cell_type": "code",
   "execution_count": 32,
   "metadata": {},
   "outputs": [
    {
     "data": {
      "text/plain": [
       "(0.0, 0.6043519366532564)"
      ]
     },
     "execution_count": 32,
     "metadata": {},
     "output_type": "execute_result"
    },
    {
     "data": {
      "image/png": "[encoded data removed]",
      "text/plain": [
       "<Figure size 1152x576 with 2 Axes>"
      ]
     },
     "metadata": {
      "needs_background": "light"
     },
     "output_type": "display_data"
    }
   ],
   "source": [
    "plt.figure(figsize=(16, 8))\n",
    "plt.subplot(1, 2, 1)\n",
    "plot_graphs(history, 'accuracy')\n",
    "plt.ylim(None, 1)\n",
    "plt.subplot(1, 2, 2)\n",
    "plot_graphs(history, 'loss')\n",
    "plt.ylim(0, None)"
   ]
  },
  {
   "cell_type": "code",
   "execution_count": null,
   "metadata": {},
   "outputs": [],
   "source": []
  }
 ],
 "metadata": {
  "kernelspec": {
   "display_name": "Python 3",
   "language": "python",
   "name": "python3"
  },
  "language_info": {
   "codemirror_mode": {
    "name": "ipython",
    "version": 3
   },
   "file_extension": ".py",
   "mimetype": "text/x-python",
   "name": "python",
   "nbconvert_exporter": "python",
   "pygments_lexer": "ipython3",
   "version": "3.7.9"
  }
 },
 "nbformat": 4,
 "nbformat_minor": 4
}
