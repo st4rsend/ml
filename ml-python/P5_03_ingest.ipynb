{
 "cells": [
  {
   "cell_type": "markdown",
   "metadata": {},
   "source": [
    "# Ingest\n",
    "- [Parsing](#bs4-parsing)</BR>\n",
    "- [Labelling](#Labelling)</BR>\n",
    "- [Stemming](#Stemming)</BR>\n",
    "- [Lemmatization](#Lemmatization)</BR>\n",
    "- [Corpus](#Corpus)</BR>\n",
    "- [Count vectorizer](#Count-vectorizer)</BR>\n",
    "- [Tfidf vectorizer](#Tfidf-vectorizer)</BR>"
   ]
  },
  {
   "cell_type": "code",
   "execution_count": 1,
   "metadata": {},
   "outputs": [
    {
     "name": "stderr",
     "output_type": "stream",
     "text": [
      "[nltk_data] Downloading package wordnet to\n",
      "[nltk_data]     C:\\Users\\vince\\AppData\\Roaming\\nltk_data...\n",
      "[nltk_data]   Package wordnet is already up-to-date!\n",
      "[nltk_data] Downloading package punkt to\n",
      "[nltk_data]     C:\\Users\\vince\\AppData\\Roaming\\nltk_data...\n",
      "[nltk_data]   Package punkt is already up-to-date!\n",
      "[nltk_data] Downloading package stopwords to\n",
      "[nltk_data]     C:\\Users\\vince\\AppData\\Roaming\\nltk_data...\n",
      "[nltk_data]   Package stopwords is already up-to-date!\n",
      "[nltk_data] Downloading package averaged_perceptron_tagger to\n",
      "[nltk_data]     C:\\Users\\vince\\AppData\\Roaming\\nltk_data...\n",
      "[nltk_data]   Package averaged_perceptron_tagger is already up-to-\n",
      "[nltk_data]       date!\n"
     ]
    }
   ],
   "source": [
    "import importlib\n",
    "import os\n",
    "from joblib import dump, load\n",
    "import re\n",
    "\n",
    "import numpy as np\n",
    "import pandas as pd\n",
    "\n",
    "from bs4 import BeautifulSoup\n",
    "\n",
    "from nltk import download as nltk_download\n",
    "from nltk import tokenize, RegexpTokenizer, pos_tag\n",
    "from nltk.corpus import stopwords, wordnet\n",
    "'''Bird, Steven, Edward Loper and Ewan Klein (2009), Natural Language Processing with Python. O’Reilly Media Inc.'''\n",
    "from nltk.stem import WordNetLemmatizer\n",
    "nltk_download('wordnet') \n",
    "nltk_download('punkt')\n",
    "nltk_download('stopwords')\n",
    "nltk_download('averaged_perceptron_tagger')\n",
    "\n",
    "from sklearn.feature_extraction.text import CountVectorizer, TfidfVectorizer\n",
    "\n",
    "import ml.explo as mlexplo\n",
    "import ml.prepare as mlprepare\n",
    "\n",
    "from nltk.stem.snowball import SnowballStemmer\n",
    "\n",
    "data_path = \"..\\\\data\\\\stackoverflow\\\\\"\n",
    "model_path = data_path + \"models\\\\\"\n",
    "\n",
    "np.set_printoptions(precision=2, suppress=True)\n",
    "pd.options.display.float_format = \"{:,.2f}\".format"
   ]
  },
  {
   "cell_type": "code",
   "execution_count": 2,
   "metadata": {},
   "outputs": [],
   "source": [
    "# data_filename = \"OC_DS_P6.csv\"\n",
    "data_csv_1 = 'OC_ML_P5_2006_2009.csv'\n",
    "data_csv_2 = 'OC_ML_P5_2010_2102.csv'\n",
    "data_csv_test = 'OC_ML_P5_TEST.csv' \n",
    "tags_filename = \"Stackoverflow_top_tags.csv\""
   ]
  },
  {
   "cell_type": "markdown",
   "metadata": {},
   "source": [
    "# bs4 parsing\n",
    "- [Toc](#Ingest)"
   ]
  },
  {
   "cell_type": "code",
   "execution_count": 3,
   "metadata": {},
   "outputs": [],
   "source": [
    "def apply_bs4(raw_text):\n",
    "#     return '. '.join(\n",
    "#         [x.find(text=True)\n",
    "#          for x in BeautifulSoup(raw_text, 'html.parser').find_all('p')\n",
    "#          if x.find(text=True)]\n",
    "    soup = BeautifulSoup(raw_text, 'html.parser')\n",
    "    # getting rid of programming language identification for now,\n",
    "    # could rely on guesslang package but conflict with tensorflow installed version and \n",
    "    # don't wanna downgrade, therefore code stored in dedicated variable for futur use.\n",
    "    code = \"\"\n",
    "    for s in soup.find_all('code'):\n",
    "        code = code + s.get_text()\n",
    "        s.extract()\n",
    "    return re.sub(r'\\n+', ' ', soup.get_text()).strip(), re.sub(r'\\n+', ' ', code).strip()\n",
    "        \n",
    "def apply_tags(raw_text):\n",
    "    return [ tag.name for tag in BeautifulSoup(raw_text, 'html.parser').find_all() if tag.name in valid_tags ]"
   ]
  },
  {
   "cell_type": "code",
   "execution_count": 4,
   "metadata": {
    "scrolled": true,
    "tags": []
   },
   "outputs": [],
   "source": [
    "df_tags = pd.read_csv(data_path + tags_filename)\n",
    "valid_tags = df_tags['TagName'].tolist()\n",
    "nltk_stop_words = set(stopwords.words('english') + \n",
    "    # Remove after stemming and lemmatization top words frequencies analysis\n",
    "    ['use', 'try', 'way', 'want', 'would', 'need', 'one', '1', '2' ] +\n",
    "    # Remove after NMF analysis\n",
    "    ['something', 'desire', 'follow ', 'help', 'please', 'however', 'follow', 'code' ])\n",
    "\n",
    "\n",
    "init_bs4 = False\n",
    "if init_bs4:\n",
    "    df_csv_1 = pd.read_csv(data_path + data_csv_1)\n",
    "    df_csv_1['Bs4_Body'], df_csv_1['Code'] = zip(*df_csv_1['Body'].apply(apply_bs4))\n",
    "    df_csv_1['Bs4_Tags'] = df_csv_1['Tags'].apply(apply_tags)\n",
    "\n",
    "    df_csv_2 = pd.read_csv(data_path + data_csv_2)\n",
    "    df_csv_2['Bs4_Body'], df_csv_2['Code'] = zip(*df_csv_2['Body'].apply(apply_bs4))\n",
    "    df_csv_2['Bs4_Tags'] = df_csv_2['Tags'].apply(apply_tags)\n",
    "    \n",
    "    df_bs4_test = pd.read_csv(data_path + data_csv_test)\n",
    "    df_bs4_test['Bs4_Body'], df_bs4_test['Code'] = zip(*df_bs4_test['Body'].apply(apply_bs4))\n",
    "    df_bs4_test['Bs4_Tags'] = df_bs4_test['Tags'].apply(apply_tags)\n",
    "\n",
    "    df_bs4 = pd.concat([df_csv_1,df_csv_2], ignore_index=True)\n",
    "    df_bs4.to_pickle(data_path + 'bs4.pkl')\n",
    "    df_bs4_test.to_pickle(data_path + 'bs4_test.pkl')\n",
    "else:\n",
    "    df_bs4 = pd.read_pickle(data_path + 'bs4.pkl')\n",
    "    df_bs4_test = pd.read_pickle(data_path + 'bs4_test.pkl')"
   ]
  },
  {
   "cell_type": "markdown",
   "metadata": {},
   "source": [
    "# Labelling\n",
    "- [Toc](#Ingest)"
   ]
  },
  {
   "cell_type": "code",
   "execution_count": 5,
   "metadata": {},
   "outputs": [],
   "source": [
    "def filter_top_tags(df, column, count=10, default=None):\n",
    "    top_tags = mlprepare.prepare_multi_label(df_full_tags,'Bs4_Tags')[:count]\n",
    "    ret = df[column].apply(lambda cell: [x for x in cell if x in top_tags])\n",
    "    if default:\n",
    "        ret = ret.apply(lambda cell: cell if len(cell)>0 else ['other'])\n",
    "    return ret"
   ]
  },
  {
   "cell_type": "code",
   "execution_count": 6,
   "metadata": {},
   "outputs": [],
   "source": [
    "init_labels = False\n",
    "df_bs4 = pd.read_pickle(data_path + 'bs4.pkl')\n",
    "df_bs4_test = pd.read_pickle(data_path + 'bs4_test.pkl')\n",
    "df_full_tags = pd.DataFrame(pd.concat([df_bs4['Bs4_Tags'],df_bs4_test['Bs4_Tags']]))\n",
    "\n",
    "if(init_labels):\n",
    "    df_top = pd.DataFrame()\n",
    "    df_top['Tags_T100'] = filter_top_tags(df_bs4, 'Bs4_Tags', count=100, default='other')\n",
    "    df_top['Tags_T50'] = filter_top_tags(df_bs4, 'Bs4_Tags', count=50, default='other')\n",
    "    df_top['Tags_T10'] = filter_top_tags(df_bs4, 'Bs4_Tags', count=10, default='other')\n",
    "    df_top.to_pickle(data_path + 'Top_Tags.pkl')\n",
    "\n",
    "    df_top_test = pd.DataFrame()\n",
    "    df_top_test['Tags_T100'] = filter_top_tags(df_bs4_test, 'Bs4_Tags', count=100, default='other')\n",
    "    df_top_test['Tags_T50'] = filter_top_tags(df_bs4_test, 'Bs4_Tags', count=50, default='other')\n",
    "    df_top_test['Tags_T10'] = filter_top_tags(df_bs4_test, 'Bs4_Tags', count=10, default='other')\n",
    "    df_top_test.to_pickle(data_path + 'Top_Tags_test.pkl')\n",
    "\n",
    "else:\n",
    "    df_top = pd.read_pickle(data_path + 'Top_Tags.pkl')\n",
    "    df_top_test = pd.read_pickle(data_path + 'Top_Tags_test.pkl')"
   ]
  },
  {
   "cell_type": "markdown",
   "metadata": {},
   "source": [
    "# Stemming\n",
    "- [Toc](#Ingest)"
   ]
  },
  {
   "cell_type": "code",
   "execution_count": 7,
   "metadata": {},
   "outputs": [],
   "source": [
    "def nltk_stop_stemmer(row):\n",
    "#     title_tokens = tokenizer.tokenize(row['Title'].lower())\n",
    "    title_tokens = [ stemmer.stem(w) for w in tokenizer.tokenize(row['Title'].lower()) if stemmer.stem(w) not in nltk_stop_words ] \n",
    "    body_tokens = [ stemmer.stem(w) for w in tokenizer.tokenize(row['Bs4_Body'].lower()) if stemmer.stem(w) not in nltk_stop_words ]\n",
    "    return title_tokens, body_tokens"
   ]
  },
  {
   "cell_type": "code",
   "execution_count": 8,
   "metadata": {},
   "outputs": [],
   "source": [
    "init_stem = False\n",
    "if init_stem:\n",
    "    tokenizer = RegexpTokenizer(r'\\w+')\n",
    "    stemmer = SnowballStemmer(\"english\")\n",
    "\n",
    "    df_stop_stem = pd.DataFrame()\n",
    "    df_stop_stem = df_bs4.apply(nltk_stop_stemmer, axis=1, result_type='expand')\n",
    "    df_stop_stem.columns=['Title', 'Body']\n",
    "    df_stop_stem.to_pickle(data_path + 'nltk_stop_stem.pkl')\n",
    "\n",
    "    df_stop_stem_test = pd.DataFrame()\n",
    "    df_stop_stem_test = df_bs4_test.apply(nltk_stop_stemmer, axis=1, result_type='expand')\n",
    "    df_stop_stem_test.columns=['Title', 'Body']\n",
    "    df_stop_stem_test.to_pickle(data_path + 'nltk_stop_stem_test.pkl')\n",
    "else:\n",
    "    df_stop_stem = pd.read_pickle(data_path + 'nltk_stop_stem.pkl')\n",
    "    df_stop_stem_test = pd.read_pickle(data_path + 'nltk_stop_stem_test.pkl')"
   ]
  },
  {
   "cell_type": "code",
   "execution_count": 9,
   "metadata": {},
   "outputs": [
    {
     "data": {
      "text/plain": [
       "(96420, 3)"
      ]
     },
     "execution_count": 9,
     "metadata": {},
     "output_type": "execute_result"
    }
   ],
   "source": [
    "df_top.shape"
   ]
  },
  {
   "cell_type": "code",
   "execution_count": 10,
   "metadata": {
    "scrolled": true,
    "tags": []
   },
   "outputs": [
    {
     "data": {
      "text/plain": [
       "['panda pivot datafram valu function two column',\n",
       " 'polymorph function paramet',\n",
       " 'loop list dictionari condit key exist',\n",
       " 'cpqueri function sever pair dataset',\n",
       " 'split number delimit ani non numer string',\n",
       " 'increas clickabl area imageview',\n",
       " 'make work function insid statement',\n",
       " 'check row panda seri contain string list appli',\n",
       " 'zero enum valu indic invalid valu',\n",
       " 'tri segment charact opencv ilumin problem',\n",
       " 'add new key dictionari base condit match two exist dict key valu python',\n",
       " 'voxel cone trace defer pipelin',\n",
       " 'assign empti initi vector unique_ptr',\n",
       " 'custom legend marker size matplotlib lambda function',\n",
       " 'show proccess output text box frame python tkinter',\n",
       " 'restrict s3 sub folder level bucket polici privat public',\n",
       " 'whi mousedown event trigger mouseup event',\n",
       " 'python nan return panda resampl function',\n",
       " 'wait ajax respons',\n",
       " 'convert list insid tupl ad tupl',\n",
       " 'find first dupe across axi base key row',\n",
       " 'chang window size new window termin',\n",
       " 'googl sheet dget function match case data exist',\n",
       " 'flask docker unabl detect flask_env',\n",
       " 'remov empti row within datafram check similar',\n",
       " 'compil linux kernel sse enabl',\n",
       " 'kubernet certif alway disappear hour',\n",
       " 'subscript done plain websocket',\n",
       " 'appli lifecycl patter aw elasticsearch mani index',\n",
       " 'differ access data azur data share azur sql databas',\n",
       " 'like sqldf r search text multipl datafram',\n",
       " 'pass chain paramet multipl time curri',\n",
       " 'swiftui convert imag jpeg data',\n",
       " 'pg promis quick delet set tupl',\n",
       " 'label valu beyond threshold plot type h',\n",
       " 'store pixel valu 50 imag insid vector',\n",
       " 'convert timestamp datetim firebas flutter',\n",
       " 'build dict key valu pair list',\n",
       " 'dispos method get call',\n",
       " 'import dynam load compon react',\n",
       " 'make compon popup modal appear onli onc react hook otherwis react next js',\n",
       " 'whi output typeid name given instead',\n",
       " 'call multibytetowidechar 64 bit offic give wrong result',\n",
       " 'make list dictionari',\n",
       " 'materi date rang picker select color format',\n",
       " 'behind scene aync await ident normal function',\n",
       " 'c print null charact c nest printf statement',\n",
       " 'mersenne_twister_engin serial boost',\n",
       " 'get sign offic 365 user id',\n",
       " 'add valu two tabl base combin column',\n",
       " 'thread wait time',\n",
       " 'django model relationship circular relationship',\n",
       " 'activ access fragment know button press',\n",
       " 'paypal checkout allow creation order subscript onli client id',\n",
       " 'get current day number awk date',\n",
       " 'legal c comment latex equat c comment',\n",
       " 'f downcast array without reflect',\n",
       " 'azur blob storag versus azur file share',\n",
       " 'drag item qlistwidget drop qplaintextedit',\n",
       " 'angular 9 interceptor cyclic depend inject lazi load servic',\n",
       " 'css transform perspect rotatex transit rapid hover glitch',\n",
       " 'avoid multipl call databas c ef core',\n",
       " 'wildcard oper file readalllin method',\n",
       " 'multipl map type object key valu onli valu union',\n",
       " 'number split',\n",
       " 'flutter show circularprogressind within rflutter_alert dialog',\n",
       " 'counter increas async map function',\n",
       " 'pars name phone differ contain webpag',\n",
       " 'dynamodb tabl queri keyconditionexpress error',\n",
       " 'beauti soup decod html json data script object',\n",
       " 'error link custom dynam librari rust',\n",
       " 'whi firestor onwrit trigger get invok firebas cloud function emul',\n",
       " 'export data r mysql server',\n",
       " 'mongodb mongoos findoneandupd await doe wait a3 run befor a2',\n",
       " 'add ssd storag aw ec2 reserv instanc',\n",
       " 'join two datafram condit pyspark',\n",
       " 'whi doe wrap alloc constructor take wrong type dure templat substitut perfect forward ctor',\n",
       " 'angular export excel excelj error ts2307 cannot find modul stream error ts2503 cannot find namespac nodej',\n",
       " 'add specif word new column valu list within column',\n",
       " 'return header column match criteria everi row panda datafram',\n",
       " 'turn log winston jest',\n",
       " 'chrome version 83 releas file download modal dialog work',\n",
       " 'error unsatisfi constraint flow miss alpin linux',\n",
       " 'stream bitmap modifi c',\n",
       " 'avoid handl messag child class symfoni messeng',\n",
       " 'chang textpaint flutter',\n",
       " 'prime number upto 10 8 siev',\n",
       " 'simpl refer member variabl base class templat',\n",
       " 'assert type paramet dynam const constructor dart',\n",
       " 'r function calcul cumul differ',\n",
       " 'typescript object possibl null focus ref react',\n",
       " 'doe declar vector size offer ani improv push_back c',\n",
       " 'get file count particular extens go',\n",
       " 'ani unhandledexcept caught combobox inotifypropertychang button doe',\n",
       " 'cabal instal gving errror licens openbinaryfil doe exist file directori',\n",
       " 'c 11 thread mutex see atom variabl valu chang despit onli chang',\n",
       " 'creat column start date end date given date record',\n",
       " 'delet blank row row onli empti',\n",
       " 'pass azur devop releas pipelin classic editor output variabl multipl job stage multipl stage outsid',\n",
       " 'unabl access suspend dao function coroutinescop launch',\n",
       " 'json attribut toggl swiftui list',\n",
       " 'cfile cstdiofil produc differ result write read',\n",
       " 'merg column mongo',\n",
       " 'flag squar number work whi',\n",
       " 'extract specif pattern html beautifulsoup',\n",
       " 'repeat previous valu date hive',\n",
       " 'flip function implement javascript',\n",
       " 'resolv generic type method pass via deleg',\n",
       " 'custom jcompon line show jpanel',\n",
       " 'link listview element firebas object',\n",
       " 'send jqueri rang slider min max valu php',\n",
       " 'java char byte back convert wrong utf 8',\n",
       " 'determin mous random spawn object',\n",
       " 'sql loop row sum amount column valu reach',\n",
       " 'std async non static member function',\n",
       " 'creat type parametr abstract type f',\n",
       " 'legend visibl d3 js pie chart',\n",
       " 'extern font doe load link load insid shadowdom',\n",
       " 'whi compil optim float point addit 0',\n",
       " 'befor run saga must mount saga middlewar store applymiddlewar redux tool',\n",
       " 'get actor appear r rate film',\n",
       " 'put name datafram store list column name datafram',\n",
       " 'optim tcp server go',\n",
       " 'get radio button valu number',\n",
       " 'mock jooq select request',\n",
       " 'advantag upper bound subtyp scala',\n",
       " 'error plot_model type diag argument impli differ number row error',\n",
       " 'possibl network plugin kubernet cluster',\n",
       " 'kera hot encod logit match label loss function',\n",
       " 'python regex function arrang key valu descend order wherein key alphanumer valu digit',\n",
       " 'duplic element tensor perserv gradient valu',\n",
       " 'delet chang display last print perl',\n",
       " 'extract 1st line text special pattern regexp',\n",
       " 'rxjs proper merg two array two seper http stream',\n",
       " 'laravel join tabl relat',\n",
       " 'convert file multipl delimit datafram',\n",
       " 'angular compon direct test',\n",
       " 'react bind prop',\n",
       " 'sympi collect factoris constant term',\n",
       " 'make inno setup runlist checklist box transpar',\n",
       " 'aw athena queri result file fetch s3 bucket',\n",
       " 'initi entiti pass object typeorm',\n",
       " 'cover test button click angular stackblitz attach',\n",
       " 'c oper self assign check',\n",
       " 'p5 js custom rotat behavior problem',\n",
       " 'whi box plot narrow colour plot',\n",
       " 'get witch valu specif enum pass method',\n",
       " 'remov h extens user defin c header file',\n",
       " 'retain uniqu combin list tupl python',\n",
       " 'ad text beneath column 4x4 css grid',\n",
       " 'snake case without explicit configur depend circ',\n",
       " 'regex string two word',\n",
       " 'deseri dynam object json type content c',\n",
       " 'angular ngrx get display list option java api',\n",
       " 'get offset locat javascript',\n",
       " 'add custom rule pars quarter sutim',\n",
       " 'find transpos element list separ python',\n",
       " 'creat collaps tabl jsp',\n",
       " 'understand uiviewrepresent',\n",
       " 'weldcontain secontain',\n",
       " 'provid name instanc creat aw ec2 java aw sdk',\n",
       " 'check stdin white space',\n",
       " 'c linq express get rather long',\n",
       " 'paypal webhook verif java sdk',\n",
       " 'pairwis intersect count multipl column sql',\n",
       " 'error dereferenc pointer incomplet type c languag',\n",
       " 'migrat exist contain hyper v wsl2 technolog',\n",
       " 'doe java support hotswap annot',\n",
       " 'show transpar dialog flutter',\n",
       " 'panda chang valu negat specif condit particular group valu',\n",
       " 'jpa repositori special word like work',\n",
       " 'loop nxn grid cell base proxim certain cell',\n",
       " 'sort array object base anoth object',\n",
       " 'return react compon object valu bind prop',\n",
       " 'get corner item current css grid layout expand hover',\n",
       " 'add new class without reset previous react',\n",
       " 'whi scroll past parallax without move mous first',\n",
       " 'deleg protocol vc connect',\n",
       " 'groupbi random sampl base column valu',\n",
       " 'kotlin firebas realtim databas transact error',\n",
       " 'read first row datafram data row header',\n",
       " 'p5 js ellips mousex',\n",
       " 'uniqu valu dictionari comprehens return dictionari instread string',\n",
       " 'java stream filter nest object return top level field',\n",
       " 'creat custom merg strategi',\n",
       " 'clip threshold tensor condit zero pad result pytorch',\n",
       " 'magrittr numer formula',\n",
       " 'mark duplic row add rang number duplic row python 3 6',\n",
       " 'insert book onli alreadi taken sqlite databas',\n",
       " 'clear order first django',\n",
       " 'associ filter two relat array',\n",
       " 'java best grab string two regex',\n",
       " 'dynam display photo item hide carousel onli photo',\n",
       " 'chang stylesheet button click specif element onli',\n",
       " 'multipl fetch call fetchmock userev click within test react test librari',\n",
       " 'spinner receiv data parenthes',\n",
       " 'delet last observ row r',\n",
       " 'doe aw api gateway charg user',\n",
       " 'better avoid cannot mutat member immut var',\n",
       " 'android materi toolbar surfac color look differ two differ toolbar',\n",
       " 'prevent websit detect fiddler',\n",
       " 'dispali svg option select reactj',\n",
       " 'whi k mean algorithm prefer kruskal algorithm cluster',\n",
       " 'whi jqueri click event listen regist woocommerc button',\n",
       " 'pull list imag firebas storag',\n",
       " 'ingest port seq serilog',\n",
       " 'compar first word page titl array javascript',\n",
       " 'angular 9 materi dialog return undefin close',\n",
       " 'key error regex quantifi python',\n",
       " 'mongodb push valu array reduc',\n",
       " 'downscal imag without lose discret valu',\n",
       " 'whi doe c std hash creat functor struct call without creat struct time',\n",
       " 'observ string ngif direct',\n",
       " 'display modal base page url',\n",
       " 'condit work check input type int',\n",
       " 'better write kotlin',\n",
       " 'doe pytorch loss backward work retain_graph true specifi',\n",
       " 'disabl form submit button user check recaptcha checkbox',\n",
       " 'panda datafram split start specif column',\n",
       " 'panda concentr valu list first cell column first row',\n",
       " 'loop creat multipl column anoth column datafram r',\n",
       " 'javascript pars html string recogn part',\n",
       " 'tkinter thread method',\n",
       " 'best compar nullabl datetimeoffset variabl',\n",
       " 'bar chart bar two differ datafram',\n",
       " 'problem django authent function',\n",
       " 'phpunit assertdataha array',\n",
       " 'whi doe typeid x typeid evalu true x id express type respect',\n",
       " 'troubl fit gaussian fit lmfit due data valu appear small',\n",
       " 'test compon api call react',\n",
       " 'typescript groupbi cannot index type tri add key reduc object',\n",
       " 'fill valu python dictionari',\n",
       " 'draw ellips opengl mvp',\n",
       " 'pyspark add new column base upon substr exist column',\n",
       " 'compil torch 5 0 without gpu support',\n",
       " 'ad new column base valu anoth column panda',\n",
       " 'subtract sql',\n",
       " 'aw boto3 ec2 start stop autom',\n",
       " 'condit sum multipl panda group defin set overlap column valu',\n",
       " 'unsupport media type 415 postman work fine',\n",
       " 'iter nest json object append data variabl',\n",
       " 'r replic alter datafram base list match name loop',\n",
       " 'tkinter see bind widget',\n",
       " 'sql queri syntax laravel control',\n",
       " 'plot base group',\n",
       " 'get path mp3 raw resourc uri',\n",
       " 'whi integ check number integ',\n",
       " 'captur select column array',\n",
       " 'css background imag w rotat repeat opac',\n",
       " 'sql xml updategram run ado net',\n",
       " 'safariviewcontrollerdidfinish doe fire swipe dismiss',\n",
       " 'subtract fix date whole panda data frame python',\n",
       " 'node postgresql error connect econnrefus 127 0 0 5432 tcpconnectwrap afterconnect oncomplet net js 1141 16',\n",
       " 'could evalu multipl line loop java assert statement',\n",
       " 'loop dynam templat paramet azur devop yaml',\n",
       " 'call click event react geo chart',\n",
       " 'sscanf wildcard multi string return first string right',\n",
       " 'postgr alter jsonb valu type element array',\n",
       " 'counter click number increas',\n",
       " 'panda count occur valu dictionari',\n",
       " 'make name function oper special',\n",
       " 'resampl datafram month daili',\n",
       " 'vsts tfvc cli oracl develop',\n",
       " 'discord py sort messag id json file user',\n",
       " 'n1ql join aggreg addit valu',\n",
       " 'r if_els timezon forc',\n",
       " 'combin unit test multipl project docker imag azur devop pipelin',\n",
       " 'blazor pass event target javascript',\n",
       " 'updat join panda python',\n",
       " 'center rotat text td',\n",
       " 'valu queryset popul templat tag django',\n",
       " 'fastest get word middl sentenc three manipul string',\n",
       " 'r exam defin question numer answer possibl correct answer',\n",
       " 'extract row valu column equal data frame r',\n",
       " 'python plot uniqu color 10 line',\n",
       " 'rang check c 14 user defin liter',\n",
       " 'whi pygam game tile map lag',\n",
       " 'pars nest array data',\n",
       " 'import librari type properti',\n",
       " 'calcut mean time differ date',\n",
       " 'call parent method insid super __init__ method overriden child',\n",
       " 'select random string list result column popul null sql',\n",
       " 'iter firedac tfdparam delphi',\n",
       " 'travers instanc look like tree datatyp nest mayb valu',\n",
       " 'problem solv interview question',\n",
       " 'pars json array new line correct streamdecksdk',\n",
       " 'combin multipl datafram valu set common column valu',\n",
       " 'append field psql jsonb array',\n",
       " 'merg two tabel',\n",
       " 'scala spark access valu struct array type column access member anonym struct type column',\n",
       " 'creat df df base condit',\n",
       " 'whi doe remov async await caus convers error task task object',\n",
       " 'warn build rakudo window',\n",
       " 'put util function angular',\n",
       " 'convert list string comma separ string without duplic',\n",
       " 'multipl condit regex awk command',\n",
       " 'vue js search nest array',\n",
       " 'recurs depth function array',\n",
       " 'generat correl random sampl',\n",
       " 'firebas secur rule ruleset old version current version',\n",
       " 'postgresql convert string ascii integ',\n",
       " 'match tabl 3 column return first ocurr second column first non valu third',\n",
       " 'aw dynamodb updat specif map list net',\n",
       " 'regular express abbrevi keyword variat',\n",
       " 'js whi loop iter condit b work b b true',\n",
       " 'play video img click',\n",
       " 'restructur specif panda datafram',\n",
       " 'display special charact pipe dilemet',\n",
       " 'unit measur dimens given edg attribut osmnx',\n",
       " 'iter string inputstream byte',\n",
       " 'get valu first key valu pair python',\n",
       " 'unpack zip object caus valueerror',\n",
       " 'execut collect group queri specif firestor collect',\n",
       " 'beautifulsoup html ignor h3 class',\n",
       " 'open link vscode creat new web browser icon vscode',\n",
       " 'creat sql tabl key item loop list python',\n",
       " 'swiftui timer publish caus whole screen refresh',\n",
       " 'post method react redux',\n",
       " 'evalu order ternari oper increment',\n",
       " 'updat valu json element postgresql',\n",
       " 'find two point form closest distanc two rectangl',\n",
       " 'render razor page razorviewtostringrender servicestack',\n",
       " 'get text format clipboard time',\n",
       " 'get 0 count output',\n",
       " 'overrid python modul default log level',\n",
       " 'function calcul euclidean distanc c',\n",
       " 'intentservic deprec replac jobintentservic',\n",
       " 'whi doe return true dimension list contain cite valu inner list',\n",
       " 'color label python',\n",
       " 'whi makefil call function',\n",
       " 'comput minimum panda data frame column without creat temporari column',\n",
       " 'obtain max valu n period everi row base valu anoth column datafram',\n",
       " 'check string queryset within django templat',\n",
       " 'python csv modul vs panda',\n",
       " 'output largest number keyset sever number',\n",
       " 'compil time detect miss user defin to_str',\n",
       " 'azur app servic deploy task option remov file contain upon deploy',\n",
       " 'ae gcm 256 decrypt fail even correct data',\n",
       " 'verilog time clock input output issu',\n",
       " 'perform side effect publish',\n",
       " 'tensorflow kera find categori given string',\n",
       " 'doe differ hardwar spec differ node cassandra caus problem',\n",
       " 'move shortcut googl drive',\n",
       " 'scrape similar name tabl rvest',\n",
       " 'ad new column base multipl conditio',\n",
       " 'access intern function r packag rpy2',\n",
       " 'realtim search onli column mysql without ani plugin',\n",
       " 'get label given level factor r',\n",
       " 'python qt findchildren doe find ani children ui file',\n",
       " 'array type',\n",
       " 'divid tabl page without bootstrap',\n",
       " 'elasticsearch sort document index valu search string text field',\n",
       " 'ihttpclientfactori chang base httpclient baseaddress',\n",
       " 'set key valu default state typescript react app',\n",
       " 'cmake compil c cuda',\n",
       " 'convers sign int sign char',\n",
       " 'r arul item frequenc plot rotat axi label',\n",
       " 'c mean cur brace oper',\n",
       " 'function find everi row boolean matrix pytorch',\n",
       " 'discard refer softrefer clear still put referencequeu',\n",
       " 'count cycl alphabet letter python',\n",
       " 'roc curv ggplot calcul r',\n",
       " 'asp net host close connect',\n",
       " 'possibl explain whi return 21',\n",
       " 'differ self self object particular tkinter class',\n",
       " 'extract portion datfram column creat anoth column extract',\n",
       " 'highchart instanc creat angular life cycl hook',\n",
       " 'ani emul inlin let express javascript',\n",
       " 'abl includ cpp file',\n",
       " 'java 8 zoneddatetim format date',\n",
       " 'better summar multipl group datafram',\n",
       " 'add birthday field account admin user page',\n",
       " 'python panda find file numpi',\n",
       " 'interpret dplyr messag summaris regroup output x overrid group argument',\n",
       " 'bash copi file extens root current folder except whose filenam contain certain string',\n",
       " 'specifi correct return type sqlitedatabas queri',\n",
       " 'plot select line hdf5 file format matplotlib',\n",
       " 'percentil exclud 0 googl sheet',\n",
       " 'perspect project polygon opengl',\n",
       " 'split css grid column 3 specif row',\n",
       " 'revers multilabelbinar creat list within column',\n",
       " 'iter numpi array row python even row column array',\n",
       " 'gas error 401 connect api',\n",
       " 'remov check constraint',\n",
       " 'differ min content max content css grid row',\n",
       " 'virtual overload oper',\n",
       " 'understand access dimension array c',\n",
       " 'django read question mark django url',\n",
       " 'type getter properti typescript union',\n",
       " 'calcul jaccard index python',\n",
       " 'get npm packag name import regex relat path',\n",
       " 'check file exist azur blob contain',\n",
       " 'combin frame overlap data r',\n",
       " 'make enter lower upper cap exampl sin sin tan tan',\n",
       " 'swiftui invers anim delay remov',\n",
       " 'pars string multipl underscor dash',\n",
       " 'deep stub scala',\n",
       " 'f interfac cast within lambda express',\n",
       " 'ad firebas databas keep run maximum capac get onli add run',\n",
       " 'left void',\n",
       " 'remov emoji user list python punctuat nlp problem emoji function doe work',\n",
       " 'simplifi rail method nest variabl',\n",
       " 'perform union set differ row column datafram',\n",
       " 'export rsa key pair webcrypto chromium',\n",
       " 'write function c fail due bad file descript',\n",
       " 'py2app place pil dylib zip file',\n",
       " 'teardown function modul scope base run test result',\n",
       " 'sheet present swiftui text color interact ui element chang systemblu',\n",
       " 'mongoerror unrecogn pipelin stage name expr divid expr aggreg',\n",
       " 'aw cloudwatch rule trigger log event',\n",
       " 'qt concurr map member function',\n",
       " 'tooltip display top without affect height width contain',\n",
       " 'okay github secret public repo',\n",
       " 'plot edit unifi hoverlabel',\n",
       " 'differ aw amplifi react aw amplifi ui react',\n",
       " 'convert larg number mp3 file video youtub jpeg imag',\n",
       " 'find match pair two charact string',\n",
       " 'extend array option equat',\n",
       " 'bitwis oper twice two number work',\n",
       " 'print dlls import pe 64 bit',\n",
       " 'exclud valu equal zero regress line r ggplot',\n",
       " 'refer pointer mathemat oper c',\n",
       " 'display raw array pixel screen',\n",
       " 'd3 transit wait previous',\n",
       " 'find replac text cell googl script googl sheet',\n",
       " 'loop array object return random object valu javascript',\n",
       " 'updat coredata ondelet occur foreach',\n",
       " 'get document filter elasticsearch',\n",
       " 'sum col row valu equal header panda',\n",
       " 'tupl match function call get',\n",
       " 'react spring framer motion laggi firefox',\n",
       " 'keep everi two ident name red click consecut',\n",
       " 'chang touch offset sprite spritekit',\n",
       " 'es6 arrow function vs es5 know function bind es5 non arrow function',\n",
       " 'draft js make editor content multipag',\n",
       " 'divid two list matric ith matrix element list divid ith matrix element second list',\n",
       " 'inlin function forward refer',\n",
       " 'handl ioexcept ad file handler logger class',\n",
       " 'creat parent activ instead continu child activ finish',\n",
       " 'mfc win32 ui autom client sampl',\n",
       " 'adjust onli bottom pad chart titl chart js',\n",
       " 'group item insid anoth group',\n",
       " 'delet element numpi array indeci return scipi spatial kdtree query_ball_point method',\n",
       " 'haskel whi usleep thread compil option precis threaddelay',\n",
       " 'ad x pack enabl elasticsearch behind aw applic load balanc caus health check failur due miss authent',\n",
       " 'check file exist hdfs path',\n",
       " 'zip list space delimit tupl',\n",
       " 'aw delet perman s3 object less 30 day lifecycl rule',\n",
       " 'spirit x3 refer previous match valu',\n",
       " 'run differ version git server',\n",
       " 'cython index numpi array within nogil function',\n",
       " 'mask imag wkwebview subject cor limit',\n",
       " 'object testkit member packag akka',\n",
       " 'replac multipl string number multipl column nan panda',\n",
       " 'proper cancel boost deadline_tim destructor multithread environ',\n",
       " 'r reshap everi row data row base factor singl column',\n",
       " 'concurr writeconflict mongodb nodej',\n",
       " 'pygam bug music play proper loop begin part',\n",
       " 'enemi projectil wont append',\n",
       " 'gnu assembl long declar zero',\n",
       " 'remov element 2d numpi array base list',\n",
       " 'whi work understand whi work c',\n",
       " 'ifels return vector base r',\n",
       " 'edit memori address c',\n",
       " 'react unabl chang state child compon function defin within contain compon',\n",
       " 'understand cassandra pool option setcoreconnectionsperhost setmaxconnectionsperhost',\n",
       " 'display element vector',\n",
       " 'load imag result 404 found webpack',\n",
       " 'convert object string jqueri js html',\n",
       " 'doe python random seed numpi random seed implement differ anoth',\n",
       " 'react context form valid error fail show first time',\n",
       " 'make flexbox cross axi overflow height',\n",
       " 'separ content file column base keyword bash',\n",
       " 'appli column contain polygon polygon shape',\n",
       " 'react hook avoid infinit updat',\n",
       " 'make list non decreas order element list python',\n",
       " 'array resourc xml file order',\n",
       " 'color background png imag',\n",
       " 'python iter nest object',\n",
       " 'get index element array return next element hive',\n",
       " 'resampl datafram first 4 month year sum valu',\n",
       " 'get list last 15 day date sql',\n",
       " 'sasserror argument color darken color amount must color',\n",
       " 'turn 512 x 3 datafram 128 x 4 x 3 matrix r',\n",
       " 'task run vs task factori startnew expect deadlock happen',\n",
       " 'calcul perc panda datafram base row specif condit distinct valu column',\n",
       " 'python pars output amazon rds data servic',\n",
       " 'add marker differ column seaborn panda barplot',\n",
       " 'could object move copi constructor class',\n",
       " 'opposit setfocus',\n",
       " 'pendingint instead intent connectivitymanag connectivityact callback c xamarin api 28',\n",
       " 'jqueri chang css valu div class onli contain checkbox check',\n",
       " 'issu access element hash perl',\n",
       " 'cone box collis',\n",
       " 'count foreach yield differ result',\n",
       " 'pleas overrid option check definit koin android',\n",
       " 'c behaviour deriv class constructor',\n",
       " 'child class overrid constructor ident paramet parent class',\n",
       " 'oracl sql lag function previous row calcul condit',\n",
       " 'differ listview singlechildscrollview flutter',\n",
       " 'show excel sheet chart excel vba userform',\n",
       " 'calcul perc element list valu column panda datafram',\n",
       " 'new volum ec2 instanc reflect',\n",
       " 'postgr full text search tsvector special utf8 charact',\n",
       " 'label date two data frame',\n",
       " 'merg multipl dummi variabl column creat singl categor variabl singl column python',\n",
       " 'pass argument contain space script anoth perl',\n",
       " 'panda modifi multipl datafram loop',\n",
       " 'msal applic request permiss even configur api permiss',\n",
       " 'numpi array_equ float exact equal check',\n",
       " 'c implement class function nest struct outsid',\n",
       " 'creat instanc local variabl rail erb file',\n",
       " 'mongodb findoneandupd aggreg pipelin',\n",
       " 'sql db queri expect 0 argument placehold',\n",
       " 'system text json deseri fail jsonexcept read much enough',\n",
       " 'error typeerror cannot read properti call undefin',\n",
       " 'render atmospher around planet shade',\n",
       " 'raspberri ble encrypt pair',\n",
       " 'check localdatetim given time within 24 hour scala',\n",
       " 'natur sort pyicu',\n",
       " 'filter panda datafram base two column',\n",
       " 'plot histogram color bar color accord valu x axi',\n",
       " 'xamarin form xamarin plugin filepick work io',\n",
       " 'updat claus jooq throw except compar data type',\n",
       " 'r fill new column filter valu group',\n",
       " 'publish build output network share azur devop',\n",
       " 'fix index rang multi dimension view swiftui',\n",
       " 'javafx jlink jpackag modul issu ad librari error occur dure initi boot layer java lang modul findexcept',\n",
       " 'haskel possibl caus appli mani argument',\n",
       " 'joint four singl byte data four byte data entir',\n",
       " 'replac occurr multipl cur bracket',\n",
       " 'android app bundl kill googl play game integr work plain old apk fix',\n",
       " 'whi doe net core di contain inject ilogg',\n",
       " 'laravel seed tabl sever belong relationship factori',\n",
       " 'date differ year pyspark datafram',\n",
       " 'correct fasthttp client combin goroutin',\n",
       " 'valueerror shape none none 6 incompat',\n",
       " 'group_bi get frequent second frequent',\n",
       " 'access return json data control asp net core ajax form',\n",
       " 'share footnot differ part tabl flextabl',\n",
       " 'migrat dart non nullabl nnbd',\n",
       " 'compil time size struct minus pad',\n",
       " 'bigdecim give unexpect result number larger 7 0 decim number',\n",
       " 'show part errorbar line within plot margin ggplot2',\n",
       " 'ani differ chan n chan buffer n',\n",
       " 'copi replac part date field b',\n",
       " 'produc kafka messag json format python',\n",
       " 'edit messag discord py',\n",
       " 'random shuffl letter word sentenc',\n",
       " 'extens method polli polici',\n",
       " 'problem defin int instanc type class haskel',\n",
       " 'get refer firebas imag abl delet',\n",
       " 'check rule java without lot statement',\n",
       " 'doubl space tkinter text widget without extra newlin charact',\n",
       " 'set time jqueri keyup method',\n",
       " 'add frombodi paramet backward compat',\n",
       " 'n1ql count distinct associ document',\n",
       " 'correct version cudnn cuda 11 0',\n",
       " 'rxjs mani subject subscript vs singl subject mani subscript',\n",
       " 'whi doe class refer constructor overload get call rvalu rvalu constructor avail',\n",
       " 'error ng8003 direct found exporta ngform',\n",
       " 'multipli datafram row base datetim condit',\n",
       " 'whi doe g 10 complain name lambda header file',\n",
       " 'multipl line plot amxychart function',\n",
       " 'android navig compon reset start destin configur chang',\n",
       " 'creat db browser style qheaderview pyqt5',\n",
       " 'encod format inform googl sheet excel formula',\n",
       " 'scrape inform insid unord list selenium python',\n",
       " 'index match search differ date valu',\n",
       " 'select row x column nan valu panda',\n",
       " 'react nativ trustkit depend could find com datatheorem truskit trustkit android',\n",
       " 'select onli checkbox multipl checkbox column questionnair style datagridview',\n",
       " 'panda datafram sort_index perform improv sort data',\n",
       " 'communic fargat servic aw ec',\n",
       " 'set child item qtreewidget tobe auto select highlight click parent',\n",
       " 'handl fetch data rout ngrx effect',\n",
       " 'tri get ul fill bottom contain flexbox',\n",
       " 'process list number integ enter via termin without save list',\n",
       " 'highchart remov custom legend tooltip export',\n",
       " 'download generat pdf file php',\n",
       " 'ienumer yield return function excel',\n",
       " 'call function paramet blazor',\n",
       " 'panda creat column deviat mean group',\n",
       " 'defin clean css properti grunt prevent 0 convert 0',\n",
       " 'fs open doe open desir file nodej',\n",
       " 'updat valu without refresh page flask project',\n",
       " 'function design actual call',\n",
       " 'sum field onli specif condit oracl sql',\n",
       " 'test html content react test librari',\n",
       " 'whi nest dictionari cannot append list correct',\n",
       " 'correct polymorph inherit logic',\n",
       " 'convert matrix differ matric r',\n",
       " 'detect android devic default font size css media queri',\n",
       " 'build shift numpi array',\n",
       " 'get percentag tabl group',\n",
       " 'panda extract data df new df base condit',\n",
       " 'vba extract string befor number text',\n",
       " 'cell shade effect opengl es 0 3 0',\n",
       " 'creat multipl new column multipl dictionari',\n",
       " 'handl time differ compon pygam',\n",
       " 'creat object base queri ef core keyless entiti',\n",
       " 'ad two number recurs c',\n",
       " 'diff differ file two differ directori store differ file new directori',\n",
       " 'someon problem find indic pair element array sum k',\n",
       " 'push object valu project mongodb',\n",
       " 'identifi element classnam even though multipl element classnam selenium python',\n",
       " 'asp net core 3 odata cannot select entiti id',\n",
       " 'get referr url spring webflux',\n",
       " 'qt design set style',\n",
       " 'closur syntax without paramet',\n",
       " 'get last object db without read object django',\n",
       " 'django filter object appear anoth tabl',\n",
       " 'ansibl show warn condit statement includ jinja2 templat delimit',\n",
       " 'docker symfoni cach warn fail save key',\n",
       " 'panda seri two column datafram produc seri nan',\n",
       " 'typescript interfac scope work make interfac global',\n",
       " 'vue switch compon',\n",
       " 'merg multipl array map',\n",
       " 'asymptot analysi algorithm problem',\n",
       " 'add item exist list mvc5',\n",
       " 'namespac alter function definit',\n",
       " 'bind imag src array object',\n",
       " 'make function maintain object entri method react',\n",
       " 'panda seri appli',\n",
       " 'python_df order customdata plot',\n",
       " 'count string vector',\n",
       " 'transpos renam datafram loop r',\n",
       " 'defin method trait return default implement self',\n",
       " 'understand inherit work java',\n",
       " 'whi lombok scala case class inaccess java class mix project',\n",
       " 'add string key dictionari',\n",
       " 'multipl ngif combin oper angular',\n",
       " 'regex captur setenc contain word word list python',\n",
       " 'xamarin form preview screen work',\n",
       " 'forc vs open new file type current file open',\n",
       " 'doe pyarrow read_csv handl differ file encod',\n",
       " 'specifi type annot python function return type argument',\n",
       " 'join two csv file temporari common column awk',\n",
       " 'pad element fix width',\n",
       " 'redirect login',\n",
       " 'get current coredata item ondelet',\n",
       " 'geom_lin x axi order appear',\n",
       " 'creat higher order dcg parser prolog',\n",
       " 'convert string string list datafram',\n",
       " 'grade multipl choic cloze question creat exams2moodl',\n",
       " 'whi doe flatten nest iter compil whi type ascript',\n",
       " 'display onli product log author woocommerc admin product list',\n",
       " 'const_defin vs defin rubi',\n",
       " 'avoid parallel class hierarchi python',\n",
       " 'condit incud ansibl role variabl file',\n",
       " 'prevent mutat privat structur return refer',\n",
       " 'move datafram variabl name first row add new variabl name multipl datafram list',\n",
       " 'app crash call callback java get runtim error due detatchthread',\n",
       " 'build tool recommend deno',\n",
       " 'whi c 20 requir restrict atom',\n",
       " 'resend confirm cognito sign process',\n",
       " 'host corenlp server caseless model',\n",
       " 'get number variant numer combin javascript',\n",
       " 'refer system window namespac net core',\n",
       " 'insert valu substr befor last token xslt',\n",
       " 'updat file base branch current successor branch',\n",
       " 'chang aw rds mysql instanc postgr',\n",
       " 'cach net core equival net framework class',\n",
       " 'java 8 stream filter local variabl',\n",
       " 'marker color base string valu plot python',\n",
       " 'perl command line paramet mio flag',\n",
       " 'oracl 18c listen unabl start',\n",
       " 'javascript password generat numer problem',\n",
       " 'extract valu xml column sql server',\n",
       " 'sort v data tabl check checkbox',\n",
       " 'unabl download png file shini',\n",
       " 'mention mysqldialect hibern 5 4 17 mysql 8 0',\n",
       " 'prevent user updat post 24 hour django',\n",
       " 'kera valueerror dimens must equal pass label depend valu custom loss function',\n",
       " 'pip instal doe instal requir depend declar install_requir',\n",
       " 'exact doe timezon option intl datetimeformat',\n",
       " 'glteximage2d upload new imag textur id',\n",
       " 'extract nest microdata xpath',\n",
       " 'dynam chang text base string canva',\n",
       " 'find closest number index vector',\n",
       " 'kotest setup issu unresolv refer',\n",
       " 'select uniqu pair sql server accord third paramet',\n",
       " 'eclips web page editor open jsp html file',\n",
       " 'find data paramet requir request post function specif url',\n",
       " 'make main thread wait thread finish',\n",
       " 'angular 9 redirect queri param provid',\n",
       " 'keep track fault item tpl pipelin thread safe',\n",
       " 'manual implement structur bind c 14',\n",
       " 'whi address',\n",
       " 'possibl show diff commit github',\n",
       " 'svm dualiti set hyperparamet support',\n",
       " 'django __lte automat public post',\n",
       " 'skew top bottom div',\n",
       " 'beauti soup redact phone number parenthes',\n",
       " 'extract valu object similar name tabl r',\n",
       " 'point provid input output operand specifi asm templat',\n",
       " 'add typeguard null undefin defin type valu unknown',\n",
       " 'choos tabl copi word file excel file',\n",
       " 'python label dataset',\n",
       " 'increas decreas font size pyqt5 qlabel fix size',\n",
       " 'namespac option recogn scaffold dbcontext',\n",
       " 'build nest array jqueri',\n",
       " 'decod opus file pcm file libavcodec ffmpeg',\n",
       " 'fastest popul panda datafram base valu anoth panda datafram',\n",
       " 'cannot ng repeat insid direct templat',\n",
       " 'save date type dd mm yyyi format mongodb',\n",
       " 'incorrect remov sprite group enemi right order',\n",
       " 'loop column r',\n",
       " 'automat increment valu search compar match two column googl sheet script',\n",
       " 'refer column name insid dplyr across',\n",
       " 'generat random number within defin rang loop',\n",
       " 'handl except closabl kotlin',\n",
       " 'sort across multipl column panda',\n",
       " 'calcul growth time influenc',\n",
       " 'api basevari getapplicationidtextresourc obsolet replac variantproperti applicationid',\n",
       " 'mysql php select condit array',\n",
       " 'woocommerc admin order page chang discount label',\n",
       " 'good practic shift unsign number index number array',\n",
       " 'part https jenkin io report',\n",
       " 'anchor absolut path parent directori share repo',\n",
       " 'scrape link selenium multipl page',\n",
       " 'obtain commit list tag jgit',\n",
       " 'htaccess rewrit pretti url without affect default page',\n",
       " 'emit onli last request subscrib method',\n",
       " 'class constructor c',\n",
       " 'max valu column distinct row data frame r',\n",
       " 'minimum cart amount specif product categori woocommerc',\n",
       " 'forc intellij idea convert java file space tab',\n",
       " 'mailapp sendemail method get account url bodi messag block',\n",
       " 'sort javascript array first record specif descend order',\n",
       " 'whi assign non static class member static variabl initi',\n",
       " 'julia inexacterror int64',\n",
       " 'find us zip string regular express',\n",
       " 'customis order hive row_numb partit order window function',\n",
       " 'z index swiftui view uikit view',\n",
       " 'read csv file pl sql',\n",
       " 'extract data stdout_lin ansibl match element',\n",
       " 'attempt save pictur c byte array canva bitmap onli ever output exact 16 byte',\n",
       " 'append string item list panda column',\n",
       " 'git ssh rstudio work gui button shell',\n",
       " 'swiftui make network request valu bind chang',\n",
       " 'shadow clip scrollview',\n",
       " 'relat perform std atom std mutex',\n",
       " 'appli condit befor execut variabl nest loop permut',\n",
       " 'svm method deal dimension data forecast',\n",
       " 'filter row n largest valu group',\n",
       " 'rest put ok without key uri instead put key insid bodi',\n",
       " 'slugfield django',\n",
       " 'get wald test specif variabl multivari coxph',\n",
       " 'make get request discord text file get file content',\n",
       " 'ani practic reason check someth destruct befor call destructor',\n",
       " 'git ignor typechang',\n",
       " 'nosuchmethoderror getter uid call null flutter',\n",
       " 'whi doe type variabl length tupl requir ellips list doe',\n",
       " 'whi doe set lead trail anchor doe work width doe',\n",
       " 'swiftui hide back button navig bar appear fraction second',\n",
       " 'combin vector loop',\n",
       " 'make flex cell fill whole space',\n",
       " 'keep figur focus matter',\n",
       " 'trigger process return publish subscrib',\n",
       " 'write binari structur file unexpect result',\n",
       " 'manag 4 dimension array 5 dimension foreach statement php',\n",
       " 'java possibl declar field never becom null',\n",
       " 'print column header next column entri condit match',\n",
       " 'make 3d histogram 2d vector distribut python plot',\n",
       " 'rust type differ mutabl',\n",
       " 'perl combin hash key key contain ident key',\n",
       " 'jest test react nativ cannot import statement outsid modul',\n",
       " 'proper usag std move',\n",
       " 'set default api rout swashbuckl azurefunct',\n",
       " 'send soap header progress 4gl',\n",
       " 'extract last digit string regular express',\n",
       " 'find document biggest number match less number unmatch array',\n",
       " 'count percent barchart ggplot2 r',\n",
       " 'javascript requir attribut work e preventdefault',\n",
       " 'replac entri column parenthesi number includ panda datafram',\n",
       " 'swift valid allow alphabet letter special charact number',\n",
       " 'mongodb findon funtion return null compar id',\n",
       " 'dplyr mutat function creat new variabl condit base current row',\n",
       " 'cython fifo cach function result',\n",
       " 'condit view bind work',\n",
       " 'render panda datafram html flask',\n",
       " 'cannot emb imag email mailkit',\n",
       " 'strang behaviour ternari oper recurs',\n",
       " 'length mmap number byte number page',\n",
       " 'c get time zone deviat',\n",
       " 'resourc interpret stylesheet transfer mime type text x scss',\n",
       " 'woocommerc align pictur product',\n",
       " 'limit width text insid p',\n",
       " 'decod nest json rest api respons array struct',\n",
       " 'read xml file c tinyxml2',\n",
       " 'reactiv extens delay initi',\n",
       " 'python datafram merg two datafram accord condit panda',\n",
       " 'doubl quot xml',\n",
       " 'java lambda heap dump instanc lambda get garbag collect',\n",
       " 'whi overload function two argument type doubl call pass long long',\n",
       " 'mysql nest queri syntax',\n",
       " 'store panda datafram work memori',\n",
       " 'check argument function key correct type type paramet',\n",
       " 'detect dialog set focus various combo control pretranslatemessag',\n",
       " 'buildsrc could get unknown properti object type org gradl api intern artifact dsl depend defaultdependencyhandl',\n",
       " 'avoid master branch bitbucket pipelin',\n",
       " 'sure progress bar stop',\n",
       " 'android sqlite queri return row contain certain text',\n",
       " 'htacess rewrit url redirect certain request subdmian',\n",
       " 'type',\n",
       " 'creat pytest mark failif',\n",
       " 'chang function r chang data frame x',\n",
       " 'list predefin posit list r',\n",
       " 'base10 encrypt string',\n",
       " 'python new functool cached_properti bug limit',\n",
       " 'get querysnapshot doc length empti collect',\n",
       " 'style compon share style compon element',\n",
       " 'insert target tabl new entri column within row sourc tabl',\n",
       " 'purrr',\n",
       " 'escap close squar bracket within regular express charact class',\n",
       " 'return function call info optim solv',\n",
       " 'js array sort work custom logic',\n",
       " 'renam multipl column index',\n",
       " 'jupyt notebook show imag',\n",
       " 'whi symfoni 5 recogn rout configur rout php file',\n",
       " 'list locat execut within ctest test suit',\n",
       " 'easi qt widget draw line shape like tkinter canva',\n",
       " 'cl x64 unsign long outsid insid union error c2099 initi constant error',\n",
       " 'c initi vs assign',\n",
       " 'read orc file s3 panda',\n",
       " 'get maximum valu group',\n",
       " 'configur cdk deploy correct region',\n",
       " 'nx node_connect nx minimum_node_cut arent match',\n",
       " 'load csv data contain date numpi array',\n",
       " 'sort onli select column panda datafram',\n",
       " 'creat tabl name array r alreadi cell valu',\n",
       " 'cach http request onli rxjs oper',\n",
       " 'creat differ column',\n",
       " 'expandedtil boxconstraint forc infinit width',\n",
       " 'cross entropi calcul pytorch tutori',\n",
       " 'angular pipe found name',\n",
       " 'creat directori exist',\n",
       " 'fill miss valu base group averag',\n",
       " 'error r subscript var wrong type quosur formula must numer charact',\n",
       " 'react cover dynam import jest test',\n",
       " 'angular pass respons post request paramet go anoth post request',\n",
       " 'k3s traefik ingress return gateway timeout',\n",
       " 'count uniqu valu column display separ datafram w r uniqu name',\n",
       " 'odd syntax walrus oper inherit',\n",
       " 'larg list datafram extract multipl base name',\n",
       " 'r match odd number repetit',\n",
       " 'whi networkstream readasync time',\n",
       " 'discord py mention user string',\n",
       " 'get error messag control rout handl except errorhandl',\n",
       " 'n x k datafram generat n x 2k datafram pair row',\n",
       " 'shini app delet ui object action button',\n",
       " 'revert git head older commit',\n",
       " 'emot new style get output head everi time compon style dynam updat',\n",
       " 'function r split matrix along margin factor categor vector',\n",
       " 'render element v show correct',\n",
       " 'return type deduct recurs function',\n",
       " 'reusabl simpletyp definit sql server schema collect',\n",
       " 'angular 9 render compon',\n",
       " 'add pysid qgraphicsscen boxlayout',\n",
       " 'compar iter crash program without error custom bubbl sort implement',\n",
       " 'appli convolut stereo audio signal',\n",
       " 'whi second channel receiv data previous channel',\n",
       " 'handl social login exampl flow',\n",
       " 'classifi multipl observ within variabl categoris new column make shorter r',\n",
       " 'seper ca etcd kubernet',\n",
       " 'join tabl multipl condit linq alway show result primari key coalesc null',\n",
       " 'whi extend express request type',\n",
       " 'type requir c concept c 20',\n",
       " 'creat maximum valu group',\n",
       " 'programmat set paypal purchas valu',\n",
       " 'sort array struct char field empti field go last place',\n",
       " 'python access web data regular express work',\n",
       " 'multicolumn model qcomplet',\n",
       " 'increas variabl number',\n",
       " 'typescript export default react functioncompon',\n",
       " 'typescript possibl type array includ everi key enum',\n",
       " 'last object list delet delet effect delet',\n",
       " 'take portion column match portion anoth column panda',\n",
       " 'r indic group valu',\n",
       " 'systemverilog always_comb construct doe infer pure combin logic',\n",
       " 'order match multipl column mutipl condit',\n",
       " 'f best swap letter string',\n",
       " 'aw s3 api list multipart upload timezon timestamp',\n",
       " 'winscp powershel ad directori sftp site upload',\n",
       " 'matlab name colormap custom number element',\n",
       " 'programmat determin pip user instal locat script directori',\n",
       " 'transpos memoryview pure python',\n",
       " 'connect multipl pyqt signal w variabl argument singl slot signal repeat',\n",
       " 'make map object repeat',\n",
       " 'xpath express find either type element anoth',\n",
       " 'factor mani mutat variabl fell swoop',\n",
       " 'creat file assembl dynam specifi file path',\n",
       " 'access collect insid document firestor',\n",
       " 'call deleg method custom uitextfield class',\n",
       " 'react nativ vertic deliveri progress bar',\n",
       " 'emb logo email',\n",
       " 'c rang v3 std span ownership intermedi object return rang view function',\n",
       " 'wait end long process anoth thread',\n",
       " 'doe gas support string liter numer constant like nasm doe',\n",
       " 'tri solv non linear optim gekko get error',\n",
       " 'risc v return except handler compress instruct',\n",
       " 'differ aw aws_proxi cloudform apigateway',\n",
       " 'usag printf fget togeth loop',\n",
       " 'find common email pattern base email address name python',\n",
       " 'function return recordset',\n",
       " 'rubi combin method line',\n",
       " '1d array column ndarray',\n",
       " 'score number factor common r',\n",
       " 'vessel segment retina imag',\n",
       " 'refer problem data tabl copi',\n",
       " 'press enter click button',\n",
       " 'basic react whi variabl local storag reset undefin briefli desir valu',\n",
       " 'fakeasync testwidget',\n",
       " 'doe paramet variabl name mean kotlin',\n",
       " 'panda multilin data schema singl line',\n",
       " 'uuid modul run test jest',\n",
       " 'combin complet suggest match phrase across multipl text field',\n",
       " 'sort list base given sequenc field',\n",
       " 'deduct guid templat templat paramet',\n",
       " 'plot subplot datafram',\n",
       " 'custom whether request 302 okhttpclient',\n",
       " 'hide show base jqueri ui slider valu',\n",
       " 'vba send file binari api via post method',\n",
       " 'templat email bootstrap symfoni mailer',\n",
       " 'collaps 2d scatter plot dot plot',\n",
       " 'hsqldb script file automat get delet dure multipl project execut multithread environ parallel',\n",
       " 'c linq orderbi base condit',\n",
       " 'timer run thread node js',\n",
       " 'merg empti array javscript current array inord remvov current item',\n",
       " 'compar next row repeat criteria met panda',\n",
       " 'php xml xpath foreach return node instead iter',\n",
       " 'c statement work string',\n",
       " 'disabl list view item base string valu',\n",
       " 'django combin two queri group',\n",
       " 'react javascript someon explain whi setstat seem correct updat state dure function',\n",
       " 'chang amount question base user say python',\n",
       " 'sign integ promot unsign long',\n",
       " 'return type annot chang behavior scala mixin twitter effect scala',\n",
       " 'intent createchoos get error call startact outsid activ context requir flag_activity_new_task flag',\n",
       " 'exit loop keystrok',\n",
       " 'ziparchiveentri doe contain definit extracttofil',\n",
       " 'declar element array non nullabl',\n",
       " 'queryselector work queryselectoral',\n",
       " 'react form control model valu map',\n",
       " 'select column base text display multipl textbox',\n",
       " 'async await return valu',\n",
       " 'extract part url string jmeter json respons',\n",
       " 'perl convert ipv4 address hexadecim',\n",
       " 'googl app script share file custom messag',\n",
       " 'detect patch binari imag opencv python',\n",
       " 'react navig header button v5 version 5 x show menu item',\n",
       " 'group data certain criteria',\n",
       " 'possibl get fresh googl slide present data appsscript',\n",
       " 'timedistribut layer predict sequenc dynam length python 3',\n",
       " 'add latest timesstamp googl gaug',\n",
       " 'unabl load groovi class',\n",
       " 'get count data monthwis iso date mongo db',\n",
       " 'sum count month shown last day month',\n",
       " 'increment column group wise',\n",
       " 'js regex return 0',\n",
       " 'pytorch affine_grid theta input',\n",
       " 'ref datatyp pl sql sql statement',\n",
       " 'annot type paramet abstractmethod paramet ani type deriv specif base type',\n",
       " 'panda datafram aggreg valu within block repeat id',\n",
       " 'group datafram column contain specif valu r',\n",
       " 'aggreg perform countbi multipl lookup array singl queri',\n",
       " 'setup coverag go azur devop',\n",
       " 'structur type dotti scala 3 compil fail',\n",
       " 'reduc imag byte size given valu format jpeg',\n",
       " 'copi c style array structur',\n",
       " 'whi definit space befor colon numpi docstr section',\n",
       " 'persist paramet hive hql',\n",
       " 'serv multipl version multipl singl page applic nginx server',\n",
       " 'test jsonp method servic angular',\n",
       " 'bind insid style prism',\n",
       " 'sass declar useeffect jsx',\n",
       " 'keep valu nonexist categori subtract datafram',\n",
       " 'coroutin wait data continu process',\n",
       " 'textformfield display error messag even valu insert form flutter',\n",
       " 'group distinct work differ tabl view',\n",
       " 'space node networkx plot network label',\n",
       " 'linq group multipl column',\n",
       " 'write custom attribut direct react 16 9',\n",
       " 'laravel gate custom respons',\n",
       " 'doe mono flux oper like peek ifpres stream option api',\n",
       " 'regex search directori whose name contain two substr',\n",
       " 'check sequenc column panda datafram',\n",
       " 'remov initi transit d3 js tree',\n",
       " 'possibl implement includ script onli rather nuxt config js nuxtj',\n",
       " 'unabl updat document cloud firestor',\n",
       " 'list delet cloudform stack lambda function',\n",
       " 'doe c compil protect const memori address ani chang',\n",
       " 'wp rig error run npm run build cannot find vendor bin phpcs',\n",
       " 'generat multipl sum within column',\n",
       " 'c new oper differ assign variabl without',\n",
       " 'find indic duplic element array',\n",
       " 'chang specif column name go python',\n",
       " 'fill column base valu column datafram',\n",
       " 'powerpc eabivl gcc doe support e_and2i instruct',\n",
       " ...]"
      ]
     },
     "execution_count": 10,
     "metadata": {},
     "output_type": "execute_result"
    }
   ],
   "source": [
    "[' '.join(map(str, w)) for w in df_stop_stem['Title'].tolist()]"
   ]
  },
  {
   "cell_type": "code",
   "execution_count": 11,
   "metadata": {
    "scrolled": true,
    "tags": []
   },
   "outputs": [
    {
     "ename": "NameError",
     "evalue": "name 'df_stop_stem' is not defined",
     "output_type": "error",
     "traceback": [
      "\u001b[1;31m---------------------------------------------------------------------------\u001b[0m",
      "\u001b[1;31mNameError\u001b[0m                                 Traceback (most recent call last)",
      "\u001b[1;32m<ipython-input-11-15cd3bfcde5c>\u001b[0m in \u001b[0;36m<module>\u001b[1;34m\u001b[0m\n\u001b[0;32m      1\u001b[0m \u001b[0mc\u001b[0m \u001b[1;33m=\u001b[0m \u001b[1;36m211\u001b[0m\u001b[1;33m\u001b[0m\u001b[1;33m\u001b[0m\u001b[0m\n\u001b[1;32m----> 2\u001b[1;33m \u001b[1;33m[\u001b[0m \u001b[1;33m(\u001b[0m\u001b[0mi\u001b[0m\u001b[1;33m,\u001b[0m\u001b[0mj\u001b[0m\u001b[1;33m)\u001b[0m \u001b[1;32mfor\u001b[0m \u001b[0mi\u001b[0m\u001b[1;33m,\u001b[0m\u001b[0mj\u001b[0m \u001b[1;32min\u001b[0m \u001b[0mzip\u001b[0m\u001b[1;33m(\u001b[0m\u001b[0mdf_stop_stem\u001b[0m\u001b[1;33m.\u001b[0m\u001b[0mloc\u001b[0m\u001b[1;33m[\u001b[0m\u001b[0mc\u001b[0m\u001b[1;33m,\u001b[0m\u001b[1;34m'Body'\u001b[0m\u001b[1;33m]\u001b[0m\u001b[1;33m,\u001b[0m\u001b[0mdf_lemma_stop\u001b[0m\u001b[1;33m.\u001b[0m\u001b[0mloc\u001b[0m\u001b[1;33m[\u001b[0m\u001b[0mc\u001b[0m\u001b[1;33m,\u001b[0m\u001b[1;34m'Body'\u001b[0m\u001b[1;33m]\u001b[0m\u001b[1;33m)\u001b[0m \u001b[1;32mif\u001b[0m \u001b[0mi\u001b[0m \u001b[1;33m!=\u001b[0m \u001b[0mj\u001b[0m \u001b[1;33m]\u001b[0m\u001b[1;33m\u001b[0m\u001b[1;33m\u001b[0m\u001b[0m\n\u001b[0m",
      "\u001b[1;31mNameError\u001b[0m: name 'df_stop_stem' is not defined"
     ]
    }
   ],
   "source": [
    "c = 211\n",
    "[ (i,j) for i,j in zip(df_stop_stem.loc[c,'Body'],df_lemma_stop.loc[c,'Body']) if i != j ]"
   ]
  },
  {
   "cell_type": "markdown",
   "metadata": {},
   "source": [
    "# Lemmatization\n",
    "- [Toc](#Ingest)"
   ]
  },
  {
   "cell_type": "code",
   "execution_count": 7,
   "metadata": {},
   "outputs": [],
   "source": [
    "wn = WordNetLemmatizer()\n",
    "tokenizer = RegexpTokenizer(r'\\w+')"
   ]
  },
  {
   "cell_type": "code",
   "execution_count": 8,
   "metadata": {},
   "outputs": [],
   "source": [
    "def get_wordnet_pos(word):\n",
    "    \"\"\"Map POS tag to first character lemmatize() accepts\"\"\"\n",
    "    tag = pos_tag([word])[0][1][0].upper()\n",
    "    tag_dict = {\"J\": wordnet.ADJ,\n",
    "                \"N\": wordnet.NOUN,\n",
    "                \"V\": wordnet.VERB,\n",
    "                \"R\": wordnet.ADV}\n",
    "\n",
    "    return tag_dict.get(tag, wordnet.NOUN)\n",
    "\n",
    "def nltk_lemmatizer_stop(row):\n",
    "#     title_tokens = tokenizer.tokenize(row['Title'].lower())\n",
    "    title_tokens = [ lemma for lemma in \n",
    "            [ wn.lemmatize(w, get_wordnet_pos(w)) for w in tokenizer.tokenize(row['Title'].lower()) ]\n",
    "            if lemma not in nltk_stop_words ] \n",
    "    body_tokens = [ lemma for lemma in \n",
    "            [ wn.lemmatize(w, get_wordnet_pos(w)) for w in tokenizer.tokenize(row['Bs4_Body'].lower()) ]\n",
    "            if lemma not in nltk_stop_words ]\n",
    "    return title_tokens, body_tokens"
   ]
  },
  {
   "cell_type": "code",
   "execution_count": 9,
   "metadata": {},
   "outputs": [
    {
     "data": {
      "text/plain": [
       "['j',\n",
       " 'and',\n",
       " 'cs',\n",
       " 'file',\n",
       " 'extentions',\n",
       " 'be',\n",
       " 'naked',\n",
       " 'leave',\n",
       " 'the',\n",
       " 'wash',\n",
       " 'room']"
      ]
     },
     "execution_count": 9,
     "metadata": {},
     "output_type": "execute_result"
    }
   ],
   "source": [
    "phrase = \"js and css files extentions are naked leaving the washing room\"\n",
    "[ wn.lemmatize(w, get_wordnet_pos(w)) for w in tokenizer.tokenize(phrase.lower()) ]"
   ]
  },
  {
   "cell_type": "code",
   "execution_count": null,
   "metadata": {},
   "outputs": [],
   "source": []
  },
  {
   "cell_type": "code",
   "execution_count": 10,
   "metadata": {},
   "outputs": [],
   "source": [
    "init_lemma = False\n",
    "if init_lemma:\n",
    "    tokenizer = RegexpTokenizer(r'\\w+')\n",
    "#     stemmer = SnowballStemmer(\"english\")\n",
    "    wn = WordNetLemmatizer()\n",
    "\n",
    "    df_lemma_stop = pd.DataFrame()\n",
    "    df_lemma_stop = df_bs4.apply(nltk_lemmatizer_stop, axis=1, result_type='expand')\n",
    "    df_lemma_stop.columns=['Title', 'Body']\n",
    "    df_lemma_stop.to_pickle(data_path + 'nltk_lemma_stop.pkl')\n",
    "\n",
    "    df_lemma_stop_test = pd.DataFrame()\n",
    "    df_lemma_stop_test = df_bs4_test.apply(nltk_lemmatizer_stop, axis=1, result_type='expand')\n",
    "    df_lemma_stop_test.columns=['Title', 'Body']\n",
    "    df_lemma_stop_test.to_pickle(data_path + 'nltk_lemma_stop_test.pkl')\n",
    "else:\n",
    "    df_lemma_stop = pd.read_pickle(data_path + 'nltk_lemma_stop.pkl')\n",
    "    df_lemma_stop_test = pd.read_pickle(data_path + 'nltk_lemma_stop_test.pkl')"
   ]
  },
  {
   "cell_type": "markdown",
   "metadata": {},
   "source": [
    "# Corpus\n",
    "- [Toc](#Ingest)"
   ]
  },
  {
   "cell_type": "code",
   "execution_count": 13,
   "metadata": {},
   "outputs": [],
   "source": [
    "build_corpus=False"
   ]
  },
  {
   "cell_type": "code",
   "execution_count": 14,
   "metadata": {},
   "outputs": [],
   "source": [
    "if build_corpus:\n",
    "    stem_title_corpus = [' '.join(map(str, w)) for w in df_stop_stem['Title'].tolist()]\n",
    "    stem_title_corpus_test = [' '.join(map(str, w)) for w in df_stop_stem_test['Title'].tolist()]\n",
    "    stem_body_corpus = [' '.join(map(str, w)) for w in df_stop_stem['Body'].tolist()]\n",
    "    stem_body_corpus_test = [' '.join(map(str, w)) for w in df_stop_stem_test['Body'].tolist()]\n",
    "    dump(stem_title_corpus, data_path + 'stem_title_corpus.joblib')\n",
    "    dump(stem_title_corpus_test, data_path + 'stem_title_corpus_test.joblib')\n",
    "    dump(stem_body_corpus, data_path + 'stem_body_corpus.joblib')\n",
    "    dump(stem_body_corpus_test, data_path + 'stem_body_corpus_test.joblib')\n",
    "else:\n",
    "    stem_title_corpus = load(data_path + 'stem_title_corpus.joblib')\n",
    "    stem_title_corpus_test =  load(data_path + 'stem_title_corpus_test.joblib')\n",
    "    stem_body_corpus = load(data_path + 'stem_body_corpus.joblib')\n",
    "    stem_body_corpus_test = load(data_path + 'stem_body_corpus_test.joblib')"
   ]
  },
  {
   "cell_type": "code",
   "execution_count": 15,
   "metadata": {},
   "outputs": [],
   "source": [
    "if build_corpus:\n",
    "    lemma_title_corpus = [' '.join(map(str, w)) for w in df_lemma_stop['Title'].tolist()]\n",
    "    lemma_title_corpus_test = [' '.join(map(str, w)) for w in df_lemma_stop_test['Title'].tolist()]\n",
    "    lemma_body_corpus = [' '.join(map(str, w)) for w in df_lemma_stop['Body'].tolist()]\n",
    "    lemma_body_corpus_test = [' '.join(map(str, w)) for w in df_lemma_stop_test['Body'].tolist()]\n",
    "    dump(lemma_title_corpus, data_path + 'lemma_title_corpus.joblib')\n",
    "    dump(lemma_title_corpus_test, data_path + 'lemma_title_corpus_test.joblib')\n",
    "    dump(lemma_body_corpus, data_path + 'lemma_body_corpus.joblib')\n",
    "    dump(lemma_body_corpus_test, data_path + 'lemma_body_corpus_test.joblib')\n",
    "else:\n",
    "    lemma_title_corpus = load(data_path + 'lemma_title_corpus.joblib')\n",
    "    lemma_title_corpus_test = load(data_path + 'lemma_title_corpus_test.joblib')\n",
    "    lemma_body_corpus = load(data_path + 'lemma_body_corpus.joblib')\n",
    "    lemma_body_corpus_test = load(data_path + 'lemma_body_corpus_test.joblib')\n",
    "    "
   ]
  },
  {
   "cell_type": "markdown",
   "metadata": {},
   "source": [
    "# Count vectorizer\n",
    "- [Toc](#Ingest)"
   ]
  },
  {
   "cell_type": "code",
   "execution_count": 16,
   "metadata": {},
   "outputs": [],
   "source": [
    "save_vectorizer = False"
   ]
  },
  {
   "cell_type": "code",
   "execution_count": 17,
   "metadata": {},
   "outputs": [],
   "source": [
    "title_count_vectorizer = CountVectorizer(ngram_range=(1,1), max_features=1000)\n",
    "title_count_vectorizer.fit(lemma_title_corpus)\n",
    "if save_vectorizer:\n",
    "    dump(title_count_vectorizer, model_path + 'lemma_title_count_vectorizer.joblib')"
   ]
  },
  {
   "cell_type": "code",
   "execution_count": 19,
   "metadata": {},
   "outputs": [],
   "source": [
    "body_count_vectorizer = CountVectorizer(ngram_range=(1,1), max_features=5000)\n",
    "body_count_vectorizer.fit(lemma_body_corpus)\n",
    "if save_vectorizer:\n",
    "    dump(body_count_vectorizer, model_path + 'lemma_body_count_vectorizer_11.joblib')"
   ]
  },
  {
   "cell_type": "code",
   "execution_count": 19,
   "metadata": {},
   "outputs": [
    {
     "data": {
      "text/plain": [
       "['..\\\\data\\\\stackoverflow\\\\models\\\\lemma_body_count_vectorizer_12.joblib']"
      ]
     },
     "execution_count": 19,
     "metadata": {},
     "output_type": "execute_result"
    }
   ],
   "source": [
    "body_count_vectorizer2 = CountVectorizer(ngram_range=(1,2), max_features=5000)\n",
    "body_count_vectorizer2.fit(lemma_body_corpus)\n",
    "if save_vectorizer:\n",
    "    dump(body_count_vectorizer2, model_path + 'lemma_body_count_vectorizer_12.joblib')"
   ]
  },
  {
   "cell_type": "code",
   "execution_count": 20,
   "metadata": {},
   "outputs": [
    {
     "data": {
      "text/plain": [
       "['..\\\\data\\\\stackoverflow\\\\models\\\\lemma_body_count_vectorizer_13.joblib']"
      ]
     },
     "execution_count": 20,
     "metadata": {},
     "output_type": "execute_result"
    }
   ],
   "source": [
    "body_count_vectorizer3 = CountVectorizer(ngram_range=(1,3), max_features=5000)\n",
    "body_count_vectorizer3.fit(lemma_body_corpus)\n",
    "if save_vectorizer:\n",
    "    dump(body_count_vectorizer3, model_path + 'lemma_body_count_vectorizer_13.joblib')"
   ]
  },
  {
   "cell_type": "code",
   "execution_count": 24,
   "metadata": {},
   "outputs": [
    {
     "name": "stdout",
     "output_type": "stream",
     "text": [
      "366 1 animation\n",
      "1181 1 custom\n",
      "1398 1 disabled\n",
      "1623 1 error\n",
      "1818 1 fix\n",
      "1825 1 flatten\n",
      "1963 2 get\n",
      "2228 1 improve\n",
      "2577 1 like\n",
      "2682 1 manage\n",
      "2816 1 modal\n",
      "2973 1 note\n",
      "3221 1 performance\n",
      "3691 1 render\n",
      "4181 1 standard\n",
      "4432 2 textfield\n",
      "4440 1 thanks\n",
      "4629 1 unable\n",
      "4794 1 version\n",
      "4803 1 view\n"
     ]
    }
   ],
   "source": [
    "arr = body_count_vectorizer.transform(df_lemma_stop.loc[1500:1500,'Body'].apply(lambda row: ' '.join(row))).toarray()[0]\n",
    "for cpt in np.arange(len(arr)):\n",
    "    if arr[cpt] > .01:\n",
    "        for k in body_count_vectorizer.vocabulary_.keys():\n",
    "            if body_count_vectorizer.vocabulary_[k] == cpt:\n",
    "                print(cpt, arr[cpt], k)"
   ]
  },
  {
   "cell_type": "code",
   "execution_count": null,
   "metadata": {},
   "outputs": [],
   "source": []
  },
  {
   "cell_type": "code",
   "execution_count": null,
   "metadata": {},
   "outputs": [],
   "source": []
  },
  {
   "cell_type": "markdown",
   "metadata": {},
   "source": [
    "# Tfidf vectorizer\n",
    "- [Toc](#Ingest)"
   ]
  },
  {
   "cell_type": "markdown",
   "metadata": {},
   "source": [
    "## Stem vectorization"
   ]
  },
  {
   "cell_type": "code",
   "execution_count": null,
   "metadata": {},
   "outputs": [],
   "source": [
    "save_vectorizer = False"
   ]
  },
  {
   "cell_type": "code",
   "execution_count": 21,
   "metadata": {},
   "outputs": [
    {
     "data": {
      "text/plain": [
       "['..\\\\data\\\\stackoverflow\\\\models\\\\stem_title_vectorizer.joblib']"
      ]
     },
     "execution_count": 21,
     "metadata": {},
     "output_type": "execute_result"
    }
   ],
   "source": [
    "title_vectorizer = TfidfVectorizer(ngram_range=(1,1), max_features=1000)\n",
    "title_vectorizer.fit(stem_title_corpus)\n",
    "if save_vectorizer:\n",
    "    dump(title_vectorizer, model_path + 'stem_title_vectorizer.joblib')"
   ]
  },
  {
   "cell_type": "code",
   "execution_count": 22,
   "metadata": {},
   "outputs": [
    {
     "data": {
      "text/plain": [
       "['..\\\\data\\\\stackoverflow\\\\models\\\\stem_body_vectorizer_11.joblib']"
      ]
     },
     "execution_count": 22,
     "metadata": {},
     "output_type": "execute_result"
    }
   ],
   "source": [
    "body_vectorizer = TfidfVectorizer(ngram_range=(1,1), max_features=5000)\n",
    "body_vectorizer.fit(stem_body_corpus)\n",
    "if save_vectorizer:\n",
    "    dump(body_vectorizer, model_path + 'stem_body_vectorizer_11.joblib')"
   ]
  },
  {
   "cell_type": "code",
   "execution_count": null,
   "metadata": {},
   "outputs": [],
   "source": [
    "body_vectorizer2 = TfidfVectorizer(ngram_range=(1,2), max_features=5000)\n",
    "body_vectorizer2.fit(stem_body_corpus)\n",
    "if save_vectorizer:\n",
    "    dump(body_vectorizer2, model_path + 'stem_body_vectorizer_12.joblib')"
   ]
  },
  {
   "cell_type": "code",
   "execution_count": 24,
   "metadata": {},
   "outputs": [
    {
     "data": {
      "text/plain": [
       "['..\\\\data\\\\stackoverflow\\\\models\\\\stem_body_vectorizer_13.joblib']"
      ]
     },
     "execution_count": 24,
     "metadata": {},
     "output_type": "execute_result"
    }
   ],
   "source": [
    "body_vectorizer3 = TfidfVectorizer(ngram_range=(1,3), max_features=5000)\n",
    "body_vectorizer3.fit(stem_body_corpus)\n",
    "if save_vectorizer:\n",
    "    dump(body_vectorizer3, model_path + 'stem_body_vectorizer_13.joblib')"
   ]
  },
  {
   "cell_type": "code",
   "execution_count": 18,
   "metadata": {},
   "outputs": [
    {
     "data": {
      "text/plain": [
       "'<p>I am having two dataframe like described below</p>\\n\\n<p><strong>Dataframe 1</strong></p>\\n\\n<pre><code>P_ID     P_Name     P_Description   P_Size\\n\\n100      Moto          Mobile         16\\n\\n200      Apple         Mobile         15\\n\\n300      Oppo          Mobile         18\\n</code></pre>\\n\\n<p><strong>Dataframe 2</strong></p>\\n\\n<pre><code>P_ID     List_Code      P_Amount     \\n\\n100      ALPHA           20000         \\n\\n100      BETA            60000  \\n\\n300      GAMMA           15000    \\n</code></pre>\\n\\n<p><strong>Requirement :</strong>\\nNeed to join the two dataframe by P_ID. </p>\\n\\n<p><strong>Information about the dataframe :</strong>\\nIn dataframe 1 P_ID is a primary key and dataframe 2 does\\'t have any primary attribute.  </p>\\n\\n<p><strong>How to join the dataframe</strong>\\nNeed to create new columns in dataframe 1 from the value of dataframe 2 List_Code appends with \"_price\". If dataframe 2 List_Code contains 20 unique values we need to create 20 column in dataframe 1. Then, we have fill the value in newly created column in dataframe 1 from the dataframe 2 P_Amount column based on P_ID if present else fills with zero. After creation of dataframe we need to join the dataframe based on the P_ID. If we add the column with the expected value in dataframe 1 we can join the dataframe. My problem is creating new columns with the expected value. </p>\\n\\n<p>The expected dataframe is shown below  </p>\\n\\n<p><strong>Expected dataframe</strong></p>\\n\\n<pre><code>   P_ID     P_Name     P_Description   P_Size   ALPHA_price   BETA_price    GAMMA_price\\n\\n    100      Moto          Mobile         16       20000       60000           0\\n\\n    200      Apple         Mobile         15         0            0            0\\n\\n    300      Oppo          Mobile         18         0            0           15000\\n</code></pre>\\n\\n<p>Can you please help me to solve the problem, thanks in advance.</p>\\n'"
      ]
     },
     "execution_count": 18,
     "metadata": {},
     "output_type": "execute_result"
    }
   ],
   "source": [
    "df_bs4.loc[75,'Body']"
   ]
  },
  {
   "cell_type": "code",
   "execution_count": 19,
   "metadata": {},
   "outputs": [
    {
     "data": {
      "text/plain": [
       "'I am having two dataframe like described below Dataframe 1 Dataframe 2 Requirement : Need to join the two dataframe by P_ID.  Information about the dataframe : In dataframe 1 P_ID is a primary key and dataframe 2 does\\'t have any primary attribute.   How to join the dataframe Need to create new columns in dataframe 1 from the value of dataframe 2 List_Code appends with \"_price\". If dataframe 2 List_Code contains 20 unique values we need to create 20 column in dataframe 1. Then, we have fill the value in newly created column in dataframe 1 from the dataframe 2 P_Amount column based on P_ID if present else fills with zero. After creation of dataframe we need to join the dataframe based on the P_ID. If we add the column with the expected value in dataframe 1 we can join the dataframe. My problem is creating new columns with the expected value.  The expected dataframe is shown below   Expected dataframe Can you please help me to solve the problem, thanks in advance.'"
      ]
     },
     "execution_count": 19,
     "metadata": {},
     "output_type": "execute_result"
    }
   ],
   "source": [
    "df_bs4.loc[75,'Bs4_Body']"
   ]
  },
  {
   "cell_type": "code",
   "execution_count": 20,
   "metadata": {},
   "outputs": [
    {
     "data": {
      "text/plain": [
       "'P_ID     P_Name     P_Description   P_Size 100      Moto          Mobile         16 200      Apple         Mobile         15 300      Oppo          Mobile         18 P_ID     List_Code      P_Amount      100      ALPHA           20000          100      BETA            60000   300      GAMMA           15000        P_ID     P_Name     P_Description   P_Size   ALPHA_price   BETA_price    GAMMA_price     100      Moto          Mobile         16       20000       60000           0     200      Apple         Mobile         15         0            0            0     300      Oppo          Mobile         18         0            0           15000'"
      ]
     },
     "execution_count": 20,
     "metadata": {},
     "output_type": "execute_result"
    }
   ],
   "source": [
    "df_bs4.loc[75,'Code']"
   ]
  },
  {
   "cell_type": "code",
   "execution_count": 20,
   "metadata": {},
   "outputs": [],
   "source": [
    "df_base = df_bs4[:10][['Title','Bs4_Body']]\n",
    "tokenizer = RegexpTokenizer(r'\\w+')"
   ]
  },
  {
   "cell_type": "markdown",
   "metadata": {},
   "source": [
    "## Lemma vectorization"
   ]
  },
  {
   "cell_type": "code",
   "execution_count": 25,
   "metadata": {},
   "outputs": [
    {
     "data": {
      "text/plain": [
       "['..\\\\data\\\\stackoverflow\\\\models\\\\lemma_title_vectorizer.joblib']"
      ]
     },
     "execution_count": 25,
     "metadata": {},
     "output_type": "execute_result"
    }
   ],
   "source": [
    "\n",
    "title_vectorizer = TfidfVectorizer(ngram_range=(1,1), max_features=1000)\n",
    "title_vectorizer.fit(lemma_title_corpus)\n",
    "dump(title_vectorizer, model_path + 'lemma_title_vectorizer.joblib')"
   ]
  },
  {
   "cell_type": "code",
   "execution_count": 26,
   "metadata": {},
   "outputs": [
    {
     "data": {
      "text/plain": [
       "['..\\\\data\\\\stackoverflow\\\\models\\\\lemma_body_vectorizer_11.joblib']"
      ]
     },
     "execution_count": 26,
     "metadata": {},
     "output_type": "execute_result"
    }
   ],
   "source": [
    "body_vectorizer = TfidfVectorizer(ngram_range=(1,1), max_features=5000)\n",
    "body_vectorizer.fit(lemma_body_corpus)\n",
    "dump(body_vectorizer, model_path + 'lemma_body_vectorizer_11.joblib')"
   ]
  },
  {
   "cell_type": "code",
   "execution_count": null,
   "metadata": {},
   "outputs": [],
   "source": [
    "body_vectorizer2 = TfidfVectorizer(ngram_range=(1,2), max_features=5000)\n",
    "body_vectorizer2.fit(lemma_body_corpus)\n",
    "dump(body_vectorizer2, model_path + 'lemma_body_vectorizer_12.joblib')"
   ]
  },
  {
   "cell_type": "code",
   "execution_count": 28,
   "metadata": {},
   "outputs": [
    {
     "data": {
      "text/plain": [
       "['..\\\\data\\\\stackoverflow\\\\models\\\\lemma_body_vectorizer_13.joblib']"
      ]
     },
     "execution_count": 28,
     "metadata": {},
     "output_type": "execute_result"
    }
   ],
   "source": [
    "body_vectorizer3 = TfidfVectorizer(ngram_range=(1,3), max_features=5000)\n",
    "body_vectorizer3.fit(lemma_body_corpus)\n",
    "dump(body_vectorizer3, model_path + 'lemma_body_vectorizer_13.joblib')"
   ]
  },
  {
   "cell_type": "code",
   "execution_count": 19,
   "metadata": {},
   "outputs": [
    {
     "data": {
      "text/plain": [
       "'<p>I am trying to improve the animation performance of my custom modal view.</p>\\n\\n<p>By using .drawingGroup(), I\\'ve managed to do so, but my TextField got disabled. Like so:</p>\\n\\n<p><a href=\"https://i.stack.imgur.com/gGWJIm.jpg\" rel=\"nofollow noreferrer\"><img src=\"https://i.stack.imgur.com/gGWJIm.jpg\" alt=\"enter image description here\"></a></p>\\n\\n<p>And I get the error: \\'Unable to render flattened version of PlatformViewRepresentableAdaptor&lt;>\\'</p>\\n\\n<p>Is there a way to fix this? </p>\\n\\n<p>Note: I am using a standard TextField.</p>\\n\\n<p>Thanks!</p>\\n'"
      ]
     },
     "execution_count": 19,
     "metadata": {},
     "output_type": "execute_result"
    }
   ],
   "source": [
    "df_bs4.loc[1500,'Body']"
   ]
  },
  {
   "cell_type": "code",
   "execution_count": 20,
   "metadata": {},
   "outputs": [
    {
     "data": {
      "text/plain": [
       "\"I am trying to improve the animation performance of my custom modal view. By using .drawingGroup(), I've managed to do so, but my TextField got disabled. Like so: And I get the error: 'Unable to render flattened version of PlatformViewRepresentableAdaptor<>' Is there a way to fix this?  Note: I am using a standard TextField. Thanks!\""
      ]
     },
     "execution_count": 20,
     "metadata": {},
     "output_type": "execute_result"
    }
   ],
   "source": [
    "df_bs4.loc[1500,'Bs4_Body']"
   ]
  },
  {
   "cell_type": "code",
   "execution_count": 18,
   "metadata": {},
   "outputs": [
    {
     "data": {
      "text/plain": [
       "'tri improv anim perform custom modal view drawinggroup manag textfield got disabl like get error unabl render flatten version platformviewrepresentableadaptor fix note standard textfield thank'"
      ]
     },
     "execution_count": 18,
     "metadata": {},
     "output_type": "execute_result"
    }
   ],
   "source": [
    "' '.join(df_stop_stem.loc[1500,'Body'])"
   ]
  },
  {
   "cell_type": "code",
   "execution_count": 21,
   "metadata": {},
   "outputs": [
    {
     "data": {
      "text/plain": [
       "'improve animation performance custom modal view drawinggroup manage textfield get disabled like get error unable render flatten version platformviewrepresentableadaptor fix note standard textfield thanks'"
      ]
     },
     "execution_count": 21,
     "metadata": {},
     "output_type": "execute_result"
    }
   ],
   "source": [
    "' '.join(df_lemma_stop.loc[1500,'Body'])"
   ]
  },
  {
   "cell_type": "code",
   "execution_count": 28,
   "metadata": {},
   "outputs": [
    {
     "data": {
      "text/plain": [
       "array([62187654, 'SwiftUI - Using drawingGroup() disables TextField',\n",
       "       '<p>I am trying to improve the animation performance of my custom modal view.</p>\\n\\n<p>By using .drawingGroup(), I\\'ve managed to do so, but my TextField got disabled. Like so:</p>\\n\\n<p><a href=\"https://i.stack.imgur.com/gGWJIm.jpg\" rel=\"nofollow noreferrer\"><img src=\"https://i.stack.imgur.com/gGWJIm.jpg\" alt=\"enter image description here\"></a></p>\\n\\n<p>And I get the error: \\'Unable to render flattened version of PlatformViewRepresentableAdaptor&lt;>\\'</p>\\n\\n<p>Is there a way to fix this? </p>\\n\\n<p>Note: I am using a standard TextField.</p>\\n\\n<p>Thanks!</p>\\n',\n",
       "       '<ios><swift><swiftui><metal>', '2020-06-04 05:48:15',\n",
       "       \"I am trying to improve the animation performance of my custom modal view. By using .drawingGroup(), I've managed to do so, but my TextField got disabled. Like so: And I get the error: 'Unable to render flattened version of PlatformViewRepresentableAdaptor<>' Is there a way to fix this?  Note: I am using a standard TextField. Thanks!\",\n",
       "       '', list(['ios', 'swift', 'swiftui'])], dtype=object)"
      ]
     },
     "execution_count": 28,
     "metadata": {},
     "output_type": "execute_result"
    }
   ],
   "source": [
    "df_bs4.loc[1500].values"
   ]
  },
  {
   "cell_type": "code",
   "execution_count": 22,
   "metadata": {},
   "outputs": [
    {
     "data": {
      "text/plain": [
       "array(['SwiftUI - Using drawingGroup() disables TextField',\n",
       "       \"I am trying to improve the animation performance of my custom modal view. By using .drawingGroup(), I've managed to do so, but my TextField got disabled. Like so: And I get the error: 'Unable to render flattened version of PlatformViewRepresentableAdaptor<>' Is there a way to fix this?  Note: I am using a standard TextField. Thanks!\",\n",
       "       list(['ios', 'swift', 'swiftui'])], dtype=object)"
      ]
     },
     "execution_count": 22,
     "metadata": {},
     "output_type": "execute_result"
    }
   ],
   "source": [
    "df_bs4.loc[1500][['Title','Bs4_Body','Bs4_Tags']].values"
   ]
  },
  {
   "cell_type": "code",
   "execution_count": 26,
   "metadata": {},
   "outputs": [
    {
     "data": {
      "text/plain": [
       "array([list(['swiftui', 'drawinggroup', 'disabl', 'textfield']),\n",
       "       list(['tri', 'improv', 'anim', 'perform', 'custom', 'modal', 'view', 'drawinggroup', 'manag', 'textfield', 'got', 'disabl', 'like', 'get', 'error', 'unabl', 'render', 'flatten', 'version', 'platformviewrepresentableadaptor', 'fix', 'note', 'standard', 'textfield', 'thank'])],\n",
       "      dtype=object)"
      ]
     },
     "execution_count": 26,
     "metadata": {},
     "output_type": "execute_result"
    }
   ],
   "source": [
    "df_stop_stem.loc[1500].values"
   ]
  },
  {
   "cell_type": "code",
   "execution_count": 25,
   "metadata": {},
   "outputs": [
    {
     "data": {
      "text/plain": [
       "array([list(['swiftui', 'drawinggroup', 'disables', 'textfield']),\n",
       "       list(['improve', 'animation', 'performance', 'custom', 'modal', 'view', 'drawinggroup', 'manage', 'textfield', 'get', 'disabled', 'like', 'get', 'error', 'unable', 'render', 'flatten', 'version', 'platformviewrepresentableadaptor', 'fix', 'note', 'standard', 'textfield', 'thanks'])],\n",
       "      dtype=object)"
      ]
     },
     "execution_count": 25,
     "metadata": {},
     "output_type": "execute_result"
    }
   ],
   "source": [
    "df_lemma_stop.loc[1500].values"
   ]
  },
  {
   "cell_type": "code",
   "execution_count": 61,
   "metadata": {},
   "outputs": [],
   "source": [
    "body_vectorizer2 = load(model_path + 'lemma_body_vectorizer_12.joblib')"
   ]
  },
  {
   "cell_type": "code",
   "execution_count": 65,
   "metadata": {},
   "outputs": [
    {
     "name": "stdout",
     "output_type": "stream",
     "text": [
      "298 0.2247638118007204 animation\n",
      "1090 0.16772431423318251 custom\n",
      "1303 0.2461088308155791 disabled\n",
      "1469 0.09669143036839227 error\n",
      "1776 0.14742098783593938 fix\n",
      "1784 0.26438561991765835 flatten\n",
      "1919 0.14708056130015343 get\n",
      "1936 0.13432187054233213 get error\n",
      "2217 0.21706951414720943 improve\n",
      "2502 0.07138535086166545 like\n",
      "2533 0.18274425691290203 like get\n",
      "2728 0.1836641143424463 manage\n",
      "2854 0.24960412964013937 modal\n",
      "3002 0.15404651255352478 note\n",
      "3233 0.19808481334881126 performance\n",
      "3643 0.18046725103997097 render\n",
      "4146 0.18575552857328104 standard\n",
      "4383 0.559684803779218 textfield\n",
      "4392 0.11562409550372246 thanks\n",
      "4578 0.19011867181300837 unable\n",
      "4775 0.14615244843873879 version\n",
      "4784 0.15593227619314137 view\n"
     ]
    }
   ],
   "source": [
    "arr = body_vectorizer2.transform(df_lemma_stop.loc[1500:1500,'Body'].apply(lambda row: ' '.join(row))).toarray()[0]\n",
    "for cpt in np.arange(len(arr)):\n",
    "    if arr[cpt] > .01:\n",
    "        for k in body_vectorizer2.vocabulary_.keys():\n",
    "            if body_vectorizer2.vocabulary_[k] == cpt:\n",
    "                print(cpt, arr[cpt], k)"
   ]
  },
  {
   "cell_type": "code",
   "execution_count": null,
   "metadata": {},
   "outputs": [],
   "source": []
  }
 ],
 "metadata": {
  "kernelspec": {
   "display_name": "Python 3",
   "language": "python",
   "name": "python3"
  },
  "language_info": {
   "codemirror_mode": {
    "name": "ipython",
    "version": 3
   },
   "file_extension": ".py",
   "mimetype": "text/x-python",
   "name": "python",
   "nbconvert_exporter": "python",
   "pygments_lexer": "ipython3",
   "version": "3.7.9"
  }
 },
 "nbformat": 4,
 "nbformat_minor": 4
}
